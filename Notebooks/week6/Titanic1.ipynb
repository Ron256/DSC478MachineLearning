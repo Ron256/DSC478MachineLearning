{
 "cells": [
  {
   "cell_type": "markdown",
   "metadata": {},
   "source": [
    "## Techniques for Feature Selection and Parameter Optimization"
   ]
  },
  {
   "cell_type": "code",
   "execution_count": 1,
   "metadata": {},
   "outputs": [
    {
     "name": "stdout",
     "output_type": "stream",
     "text": [
      "Populating the interactive namespace from numpy and matplotlib\n"
     ]
    }
   ],
   "source": [
    "%pylab inline"
   ]
  },
  {
   "cell_type": "code",
   "execution_count": 2,
   "metadata": {},
   "outputs": [],
   "source": [
    "import pandas as pd\n",
    "import numpy as np\n",
    "import matplotlib.pyplot as plt"
   ]
  },
  {
   "cell_type": "markdown",
   "metadata": {},
   "source": [
    "#### Import titanic data using pandas"
   ]
  },
  {
   "cell_type": "markdown",
   "metadata": {},
   "source": [
    "Original unmodified Titanic data is available at <a href=\"http://lib.stat.cmu.edu/S/Harrell/data/ascii/titanic.txt\">CMU StatLib</a>."
   ]
  },
  {
   "cell_type": "markdown",
   "metadata": {},
   "source": [
    "### We are trying to predict who survived and who didn't survive based on where they embarked, how much they paid, which class where they in,etc. "
   ]
  },
  {
   "cell_type": "code",
   "execution_count": 3,
   "metadata": {},
   "outputs": [
    {
     "data": {
      "text/html": [
       "<div>\n",
       "<style scoped>\n",
       "    .dataframe tbody tr th:only-of-type {\n",
       "        vertical-align: middle;\n",
       "    }\n",
       "\n",
       "    .dataframe tbody tr th {\n",
       "        vertical-align: top;\n",
       "    }\n",
       "\n",
       "    .dataframe thead th {\n",
       "        text-align: right;\n",
       "    }\n",
       "</style>\n",
       "<table border=\"1\" class=\"dataframe\">\n",
       "  <thead>\n",
       "    <tr style=\"text-align: right;\">\n",
       "      <th></th>\n",
       "      <th>pid</th>\n",
       "      <th>pclass</th>\n",
       "      <th>survived</th>\n",
       "      <th>sex</th>\n",
       "      <th>age</th>\n",
       "      <th>sibsp</th>\n",
       "      <th>parch</th>\n",
       "      <th>fare</th>\n",
       "      <th>embarked</th>\n",
       "    </tr>\n",
       "  </thead>\n",
       "  <tbody>\n",
       "    <tr>\n",
       "      <th>0</th>\n",
       "      <td>1</td>\n",
       "      <td>1st</td>\n",
       "      <td>1</td>\n",
       "      <td>female</td>\n",
       "      <td>29.0</td>\n",
       "      <td>0</td>\n",
       "      <td>0</td>\n",
       "      <td>211.337494</td>\n",
       "      <td>Southampton</td>\n",
       "    </tr>\n",
       "    <tr>\n",
       "      <th>1</th>\n",
       "      <td>2</td>\n",
       "      <td>1st</td>\n",
       "      <td>1</td>\n",
       "      <td>male</td>\n",
       "      <td>NaN</td>\n",
       "      <td>1</td>\n",
       "      <td>2</td>\n",
       "      <td>151.550003</td>\n",
       "      <td>Southampton</td>\n",
       "    </tr>\n",
       "    <tr>\n",
       "      <th>2</th>\n",
       "      <td>3</td>\n",
       "      <td>1st</td>\n",
       "      <td>0</td>\n",
       "      <td>female</td>\n",
       "      <td>2.0</td>\n",
       "      <td>1</td>\n",
       "      <td>2</td>\n",
       "      <td>151.550003</td>\n",
       "      <td>Southampton</td>\n",
       "    </tr>\n",
       "    <tr>\n",
       "      <th>3</th>\n",
       "      <td>4</td>\n",
       "      <td>1st</td>\n",
       "      <td>0</td>\n",
       "      <td>male</td>\n",
       "      <td>30.0</td>\n",
       "      <td>1</td>\n",
       "      <td>2</td>\n",
       "      <td>151.550003</td>\n",
       "      <td>Southampton</td>\n",
       "    </tr>\n",
       "    <tr>\n",
       "      <th>4</th>\n",
       "      <td>5</td>\n",
       "      <td>1st</td>\n",
       "      <td>0</td>\n",
       "      <td>female</td>\n",
       "      <td>25.0</td>\n",
       "      <td>1</td>\n",
       "      <td>2</td>\n",
       "      <td>151.550003</td>\n",
       "      <td>Southampton</td>\n",
       "    </tr>\n",
       "    <tr>\n",
       "      <th>5</th>\n",
       "      <td>6</td>\n",
       "      <td>1st</td>\n",
       "      <td>1</td>\n",
       "      <td>male</td>\n",
       "      <td>48.0</td>\n",
       "      <td>0</td>\n",
       "      <td>0</td>\n",
       "      <td>26.549999</td>\n",
       "      <td>Southampton</td>\n",
       "    </tr>\n",
       "    <tr>\n",
       "      <th>6</th>\n",
       "      <td>7</td>\n",
       "      <td>1st</td>\n",
       "      <td>1</td>\n",
       "      <td>female</td>\n",
       "      <td>63.0</td>\n",
       "      <td>1</td>\n",
       "      <td>0</td>\n",
       "      <td>77.958298</td>\n",
       "      <td>Southampton</td>\n",
       "    </tr>\n",
       "    <tr>\n",
       "      <th>7</th>\n",
       "      <td>8</td>\n",
       "      <td>1st</td>\n",
       "      <td>0</td>\n",
       "      <td>male</td>\n",
       "      <td>39.0</td>\n",
       "      <td>0</td>\n",
       "      <td>0</td>\n",
       "      <td>0.000000</td>\n",
       "      <td>Southampton</td>\n",
       "    </tr>\n",
       "    <tr>\n",
       "      <th>8</th>\n",
       "      <td>9</td>\n",
       "      <td>1st</td>\n",
       "      <td>1</td>\n",
       "      <td>female</td>\n",
       "      <td>53.0</td>\n",
       "      <td>2</td>\n",
       "      <td>0</td>\n",
       "      <td>51.479199</td>\n",
       "      <td>Southampton</td>\n",
       "    </tr>\n",
       "    <tr>\n",
       "      <th>9</th>\n",
       "      <td>10</td>\n",
       "      <td>1st</td>\n",
       "      <td>0</td>\n",
       "      <td>male</td>\n",
       "      <td>71.0</td>\n",
       "      <td>0</td>\n",
       "      <td>0</td>\n",
       "      <td>49.504200</td>\n",
       "      <td>Cherbourg</td>\n",
       "    </tr>\n",
       "  </tbody>\n",
       "</table>\n",
       "</div>"
      ],
      "text/plain": [
       "   pid pclass  survived     sex   age  sibsp  parch        fare     embarked\n",
       "0    1    1st         1  female  29.0      0      0  211.337494  Southampton\n",
       "1    2    1st         1    male   NaN      1      2  151.550003  Southampton\n",
       "2    3    1st         0  female   2.0      1      2  151.550003  Southampton\n",
       "3    4    1st         0    male  30.0      1      2  151.550003  Southampton\n",
       "4    5    1st         0  female  25.0      1      2  151.550003  Southampton\n",
       "5    6    1st         1    male  48.0      0      0   26.549999  Southampton\n",
       "6    7    1st         1  female  63.0      1      0   77.958298  Southampton\n",
       "7    8    1st         0    male  39.0      0      0    0.000000  Southampton\n",
       "8    9    1st         1  female  53.0      2      0   51.479199  Southampton\n",
       "9   10    1st         0    male  71.0      0      0   49.504200    Cherbourg"
      ]
     },
     "execution_count": 3,
     "metadata": {},
     "output_type": "execute_result"
    }
   ],
   "source": [
    "url = \"../../data/titanic-trimmed.csv\"\n",
    "titanic = pd.read_csv(url)\n",
    "titanic.head(10)"
   ]
  },
  {
   "cell_type": "code",
   "execution_count": 4,
   "metadata": {},
   "outputs": [
    {
     "data": {
      "text/html": [
       "<div>\n",
       "<style scoped>\n",
       "    .dataframe tbody tr th:only-of-type {\n",
       "        vertical-align: middle;\n",
       "    }\n",
       "\n",
       "    .dataframe tbody tr th {\n",
       "        vertical-align: top;\n",
       "    }\n",
       "\n",
       "    .dataframe thead th {\n",
       "        text-align: right;\n",
       "    }\n",
       "</style>\n",
       "<table border=\"1\" class=\"dataframe\">\n",
       "  <thead>\n",
       "    <tr style=\"text-align: right;\">\n",
       "      <th></th>\n",
       "      <th>pid</th>\n",
       "      <th>pclass</th>\n",
       "      <th>survived</th>\n",
       "      <th>sex</th>\n",
       "      <th>age</th>\n",
       "      <th>sibsp</th>\n",
       "      <th>parch</th>\n",
       "      <th>fare</th>\n",
       "      <th>embarked</th>\n",
       "    </tr>\n",
       "  </thead>\n",
       "  <tbody>\n",
       "    <tr>\n",
       "      <th>count</th>\n",
       "      <td>1309.000000</td>\n",
       "      <td>1309</td>\n",
       "      <td>1309.000000</td>\n",
       "      <td>1309</td>\n",
       "      <td>1045.000000</td>\n",
       "      <td>1309.000000</td>\n",
       "      <td>1309.000000</td>\n",
       "      <td>1308.000000</td>\n",
       "      <td>1307</td>\n",
       "    </tr>\n",
       "    <tr>\n",
       "      <th>unique</th>\n",
       "      <td>NaN</td>\n",
       "      <td>3</td>\n",
       "      <td>NaN</td>\n",
       "      <td>2</td>\n",
       "      <td>NaN</td>\n",
       "      <td>NaN</td>\n",
       "      <td>NaN</td>\n",
       "      <td>NaN</td>\n",
       "      <td>3</td>\n",
       "    </tr>\n",
       "    <tr>\n",
       "      <th>top</th>\n",
       "      <td>NaN</td>\n",
       "      <td>3rd</td>\n",
       "      <td>NaN</td>\n",
       "      <td>male</td>\n",
       "      <td>NaN</td>\n",
       "      <td>NaN</td>\n",
       "      <td>NaN</td>\n",
       "      <td>NaN</td>\n",
       "      <td>Southampton</td>\n",
       "    </tr>\n",
       "    <tr>\n",
       "      <th>freq</th>\n",
       "      <td>NaN</td>\n",
       "      <td>709</td>\n",
       "      <td>NaN</td>\n",
       "      <td>843</td>\n",
       "      <td>NaN</td>\n",
       "      <td>NaN</td>\n",
       "      <td>NaN</td>\n",
       "      <td>NaN</td>\n",
       "      <td>914</td>\n",
       "    </tr>\n",
       "    <tr>\n",
       "      <th>mean</th>\n",
       "      <td>655.000000</td>\n",
       "      <td>NaN</td>\n",
       "      <td>0.381971</td>\n",
       "      <td>NaN</td>\n",
       "      <td>29.908852</td>\n",
       "      <td>0.498854</td>\n",
       "      <td>0.385027</td>\n",
       "      <td>33.295479</td>\n",
       "      <td>NaN</td>\n",
       "    </tr>\n",
       "    <tr>\n",
       "      <th>std</th>\n",
       "      <td>378.020061</td>\n",
       "      <td>NaN</td>\n",
       "      <td>0.486055</td>\n",
       "      <td>NaN</td>\n",
       "      <td>14.392485</td>\n",
       "      <td>1.041658</td>\n",
       "      <td>0.865560</td>\n",
       "      <td>51.758669</td>\n",
       "      <td>NaN</td>\n",
       "    </tr>\n",
       "    <tr>\n",
       "      <th>min</th>\n",
       "      <td>1.000000</td>\n",
       "      <td>NaN</td>\n",
       "      <td>0.000000</td>\n",
       "      <td>NaN</td>\n",
       "      <td>0.166700</td>\n",
       "      <td>0.000000</td>\n",
       "      <td>0.000000</td>\n",
       "      <td>0.000000</td>\n",
       "      <td>NaN</td>\n",
       "    </tr>\n",
       "    <tr>\n",
       "      <th>25%</th>\n",
       "      <td>328.000000</td>\n",
       "      <td>NaN</td>\n",
       "      <td>0.000000</td>\n",
       "      <td>NaN</td>\n",
       "      <td>21.000000</td>\n",
       "      <td>0.000000</td>\n",
       "      <td>0.000000</td>\n",
       "      <td>7.895800</td>\n",
       "      <td>NaN</td>\n",
       "    </tr>\n",
       "    <tr>\n",
       "      <th>50%</th>\n",
       "      <td>655.000000</td>\n",
       "      <td>NaN</td>\n",
       "      <td>0.000000</td>\n",
       "      <td>NaN</td>\n",
       "      <td>28.000000</td>\n",
       "      <td>0.000000</td>\n",
       "      <td>0.000000</td>\n",
       "      <td>14.454200</td>\n",
       "      <td>NaN</td>\n",
       "    </tr>\n",
       "    <tr>\n",
       "      <th>75%</th>\n",
       "      <td>982.000000</td>\n",
       "      <td>NaN</td>\n",
       "      <td>1.000000</td>\n",
       "      <td>NaN</td>\n",
       "      <td>39.000000</td>\n",
       "      <td>1.000000</td>\n",
       "      <td>0.000000</td>\n",
       "      <td>31.275000</td>\n",
       "      <td>NaN</td>\n",
       "    </tr>\n",
       "    <tr>\n",
       "      <th>max</th>\n",
       "      <td>1309.000000</td>\n",
       "      <td>NaN</td>\n",
       "      <td>1.000000</td>\n",
       "      <td>NaN</td>\n",
       "      <td>80.000000</td>\n",
       "      <td>8.000000</td>\n",
       "      <td>9.000000</td>\n",
       "      <td>512.329224</td>\n",
       "      <td>NaN</td>\n",
       "    </tr>\n",
       "  </tbody>\n",
       "</table>\n",
       "</div>"
      ],
      "text/plain": [
       "                pid pclass     survived   sex          age        sibsp  \\\n",
       "count   1309.000000   1309  1309.000000  1309  1045.000000  1309.000000   \n",
       "unique          NaN      3          NaN     2          NaN          NaN   \n",
       "top             NaN    3rd          NaN  male          NaN          NaN   \n",
       "freq            NaN    709          NaN   843          NaN          NaN   \n",
       "mean     655.000000    NaN     0.381971   NaN    29.908852     0.498854   \n",
       "std      378.020061    NaN     0.486055   NaN    14.392485     1.041658   \n",
       "min        1.000000    NaN     0.000000   NaN     0.166700     0.000000   \n",
       "25%      328.000000    NaN     0.000000   NaN    21.000000     0.000000   \n",
       "50%      655.000000    NaN     0.000000   NaN    28.000000     0.000000   \n",
       "75%      982.000000    NaN     1.000000   NaN    39.000000     1.000000   \n",
       "max     1309.000000    NaN     1.000000   NaN    80.000000     8.000000   \n",
       "\n",
       "              parch         fare     embarked  \n",
       "count   1309.000000  1308.000000         1307  \n",
       "unique          NaN          NaN            3  \n",
       "top             NaN          NaN  Southampton  \n",
       "freq            NaN          NaN          914  \n",
       "mean       0.385027    33.295479          NaN  \n",
       "std        0.865560    51.758669          NaN  \n",
       "min        0.000000     0.000000          NaN  \n",
       "25%        0.000000     7.895800          NaN  \n",
       "50%        0.000000    14.454200          NaN  \n",
       "75%        0.000000    31.275000          NaN  \n",
       "max        9.000000   512.329224          NaN  "
      ]
     },
     "execution_count": 4,
     "metadata": {},
     "output_type": "execute_result"
    }
   ],
   "source": [
    "titanic.describe(include=\"all\")"
   ]
  },
  {
   "cell_type": "markdown",
   "metadata": {},
   "source": [
    "#### Handling missing variables"
   ]
  },
  {
   "cell_type": "code",
   "execution_count": 5,
   "metadata": {},
   "outputs": [
    {
     "data": {
      "text/plain": [
       "(264, 9)"
      ]
     },
     "execution_count": 5,
     "metadata": {},
     "output_type": "execute_result"
    }
   ],
   "source": [
    "titanic[titanic.age.isnull()].shape # looking for values where age is null."
   ]
  },
  {
   "cell_type": "code",
   "execution_count": 6,
   "metadata": {},
   "outputs": [],
   "source": [
    "# we need to infer age by looking at the mean and replacing the missing value with the mean age\n",
    "age_mean = titanic.age.mean()\n",
    "titanic.age.fillna(age_mean, axis=0, inplace=True)\n",
    "titanic.dropna(axis=0, inplace=True) # drop any categorical rows that are missing. "
   ]
  },
  {
   "cell_type": "code",
   "execution_count": 7,
   "metadata": {},
   "outputs": [
    {
     "data": {
      "text/plain": [
       "(1306, 9)"
      ]
     },
     "execution_count": 7,
     "metadata": {},
     "output_type": "execute_result"
    }
   ],
   "source": [
    "titanic.shape"
   ]
  },
  {
   "cell_type": "code",
   "execution_count": 8,
   "metadata": {},
   "outputs": [
    {
     "data": {
      "text/html": [
       "<div>\n",
       "<style scoped>\n",
       "    .dataframe tbody tr th:only-of-type {\n",
       "        vertical-align: middle;\n",
       "    }\n",
       "\n",
       "    .dataframe tbody tr th {\n",
       "        vertical-align: top;\n",
       "    }\n",
       "\n",
       "    .dataframe thead th {\n",
       "        text-align: right;\n",
       "    }\n",
       "</style>\n",
       "<table border=\"1\" class=\"dataframe\">\n",
       "  <thead>\n",
       "    <tr style=\"text-align: right;\">\n",
       "      <th></th>\n",
       "      <th>pclass</th>\n",
       "      <th>survived</th>\n",
       "      <th>sex</th>\n",
       "      <th>age</th>\n",
       "      <th>sibsp</th>\n",
       "      <th>parch</th>\n",
       "      <th>fare</th>\n",
       "      <th>embarked</th>\n",
       "    </tr>\n",
       "    <tr>\n",
       "      <th>pid</th>\n",
       "      <th></th>\n",
       "      <th></th>\n",
       "      <th></th>\n",
       "      <th></th>\n",
       "      <th></th>\n",
       "      <th></th>\n",
       "      <th></th>\n",
       "      <th></th>\n",
       "    </tr>\n",
       "  </thead>\n",
       "  <tbody>\n",
       "    <tr>\n",
       "      <th>1</th>\n",
       "      <td>1st</td>\n",
       "      <td>1</td>\n",
       "      <td>female</td>\n",
       "      <td>29.000000</td>\n",
       "      <td>0</td>\n",
       "      <td>0</td>\n",
       "      <td>211.337494</td>\n",
       "      <td>Southampton</td>\n",
       "    </tr>\n",
       "    <tr>\n",
       "      <th>2</th>\n",
       "      <td>1st</td>\n",
       "      <td>1</td>\n",
       "      <td>male</td>\n",
       "      <td>29.908852</td>\n",
       "      <td>1</td>\n",
       "      <td>2</td>\n",
       "      <td>151.550003</td>\n",
       "      <td>Southampton</td>\n",
       "    </tr>\n",
       "    <tr>\n",
       "      <th>3</th>\n",
       "      <td>1st</td>\n",
       "      <td>0</td>\n",
       "      <td>female</td>\n",
       "      <td>2.000000</td>\n",
       "      <td>1</td>\n",
       "      <td>2</td>\n",
       "      <td>151.550003</td>\n",
       "      <td>Southampton</td>\n",
       "    </tr>\n",
       "    <tr>\n",
       "      <th>4</th>\n",
       "      <td>1st</td>\n",
       "      <td>0</td>\n",
       "      <td>male</td>\n",
       "      <td>30.000000</td>\n",
       "      <td>1</td>\n",
       "      <td>2</td>\n",
       "      <td>151.550003</td>\n",
       "      <td>Southampton</td>\n",
       "    </tr>\n",
       "    <tr>\n",
       "      <th>5</th>\n",
       "      <td>1st</td>\n",
       "      <td>0</td>\n",
       "      <td>female</td>\n",
       "      <td>25.000000</td>\n",
       "      <td>1</td>\n",
       "      <td>2</td>\n",
       "      <td>151.550003</td>\n",
       "      <td>Southampton</td>\n",
       "    </tr>\n",
       "  </tbody>\n",
       "</table>\n",
       "</div>"
      ],
      "text/plain": [
       "    pclass  survived     sex        age  sibsp  parch        fare     embarked\n",
       "pid                                                                           \n",
       "1      1st         1  female  29.000000      0      0  211.337494  Southampton\n",
       "2      1st         1    male  29.908852      1      2  151.550003  Southampton\n",
       "3      1st         0  female   2.000000      1      2  151.550003  Southampton\n",
       "4      1st         0    male  30.000000      1      2  151.550003  Southampton\n",
       "5      1st         0  female  25.000000      1      2  151.550003  Southampton"
      ]
     },
     "execution_count": 8,
     "metadata": {},
     "output_type": "execute_result"
    }
   ],
   "source": [
    "titanic.set_index('pid', drop=True, inplace=True)\n",
    "titanic.head()"
   ]
  },
  {
   "cell_type": "markdown",
   "metadata": {},
   "source": [
    "#### Creating dummy variables for categorical features"
   ]
  },
  {
   "cell_type": "code",
   "execution_count": 9,
   "metadata": {},
   "outputs": [
    {
     "data": {
      "text/html": [
       "<div>\n",
       "<style scoped>\n",
       "    .dataframe tbody tr th:only-of-type {\n",
       "        vertical-align: middle;\n",
       "    }\n",
       "\n",
       "    .dataframe tbody tr th {\n",
       "        vertical-align: top;\n",
       "    }\n",
       "\n",
       "    .dataframe thead th {\n",
       "        text-align: right;\n",
       "    }\n",
       "</style>\n",
       "<table border=\"1\" class=\"dataframe\">\n",
       "  <thead>\n",
       "    <tr style=\"text-align: right;\">\n",
       "      <th></th>\n",
       "      <th>survived</th>\n",
       "      <th>age</th>\n",
       "      <th>sibsp</th>\n",
       "      <th>parch</th>\n",
       "      <th>fare</th>\n",
       "      <th>pclass_1st</th>\n",
       "      <th>pclass_2nd</th>\n",
       "      <th>pclass_3rd</th>\n",
       "      <th>sex_female</th>\n",
       "      <th>sex_male</th>\n",
       "      <th>embarked_Cherbourg</th>\n",
       "      <th>embarked_Queenstown</th>\n",
       "      <th>embarked_Southampton</th>\n",
       "    </tr>\n",
       "    <tr>\n",
       "      <th>pid</th>\n",
       "      <th></th>\n",
       "      <th></th>\n",
       "      <th></th>\n",
       "      <th></th>\n",
       "      <th></th>\n",
       "      <th></th>\n",
       "      <th></th>\n",
       "      <th></th>\n",
       "      <th></th>\n",
       "      <th></th>\n",
       "      <th></th>\n",
       "      <th></th>\n",
       "      <th></th>\n",
       "    </tr>\n",
       "  </thead>\n",
       "  <tbody>\n",
       "    <tr>\n",
       "      <th>1</th>\n",
       "      <td>1</td>\n",
       "      <td>29.000000</td>\n",
       "      <td>0</td>\n",
       "      <td>0</td>\n",
       "      <td>211.337494</td>\n",
       "      <td>1</td>\n",
       "      <td>0</td>\n",
       "      <td>0</td>\n",
       "      <td>1</td>\n",
       "      <td>0</td>\n",
       "      <td>0</td>\n",
       "      <td>0</td>\n",
       "      <td>1</td>\n",
       "    </tr>\n",
       "    <tr>\n",
       "      <th>2</th>\n",
       "      <td>1</td>\n",
       "      <td>29.908852</td>\n",
       "      <td>1</td>\n",
       "      <td>2</td>\n",
       "      <td>151.550003</td>\n",
       "      <td>1</td>\n",
       "      <td>0</td>\n",
       "      <td>0</td>\n",
       "      <td>0</td>\n",
       "      <td>1</td>\n",
       "      <td>0</td>\n",
       "      <td>0</td>\n",
       "      <td>1</td>\n",
       "    </tr>\n",
       "    <tr>\n",
       "      <th>3</th>\n",
       "      <td>0</td>\n",
       "      <td>2.000000</td>\n",
       "      <td>1</td>\n",
       "      <td>2</td>\n",
       "      <td>151.550003</td>\n",
       "      <td>1</td>\n",
       "      <td>0</td>\n",
       "      <td>0</td>\n",
       "      <td>1</td>\n",
       "      <td>0</td>\n",
       "      <td>0</td>\n",
       "      <td>0</td>\n",
       "      <td>1</td>\n",
       "    </tr>\n",
       "    <tr>\n",
       "      <th>4</th>\n",
       "      <td>0</td>\n",
       "      <td>30.000000</td>\n",
       "      <td>1</td>\n",
       "      <td>2</td>\n",
       "      <td>151.550003</td>\n",
       "      <td>1</td>\n",
       "      <td>0</td>\n",
       "      <td>0</td>\n",
       "      <td>0</td>\n",
       "      <td>1</td>\n",
       "      <td>0</td>\n",
       "      <td>0</td>\n",
       "      <td>1</td>\n",
       "    </tr>\n",
       "    <tr>\n",
       "      <th>5</th>\n",
       "      <td>0</td>\n",
       "      <td>25.000000</td>\n",
       "      <td>1</td>\n",
       "      <td>2</td>\n",
       "      <td>151.550003</td>\n",
       "      <td>1</td>\n",
       "      <td>0</td>\n",
       "      <td>0</td>\n",
       "      <td>1</td>\n",
       "      <td>0</td>\n",
       "      <td>0</td>\n",
       "      <td>0</td>\n",
       "      <td>1</td>\n",
       "    </tr>\n",
       "    <tr>\n",
       "      <th>6</th>\n",
       "      <td>1</td>\n",
       "      <td>48.000000</td>\n",
       "      <td>0</td>\n",
       "      <td>0</td>\n",
       "      <td>26.549999</td>\n",
       "      <td>1</td>\n",
       "      <td>0</td>\n",
       "      <td>0</td>\n",
       "      <td>0</td>\n",
       "      <td>1</td>\n",
       "      <td>0</td>\n",
       "      <td>0</td>\n",
       "      <td>1</td>\n",
       "    </tr>\n",
       "    <tr>\n",
       "      <th>7</th>\n",
       "      <td>1</td>\n",
       "      <td>63.000000</td>\n",
       "      <td>1</td>\n",
       "      <td>0</td>\n",
       "      <td>77.958298</td>\n",
       "      <td>1</td>\n",
       "      <td>0</td>\n",
       "      <td>0</td>\n",
       "      <td>1</td>\n",
       "      <td>0</td>\n",
       "      <td>0</td>\n",
       "      <td>0</td>\n",
       "      <td>1</td>\n",
       "    </tr>\n",
       "    <tr>\n",
       "      <th>8</th>\n",
       "      <td>0</td>\n",
       "      <td>39.000000</td>\n",
       "      <td>0</td>\n",
       "      <td>0</td>\n",
       "      <td>0.000000</td>\n",
       "      <td>1</td>\n",
       "      <td>0</td>\n",
       "      <td>0</td>\n",
       "      <td>0</td>\n",
       "      <td>1</td>\n",
       "      <td>0</td>\n",
       "      <td>0</td>\n",
       "      <td>1</td>\n",
       "    </tr>\n",
       "    <tr>\n",
       "      <th>9</th>\n",
       "      <td>1</td>\n",
       "      <td>53.000000</td>\n",
       "      <td>2</td>\n",
       "      <td>0</td>\n",
       "      <td>51.479199</td>\n",
       "      <td>1</td>\n",
       "      <td>0</td>\n",
       "      <td>0</td>\n",
       "      <td>1</td>\n",
       "      <td>0</td>\n",
       "      <td>0</td>\n",
       "      <td>0</td>\n",
       "      <td>1</td>\n",
       "    </tr>\n",
       "    <tr>\n",
       "      <th>10</th>\n",
       "      <td>0</td>\n",
       "      <td>71.000000</td>\n",
       "      <td>0</td>\n",
       "      <td>0</td>\n",
       "      <td>49.504200</td>\n",
       "      <td>1</td>\n",
       "      <td>0</td>\n",
       "      <td>0</td>\n",
       "      <td>0</td>\n",
       "      <td>1</td>\n",
       "      <td>1</td>\n",
       "      <td>0</td>\n",
       "      <td>0</td>\n",
       "    </tr>\n",
       "  </tbody>\n",
       "</table>\n",
       "</div>"
      ],
      "text/plain": [
       "     survived        age  sibsp  parch        fare  pclass_1st  pclass_2nd  \\\n",
       "pid                                                                          \n",
       "1           1  29.000000      0      0  211.337494           1           0   \n",
       "2           1  29.908852      1      2  151.550003           1           0   \n",
       "3           0   2.000000      1      2  151.550003           1           0   \n",
       "4           0  30.000000      1      2  151.550003           1           0   \n",
       "5           0  25.000000      1      2  151.550003           1           0   \n",
       "6           1  48.000000      0      0   26.549999           1           0   \n",
       "7           1  63.000000      1      0   77.958298           1           0   \n",
       "8           0  39.000000      0      0    0.000000           1           0   \n",
       "9           1  53.000000      2      0   51.479199           1           0   \n",
       "10          0  71.000000      0      0   49.504200           1           0   \n",
       "\n",
       "     pclass_3rd  sex_female  sex_male  embarked_Cherbourg  \\\n",
       "pid                                                         \n",
       "1             0           1         0                   0   \n",
       "2             0           0         1                   0   \n",
       "3             0           1         0                   0   \n",
       "4             0           0         1                   0   \n",
       "5             0           1         0                   0   \n",
       "6             0           0         1                   0   \n",
       "7             0           1         0                   0   \n",
       "8             0           0         1                   0   \n",
       "9             0           1         0                   0   \n",
       "10            0           0         1                   1   \n",
       "\n",
       "     embarked_Queenstown  embarked_Southampton  \n",
       "pid                                             \n",
       "1                      0                     1  \n",
       "2                      0                     1  \n",
       "3                      0                     1  \n",
       "4                      0                     1  \n",
       "5                      0                     1  \n",
       "6                      0                     1  \n",
       "7                      0                     1  \n",
       "8                      0                     1  \n",
       "9                      0                     1  \n",
       "10                     0                     0  "
      ]
     },
     "execution_count": 9,
     "metadata": {},
     "output_type": "execute_result"
    }
   ],
   "source": [
    "titanic_ssf = pd.get_dummies(titanic)\n",
    "titanic_ssf.head(10)"
   ]
  },
  {
   "cell_type": "code",
   "execution_count": 45,
   "metadata": {},
   "outputs": [
    {
     "name": "stdout",
     "output_type": "stream",
     "text": [
      "<class 'numpy.ndarray'>\n"
     ]
    }
   ],
   "source": [
    "titanic_names = titanic_ssf.columns.values\n",
    "titanic_names\n",
    "print(type(titanic_names))"
   ]
  },
  {
   "cell_type": "code",
   "execution_count": 46,
   "metadata": {},
   "outputs": [
    {
     "data": {
      "text/plain": [
       "array(['survived', 'age', 'sibsp', 'parch', 'fare', 'pclass_1st', 'pclass_2nd',\n",
       "       'pclass_3rd', 'sex_female', 'sex_male', 'embarked_Cherbourg',\n",
       "       'embarked_Queenstown', 'embarked_Southampton'], dtype=object)"
      ]
     },
     "execution_count": 46,
     "metadata": {},
     "output_type": "execute_result"
    }
   ],
   "source": [
    "titanic_names"
   ]
  },
  {
   "cell_type": "code",
   "execution_count": 47,
   "metadata": {},
   "outputs": [
    {
     "data": {
      "text/plain": [
       "array(['age', 'sibsp', 'parch', 'fare', 'pclass_1st', 'pclass_2nd',\n",
       "       'pclass_3rd', 'sex_female', 'sex_male', 'embarked_Cherbourg',\n",
       "       'embarked_Queenstown', 'embarked_Southampton'], dtype=object)"
      ]
     },
     "execution_count": 47,
     "metadata": {},
     "output_type": "execute_result"
    }
   ],
   "source": [
    "titanic_names[1:]"
   ]
  },
  {
   "cell_type": "code",
   "execution_count": 11,
   "metadata": {},
   "outputs": [
    {
     "data": {
      "text/html": [
       "<div>\n",
       "<style scoped>\n",
       "    .dataframe tbody tr th:only-of-type {\n",
       "        vertical-align: middle;\n",
       "    }\n",
       "\n",
       "    .dataframe tbody tr th {\n",
       "        vertical-align: top;\n",
       "    }\n",
       "\n",
       "    .dataframe thead th {\n",
       "        text-align: right;\n",
       "    }\n",
       "</style>\n",
       "<table border=\"1\" class=\"dataframe\">\n",
       "  <thead>\n",
       "    <tr style=\"text-align: right;\">\n",
       "      <th></th>\n",
       "      <th>age</th>\n",
       "      <th>sibsp</th>\n",
       "      <th>parch</th>\n",
       "      <th>fare</th>\n",
       "      <th>pclass_1st</th>\n",
       "      <th>pclass_2nd</th>\n",
       "      <th>pclass_3rd</th>\n",
       "      <th>sex_female</th>\n",
       "      <th>sex_male</th>\n",
       "      <th>embarked_Cherbourg</th>\n",
       "      <th>embarked_Queenstown</th>\n",
       "      <th>embarked_Southampton</th>\n",
       "    </tr>\n",
       "    <tr>\n",
       "      <th>pid</th>\n",
       "      <th></th>\n",
       "      <th></th>\n",
       "      <th></th>\n",
       "      <th></th>\n",
       "      <th></th>\n",
       "      <th></th>\n",
       "      <th></th>\n",
       "      <th></th>\n",
       "      <th></th>\n",
       "      <th></th>\n",
       "      <th></th>\n",
       "      <th></th>\n",
       "    </tr>\n",
       "  </thead>\n",
       "  <tbody>\n",
       "    <tr>\n",
       "      <th>1</th>\n",
       "      <td>29.000000</td>\n",
       "      <td>0</td>\n",
       "      <td>0</td>\n",
       "      <td>211.337494</td>\n",
       "      <td>1</td>\n",
       "      <td>0</td>\n",
       "      <td>0</td>\n",
       "      <td>1</td>\n",
       "      <td>0</td>\n",
       "      <td>0</td>\n",
       "      <td>0</td>\n",
       "      <td>1</td>\n",
       "    </tr>\n",
       "    <tr>\n",
       "      <th>2</th>\n",
       "      <td>29.908852</td>\n",
       "      <td>1</td>\n",
       "      <td>2</td>\n",
       "      <td>151.550003</td>\n",
       "      <td>1</td>\n",
       "      <td>0</td>\n",
       "      <td>0</td>\n",
       "      <td>0</td>\n",
       "      <td>1</td>\n",
       "      <td>0</td>\n",
       "      <td>0</td>\n",
       "      <td>1</td>\n",
       "    </tr>\n",
       "    <tr>\n",
       "      <th>3</th>\n",
       "      <td>2.000000</td>\n",
       "      <td>1</td>\n",
       "      <td>2</td>\n",
       "      <td>151.550003</td>\n",
       "      <td>1</td>\n",
       "      <td>0</td>\n",
       "      <td>0</td>\n",
       "      <td>1</td>\n",
       "      <td>0</td>\n",
       "      <td>0</td>\n",
       "      <td>0</td>\n",
       "      <td>1</td>\n",
       "    </tr>\n",
       "    <tr>\n",
       "      <th>4</th>\n",
       "      <td>30.000000</td>\n",
       "      <td>1</td>\n",
       "      <td>2</td>\n",
       "      <td>151.550003</td>\n",
       "      <td>1</td>\n",
       "      <td>0</td>\n",
       "      <td>0</td>\n",
       "      <td>0</td>\n",
       "      <td>1</td>\n",
       "      <td>0</td>\n",
       "      <td>0</td>\n",
       "      <td>1</td>\n",
       "    </tr>\n",
       "    <tr>\n",
       "      <th>5</th>\n",
       "      <td>25.000000</td>\n",
       "      <td>1</td>\n",
       "      <td>2</td>\n",
       "      <td>151.550003</td>\n",
       "      <td>1</td>\n",
       "      <td>0</td>\n",
       "      <td>0</td>\n",
       "      <td>1</td>\n",
       "      <td>0</td>\n",
       "      <td>0</td>\n",
       "      <td>0</td>\n",
       "      <td>1</td>\n",
       "    </tr>\n",
       "  </tbody>\n",
       "</table>\n",
       "</div>"
      ],
      "text/plain": [
       "           age  sibsp  parch        fare  pclass_1st  pclass_2nd  pclass_3rd  \\\n",
       "pid                                                                            \n",
       "1    29.000000      0      0  211.337494           1           0           0   \n",
       "2    29.908852      1      2  151.550003           1           0           0   \n",
       "3     2.000000      1      2  151.550003           1           0           0   \n",
       "4    30.000000      1      2  151.550003           1           0           0   \n",
       "5    25.000000      1      2  151.550003           1           0           0   \n",
       "\n",
       "     sex_female  sex_male  embarked_Cherbourg  embarked_Queenstown  \\\n",
       "pid                                                                  \n",
       "1             1         0                   0                    0   \n",
       "2             0         1                   0                    0   \n",
       "3             1         0                   0                    0   \n",
       "4             0         1                   0                    0   \n",
       "5             1         0                   0                    0   \n",
       "\n",
       "     embarked_Southampton  \n",
       "pid                        \n",
       "1                       1  \n",
       "2                       1  \n",
       "3                       1  \n",
       "4                       1  \n",
       "5                       1  "
      ]
     },
     "execution_count": 11,
     "metadata": {},
     "output_type": "execute_result"
    }
   ],
   "source": [
    "y = titanic_ssf['survived']\n",
    "X = titanic_ssf[titanic_names[1:]] # extract the rest of the columns with the exception of survived\n",
    "X.head()"
   ]
  },
  {
   "cell_type": "code",
   "execution_count": 12,
   "metadata": {},
   "outputs": [
    {
     "data": {
      "text/html": [
       "<div>\n",
       "<style scoped>\n",
       "    .dataframe tbody tr th:only-of-type {\n",
       "        vertical-align: middle;\n",
       "    }\n",
       "\n",
       "    .dataframe tbody tr th {\n",
       "        vertical-align: top;\n",
       "    }\n",
       "\n",
       "    .dataframe thead th {\n",
       "        text-align: right;\n",
       "    }\n",
       "</style>\n",
       "<table border=\"1\" class=\"dataframe\">\n",
       "  <thead>\n",
       "    <tr style=\"text-align: right;\">\n",
       "      <th></th>\n",
       "      <th>survived</th>\n",
       "      <th>age</th>\n",
       "      <th>sibsp</th>\n",
       "      <th>parch</th>\n",
       "      <th>fare</th>\n",
       "      <th>pclass_1st</th>\n",
       "      <th>pclass_2nd</th>\n",
       "      <th>pclass_3rd</th>\n",
       "      <th>sex_female</th>\n",
       "      <th>sex_male</th>\n",
       "      <th>embarked_Cherbourg</th>\n",
       "      <th>embarked_Queenstown</th>\n",
       "      <th>embarked_Southampton</th>\n",
       "    </tr>\n",
       "  </thead>\n",
       "  <tbody>\n",
       "    <tr>\n",
       "      <th>count</th>\n",
       "      <td>1306.000000</td>\n",
       "      <td>1306.000000</td>\n",
       "      <td>1306.00000</td>\n",
       "      <td>1306.000000</td>\n",
       "      <td>1306.000000</td>\n",
       "      <td>1306.000000</td>\n",
       "      <td>1306.000000</td>\n",
       "      <td>1306.000000</td>\n",
       "      <td>1306.000000</td>\n",
       "      <td>1306.000000</td>\n",
       "      <td>1306.000000</td>\n",
       "      <td>1306.000000</td>\n",
       "      <td>1306.000000</td>\n",
       "    </tr>\n",
       "    <tr>\n",
       "      <th>mean</th>\n",
       "      <td>0.381317</td>\n",
       "      <td>29.854661</td>\n",
       "      <td>0.50000</td>\n",
       "      <td>0.385911</td>\n",
       "      <td>33.223956</td>\n",
       "      <td>0.245789</td>\n",
       "      <td>0.212098</td>\n",
       "      <td>0.542113</td>\n",
       "      <td>0.355283</td>\n",
       "      <td>0.644717</td>\n",
       "      <td>0.206738</td>\n",
       "      <td>0.094181</td>\n",
       "      <td>0.699081</td>\n",
       "    </tr>\n",
       "    <tr>\n",
       "      <th>std</th>\n",
       "      <td>0.485896</td>\n",
       "      <td>12.812320</td>\n",
       "      <td>1.04258</td>\n",
       "      <td>0.866357</td>\n",
       "      <td>51.765986</td>\n",
       "      <td>0.430719</td>\n",
       "      <td>0.408950</td>\n",
       "      <td>0.498414</td>\n",
       "      <td>0.478782</td>\n",
       "      <td>0.478782</td>\n",
       "      <td>0.405121</td>\n",
       "      <td>0.292192</td>\n",
       "      <td>0.458833</td>\n",
       "    </tr>\n",
       "    <tr>\n",
       "      <th>min</th>\n",
       "      <td>0.000000</td>\n",
       "      <td>0.166700</td>\n",
       "      <td>0.00000</td>\n",
       "      <td>0.000000</td>\n",
       "      <td>0.000000</td>\n",
       "      <td>0.000000</td>\n",
       "      <td>0.000000</td>\n",
       "      <td>0.000000</td>\n",
       "      <td>0.000000</td>\n",
       "      <td>0.000000</td>\n",
       "      <td>0.000000</td>\n",
       "      <td>0.000000</td>\n",
       "      <td>0.000000</td>\n",
       "    </tr>\n",
       "    <tr>\n",
       "      <th>25%</th>\n",
       "      <td>0.000000</td>\n",
       "      <td>22.000000</td>\n",
       "      <td>0.00000</td>\n",
       "      <td>0.000000</td>\n",
       "      <td>7.895800</td>\n",
       "      <td>0.000000</td>\n",
       "      <td>0.000000</td>\n",
       "      <td>0.000000</td>\n",
       "      <td>0.000000</td>\n",
       "      <td>0.000000</td>\n",
       "      <td>0.000000</td>\n",
       "      <td>0.000000</td>\n",
       "      <td>0.000000</td>\n",
       "    </tr>\n",
       "    <tr>\n",
       "      <th>50%</th>\n",
       "      <td>0.000000</td>\n",
       "      <td>29.908852</td>\n",
       "      <td>0.00000</td>\n",
       "      <td>0.000000</td>\n",
       "      <td>14.454200</td>\n",
       "      <td>0.000000</td>\n",
       "      <td>0.000000</td>\n",
       "      <td>1.000000</td>\n",
       "      <td>0.000000</td>\n",
       "      <td>1.000000</td>\n",
       "      <td>0.000000</td>\n",
       "      <td>0.000000</td>\n",
       "      <td>1.000000</td>\n",
       "    </tr>\n",
       "    <tr>\n",
       "      <th>75%</th>\n",
       "      <td>1.000000</td>\n",
       "      <td>35.000000</td>\n",
       "      <td>1.00000</td>\n",
       "      <td>0.000000</td>\n",
       "      <td>31.275000</td>\n",
       "      <td>0.000000</td>\n",
       "      <td>0.000000</td>\n",
       "      <td>1.000000</td>\n",
       "      <td>1.000000</td>\n",
       "      <td>1.000000</td>\n",
       "      <td>0.000000</td>\n",
       "      <td>0.000000</td>\n",
       "      <td>1.000000</td>\n",
       "    </tr>\n",
       "    <tr>\n",
       "      <th>max</th>\n",
       "      <td>1.000000</td>\n",
       "      <td>80.000000</td>\n",
       "      <td>8.00000</td>\n",
       "      <td>9.000000</td>\n",
       "      <td>512.329224</td>\n",
       "      <td>1.000000</td>\n",
       "      <td>1.000000</td>\n",
       "      <td>1.000000</td>\n",
       "      <td>1.000000</td>\n",
       "      <td>1.000000</td>\n",
       "      <td>1.000000</td>\n",
       "      <td>1.000000</td>\n",
       "      <td>1.000000</td>\n",
       "    </tr>\n",
       "  </tbody>\n",
       "</table>\n",
       "</div>"
      ],
      "text/plain": [
       "          survived          age       sibsp        parch         fare  \\\n",
       "count  1306.000000  1306.000000  1306.00000  1306.000000  1306.000000   \n",
       "mean      0.381317    29.854661     0.50000     0.385911    33.223956   \n",
       "std       0.485896    12.812320     1.04258     0.866357    51.765986   \n",
       "min       0.000000     0.166700     0.00000     0.000000     0.000000   \n",
       "25%       0.000000    22.000000     0.00000     0.000000     7.895800   \n",
       "50%       0.000000    29.908852     0.00000     0.000000    14.454200   \n",
       "75%       1.000000    35.000000     1.00000     0.000000    31.275000   \n",
       "max       1.000000    80.000000     8.00000     9.000000   512.329224   \n",
       "\n",
       "        pclass_1st   pclass_2nd   pclass_3rd   sex_female     sex_male  \\\n",
       "count  1306.000000  1306.000000  1306.000000  1306.000000  1306.000000   \n",
       "mean      0.245789     0.212098     0.542113     0.355283     0.644717   \n",
       "std       0.430719     0.408950     0.498414     0.478782     0.478782   \n",
       "min       0.000000     0.000000     0.000000     0.000000     0.000000   \n",
       "25%       0.000000     0.000000     0.000000     0.000000     0.000000   \n",
       "50%       0.000000     0.000000     1.000000     0.000000     1.000000   \n",
       "75%       0.000000     0.000000     1.000000     1.000000     1.000000   \n",
       "max       1.000000     1.000000     1.000000     1.000000     1.000000   \n",
       "\n",
       "       embarked_Cherbourg  embarked_Queenstown  embarked_Southampton  \n",
       "count         1306.000000          1306.000000           1306.000000  \n",
       "mean             0.206738             0.094181              0.699081  \n",
       "std              0.405121             0.292192              0.458833  \n",
       "min              0.000000             0.000000              0.000000  \n",
       "25%              0.000000             0.000000              0.000000  \n",
       "50%              0.000000             0.000000              1.000000  \n",
       "75%              0.000000             0.000000              1.000000  \n",
       "max              1.000000             1.000000              1.000000  "
      ]
     },
     "execution_count": 12,
     "metadata": {},
     "output_type": "execute_result"
    }
   ],
   "source": [
    "titanic_ssf.describe()"
   ]
  },
  {
   "cell_type": "code",
   "execution_count": 13,
   "metadata": {},
   "outputs": [
    {
     "data": {
      "text/html": [
       "<div>\n",
       "<style scoped>\n",
       "    .dataframe tbody tr th:only-of-type {\n",
       "        vertical-align: middle;\n",
       "    }\n",
       "\n",
       "    .dataframe tbody tr th {\n",
       "        vertical-align: top;\n",
       "    }\n",
       "\n",
       "    .dataframe thead th {\n",
       "        text-align: right;\n",
       "    }\n",
       "</style>\n",
       "<table border=\"1\" class=\"dataframe\">\n",
       "  <thead>\n",
       "    <tr style=\"text-align: right;\">\n",
       "      <th></th>\n",
       "      <th>count</th>\n",
       "      <th>mean</th>\n",
       "      <th>std</th>\n",
       "      <th>min</th>\n",
       "      <th>25%</th>\n",
       "      <th>50%</th>\n",
       "      <th>75%</th>\n",
       "      <th>max</th>\n",
       "    </tr>\n",
       "  </thead>\n",
       "  <tbody>\n",
       "    <tr>\n",
       "      <th>survived</th>\n",
       "      <td>1306.0</td>\n",
       "      <td>0.381317</td>\n",
       "      <td>0.485896</td>\n",
       "      <td>0.0000</td>\n",
       "      <td>0.0000</td>\n",
       "      <td>0.000000</td>\n",
       "      <td>1.000</td>\n",
       "      <td>1.000000</td>\n",
       "    </tr>\n",
       "    <tr>\n",
       "      <th>age</th>\n",
       "      <td>1306.0</td>\n",
       "      <td>29.854661</td>\n",
       "      <td>12.812320</td>\n",
       "      <td>0.1667</td>\n",
       "      <td>22.0000</td>\n",
       "      <td>29.908852</td>\n",
       "      <td>35.000</td>\n",
       "      <td>80.000000</td>\n",
       "    </tr>\n",
       "    <tr>\n",
       "      <th>sibsp</th>\n",
       "      <td>1306.0</td>\n",
       "      <td>0.500000</td>\n",
       "      <td>1.042580</td>\n",
       "      <td>0.0000</td>\n",
       "      <td>0.0000</td>\n",
       "      <td>0.000000</td>\n",
       "      <td>1.000</td>\n",
       "      <td>8.000000</td>\n",
       "    </tr>\n",
       "    <tr>\n",
       "      <th>parch</th>\n",
       "      <td>1306.0</td>\n",
       "      <td>0.385911</td>\n",
       "      <td>0.866357</td>\n",
       "      <td>0.0000</td>\n",
       "      <td>0.0000</td>\n",
       "      <td>0.000000</td>\n",
       "      <td>0.000</td>\n",
       "      <td>9.000000</td>\n",
       "    </tr>\n",
       "    <tr>\n",
       "      <th>fare</th>\n",
       "      <td>1306.0</td>\n",
       "      <td>33.223956</td>\n",
       "      <td>51.765986</td>\n",
       "      <td>0.0000</td>\n",
       "      <td>7.8958</td>\n",
       "      <td>14.454200</td>\n",
       "      <td>31.275</td>\n",
       "      <td>512.329224</td>\n",
       "    </tr>\n",
       "    <tr>\n",
       "      <th>pclass_1st</th>\n",
       "      <td>1306.0</td>\n",
       "      <td>0.245789</td>\n",
       "      <td>0.430719</td>\n",
       "      <td>0.0000</td>\n",
       "      <td>0.0000</td>\n",
       "      <td>0.000000</td>\n",
       "      <td>0.000</td>\n",
       "      <td>1.000000</td>\n",
       "    </tr>\n",
       "    <tr>\n",
       "      <th>pclass_2nd</th>\n",
       "      <td>1306.0</td>\n",
       "      <td>0.212098</td>\n",
       "      <td>0.408950</td>\n",
       "      <td>0.0000</td>\n",
       "      <td>0.0000</td>\n",
       "      <td>0.000000</td>\n",
       "      <td>0.000</td>\n",
       "      <td>1.000000</td>\n",
       "    </tr>\n",
       "    <tr>\n",
       "      <th>pclass_3rd</th>\n",
       "      <td>1306.0</td>\n",
       "      <td>0.542113</td>\n",
       "      <td>0.498414</td>\n",
       "      <td>0.0000</td>\n",
       "      <td>0.0000</td>\n",
       "      <td>1.000000</td>\n",
       "      <td>1.000</td>\n",
       "      <td>1.000000</td>\n",
       "    </tr>\n",
       "    <tr>\n",
       "      <th>sex_female</th>\n",
       "      <td>1306.0</td>\n",
       "      <td>0.355283</td>\n",
       "      <td>0.478782</td>\n",
       "      <td>0.0000</td>\n",
       "      <td>0.0000</td>\n",
       "      <td>0.000000</td>\n",
       "      <td>1.000</td>\n",
       "      <td>1.000000</td>\n",
       "    </tr>\n",
       "    <tr>\n",
       "      <th>sex_male</th>\n",
       "      <td>1306.0</td>\n",
       "      <td>0.644717</td>\n",
       "      <td>0.478782</td>\n",
       "      <td>0.0000</td>\n",
       "      <td>0.0000</td>\n",
       "      <td>1.000000</td>\n",
       "      <td>1.000</td>\n",
       "      <td>1.000000</td>\n",
       "    </tr>\n",
       "    <tr>\n",
       "      <th>embarked_Cherbourg</th>\n",
       "      <td>1306.0</td>\n",
       "      <td>0.206738</td>\n",
       "      <td>0.405121</td>\n",
       "      <td>0.0000</td>\n",
       "      <td>0.0000</td>\n",
       "      <td>0.000000</td>\n",
       "      <td>0.000</td>\n",
       "      <td>1.000000</td>\n",
       "    </tr>\n",
       "    <tr>\n",
       "      <th>embarked_Queenstown</th>\n",
       "      <td>1306.0</td>\n",
       "      <td>0.094181</td>\n",
       "      <td>0.292192</td>\n",
       "      <td>0.0000</td>\n",
       "      <td>0.0000</td>\n",
       "      <td>0.000000</td>\n",
       "      <td>0.000</td>\n",
       "      <td>1.000000</td>\n",
       "    </tr>\n",
       "    <tr>\n",
       "      <th>embarked_Southampton</th>\n",
       "      <td>1306.0</td>\n",
       "      <td>0.699081</td>\n",
       "      <td>0.458833</td>\n",
       "      <td>0.0000</td>\n",
       "      <td>0.0000</td>\n",
       "      <td>1.000000</td>\n",
       "      <td>1.000</td>\n",
       "      <td>1.000000</td>\n",
       "    </tr>\n",
       "  </tbody>\n",
       "</table>\n",
       "</div>"
      ],
      "text/plain": [
       "                       count       mean        std     min      25%  \\\n",
       "survived              1306.0   0.381317   0.485896  0.0000   0.0000   \n",
       "age                   1306.0  29.854661  12.812320  0.1667  22.0000   \n",
       "sibsp                 1306.0   0.500000   1.042580  0.0000   0.0000   \n",
       "parch                 1306.0   0.385911   0.866357  0.0000   0.0000   \n",
       "fare                  1306.0  33.223956  51.765986  0.0000   7.8958   \n",
       "pclass_1st            1306.0   0.245789   0.430719  0.0000   0.0000   \n",
       "pclass_2nd            1306.0   0.212098   0.408950  0.0000   0.0000   \n",
       "pclass_3rd            1306.0   0.542113   0.498414  0.0000   0.0000   \n",
       "sex_female            1306.0   0.355283   0.478782  0.0000   0.0000   \n",
       "sex_male              1306.0   0.644717   0.478782  0.0000   0.0000   \n",
       "embarked_Cherbourg    1306.0   0.206738   0.405121  0.0000   0.0000   \n",
       "embarked_Queenstown   1306.0   0.094181   0.292192  0.0000   0.0000   \n",
       "embarked_Southampton  1306.0   0.699081   0.458833  0.0000   0.0000   \n",
       "\n",
       "                            50%     75%         max  \n",
       "survived               0.000000   1.000    1.000000  \n",
       "age                   29.908852  35.000   80.000000  \n",
       "sibsp                  0.000000   1.000    8.000000  \n",
       "parch                  0.000000   0.000    9.000000  \n",
       "fare                  14.454200  31.275  512.329224  \n",
       "pclass_1st             0.000000   0.000    1.000000  \n",
       "pclass_2nd             0.000000   0.000    1.000000  \n",
       "pclass_3rd             1.000000   1.000    1.000000  \n",
       "sex_female             0.000000   1.000    1.000000  \n",
       "sex_male               1.000000   1.000    1.000000  \n",
       "embarked_Cherbourg     0.000000   0.000    1.000000  \n",
       "embarked_Queenstown    0.000000   0.000    1.000000  \n",
       "embarked_Southampton   1.000000   1.000    1.000000  "
      ]
     },
     "execution_count": 13,
     "metadata": {},
     "output_type": "execute_result"
    }
   ],
   "source": [
    "titanic_ssf.describe().T"
   ]
  },
  {
   "cell_type": "markdown",
   "metadata": {},
   "source": [
    "#### Build the training and testing dataset"
   ]
  },
  {
   "cell_type": "code",
   "execution_count": 14,
   "metadata": {},
   "outputs": [],
   "source": [
    "from sklearn.model_selection import train_test_split\n",
    "X_train, X_test, y_train, y_test = train_test_split(X, y, test_size=0.2, random_state=33)"
   ]
  },
  {
   "cell_type": "code",
   "execution_count": 15,
   "metadata": {},
   "outputs": [],
   "source": [
    "# Now let's train the decision tree on the training data\n",
    "\n",
    "from sklearn import tree\n",
    "dt = tree.DecisionTreeClassifier(criterion='entropy')\n",
    "dt = dt.fit(X_train, y_train)\n"
   ]
  },
  {
   "cell_type": "markdown",
   "metadata": {},
   "source": [
    "#### A versatile function to measure performance of a calssification model"
   ]
  },
  {
   "cell_type": "code",
   "execution_count": 16,
   "metadata": {},
   "outputs": [],
   "source": [
    "from sklearn import metrics\n",
    "\n",
    "def measure_performance(X, y, clf, show_accuracy=True, show_classification_report=True, show_confussion_matrix=True):\n",
    "    y_pred = clf.predict(X)   \n",
    "    if show_accuracy:\n",
    "         print (\"Accuracy:{0:.3f}\".format(metrics.accuracy_score(y, y_pred)),\"\\n\")\n",
    "    \n",
    "    if show_classification_report:\n",
    "        print (\"Classification report\")\n",
    "        print (metrics.classification_report(y, y_pred),\"\\n\")\n",
    "      \n",
    "    if show_confussion_matrix:\n",
    "        print (\"Confussion matrix\")\n",
    "        print (metrics.confusion_matrix(y, y_pred),\"\\n\")"
   ]
  },
  {
   "cell_type": "code",
   "execution_count": 17,
   "metadata": {},
   "outputs": [
    {
     "name": "stdout",
     "output_type": "stream",
     "text": [
      "Accuracy:0.752 \n",
      "\n",
      "Classification report\n",
      "              precision    recall  f1-score   support\n",
      "\n",
      "           0       0.80      0.80      0.80       161\n",
      "           1       0.68      0.67      0.68       101\n",
      "\n",
      "    accuracy                           0.75       262\n",
      "   macro avg       0.74      0.74      0.74       262\n",
      "weighted avg       0.75      0.75      0.75       262\n",
      " \n",
      "\n"
     ]
    }
   ],
   "source": [
    "from sklearn import metrics\n",
    "measure_performance(X_test, y_test, dt, show_confussion_matrix=False, show_classification_report=True)"
   ]
  },
  {
   "cell_type": "markdown",
   "metadata": {},
   "source": [
    "### Feature Selection"
   ]
  },
  {
   "cell_type": "markdown",
   "metadata": {},
   "source": [
    "#### Select the top 30% of the most important features, using a chi2 test"
   ]
  },
  {
   "cell_type": "code",
   "execution_count": 18,
   "metadata": {},
   "outputs": [],
   "source": [
    "from sklearn import feature_selection"
   ]
  },
  {
   "cell_type": "code",
   "execution_count": 19,
   "metadata": {
    "scrolled": true
   },
   "outputs": [],
   "source": [
    "fs = feature_selection.SelectPercentile(feature_selection.chi2, percentile=30)\n",
    "X_train_fs = fs.fit_transform(X_train, y_train)"
   ]
  },
  {
   "cell_type": "code",
   "execution_count": 20,
   "metadata": {},
   "outputs": [
    {
     "name": "stdout",
     "output_type": "stream",
     "text": [
      "[False False False  True  True False False  True  True False False False]\n",
      "[  17.19    0.     22.34 5185.44   61.98    1.28   35.15  189.1   102.94\n",
      "   27.57    0.01    8.16]\n"
     ]
    }
   ],
   "source": [
    "np.set_printoptions(suppress=True, precision=2, linewidth=80)\n",
    "print (fs.get_support()) \n",
    "print (fs.scores_)"
   ]
  },
  {
   "cell_type": "markdown",
   "metadata": {},
   "source": [
    "<p>The trues are the ones that were actually used and the other ones where it isn't, that is where it is false and you can use the actual scores of these features. </p>\n",
    "<p> You scored them all but you took only the top 30%.</p>"
   ]
  },
  {
   "cell_type": "code",
   "execution_count": 21,
   "metadata": {},
   "outputs": [
    {
     "data": {
      "text/plain": [
       "array(['age', 'sibsp', 'parch', 'fare', 'pclass_1st', 'pclass_2nd',\n",
       "       'pclass_3rd', 'sex_female', 'sex_male', 'embarked_Cherbourg',\n",
       "       'embarked_Queenstown', 'embarked_Southampton'], dtype=object)"
      ]
     },
     "execution_count": 21,
     "metadata": {},
     "output_type": "execute_result"
    }
   ],
   "source": [
    "X.columns.values"
   ]
  },
  {
   "cell_type": "code",
   "execution_count": 22,
   "metadata": {},
   "outputs": [
    {
     "name": "stdout",
     "output_type": "stream",
     "text": [
      "['fare' 'pclass_1st' 'sex_female' 'sex_male']\n"
     ]
    }
   ],
   "source": [
    "# these are just the column values but you can get which ones actually you had support for, you actually get the indicies of the ones used and look at their values. \n",
    "print (X.columns[fs.get_support()].values)"
   ]
  },
  {
   "cell_type": "markdown",
   "metadata": {},
   "source": [
    "<p>So these are the features that were actually selected</p>"
   ]
  },
  {
   "cell_type": "code",
   "execution_count": 23,
   "metadata": {},
   "outputs": [
    {
     "name": "stdout",
     "output_type": "stream",
     "text": [
      "fare \t 5185.440645522608\n",
      "pclass_1st \t 61.98414742146332\n",
      "sex_female \t 189.1011725770034\n",
      "sex_male \t 102.94265016026222\n"
     ]
    }
   ],
   "source": [
    "for i in range(len(X.columns.values)):\n",
    "    if fs.get_support()[i]:\n",
    "        print (X.columns.values[i],'\\t', fs.scores_[i])"
   ]
  },
  {
   "cell_type": "markdown",
   "metadata": {},
   "source": [
    "<p>This gives us the support of the value of the different scores. You can see the value of these fatures. </p>"
   ]
  },
  {
   "cell_type": "code",
   "execution_count": 24,
   "metadata": {},
   "outputs": [
    {
     "name": "stdout",
     "output_type": "stream",
     "text": [
      "[[31.39  0.    0.    1.  ]\n",
      " [15.05  0.    0.    1.  ]\n",
      " [91.08  1.    0.    1.  ]\n",
      " ...\n",
      " [21.    0.    1.    0.  ]\n",
      " [31.5   0.    0.    1.  ]\n",
      " [ 7.9   0.    0.    1.  ]]\n"
     ]
    }
   ],
   "source": [
    "print (X_train_fs) # x_train_fs contains the 30% of the features which we ranked."
   ]
  },
  {
   "cell_type": "markdown",
   "metadata": {},
   "source": [
    "#### Evaluate performance with the new feature set on test data"
   ]
  },
  {
   "cell_type": "code",
   "execution_count": 25,
   "metadata": {},
   "outputs": [
    {
     "name": "stdout",
     "output_type": "stream",
     "text": [
      "Accuracy:0.821 \n",
      "\n"
     ]
    }
   ],
   "source": [
    "dt = tree.DecisionTreeClassifier(criterion='entropy')\n",
    "dt.fit(X_train_fs, y_train) # train your classifier with the x important features. \n",
    "X_test_fs = fs.transform(X_test)\n",
    "measure_performance(X_test_fs, y_test, dt, show_confussion_matrix=False, show_classification_report=False)"
   ]
  },
  {
   "cell_type": "markdown",
   "metadata": {},
   "source": [
    "<p>The accuracy went up from 0.74 to 0.82. </p>"
   ]
  },
  {
   "cell_type": "markdown",
   "metadata": {},
   "source": [
    "#### To do feature selection more systematically, we need to find the best percentile using cross-validation"
   ]
  },
  {
   "cell_type": "code",
   "execution_count": 26,
   "metadata": {},
   "outputs": [
    {
     "name": "stdout",
     "output_type": "stream",
     "text": [
      "1 0.7011547662863451\n",
      "6 0.7011547662863451\n",
      "11 0.7614740522635259\n",
      "16 0.7614740522635259\n",
      "21 0.7614740522635259\n",
      "26 0.7614740522635259\n",
      "31 0.7585986382039014\n",
      "36 0.7585986382039014\n",
      "41 0.7681772175193228\n",
      "46 0.7643356643356642\n",
      "51 0.7643356643356642\n",
      "56 0.7576278984173721\n",
      "61 0.7576278984173721\n",
      "66 0.7528662127346338\n",
      "71 0.7557600294442399\n",
      "76 0.7528754140596245\n",
      "81 0.7567077659182921\n",
      "86 0.7490522635259478\n",
      "91 0.7566985645933014\n",
      "96 0.7528754140596245\n",
      "8\n",
      "Optimal percentile of features:41 \n",
      "\n",
      "optimal_num_features:  4\n",
      "Optimal number of features:4 \n",
      "\n"
     ]
    },
    {
     "data": {
      "text/plain": [
       "[<matplotlib.lines.Line2D at 0x246f4608c08>]"
      ]
     },
     "execution_count": 26,
     "metadata": {},
     "output_type": "execute_result"
    },
    {
     "data": {
      "image/png": "[encoded data removed]",
      "text/plain": [
       "<Figure size 432x288 with 1 Axes>"
      ]
     },
     "metadata": {
      "needs_background": "light"
     },
     "output_type": "display_data"
    }
   ],
   "source": [
    "# You can't just randomly do 30% \n",
    "# you are going to try and see what would be the right percentile of features that you need and this is what this function is doing. \n",
    "# it is varying how many right percentile of features do we need.\n",
    "# Remember you are also training a classifier with it. \n",
    "\n",
    "from sklearn import model_selection\n",
    "dt = tree.DecisionTreeClassifier(criterion='entropy')\n",
    "\n",
    "percentiles = range(1, 100, 5)\n",
    "results = []\n",
    "for i in range(1, 100, 5):\n",
    "    fs = feature_selection.SelectPercentile(feature_selection.chi2, percentile=i)\n",
    "    X_train_fs = fs.fit_transform(X_train, y_train)\n",
    "    scores = model_selection.cross_val_score(dt, X_train_fs, y_train, cv=5)\n",
    "    print (i,scores.mean())\n",
    "    results = np.append(results, scores.mean())\n",
    "\n",
    "optimal_percentile = np.where(results == results.max())[0]\n",
    "print(optimal_percentile[0])\n",
    "print (\"Optimal percentile of features:{0}\".format(percentiles[optimal_percentile[0]]), \"\\n\")\n",
    "optimal_num_features = int(percentiles[optimal_percentile[0]]*len(X.columns)/100)\n",
    "print('optimal_num_features:  %s' %(optimal_num_features))\n",
    "print (\"Optimal number of features:{0}\".format(optimal_num_features), \"\\n\")\n",
    "\n",
    "# Plot percentile of features VS. cross-validation scores\n",
    "import pylab as pl\n",
    "pl.figure()\n",
    "pl.xlabel(\"Percentage of features selected\")\n",
    "pl.ylabel(\"Cross validation accuracy\")\n",
    "pl.plot(percentiles,results)"
   ]
  },
  {
   "cell_type": "markdown",
   "metadata": {},
   "source": [
    "<p>Depending on your percentile, you pick your highest accuracy.</p>"
   ]
  },
  {
   "cell_type": "markdown",
   "metadata": {},
   "source": [
    "### Evaluate our best number of features on the test set"
   ]
  },
  {
   "cell_type": "markdown",
   "metadata": {},
   "source": [
    "<p> NOW you training the entire training set using the right percentile and you would get a high accuracy of 0.82</p>"
   ]
  },
  {
   "cell_type": "code",
   "execution_count": 27,
   "metadata": {},
   "outputs": [
    {
     "name": "stdout",
     "output_type": "stream",
     "text": [
      "Accuracy:0.821 \n",
      "\n",
      "Classification report\n",
      "              precision    recall  f1-score   support\n",
      "\n",
      "           0       0.86      0.84      0.85       161\n",
      "           1       0.76      0.78      0.77       101\n",
      "\n",
      "    accuracy                           0.82       262\n",
      "   macro avg       0.81      0.81      0.81       262\n",
      "weighted avg       0.82      0.82      0.82       262\n",
      " \n",
      "\n"
     ]
    }
   ],
   "source": [
    "fs = feature_selection.SelectKBest(score_func = feature_selection.chi2, k = optimal_num_features)\n",
    "X_train_fs = fs.fit_transform(X_train, y_train) \n",
    "dt = tree.DecisionTreeClassifier(criterion='entropy')\n",
    "dt.fit(X_train_fs, y_train)\n",
    "X_test_fs = fs.transform(X_test)\n",
    "measure_performance(X_test_fs, y_test, dt, show_confussion_matrix=False, show_classification_report=True)"
   ]
  },
  {
   "cell_type": "code",
   "execution_count": 28,
   "metadata": {},
   "outputs": [],
   "source": [
    "feature_selection.SelectKBest?"
   ]
  },
  {
   "cell_type": "markdown",
   "metadata": {},
   "source": [
    "### Model selection"
   ]
  },
  {
   "cell_type": "markdown",
   "metadata": {},
   "source": [
    "<p>This section is about trying multiple criteria for tree, for example using gini or entropy and comparing them. </p>"
   ]
  },
  {
   "cell_type": "markdown",
   "metadata": {},
   "source": [
    "#### Exploring and comparing model parameters"
   ]
  },
  {
   "cell_type": "code",
   "execution_count": 29,
   "metadata": {},
   "outputs": [
    {
     "name": "stdout",
     "output_type": "stream",
     "text": [
      "{'ccp_alpha': 0.0, 'class_weight': None, 'criterion': 'entropy', 'max_depth': None, 'max_features': None, 'max_leaf_nodes': None, 'min_impurity_decrease': 0.0, 'min_samples_leaf': 1, 'min_samples_split': 2, 'min_weight_fraction_leaf': 0.0, 'random_state': None, 'splitter': 'best'}\n"
     ]
    }
   ],
   "source": [
    "print (dt.get_params())"
   ]
  },
  {
   "cell_type": "markdown",
   "metadata": {},
   "source": [
    "#### Let's first focus on \"criterion' parameter and find the best one"
   ]
  },
  {
   "cell_type": "code",
   "execution_count": 30,
   "metadata": {},
   "outputs": [
    {
     "name": "stdout",
     "output_type": "stream",
     "text": [
      "Entropy criterion accuracy on cv: 0.759\n",
      "Gini criterion accuracy on cv: 0.759\n"
     ]
    }
   ],
   "source": [
    "dt = tree.DecisionTreeClassifier(criterion='entropy')\n",
    "scores = model_selection.cross_val_score(dt, X_train_fs, y_train, cv=5)\n",
    "print (\"Entropy criterion accuracy on cv: {0:.3f}\".format(scores.mean()))\n",
    "dt = tree.DecisionTreeClassifier(criterion='gini')\n",
    "scores = model_selection.cross_val_score(dt, X_train_fs, y_train, cv=5)\n",
    "print (\"Gini criterion accuracy on cv: {0:.3f}\".format(scores.mean()))\n"
   ]
  },
  {
   "cell_type": "markdown",
   "metadata": {},
   "source": [
    "<p>Here you would find out if you need one over the other. In this case do I need to use entropy?</p>"
   ]
  },
  {
   "cell_type": "code",
   "execution_count": 31,
   "metadata": {},
   "outputs": [
    {
     "name": "stdout",
     "output_type": "stream",
     "text": [
      "Accuracy:0.821 \n",
      "\n",
      "Classification report\n",
      "              precision    recall  f1-score   support\n",
      "\n",
      "           0       0.86      0.84      0.85       161\n",
      "           1       0.76      0.78      0.77       101\n",
      "\n",
      "    accuracy                           0.82       262\n",
      "   macro avg       0.81      0.81      0.81       262\n",
      "weighted avg       0.82      0.82      0.82       262\n",
      " \n",
      "\n"
     ]
    }
   ],
   "source": [
    "dt.fit(X_train_fs, y_train) # Here we use the right percentile of features to train the classifier\n",
    "X_test_fs = fs.transform(X_test)\n",
    "measure_performance(X_test_fs, y_test, dt, show_confussion_matrix=False, show_classification_report=True)"
   ]
  },
  {
   "cell_type": "code",
   "execution_count": 32,
   "metadata": {},
   "outputs": [
    {
     "name": "stdout",
     "output_type": "stream",
     "text": [
      "Accuracy:0.725 \n",
      "\n"
     ]
    }
   ],
   "source": [
    "dt = tree.DecisionTreeClassifier(criterion='entropy')\n",
    "dt.fit(X_train, y_train) # training with the entire data set\n",
    "measure_performance(X_test, y_test, dt, show_confussion_matrix=False, show_classification_report=False)"
   ]
  },
  {
   "cell_type": "markdown",
   "metadata": {},
   "source": [
    "<p>The accuracy went back down. </p>"
   ]
  },
  {
   "cell_type": "markdown",
   "metadata": {},
   "source": [
    "#### Another parameter of decision tree that can have an impact on accuracy is 'max-depth'"
   ]
  },
  {
   "cell_type": "code",
   "execution_count": 33,
   "metadata": {},
   "outputs": [
    {
     "name": "stdout",
     "output_type": "stream",
     "text": [
      "Accuracy:0.794 \n",
      "\n"
     ]
    }
   ],
   "source": [
    "# We are varying some of these parameters. \n",
    "dt = tree.DecisionTreeClassifier(criterion='entropy')\n",
    "dt.set_params(max_depth=5)\n",
    "\n",
    "dt.fit(X_train, y_train)\n",
    "measure_performance(X_test, y_test, dt, show_confussion_matrix=False, show_classification_report=False)"
   ]
  },
  {
   "cell_type": "markdown",
   "metadata": {},
   "source": [
    "#### But, again, we need a more systematic way to explore the space of values for each parameter. The following is a general function that performs cross-validation using a range of values for a specified parameter of a model"
   ]
  },
  {
   "cell_type": "code",
   "execution_count": 49,
   "metadata": {},
   "outputs": [],
   "source": [
    "from sklearn.model_selection import KFold\n",
    "\n",
    "def calc_params(X, y, clf, param_values, param_name, K):\n",
    "    \n",
    "    # Convert input to Numpy arrays\n",
    "    X = np.array(X)\n",
    "    y = np.array(y)\n",
    "\n",
    "    # initialize training and testing scores with zeros\n",
    "    train_scores = np.zeros(len(param_values))\n",
    "    test_scores = np.zeros(len(param_values))\n",
    "    \n",
    "    # iterate over the different parameter values\n",
    "    for i, param_value in enumerate(param_values):\n",
    "        print (param_name, ' = ', param_value)\n",
    "        \n",
    "        # set classifier parameters\n",
    "        clf.set_params(**{param_name:param_value})\n",
    "        \n",
    "        # initialize the K scores obtained for each fold\n",
    "        k_train_scores = np.zeros(K)\n",
    "        k_test_scores = np.zeros(K)\n",
    "        \n",
    "        # create KFold cross validation\n",
    "        #cv = KFold(len(X), K, shuffle=True, random_state=0)\n",
    "        \n",
    "        cv = KFold(n_splits=K)\n",
    "        cv.get_n_splits(X) \n",
    "        cv = KFold(n_splits=K,random_state=None, shuffle=False)\n",
    "        \n",
    "        # iterate over the K folds\n",
    "        for j, (train, test) in enumerate(cv.split(X)):\n",
    "            # fit the classifier in the corresponding fold\n",
    "            # and obtain the corresponding accuracy scores on train and test sets\n",
    "            clf.fit([X[k] for k in train], y[train])\n",
    "            k_train_scores[j] = clf.score([X[k] for k in train], y[train])\n",
    "            k_test_scores[j] = clf.score([X[k] for k in test], y[test])\n",
    "            \n",
    "        # store the mean of the K fold scores\n",
    "        train_scores[i] = np.mean(k_train_scores)\n",
    "        test_scores[i] = np.mean(k_test_scores)\n",
    "       \n",
    "    # plot the training and testing scores in a log scale\n",
    "    plt.plot(param_values, train_scores, label='Train', alpha=0.4, lw=2, c='b')\n",
    "    plt.plot(param_values, test_scores, label='X-Val', alpha=0.4, lw=2, c='g')\n",
    "    plt.legend(loc=7)\n",
    "    plt.xlabel(param_name + \" values\")\n",
    "    plt.ylabel(\"Mean cross validation accuracy\")\n",
    "\n",
    "    # return the training and testing scores on each parameter value\n",
    "    return train_scores, test_scores"
   ]
  },
  {
   "cell_type": "markdown",
   "metadata": {},
   "source": [
    "#### Now we can explore the impact of max-depth more systematically"
   ]
  },
  {
   "cell_type": "code",
   "execution_count": 52,
   "metadata": {},
   "outputs": [
    {
     "name": "stdout",
     "output_type": "stream",
     "text": [
      "<class 'numpy.ndarray'>\n"
     ]
    }
   ],
   "source": [
    "# Let's create an evenly spaced range of numbers in a specified interval\n",
    "md = np.linspace(1, 40, 20)\n",
    "md = np.array([int(e) for e in md])\n",
    "print (type(md))"
   ]
  },
  {
   "cell_type": "markdown",
   "metadata": {},
   "source": [
    "#### This is a good exploratory function to give us a sense of what is the range we should be passing, which in the end gives us the max depth value as 3"
   ]
  },
  {
   "cell_type": "code",
   "execution_count": 51,
   "metadata": {},
   "outputs": [
    {
     "name": "stdout",
     "output_type": "stream",
     "text": [
      "max_depth  =  1\n",
      "max_depth  =  3\n",
      "max_depth  =  5\n",
      "max_depth  =  7\n",
      "max_depth  =  9\n",
      "max_depth  =  11\n",
      "max_depth  =  13\n",
      "max_depth  =  15\n",
      "max_depth  =  17\n",
      "max_depth  =  19\n",
      "max_depth  =  21\n",
      "max_depth  =  23\n",
      "max_depth  =  25\n",
      "max_depth  =  27\n",
      "max_depth  =  29\n",
      "max_depth  =  31\n",
      "max_depth  =  33\n",
      "max_depth  =  35\n",
      "max_depth  =  37\n",
      "max_depth  =  40\n"
     ]
    },
    {
     "data": {
      "image/png": "[encoded data removed]",
      "text/plain": [
       "<Figure size 432x288 with 1 Axes>"
      ]
     },
     "metadata": {
      "needs_background": "light"
     },
     "output_type": "display_data"
    }
   ],
   "source": [
    "train_scores, test_scores = calc_params(X_train, y_train, dt, md, 'max_depth', 5)"
   ]
  },
  {
   "cell_type": "markdown",
   "metadata": {},
   "source": [
    "#### max_depth = 3 seems to work best; larger values seem to lead to over-fitting."
   ]
  },
  {
   "cell_type": "code",
   "execution_count": 37,
   "metadata": {},
   "outputs": [
    {
     "name": "stdout",
     "output_type": "stream",
     "text": [
      "Accuracy:0.798 \n",
      "\n"
     ]
    }
   ],
   "source": [
    "dt = tree.DecisionTreeClassifier(criterion='entropy')\n",
    "dt.set_params(max_depth=3)\n",
    "\n",
    "dt.fit(X_train, y_train)\n",
    "measure_performance(X_test, y_test, dt, show_confussion_matrix=False, show_classification_report=False)"
   ]
  },
  {
   "cell_type": "markdown",
   "metadata": {},
   "source": [
    "#### Another parameter of decision tree that's important is the min number of samples allowed at a leaf node"
   ]
  },
  {
   "cell_type": "code",
   "execution_count": 38,
   "metadata": {},
   "outputs": [
    {
     "name": "stdout",
     "output_type": "stream",
     "text": [
      "min_samples_leaf  =  1\n",
      "min_samples_leaf  =  3\n",
      "min_samples_leaf  =  5\n",
      "min_samples_leaf  =  7\n",
      "min_samples_leaf  =  9\n",
      "min_samples_leaf  =  11\n",
      "min_samples_leaf  =  13\n",
      "min_samples_leaf  =  15\n",
      "min_samples_leaf  =  17\n",
      "min_samples_leaf  =  19\n",
      "min_samples_leaf  =  21\n",
      "min_samples_leaf  =  23\n",
      "min_samples_leaf  =  25\n",
      "min_samples_leaf  =  27\n",
      "min_samples_leaf  =  30\n"
     ]
    },
    {
     "data": {
      "image/png": "[encoded data removed]",
      "text/plain": [
       "<Figure size 432x288 with 1 Axes>"
      ]
     },
     "metadata": {
      "needs_background": "light"
     },
     "output_type": "display_data"
    }
   ],
   "source": [
    "msl = np.linspace(1, 30, 15)\n",
    "msl = np.array([int(e) for e in msl])\n",
    "\n",
    "dt = tree.DecisionTreeClassifier(criterion='entropy')\n",
    "train_scores, test_scores = calc_params(X_train, y_train, dt, msl, 'min_samples_leaf', 5)\n"
   ]
  },
  {
   "cell_type": "markdown",
   "metadata": {},
   "source": [
    "<p>So, we pick something between 10 and 11.</p>"
   ]
  },
  {
   "cell_type": "markdown",
   "metadata": {},
   "source": [
    "### Looks like min_samples_leaf around 11 seems like a good choice"
   ]
  },
  {
   "cell_type": "code",
   "execution_count": 39,
   "metadata": {},
   "outputs": [
    {
     "name": "stdout",
     "output_type": "stream",
     "text": [
      "Accuracy:0.771 \n",
      "\n"
     ]
    }
   ],
   "source": [
    "dt = tree.DecisionTreeClassifier(criterion='entropy')\n",
    "dt.set_params(min_samples_leaf=10)\n",
    "\n",
    "dt.fit(X_train, y_train)\n",
    "measure_performance(X_test, y_test, dt, show_confussion_matrix=False, show_classification_report=False)"
   ]
  },
  {
   "cell_type": "markdown",
   "metadata": {},
   "source": [
    "#### Grid Search allows us to more systemiatically explore different combinations of multiple parameters"
   ]
  },
  {
   "cell_type": "code",
   "execution_count": 48,
   "metadata": {
    "scrolled": true
   },
   "outputs": [],
   "source": [
    "import math\n",
    "from sklearn.model_selection import GridSearchCV\n",
    "\n",
    "dt = tree.DecisionTreeClassifier()\n",
    "\n",
    "# min_samples_split (same for min_samples_leaf)\n",
    "# if int, then consider min_samples_split as the minimum number.\n",
    "# if float, then min_samples_split is a fraction and ceil(min_samples_split * n_samples)\n",
    "#print (len(X))\n",
    "sample_leaf_fractions = np.linspace(0.0005, 0.02, 15)*13.06\n",
    "#roundup = lambda i: math.ceil(100*i)\n",
    "#vectorized_ceil = np.vectorize(roundup)\n",
    "#vectorized_ceil(sample_fractions)\n",
    "#min_samples_leaf = vectorized_ceil(sample_fractions)\n",
    "#print(sample_fractions)\n",
    "#print(min_samples_leaf)\n",
    "#print(np.linspace(1, 30, 15),)\n",
    "\n",
    "sample_split_fractions = np.linspace(0.0005, 0.015, 10)*13.06\n",
    "parameters = {\n",
    "    'criterion': ['entropy','gini'],\n",
    "    'max_depth': np.linspace(1, 20, 10),\n",
    "    'min_samples_leaf': sample_leaf_fractions,\n",
    "    'min_samples_split': sample_split_fractions\n",
    "}\n",
    "\n",
    "gs = GridSearchCV(dt, parameters, verbose=1, cv=5)"
   ]
  },
  {
   "cell_type": "code",
   "execution_count": 41,
   "metadata": {},
   "outputs": [
    {
     "name": "stdout",
     "output_type": "stream",
     "text": [
      "Fitting 5 folds for each of 3000 candidates, totalling 15000 fits\n",
      "Wall time: 2min\n"
     ]
    }
   ],
   "source": [
    "%time _ = gs.fit(X_train, y_train)\n",
    "\n"
   ]
  },
  {
   "cell_type": "code",
   "execution_count": 42,
   "metadata": {},
   "outputs": [
    {
     "data": {
      "text/plain": [
       "({'criterion': 'entropy',\n",
       "  'max_depth': 3.111111111111111,\n",
       "  'min_samples_leaf': 0.00653,\n",
       "  'min_samples_split': 0.00653},\n",
       " 0.8122285609127715)"
      ]
     },
     "execution_count": 42,
     "metadata": {},
     "output_type": "execute_result"
    }
   ],
   "source": [
    "gs.best_params_, gs.best_score_ # how do derive min_samples_leaf=3, min_samples_split=2"
   ]
  },
  {
   "cell_type": "markdown",
   "metadata": {},
   "source": [
    "<p><strong>We get the best parameters associated with the best scores and you can train your entire training set with the best estimators</strong></p>"
   ]
  },
  {
   "cell_type": "code",
   "execution_count": 43,
   "metadata": {},
   "outputs": [
    {
     "name": "stdout",
     "output_type": "stream",
     "text": [
      "Accuracy:0.798 \n",
      "\n",
      "Classification report\n",
      "              precision    recall  f1-score   support\n",
      "\n",
      "           0       0.83      0.85      0.84       161\n",
      "           1       0.75      0.71      0.73       101\n",
      "\n",
      "    accuracy                           0.80       262\n",
      "   macro avg       0.79      0.78      0.78       262\n",
      "weighted avg       0.80      0.80      0.80       262\n",
      " \n",
      "\n"
     ]
    }
   ],
   "source": [
    "dt = tree.DecisionTreeClassifier(criterion='gini', max_depth=3, min_samples_leaf=3, min_samples_split=2)\n",
    "\n",
    "dt.fit(X_train, y_train)\n",
    "measure_performance(X_test, y_test, dt, show_confussion_matrix=False, show_classification_report=True)"
   ]
  },
  {
   "cell_type": "code",
   "execution_count": 44,
   "metadata": {},
   "outputs": [
    {
     "data": {
      "text/plain": [
       "(1044, 12)"
      ]
     },
     "execution_count": 44,
     "metadata": {},
     "output_type": "execute_result"
    }
   ],
   "source": [
    "X_train.shape"
   ]
  },
  {
   "cell_type": "code",
   "execution_count": null,
   "metadata": {},
   "outputs": [],
   "source": []
  },
  {
   "cell_type": "code",
   "execution_count": null,
   "metadata": {},
   "outputs": [],
   "source": []
  },
  {
   "cell_type": "code",
   "execution_count": null,
   "metadata": {},
   "outputs": [],
   "source": []
  }
 ],
 "metadata": {
  "kernelspec": {
   "display_name": "Python 3 (ipykernel)",
   "language": "python",
   "name": "python3"
  },
  "language_info": {
   "codemirror_mode": {
    "name": "ipython",
    "version": 3
   },
   "file_extension": ".py",
   "mimetype": "text/x-python",
   "name": "python",
   "nbconvert_exporter": "python",
   "pygments_lexer": "ipython3",
   "version": "3.7.11"
  }
 },
 "nbformat": 4,
 "nbformat_minor": 1
}
