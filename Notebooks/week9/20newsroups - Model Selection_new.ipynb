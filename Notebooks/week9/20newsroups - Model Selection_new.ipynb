{
 "cells": [
  {
   "cell_type": "markdown",
   "metadata": {},
   "source": [
    "### Newsgroup Classification\n",
    "\n",
    "#### In this notebook we will use a larger portion of the 20-Newsgroup data to perform text categorization. We will explore the use of several concepts including sparse matrices and pipleplines. We will also use parameter optimization to do model selection with Naive Bayes and Support Vector Machine classifiers."
   ]
  },
  {
   "cell_type": "code",
   "execution_count": 1,
   "metadata": {
    "scrolled": false
   },
   "outputs": [
    {
     "name": "stdout",
     "output_type": "stream",
     "text": [
      "Populating the interactive namespace from numpy and matplotlib\n"
     ]
    }
   ],
   "source": [
    "%pylab inline"
   ]
  },
  {
   "cell_type": "code",
   "execution_count": 2,
   "metadata": {
    "scrolled": true
   },
   "outputs": [],
   "source": [
    "import pandas as pd\n",
    "import numpy as np\n",
    "from sklearn.naive_bayes import MultinomialNB\n",
    "from sklearn.pipeline import Pipeline\n",
    "from sklearn.feature_extraction.text import TfidfVectorizer"
   ]
  },
  {
   "cell_type": "code",
   "execution_count": 3,
   "metadata": {
    "scrolled": true
   },
   "outputs": [],
   "source": [
    "from sklearn.datasets import fetch_20newsgroups\n",
    "\n",
    "news = fetch_20newsgroups(subset='all')\n",
    "\n",
    "# We'll use only the first 3000 documents\n",
    "n_samples = 3000\n",
    "\n",
    "X = news.data[:n_samples]\n",
    "y = news.target[:n_samples]"
   ]
  },
  {
   "cell_type": "code",
   "execution_count": 4,
   "metadata": {
    "scrolled": true
   },
   "outputs": [
    {
     "data": {
      "text/plain": [
       "['alt.atheism',\n",
       " 'comp.graphics',\n",
       " 'comp.os.ms-windows.misc',\n",
       " 'comp.sys.ibm.pc.hardware',\n",
       " 'comp.sys.mac.hardware',\n",
       " 'comp.windows.x',\n",
       " 'misc.forsale',\n",
       " 'rec.autos',\n",
       " 'rec.motorcycles',\n",
       " 'rec.sport.baseball',\n",
       " 'rec.sport.hockey',\n",
       " 'sci.crypt',\n",
       " 'sci.electronics',\n",
       " 'sci.med',\n",
       " 'sci.space',\n",
       " 'soc.religion.christian',\n",
       " 'talk.politics.guns',\n",
       " 'talk.politics.mideast',\n",
       " 'talk.politics.misc',\n",
       " 'talk.religion.misc']"
      ]
     },
     "execution_count": 4,
     "metadata": {},
     "output_type": "execute_result"
    }
   ],
   "source": [
    "news.target_names"
   ]
  },
  {
   "cell_type": "code",
   "execution_count": 5,
   "metadata": {
    "scrolled": true
   },
   "outputs": [
    {
     "data": {
      "text/plain": [
       "[\"From: Mamatha Devineni Ratnam <mr47+@andrew.cmu.edu>\\nSubject: Pens fans reactions\\nOrganization: Post Office, Carnegie Mellon, Pittsburgh, PA\\nLines: 12\\nNNTP-Posting-Host: po4.andrew.cmu.edu\\n\\n\\n\\nI am sure some bashers of Pens fans are pretty confused about the lack\\nof any kind of posts about the recent Pens massacre of the Devils. Actually,\\nI am  bit puzzled too and a bit relieved. However, I am going to put an end\\nto non-PIttsburghers' relief with a bit of praise for the Pens. Man, they\\nare killing those Devils worse than I thought. Jagr just showed you why\\nhe is much better than his regular season stats. He is also a lot\\nfo fun to watch in the playoffs. Bowman should let JAgr have a lot of\\nfun in the next couple of games since the Pens are going to beat the pulp out of Jersey anyway. I was very disappointed not to see the Islanders lose the final\\nregular season game.          PENS RULE!!!\\n\\n\",\n",
       " 'From: mblawson@midway.ecn.uoknor.edu (Matthew B Lawson)\\nSubject: Which high-performance VLB video card?\\nSummary: Seek recommendations for VLB video card\\nNntp-Posting-Host: midway.ecn.uoknor.edu\\nOrganization: Engineering Computer Network, University of Oklahoma, Norman, OK, USA\\nKeywords: orchid, stealth, vlb\\nLines: 21\\n\\n  My brother is in the market for a high-performance video card that supports\\nVESA local bus with 1-2MB RAM.  Does anyone have suggestions/ideas on:\\n\\n  - Diamond Stealth Pro Local Bus\\n\\n  - Orchid Farenheit 1280\\n\\n  - ATI Graphics Ultra Pro\\n\\n  - Any other high-performance VLB card\\n\\n\\nPlease post or email.  Thank you!\\n\\n  - Matt\\n\\n-- \\n    |  Matthew B. Lawson <------------> (mblawson@essex.ecn.uoknor.edu)  |   \\n  --+-- \"Now I, Nebuchadnezzar, praise and exalt and glorify the King  --+-- \\n    |   of heaven, because everything he does is right and all his ways  |   \\n    |   are just.\" - Nebuchadnezzar, king of Babylon, 562 B.C.           |   \\n']"
      ]
     },
     "execution_count": 5,
     "metadata": {},
     "output_type": "execute_result"
    }
   ],
   "source": [
    "### Each document is a message posted on a newsgroup. Below is the text of the first two messages in the data.\n",
    "# You want to classify them by topics.\n",
    "\n",
    "X[:2]"
   ]
  },
  {
   "cell_type": "code",
   "execution_count": 6,
   "metadata": {
    "scrolled": false
   },
   "outputs": [
    {
     "name": "stdout",
     "output_type": "stream",
     "text": [
      "{0, 1, 2, 3, 4, 5, 6, 7, 8, 9, 10, 11, 12, 13, 14, 15, 16, 17, 18, 19}\n"
     ]
    }
   ],
   "source": [
    "### Class labels for the newsgroups\n",
    "\n",
    "print(set(y))"
   ]
  },
  {
   "cell_type": "code",
   "execution_count": 7,
   "metadata": {
    "scrolled": true
   },
   "outputs": [],
   "source": [
    "from sklearn.model_selection import train_test_split\n",
    "X_train, X_test, y_train, y_test = train_test_split(X, y, test_size=0.2, random_state=11)"
   ]
  },
  {
   "cell_type": "code",
   "execution_count": 8,
   "metadata": {
    "scrolled": true
   },
   "outputs": [
    {
     "data": {
      "text/html": [
       "<div>\n",
       "<style scoped>\n",
       "    .dataframe tbody tr th:only-of-type {\n",
       "        vertical-align: middle;\n",
       "    }\n",
       "\n",
       "    .dataframe tbody tr th {\n",
       "        vertical-align: top;\n",
       "    }\n",
       "\n",
       "    .dataframe thead th {\n",
       "        text-align: right;\n",
       "    }\n",
       "</style>\n",
       "<table border=\"1\" class=\"dataframe\">\n",
       "  <thead>\n",
       "    <tr style=\"text-align: right;\">\n",
       "      <th></th>\n",
       "      <th>0</th>\n",
       "    </tr>\n",
       "  </thead>\n",
       "  <tbody>\n",
       "    <tr>\n",
       "      <th>0</th>\n",
       "      <td>a</td>\n",
       "    </tr>\n",
       "    <tr>\n",
       "      <th>1</th>\n",
       "      <td>about</td>\n",
       "    </tr>\n",
       "    <tr>\n",
       "      <th>2</th>\n",
       "      <td>above</td>\n",
       "    </tr>\n",
       "    <tr>\n",
       "      <th>3</th>\n",
       "      <td>across</td>\n",
       "    </tr>\n",
       "    <tr>\n",
       "      <th>4</th>\n",
       "      <td>after</td>\n",
       "    </tr>\n",
       "    <tr>\n",
       "      <th>...</th>\n",
       "      <td>...</td>\n",
       "    </tr>\n",
       "    <tr>\n",
       "      <th>313</th>\n",
       "      <td>you</td>\n",
       "    </tr>\n",
       "    <tr>\n",
       "      <th>314</th>\n",
       "      <td>your</td>\n",
       "    </tr>\n",
       "    <tr>\n",
       "      <th>315</th>\n",
       "      <td>yours</td>\n",
       "    </tr>\n",
       "    <tr>\n",
       "      <th>316</th>\n",
       "      <td>yourself</td>\n",
       "    </tr>\n",
       "    <tr>\n",
       "      <th>317</th>\n",
       "      <td>yourselves</td>\n",
       "    </tr>\n",
       "  </tbody>\n",
       "</table>\n",
       "<p>318 rows × 1 columns</p>\n",
       "</div>"
      ],
      "text/plain": [
       "              0\n",
       "0             a\n",
       "1         about\n",
       "2         above\n",
       "3        across\n",
       "4         after\n",
       "..          ...\n",
       "313         you\n",
       "314        your\n",
       "315       yours\n",
       "316    yourself\n",
       "317  yourselves\n",
       "\n",
       "[318 rows x 1 columns]"
      ]
     },
     "execution_count": 8,
     "metadata": {},
     "output_type": "execute_result"
    }
   ],
   "source": [
    "### As part of preprocessing, we will remove the stop word\n",
    "\n",
    "stopwords = pd.read_csv('stopwords_en.txt', header=None) # we get all the stop words\n",
    "stopwords"
   ]
  },
  {
   "cell_type": "code",
   "execution_count": 9,
   "metadata": {
    "scrolled": true
   },
   "outputs": [],
   "source": [
    "stop_words = list(stopwords.values.ravel())"
   ]
  },
  {
   "cell_type": "code",
   "execution_count": 10,
   "metadata": {
    "scrolled": true
   },
   "outputs": [],
   "source": [
    "# TfidfVectorizer performs tokenization, removes stop words, and performs tfxidf transformation\n",
    "# we are telling Tfidf that these are stop words.\n",
    "# the token_pattern parameter is instructing TFIDF how to break down the texts into tokens like grandfather could be two tokens\n",
    "\n",
    "tfidf = TfidfVectorizer(stop_words=stop_words, token_pattern=r\"\\b[a-z0-9_\\-\\.]+[a-z][a-z0-9_\\-\\.]+\\b\", norm=None)"
   ]
  },
  {
   "cell_type": "code",
   "execution_count": 11,
   "metadata": {
    "scrolled": true
   },
   "outputs": [],
   "source": [
    "X_tfidf = tfidf.fit_transform(X_train) # build the tfidf transformation."
   ]
  },
  {
   "cell_type": "code",
   "execution_count": 12,
   "metadata": {
    "scrolled": true
   },
   "outputs": [
    {
     "data": {
      "text/plain": [
       "(2400, 50884)"
      ]
     },
     "execution_count": 12,
     "metadata": {},
     "output_type": "execute_result"
    }
   ],
   "source": [
    "X_tfidf.shape # you have 2400 actual news and 50884 features. It helps to have removed the stop words"
   ]
  },
  {
   "cell_type": "code",
   "execution_count": 13,
   "metadata": {
    "scrolled": true
   },
   "outputs": [],
   "source": [
    "X_test_tfidf = tfidf.transform(X_test)"
   ]
  },
  {
   "cell_type": "code",
   "execution_count": 14,
   "metadata": {
    "scrolled": true
   },
   "outputs": [
    {
     "data": {
      "text/plain": [
       "(600, 50884)"
      ]
     },
     "execution_count": 14,
     "metadata": {},
     "output_type": "execute_result"
    }
   ],
   "source": [
    "X_test_tfidf.shape"
   ]
  },
  {
   "cell_type": "markdown",
   "metadata": {},
   "source": [
    "#### Note that the transformed data is stored in a sparse matrix (which is much more efficient for large data sets)"
   ]
  },
  {
   "cell_type": "code",
   "execution_count": 15,
   "metadata": {
    "scrolled": true
   },
   "outputs": [
    {
     "data": {
      "text/plain": [
       "<2400x50884 sparse matrix of type '<class 'numpy.float64'>'\n",
       "\twith 240415 stored elements in Compressed Sparse Row format>"
      ]
     },
     "execution_count": 15,
     "metadata": {},
     "output_type": "execute_result"
    }
   ],
   "source": [
    "X_tfidf # this is a sparse matrix of type which stores all your vectors."
   ]
  },
  {
   "cell_type": "code",
   "execution_count": 16,
   "metadata": {
    "scrolled": true
   },
   "outputs": [
    {
     "name": "stdout",
     "output_type": "stream",
     "text": [
      "  (0, 49332)\t7.397346235101363\n",
      "  (0, 43052)\t5.564764771353053\n",
      "  (0, 18167)\t5.648146380292103\n",
      "  (0, 7498)\t8.090493415661307\n",
      "  (0, 39007)\t4.12968024606373\n",
      "  (0, 4094)\t4.178470410233162\n",
      "  (0, 44717)\t2.870137590582983\n",
      "  (0, 23250)\t3.820795965961346\n",
      "  (0, 38015)\t5.287133034754773\n",
      "  (0, 35158)\t4.609253326325616\n",
      "  (0, 7542)\t5.605586765873308\n",
      "  (0, 30286)\t5.287133034754773\n",
      "  (0, 35471)\t3.5632847711429285\n",
      "  (0, 11875)\t4.912439585313362\n",
      "  (0, 23280)\t3.3326021426555528\n",
      "  (0, 7577)\t3.5687048386122675\n",
      "  (0, 5435)\t4.832396877639826\n",
      "  (0, 17725)\t8.090493415661307\n",
      "  (0, 28190)\t5.73911815849783\n",
      "  (0, 15253)\t7.786582935998999\n",
      "  (0, 3192)\t8.090493415661307\n",
      "  (0, 21073)\t3.5741544433798325\n",
      "  (0, 23657)\t3.8636596703931283\n",
      "  (0, 33982)\t5.094761142107317\n",
      "  (0, 43410)\t6.075590395119043\n",
      "  :\t:\n",
      "  (1, 29378)\t3.8419981736119486\n",
      "  (1, 20292)\t8.090493415661307\n",
      "  (1, 49558)\t7.685028307553144\n",
      "  (1, 43458)\t16.180986831322613\n",
      "  (1, 16773)\t6.385745323422883\n",
      "  (1, 38287)\t3.7273947908729452\n",
      "  (1, 13582)\t6.218691238759717\n",
      "  (1, 2841)\t6.8377304471659395\n",
      "  (1, 11801)\t7.397346235101363\n",
      "  (1, 31865)\t1.8443866501797452\n",
      "  (1, 24072)\t7.397346235101363\n",
      "  (1, 10040)\t7.397346235101363\n",
      "  (1, 35009)\t5.525544058199771\n",
      "  (1, 44668)\t4.5209607191799375\n",
      "  (1, 11802)\t7.397346235101363\n",
      "  (1, 14055)\t26.81679621816567\n",
      "  (1, 14054)\t12.28916653321199\n",
      "  (1, 37089)\t18.65607371627915\n",
      "  (1, 8705)\t14.348405367574305\n",
      "  (1, 42707)\t19.15723597026865\n",
      "  (1, 15227)\t15.370056615106288\n",
      "  (1, 39913)\t15.370056615106288\n",
      "  (1, 26987)\t1.0016673617868688\n",
      "  (1, 33192)\t1.0412385744054713\n",
      "  (1, 43323)\t1.0\n"
     ]
    }
   ],
   "source": [
    "print(X_tfidf[:2])"
   ]
  },
  {
   "cell_type": "code",
   "execution_count": 17,
   "metadata": {
    "scrolled": true
   },
   "outputs": [],
   "source": [
    "# It's possible (though not usually necessary) to convert the matrix into a \"dense\" matrix\n",
    "\n",
    "newX = X_tfidf.todense()"
   ]
  },
  {
   "cell_type": "markdown",
   "metadata": {},
   "source": [
    "<p>Scikit leran knows what it is doing for efficiency so you will not need to do something like this.</p>"
   ]
  },
  {
   "cell_type": "code",
   "execution_count": 18,
   "metadata": {
    "scrolled": true
   },
   "outputs": [
    {
     "data": {
      "text/plain": [
       "(2400, 50884)"
      ]
     },
     "execution_count": 18,
     "metadata": {},
     "output_type": "execute_result"
    }
   ],
   "source": [
    "newX.shape"
   ]
  },
  {
   "cell_type": "code",
   "execution_count": 19,
   "metadata": {
    "scrolled": true
   },
   "outputs": [
    {
     "name": "stdout",
     "output_type": "stream",
     "text": [
      "[[0. 0. 0. 0. 0. 0. 0. 0. 0. 0. 0. 0. ... 0. 0. 0. 0. 0. 0. 0. 0. 0. 0. 0. 0.]\n",
      " [0. 0. 0. 0. 0. 0. 0. 0. 0. 0. 0. 0. ... 0. 0. 0. 0. 0. 0. 0. 0. 0. 0. 0. 0.]\n",
      " [0. 0. 0. 0. 0. 0. 0. 0. 0. 0. 0. 0. ... 0. 0. 0. 0. 0. 0. 0. 0. 0. 0. 0. 0.]\n",
      " [0. 0. 0. 0. 0. 0. 0. 0. 0. 0. 0. 0. ... 0. 0. 0. 0. 0. 0. 0. 0. 0. 0. 0. 0.]\n",
      " [0. 0. 0. 0. 0. 0. 0. 0. 0. 0. 0. 0. ... 0. 0. 0. 0. 0. 0. 0. 0. 0. 0. 0. 0.]\n",
      " [0. 0. 0. 0. 0. 0. 0. 0. 0. 0. 0. 0. ... 0. 0. 0. 0. 0. 0. 0. 0. 0. 0. 0. 0.]\n",
      " [0. 0. 0. 0. 0. 0. 0. 0. 0. 0. 0. 0. ... 0. 0. 0. 0. 0. 0. 0. 0. 0. 0. 0. 0.]\n",
      " [0. 0. 0. 0. 0. 0. 0. 0. 0. 0. 0. 0. ... 0. 0. 0. 0. 0. 0. 0. 0. 0. 0. 0. 0.]\n",
      " [0. 0. 0. 0. 0. 0. 0. 0. 0. 0. 0. 0. ... 0. 0. 0. 0. 0. 0. 0. 0. 0. 0. 0. 0.]\n",
      " [0. 0. 0. 0. 0. 0. 0. 0. 0. 0. 0. 0. ... 0. 0. 0. 0. 0. 0. 0. 0. 0. 0. 0. 0.]]\n"
     ]
    }
   ],
   "source": [
    "np.set_printoptions(linewidth=120, edgeitems=12)\n",
    "print(newX[:10])"
   ]
  },
  {
   "cell_type": "code",
   "execution_count": 20,
   "metadata": {
    "scrolled": true
   },
   "outputs": [
    {
     "name": "stdout",
     "output_type": "stream",
     "text": [
      "[[ 353.9656672 ]\n",
      " [ 615.80709319]\n",
      " [1509.21571478]\n",
      " [ 312.42228218]\n",
      " [ 497.40865428]\n",
      " [ 296.22891235]\n",
      " [ 394.92406169]\n",
      " [  79.0181996 ]\n",
      " [ 434.75655621]\n",
      " [ 604.78797848]\n",
      " [ 194.77220879]\n",
      " [ 649.8057449 ]\n",
      " ...\n",
      " [1081.70559415]\n",
      " [ 318.71902192]\n",
      " [ 458.42934382]\n",
      " [1428.55046974]\n",
      " [ 672.76200713]\n",
      " [1823.29391322]\n",
      " [ 372.98326499]\n",
      " [ 181.37967281]\n",
      " [ 436.71258582]\n",
      " [ 468.22025205]\n",
      " [ 468.7423809 ]\n",
      " [ 174.00737792]]\n"
     ]
    }
   ],
   "source": [
    "print(newX.sum(axis=1))"
   ]
  },
  {
   "cell_type": "markdown",
   "metadata": {},
   "source": [
    "#### Fortunately, scikit-learn modules handle sparse matrices natively. So, the sparse matrices, such as X_tfidf above, an be directly passed to scikit-learn models. \n",
    "\n"
   ]
  },
  {
   "cell_type": "markdown",
   "metadata": {},
   "source": [
    "### Using Pipelines\n",
    "\n",
    "#### Pipelines allow us to create machine learning workflows that combine different tasks. For example, preprocessing tasks can be combined with model creation. In the following examples, we'll use a pipeline to integrate the tokenization and TFIDF transformation preprocessing steps into our classification model. The full pipeline can then be used in training and evaluation of models."
   ]
  },
  {
   "cell_type": "code",
   "execution_count": 21,
   "metadata": {
    "scrolled": true
   },
   "outputs": [],
   "source": [
    "### Lets' set up a pipeline to perform preprocessng of the newsgroup data and \n",
    "### classification of the documents using Multiomial Naive Bayes\n",
    "\n",
    "clf = Pipeline([\n",
    "    ('vect', TfidfVectorizer(\n",
    "                stop_words=stop_words,\n",
    "                token_pattern=r\"\\b[a-z0-9_\\-\\.]+[a-z][a-z0-9_\\-\\.]+\\b\",         \n",
    "    )),\n",
    "    ('nb', MultinomialNB(alpha=0.01)), # This is our classifier that we give alhpa  = 0.01\n",
    "])"
   ]
  },
  {
   "cell_type": "markdown",
   "metadata": {},
   "source": [
    "<p>So i you apply this classifier to the data, it is going to do both to the matrix.</p>"
   ]
  },
  {
   "cell_type": "code",
   "execution_count": 22,
   "metadata": {
    "scrolled": true
   },
   "outputs": [],
   "source": [
    "### We can use this function ot do cross-validation\n",
    "\n",
    "from sklearn.model_selection import cross_val_score, KFold\n",
    "from scipy.stats import sem\n",
    "\n",
    "def evaluate_cross_validation(clf, X, y, K):\n",
    "    # create a k-fold cross validation iterator of K folds\n",
    "    cv = KFold(n_splits=K, random_state=0, shuffle=True)\n",
    "    # by default the score used is the one returned by score method of the estimator (accuracy)\n",
    "    scores = cross_val_score(clf, X, y, cv=cv)\n",
    "    print(scores)\n",
    "    print(\"Mean score: %.3f (+/-%.3f)\" % (np.mean(scores), sem(scores)))"
   ]
  },
  {
   "cell_type": "markdown",
   "metadata": {},
   "source": [
    "<p> Evaluate is doing the Kfold cross validation which we initialize it with how many ks we want. Here we are just cross validating and getting the average score and get the error (standard deviation) using the sem method </p>"
   ]
  },
  {
   "cell_type": "markdown",
   "metadata": {},
   "source": [
    "#### Note that the full pipeline is beign passed as the model to the cross-validation function"
   ]
  },
  {
   "cell_type": "code",
   "execution_count": 23,
   "metadata": {
    "scrolled": true
   },
   "outputs": [
    {
     "name": "stdout",
     "output_type": "stream",
     "text": [
      "[0.80833333 0.81458333 0.81666667 0.79583333 0.8       ]\n",
      "Mean score: 0.807 (+/-0.004)\n"
     ]
    }
   ],
   "source": [
    "evaluate_cross_validation(clf, X_train, y_train, 5)"
   ]
  },
  {
   "cell_type": "markdown",
   "metadata": {},
   "source": [
    "<p>We got pretty close numbers by doing 5 folds.</p>"
   ]
  },
  {
   "cell_type": "markdown",
   "metadata": {},
   "source": [
    "#### To optimize model parameters individually (in this case Naive Bayes smoothing parameter alpha), we can use our \"calc_params' function used in earlier examples."
   ]
  },
  {
   "cell_type": "code",
   "execution_count": 24,
   "metadata": {
    "scrolled": true
   },
   "outputs": [],
   "source": [
    "def calc_params(X, y, clf, param_values, param_name, K):\n",
    "    \n",
    "    # Convert input to Numpy arrays\n",
    "    X = np.array(X)\n",
    "    y = np.array(y)\n",
    "\n",
    "    # initialize training and testing score arrays with zeros\n",
    "    train_scores = np.zeros(len(param_values))\n",
    "    test_scores = np.zeros(len(param_values))\n",
    "    \n",
    "    # iterate over the different parameter values\n",
    "    for i, param_value in enumerate(param_values):\n",
    "        print(param_name, ' = ', param_value)\n",
    "\n",
    "        # set classifier parameters\n",
    "        clf.set_params(**{param_name:param_value})\n",
    "        \n",
    "        # initialize the K scores obtained for each fold\n",
    "        k_train_scores = np.zeros(K)\n",
    "        k_test_scores = np.zeros(K)\n",
    "        \n",
    "        # create KFold cross validation\n",
    "        cv = KFold(n_splits=K, shuffle=True, random_state=0)\n",
    "        \n",
    "        # iterate over the K folds\n",
    "        j = 0\n",
    "        for train, test in cv.split(X):\n",
    "            # fit the classifier in the corresponding fold\n",
    "            # and obtain the corresponding accuracy scores on train and test sets\n",
    "            clf.fit(X[train], y[train]) # fir the classifier with the training set and training labels\n",
    "            k_train_scores[j] = clf.score(X[train], y[train])\n",
    "            k_test_scores[j] = clf.score(X[test], y[test])\n",
    "            \n",
    "            # collect test scores and train scores for every single values in our param meter values\n",
    "#             k_train_scores[j] = clf.score([X[k] for k in train], y[train])\n",
    "#             k_test_scores[j] = clf.score([X[k] for k in test], y[test])\n",
    "            j += 1\n",
    "            \n",
    "        # store the mean of the K fold scores\n",
    "        train_scores[i] = np.mean(k_train_scores)\n",
    "        test_scores[i] = np.mean(k_test_scores)\n",
    "        print(param_name, '=', param_value, \"Train =\", train_scores[i], \"Test =\", test_scores[i])\n",
    "       \n",
    "    # plot the training and testing scores in a log scale\n",
    "    # alpha is the transparency of the plot\n",
    "    # lw is the width of the line.\n",
    "    plt.semilogx(param_values, train_scores, label='Train', alpha=0.4, lw=2, c='b')\n",
    "    plt.semilogx(param_values, test_scores, label='X-Val', alpha=0.4, lw=2, c='g')\n",
    "    plt.legend(loc=7)\n",
    "    plt.xlabel(param_name + \" values\")\n",
    "    plt.ylabel(\"Mean cross validation accuracy\")  # we are plotting the accuracy of each parameter, \n",
    "\n",
    "    # return the training and testing scores on each parameter value\n",
    "    return train_scores, test_scores"
   ]
  },
  {
   "cell_type": "markdown",
   "metadata": {},
   "source": [
    "<p>In the above function, we pass it X, our target, classifier, parameter values and parameter names because we are going to do our own Grid Search and for tuning how many K folds validation we would like to do. </p>"
   ]
  },
  {
   "cell_type": "code",
   "execution_count": 25,
   "metadata": {
    "scrolled": true
   },
   "outputs": [
    {
     "name": "stdout",
     "output_type": "stream",
     "text": [
      "[1.00000000e-07 5.99484250e-07 3.59381366e-06 2.15443469e-05 1.29154967e-04 7.74263683e-04 4.64158883e-03\n",
      " 2.78255940e-02 1.66810054e-01 1.00000000e+00]\n"
     ]
    }
   ],
   "source": [
    "alphas = np.logspace(-7, 0, 10) # this is telling us how we are going to space the alphas\n",
    "print(alphas)"
   ]
  },
  {
   "cell_type": "code",
   "execution_count": 26,
   "metadata": {
    "scrolled": false
   },
   "outputs": [
    {
     "name": "stdout",
     "output_type": "stream",
     "text": [
      "nb__alpha  =  1e-07\n",
      "nb__alpha = 1e-07 Train = 1.0 Test = 0.7670833333333332\n",
      "nb__alpha  =  5.994842503189409e-07\n",
      "nb__alpha = 5.994842503189409e-07 Train = 1.0 Test = 0.7708333333333334\n",
      "nb__alpha  =  3.5938136638046257e-06\n",
      "nb__alpha = 3.5938136638046257e-06 Train = 1.0 Test = 0.77625\n",
      "nb__alpha  =  2.1544346900318867e-05\n",
      "nb__alpha = 2.1544346900318867e-05 Train = 1.0 Test = 0.7845833333333334\n",
      "nb__alpha  =  0.0001291549665014884\n",
      "nb__alpha = 0.0001291549665014884 Train = 1.0 Test = 0.7908333333333333\n",
      "nb__alpha  =  0.000774263682681127\n",
      "nb__alpha = 0.000774263682681127 Train = 1.0 Test = 0.7987500000000001\n",
      "nb__alpha  =  0.004641588833612782\n",
      "nb__alpha = 0.004641588833612782 Train = 1.0 Test = 0.8066666666666666\n",
      "nb__alpha  =  0.02782559402207126\n",
      "nb__alpha = 0.02782559402207126 Train = 0.9992708333333333 Test = 0.8016666666666665\n",
      "nb__alpha  =  0.1668100537200059\n",
      "nb__alpha = 0.1668100537200059 Train = 0.9945833333333335 Test = 0.7858333333333333\n",
      "nb__alpha  =  1.0\n",
      "nb__alpha = 1.0 Train = 0.9701041666666667 Test = 0.7145833333333333\n"
     ]
    },
    {
     "data": {
      "image/png": "[encoded data removed]",
      "text/plain": [
       "<Figure size 432x288 with 1 Axes>"
      ]
     },
     "metadata": {
      "needs_background": "light"
     },
     "output_type": "display_data"
    }
   ],
   "source": [
    "train_scores, test_scores = calc_params(X_train, y_train, clf, alphas, 'nb__alpha', 5)"
   ]
  },
  {
   "cell_type": "markdown",
   "metadata": {},
   "source": [
    "<p>Training is expected to be higher (from left to right)and testing is low, moving from right to left so we would like to be around 10 ^-2.</p>"
   ]
  },
  {
   "cell_type": "code",
   "execution_count": 27,
   "metadata": {},
   "outputs": [
    {
     "name": "stdout",
     "output_type": "stream",
     "text": [
      "training scores:  [1.         1.         1.         1.         1.         1.         1.         0.99927083 0.99458333 0.97010417]\n",
      "testing scores:  [0.76708333 0.77083333 0.77625    0.78458333 0.79083333 0.79875    0.80666667 0.80166667 0.78583333 0.71458333]\n"
     ]
    }
   ],
   "source": [
    "print('training scores: ', train_scores)\n",
    "print('testing scores: ', test_scores)"
   ]
  },
  {
   "cell_type": "markdown",
   "metadata": {},
   "source": [
    "#### These results suggest that the optimum value of alpha is roughly between 0.03 and 0.05."
   ]
  },
  {
   "cell_type": "code",
   "execution_count": 28,
   "metadata": {
    "scrolled": true
   },
   "outputs": [],
   "source": [
    "### Let's use alpha = 0.04 for the final model\n",
    "\n",
    "mnb = MultinomialNB(alpha=0.04)"
   ]
  },
  {
   "cell_type": "code",
   "execution_count": 29,
   "metadata": {
    "scrolled": true
   },
   "outputs": [
    {
     "data": {
      "text/plain": [
       "MultinomialNB(alpha=0.04)"
      ]
     },
     "execution_count": 29,
     "metadata": {},
     "output_type": "execute_result"
    }
   ],
   "source": [
    "mnb.fit(X_tfidf, y_train)"
   ]
  },
  {
   "cell_type": "code",
   "execution_count": 30,
   "metadata": {
    "scrolled": false
   },
   "outputs": [
    {
     "name": "stdout",
     "output_type": "stream",
     "text": [
      "[15 14  3 19  6 19  3 13  1 19  0 12  8  4 12  3 11 11 18  4 12 12 18 12  5 10  5 12  4  3  1 13  9 15 12 17  7  8 12\n",
      " 12  1  3 18 11  3  3  6  5 17  8 10 18 19 10  9 12  1 12 16  5  7 13 18  3 10 14  8  7  7 12  4  3 18 12  5 13 15 18\n",
      " 15 14 16  9 16 14 11  9 15  4  3 14 14  8  9 17 15  4 11 12  7  9  4 17 17 12  1  4 11  6 13  0  1  5 12 13  6  6 11\n",
      " 18 13 12 17  3  8 12 19 14  0 10  5 14 14  9 12  4 12 11  4  9  7 12 11  9  7 16 16 14 12  9 15  8  9 18  7 18  5 10\n",
      " 15  8  1  5 17 12  3  7  4 16 11  4  6 12 11 13 18  5  8 15  3 15  5 15  3 19 14  5 10  2  7 13  4 13 17  6  8 12 14\n",
      " 14 14 15 12  3  5 17 18 19  4  3 16  9  1  7 15 10 13 10  3 10  9 15 17 14 14  1  3  8 11 18 16  4 15  5 13  5  0 16\n",
      " 14 10  7  3 11  6  0  4  6 15 18  2  4 14  5  5 10 15  3 17  8 18  8  7  6 19 10  4 10  8 18  1  8 15 11 12 11  3 18\n",
      " 11 11 18 11  0 12  8 13 11  0  0 12 19 16 13  1 13  3 17 11  5 12  0  0 12  7  2 15  3 13  3 15  6  4 11  5 10 15 16\n",
      " 16 17  3 18 16  8 17  4  2  4 16 17 16  5 15  2  7 14  6 19  3  6 18 15 10 12 19  8 13 18 15 14  1 15  5 11  6 12  4\n",
      " 14 13 18 11  4  1 16 10 16 19  5  9  6 10 14  3 12  6 14 16  3 19  5 10 15 18  5  8 10  7 17 11  1  3  9  7 17  5  4\n",
      " 17  8  9  5  0 16  2 11  6  7  0 12  3 12  1 19  1 16  9  8 17 12  9  5  3  9 17  8 17  4  8 17  3  4  4 11 16 17  8\n",
      " 13 15  9  1 14  4  6  0 16  8 18 16 18  9 12  2  3 13 10 18 10  2  4  9 18  1 11  0  5  9  0 15 11 14  6 18 10 16  1\n",
      "  7 16 16  8  8 15 14  3 10  1 12  4  4 12  0  5 14 15  4  3  4  7 10 12 12 12 14  6  3  8  9  1  8  0  5 16 14  0  0\n",
      " 18 11  7 11 10  1 11  9  3  9  0  4  5 12 18  5  8  5  1 17 19 14 18  5 15  4  3 18 16  1  1  0 18 18 10  3 13  4  6\n",
      " 13 11  6  3 10 12  0  1  4 18  2 10  1  4 16  6 17  4 13  7  5 19  1 12  8 13  1  3  5 11 10  4 15 16  0 13  4  0  2\n",
      " 18 12  9 10  5 14  5  1 10  0 18 10 14  9  8]\n"
     ]
    }
   ],
   "source": [
    "### Performance on the test data\n",
    "mnb_pred = mnb.predict(X_test_tfidf)\n",
    "print(mnb_pred)"
   ]
  },
  {
   "cell_type": "code",
   "execution_count": 31,
   "metadata": {
    "scrolled": false
   },
   "outputs": [
    {
     "name": "stdout",
     "output_type": "stream",
     "text": [
      "                          precision    recall  f1-score   support\n",
      "\n",
      "             alt.atheism       0.85      0.92      0.88        25\n",
      "           comp.graphics       0.69      0.83      0.76        30\n",
      " comp.os.ms-windows.misc       0.26      1.00      0.41        10\n",
      "comp.sys.ibm.pc.hardware       0.67      0.49      0.56        41\n",
      "   comp.sys.mac.hardware       0.77      0.56      0.65        41\n",
      "          comp.windows.x       0.81      0.68      0.74        38\n",
      "            misc.forsale       0.55      0.74      0.63        23\n",
      "               rec.autos       0.81      0.77      0.79        22\n",
      "         rec.motorcycles       0.86      0.94      0.90        32\n",
      "      rec.sport.baseball       0.96      0.93      0.95        28\n",
      "        rec.sport.hockey       1.00      0.94      0.97        33\n",
      "               sci.crypt       0.83      0.76      0.79        33\n",
      "         sci.electronics       0.79      0.72      0.76        47\n",
      "                 sci.med       0.88      0.88      0.88        25\n",
      "               sci.space       0.84      0.84      0.84        32\n",
      "  soc.religion.christian       0.85      0.69      0.76        32\n",
      "      talk.politics.guns       0.89      0.83      0.86        30\n",
      "   talk.politics.mideast       0.88      0.92      0.90        25\n",
      "      talk.politics.misc       0.93      0.70      0.80        37\n",
      "      talk.religion.misc       0.61      0.88      0.72        16\n",
      "\n",
      "                accuracy                           0.78       600\n",
      "               macro avg       0.79      0.80      0.78       600\n",
      "            weighted avg       0.81      0.78      0.78       600\n",
      "\n"
     ]
    }
   ],
   "source": [
    "from sklearn.metrics import classification_report\n",
    "print(classification_report(mnb_pred, y_test,\n",
    "                            target_names=news.target_names))"
   ]
  },
  {
   "cell_type": "markdown",
   "metadata": {
    "collapsed": true
   },
   "source": [
    "### Let's now try Support Vector Machines for classification"
   ]
  },
  {
   "cell_type": "code",
   "execution_count": 32,
   "metadata": {
    "scrolled": true
   },
   "outputs": [],
   "source": [
    "from sklearn.svm import SVC\n",
    "\n",
    "### Let's again create a pipeline, this time with a linear SVM\n",
    "\n",
    "clf = Pipeline([\n",
    "    ('vect', TfidfVectorizer(\n",
    "                stop_words=stop_words,\n",
    "                token_pattern=r\"\\b[a-z0-9_\\-\\.]+[a-z][a-z0-9_\\-\\.]+\\b\",         \n",
    "    )),\n",
    "    ('svc', SVC(kernel='linear')),\n",
    "])"
   ]
  },
  {
   "cell_type": "code",
   "execution_count": 33,
   "metadata": {
    "scrolled": true
   },
   "outputs": [
    {
     "name": "stdout",
     "output_type": "stream",
     "text": [
      "[0.79791667 0.80208333 0.83125    0.79583333 0.80208333]\n",
      "Mean score: 0.806 (+/-0.006)\n"
     ]
    }
   ],
   "source": [
    "evaluate_cross_validation(clf, X_train, y_train, 5)"
   ]
  },
  {
   "cell_type": "markdown",
   "metadata": {},
   "source": [
    "#### We can try different values of regulariztion parameter C for a better fit"
   ]
  },
  {
   "cell_type": "code",
   "execution_count": 34,
   "metadata": {
    "scrolled": false
   },
   "outputs": [
    {
     "name": "stdout",
     "output_type": "stream",
     "text": [
      "svc__C  =  1\n",
      "svc__C = 1 Train = 0.9971874999999999 Test = 0.8058333333333334\n",
      "svc__C  =  5\n",
      "svc__C = 5 Train = 1.0 Test = 0.8150000000000001\n",
      "svc__C  =  10\n",
      "svc__C = 10 Train = 1.0 Test = 0.8150000000000001\n",
      "svc__C  =  50\n",
      "svc__C = 50 Train = 1.0 Test = 0.8150000000000001\n",
      "svc__C  =  100\n",
      "svc__C = 100 Train = 1.0 Test = 0.8150000000000001\n"
     ]
    },
    {
     "data": {
      "image/png": "[encoded data removed]",
      "text/plain": [
       "<Figure size 432x288 with 1 Axes>"
      ]
     },
     "metadata": {
      "needs_background": "light"
     },
     "output_type": "display_data"
    }
   ],
   "source": [
    "c_vals = [1, 5, 10, 50, 100]\n",
    "\n",
    "train_scores, test_scores = calc_params(X_train, y_train, clf, c_vals, 'svc__C', 5)"
   ]
  },
  {
   "cell_type": "markdown",
   "metadata": {},
   "source": [
    "#### It seems that we can obtain a slight improvement with a higher (than the default 1.0) value of C, but not much change occurs beyond C = 10.0)"
   ]
  },
  {
   "cell_type": "markdown",
   "metadata": {},
   "source": [
    "#### Let's try to do a more systemtic grid search, this time using a Radial Basis Funtion (RBF) kernel. We'll explore the parameter space for teh same values of C as above, as well as for the values of the gamma parameter used to control the width of the RBF function (this is generally a very small value)."
   ]
  },
  {
   "cell_type": "code",
   "execution_count": 35,
   "metadata": {
    "scrolled": true
   },
   "outputs": [],
   "source": [
    "from sklearn.model_selection import GridSearchCV\n",
    "\n",
    " # here we are varying both gamma and C at the same time.\n",
    "# we assign different ranges\n",
    "parameters = {\n",
    "    'svc__gamma': np.logspace(-3, 0, 4),\n",
    "    'svc__C': [1, 5, 10, 50, 100],\n",
    "}                                           \n",
    "\n",
    "clf = Pipeline([\n",
    "    ('vect', TfidfVectorizer(\n",
    "                stop_words=stop_words,\n",
    "                token_pattern=r\"\\b[a-z0-9_\\-\\.]+[a-z][a-z0-9_\\-\\.]+\\b\",         \n",
    "    )),\n",
    "    ('svc', SVC(kernel='rbf')),\n",
    "])\n",
    "\n",
    "gs = GridSearchCV(clf, parameters, verbose=2, cv=3) # here were doing Grid Search for multiple parameters\n",
    "# we are tuning the classifier with the combination of the two parameters and each combination is going to be cross validated 3 times."
   ]
  },
  {
   "cell_type": "code",
   "execution_count": 36,
   "metadata": {
    "scrolled": false
   },
   "outputs": [
    {
     "name": "stdout",
     "output_type": "stream",
     "text": [
      "Fitting 3 folds for each of 20 candidates, totalling 60 fits\n",
      "[CV] END .........................svc__C=1, svc__gamma=0.001; total time=  19.5s\n",
      "[CV] END .........................svc__C=1, svc__gamma=0.001; total time=  13.3s\n",
      "[CV] END .........................svc__C=1, svc__gamma=0.001; total time=  20.0s\n",
      "[CV] END ..........................svc__C=1, svc__gamma=0.01; total time=  14.7s\n",
      "[CV] END ..........................svc__C=1, svc__gamma=0.01; total time=  12.2s\n",
      "[CV] END ..........................svc__C=1, svc__gamma=0.01; total time=  12.0s\n",
      "[CV] END ...........................svc__C=1, svc__gamma=0.1; total time=  13.1s\n",
      "[CV] END ...........................svc__C=1, svc__gamma=0.1; total time=  12.9s\n",
      "[CV] END ...........................svc__C=1, svc__gamma=0.1; total time=  13.2s\n",
      "[CV] END ...........................svc__C=1, svc__gamma=1.0; total time=  12.5s\n",
      "[CV] END ...........................svc__C=1, svc__gamma=1.0; total time=  12.6s\n",
      "[CV] END ...........................svc__C=1, svc__gamma=1.0; total time=  13.9s\n",
      "[CV] END .........................svc__C=5, svc__gamma=0.001; total time=  12.2s\n",
      "[CV] END .........................svc__C=5, svc__gamma=0.001; total time=  12.6s\n",
      "[CV] END .........................svc__C=5, svc__gamma=0.001; total time=  15.5s\n",
      "[CV] END ..........................svc__C=5, svc__gamma=0.01; total time=  11.9s\n",
      "[CV] END ..........................svc__C=5, svc__gamma=0.01; total time=  11.7s\n",
      "[CV] END ..........................svc__C=5, svc__gamma=0.01; total time=  11.4s\n",
      "[CV] END ...........................svc__C=5, svc__gamma=0.1; total time=  10.9s\n",
      "[CV] END ...........................svc__C=5, svc__gamma=0.1; total time=  11.2s\n",
      "[CV] END ...........................svc__C=5, svc__gamma=0.1; total time=  11.8s\n",
      "[CV] END ...........................svc__C=5, svc__gamma=1.0; total time=  13.0s\n",
      "[CV] END ...........................svc__C=5, svc__gamma=1.0; total time=  12.8s\n",
      "[CV] END ...........................svc__C=5, svc__gamma=1.0; total time=  13.3s\n",
      "[CV] END ........................svc__C=10, svc__gamma=0.001; total time=  12.2s\n",
      "[CV] END ........................svc__C=10, svc__gamma=0.001; total time=  15.9s\n",
      "[CV] END ........................svc__C=10, svc__gamma=0.001; total time=  18.5s\n",
      "[CV] END .........................svc__C=10, svc__gamma=0.01; total time=  23.4s\n",
      "[CV] END .........................svc__C=10, svc__gamma=0.01; total time=  18.9s\n",
      "[CV] END .........................svc__C=10, svc__gamma=0.01; total time=  15.7s\n",
      "[CV] END ..........................svc__C=10, svc__gamma=0.1; total time=  16.3s\n",
      "[CV] END ..........................svc__C=10, svc__gamma=0.1; total time=  15.1s\n",
      "[CV] END ..........................svc__C=10, svc__gamma=0.1; total time=  16.6s\n",
      "[CV] END ..........................svc__C=10, svc__gamma=1.0; total time=  25.4s\n",
      "[CV] END ..........................svc__C=10, svc__gamma=1.0; total time=  20.3s\n",
      "[CV] END ..........................svc__C=10, svc__gamma=1.0; total time=  19.4s\n",
      "[CV] END ........................svc__C=50, svc__gamma=0.001; total time=  16.2s\n",
      "[CV] END ........................svc__C=50, svc__gamma=0.001; total time=  17.6s\n",
      "[CV] END ........................svc__C=50, svc__gamma=0.001; total time=  19.1s\n",
      "[CV] END .........................svc__C=50, svc__gamma=0.01; total time=  20.3s\n",
      "[CV] END .........................svc__C=50, svc__gamma=0.01; total time=  20.8s\n",
      "[CV] END .........................svc__C=50, svc__gamma=0.01; total time=  20.6s\n",
      "[CV] END ..........................svc__C=50, svc__gamma=0.1; total time=  11.5s\n",
      "[CV] END ..........................svc__C=50, svc__gamma=0.1; total time=  16.9s\n",
      "[CV] END ..........................svc__C=50, svc__gamma=0.1; total time=  13.7s\n",
      "[CV] END ..........................svc__C=50, svc__gamma=1.0; total time=  11.0s\n",
      "[CV] END ..........................svc__C=50, svc__gamma=1.0; total time=  11.8s\n",
      "[CV] END ..........................svc__C=50, svc__gamma=1.0; total time=  11.3s\n",
      "[CV] END .......................svc__C=100, svc__gamma=0.001; total time=  10.6s\n",
      "[CV] END .......................svc__C=100, svc__gamma=0.001; total time=  10.5s\n",
      "[CV] END .......................svc__C=100, svc__gamma=0.001; total time=  11.9s\n",
      "[CV] END ........................svc__C=100, svc__gamma=0.01; total time=  10.7s\n",
      "[CV] END ........................svc__C=100, svc__gamma=0.01; total time=  11.1s\n",
      "[CV] END ........................svc__C=100, svc__gamma=0.01; total time=  10.7s\n",
      "[CV] END .........................svc__C=100, svc__gamma=0.1; total time=  10.9s\n",
      "[CV] END .........................svc__C=100, svc__gamma=0.1; total time=  10.5s\n",
      "[CV] END .........................svc__C=100, svc__gamma=0.1; total time=  11.6s\n",
      "[CV] END .........................svc__C=100, svc__gamma=1.0; total time=  11.3s\n",
      "[CV] END .........................svc__C=100, svc__gamma=1.0; total time=  11.6s\n",
      "[CV] END .........................svc__C=100, svc__gamma=1.0; total time=  10.7s\n",
      "Wall time: 14min 43s\n"
     ]
    },
    {
     "data": {
      "text/plain": [
       "({'svc__C': 100, 'svc__gamma': 0.01}, 0.8276666666666667)"
      ]
     },
     "execution_count": 36,
     "metadata": {},
     "output_type": "execute_result"
    }
   ],
   "source": [
    "%time _ = gs.fit(X, y)\n",
    "\n",
    "gs.best_params_, gs.best_score_"
   ]
  },
  {
   "cell_type": "markdown",
   "metadata": {},
   "source": [
    "#### With the grid search we obtained a better combination of C and gamma parameters, with values 100.0 and 0.01 respectively, and we obtained a 3-fold cross validation accuracy of 0.829, better than the accuracy obtained (0.807) wiht the linear kernel and the default value of C (1.0).\n",
    "\n",
    "#### Let's train the final model with these parameters on the full training data and evaluate it on the test set."
   ]
  },
  {
   "cell_type": "code",
   "execution_count": 37,
   "metadata": {
    "scrolled": false
   },
   "outputs": [],
   "source": [
    "clf = Pipeline([\n",
    "    ('vect', TfidfVectorizer(\n",
    "                stop_words=stop_words,\n",
    "                token_pattern=r\"\\b[a-z0-9_\\-\\.]+[a-z][a-z0-9_\\-\\.]+\\b\",         \n",
    "    )),\n",
    "    ('svc', SVC(kernel='rbf', C=100, gamma=0.01)),\n",
    "])"
   ]
  },
  {
   "cell_type": "code",
   "execution_count": 38,
   "metadata": {
    "scrolled": true
   },
   "outputs": [
    {
     "data": {
      "text/plain": [
       "Pipeline(steps=[('vect',\n",
       "                 TfidfVectorizer(stop_words=['a', 'about', 'above', 'across',\n",
       "                                             'after', 'afterwards', 'again',\n",
       "                                             'against', 'all', 'almost',\n",
       "                                             'alone', 'along', 'already',\n",
       "                                             'also', 'although', 'always', 'am',\n",
       "                                             'among', 'amongst', 'amoungst',\n",
       "                                             'amount', 'an', 'and', 'another',\n",
       "                                             'any', 'anyhow', 'anyone',\n",
       "                                             'anything', 'anyway', 'anywhere', ...],\n",
       "                                 token_pattern='\\\\b[a-z0-9_\\\\-\\\\.]+[a-z][a-z0-9_\\\\-\\\\.]+\\\\b')),\n",
       "                ('svc', SVC(C=100, gamma=0.01))])"
      ]
     },
     "execution_count": 38,
     "metadata": {},
     "output_type": "execute_result"
    }
   ],
   "source": [
    "clf.fit(X_train, y_train)"
   ]
  },
  {
   "cell_type": "code",
   "execution_count": 39,
   "metadata": {
    "scrolled": true
   },
   "outputs": [],
   "source": [
    "svc_pred = clf.predict(X_test)"
   ]
  },
  {
   "cell_type": "code",
   "execution_count": 40,
   "metadata": {
    "scrolled": true
   },
   "outputs": [
    {
     "name": "stdout",
     "output_type": "stream",
     "text": [
      "0.8433333333333334\n"
     ]
    }
   ],
   "source": [
    "print(clf.score(X_test, y_test))"
   ]
  },
  {
   "cell_type": "code",
   "execution_count": 41,
   "metadata": {
    "scrolled": true
   },
   "outputs": [
    {
     "name": "stdout",
     "output_type": "stream",
     "text": [
      "                          precision    recall  f1-score   support\n",
      "\n",
      "             alt.atheism       0.85      0.92      0.88        25\n",
      "           comp.graphics       0.89      0.78      0.83        41\n",
      " comp.os.ms-windows.misc       0.85      0.85      0.85        39\n",
      "comp.sys.ibm.pc.hardware       0.60      0.82      0.69        22\n",
      "   comp.sys.mac.hardware       0.90      0.77      0.83        35\n",
      "          comp.windows.x       0.88      0.82      0.85        34\n",
      "            misc.forsale       0.77      0.92      0.84        26\n",
      "               rec.autos       0.76      0.73      0.74        22\n",
      "         rec.motorcycles       0.91      0.91      0.91        35\n",
      "      rec.sport.baseball       0.81      0.96      0.88        23\n",
      "        rec.sport.hockey       0.97      0.94      0.95        32\n",
      "               sci.crypt       0.80      0.96      0.87        25\n",
      "         sci.electronics       0.84      0.77      0.80        47\n",
      "                 sci.med       0.92      0.74      0.82        31\n",
      "               sci.space       0.88      0.97      0.92        29\n",
      "  soc.religion.christian       0.92      0.73      0.81        33\n",
      "      talk.politics.guns       0.93      0.74      0.83        35\n",
      "   talk.politics.mideast       0.92      1.00      0.96        24\n",
      "      talk.politics.misc       0.79      0.85      0.81        26\n",
      "      talk.religion.misc       0.61      0.88      0.72        16\n",
      "\n",
      "                accuracy                           0.84       600\n",
      "               macro avg       0.84      0.85      0.84       600\n",
      "            weighted avg       0.85      0.84      0.84       600\n",
      "\n"
     ]
    }
   ],
   "source": [
    "print(classification_report(svc_pred, y_test, target_names=news.target_names))"
   ]
  },
  {
   "cell_type": "code",
   "execution_count": 42,
   "metadata": {
    "scrolled": true
   },
   "outputs": [
    {
     "data": {
      "image/png": "[encoded data removed]",
      "text/plain": [
       "<Figure size 576x576 with 2 Axes>"
      ]
     },
     "metadata": {},
     "output_type": "display_data"
    }
   ],
   "source": [
    "import matplotlib.pyplot as plt\n",
    "import seaborn as sns; sns.set()\n",
    "from sklearn.metrics import confusion_matrix\n",
    "\n",
    "mat = confusion_matrix(y_test, svc_pred)\n",
    "fig, ax = plt.subplots(figsize=(8,8))\n",
    "ax = sns.heatmap(mat.T, square=True, linecolor='grey', linewidths=1, annot=True, \n",
    "            fmt='d', cbar=True, cmap='Reds', ax=ax, annot_kws={\"fontsize\":12, \"weight\":\"bold\"},\n",
    "            xticklabels=news.target_names,\n",
    "            yticklabels=news.target_names)\n",
    "bottom, top = ax.get_ylim()\n",
    "ax.set_ylim(bottom + 0.5, top - 0.5)\n",
    "plt.xlabel('true label')\n",
    "plt.ylabel('predicted label');"
   ]
  },
  {
   "cell_type": "code",
   "execution_count": 43,
   "metadata": {
    "scrolled": true
   },
   "outputs": [],
   "source": [
    "## From the Video"
   ]
  },
  {
   "cell_type": "code",
   "execution_count": 44,
   "metadata": {},
   "outputs": [],
   "source": [
    "clf = Pipeline([\n",
    "    ('vect', TfidfVectorizer(\n",
    "                stop_words=stop_words,\n",
    "                token_pattern=r\"\\b[a-z0-9_\\-\\.]+[a-z][a-z0-9_\\-\\.]+\\b\",         \n",
    "    )),\n",
    "    ('svc', SVC()),\n",
    "])"
   ]
  },
  {
   "cell_type": "code",
   "execution_count": 45,
   "metadata": {},
   "outputs": [
    {
     "name": "stdout",
     "output_type": "stream",
     "text": [
      "svc__C  =  1\n",
      "svc__C = 1 Train = 0.9992708333333333 Test = 0.7433333333333334\n",
      "svc__C  =  5\n",
      "svc__C = 5 Train = 1.0 Test = 0.7837500000000001\n",
      "svc__C  =  10\n",
      "svc__C = 10 Train = 1.0 Test = 0.7837500000000001\n",
      "svc__C  =  50\n",
      "svc__C = 50 Train = 1.0 Test = 0.7837500000000001\n",
      "svc__C  =  100\n",
      "svc__C = 100 Train = 1.0 Test = 0.7837500000000001\n"
     ]
    },
    {
     "data": {
      "image/png": "[encoded data removed]",
      "text/plain": [
       "<Figure size 432x288 with 1 Axes>"
      ]
     },
     "metadata": {},
     "output_type": "display_data"
    }
   ],
   "source": [
    "gammas = np.logspace(-2, 1, 4)\n",
    "train_scores, test_scores = calc_params(X_train, y_train, clf, c_vals, 'svc__C', 5)\n"
   ]
  },
  {
   "cell_type": "markdown",
   "metadata": {},
   "source": [
    "<p>We have underfitting on the left and overfitting on the right because the training line looks perfect and the testing one goes down. </p>"
   ]
  },
  {
   "cell_type": "code",
   "execution_count": 46,
   "metadata": {},
   "outputs": [
    {
     "name": "stdout",
     "output_type": "stream",
     "text": [
      "training scores:  [0.99927083 1.         1.         1.         1.        ]\n",
      "testing scores:  [0.74333333 0.78375    0.78375    0.78375    0.78375   ]\n"
     ]
    }
   ],
   "source": [
    "print('training scores: ', train_scores)\n",
    "print('testing scores: ', test_scores)"
   ]
  },
  {
   "cell_type": "markdown",
   "metadata": {},
   "source": [
    "<p>For gamma < 1 we have underfitting. For gamma > 1 we have overfitting. So here, the best results is for gamma = 1 where we obtain a training accuracy of 0.999 and a testing accuracy of 0.75.<p>"
   ]
  },
  {
   "cell_type": "code",
   "execution_count": 47,
   "metadata": {},
   "outputs": [],
   "source": [
    "from sklearn.model_selection import GridSearchCV\n",
    "\n",
    " # here we are varying both gamma and C at the same time.\n",
    "# we assign different ranges\n",
    "parameters = {\n",
    "    'svc__gamma': np.logspace(-2, 1, 4),\n",
    "    'svc__C': np.logspace(-1, 1, 3),\n",
    "}                                           \n",
    "\n",
    "clf = Pipeline([\n",
    "    ('vect', TfidfVectorizer(\n",
    "                stop_words=stop_words,\n",
    "                token_pattern=r\"\\b[a-z0-9_\\-\\.]+[a-z][a-z0-9_\\-\\.]+\\b\",         \n",
    "    )),\n",
    "    ('svc', SVC()),\n",
    "])\n",
    "\n",
    "gs = GridSearchCV(clf, parameters, verbose=2, cv=3) # here were doing Grid Search for multiple parameters\n",
    "# we are tuning the classifier with the combination of the two parameters and each combination is going to be cross validated 3 times."
   ]
  },
  {
   "cell_type": "code",
   "execution_count": 48,
   "metadata": {},
   "outputs": [
    {
     "ename": "NameError",
     "evalue": "name 'Y' is not defined",
     "output_type": "error",
     "traceback": [
      "\u001b[1;31m---------------------------------------------------------------------------\u001b[0m",
      "\u001b[1;31mNameError\u001b[0m                                 Traceback (most recent call last)",
      "\u001b[1;32m<timed exec>\u001b[0m in \u001b[0;36m<module>\u001b[1;34m\u001b[0m\n",
      "\u001b[1;31mNameError\u001b[0m: name 'Y' is not defined"
     ]
    },
    {
     "ename": "AttributeError",
     "evalue": "'GridSearchCV' object has no attribute 'best_params'",
     "output_type": "error",
     "traceback": [
      "\u001b[1;31m---------------------------------------------------------------------------\u001b[0m",
      "\u001b[1;31mAttributeError\u001b[0m                            Traceback (most recent call last)",
      "\u001b[1;32m~\\AppData\\Local\\Temp/ipykernel_12172/3476419304.py\u001b[0m in \u001b[0;36m<module>\u001b[1;34m\u001b[0m\n\u001b[0;32m      1\u001b[0m \u001b[0mget_ipython\u001b[0m\u001b[1;33m(\u001b[0m\u001b[1;33m)\u001b[0m\u001b[1;33m.\u001b[0m\u001b[0mrun_line_magic\u001b[0m\u001b[1;33m(\u001b[0m\u001b[1;34m'time'\u001b[0m\u001b[1;33m,\u001b[0m \u001b[1;34m'_ = gs.fit(X, Y)'\u001b[0m\u001b[1;33m)\u001b[0m\u001b[1;33m\u001b[0m\u001b[1;33m\u001b[0m\u001b[0m\n\u001b[1;32m----> 2\u001b[1;33m \u001b[0mgs\u001b[0m\u001b[1;33m.\u001b[0m\u001b[0mbest_params\u001b[0m\u001b[1;33m,\u001b[0m \u001b[0mgs\u001b[0m\u001b[1;33m.\u001b[0m\u001b[0mbest_score_\u001b[0m\u001b[1;33m\u001b[0m\u001b[1;33m\u001b[0m\u001b[0m\n\u001b[0m",
      "\u001b[1;31mAttributeError\u001b[0m: 'GridSearchCV' object has no attribute 'best_params'"
     ]
    }
   ],
   "source": [
    "%time _ = gs.fit(X, Y)\n",
    "gs.best_params, gs.best_score_"
   ]
  },
  {
   "cell_type": "markdown",
   "metadata": {},
   "source": [
    "<p>With the grid serach we obtained a better combination of C and gamma parameters, for values 10.0 and 0.10 respectively, we obtained a 3-fold cross validation accuracy of 0.828 much better than the best value we obtained (0.76) in the previous experiment by only adjusting and keeping C value at 1.0.</p>"
   ]
  },
  {
   "cell_type": "code",
   "execution_count": null,
   "metadata": {},
   "outputs": [],
   "source": []
  }
 ],
 "metadata": {
  "kernelspec": {
   "display_name": "Python 3 (ipykernel)",
   "language": "python",
   "name": "python3"
  },
  "language_info": {
   "codemirror_mode": {
    "name": "ipython",
    "version": 3
   },
   "file_extension": ".py",
   "mimetype": "text/x-python",
   "name": "python",
   "nbconvert_exporter": "python",
   "pygments_lexer": "ipython3",
   "version": "3.7.11"
  }
 },
 "nbformat": 4,
 "nbformat_minor": 1
}
