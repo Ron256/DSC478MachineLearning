{
 "cells": [
  {
   "cell_type": "markdown",
   "id": "1c807291",
   "metadata": {},
   "source": [
    "# Linear regression:\n",
    "### In this notebook, we will experiment with various regression approaches."
   ]
  },
  {
   "cell_type": "code",
   "execution_count": 1,
   "id": "fde348b0",
   "metadata": {},
   "outputs": [],
   "source": [
    "# load the necessary packages\n",
    "import numpy as np\n",
    "import pandas as pd\n",
    "import operator\n",
    "import matplotlib.pyplot as plt\n",
    "from sklearn import preprocessing\n",
    "from sklearn.model_selection import KFold\n",
    "from sklearn.linear_model import LinearRegression, Lasso, Ridge, ElasticNet, SGDRegressor\n",
    "from sklearn.model_selection import train_test_split \n",
    "import pylab as pl\n",
    "plt.style.use('ggplot')"
   ]
  },
  {
   "cell_type": "code",
   "execution_count": 2,
   "id": "68a72de3",
   "metadata": {},
   "outputs": [
    {
     "data": {
      "text/html": [
       "<div>\n",
       "<style scoped>\n",
       "    .dataframe tbody tr th:only-of-type {\n",
       "        vertical-align: middle;\n",
       "    }\n",
       "\n",
       "    .dataframe tbody tr th {\n",
       "        vertical-align: top;\n",
       "    }\n",
       "\n",
       "    .dataframe thead th {\n",
       "        text-align: right;\n",
       "    }\n",
       "</style>\n",
       "<table border=\"1\" class=\"dataframe\">\n",
       "  <thead>\n",
       "    <tr style=\"text-align: right;\">\n",
       "      <th></th>\n",
       "      <th>state</th>\n",
       "      <th>communityname</th>\n",
       "      <th>population</th>\n",
       "      <th>householdsize</th>\n",
       "      <th>racepctblack</th>\n",
       "      <th>racePctWhite</th>\n",
       "      <th>racePctAsian</th>\n",
       "      <th>racePctHisp</th>\n",
       "      <th>agePct12t21</th>\n",
       "      <th>agePct12t29</th>\n",
       "      <th>...</th>\n",
       "      <th>NumStreet</th>\n",
       "      <th>PctForeignBorn</th>\n",
       "      <th>PctBornSameState</th>\n",
       "      <th>PctSameHouse85</th>\n",
       "      <th>PctSameCity85</th>\n",
       "      <th>PctSameState85</th>\n",
       "      <th>LandArea</th>\n",
       "      <th>PopDens</th>\n",
       "      <th>PctUsePubTrans</th>\n",
       "      <th>ViolentCrimesPerPop</th>\n",
       "    </tr>\n",
       "  </thead>\n",
       "  <tbody>\n",
       "    <tr>\n",
       "      <th>0</th>\n",
       "      <td>8</td>\n",
       "      <td>Lakewoodcity</td>\n",
       "      <td>0.19</td>\n",
       "      <td>0.33</td>\n",
       "      <td>0.02</td>\n",
       "      <td>0.90</td>\n",
       "      <td>0.12</td>\n",
       "      <td>0.17</td>\n",
       "      <td>0.34</td>\n",
       "      <td>0.47</td>\n",
       "      <td>...</td>\n",
       "      <td>0.0</td>\n",
       "      <td>0.12</td>\n",
       "      <td>0.42</td>\n",
       "      <td>0.50</td>\n",
       "      <td>0.51</td>\n",
       "      <td>0.64</td>\n",
       "      <td>0.12</td>\n",
       "      <td>0.26</td>\n",
       "      <td>0.20</td>\n",
       "      <td>0.20</td>\n",
       "    </tr>\n",
       "    <tr>\n",
       "      <th>1</th>\n",
       "      <td>53</td>\n",
       "      <td>Tukwilacity</td>\n",
       "      <td>0.00</td>\n",
       "      <td>0.16</td>\n",
       "      <td>0.12</td>\n",
       "      <td>0.74</td>\n",
       "      <td>0.45</td>\n",
       "      <td>0.07</td>\n",
       "      <td>0.26</td>\n",
       "      <td>0.59</td>\n",
       "      <td>...</td>\n",
       "      <td>0.0</td>\n",
       "      <td>0.21</td>\n",
       "      <td>0.50</td>\n",
       "      <td>0.34</td>\n",
       "      <td>0.60</td>\n",
       "      <td>0.52</td>\n",
       "      <td>0.02</td>\n",
       "      <td>0.12</td>\n",
       "      <td>0.45</td>\n",
       "      <td>0.67</td>\n",
       "    </tr>\n",
       "    <tr>\n",
       "      <th>2</th>\n",
       "      <td>24</td>\n",
       "      <td>Aberdeentown</td>\n",
       "      <td>0.00</td>\n",
       "      <td>0.42</td>\n",
       "      <td>0.49</td>\n",
       "      <td>0.56</td>\n",
       "      <td>0.17</td>\n",
       "      <td>0.04</td>\n",
       "      <td>0.39</td>\n",
       "      <td>0.47</td>\n",
       "      <td>...</td>\n",
       "      <td>0.0</td>\n",
       "      <td>0.14</td>\n",
       "      <td>0.49</td>\n",
       "      <td>0.54</td>\n",
       "      <td>0.67</td>\n",
       "      <td>0.56</td>\n",
       "      <td>0.01</td>\n",
       "      <td>0.21</td>\n",
       "      <td>0.02</td>\n",
       "      <td>0.43</td>\n",
       "    </tr>\n",
       "    <tr>\n",
       "      <th>3</th>\n",
       "      <td>34</td>\n",
       "      <td>Willingborotownship</td>\n",
       "      <td>0.04</td>\n",
       "      <td>0.77</td>\n",
       "      <td>1.00</td>\n",
       "      <td>0.08</td>\n",
       "      <td>0.12</td>\n",
       "      <td>0.10</td>\n",
       "      <td>0.51</td>\n",
       "      <td>0.50</td>\n",
       "      <td>...</td>\n",
       "      <td>0.0</td>\n",
       "      <td>0.19</td>\n",
       "      <td>0.30</td>\n",
       "      <td>0.73</td>\n",
       "      <td>0.64</td>\n",
       "      <td>0.65</td>\n",
       "      <td>0.02</td>\n",
       "      <td>0.39</td>\n",
       "      <td>0.28</td>\n",
       "      <td>0.12</td>\n",
       "    </tr>\n",
       "    <tr>\n",
       "      <th>4</th>\n",
       "      <td>42</td>\n",
       "      <td>Bethlehemtownship</td>\n",
       "      <td>0.01</td>\n",
       "      <td>0.55</td>\n",
       "      <td>0.02</td>\n",
       "      <td>0.95</td>\n",
       "      <td>0.09</td>\n",
       "      <td>0.05</td>\n",
       "      <td>0.38</td>\n",
       "      <td>0.38</td>\n",
       "      <td>...</td>\n",
       "      <td>0.0</td>\n",
       "      <td>0.11</td>\n",
       "      <td>0.72</td>\n",
       "      <td>0.64</td>\n",
       "      <td>0.61</td>\n",
       "      <td>0.53</td>\n",
       "      <td>0.04</td>\n",
       "      <td>0.09</td>\n",
       "      <td>0.02</td>\n",
       "      <td>0.03</td>\n",
       "    </tr>\n",
       "  </tbody>\n",
       "</table>\n",
       "<p>5 rows × 100 columns</p>\n",
       "</div>"
      ],
      "text/plain": [
       "   state        communityname  population  householdsize  racepctblack  \\\n",
       "0      8         Lakewoodcity        0.19           0.33          0.02   \n",
       "1     53          Tukwilacity        0.00           0.16          0.12   \n",
       "2     24         Aberdeentown        0.00           0.42          0.49   \n",
       "3     34  Willingborotownship        0.04           0.77          1.00   \n",
       "4     42    Bethlehemtownship        0.01           0.55          0.02   \n",
       "\n",
       "   racePctWhite  racePctAsian  racePctHisp  agePct12t21  agePct12t29  ...  \\\n",
       "0          0.90          0.12         0.17         0.34         0.47  ...   \n",
       "1          0.74          0.45         0.07         0.26         0.59  ...   \n",
       "2          0.56          0.17         0.04         0.39         0.47  ...   \n",
       "3          0.08          0.12         0.10         0.51         0.50  ...   \n",
       "4          0.95          0.09         0.05         0.38         0.38  ...   \n",
       "\n",
       "   NumStreet  PctForeignBorn  PctBornSameState  PctSameHouse85  PctSameCity85  \\\n",
       "0        0.0            0.12              0.42            0.50           0.51   \n",
       "1        0.0            0.21              0.50            0.34           0.60   \n",
       "2        0.0            0.14              0.49            0.54           0.67   \n",
       "3        0.0            0.19              0.30            0.73           0.64   \n",
       "4        0.0            0.11              0.72            0.64           0.61   \n",
       "\n",
       "   PctSameState85  LandArea  PopDens  PctUsePubTrans  ViolentCrimesPerPop  \n",
       "0            0.64      0.12     0.26            0.20                 0.20  \n",
       "1            0.52      0.02     0.12            0.45                 0.67  \n",
       "2            0.56      0.01     0.21            0.02                 0.43  \n",
       "3            0.65      0.02     0.39            0.28                 0.12  \n",
       "4            0.53      0.04     0.09            0.02                 0.03  \n",
       "\n",
       "[5 rows x 100 columns]"
      ]
     },
     "execution_count": 2,
     "metadata": {},
     "output_type": "execute_result"
    }
   ],
   "source": [
    "df_communities = pd.read_csv('../../data/communities/communities.csv', sep = ',', na_values = ['?'])\n",
    "df_communities.head()"
   ]
  },
  {
   "cell_type": "code",
   "execution_count": 3,
   "id": "5cb6cf9c",
   "metadata": {},
   "outputs": [
    {
     "name": "stdout",
     "output_type": "stream",
     "text": [
      "<class 'pandas.core.frame.DataFrame'>\n",
      "RangeIndex: 1994 entries, 0 to 1993\n",
      "Data columns (total 100 columns):\n",
      " #   Column                 Non-Null Count  Dtype  \n",
      "---  ------                 --------------  -----  \n",
      " 0   state                  1994 non-null   int64  \n",
      " 1   communityname          1994 non-null   object \n",
      " 2   population             1994 non-null   float64\n",
      " 3   householdsize          1994 non-null   float64\n",
      " 4   racepctblack           1994 non-null   float64\n",
      " 5   racePctWhite           1994 non-null   float64\n",
      " 6   racePctAsian           1994 non-null   float64\n",
      " 7   racePctHisp            1994 non-null   float64\n",
      " 8   agePct12t21            1994 non-null   float64\n",
      " 9   agePct12t29            1994 non-null   float64\n",
      " 10  agePct16t24            1994 non-null   float64\n",
      " 11  agePct65up             1994 non-null   float64\n",
      " 12  numbUrban              1994 non-null   float64\n",
      " 13  pctUrban               1994 non-null   float64\n",
      " 14  medIncome              1994 non-null   float64\n",
      " 15  pctWWage               1994 non-null   float64\n",
      " 16  pctWFarmSelf           1994 non-null   float64\n",
      " 17  pctWInvInc             1994 non-null   float64\n",
      " 18  pctWSocSec             1994 non-null   float64\n",
      " 19  pctWPubAsst            1994 non-null   float64\n",
      " 20  pctWRetire             1994 non-null   float64\n",
      " 21  medFamInc              1994 non-null   float64\n",
      " 22  perCapInc              1994 non-null   float64\n",
      " 23  whitePerCap            1994 non-null   float64\n",
      " 24  blackPerCap            1994 non-null   float64\n",
      " 25  indianPerCap           1994 non-null   float64\n",
      " 26  AsianPerCap            1994 non-null   float64\n",
      " 27  OtherPerCap            1993 non-null   float64\n",
      " 28  HispPerCap             1994 non-null   float64\n",
      " 29  NumUnderPov            1994 non-null   float64\n",
      " 30  PctPopUnderPov         1994 non-null   float64\n",
      " 31  PctLess9thGrade        1994 non-null   float64\n",
      " 32  PctNotHSGrad           1994 non-null   float64\n",
      " 33  PctBSorMore            1994 non-null   float64\n",
      " 34  PctUnemployed          1994 non-null   float64\n",
      " 35  PctEmploy              1994 non-null   float64\n",
      " 36  PctEmplManu            1994 non-null   float64\n",
      " 37  PctEmplProfServ        1994 non-null   float64\n",
      " 38  MalePctDivorce         1994 non-null   float64\n",
      " 39  MalePctNevMarr         1994 non-null   float64\n",
      " 40  FemalePctDiv           1994 non-null   float64\n",
      " 41  TotalPctDiv            1994 non-null   float64\n",
      " 42  PersPerFam             1994 non-null   float64\n",
      " 43  PctFam2Par             1994 non-null   float64\n",
      " 44  PctKids2Par            1994 non-null   float64\n",
      " 45  PctYoungKids2Par       1994 non-null   float64\n",
      " 46  PctTeen2Par            1994 non-null   float64\n",
      " 47  PctWorkMomYoungKids    1994 non-null   float64\n",
      " 48  PctWorkMom             1994 non-null   float64\n",
      " 49  NumIlleg               1994 non-null   float64\n",
      " 50  PctIlleg               1994 non-null   float64\n",
      " 51  NumImmig               1994 non-null   float64\n",
      " 52  PctImmigRecent         1994 non-null   float64\n",
      " 53  PctImmigRec5           1994 non-null   float64\n",
      " 54  PctImmigRec8           1994 non-null   float64\n",
      " 55  PctImmigRec10          1994 non-null   float64\n",
      " 56  PctRecentImmig         1994 non-null   float64\n",
      " 57  PctRecImmig5           1994 non-null   float64\n",
      " 58  PctRecImmig8           1994 non-null   float64\n",
      " 59  PctRecImmig10          1994 non-null   float64\n",
      " 60  PctSpeakEnglOnly       1994 non-null   float64\n",
      " 61  PctNotSpeakEnglWell    1994 non-null   float64\n",
      " 62  PctLargHouseFam        1994 non-null   float64\n",
      " 63  PctLargHouseOccup      1994 non-null   float64\n",
      " 64  PersPerOccupHous       1994 non-null   float64\n",
      " 65  PersPerOwnOccHous      1994 non-null   float64\n",
      " 66  PersPerRentOccHous     1994 non-null   float64\n",
      " 67  PctPersOwnOccup        1994 non-null   float64\n",
      " 68  PctPersDenseHous       1994 non-null   float64\n",
      " 69  PctHousLess3BR         1994 non-null   float64\n",
      " 70  MedNumBR               1994 non-null   float64\n",
      " 71  HousVacant             1994 non-null   float64\n",
      " 72  PctHousOccup           1994 non-null   float64\n",
      " 73  PctHousOwnOcc          1994 non-null   float64\n",
      " 74  PctVacantBoarded       1994 non-null   float64\n",
      " 75  PctVacMore6Mos         1994 non-null   float64\n",
      " 76  MedYrHousBuilt         1994 non-null   float64\n",
      " 77  PctHousNoPhone         1994 non-null   float64\n",
      " 78  PctWOFullPlumb         1994 non-null   float64\n",
      " 79  OwnOccLowQuart         1994 non-null   float64\n",
      " 80  OwnOccMedVal           1994 non-null   float64\n",
      " 81  OwnOccHiQuart          1994 non-null   float64\n",
      " 82  RentLowQ               1994 non-null   float64\n",
      " 83  RentMedian             1994 non-null   float64\n",
      " 84  RentHighQ              1994 non-null   float64\n",
      " 85  MedRent                1994 non-null   float64\n",
      " 86  MedRentPctHousInc      1994 non-null   float64\n",
      " 87  MedOwnCostPctInc       1994 non-null   float64\n",
      " 88  MedOwnCostPctIncNoMtg  1994 non-null   float64\n",
      " 89  NumInShelters          1994 non-null   float64\n",
      " 90  NumStreet              1994 non-null   float64\n",
      " 91  PctForeignBorn         1994 non-null   float64\n",
      " 92  PctBornSameState       1994 non-null   float64\n",
      " 93  PctSameHouse85         1994 non-null   float64\n",
      " 94  PctSameCity85          1994 non-null   float64\n",
      " 95  PctSameState85         1994 non-null   float64\n",
      " 96  LandArea               1994 non-null   float64\n",
      " 97  PopDens                1994 non-null   float64\n",
      " 98  PctUsePubTrans         1994 non-null   float64\n",
      " 99  ViolentCrimesPerPop    1994 non-null   float64\n",
      "dtypes: float64(98), int64(1), object(1)\n",
      "memory usage: 1.5+ MB\n"
     ]
    }
   ],
   "source": [
    "df_communities.info()"
   ]
  },
  {
   "cell_type": "markdown",
   "id": "1f1e1eb1",
   "metadata": {},
   "source": [
    "<p>The data set has a total of 100 columns of which 1 is categorical and the rest are numerical attributes. </p>"
   ]
  },
  {
   "cell_type": "code",
   "execution_count": 4,
   "id": "fd17750a",
   "metadata": {},
   "outputs": [
    {
     "data": {
      "text/plain": [
       "(1994, 100)"
      ]
     },
     "execution_count": 4,
     "metadata": {},
     "output_type": "execute_result"
    }
   ],
   "source": [
    "df_communities.shape"
   ]
  },
  {
   "cell_type": "markdown",
   "id": "06c908af",
   "metadata": {},
   "source": [
    "<p>So, we have 1994 data points with 100 columns.</p>"
   ]
  },
  {
   "cell_type": "markdown",
   "id": "d064a659",
   "metadata": {},
   "source": [
    "#### let's find out if the data set has any missing values by determining the number of missing values in each column"
   ]
  },
  {
   "cell_type": "code",
   "execution_count": 5,
   "id": "988b2ef9",
   "metadata": {},
   "outputs": [
    {
     "name": "stdout",
     "output_type": "stream",
     "text": [
      "OtherPerCap    0.000502\n",
      "dtype: float64\n"
     ]
    }
   ],
   "source": [
    "df_na_sum = df_communities.isna().sum()\n",
    "\n",
    "# let's do a subselection an donly extract out where the values are greater than 0\n",
    "print(df_na_sum[df_na_sum > 0]/len(df_communities))"
   ]
  },
  {
   "cell_type": "markdown",
   "id": "af9d04a0",
   "metadata": {},
   "source": [
    "<p>There is one attribute, OtherPerCap, with 0.05% missing values.</p>"
   ]
  },
  {
   "cell_type": "markdown",
   "id": "98acee17",
   "metadata": {},
   "source": [
    "### Handling missing values by imputing those values based on the variable means."
   ]
  },
  {
   "cell_type": "code",
   "execution_count": 6,
   "id": "fef3f8d6",
   "metadata": {},
   "outputs": [
    {
     "data": {
      "text/html": [
       "<div>\n",
       "<style scoped>\n",
       "    .dataframe tbody tr th:only-of-type {\n",
       "        vertical-align: middle;\n",
       "    }\n",
       "\n",
       "    .dataframe tbody tr th {\n",
       "        vertical-align: top;\n",
       "    }\n",
       "\n",
       "    .dataframe thead th {\n",
       "        text-align: right;\n",
       "    }\n",
       "</style>\n",
       "<table border=\"1\" class=\"dataframe\">\n",
       "  <thead>\n",
       "    <tr style=\"text-align: right;\">\n",
       "      <th></th>\n",
       "      <th>state</th>\n",
       "      <th>communityname</th>\n",
       "      <th>population</th>\n",
       "      <th>householdsize</th>\n",
       "      <th>racepctblack</th>\n",
       "      <th>racePctWhite</th>\n",
       "      <th>racePctAsian</th>\n",
       "      <th>racePctHisp</th>\n",
       "      <th>agePct12t21</th>\n",
       "      <th>agePct12t29</th>\n",
       "      <th>...</th>\n",
       "      <th>NumStreet</th>\n",
       "      <th>PctForeignBorn</th>\n",
       "      <th>PctBornSameState</th>\n",
       "      <th>PctSameHouse85</th>\n",
       "      <th>PctSameCity85</th>\n",
       "      <th>PctSameState85</th>\n",
       "      <th>LandArea</th>\n",
       "      <th>PopDens</th>\n",
       "      <th>PctUsePubTrans</th>\n",
       "      <th>ViolentCrimesPerPop</th>\n",
       "    </tr>\n",
       "  </thead>\n",
       "  <tbody>\n",
       "    <tr>\n",
       "      <th>0</th>\n",
       "      <td>8</td>\n",
       "      <td>Lakewoodcity</td>\n",
       "      <td>0.19</td>\n",
       "      <td>0.33</td>\n",
       "      <td>0.02</td>\n",
       "      <td>0.90</td>\n",
       "      <td>0.12</td>\n",
       "      <td>0.17</td>\n",
       "      <td>0.34</td>\n",
       "      <td>0.47</td>\n",
       "      <td>...</td>\n",
       "      <td>0.0</td>\n",
       "      <td>0.12</td>\n",
       "      <td>0.42</td>\n",
       "      <td>0.50</td>\n",
       "      <td>0.51</td>\n",
       "      <td>0.64</td>\n",
       "      <td>0.12</td>\n",
       "      <td>0.26</td>\n",
       "      <td>0.20</td>\n",
       "      <td>0.20</td>\n",
       "    </tr>\n",
       "    <tr>\n",
       "      <th>1</th>\n",
       "      <td>53</td>\n",
       "      <td>Tukwilacity</td>\n",
       "      <td>0.00</td>\n",
       "      <td>0.16</td>\n",
       "      <td>0.12</td>\n",
       "      <td>0.74</td>\n",
       "      <td>0.45</td>\n",
       "      <td>0.07</td>\n",
       "      <td>0.26</td>\n",
       "      <td>0.59</td>\n",
       "      <td>...</td>\n",
       "      <td>0.0</td>\n",
       "      <td>0.21</td>\n",
       "      <td>0.50</td>\n",
       "      <td>0.34</td>\n",
       "      <td>0.60</td>\n",
       "      <td>0.52</td>\n",
       "      <td>0.02</td>\n",
       "      <td>0.12</td>\n",
       "      <td>0.45</td>\n",
       "      <td>0.67</td>\n",
       "    </tr>\n",
       "    <tr>\n",
       "      <th>2</th>\n",
       "      <td>24</td>\n",
       "      <td>Aberdeentown</td>\n",
       "      <td>0.00</td>\n",
       "      <td>0.42</td>\n",
       "      <td>0.49</td>\n",
       "      <td>0.56</td>\n",
       "      <td>0.17</td>\n",
       "      <td>0.04</td>\n",
       "      <td>0.39</td>\n",
       "      <td>0.47</td>\n",
       "      <td>...</td>\n",
       "      <td>0.0</td>\n",
       "      <td>0.14</td>\n",
       "      <td>0.49</td>\n",
       "      <td>0.54</td>\n",
       "      <td>0.67</td>\n",
       "      <td>0.56</td>\n",
       "      <td>0.01</td>\n",
       "      <td>0.21</td>\n",
       "      <td>0.02</td>\n",
       "      <td>0.43</td>\n",
       "    </tr>\n",
       "    <tr>\n",
       "      <th>3</th>\n",
       "      <td>34</td>\n",
       "      <td>Willingborotownship</td>\n",
       "      <td>0.04</td>\n",
       "      <td>0.77</td>\n",
       "      <td>1.00</td>\n",
       "      <td>0.08</td>\n",
       "      <td>0.12</td>\n",
       "      <td>0.10</td>\n",
       "      <td>0.51</td>\n",
       "      <td>0.50</td>\n",
       "      <td>...</td>\n",
       "      <td>0.0</td>\n",
       "      <td>0.19</td>\n",
       "      <td>0.30</td>\n",
       "      <td>0.73</td>\n",
       "      <td>0.64</td>\n",
       "      <td>0.65</td>\n",
       "      <td>0.02</td>\n",
       "      <td>0.39</td>\n",
       "      <td>0.28</td>\n",
       "      <td>0.12</td>\n",
       "    </tr>\n",
       "    <tr>\n",
       "      <th>4</th>\n",
       "      <td>42</td>\n",
       "      <td>Bethlehemtownship</td>\n",
       "      <td>0.01</td>\n",
       "      <td>0.55</td>\n",
       "      <td>0.02</td>\n",
       "      <td>0.95</td>\n",
       "      <td>0.09</td>\n",
       "      <td>0.05</td>\n",
       "      <td>0.38</td>\n",
       "      <td>0.38</td>\n",
       "      <td>...</td>\n",
       "      <td>0.0</td>\n",
       "      <td>0.11</td>\n",
       "      <td>0.72</td>\n",
       "      <td>0.64</td>\n",
       "      <td>0.61</td>\n",
       "      <td>0.53</td>\n",
       "      <td>0.04</td>\n",
       "      <td>0.09</td>\n",
       "      <td>0.02</td>\n",
       "      <td>0.03</td>\n",
       "    </tr>\n",
       "  </tbody>\n",
       "</table>\n",
       "<p>5 rows × 100 columns</p>\n",
       "</div>"
      ],
      "text/plain": [
       "   state        communityname  population  householdsize  racepctblack  \\\n",
       "0      8         Lakewoodcity        0.19           0.33          0.02   \n",
       "1     53          Tukwilacity        0.00           0.16          0.12   \n",
       "2     24         Aberdeentown        0.00           0.42          0.49   \n",
       "3     34  Willingborotownship        0.04           0.77          1.00   \n",
       "4     42    Bethlehemtownship        0.01           0.55          0.02   \n",
       "\n",
       "   racePctWhite  racePctAsian  racePctHisp  agePct12t21  agePct12t29  ...  \\\n",
       "0          0.90          0.12         0.17         0.34         0.47  ...   \n",
       "1          0.74          0.45         0.07         0.26         0.59  ...   \n",
       "2          0.56          0.17         0.04         0.39         0.47  ...   \n",
       "3          0.08          0.12         0.10         0.51         0.50  ...   \n",
       "4          0.95          0.09         0.05         0.38         0.38  ...   \n",
       "\n",
       "   NumStreet  PctForeignBorn  PctBornSameState  PctSameHouse85  PctSameCity85  \\\n",
       "0        0.0            0.12              0.42            0.50           0.51   \n",
       "1        0.0            0.21              0.50            0.34           0.60   \n",
       "2        0.0            0.14              0.49            0.54           0.67   \n",
       "3        0.0            0.19              0.30            0.73           0.64   \n",
       "4        0.0            0.11              0.72            0.64           0.61   \n",
       "\n",
       "   PctSameState85  LandArea  PopDens  PctUsePubTrans  ViolentCrimesPerPop  \n",
       "0            0.64      0.12     0.26            0.20                 0.20  \n",
       "1            0.52      0.02     0.12            0.45                 0.67  \n",
       "2            0.56      0.01     0.21            0.02                 0.43  \n",
       "3            0.65      0.02     0.39            0.28                 0.12  \n",
       "4            0.53      0.04     0.09            0.02                 0.03  \n",
       "\n",
       "[5 rows x 100 columns]"
      ]
     },
     "execution_count": 6,
     "metadata": {},
     "output_type": "execute_result"
    }
   ],
   "source": [
    "# Calculate the OtherPerCap mean and use it to fill in the missing values.\n",
    "otherPerCap_mean = df_communities['OtherPerCap'].mean()\n",
    "df_communities['OtherPerCap'].fillna(otherPerCap_mean, axis = 0, inplace = True)\n",
    "df_communities.head()"
   ]
  },
  {
   "cell_type": "code",
   "execution_count": 7,
   "id": "c58512df",
   "metadata": {},
   "outputs": [
    {
     "name": "stdout",
     "output_type": "stream",
     "text": [
      "Series([], dtype: float64)\n"
     ]
    }
   ],
   "source": [
    "### Validate if the missing values within the OtherPerCap attributes have been replaced by the mean of the variable.\n",
    "df_na_sum = df_communities.isna().sum()\n",
    "print(df_na_sum[df_na_sum > 0]/len(df_communities))"
   ]
  },
  {
   "cell_type": "markdown",
   "id": "12363efb",
   "metadata": {},
   "source": [
    "<p>We learn that they are no any missing values.</p>"
   ]
  },
  {
   "cell_type": "markdown",
   "id": "3820b114",
   "metadata": {},
   "source": [
    "### Compute and display basic statistics for the variables in the data set."
   ]
  },
  {
   "cell_type": "code",
   "execution_count": 8,
   "id": "f672bc77",
   "metadata": {},
   "outputs": [
    {
     "data": {
      "text/html": [
       "<div>\n",
       "<style scoped>\n",
       "    .dataframe tbody tr th:only-of-type {\n",
       "        vertical-align: middle;\n",
       "    }\n",
       "\n",
       "    .dataframe tbody tr th {\n",
       "        vertical-align: top;\n",
       "    }\n",
       "\n",
       "    .dataframe thead th {\n",
       "        text-align: right;\n",
       "    }\n",
       "</style>\n",
       "<table border=\"1\" class=\"dataframe\">\n",
       "  <thead>\n",
       "    <tr style=\"text-align: right;\">\n",
       "      <th></th>\n",
       "      <th>state</th>\n",
       "      <th>population</th>\n",
       "      <th>householdsize</th>\n",
       "      <th>racepctblack</th>\n",
       "      <th>racePctWhite</th>\n",
       "      <th>racePctAsian</th>\n",
       "      <th>racePctHisp</th>\n",
       "      <th>agePct12t21</th>\n",
       "      <th>agePct12t29</th>\n",
       "      <th>agePct16t24</th>\n",
       "      <th>...</th>\n",
       "      <th>NumStreet</th>\n",
       "      <th>PctForeignBorn</th>\n",
       "      <th>PctBornSameState</th>\n",
       "      <th>PctSameHouse85</th>\n",
       "      <th>PctSameCity85</th>\n",
       "      <th>PctSameState85</th>\n",
       "      <th>LandArea</th>\n",
       "      <th>PopDens</th>\n",
       "      <th>PctUsePubTrans</th>\n",
       "      <th>ViolentCrimesPerPop</th>\n",
       "    </tr>\n",
       "  </thead>\n",
       "  <tbody>\n",
       "    <tr>\n",
       "      <th>count</th>\n",
       "      <td>1994.000000</td>\n",
       "      <td>1994.000000</td>\n",
       "      <td>1994.000000</td>\n",
       "      <td>1994.000000</td>\n",
       "      <td>1994.000000</td>\n",
       "      <td>1994.000000</td>\n",
       "      <td>1994.000000</td>\n",
       "      <td>1994.000000</td>\n",
       "      <td>1994.000000</td>\n",
       "      <td>1994.000000</td>\n",
       "      <td>...</td>\n",
       "      <td>1994.000000</td>\n",
       "      <td>1994.000000</td>\n",
       "      <td>1994.000000</td>\n",
       "      <td>1994.000000</td>\n",
       "      <td>1994.000000</td>\n",
       "      <td>1994.000000</td>\n",
       "      <td>1994.000000</td>\n",
       "      <td>1994.000000</td>\n",
       "      <td>1994.000000</td>\n",
       "      <td>1994.000000</td>\n",
       "    </tr>\n",
       "    <tr>\n",
       "      <th>mean</th>\n",
       "      <td>28.683551</td>\n",
       "      <td>0.057593</td>\n",
       "      <td>0.463395</td>\n",
       "      <td>0.179629</td>\n",
       "      <td>0.753716</td>\n",
       "      <td>0.153681</td>\n",
       "      <td>0.144022</td>\n",
       "      <td>0.424218</td>\n",
       "      <td>0.493867</td>\n",
       "      <td>0.336264</td>\n",
       "      <td>...</td>\n",
       "      <td>0.022778</td>\n",
       "      <td>0.215552</td>\n",
       "      <td>0.608892</td>\n",
       "      <td>0.535050</td>\n",
       "      <td>0.626424</td>\n",
       "      <td>0.651530</td>\n",
       "      <td>0.065231</td>\n",
       "      <td>0.232854</td>\n",
       "      <td>0.161685</td>\n",
       "      <td>0.237979</td>\n",
       "    </tr>\n",
       "    <tr>\n",
       "      <th>std</th>\n",
       "      <td>16.397553</td>\n",
       "      <td>0.126906</td>\n",
       "      <td>0.163717</td>\n",
       "      <td>0.253442</td>\n",
       "      <td>0.244039</td>\n",
       "      <td>0.208877</td>\n",
       "      <td>0.232492</td>\n",
       "      <td>0.155196</td>\n",
       "      <td>0.143564</td>\n",
       "      <td>0.166505</td>\n",
       "      <td>...</td>\n",
       "      <td>0.100400</td>\n",
       "      <td>0.231134</td>\n",
       "      <td>0.204329</td>\n",
       "      <td>0.181352</td>\n",
       "      <td>0.200521</td>\n",
       "      <td>0.198221</td>\n",
       "      <td>0.109459</td>\n",
       "      <td>0.203092</td>\n",
       "      <td>0.229055</td>\n",
       "      <td>0.232985</td>\n",
       "    </tr>\n",
       "    <tr>\n",
       "      <th>min</th>\n",
       "      <td>1.000000</td>\n",
       "      <td>0.000000</td>\n",
       "      <td>0.000000</td>\n",
       "      <td>0.000000</td>\n",
       "      <td>0.000000</td>\n",
       "      <td>0.000000</td>\n",
       "      <td>0.000000</td>\n",
       "      <td>0.000000</td>\n",
       "      <td>0.000000</td>\n",
       "      <td>0.000000</td>\n",
       "      <td>...</td>\n",
       "      <td>0.000000</td>\n",
       "      <td>0.000000</td>\n",
       "      <td>0.000000</td>\n",
       "      <td>0.000000</td>\n",
       "      <td>0.000000</td>\n",
       "      <td>0.000000</td>\n",
       "      <td>0.000000</td>\n",
       "      <td>0.000000</td>\n",
       "      <td>0.000000</td>\n",
       "      <td>0.000000</td>\n",
       "    </tr>\n",
       "    <tr>\n",
       "      <th>25%</th>\n",
       "      <td>12.000000</td>\n",
       "      <td>0.010000</td>\n",
       "      <td>0.350000</td>\n",
       "      <td>0.020000</td>\n",
       "      <td>0.630000</td>\n",
       "      <td>0.040000</td>\n",
       "      <td>0.010000</td>\n",
       "      <td>0.340000</td>\n",
       "      <td>0.410000</td>\n",
       "      <td>0.250000</td>\n",
       "      <td>...</td>\n",
       "      <td>0.000000</td>\n",
       "      <td>0.060000</td>\n",
       "      <td>0.470000</td>\n",
       "      <td>0.420000</td>\n",
       "      <td>0.520000</td>\n",
       "      <td>0.560000</td>\n",
       "      <td>0.020000</td>\n",
       "      <td>0.100000</td>\n",
       "      <td>0.020000</td>\n",
       "      <td>0.070000</td>\n",
       "    </tr>\n",
       "    <tr>\n",
       "      <th>50%</th>\n",
       "      <td>34.000000</td>\n",
       "      <td>0.020000</td>\n",
       "      <td>0.440000</td>\n",
       "      <td>0.060000</td>\n",
       "      <td>0.850000</td>\n",
       "      <td>0.070000</td>\n",
       "      <td>0.040000</td>\n",
       "      <td>0.400000</td>\n",
       "      <td>0.480000</td>\n",
       "      <td>0.290000</td>\n",
       "      <td>...</td>\n",
       "      <td>0.000000</td>\n",
       "      <td>0.130000</td>\n",
       "      <td>0.630000</td>\n",
       "      <td>0.540000</td>\n",
       "      <td>0.670000</td>\n",
       "      <td>0.700000</td>\n",
       "      <td>0.040000</td>\n",
       "      <td>0.170000</td>\n",
       "      <td>0.070000</td>\n",
       "      <td>0.150000</td>\n",
       "    </tr>\n",
       "    <tr>\n",
       "      <th>75%</th>\n",
       "      <td>42.000000</td>\n",
       "      <td>0.050000</td>\n",
       "      <td>0.540000</td>\n",
       "      <td>0.230000</td>\n",
       "      <td>0.940000</td>\n",
       "      <td>0.170000</td>\n",
       "      <td>0.160000</td>\n",
       "      <td>0.470000</td>\n",
       "      <td>0.540000</td>\n",
       "      <td>0.360000</td>\n",
       "      <td>...</td>\n",
       "      <td>0.000000</td>\n",
       "      <td>0.280000</td>\n",
       "      <td>0.777500</td>\n",
       "      <td>0.660000</td>\n",
       "      <td>0.770000</td>\n",
       "      <td>0.790000</td>\n",
       "      <td>0.070000</td>\n",
       "      <td>0.280000</td>\n",
       "      <td>0.190000</td>\n",
       "      <td>0.330000</td>\n",
       "    </tr>\n",
       "    <tr>\n",
       "      <th>max</th>\n",
       "      <td>56.000000</td>\n",
       "      <td>1.000000</td>\n",
       "      <td>1.000000</td>\n",
       "      <td>1.000000</td>\n",
       "      <td>1.000000</td>\n",
       "      <td>1.000000</td>\n",
       "      <td>1.000000</td>\n",
       "      <td>1.000000</td>\n",
       "      <td>1.000000</td>\n",
       "      <td>1.000000</td>\n",
       "      <td>...</td>\n",
       "      <td>1.000000</td>\n",
       "      <td>1.000000</td>\n",
       "      <td>1.000000</td>\n",
       "      <td>1.000000</td>\n",
       "      <td>1.000000</td>\n",
       "      <td>1.000000</td>\n",
       "      <td>1.000000</td>\n",
       "      <td>1.000000</td>\n",
       "      <td>1.000000</td>\n",
       "      <td>1.000000</td>\n",
       "    </tr>\n",
       "  </tbody>\n",
       "</table>\n",
       "<p>8 rows × 99 columns</p>\n",
       "</div>"
      ],
      "text/plain": [
       "             state   population  householdsize  racepctblack  racePctWhite  \\\n",
       "count  1994.000000  1994.000000    1994.000000   1994.000000   1994.000000   \n",
       "mean     28.683551     0.057593       0.463395      0.179629      0.753716   \n",
       "std      16.397553     0.126906       0.163717      0.253442      0.244039   \n",
       "min       1.000000     0.000000       0.000000      0.000000      0.000000   \n",
       "25%      12.000000     0.010000       0.350000      0.020000      0.630000   \n",
       "50%      34.000000     0.020000       0.440000      0.060000      0.850000   \n",
       "75%      42.000000     0.050000       0.540000      0.230000      0.940000   \n",
       "max      56.000000     1.000000       1.000000      1.000000      1.000000   \n",
       "\n",
       "       racePctAsian  racePctHisp  agePct12t21  agePct12t29  agePct16t24  ...  \\\n",
       "count   1994.000000  1994.000000  1994.000000  1994.000000  1994.000000  ...   \n",
       "mean       0.153681     0.144022     0.424218     0.493867     0.336264  ...   \n",
       "std        0.208877     0.232492     0.155196     0.143564     0.166505  ...   \n",
       "min        0.000000     0.000000     0.000000     0.000000     0.000000  ...   \n",
       "25%        0.040000     0.010000     0.340000     0.410000     0.250000  ...   \n",
       "50%        0.070000     0.040000     0.400000     0.480000     0.290000  ...   \n",
       "75%        0.170000     0.160000     0.470000     0.540000     0.360000  ...   \n",
       "max        1.000000     1.000000     1.000000     1.000000     1.000000  ...   \n",
       "\n",
       "         NumStreet  PctForeignBorn  PctBornSameState  PctSameHouse85  \\\n",
       "count  1994.000000     1994.000000       1994.000000     1994.000000   \n",
       "mean      0.022778        0.215552          0.608892        0.535050   \n",
       "std       0.100400        0.231134          0.204329        0.181352   \n",
       "min       0.000000        0.000000          0.000000        0.000000   \n",
       "25%       0.000000        0.060000          0.470000        0.420000   \n",
       "50%       0.000000        0.130000          0.630000        0.540000   \n",
       "75%       0.000000        0.280000          0.777500        0.660000   \n",
       "max       1.000000        1.000000          1.000000        1.000000   \n",
       "\n",
       "       PctSameCity85  PctSameState85     LandArea      PopDens  \\\n",
       "count    1994.000000     1994.000000  1994.000000  1994.000000   \n",
       "mean        0.626424        0.651530     0.065231     0.232854   \n",
       "std         0.200521        0.198221     0.109459     0.203092   \n",
       "min         0.000000        0.000000     0.000000     0.000000   \n",
       "25%         0.520000        0.560000     0.020000     0.100000   \n",
       "50%         0.670000        0.700000     0.040000     0.170000   \n",
       "75%         0.770000        0.790000     0.070000     0.280000   \n",
       "max         1.000000        1.000000     1.000000     1.000000   \n",
       "\n",
       "       PctUsePubTrans  ViolentCrimesPerPop  \n",
       "count     1994.000000          1994.000000  \n",
       "mean         0.161685             0.237979  \n",
       "std          0.229055             0.232985  \n",
       "min          0.000000             0.000000  \n",
       "25%          0.020000             0.070000  \n",
       "50%          0.070000             0.150000  \n",
       "75%          0.190000             0.330000  \n",
       "max          1.000000             1.000000  \n",
       "\n",
       "[8 rows x 99 columns]"
      ]
     },
     "execution_count": 8,
     "metadata": {},
     "output_type": "execute_result"
    }
   ],
   "source": [
    "np.set_printoptions(precision=2, linewidth=120, suppress=True, edgeitems=7) # setting my printing preferences. \n",
    "df_communities.describe()"
   ]
  },
  {
   "cell_type": "markdown",
   "id": "8a38fcad",
   "metadata": {},
   "source": [
    "<p>Here, we get the mean, standard deviation, min, max, 1 percentile, median and 3rd percentile for all the numerical attributes of our data set.</p>"
   ]
  },
  {
   "cell_type": "markdown",
   "id": "7728ad29",
   "metadata": {},
   "source": [
    "### Separate the target attribute for regression from the rest of the attributes of the data set"
   ]
  },
  {
   "cell_type": "code",
   "execution_count": 9,
   "id": "fecf7664",
   "metadata": {},
   "outputs": [
    {
     "data": {
      "text/plain": [
       "0    0.20\n",
       "1    0.67\n",
       "2    0.43\n",
       "3    0.12\n",
       "4    0.03\n",
       "Name: ViolentCrimesPerPop, dtype: float64"
      ]
     },
     "execution_count": 9,
     "metadata": {},
     "output_type": "execute_result"
    }
   ],
   "source": [
    "vs_target = df_communities['ViolentCrimesPerPop']\n",
    "vs_target.head() # display the first 5 records"
   ]
  },
  {
   "cell_type": "code",
   "execution_count": 10,
   "id": "e69f084a",
   "metadata": {},
   "outputs": [
    {
     "data": {
      "text/html": [
       "<div>\n",
       "<style scoped>\n",
       "    .dataframe tbody tr th:only-of-type {\n",
       "        vertical-align: middle;\n",
       "    }\n",
       "\n",
       "    .dataframe tbody tr th {\n",
       "        vertical-align: top;\n",
       "    }\n",
       "\n",
       "    .dataframe thead th {\n",
       "        text-align: right;\n",
       "    }\n",
       "</style>\n",
       "<table border=\"1\" class=\"dataframe\">\n",
       "  <thead>\n",
       "    <tr style=\"text-align: right;\">\n",
       "      <th></th>\n",
       "      <th>state</th>\n",
       "      <th>communityname</th>\n",
       "      <th>population</th>\n",
       "      <th>householdsize</th>\n",
       "      <th>racepctblack</th>\n",
       "      <th>racePctWhite</th>\n",
       "      <th>racePctAsian</th>\n",
       "      <th>racePctHisp</th>\n",
       "      <th>agePct12t21</th>\n",
       "      <th>agePct12t29</th>\n",
       "      <th>...</th>\n",
       "      <th>NumStreet</th>\n",
       "      <th>PctForeignBorn</th>\n",
       "      <th>PctBornSameState</th>\n",
       "      <th>PctSameHouse85</th>\n",
       "      <th>PctSameCity85</th>\n",
       "      <th>PctSameState85</th>\n",
       "      <th>LandArea</th>\n",
       "      <th>PopDens</th>\n",
       "      <th>PctUsePubTrans</th>\n",
       "      <th>ViolentCrimesPerPop</th>\n",
       "    </tr>\n",
       "  </thead>\n",
       "  <tbody>\n",
       "    <tr>\n",
       "      <th>0</th>\n",
       "      <td>8</td>\n",
       "      <td>Lakewoodcity</td>\n",
       "      <td>0.19</td>\n",
       "      <td>0.33</td>\n",
       "      <td>0.02</td>\n",
       "      <td>0.90</td>\n",
       "      <td>0.12</td>\n",
       "      <td>0.17</td>\n",
       "      <td>0.34</td>\n",
       "      <td>0.47</td>\n",
       "      <td>...</td>\n",
       "      <td>0.0</td>\n",
       "      <td>0.12</td>\n",
       "      <td>0.42</td>\n",
       "      <td>0.50</td>\n",
       "      <td>0.51</td>\n",
       "      <td>0.64</td>\n",
       "      <td>0.12</td>\n",
       "      <td>0.26</td>\n",
       "      <td>0.20</td>\n",
       "      <td>0.20</td>\n",
       "    </tr>\n",
       "    <tr>\n",
       "      <th>1</th>\n",
       "      <td>53</td>\n",
       "      <td>Tukwilacity</td>\n",
       "      <td>0.00</td>\n",
       "      <td>0.16</td>\n",
       "      <td>0.12</td>\n",
       "      <td>0.74</td>\n",
       "      <td>0.45</td>\n",
       "      <td>0.07</td>\n",
       "      <td>0.26</td>\n",
       "      <td>0.59</td>\n",
       "      <td>...</td>\n",
       "      <td>0.0</td>\n",
       "      <td>0.21</td>\n",
       "      <td>0.50</td>\n",
       "      <td>0.34</td>\n",
       "      <td>0.60</td>\n",
       "      <td>0.52</td>\n",
       "      <td>0.02</td>\n",
       "      <td>0.12</td>\n",
       "      <td>0.45</td>\n",
       "      <td>0.67</td>\n",
       "    </tr>\n",
       "    <tr>\n",
       "      <th>2</th>\n",
       "      <td>24</td>\n",
       "      <td>Aberdeentown</td>\n",
       "      <td>0.00</td>\n",
       "      <td>0.42</td>\n",
       "      <td>0.49</td>\n",
       "      <td>0.56</td>\n",
       "      <td>0.17</td>\n",
       "      <td>0.04</td>\n",
       "      <td>0.39</td>\n",
       "      <td>0.47</td>\n",
       "      <td>...</td>\n",
       "      <td>0.0</td>\n",
       "      <td>0.14</td>\n",
       "      <td>0.49</td>\n",
       "      <td>0.54</td>\n",
       "      <td>0.67</td>\n",
       "      <td>0.56</td>\n",
       "      <td>0.01</td>\n",
       "      <td>0.21</td>\n",
       "      <td>0.02</td>\n",
       "      <td>0.43</td>\n",
       "    </tr>\n",
       "    <tr>\n",
       "      <th>3</th>\n",
       "      <td>34</td>\n",
       "      <td>Willingborotownship</td>\n",
       "      <td>0.04</td>\n",
       "      <td>0.77</td>\n",
       "      <td>1.00</td>\n",
       "      <td>0.08</td>\n",
       "      <td>0.12</td>\n",
       "      <td>0.10</td>\n",
       "      <td>0.51</td>\n",
       "      <td>0.50</td>\n",
       "      <td>...</td>\n",
       "      <td>0.0</td>\n",
       "      <td>0.19</td>\n",
       "      <td>0.30</td>\n",
       "      <td>0.73</td>\n",
       "      <td>0.64</td>\n",
       "      <td>0.65</td>\n",
       "      <td>0.02</td>\n",
       "      <td>0.39</td>\n",
       "      <td>0.28</td>\n",
       "      <td>0.12</td>\n",
       "    </tr>\n",
       "    <tr>\n",
       "      <th>4</th>\n",
       "      <td>42</td>\n",
       "      <td>Bethlehemtownship</td>\n",
       "      <td>0.01</td>\n",
       "      <td>0.55</td>\n",
       "      <td>0.02</td>\n",
       "      <td>0.95</td>\n",
       "      <td>0.09</td>\n",
       "      <td>0.05</td>\n",
       "      <td>0.38</td>\n",
       "      <td>0.38</td>\n",
       "      <td>...</td>\n",
       "      <td>0.0</td>\n",
       "      <td>0.11</td>\n",
       "      <td>0.72</td>\n",
       "      <td>0.64</td>\n",
       "      <td>0.61</td>\n",
       "      <td>0.53</td>\n",
       "      <td>0.04</td>\n",
       "      <td>0.09</td>\n",
       "      <td>0.02</td>\n",
       "      <td>0.03</td>\n",
       "    </tr>\n",
       "  </tbody>\n",
       "</table>\n",
       "<p>5 rows × 100 columns</p>\n",
       "</div>"
      ],
      "text/plain": [
       "   state        communityname  population  householdsize  racepctblack  \\\n",
       "0      8         Lakewoodcity        0.19           0.33          0.02   \n",
       "1     53          Tukwilacity        0.00           0.16          0.12   \n",
       "2     24         Aberdeentown        0.00           0.42          0.49   \n",
       "3     34  Willingborotownship        0.04           0.77          1.00   \n",
       "4     42    Bethlehemtownship        0.01           0.55          0.02   \n",
       "\n",
       "   racePctWhite  racePctAsian  racePctHisp  agePct12t21  agePct12t29  ...  \\\n",
       "0          0.90          0.12         0.17         0.34         0.47  ...   \n",
       "1          0.74          0.45         0.07         0.26         0.59  ...   \n",
       "2          0.56          0.17         0.04         0.39         0.47  ...   \n",
       "3          0.08          0.12         0.10         0.51         0.50  ...   \n",
       "4          0.95          0.09         0.05         0.38         0.38  ...   \n",
       "\n",
       "   NumStreet  PctForeignBorn  PctBornSameState  PctSameHouse85  PctSameCity85  \\\n",
       "0        0.0            0.12              0.42            0.50           0.51   \n",
       "1        0.0            0.21              0.50            0.34           0.60   \n",
       "2        0.0            0.14              0.49            0.54           0.67   \n",
       "3        0.0            0.19              0.30            0.73           0.64   \n",
       "4        0.0            0.11              0.72            0.64           0.61   \n",
       "\n",
       "   PctSameState85  LandArea  PopDens  PctUsePubTrans  ViolentCrimesPerPop  \n",
       "0            0.64      0.12     0.26            0.20                 0.20  \n",
       "1            0.52      0.02     0.12            0.45                 0.67  \n",
       "2            0.56      0.01     0.21            0.02                 0.43  \n",
       "3            0.65      0.02     0.39            0.28                 0.12  \n",
       "4            0.53      0.04     0.09            0.02                 0.03  \n",
       "\n",
       "[5 rows x 100 columns]"
      ]
     },
     "execution_count": 10,
     "metadata": {},
     "output_type": "execute_result"
    }
   ],
   "source": [
    "df_communities.head()"
   ]
  },
  {
   "cell_type": "markdown",
   "id": "4088efa9",
   "metadata": {},
   "source": [
    "### Let's drop the Communityname and ViolentCrimesPerPop from the data set."
   ]
  },
  {
   "cell_type": "code",
   "execution_count": 11,
   "id": "e82b2ffa",
   "metadata": {},
   "outputs": [],
   "source": [
    "fieldsToDrop = ['ViolentCrimesPerPop','communityname']"
   ]
  },
  {
   "cell_type": "code",
   "execution_count": 12,
   "id": "ec9ee814",
   "metadata": {},
   "outputs": [],
   "source": [
    "### let's drop ViolentCrimesPerPop attribute from the data set. \n",
    "df_communities.drop(columns=fieldsToDrop, inplace = True)"
   ]
  },
  {
   "cell_type": "code",
   "execution_count": 13,
   "id": "4638fa16",
   "metadata": {},
   "outputs": [
    {
     "name": "stdout",
     "output_type": "stream",
     "text": [
      "(1994,)\n"
     ]
    },
    {
     "data": {
      "text/plain": [
       "(1994, 98)"
      ]
     },
     "execution_count": 13,
     "metadata": {},
     "output_type": "execute_result"
    }
   ],
   "source": [
    "print(vs_target.shape)\n",
    "df_communities.shape"
   ]
  },
  {
   "cell_type": "markdown",
   "id": "bf60100c",
   "metadata": {},
   "source": [
    "<p>The data set now has 1994 data points with 98 attributes. </p>"
   ]
  },
  {
   "cell_type": "code",
   "execution_count": 14,
   "id": "a37151ba",
   "metadata": {},
   "outputs": [
    {
     "data": {
      "text/html": [
       "<div>\n",
       "<style scoped>\n",
       "    .dataframe tbody tr th:only-of-type {\n",
       "        vertical-align: middle;\n",
       "    }\n",
       "\n",
       "    .dataframe tbody tr th {\n",
       "        vertical-align: top;\n",
       "    }\n",
       "\n",
       "    .dataframe thead th {\n",
       "        text-align: right;\n",
       "    }\n",
       "</style>\n",
       "<table border=\"1\" class=\"dataframe\">\n",
       "  <thead>\n",
       "    <tr style=\"text-align: right;\">\n",
       "      <th></th>\n",
       "      <th>state</th>\n",
       "      <th>population</th>\n",
       "      <th>householdsize</th>\n",
       "      <th>racepctblack</th>\n",
       "      <th>racePctWhite</th>\n",
       "      <th>racePctAsian</th>\n",
       "      <th>racePctHisp</th>\n",
       "      <th>agePct12t21</th>\n",
       "      <th>agePct12t29</th>\n",
       "      <th>agePct16t24</th>\n",
       "      <th>...</th>\n",
       "      <th>NumInShelters</th>\n",
       "      <th>NumStreet</th>\n",
       "      <th>PctForeignBorn</th>\n",
       "      <th>PctBornSameState</th>\n",
       "      <th>PctSameHouse85</th>\n",
       "      <th>PctSameCity85</th>\n",
       "      <th>PctSameState85</th>\n",
       "      <th>LandArea</th>\n",
       "      <th>PopDens</th>\n",
       "      <th>PctUsePubTrans</th>\n",
       "    </tr>\n",
       "  </thead>\n",
       "  <tbody>\n",
       "    <tr>\n",
       "      <th>0</th>\n",
       "      <td>8</td>\n",
       "      <td>0.19</td>\n",
       "      <td>0.33</td>\n",
       "      <td>0.02</td>\n",
       "      <td>0.90</td>\n",
       "      <td>0.12</td>\n",
       "      <td>0.17</td>\n",
       "      <td>0.34</td>\n",
       "      <td>0.47</td>\n",
       "      <td>0.29</td>\n",
       "      <td>...</td>\n",
       "      <td>0.04</td>\n",
       "      <td>0.0</td>\n",
       "      <td>0.12</td>\n",
       "      <td>0.42</td>\n",
       "      <td>0.50</td>\n",
       "      <td>0.51</td>\n",
       "      <td>0.64</td>\n",
       "      <td>0.12</td>\n",
       "      <td>0.26</td>\n",
       "      <td>0.20</td>\n",
       "    </tr>\n",
       "    <tr>\n",
       "      <th>1</th>\n",
       "      <td>53</td>\n",
       "      <td>0.00</td>\n",
       "      <td>0.16</td>\n",
       "      <td>0.12</td>\n",
       "      <td>0.74</td>\n",
       "      <td>0.45</td>\n",
       "      <td>0.07</td>\n",
       "      <td>0.26</td>\n",
       "      <td>0.59</td>\n",
       "      <td>0.35</td>\n",
       "      <td>...</td>\n",
       "      <td>0.00</td>\n",
       "      <td>0.0</td>\n",
       "      <td>0.21</td>\n",
       "      <td>0.50</td>\n",
       "      <td>0.34</td>\n",
       "      <td>0.60</td>\n",
       "      <td>0.52</td>\n",
       "      <td>0.02</td>\n",
       "      <td>0.12</td>\n",
       "      <td>0.45</td>\n",
       "    </tr>\n",
       "    <tr>\n",
       "      <th>2</th>\n",
       "      <td>24</td>\n",
       "      <td>0.00</td>\n",
       "      <td>0.42</td>\n",
       "      <td>0.49</td>\n",
       "      <td>0.56</td>\n",
       "      <td>0.17</td>\n",
       "      <td>0.04</td>\n",
       "      <td>0.39</td>\n",
       "      <td>0.47</td>\n",
       "      <td>0.28</td>\n",
       "      <td>...</td>\n",
       "      <td>0.00</td>\n",
       "      <td>0.0</td>\n",
       "      <td>0.14</td>\n",
       "      <td>0.49</td>\n",
       "      <td>0.54</td>\n",
       "      <td>0.67</td>\n",
       "      <td>0.56</td>\n",
       "      <td>0.01</td>\n",
       "      <td>0.21</td>\n",
       "      <td>0.02</td>\n",
       "    </tr>\n",
       "    <tr>\n",
       "      <th>3</th>\n",
       "      <td>34</td>\n",
       "      <td>0.04</td>\n",
       "      <td>0.77</td>\n",
       "      <td>1.00</td>\n",
       "      <td>0.08</td>\n",
       "      <td>0.12</td>\n",
       "      <td>0.10</td>\n",
       "      <td>0.51</td>\n",
       "      <td>0.50</td>\n",
       "      <td>0.34</td>\n",
       "      <td>...</td>\n",
       "      <td>0.00</td>\n",
       "      <td>0.0</td>\n",
       "      <td>0.19</td>\n",
       "      <td>0.30</td>\n",
       "      <td>0.73</td>\n",
       "      <td>0.64</td>\n",
       "      <td>0.65</td>\n",
       "      <td>0.02</td>\n",
       "      <td>0.39</td>\n",
       "      <td>0.28</td>\n",
       "    </tr>\n",
       "    <tr>\n",
       "      <th>4</th>\n",
       "      <td>42</td>\n",
       "      <td>0.01</td>\n",
       "      <td>0.55</td>\n",
       "      <td>0.02</td>\n",
       "      <td>0.95</td>\n",
       "      <td>0.09</td>\n",
       "      <td>0.05</td>\n",
       "      <td>0.38</td>\n",
       "      <td>0.38</td>\n",
       "      <td>0.23</td>\n",
       "      <td>...</td>\n",
       "      <td>0.00</td>\n",
       "      <td>0.0</td>\n",
       "      <td>0.11</td>\n",
       "      <td>0.72</td>\n",
       "      <td>0.64</td>\n",
       "      <td>0.61</td>\n",
       "      <td>0.53</td>\n",
       "      <td>0.04</td>\n",
       "      <td>0.09</td>\n",
       "      <td>0.02</td>\n",
       "    </tr>\n",
       "  </tbody>\n",
       "</table>\n",
       "<p>5 rows × 98 columns</p>\n",
       "</div>"
      ],
      "text/plain": [
       "   state  population  householdsize  racepctblack  racePctWhite  racePctAsian  \\\n",
       "0      8        0.19           0.33          0.02          0.90          0.12   \n",
       "1     53        0.00           0.16          0.12          0.74          0.45   \n",
       "2     24        0.00           0.42          0.49          0.56          0.17   \n",
       "3     34        0.04           0.77          1.00          0.08          0.12   \n",
       "4     42        0.01           0.55          0.02          0.95          0.09   \n",
       "\n",
       "   racePctHisp  agePct12t21  agePct12t29  agePct16t24  ...  NumInShelters  \\\n",
       "0         0.17         0.34         0.47         0.29  ...           0.04   \n",
       "1         0.07         0.26         0.59         0.35  ...           0.00   \n",
       "2         0.04         0.39         0.47         0.28  ...           0.00   \n",
       "3         0.10         0.51         0.50         0.34  ...           0.00   \n",
       "4         0.05         0.38         0.38         0.23  ...           0.00   \n",
       "\n",
       "   NumStreet  PctForeignBorn  PctBornSameState  PctSameHouse85  PctSameCity85  \\\n",
       "0        0.0            0.12              0.42            0.50           0.51   \n",
       "1        0.0            0.21              0.50            0.34           0.60   \n",
       "2        0.0            0.14              0.49            0.54           0.67   \n",
       "3        0.0            0.19              0.30            0.73           0.64   \n",
       "4        0.0            0.11              0.72            0.64           0.61   \n",
       "\n",
       "   PctSameState85  LandArea  PopDens  PctUsePubTrans  \n",
       "0            0.64      0.12     0.26            0.20  \n",
       "1            0.52      0.02     0.12            0.45  \n",
       "2            0.56      0.01     0.21            0.02  \n",
       "3            0.65      0.02     0.39            0.28  \n",
       "4            0.53      0.04     0.09            0.02  \n",
       "\n",
       "[5 rows x 98 columns]"
      ]
     },
     "execution_count": 14,
     "metadata": {},
     "output_type": "execute_result"
    }
   ],
   "source": [
    "# first five records of the data set\n",
    "df_communities.head() "
   ]
  },
  {
   "cell_type": "markdown",
   "id": "ad79423e",
   "metadata": {},
   "source": [
    "### let's convert the original data set and the response variable into numpy arrays since we would like to do machine learning with numpy arrays"
   ]
  },
  {
   "cell_type": "code",
   "execution_count": 15,
   "id": "f743ec49",
   "metadata": {},
   "outputs": [],
   "source": [
    "# setting my printing preferences.\n",
    "np.set_printoptions(precision=2, linewidth=120, suppress=True, edgeitems=7)  "
   ]
  },
  {
   "cell_type": "markdown",
   "id": "cc33616d",
   "metadata": {},
   "source": [
    "#### let's extract the feature names"
   ]
  },
  {
   "cell_type": "code",
   "execution_count": 16,
   "id": "1b005a12",
   "metadata": {},
   "outputs": [
    {
     "name": "stdout",
     "output_type": "stream",
     "text": [
      "['state' 'population' 'householdsize' 'racepctblack' 'racePctWhite' 'racePctAsian' 'racePctHisp' 'agePct12t21'\n",
      " 'agePct12t29' 'agePct16t24']\n"
     ]
    }
   ],
   "source": [
    "# extract the column names and convert the series of index into a numpy array\n",
    "feature_names = np.array(df_communities.columns)\n",
    "feature_names.shape\n",
    "print(feature_names[:10]) # display the first 10 records"
   ]
  },
  {
   "cell_type": "code",
   "execution_count": 17,
   "id": "08aad6b2",
   "metadata": {},
   "outputs": [
    {
     "name": "stdout",
     "output_type": "stream",
     "text": [
      "[[ 8.    0.19  0.33  0.02  0.9   0.12  0.17  0.34  0.47  0.29  0.32  0.2   1.    0.37  0.72  0.34  0.6   0.29  0.15\n",
      "   0.43  0.39  0.4   0.39  0.32  0.27  0.27  0.36  0.41  0.08  0.19  0.1   0.18  0.48  0.27  0.68  0.23  0.41  0.68\n",
      "   0.4   0.75  0.75  0.35  0.55  0.59  0.61  0.56  0.74  0.76  0.04  0.14  0.03  0.24  0.27  0.37  0.39  0.07  0.07\n",
      "   0.08  0.08  0.89  0.06  0.14  0.13  0.33  0.39  0.28  0.55  0.09  0.51  0.5   0.21  0.71  0.52  0.05  0.26  0.65\n",
      "   0.14  0.06  0.22  0.19  0.18  0.36  0.35  0.38  0.34  0.38  0.46  0.25  0.04  0.    0.12  0.42  0.5   0.51  0.64\n",
      "   0.12  0.26  0.2 ]\n",
      " [53.    0.    0.16  0.12  0.74  0.45  0.07  0.26  0.59  0.35  0.27  0.02  1.    0.31  0.72  0.11  0.45  0.25  0.29\n",
      "   0.39  0.29  0.37  0.38  0.33  0.16  0.3   0.22  0.35  0.01  0.24  0.14  0.24  0.3   0.27  0.73  0.57  0.15  1.\n",
      "   0.63  0.91  1.    0.29  0.43  0.47  0.6   0.39  0.46  0.53  0.    0.24  0.01  0.52  0.62  0.64  0.63  0.25  0.27\n",
      "   0.25  0.23  0.84  0.1   0.16  0.1   0.17  0.29  0.17  0.26  0.2   0.82  0.    0.02  0.79  0.24  0.02  0.25  0.65\n",
      "   0.16  0.    0.21  0.2   0.21  0.42  0.38  0.4   0.37  0.29  0.32  0.18  0.    0.    0.21  0.5   0.34  0.6   0.52\n",
      "   0.02  0.12  0.45]\n",
      " [24.    0.    0.42  0.49  0.56  0.17  0.04  0.39  0.47  0.28  0.32  0.    0.    0.3   0.58  0.19  0.39  0.38  0.4\n",
      "   0.84  0.28  0.27  0.29  0.27  0.07  0.29  0.28  0.39  0.01  0.27  0.27  0.43  0.19  0.36  0.58  0.32  0.29  0.63\n",
      "   0.41  0.71  0.7   0.45  0.42  0.44  0.43  0.43  0.71  0.67  0.01  0.46  0.    0.07  0.06  0.15  0.19  0.02  0.02\n",
      "   0.04  0.05  0.88  0.04  0.2   0.2   0.46  0.52  0.43  0.42  0.15  0.51  0.5   0.01  0.86  0.41  0.29  0.3   0.52\n",
      "   0.47  0.45  0.18  0.17  0.16  0.27  0.29  0.27  0.31  0.48  0.39  0.28  0.    0.    0.14  0.49  0.54  0.67  0.56\n",
      "   0.01  0.21  0.02]]\n"
     ]
    },
    {
     "data": {
      "text/plain": [
       "(1994, 98)"
      ]
     },
     "execution_count": 17,
     "metadata": {},
     "output_type": "execute_result"
    }
   ],
   "source": [
    "# convert df_communities into a numpy array\n",
    "communitiesNdArray = np.array(df_communities)\n",
    "print(communitiesNdArray[0:3]) # first three records\n",
    "communitiesNdArray.shape"
   ]
  },
  {
   "cell_type": "code",
   "execution_count": 18,
   "id": "a099359d",
   "metadata": {},
   "outputs": [
    {
     "name": "stdout",
     "output_type": "stream",
     "text": [
      "[0.2  0.67 0.43 0.12 0.03]\n"
     ]
    },
    {
     "data": {
      "text/plain": [
       "(1994,)"
      ]
     },
     "execution_count": 18,
     "metadata": {},
     "output_type": "execute_result"
    }
   ],
   "source": [
    "# convert target (response) variable into a numpy array\n",
    "targetNdArray = np.array(vs_target)\n",
    "print(targetNdArray[0:5]) # the first five records\n",
    "targetNdArray.shape"
   ]
  },
  {
   "cell_type": "markdown",
   "id": "27a7e208",
   "metadata": {},
   "source": [
    "### Create a 20% - 80% randomized split of the data set by using the train_test_split module from the sklearn.model_selection package.\n",
    "#### Set a side 20% test portion and 80% training data partition"
   ]
  },
  {
   "cell_type": "code",
   "execution_count": 19,
   "id": "ffd5ac1d",
   "metadata": {},
   "outputs": [
    {
     "name": "stdout",
     "output_type": "stream",
     "text": [
      "(399, 98)\n"
     ]
    },
    {
     "data": {
      "text/plain": [
       "array([[ 4.  ,  0.  ,  0.46,  0.01,  0.97,  0.09,  0.04,  0.4 ,  0.26,  0.2 ,  0.49,  0.02,  1.  ,  1.  ,  0.55,\n",
       "         1.  ,  0.88,  0.42,  0.09,  0.46,  1.  ,  1.  ,  1.  ,  1.  ,  0.81,  0.71,  0.24,  1.  ,  0.  ,  0.07,\n",
       "         0.04,  0.04,  0.97,  0.16,  0.38,  0.2 ,  0.64,  0.24,  0.21,  0.2 ,  0.22,  0.37,  0.97,  0.95,  0.97,\n",
       "         0.91,  0.25,  0.  ,  0.  ,  0.02,  0.  ,  0.45,  0.45,  0.51,  0.46,  0.19,  0.17,  0.17,  0.15,  0.89,\n",
       "         0.06,  0.16,  0.19,  0.51,  0.48,  0.45,  0.99,  0.01,  0.  ,  1.  ,  0.02,  0.63,  0.99,  0.09,  0.47,\n",
       "         0.67,  0.  ,  0.  ,  0.85,  1.  ,  1.  ,  0.78,  1.  ,  1.  ,  1.  ,  0.46,  0.44,  0.22,  0.  ,  0.  ,\n",
       "         0.18,  0.13,  0.73,  0.76,  0.55,  0.04,  0.06,  0.03],\n",
       "       [25.  ,  0.01,  0.35,  0.01,  0.96,  0.04,  0.04,  0.32,  0.45,  0.29,  0.62,  0.02,  0.94,  0.3 ,  0.45,\n",
       "         0.1 ,  0.39,  0.62,  0.38,  0.38,  0.34,  0.32,  0.32,  0.21,  0.08,  0.05,  0.17,  0.22,  0.01,  0.24,\n",
       "         0.44,  0.58,  0.2 ,  0.41,  0.48,  0.58,  0.32,  0.45,  0.4 ,  0.45,  0.47,  0.39,  0.53,  0.58,  0.61,\n",
       "         0.59,  0.64,  0.63,  0.01,  0.25,  0.  ,  0.07,  0.12,  0.25,  0.3 ,  0.02,  0.03,  0.05,  0.06,  0.78,\n",
       "         0.08,  0.14,  0.13,  0.36,  0.42,  0.34,  0.43,  0.07,  0.56,  0.  ,  0.04,  0.53,  0.42,  0.13,  0.7 ,\n",
       "         0.25,  0.18,  0.41,  0.31,  0.3 ,  0.29,  0.23,  0.32,  0.35,  0.31,  0.34,  0.46,  0.58,  0.  ,  0.  ,\n",
       "         0.11,  0.86,  0.66,  0.88,  0.8 ,  0.03,  0.11,  0.01],\n",
       "       [36.  ,  0.51,  0.31,  0.6 ,  0.46,  0.06,  0.09,  0.42,  0.54,  0.39,  0.48,  0.52,  1.  ,  0.11,  0.28,\n",
       "         0.15,  0.34,  0.57,  0.92,  0.53,  0.15,  0.18,  0.22,  0.2 ,  0.13,  0.23,  0.15,  0.19,  0.74,  0.68,\n",
       "         0.43,  0.57,  0.24,  0.8 ,  0.27,  0.36,  0.63,  0.6 ,  0.74,  0.59,  0.62,  0.45,  0.12,  0.21,  0.19,\n",
       "         0.13,  0.31,  0.29,  0.62,  0.85,  0.1 ,  0.33,  0.32,  0.34,  0.34,  0.11,  0.09,  0.09,  0.08,  0.8 ,\n",
       "         0.12,  0.27,  0.2 ,  0.31,  0.41,  0.29,  0.31,  0.1 ,  0.49,  0.5 ,  0.83,  0.58,  0.29,  0.87,  0.66,\n",
       "         0.  ,  0.54,  0.3 ,  0.06,  0.06,  0.08,  0.14,  0.16,  0.18,  0.2 ,  0.81,  0.24,  0.57,  0.17,  0.01,\n",
       "         0.13,  0.8 ,  0.61,  0.87,  0.84,  0.12,  0.68,  0.75],\n",
       "       [48.  ,  0.02,  0.52,  0.25,  0.63,  0.03,  0.31,  0.54,  0.62,  0.44,  0.36,  0.  ,  0.  ,  0.26,  0.6 ,\n",
       "         0.71,  0.34,  0.43,  0.37,  0.26,  0.27,  0.31,  0.37,  0.12,  0.16,  0.3 ,  0.25,  0.27,  0.03,  0.46,\n",
       "         0.46,  0.54,  0.29,  0.35,  0.47,  0.49,  0.27,  0.56,  0.41,  0.6 ,  0.6 ,  0.53,  0.57,  0.49,  0.53,\n",
       "         0.52,  0.59,  0.59,  0.02,  0.37,  0.01,  0.5 ,  0.76,  0.77,  0.81,  0.16,  0.21,  0.19,  0.19,  0.74,\n",
       "         0.22,  0.38,  0.35,  0.48,  0.47,  0.51,  0.43,  0.34,  0.59,  0.  ,  0.05,  0.54,  0.45,  0.32,  0.49,\n",
       "         0.67,  0.82,  0.67,  0.09,  0.13,  0.17,  0.28,  0.29,  0.29,  0.3 ,  0.56,  0.63,  0.56,  0.01,  0.  ,\n",
       "         0.13,  0.72,  0.35,  0.5 ,  0.7 ,  0.13,  0.04,  0.01],\n",
       "       [37.  ,  0.03,  0.37,  0.4 ,  0.68,  0.03,  0.01,  0.39,  0.47,  0.34,  0.55,  0.04,  1.  ,  0.23,  0.52,\n",
       "         0.17,  0.36,  0.56,  0.35,  0.44,  0.27,  0.28,  0.32,  0.19,  0.17,  0.29,  0.24,  0.17,  0.03,  0.31,\n",
       "         0.47,  0.59,  0.22,  0.22,  0.52,  0.64,  0.25,  0.6 ,  0.37,  0.52,  0.57,  0.38,  0.49,  0.46,  0.54,\n",
       "         0.62,  0.64,  0.73,  0.03,  0.42,  0.  ,  0.46,  0.68,  0.59,  0.57,  0.04,  0.05,  0.04,  0.04,  0.97,\n",
       "         0.03,  0.17,  0.16,  0.37,  0.37,  0.38,  0.53,  0.15,  0.58,  0.  ,  0.04,  0.73,  0.53,  0.27,  0.59,\n",
       "         0.4 ,  0.31,  0.12,  0.09,  0.1 ,  0.13,  0.16,  0.21,  0.23,  0.24,  0.3 ,  0.38,  0.42,  0.01,  0.01,\n",
       "         0.03,  0.78,  0.59,  0.71,  0.69,  0.06,  0.1 ,  0.  ]])"
      ]
     },
     "execution_count": 19,
     "metadata": {},
     "output_type": "execute_result"
    }
   ],
   "source": [
    "# train_test_split shuffles the data and splits it into two split for us into 80% training and 20% percent testing.\n",
    "vs_train_communities, vs_test_communities, vs_target_train, vs_target_test = train_test_split(communitiesNdArray, targetNdArray, test_size = 0.2, random_state = 33)\n",
    "print(vs_test_communities.shape)\n",
    "vs_test_communities[0:5] # first five records"
   ]
  },
  {
   "cell_type": "code",
   "execution_count": 20,
   "id": "380c5f33",
   "metadata": {},
   "outputs": [
    {
     "name": "stdout",
     "output_type": "stream",
     "text": [
      "(1595, 98)\n"
     ]
    },
    {
     "data": {
      "text/plain": [
       "array([[34.  ,  0.01,  0.54,  0.02,  0.91,  0.27,  0.04,  0.37,  0.41,  0.25,  0.28,  0.02,  1.  ,  0.89,  0.74,\n",
       "         0.15,  0.83,  0.35,  0.02,  0.4 ,  0.88,  0.76,  0.75,  0.88,  0.46,  0.44,  0.47,  0.63,  0.  ,  0.05,\n",
       "         0.06,  0.09,  0.77,  0.19,  0.63,  0.36,  0.29,  0.22,  0.36,  0.24,  0.23,  0.53,  0.89,  0.92,  0.97,\n",
       "         0.81,  0.17,  0.26,  0.  ,  0.04,  0.01,  0.27,  0.3 ,  0.33,  0.42,  0.18,  0.18,  0.18,  0.21,  0.82,\n",
       "         0.08,  0.19,  0.21,  0.59,  0.6 ,  0.39,  0.86,  0.03,  0.22,  0.5 ,  0.01,  0.76,  0.83,  0.  ,  0.39,\n",
       "         0.44,  0.01,  0.3 ,  0.71,  0.71,  0.74,  0.97,  0.94,  1.  ,  0.95,  0.63,  0.59,  0.89,  0.01,  0.  ,\n",
       "         0.29,  0.42,  0.72,  0.74,  0.62,  0.01,  0.2 ,  0.47],\n",
       "       [55.  ,  0.99,  0.42,  0.59,  0.44,  0.11,  0.11,  0.44,  0.56,  0.37,  0.39,  0.99,  1.  ,  0.2 ,  0.45,\n",
       "         0.11,  0.44,  0.48,  0.75,  0.47,  0.21,  0.2 ,  0.28,  0.18,  0.13,  0.15,  0.18,  0.22,  1.  ,  0.59,\n",
       "         0.33,  0.49,  0.22,  0.59,  0.42,  0.51,  0.45,  0.62,  0.69,  0.61,  0.64,  0.55,  0.18,  0.21,  0.2 ,\n",
       "         0.16,  0.45,  0.45,  1.  ,  0.98,  0.2 ,  0.37,  0.37,  0.4 ,  0.44,  0.12,  0.11,  0.11,  0.11,  0.82,\n",
       "         0.12,  0.43,  0.34,  0.42,  0.47,  0.42,  0.31,  0.2 ,  0.62,  0.  ,  0.73,  0.8 ,  0.31,  0.86,  0.44,\n",
       "         0.21,  0.33,  0.46,  0.09,  0.08,  0.07,  0.25,  0.27,  0.3 ,  0.28,  0.59,  0.41,  0.57,  0.3 ,  0.12,\n",
       "         0.14,  0.71,  0.52,  0.79,  0.75,  0.28,  0.55,  0.62],\n",
       "       [34.  ,  0.01,  0.53,  0.02,  0.95,  0.15,  0.03,  0.27,  0.37,  0.18,  0.23,  0.  ,  0.  ,  0.82,  0.82,\n",
       "         0.45,  0.75,  0.21,  0.05,  0.29,  0.77,  0.67,  0.65,  0.94,  1.  ,  0.43,  0.5 ,  0.49,  0.  ,  0.05,\n",
       "         0.13,  0.15,  0.69,  0.09,  0.78,  0.43,  0.4 ,  0.26,  0.27,  0.26,  0.26,  0.51,  0.96,  0.96,  0.96,\n",
       "         0.88,  0.34,  0.42,  0.  ,  0.06,  0.01,  0.42,  0.41,  0.41,  0.37,  0.18,  0.15,  0.14,  0.11,  0.89,\n",
       "         0.02,  0.17,  0.19,  0.56,  0.57,  0.41,  0.88,  0.03,  0.37,  0.5 ,  0.02,  0.77,  0.86,  0.04,  0.78,\n",
       "         0.9 ,  0.02,  0.22,  0.49,  0.56,  0.59,  0.65,  0.75,  0.88,  0.82,  0.38,  0.89,  0.79,  0.01,  0.  ,\n",
       "         0.17,  0.54,  0.38,  0.24,  0.51,  0.11,  0.03,  0.09],\n",
       "       [25.  ,  0.07,  0.41,  0.02,  0.97,  0.05,  0.02,  0.32,  0.49,  0.31,  0.44,  0.09,  1.  ,  0.49,  0.63,\n",
       "         0.17,  0.52,  0.51,  0.24,  0.59,  0.51,  0.45,  0.44,  0.31,  0.26,  0.27,  0.46,  0.55,  0.02,  0.1 ,\n",
       "         0.1 ,  0.19,  0.34,  0.33,  0.64,  0.25,  0.42,  0.36,  0.53,  0.38,  0.38,  0.52,  0.71,  0.76,  0.79,\n",
       "         0.66,  0.51,  0.6 ,  0.01,  0.12,  0.02,  0.29,  0.27,  0.28,  0.27,  0.09,  0.08,  0.07,  0.06,  0.93,\n",
       "         0.02,  0.27,  0.23,  0.44,  0.55,  0.22,  0.67,  0.06,  0.53,  0.5 ,  0.06,  0.81,  0.59,  0.19,  0.35,\n",
       "         0.35,  0.04,  0.05,  0.42,  0.39,  0.35,  0.55,  0.63,  0.69,  0.61,  0.42,  0.42,  0.47,  0.  ,  0.  ,\n",
       "         0.13,  0.88,  0.76,  0.74,  0.84,  0.05,  0.27,  0.4 ],\n",
       "       [37.  ,  0.05,  0.41,  0.11,  0.85,  0.23,  0.03,  0.32,  0.52,  0.26,  0.1 ,  0.07,  1.  ,  0.57,  0.92,\n",
       "         0.36,  0.68,  0.11,  0.04,  0.23,  0.58,  0.53,  0.53,  0.4 ,  0.41,  0.41,  0.43,  0.57,  0.01,  0.07,\n",
       "         0.04,  0.06,  0.8 ,  0.08,  0.89,  0.36,  0.43,  0.3 ,  0.33,  0.38,  0.35,  0.44,  0.86,  0.89,  0.92,\n",
       "         0.85,  0.64,  0.65,  0.  ,  0.06,  0.02,  0.26,  0.37,  0.52,  0.55,  0.1 ,  0.13,  0.17,  0.16,  0.86,\n",
       "         0.06,  0.08,  0.09,  0.45,  0.52,  0.31,  0.66,  0.05,  0.37,  0.5 ,  0.06,  0.77,  0.61,  0.01,  0.18,\n",
       "         0.9 ,  0.05,  0.04,  0.25,  0.25,  0.26,  0.45,  0.4 ,  0.43,  0.43,  0.22,  0.49,  0.31,  0.  ,  0.  ,\n",
       "         0.17,  0.33,  0.2 ,  0.23,  0.05,  0.09,  0.12,  0.01]])"
      ]
     },
     "execution_count": 20,
     "metadata": {},
     "output_type": "execute_result"
    }
   ],
   "source": [
    "print(vs_train_communities.shape)\n",
    "vs_train_communities[0:5] # the first five records"
   ]
  },
  {
   "cell_type": "code",
   "execution_count": 21,
   "id": "dc63de77",
   "metadata": {},
   "outputs": [
    {
     "name": "stdout",
     "output_type": "stream",
     "text": [
      "(1595,)\n"
     ]
    },
    {
     "data": {
      "text/plain": [
       "array([0.08, 0.4 , 0.02, 0.18, 0.07])"
      ]
     },
     "execution_count": 21,
     "metadata": {},
     "output_type": "execute_result"
    }
   ],
   "source": [
    "print(vs_target_train.shape)\n",
    "vs_target_train[0:5] # the first five records"
   ]
  },
  {
   "cell_type": "code",
   "execution_count": 22,
   "id": "e24626c3",
   "metadata": {},
   "outputs": [
    {
     "name": "stdout",
     "output_type": "stream",
     "text": [
      "(399,)\n",
      "[0.06 0.14 0.8  0.5  0.3 ]\n"
     ]
    }
   ],
   "source": [
    "print(vs_target_test.shape)\n",
    "print(vs_target_test[0:5]) # the first five records"
   ]
  },
  {
   "cell_type": "markdown",
   "id": "ae1300ab",
   "metadata": {},
   "source": [
    "#### b. Perform standard multiple linear regression on data using the implementation for Ch. 8 of MLA"
   ]
  },
  {
   "cell_type": "code",
   "execution_count": 23,
   "id": "4542446f",
   "metadata": {},
   "outputs": [],
   "source": [
    "def standRegres(xArr,yArr):\n",
    "    \"\"\"This function computes the best line of fit\"\"\"\n",
    "    \n",
    "    xMat = np.mat(xArr)            # load the x arrays and convert it into a matrice \n",
    "    yMat = np.mat(yArr).T          # load the y arrays and convert it into a matrice \n",
    "    \n",
    "    xTx = xMat.T*xMat           # compute X^TX\n",
    "    if np.linalg.det(xTx) == 0.0:  # determine if the Xdeterminant of (X^T) is zero.\n",
    "       print(\"This matrix is singular, cannot do inverse\")\n",
    "       return\n",
    "    ws = xTx.I * (xMat.T*yMat) #  If the determinate is nonzero, you compute  ws \n",
    "    return ws                  # return ws (weights)"
   ]
  },
  {
   "cell_type": "code",
   "execution_count": 24,
   "id": "caca56d6",
   "metadata": {},
   "outputs": [
    {
     "data": {
      "text/plain": [
       "array([[34.  ,  0.01,  0.54,  0.02,  0.91,  0.27,  0.04,  0.37,  0.41,  0.25,  0.28,  0.02,  1.  ,  0.89,  0.74,\n",
       "         0.15,  0.83,  0.35,  0.02,  0.4 ,  0.88,  0.76,  0.75,  0.88,  0.46,  0.44,  0.47,  0.63,  0.  ,  0.05,\n",
       "         0.06,  0.09,  0.77,  0.19,  0.63,  0.36,  0.29,  0.22,  0.36,  0.24,  0.23,  0.53,  0.89,  0.92,  0.97,\n",
       "         0.81,  0.17,  0.26,  0.  ,  0.04,  0.01,  0.27,  0.3 ,  0.33,  0.42,  0.18,  0.18,  0.18,  0.21,  0.82,\n",
       "         0.08,  0.19,  0.21,  0.59,  0.6 ,  0.39,  0.86,  0.03,  0.22,  0.5 ,  0.01,  0.76,  0.83,  0.  ,  0.39,\n",
       "         0.44,  0.01,  0.3 ,  0.71,  0.71,  0.74,  0.97,  0.94,  1.  ,  0.95,  0.63,  0.59,  0.89,  0.01,  0.  ,\n",
       "         0.29,  0.42,  0.72,  0.74,  0.62,  0.01,  0.2 ,  0.47,  1.  ],\n",
       "       [55.  ,  0.99,  0.42,  0.59,  0.44,  0.11,  0.11,  0.44,  0.56,  0.37,  0.39,  0.99,  1.  ,  0.2 ,  0.45,\n",
       "         0.11,  0.44,  0.48,  0.75,  0.47,  0.21,  0.2 ,  0.28,  0.18,  0.13,  0.15,  0.18,  0.22,  1.  ,  0.59,\n",
       "         0.33,  0.49,  0.22,  0.59,  0.42,  0.51,  0.45,  0.62,  0.69,  0.61,  0.64,  0.55,  0.18,  0.21,  0.2 ,\n",
       "         0.16,  0.45,  0.45,  1.  ,  0.98,  0.2 ,  0.37,  0.37,  0.4 ,  0.44,  0.12,  0.11,  0.11,  0.11,  0.82,\n",
       "         0.12,  0.43,  0.34,  0.42,  0.47,  0.42,  0.31,  0.2 ,  0.62,  0.  ,  0.73,  0.8 ,  0.31,  0.86,  0.44,\n",
       "         0.21,  0.33,  0.46,  0.09,  0.08,  0.07,  0.25,  0.27,  0.3 ,  0.28,  0.59,  0.41,  0.57,  0.3 ,  0.12,\n",
       "         0.14,  0.71,  0.52,  0.79,  0.75,  0.28,  0.55,  0.62,  1.  ],\n",
       "       [34.  ,  0.01,  0.53,  0.02,  0.95,  0.15,  0.03,  0.27,  0.37,  0.18,  0.23,  0.  ,  0.  ,  0.82,  0.82,\n",
       "         0.45,  0.75,  0.21,  0.05,  0.29,  0.77,  0.67,  0.65,  0.94,  1.  ,  0.43,  0.5 ,  0.49,  0.  ,  0.05,\n",
       "         0.13,  0.15,  0.69,  0.09,  0.78,  0.43,  0.4 ,  0.26,  0.27,  0.26,  0.26,  0.51,  0.96,  0.96,  0.96,\n",
       "         0.88,  0.34,  0.42,  0.  ,  0.06,  0.01,  0.42,  0.41,  0.41,  0.37,  0.18,  0.15,  0.14,  0.11,  0.89,\n",
       "         0.02,  0.17,  0.19,  0.56,  0.57,  0.41,  0.88,  0.03,  0.37,  0.5 ,  0.02,  0.77,  0.86,  0.04,  0.78,\n",
       "         0.9 ,  0.02,  0.22,  0.49,  0.56,  0.59,  0.65,  0.75,  0.88,  0.82,  0.38,  0.89,  0.79,  0.01,  0.  ,\n",
       "         0.17,  0.54,  0.38,  0.24,  0.51,  0.11,  0.03,  0.09,  1.  ],\n",
       "       [25.  ,  0.07,  0.41,  0.02,  0.97,  0.05,  0.02,  0.32,  0.49,  0.31,  0.44,  0.09,  1.  ,  0.49,  0.63,\n",
       "         0.17,  0.52,  0.51,  0.24,  0.59,  0.51,  0.45,  0.44,  0.31,  0.26,  0.27,  0.46,  0.55,  0.02,  0.1 ,\n",
       "         0.1 ,  0.19,  0.34,  0.33,  0.64,  0.25,  0.42,  0.36,  0.53,  0.38,  0.38,  0.52,  0.71,  0.76,  0.79,\n",
       "         0.66,  0.51,  0.6 ,  0.01,  0.12,  0.02,  0.29,  0.27,  0.28,  0.27,  0.09,  0.08,  0.07,  0.06,  0.93,\n",
       "         0.02,  0.27,  0.23,  0.44,  0.55,  0.22,  0.67,  0.06,  0.53,  0.5 ,  0.06,  0.81,  0.59,  0.19,  0.35,\n",
       "         0.35,  0.04,  0.05,  0.42,  0.39,  0.35,  0.55,  0.63,  0.69,  0.61,  0.42,  0.42,  0.47,  0.  ,  0.  ,\n",
       "         0.13,  0.88,  0.76,  0.74,  0.84,  0.05,  0.27,  0.4 ,  1.  ],\n",
       "       [37.  ,  0.05,  0.41,  0.11,  0.85,  0.23,  0.03,  0.32,  0.52,  0.26,  0.1 ,  0.07,  1.  ,  0.57,  0.92,\n",
       "         0.36,  0.68,  0.11,  0.04,  0.23,  0.58,  0.53,  0.53,  0.4 ,  0.41,  0.41,  0.43,  0.57,  0.01,  0.07,\n",
       "         0.04,  0.06,  0.8 ,  0.08,  0.89,  0.36,  0.43,  0.3 ,  0.33,  0.38,  0.35,  0.44,  0.86,  0.89,  0.92,\n",
       "         0.85,  0.64,  0.65,  0.  ,  0.06,  0.02,  0.26,  0.37,  0.52,  0.55,  0.1 ,  0.13,  0.17,  0.16,  0.86,\n",
       "         0.06,  0.08,  0.09,  0.45,  0.52,  0.31,  0.66,  0.05,  0.37,  0.5 ,  0.06,  0.77,  0.61,  0.01,  0.18,\n",
       "         0.9 ,  0.05,  0.04,  0.25,  0.25,  0.26,  0.45,  0.4 ,  0.43,  0.43,  0.22,  0.49,  0.31,  0.  ,  0.  ,\n",
       "         0.17,  0.33,  0.2 ,  0.23,  0.05,  0.09,  0.12,  0.01,  1.  ],\n",
       "       [ 6.  ,  0.02,  0.71,  0.17,  0.41,  0.72,  0.64,  0.41,  0.45,  0.28,  0.32,  0.03,  1.  ,  0.43,  0.67,\n",
       "         0.21,  0.38,  0.36,  0.45,  0.29,  0.41,  0.31,  0.33,  0.34,  0.16,  0.37,  0.29,  0.32,  0.01,  0.2 ,\n",
       "         0.41,  0.46,  0.35,  0.4 ,  0.5 ,  0.49,  0.4 ,  0.46,  0.46,  0.54,  0.53,  0.82,  0.69,  0.64,  0.8 ,\n",
       "         0.68,  0.43,  0.41,  0.01,  0.29,  0.04,  0.37,  0.4 ,  0.48,  0.49,  0.71,  0.68,  0.74,  0.69,  0.27,\n",
       "         0.55,  0.77,  0.71,  0.72,  0.75,  0.6 ,  0.66,  0.67,  0.55,  0.5 ,  0.01,  0.89,  0.64,  0.2 ,  0.12,\n",
       "         0.56,  0.11,  0.16,  0.44,  0.44,  0.48,  0.51,  0.59,  0.7 ,  0.58,  0.66,  0.78,  0.31,  0.  ,  0.  ,\n",
       "         0.82,  0.45,  0.55,  0.84,  0.75,  0.02,  0.24,  0.18,  1.  ],\n",
       "       [13.  ,  0.11,  0.52,  1.  ,  0.15,  0.02,  0.01,  0.58,  0.57,  0.41,  0.33,  0.12,  1.  ,  0.17,  0.49,\n",
       "         0.2 ,  0.24,  0.42,  0.77,  0.4 ,  0.18,  0.18,  0.36,  0.15,  0.15,  0.41,  0.19,  0.24,  0.19,  0.73,\n",
       "         0.48,  0.59,  0.28,  0.74,  0.35,  0.35,  0.45,  0.63,  0.56,  0.75,  0.74,  0.58,  0.19,  0.17,  0.14,\n",
       "         0.2 ,  0.46,  0.49,  0.16,  0.86,  0.  ,  0.33,  0.3 ,  0.41,  0.4 ,  0.02,  0.02,  0.02,  0.02,  0.95,\n",
       "         0.03,  0.38,  0.35,  0.51,  0.48,  0.56,  0.31,  0.34,  0.52,  0.5 ,  0.14,  0.64,  0.34,  0.45,  0.37,\n",
       "         0.56,  0.7 ,  0.41,  0.09,  0.09,  0.11,  0.06,  0.12,  0.16,  0.17,  0.52,  0.28,  0.42,  0.02,  0.  ,\n",
       "         0.02,  0.8 ,  0.5 ,  0.69,  0.71,  0.16,  0.12,  0.1 ,  1.  ],\n",
       "       [36.  ,  0.03,  0.66,  0.13,  0.73,  0.61,  0.07,  1.  ,  1.  ,  1.  ,  0.21,  0.05,  1.  ,  0.1 ,  0.64,\n",
       "         0.23,  0.61,  0.29,  0.25,  0.32,  0.25,  0.14,  0.16,  0.17,  0.09,  0.1 ,  0.1 ,  0.17,  0.08,  1.  ,\n",
       "         0.16,  0.21,  0.82,  0.28,  0.21,  0.08,  1.  ,  0.15,  1.  ,  0.27,  0.22,  0.29,  0.32,  0.37,  0.53,\n",
       "         0.21,  0.36,  0.46,  0.01,  0.28,  0.02,  0.79,  0.78,  0.78,  0.76,  0.64,  0.55,  0.5 ,  0.45,  0.71,\n",
       "         0.05,  0.2 ,  0.21,  0.27,  0.32,  0.31,  0.08,  0.12,  0.63,  0.  ,  0.02,  0.84,  0.1 ,  0.03,  0.45,\n",
       "         0.  ,  0.26,  0.06,  0.21,  0.21,  0.23,  0.37,  0.39,  0.52,  0.37,  1.  ,  0.51,  0.51,  0.01,  0.  ,\n",
       "         0.34,  0.48,  0.02,  0.  ,  0.  ,  0.01,  0.45,  0.34,  1.  ],\n",
       "       [ 6.  ,  0.16,  0.44,  0.05,  0.76,  0.53,  0.21,  0.37,  0.49,  0.3 ,  0.29,  0.18,  1.  ,  0.5 ,  0.7 ,\n",
       "         0.21,  0.52,  0.29,  0.31,  0.45,  0.49,  0.43,  0.44,  0.39,  0.25,  0.33,  0.33,  0.44,  0.07,  0.16,\n",
       "         0.12,  0.18,  0.42,  0.25,  0.69,  0.2 ,  0.32,  0.57,  0.45,  0.69,  0.66,  0.47,  0.62,  0.65,  0.71,\n",
       "         0.54,  0.51,  0.6 ,  0.03,  0.13,  0.11,  0.46,  0.54,  0.62,  0.63,  0.45,  0.47,  0.49,  0.45,  0.69,\n",
       "         0.2 ,  0.26,  0.24,  0.47,  0.47,  0.49,  0.51,  0.24,  0.46,  0.5 ,  0.09,  0.86,  0.53,  0.05,  0.13,\n",
       "         0.58,  0.08,  0.05,  0.51,  0.51,  0.52,  0.65,  0.6 ,  0.7 ,  0.6 ,  0.65,  0.65,  0.19,  0.03,  0.01,\n",
       "         0.42,  0.49,  0.42,  0.54,  0.62,  0.08,  0.32,  0.56,  1.  ],\n",
       "       [45.  ,  0.03,  0.35,  0.67,  0.47,  0.02,  0.01,  0.45,  0.48,  0.36,  0.66,  0.04,  1.  ,  0.13,  0.37,\n",
       "         0.15,  0.33,  0.74,  0.42,  0.47,  0.17,  0.19,  0.27,  0.16,  0.12,  0.18,  0.23,  0.27,  0.04,  0.52,\n",
       "         0.63,  0.66,  0.26,  0.48,  0.34,  0.63,  0.45,  0.57,  0.5 ,  0.58,  0.61,  0.42,  0.26,  0.25,  0.35,\n",
       "         0.28,  0.66,  0.74,  0.04,  0.64,  0.  ,  0.39,  0.34,  0.33,  0.28,  0.02,  0.01,  0.01,  0.01,  0.97,\n",
       "         0.03,  0.26,  0.22,  0.32,  0.3 ,  0.4 ,  0.38,  0.18,  0.64,  0.  ,  0.05,  0.65,  0.41,  0.18,  0.63,\n",
       "         0.46,  0.69,  0.14,  0.07,  0.08,  0.09,  0.07,  0.13,  0.17,  0.17,  0.39,  0.41,  0.47,  0.01,  0.01,\n",
       "         0.02,  0.8 ,  0.51,  0.75,  0.75,  0.03,  0.18,  0.05,  1.  ]])"
      ]
     },
     "execution_count": 24,
     "metadata": {},
     "output_type": "execute_result"
    }
   ],
   "source": [
    "# In order to do multiple regression we need to add a column of 1s for X0\n",
    "# Concatenate each row with a 1\n",
    "vs_train_communities_with_ones = np.array([np.concatenate((v, [1])) for v in vs_train_communities])\n",
    "vs_train_communities_with_ones[:10]"
   ]
  },
  {
   "cell_type": "code",
   "execution_count": 25,
   "id": "60533e01",
   "metadata": {},
   "outputs": [
    {
     "name": "stdout",
     "output_type": "stream",
     "text": [
      "[0.08 0.4  0.02 0.18 0.07 0.33 0.56 0.15 0.22 0.76]\n"
     ]
    }
   ],
   "source": [
    "# print the first 5 elements of the train response variable\n",
    "print(vs_target_train[:10])"
   ]
  },
  {
   "cell_type": "markdown",
   "id": "75185f05",
   "metadata": {},
   "source": [
    "#### create a linear regression object"
   ]
  },
  {
   "cell_type": "code",
   "execution_count": 26,
   "id": "d365a2b0",
   "metadata": {},
   "outputs": [
    {
     "data": {
      "text/plain": [
       "matrix([[-0.  ],\n",
       "        [-0.02],\n",
       "        [-0.02],\n",
       "        [ 0.22],\n",
       "        [-0.05],\n",
       "        [-0.02],\n",
       "        [ 0.04],\n",
       "        [ 0.1 ],\n",
       "        [-0.19],\n",
       "        [-0.11]])"
      ]
     },
     "execution_count": 26,
     "metadata": {},
     "output_type": "execute_result"
    }
   ],
   "source": [
    "# just call a standRegres object just like the classifier. \n",
    "ws = standRegres(vs_train_communities_with_ones, vs_target_train)\n",
    "ws[:10] # return the first 10 weights"
   ]
  },
  {
   "cell_type": "markdown",
   "id": "5a48834e",
   "metadata": {},
   "source": [
    "### Compute the RMSE values on the full training data"
   ]
  },
  {
   "cell_type": "markdown",
   "id": "878e5ae8",
   "metadata": {},
   "source": [
    "#### let's compute yHat with the derived weights ws"
   ]
  },
  {
   "cell_type": "code",
   "execution_count": 27,
   "id": "ffaf3084",
   "metadata": {},
   "outputs": [],
   "source": [
    "xMat = vs_train_communities_with_ones  # vs_train_communities_with_ones is a numpy array\n",
    "yMat = vs_target_train               # vs_target_train is already a numpy array"
   ]
  },
  {
   "cell_type": "code",
   "execution_count": 28,
   "id": "04da0ec4",
   "metadata": {},
   "outputs": [
    {
     "data": {
      "text/plain": [
       "matrix([[-0.03],\n",
       "        [ 0.62],\n",
       "        [-0.07],\n",
       "        [ 0.12],\n",
       "        [ 0.07]])"
      ]
     },
     "execution_count": 28,
     "metadata": {},
     "output_type": "execute_result"
    }
   ],
   "source": [
    "yHat = xMat * ws\n",
    "yHat[:5] # first five records of yHat"
   ]
  },
  {
   "cell_type": "code",
   "execution_count": 29,
   "id": "f22e8f71",
   "metadata": {},
   "outputs": [
    {
     "name": "stdout",
     "output_type": "stream",
     "text": [
      "(1595, 1)\n",
      "(1595,)\n"
     ]
    }
   ],
   "source": [
    "print(yHat.shape)\n",
    "print(yMat.shape)"
   ]
  },
  {
   "cell_type": "markdown",
   "id": "fab4187a",
   "metadata": {},
   "source": [
    "##### Now we construct a vector of errors"
   ]
  },
  {
   "cell_type": "code",
   "execution_count": 30,
   "id": "a743484c",
   "metadata": {},
   "outputs": [],
   "source": [
    "#  you take the absolute value of the difference between yHat and the actual y values and the result will be your error  and that is the term you are going to square\n",
    "# we transpose yHat to make sure it is in the same shape as yHat\n",
    "# predictions - expectations\n",
    "err = abs(yHat.ravel() - yMat.ravel()) "
   ]
  },
  {
   "cell_type": "code",
   "execution_count": 31,
   "id": "a1b7c858",
   "metadata": {},
   "outputs": [
    {
     "data": {
      "text/plain": [
       "matrix([[0.11, 0.22, 0.09, 0.06, 0.  , 0.11, 0.15, ..., 0.02, 0.03, 0.03, 0.12, 0.13, 0.01, 0.16]])"
      ]
     },
     "execution_count": 31,
     "metadata": {},
     "output_type": "execute_result"
    }
   ],
   "source": [
    "# let's see the error on the first 5 predictions\n",
    "err[:5]"
   ]
  },
  {
   "cell_type": "markdown",
   "id": "254332a4",
   "metadata": {},
   "source": [
    "##### Perform a dot product of the error vector with itself, which gives us the sum of squared errors"
   ]
  },
  {
   "cell_type": "code",
   "execution_count": 32,
   "id": "8c41571e",
   "metadata": {},
   "outputs": [],
   "source": [
    "totalError = np.square(err)"
   ]
  },
  {
   "cell_type": "markdown",
   "id": "62cba8f5",
   "metadata": {},
   "source": [
    "##### Compute RMSE"
   ]
  },
  {
   "cell_type": "code",
   "execution_count": 33,
   "id": "88687971",
   "metadata": {},
   "outputs": [
    {
     "data": {
      "text/plain": [
       "0.13"
      ]
     },
     "execution_count": 33,
     "metadata": {},
     "output_type": "execute_result"
    }
   ],
   "source": [
    "# compute the square root of the total error and divide that by the length of yHat (number of points), \n",
    "# which gives you the average RMSE.  \n",
    "rmseTrain = np.sqrt(totalError.sum()/len(yHat))\n",
    "round(rmseTrain,2)"
   ]
  },
  {
   "cell_type": "markdown",
   "id": "5c8172a4",
   "metadata": {},
   "source": [
    "# Why is my result different from? I expected to get a single value"
   ]
  },
  {
   "cell_type": "markdown",
   "id": "c25f2e3a",
   "metadata": {},
   "source": [
    "### plot the correlation between the predicted and actual values of the target attribute"
   ]
  },
  {
   "cell_type": "code",
   "execution_count": 34,
   "id": "123feb6e",
   "metadata": {},
   "outputs": [
    {
     "data": {
      "text/plain": [
       "(1595, 1)"
      ]
     },
     "execution_count": 34,
     "metadata": {},
     "output_type": "execute_result"
    }
   ],
   "source": [
    "yHat.shape"
   ]
  },
  {
   "cell_type": "code",
   "execution_count": 35,
   "id": "c3dee5e9",
   "metadata": {},
   "outputs": [
    {
     "data": {
      "text/plain": [
       "(1595,)"
      ]
     },
     "execution_count": 35,
     "metadata": {},
     "output_type": "execute_result"
    }
   ],
   "source": [
    "yMat.shape"
   ]
  },
  {
   "cell_type": "markdown",
   "id": "72981cff",
   "metadata": {},
   "source": [
    "#### we need to transpose yHat so that both of the vectors are showing as row vectors"
   ]
  },
  {
   "cell_type": "code",
   "execution_count": 36,
   "id": "1afea389",
   "metadata": {},
   "outputs": [
    {
     "data": {
      "text/plain": [
       "array([[1.  , 0.84],\n",
       "       [0.84, 1.  ]])"
      ]
     },
     "execution_count": 36,
     "metadata": {},
     "output_type": "execute_result"
    }
   ],
   "source": [
    "np.corrcoef(yHat.T, yMat)"
   ]
  },
  {
   "cell_type": "markdown",
   "id": "8cba57e3",
   "metadata": {},
   "source": [
    "<p>This gives us the correlation between all possible pairs.</p>\n",
    "<p>Since the correlation between yMat and yMat is perfect, the elements on the diagonal are showing up as 1.0.</p>\n",
    "<p>The correlation between the predicted values, yHat, and the actual values, yMat, is 0.84. </p>"
   ]
  },
  {
   "cell_type": "markdown",
   "id": "8b0fad85",
   "metadata": {},
   "source": [
    "### Display the obtained regression coefficients (weights) and plot them using matplotlib"
   ]
  },
  {
   "cell_type": "code",
   "execution_count": 37,
   "id": "d2a43f88",
   "metadata": {},
   "outputs": [],
   "source": [
    "# %matplotlib inline\n",
    "# # you give it a model, features, and the feature names\n",
    "# def plot_coefficients(model, n_features, feature_names):\n",
    "#     \"\"\"Diaplays the regression coefficients of the different features in our data set\"\"\"\n",
    "#     pl.barh(range(n_features), model[1:], align='center')# plot the barplot of the coeficients except 1 which is not meaningful to us.\n",
    "#     pl.yticks(np.arange(n_features), feature_names)\n",
    "#     pl.xlabel(\"Coefficient Value\")\n",
    "#     pl.ylabel(\"Feature\")\n",
    "#     pl.ylim(-1, n_features)\n",
    "\n",
    "# plot_coefficients(ws, len(feature_names), feature_names) # plots order the features\n",
    "# # the coefficients that we find might not be important because we didn't normalize the data, which we need to. "
   ]
  },
  {
   "cell_type": "code",
   "execution_count": 38,
   "id": "f0ed1a93",
   "metadata": {},
   "outputs": [
    {
     "data": {
      "text/plain": [
       "(1595, 99)"
      ]
     },
     "execution_count": 38,
     "metadata": {},
     "output_type": "execute_result"
    }
   ],
   "source": [
    "vs_train_communities_with_ones.shape"
   ]
  },
  {
   "cell_type": "code",
   "execution_count": 39,
   "id": "7c0de69c",
   "metadata": {},
   "outputs": [
    {
     "data": {
      "text/plain": [
       "array(['state', 'population', 'householdsize', 'racepctblack', 'racePctWhite', 'racePctAsian', 'racePctHisp',\n",
       "       'agePct12t21', 'agePct12t29', 'agePct16t24', 'agePct65up', 'numbUrban', 'pctUrban', 'medIncome', 'pctWWage',\n",
       "       'pctWFarmSelf', 'pctWInvInc', 'pctWSocSec', 'pctWPubAsst', 'pctWRetire', 'medFamInc', 'perCapInc',\n",
       "       'whitePerCap', 'blackPerCap', 'indianPerCap', 'AsianPerCap', 'OtherPerCap', 'HispPerCap', 'NumUnderPov',\n",
       "       'PctPopUnderPov', 'PctLess9thGrade', 'PctNotHSGrad', 'PctBSorMore', 'PctUnemployed', 'PctEmploy', 'PctEmplManu',\n",
       "       'PctEmplProfServ', 'MalePctDivorce', 'MalePctNevMarr', 'FemalePctDiv', 'TotalPctDiv', 'PersPerFam',\n",
       "       'PctFam2Par', 'PctKids2Par', 'PctYoungKids2Par', 'PctTeen2Par', 'PctWorkMomYoungKids', 'PctWorkMom', 'NumIlleg',\n",
       "       'PctIlleg', 'NumImmig', 'PctImmigRecent', 'PctImmigRec5', 'PctImmigRec8', 'PctImmigRec10', 'PctRecentImmig',\n",
       "       'PctRecImmig5', 'PctRecImmig8', 'PctRecImmig10', 'PctSpeakEnglOnly', 'PctNotSpeakEnglWell', 'PctLargHouseFam',\n",
       "       'PctLargHouseOccup', 'PersPerOccupHous', 'PersPerOwnOccHous', 'PersPerRentOccHous', 'PctPersOwnOccup',\n",
       "       'PctPersDenseHous', 'PctHousLess3BR', 'MedNumBR', 'HousVacant', 'PctHousOccup', 'PctHousOwnOcc',\n",
       "       'PctVacantBoarded', 'PctVacMore6Mos', 'MedYrHousBuilt', 'PctHousNoPhone', 'PctWOFullPlumb', 'OwnOccLowQuart',\n",
       "       'OwnOccMedVal', 'OwnOccHiQuart', 'RentLowQ', 'RentMedian', 'RentHighQ', 'MedRent', 'MedRentPctHousInc',\n",
       "       'MedOwnCostPctInc', 'MedOwnCostPctIncNoMtg', 'NumInShelters', 'NumStreet', 'PctForeignBorn', 'PctBornSameState',\n",
       "       'PctSameHouse85', 'PctSameCity85', 'PctSameState85', 'LandArea', 'PopDens', 'PctUsePubTrans'], dtype=object)"
      ]
     },
     "execution_count": 39,
     "metadata": {},
     "output_type": "execute_result"
    }
   ],
   "source": [
    "feature_names"
   ]
  },
  {
   "cell_type": "markdown",
   "id": "32567246",
   "metadata": {},
   "source": [
    "### Using scikit-learn"
   ]
  },
  {
   "cell_type": "code",
   "execution_count": 40,
   "id": "1668be57",
   "metadata": {},
   "outputs": [
    {
     "data": {
      "text/plain": [
       "LinearRegression()"
      ]
     },
     "execution_count": 40,
     "metadata": {},
     "output_type": "execute_result"
    }
   ],
   "source": [
    "# just call a linear regression object just like the classifier. \n",
    "linreg = LinearRegression() \n",
    "\n",
    " \n",
    "# Train the model using the training sets\n",
    "linreg.fit(vs_train_communities_with_ones, vs_target_train)"
   ]
  },
  {
   "cell_type": "code",
   "execution_count": 41,
   "id": "bd1bee35",
   "metadata": {},
   "outputs": [
    {
     "data": {
      "image/png": "[encoded data removed]",
      "text/plain": [
       "<Figure size 936x1800 with 1 Axes>"
      ]
     },
     "metadata": {
      "needs_background": "light"
     },
     "output_type": "display_data"
    }
   ],
   "source": [
    "%matplotlib inline\n",
    "# you give it a model, features, and the feature names\n",
    "def plot_coefficients(model, n_features, feature_names):\n",
    "    \"\"\"Diaplays the regression coefficients of the different features in our data set\"\"\"\n",
    "    plt.rcParams[\"figure.figsize\"] = (13,25)\n",
    "    pl.barh(range(n_features), model.coef_[:-1], align='center')# plot the barplot of the coeficients except 1 which is not meaningful to us.\n",
    "    pl.yticks(np.arange(n_features), feature_names)\n",
    "    pl.xlabel(\"Coefficient Value\")\n",
    "    pl.ylabel(\"Feature\")\n",
    "    pl.ylim(-1, n_features)\n",
    "\n",
    "plot_coefficients(linreg, len(feature_names), feature_names) # plots order the features\n",
    "# the coefficients that we find might not be important because we didn't normalize the data, which we need to. "
   ]
  },
  {
   "cell_type": "markdown",
   "id": "032f59aa",
   "metadata": {},
   "source": [
    "### Finally, perform 10-fold cross-validation on the training partition and compare the cross-validation RMSE to the training RMSE (for cross validation, you should use the KFold module from sklearn.model_selection). Note if you cannot get the book's version working, use scikit-learn Linear Regression instead for a 3pt deduction)."
   ]
  },
  {
   "cell_type": "code",
   "execution_count": 42,
   "id": "ede57d3f",
   "metadata": {},
   "outputs": [
    {
     "name": "stdout",
     "output_type": "stream",
     "text": [
      "Method: Simple Linear Regression\n",
      "RMSE on training: 0.1256\n",
      "RMSE on 10-fold CV: 0.1339\n"
     ]
    }
   ],
   "source": [
    "# Now let's compute RMSE using 10-fold x-validation\n",
    "n = 10\n",
    "\n",
    "\n",
    "kf = KFold(n_splits=n)\n",
    "kf.get_n_splits(vs_train_communities_with_ones)\n",
    "\n",
    "#print(kf)  \n",
    "#KFold(n_splits=n,random_state=None, shuffle=False)\n",
    " \n",
    "\n",
    "xval_err = 0\n",
    "\n",
    "# here are doing multiple train, test splits. \n",
    "for train, test in kf.split(vs_train_communities_with_ones):\n",
    "    \n",
    "    linreg.fit(vs_train_communities_with_ones[train],vs_target_train[train])    # build a linear regression model\n",
    "    \n",
    "    p = linreg.predict(vs_train_communities_with_ones[test])   # predict on the test set. \n",
    "    \n",
    "    e = p-vs_target_train[test]                                 # look at the test error\n",
    "    \n",
    "    xval_err += np.sqrt(np.dot(e,e)/len(vs_train_communities_with_ones[test]))   # look at the cross validation error for each of the folds\n",
    "       \n",
    "rmse_10cv = xval_err/n            # then you get the average RMSE cross validation score by diving by 10\n",
    "\n",
    "# we print the same way we did it earlier. \n",
    "method_name = 'Simple Linear Regression'\n",
    "print('Method: %s' %method_name)\n",
    "print('RMSE on training: %.4f' %rmseTrain)\n",
    "print('RMSE on 10-fold CV: %.4f' %rmse_10cv)"
   ]
  },
  {
   "cell_type": "markdown",
   "id": "6a15d981",
   "metadata": {},
   "source": [
    "##### There is a little bit of error in the RMSE on 10-fold Cross Validation which we expected and this implies that we have a better estimate of how well we are going to do because it does it several times."
   ]
  },
  {
   "cell_type": "code",
   "execution_count": null,
   "id": "1661c138",
   "metadata": {},
   "outputs": [],
   "source": []
  }
 ],
 "metadata": {
  "kernelspec": {
   "display_name": "cmdpy37",
   "language": "python",
   "name": "cmdpy37"
  },
  "language_info": {
   "codemirror_mode": {
    "name": "ipython",
    "version": 3
   },
   "file_extension": ".py",
   "mimetype": "text/x-python",
   "name": "python",
   "nbconvert_exporter": "python",
   "pygments_lexer": "ipython3",
   "version": "3.7.11"
  }
 },
 "nbformat": 4,
 "nbformat_minor": 5
}
