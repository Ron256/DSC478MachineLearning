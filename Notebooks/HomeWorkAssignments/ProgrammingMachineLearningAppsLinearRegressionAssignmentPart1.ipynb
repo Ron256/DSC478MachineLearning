{
 "cells": [
  {
   "cell_type": "markdown",
   "id": "bc6ba15f",
   "metadata": {},
   "source": [
    "# Linear regression:\n",
    "\n",
    "#### Author: Ronaldlee Ejalu\n",
    "#### DSC 478 Programming Machine Learning Applications\n",
    "#### Homework Assignment Part1"
   ]
  },
  {
   "cell_type": "markdown",
   "id": "20261086",
   "metadata": {},
   "source": [
    "## In this notebook, we will experiment with various regression approaches."
   ]
  },
  {
   "cell_type": "markdown",
   "id": "82e8b8c5",
   "metadata": {},
   "source": [
    "##### [5 pts] Load and preprocess the data using Pandas or Numpy and, if necessary, preprocessing functions from scikit-learn. For this problem you do not need to normalize or standardize the data. However, you may need to handle missing values by imputing those values based on variable means. Compute and display basic statistics (mean, standard deviation, min, max, etc.) for the variables in the data set. Separate the target attribute for regression. Use scikit-learn to create a 20%-80% randomized split of the data. Set aside the 20% test portion; the 80% training data partition will be used for cross-validation on various tasks specified below."
   ]
  },
  {
   "cell_type": "code",
   "execution_count": 1,
   "id": "fde348b0",
   "metadata": {},
   "outputs": [],
   "source": [
    "# load the necessary packages\n",
    "import numpy as np\n",
    "import pandas as pd\n",
    "import operator\n",
    "import matplotlib.pyplot as plt\n",
    "from sklearn import preprocessing\n",
    "from sklearn.model_selection import KFold\n",
    "from sklearn.linear_model import LinearRegression, Lasso, Ridge, ElasticNet, SGDRegressor\n",
    "from sklearn.model_selection import train_test_split \n",
    "import pylab as pl\n",
    "from sklearn import feature_selection\n",
    "from sklearn import model_selection\n",
    "plt.style.use('ggplot')\n",
    "pd.set_option(\"display.precision\", 4)\n",
    "np.set_printoptions(precision=4)"
   ]
  },
  {
   "cell_type": "code",
   "execution_count": 2,
   "id": "68a72de3",
   "metadata": {},
   "outputs": [
    {
     "data": {
      "text/html": [
       "<div>\n",
       "<style scoped>\n",
       "    .dataframe tbody tr th:only-of-type {\n",
       "        vertical-align: middle;\n",
       "    }\n",
       "\n",
       "    .dataframe tbody tr th {\n",
       "        vertical-align: top;\n",
       "    }\n",
       "\n",
       "    .dataframe thead th {\n",
       "        text-align: right;\n",
       "    }\n",
       "</style>\n",
       "<table border=\"1\" class=\"dataframe\">\n",
       "  <thead>\n",
       "    <tr style=\"text-align: right;\">\n",
       "      <th></th>\n",
       "      <th>state</th>\n",
       "      <th>communityname</th>\n",
       "      <th>population</th>\n",
       "      <th>householdsize</th>\n",
       "      <th>racepctblack</th>\n",
       "      <th>racePctWhite</th>\n",
       "      <th>racePctAsian</th>\n",
       "      <th>racePctHisp</th>\n",
       "      <th>agePct12t21</th>\n",
       "      <th>agePct12t29</th>\n",
       "      <th>...</th>\n",
       "      <th>NumStreet</th>\n",
       "      <th>PctForeignBorn</th>\n",
       "      <th>PctBornSameState</th>\n",
       "      <th>PctSameHouse85</th>\n",
       "      <th>PctSameCity85</th>\n",
       "      <th>PctSameState85</th>\n",
       "      <th>LandArea</th>\n",
       "      <th>PopDens</th>\n",
       "      <th>PctUsePubTrans</th>\n",
       "      <th>ViolentCrimesPerPop</th>\n",
       "    </tr>\n",
       "  </thead>\n",
       "  <tbody>\n",
       "    <tr>\n",
       "      <th>0</th>\n",
       "      <td>8</td>\n",
       "      <td>Lakewoodcity</td>\n",
       "      <td>0.19</td>\n",
       "      <td>0.33</td>\n",
       "      <td>0.02</td>\n",
       "      <td>0.90</td>\n",
       "      <td>0.12</td>\n",
       "      <td>0.17</td>\n",
       "      <td>0.34</td>\n",
       "      <td>0.47</td>\n",
       "      <td>...</td>\n",
       "      <td>0.0</td>\n",
       "      <td>0.12</td>\n",
       "      <td>0.42</td>\n",
       "      <td>0.50</td>\n",
       "      <td>0.51</td>\n",
       "      <td>0.64</td>\n",
       "      <td>0.12</td>\n",
       "      <td>0.26</td>\n",
       "      <td>0.20</td>\n",
       "      <td>0.20</td>\n",
       "    </tr>\n",
       "    <tr>\n",
       "      <th>1</th>\n",
       "      <td>53</td>\n",
       "      <td>Tukwilacity</td>\n",
       "      <td>0.00</td>\n",
       "      <td>0.16</td>\n",
       "      <td>0.12</td>\n",
       "      <td>0.74</td>\n",
       "      <td>0.45</td>\n",
       "      <td>0.07</td>\n",
       "      <td>0.26</td>\n",
       "      <td>0.59</td>\n",
       "      <td>...</td>\n",
       "      <td>0.0</td>\n",
       "      <td>0.21</td>\n",
       "      <td>0.50</td>\n",
       "      <td>0.34</td>\n",
       "      <td>0.60</td>\n",
       "      <td>0.52</td>\n",
       "      <td>0.02</td>\n",
       "      <td>0.12</td>\n",
       "      <td>0.45</td>\n",
       "      <td>0.67</td>\n",
       "    </tr>\n",
       "    <tr>\n",
       "      <th>2</th>\n",
       "      <td>24</td>\n",
       "      <td>Aberdeentown</td>\n",
       "      <td>0.00</td>\n",
       "      <td>0.42</td>\n",
       "      <td>0.49</td>\n",
       "      <td>0.56</td>\n",
       "      <td>0.17</td>\n",
       "      <td>0.04</td>\n",
       "      <td>0.39</td>\n",
       "      <td>0.47</td>\n",
       "      <td>...</td>\n",
       "      <td>0.0</td>\n",
       "      <td>0.14</td>\n",
       "      <td>0.49</td>\n",
       "      <td>0.54</td>\n",
       "      <td>0.67</td>\n",
       "      <td>0.56</td>\n",
       "      <td>0.01</td>\n",
       "      <td>0.21</td>\n",
       "      <td>0.02</td>\n",
       "      <td>0.43</td>\n",
       "    </tr>\n",
       "    <tr>\n",
       "      <th>3</th>\n",
       "      <td>34</td>\n",
       "      <td>Willingborotownship</td>\n",
       "      <td>0.04</td>\n",
       "      <td>0.77</td>\n",
       "      <td>1.00</td>\n",
       "      <td>0.08</td>\n",
       "      <td>0.12</td>\n",
       "      <td>0.10</td>\n",
       "      <td>0.51</td>\n",
       "      <td>0.50</td>\n",
       "      <td>...</td>\n",
       "      <td>0.0</td>\n",
       "      <td>0.19</td>\n",
       "      <td>0.30</td>\n",
       "      <td>0.73</td>\n",
       "      <td>0.64</td>\n",
       "      <td>0.65</td>\n",
       "      <td>0.02</td>\n",
       "      <td>0.39</td>\n",
       "      <td>0.28</td>\n",
       "      <td>0.12</td>\n",
       "    </tr>\n",
       "    <tr>\n",
       "      <th>4</th>\n",
       "      <td>42</td>\n",
       "      <td>Bethlehemtownship</td>\n",
       "      <td>0.01</td>\n",
       "      <td>0.55</td>\n",
       "      <td>0.02</td>\n",
       "      <td>0.95</td>\n",
       "      <td>0.09</td>\n",
       "      <td>0.05</td>\n",
       "      <td>0.38</td>\n",
       "      <td>0.38</td>\n",
       "      <td>...</td>\n",
       "      <td>0.0</td>\n",
       "      <td>0.11</td>\n",
       "      <td>0.72</td>\n",
       "      <td>0.64</td>\n",
       "      <td>0.61</td>\n",
       "      <td>0.53</td>\n",
       "      <td>0.04</td>\n",
       "      <td>0.09</td>\n",
       "      <td>0.02</td>\n",
       "      <td>0.03</td>\n",
       "    </tr>\n",
       "  </tbody>\n",
       "</table>\n",
       "<p>5 rows × 100 columns</p>\n",
       "</div>"
      ],
      "text/plain": [
       "   state        communityname  population  householdsize  racepctblack  \\\n",
       "0      8         Lakewoodcity        0.19           0.33          0.02   \n",
       "1     53          Tukwilacity        0.00           0.16          0.12   \n",
       "2     24         Aberdeentown        0.00           0.42          0.49   \n",
       "3     34  Willingborotownship        0.04           0.77          1.00   \n",
       "4     42    Bethlehemtownship        0.01           0.55          0.02   \n",
       "\n",
       "   racePctWhite  racePctAsian  racePctHisp  agePct12t21  agePct12t29  ...  \\\n",
       "0          0.90          0.12         0.17         0.34         0.47  ...   \n",
       "1          0.74          0.45         0.07         0.26         0.59  ...   \n",
       "2          0.56          0.17         0.04         0.39         0.47  ...   \n",
       "3          0.08          0.12         0.10         0.51         0.50  ...   \n",
       "4          0.95          0.09         0.05         0.38         0.38  ...   \n",
       "\n",
       "   NumStreet  PctForeignBorn  PctBornSameState  PctSameHouse85  PctSameCity85  \\\n",
       "0        0.0            0.12              0.42            0.50           0.51   \n",
       "1        0.0            0.21              0.50            0.34           0.60   \n",
       "2        0.0            0.14              0.49            0.54           0.67   \n",
       "3        0.0            0.19              0.30            0.73           0.64   \n",
       "4        0.0            0.11              0.72            0.64           0.61   \n",
       "\n",
       "   PctSameState85  LandArea  PopDens  PctUsePubTrans  ViolentCrimesPerPop  \n",
       "0            0.64      0.12     0.26            0.20                 0.20  \n",
       "1            0.52      0.02     0.12            0.45                 0.67  \n",
       "2            0.56      0.01     0.21            0.02                 0.43  \n",
       "3            0.65      0.02     0.39            0.28                 0.12  \n",
       "4            0.53      0.04     0.09            0.02                 0.03  \n",
       "\n",
       "[5 rows x 100 columns]"
      ]
     },
     "execution_count": 2,
     "metadata": {},
     "output_type": "execute_result"
    }
   ],
   "source": [
    "df_communities = pd.read_csv('../../data/communities/communities.csv', sep = ',', na_values = ['?'])\n",
    "df_communities.head()"
   ]
  },
  {
   "cell_type": "code",
   "execution_count": 3,
   "id": "5cb6cf9c",
   "metadata": {},
   "outputs": [
    {
     "name": "stdout",
     "output_type": "stream",
     "text": [
      "<class 'pandas.core.frame.DataFrame'>\n",
      "RangeIndex: 1994 entries, 0 to 1993\n",
      "Data columns (total 100 columns):\n",
      " #   Column                 Non-Null Count  Dtype  \n",
      "---  ------                 --------------  -----  \n",
      " 0   state                  1994 non-null   int64  \n",
      " 1   communityname          1994 non-null   object \n",
      " 2   population             1994 non-null   float64\n",
      " 3   householdsize          1994 non-null   float64\n",
      " 4   racepctblack           1994 non-null   float64\n",
      " 5   racePctWhite           1994 non-null   float64\n",
      " 6   racePctAsian           1994 non-null   float64\n",
      " 7   racePctHisp            1994 non-null   float64\n",
      " 8   agePct12t21            1994 non-null   float64\n",
      " 9   agePct12t29            1994 non-null   float64\n",
      " 10  agePct16t24            1994 non-null   float64\n",
      " 11  agePct65up             1994 non-null   float64\n",
      " 12  numbUrban              1994 non-null   float64\n",
      " 13  pctUrban               1994 non-null   float64\n",
      " 14  medIncome              1994 non-null   float64\n",
      " 15  pctWWage               1994 non-null   float64\n",
      " 16  pctWFarmSelf           1994 non-null   float64\n",
      " 17  pctWInvInc             1994 non-null   float64\n",
      " 18  pctWSocSec             1994 non-null   float64\n",
      " 19  pctWPubAsst            1994 non-null   float64\n",
      " 20  pctWRetire             1994 non-null   float64\n",
      " 21  medFamInc              1994 non-null   float64\n",
      " 22  perCapInc              1994 non-null   float64\n",
      " 23  whitePerCap            1994 non-null   float64\n",
      " 24  blackPerCap            1994 non-null   float64\n",
      " 25  indianPerCap           1994 non-null   float64\n",
      " 26  AsianPerCap            1994 non-null   float64\n",
      " 27  OtherPerCap            1993 non-null   float64\n",
      " 28  HispPerCap             1994 non-null   float64\n",
      " 29  NumUnderPov            1994 non-null   float64\n",
      " 30  PctPopUnderPov         1994 non-null   float64\n",
      " 31  PctLess9thGrade        1994 non-null   float64\n",
      " 32  PctNotHSGrad           1994 non-null   float64\n",
      " 33  PctBSorMore            1994 non-null   float64\n",
      " 34  PctUnemployed          1994 non-null   float64\n",
      " 35  PctEmploy              1994 non-null   float64\n",
      " 36  PctEmplManu            1994 non-null   float64\n",
      " 37  PctEmplProfServ        1994 non-null   float64\n",
      " 38  MalePctDivorce         1994 non-null   float64\n",
      " 39  MalePctNevMarr         1994 non-null   float64\n",
      " 40  FemalePctDiv           1994 non-null   float64\n",
      " 41  TotalPctDiv            1994 non-null   float64\n",
      " 42  PersPerFam             1994 non-null   float64\n",
      " 43  PctFam2Par             1994 non-null   float64\n",
      " 44  PctKids2Par            1994 non-null   float64\n",
      " 45  PctYoungKids2Par       1994 non-null   float64\n",
      " 46  PctTeen2Par            1994 non-null   float64\n",
      " 47  PctWorkMomYoungKids    1994 non-null   float64\n",
      " 48  PctWorkMom             1994 non-null   float64\n",
      " 49  NumIlleg               1994 non-null   float64\n",
      " 50  PctIlleg               1994 non-null   float64\n",
      " 51  NumImmig               1994 non-null   float64\n",
      " 52  PctImmigRecent         1994 non-null   float64\n",
      " 53  PctImmigRec5           1994 non-null   float64\n",
      " 54  PctImmigRec8           1994 non-null   float64\n",
      " 55  PctImmigRec10          1994 non-null   float64\n",
      " 56  PctRecentImmig         1994 non-null   float64\n",
      " 57  PctRecImmig5           1994 non-null   float64\n",
      " 58  PctRecImmig8           1994 non-null   float64\n",
      " 59  PctRecImmig10          1994 non-null   float64\n",
      " 60  PctSpeakEnglOnly       1994 non-null   float64\n",
      " 61  PctNotSpeakEnglWell    1994 non-null   float64\n",
      " 62  PctLargHouseFam        1994 non-null   float64\n",
      " 63  PctLargHouseOccup      1994 non-null   float64\n",
      " 64  PersPerOccupHous       1994 non-null   float64\n",
      " 65  PersPerOwnOccHous      1994 non-null   float64\n",
      " 66  PersPerRentOccHous     1994 non-null   float64\n",
      " 67  PctPersOwnOccup        1994 non-null   float64\n",
      " 68  PctPersDenseHous       1994 non-null   float64\n",
      " 69  PctHousLess3BR         1994 non-null   float64\n",
      " 70  MedNumBR               1994 non-null   float64\n",
      " 71  HousVacant             1994 non-null   float64\n",
      " 72  PctHousOccup           1994 non-null   float64\n",
      " 73  PctHousOwnOcc          1994 non-null   float64\n",
      " 74  PctVacantBoarded       1994 non-null   float64\n",
      " 75  PctVacMore6Mos         1994 non-null   float64\n",
      " 76  MedYrHousBuilt         1994 non-null   float64\n",
      " 77  PctHousNoPhone         1994 non-null   float64\n",
      " 78  PctWOFullPlumb         1994 non-null   float64\n",
      " 79  OwnOccLowQuart         1994 non-null   float64\n",
      " 80  OwnOccMedVal           1994 non-null   float64\n",
      " 81  OwnOccHiQuart          1994 non-null   float64\n",
      " 82  RentLowQ               1994 non-null   float64\n",
      " 83  RentMedian             1994 non-null   float64\n",
      " 84  RentHighQ              1994 non-null   float64\n",
      " 85  MedRent                1994 non-null   float64\n",
      " 86  MedRentPctHousInc      1994 non-null   float64\n",
      " 87  MedOwnCostPctInc       1994 non-null   float64\n",
      " 88  MedOwnCostPctIncNoMtg  1994 non-null   float64\n",
      " 89  NumInShelters          1994 non-null   float64\n",
      " 90  NumStreet              1994 non-null   float64\n",
      " 91  PctForeignBorn         1994 non-null   float64\n",
      " 92  PctBornSameState       1994 non-null   float64\n",
      " 93  PctSameHouse85         1994 non-null   float64\n",
      " 94  PctSameCity85          1994 non-null   float64\n",
      " 95  PctSameState85         1994 non-null   float64\n",
      " 96  LandArea               1994 non-null   float64\n",
      " 97  PopDens                1994 non-null   float64\n",
      " 98  PctUsePubTrans         1994 non-null   float64\n",
      " 99  ViolentCrimesPerPop    1994 non-null   float64\n",
      "dtypes: float64(98), int64(1), object(1)\n",
      "memory usage: 1.5+ MB\n"
     ]
    }
   ],
   "source": [
    "df_communities.info()"
   ]
  },
  {
   "cell_type": "markdown",
   "id": "1f1e1eb1",
   "metadata": {},
   "source": [
    "<p>The data set has a total of 100 columns of which 1 is categorical and the rest are numerical attributes. </p>"
   ]
  },
  {
   "cell_type": "code",
   "execution_count": 4,
   "id": "fd17750a",
   "metadata": {},
   "outputs": [
    {
     "data": {
      "text/plain": [
       "(1994, 100)"
      ]
     },
     "execution_count": 4,
     "metadata": {},
     "output_type": "execute_result"
    }
   ],
   "source": [
    "df_communities.shape"
   ]
  },
  {
   "cell_type": "markdown",
   "id": "06c908af",
   "metadata": {},
   "source": [
    "<p>So, we have 1994 data points with 100 columns.</p>"
   ]
  },
  {
   "cell_type": "markdown",
   "id": "d064a659",
   "metadata": {},
   "source": [
    "#### let's find out if the data set has any missing values by determining the number of missing values in each column"
   ]
  },
  {
   "cell_type": "code",
   "execution_count": 5,
   "id": "988b2ef9",
   "metadata": {},
   "outputs": [
    {
     "name": "stdout",
     "output_type": "stream",
     "text": [
      "OtherPerCap    0.0005\n",
      "dtype: float64\n"
     ]
    }
   ],
   "source": [
    "df_na_sum = df_communities.isna().sum()\n",
    "\n",
    "# let's do a subselection an donly extract out where the values are greater than 0\n",
    "print(df_na_sum[df_na_sum > 0]/len(df_communities))"
   ]
  },
  {
   "cell_type": "markdown",
   "id": "af9d04a0",
   "metadata": {},
   "source": [
    "<p>There is one attribute, OtherPerCap, with 0.05% missing values.</p>"
   ]
  },
  {
   "cell_type": "markdown",
   "id": "98acee17",
   "metadata": {},
   "source": [
    "### Handling missing values by imputing those values based on the variable means."
   ]
  },
  {
   "cell_type": "code",
   "execution_count": 6,
   "id": "fef3f8d6",
   "metadata": {},
   "outputs": [
    {
     "data": {
      "text/html": [
       "<div>\n",
       "<style scoped>\n",
       "    .dataframe tbody tr th:only-of-type {\n",
       "        vertical-align: middle;\n",
       "    }\n",
       "\n",
       "    .dataframe tbody tr th {\n",
       "        vertical-align: top;\n",
       "    }\n",
       "\n",
       "    .dataframe thead th {\n",
       "        text-align: right;\n",
       "    }\n",
       "</style>\n",
       "<table border=\"1\" class=\"dataframe\">\n",
       "  <thead>\n",
       "    <tr style=\"text-align: right;\">\n",
       "      <th></th>\n",
       "      <th>state</th>\n",
       "      <th>communityname</th>\n",
       "      <th>population</th>\n",
       "      <th>householdsize</th>\n",
       "      <th>racepctblack</th>\n",
       "      <th>racePctWhite</th>\n",
       "      <th>racePctAsian</th>\n",
       "      <th>racePctHisp</th>\n",
       "      <th>agePct12t21</th>\n",
       "      <th>agePct12t29</th>\n",
       "      <th>...</th>\n",
       "      <th>NumStreet</th>\n",
       "      <th>PctForeignBorn</th>\n",
       "      <th>PctBornSameState</th>\n",
       "      <th>PctSameHouse85</th>\n",
       "      <th>PctSameCity85</th>\n",
       "      <th>PctSameState85</th>\n",
       "      <th>LandArea</th>\n",
       "      <th>PopDens</th>\n",
       "      <th>PctUsePubTrans</th>\n",
       "      <th>ViolentCrimesPerPop</th>\n",
       "    </tr>\n",
       "  </thead>\n",
       "  <tbody>\n",
       "    <tr>\n",
       "      <th>0</th>\n",
       "      <td>8</td>\n",
       "      <td>Lakewoodcity</td>\n",
       "      <td>0.19</td>\n",
       "      <td>0.33</td>\n",
       "      <td>0.02</td>\n",
       "      <td>0.90</td>\n",
       "      <td>0.12</td>\n",
       "      <td>0.17</td>\n",
       "      <td>0.34</td>\n",
       "      <td>0.47</td>\n",
       "      <td>...</td>\n",
       "      <td>0.0</td>\n",
       "      <td>0.12</td>\n",
       "      <td>0.42</td>\n",
       "      <td>0.50</td>\n",
       "      <td>0.51</td>\n",
       "      <td>0.64</td>\n",
       "      <td>0.12</td>\n",
       "      <td>0.26</td>\n",
       "      <td>0.20</td>\n",
       "      <td>0.20</td>\n",
       "    </tr>\n",
       "    <tr>\n",
       "      <th>1</th>\n",
       "      <td>53</td>\n",
       "      <td>Tukwilacity</td>\n",
       "      <td>0.00</td>\n",
       "      <td>0.16</td>\n",
       "      <td>0.12</td>\n",
       "      <td>0.74</td>\n",
       "      <td>0.45</td>\n",
       "      <td>0.07</td>\n",
       "      <td>0.26</td>\n",
       "      <td>0.59</td>\n",
       "      <td>...</td>\n",
       "      <td>0.0</td>\n",
       "      <td>0.21</td>\n",
       "      <td>0.50</td>\n",
       "      <td>0.34</td>\n",
       "      <td>0.60</td>\n",
       "      <td>0.52</td>\n",
       "      <td>0.02</td>\n",
       "      <td>0.12</td>\n",
       "      <td>0.45</td>\n",
       "      <td>0.67</td>\n",
       "    </tr>\n",
       "    <tr>\n",
       "      <th>2</th>\n",
       "      <td>24</td>\n",
       "      <td>Aberdeentown</td>\n",
       "      <td>0.00</td>\n",
       "      <td>0.42</td>\n",
       "      <td>0.49</td>\n",
       "      <td>0.56</td>\n",
       "      <td>0.17</td>\n",
       "      <td>0.04</td>\n",
       "      <td>0.39</td>\n",
       "      <td>0.47</td>\n",
       "      <td>...</td>\n",
       "      <td>0.0</td>\n",
       "      <td>0.14</td>\n",
       "      <td>0.49</td>\n",
       "      <td>0.54</td>\n",
       "      <td>0.67</td>\n",
       "      <td>0.56</td>\n",
       "      <td>0.01</td>\n",
       "      <td>0.21</td>\n",
       "      <td>0.02</td>\n",
       "      <td>0.43</td>\n",
       "    </tr>\n",
       "    <tr>\n",
       "      <th>3</th>\n",
       "      <td>34</td>\n",
       "      <td>Willingborotownship</td>\n",
       "      <td>0.04</td>\n",
       "      <td>0.77</td>\n",
       "      <td>1.00</td>\n",
       "      <td>0.08</td>\n",
       "      <td>0.12</td>\n",
       "      <td>0.10</td>\n",
       "      <td>0.51</td>\n",
       "      <td>0.50</td>\n",
       "      <td>...</td>\n",
       "      <td>0.0</td>\n",
       "      <td>0.19</td>\n",
       "      <td>0.30</td>\n",
       "      <td>0.73</td>\n",
       "      <td>0.64</td>\n",
       "      <td>0.65</td>\n",
       "      <td>0.02</td>\n",
       "      <td>0.39</td>\n",
       "      <td>0.28</td>\n",
       "      <td>0.12</td>\n",
       "    </tr>\n",
       "    <tr>\n",
       "      <th>4</th>\n",
       "      <td>42</td>\n",
       "      <td>Bethlehemtownship</td>\n",
       "      <td>0.01</td>\n",
       "      <td>0.55</td>\n",
       "      <td>0.02</td>\n",
       "      <td>0.95</td>\n",
       "      <td>0.09</td>\n",
       "      <td>0.05</td>\n",
       "      <td>0.38</td>\n",
       "      <td>0.38</td>\n",
       "      <td>...</td>\n",
       "      <td>0.0</td>\n",
       "      <td>0.11</td>\n",
       "      <td>0.72</td>\n",
       "      <td>0.64</td>\n",
       "      <td>0.61</td>\n",
       "      <td>0.53</td>\n",
       "      <td>0.04</td>\n",
       "      <td>0.09</td>\n",
       "      <td>0.02</td>\n",
       "      <td>0.03</td>\n",
       "    </tr>\n",
       "  </tbody>\n",
       "</table>\n",
       "<p>5 rows × 100 columns</p>\n",
       "</div>"
      ],
      "text/plain": [
       "   state        communityname  population  householdsize  racepctblack  \\\n",
       "0      8         Lakewoodcity        0.19           0.33          0.02   \n",
       "1     53          Tukwilacity        0.00           0.16          0.12   \n",
       "2     24         Aberdeentown        0.00           0.42          0.49   \n",
       "3     34  Willingborotownship        0.04           0.77          1.00   \n",
       "4     42    Bethlehemtownship        0.01           0.55          0.02   \n",
       "\n",
       "   racePctWhite  racePctAsian  racePctHisp  agePct12t21  agePct12t29  ...  \\\n",
       "0          0.90          0.12         0.17         0.34         0.47  ...   \n",
       "1          0.74          0.45         0.07         0.26         0.59  ...   \n",
       "2          0.56          0.17         0.04         0.39         0.47  ...   \n",
       "3          0.08          0.12         0.10         0.51         0.50  ...   \n",
       "4          0.95          0.09         0.05         0.38         0.38  ...   \n",
       "\n",
       "   NumStreet  PctForeignBorn  PctBornSameState  PctSameHouse85  PctSameCity85  \\\n",
       "0        0.0            0.12              0.42            0.50           0.51   \n",
       "1        0.0            0.21              0.50            0.34           0.60   \n",
       "2        0.0            0.14              0.49            0.54           0.67   \n",
       "3        0.0            0.19              0.30            0.73           0.64   \n",
       "4        0.0            0.11              0.72            0.64           0.61   \n",
       "\n",
       "   PctSameState85  LandArea  PopDens  PctUsePubTrans  ViolentCrimesPerPop  \n",
       "0            0.64      0.12     0.26            0.20                 0.20  \n",
       "1            0.52      0.02     0.12            0.45                 0.67  \n",
       "2            0.56      0.01     0.21            0.02                 0.43  \n",
       "3            0.65      0.02     0.39            0.28                 0.12  \n",
       "4            0.53      0.04     0.09            0.02                 0.03  \n",
       "\n",
       "[5 rows x 100 columns]"
      ]
     },
     "execution_count": 6,
     "metadata": {},
     "output_type": "execute_result"
    }
   ],
   "source": [
    "# Calculate the OtherPerCap mean and use it to fill in the missing values.\n",
    "otherPerCap_mean = df_communities['OtherPerCap'].mean()\n",
    "df_communities['OtherPerCap'].fillna(otherPerCap_mean, axis = 0, inplace = True)\n",
    "df_communities.head()"
   ]
  },
  {
   "cell_type": "code",
   "execution_count": 7,
   "id": "c58512df",
   "metadata": {},
   "outputs": [
    {
     "name": "stdout",
     "output_type": "stream",
     "text": [
      "Series([], dtype: float64)\n"
     ]
    }
   ],
   "source": [
    "### Validate if the missing values within the OtherPerCap attributes have been replaced by the mean of the variable.\n",
    "df_na_sum = df_communities.isna().sum()\n",
    "print(df_na_sum[df_na_sum > 0]/len(df_communities))"
   ]
  },
  {
   "cell_type": "markdown",
   "id": "12363efb",
   "metadata": {},
   "source": [
    "<p>We learn that they are no any missing values.</p>"
   ]
  },
  {
   "cell_type": "markdown",
   "id": "3820b114",
   "metadata": {},
   "source": [
    "### Compute and display basic statistics for the variables in the data set."
   ]
  },
  {
   "cell_type": "code",
   "execution_count": 8,
   "id": "f672bc77",
   "metadata": {},
   "outputs": [
    {
     "data": {
      "text/html": [
       "<div>\n",
       "<style scoped>\n",
       "    .dataframe tbody tr th:only-of-type {\n",
       "        vertical-align: middle;\n",
       "    }\n",
       "\n",
       "    .dataframe tbody tr th {\n",
       "        vertical-align: top;\n",
       "    }\n",
       "\n",
       "    .dataframe thead th {\n",
       "        text-align: right;\n",
       "    }\n",
       "</style>\n",
       "<table border=\"1\" class=\"dataframe\">\n",
       "  <thead>\n",
       "    <tr style=\"text-align: right;\">\n",
       "      <th></th>\n",
       "      <th>count</th>\n",
       "      <th>mean</th>\n",
       "      <th>std</th>\n",
       "      <th>min</th>\n",
       "      <th>25%</th>\n",
       "      <th>50%</th>\n",
       "      <th>75%</th>\n",
       "      <th>max</th>\n",
       "    </tr>\n",
       "  </thead>\n",
       "  <tbody>\n",
       "    <tr>\n",
       "      <th>state</th>\n",
       "      <td>1994.0</td>\n",
       "      <td>28.6836</td>\n",
       "      <td>16.3976</td>\n",
       "      <td>1.0</td>\n",
       "      <td>12.00</td>\n",
       "      <td>34.00</td>\n",
       "      <td>42.00</td>\n",
       "      <td>56.0</td>\n",
       "    </tr>\n",
       "    <tr>\n",
       "      <th>population</th>\n",
       "      <td>1994.0</td>\n",
       "      <td>0.0576</td>\n",
       "      <td>0.1269</td>\n",
       "      <td>0.0</td>\n",
       "      <td>0.01</td>\n",
       "      <td>0.02</td>\n",
       "      <td>0.05</td>\n",
       "      <td>1.0</td>\n",
       "    </tr>\n",
       "    <tr>\n",
       "      <th>householdsize</th>\n",
       "      <td>1994.0</td>\n",
       "      <td>0.4634</td>\n",
       "      <td>0.1637</td>\n",
       "      <td>0.0</td>\n",
       "      <td>0.35</td>\n",
       "      <td>0.44</td>\n",
       "      <td>0.54</td>\n",
       "      <td>1.0</td>\n",
       "    </tr>\n",
       "    <tr>\n",
       "      <th>racepctblack</th>\n",
       "      <td>1994.0</td>\n",
       "      <td>0.1796</td>\n",
       "      <td>0.2534</td>\n",
       "      <td>0.0</td>\n",
       "      <td>0.02</td>\n",
       "      <td>0.06</td>\n",
       "      <td>0.23</td>\n",
       "      <td>1.0</td>\n",
       "    </tr>\n",
       "    <tr>\n",
       "      <th>racePctWhite</th>\n",
       "      <td>1994.0</td>\n",
       "      <td>0.7537</td>\n",
       "      <td>0.2440</td>\n",
       "      <td>0.0</td>\n",
       "      <td>0.63</td>\n",
       "      <td>0.85</td>\n",
       "      <td>0.94</td>\n",
       "      <td>1.0</td>\n",
       "    </tr>\n",
       "    <tr>\n",
       "      <th>...</th>\n",
       "      <td>...</td>\n",
       "      <td>...</td>\n",
       "      <td>...</td>\n",
       "      <td>...</td>\n",
       "      <td>...</td>\n",
       "      <td>...</td>\n",
       "      <td>...</td>\n",
       "      <td>...</td>\n",
       "    </tr>\n",
       "    <tr>\n",
       "      <th>PctSameState85</th>\n",
       "      <td>1994.0</td>\n",
       "      <td>0.6515</td>\n",
       "      <td>0.1982</td>\n",
       "      <td>0.0</td>\n",
       "      <td>0.56</td>\n",
       "      <td>0.70</td>\n",
       "      <td>0.79</td>\n",
       "      <td>1.0</td>\n",
       "    </tr>\n",
       "    <tr>\n",
       "      <th>LandArea</th>\n",
       "      <td>1994.0</td>\n",
       "      <td>0.0652</td>\n",
       "      <td>0.1095</td>\n",
       "      <td>0.0</td>\n",
       "      <td>0.02</td>\n",
       "      <td>0.04</td>\n",
       "      <td>0.07</td>\n",
       "      <td>1.0</td>\n",
       "    </tr>\n",
       "    <tr>\n",
       "      <th>PopDens</th>\n",
       "      <td>1994.0</td>\n",
       "      <td>0.2329</td>\n",
       "      <td>0.2031</td>\n",
       "      <td>0.0</td>\n",
       "      <td>0.10</td>\n",
       "      <td>0.17</td>\n",
       "      <td>0.28</td>\n",
       "      <td>1.0</td>\n",
       "    </tr>\n",
       "    <tr>\n",
       "      <th>PctUsePubTrans</th>\n",
       "      <td>1994.0</td>\n",
       "      <td>0.1617</td>\n",
       "      <td>0.2291</td>\n",
       "      <td>0.0</td>\n",
       "      <td>0.02</td>\n",
       "      <td>0.07</td>\n",
       "      <td>0.19</td>\n",
       "      <td>1.0</td>\n",
       "    </tr>\n",
       "    <tr>\n",
       "      <th>ViolentCrimesPerPop</th>\n",
       "      <td>1994.0</td>\n",
       "      <td>0.2380</td>\n",
       "      <td>0.2330</td>\n",
       "      <td>0.0</td>\n",
       "      <td>0.07</td>\n",
       "      <td>0.15</td>\n",
       "      <td>0.33</td>\n",
       "      <td>1.0</td>\n",
       "    </tr>\n",
       "  </tbody>\n",
       "</table>\n",
       "<p>99 rows × 8 columns</p>\n",
       "</div>"
      ],
      "text/plain": [
       "                      count     mean      std  min    25%    50%    75%   max\n",
       "state                1994.0  28.6836  16.3976  1.0  12.00  34.00  42.00  56.0\n",
       "population           1994.0   0.0576   0.1269  0.0   0.01   0.02   0.05   1.0\n",
       "householdsize        1994.0   0.4634   0.1637  0.0   0.35   0.44   0.54   1.0\n",
       "racepctblack         1994.0   0.1796   0.2534  0.0   0.02   0.06   0.23   1.0\n",
       "racePctWhite         1994.0   0.7537   0.2440  0.0   0.63   0.85   0.94   1.0\n",
       "...                     ...      ...      ...  ...    ...    ...    ...   ...\n",
       "PctSameState85       1994.0   0.6515   0.1982  0.0   0.56   0.70   0.79   1.0\n",
       "LandArea             1994.0   0.0652   0.1095  0.0   0.02   0.04   0.07   1.0\n",
       "PopDens              1994.0   0.2329   0.2031  0.0   0.10   0.17   0.28   1.0\n",
       "PctUsePubTrans       1994.0   0.1617   0.2291  0.0   0.02   0.07   0.19   1.0\n",
       "ViolentCrimesPerPop  1994.0   0.2380   0.2330  0.0   0.07   0.15   0.33   1.0\n",
       "\n",
       "[99 rows x 8 columns]"
      ]
     },
     "execution_count": 8,
     "metadata": {},
     "output_type": "execute_result"
    }
   ],
   "source": [
    "np.set_printoptions(precision=2, linewidth=120, suppress=True, edgeitems=7) # setting my printing preferences. \n",
    "df_communities.describe().T"
   ]
  },
  {
   "cell_type": "markdown",
   "id": "8a38fcad",
   "metadata": {},
   "source": [
    "<p>Here, we get the mean, standard deviation, min, max, 1 percentile, median and 3rd percentile for all the numerical attributes of our data set.</p>"
   ]
  },
  {
   "cell_type": "markdown",
   "id": "7728ad29",
   "metadata": {},
   "source": [
    "### Separate the target attribute for regression from the rest of the attributes of the data set"
   ]
  },
  {
   "cell_type": "code",
   "execution_count": 9,
   "id": "fecf7664",
   "metadata": {},
   "outputs": [
    {
     "data": {
      "text/plain": [
       "0    0.20\n",
       "1    0.67\n",
       "2    0.43\n",
       "3    0.12\n",
       "4    0.03\n",
       "Name: ViolentCrimesPerPop, dtype: float64"
      ]
     },
     "execution_count": 9,
     "metadata": {},
     "output_type": "execute_result"
    }
   ],
   "source": [
    "vs_target = df_communities['ViolentCrimesPerPop']\n",
    "vs_target.head() # display the first 5 records"
   ]
  },
  {
   "cell_type": "code",
   "execution_count": 10,
   "id": "e69f084a",
   "metadata": {},
   "outputs": [
    {
     "data": {
      "text/html": [
       "<div>\n",
       "<style scoped>\n",
       "    .dataframe tbody tr th:only-of-type {\n",
       "        vertical-align: middle;\n",
       "    }\n",
       "\n",
       "    .dataframe tbody tr th {\n",
       "        vertical-align: top;\n",
       "    }\n",
       "\n",
       "    .dataframe thead th {\n",
       "        text-align: right;\n",
       "    }\n",
       "</style>\n",
       "<table border=\"1\" class=\"dataframe\">\n",
       "  <thead>\n",
       "    <tr style=\"text-align: right;\">\n",
       "      <th></th>\n",
       "      <th>state</th>\n",
       "      <th>communityname</th>\n",
       "      <th>population</th>\n",
       "      <th>householdsize</th>\n",
       "      <th>racepctblack</th>\n",
       "      <th>racePctWhite</th>\n",
       "      <th>racePctAsian</th>\n",
       "      <th>racePctHisp</th>\n",
       "      <th>agePct12t21</th>\n",
       "      <th>agePct12t29</th>\n",
       "      <th>...</th>\n",
       "      <th>NumStreet</th>\n",
       "      <th>PctForeignBorn</th>\n",
       "      <th>PctBornSameState</th>\n",
       "      <th>PctSameHouse85</th>\n",
       "      <th>PctSameCity85</th>\n",
       "      <th>PctSameState85</th>\n",
       "      <th>LandArea</th>\n",
       "      <th>PopDens</th>\n",
       "      <th>PctUsePubTrans</th>\n",
       "      <th>ViolentCrimesPerPop</th>\n",
       "    </tr>\n",
       "  </thead>\n",
       "  <tbody>\n",
       "    <tr>\n",
       "      <th>0</th>\n",
       "      <td>8</td>\n",
       "      <td>Lakewoodcity</td>\n",
       "      <td>0.19</td>\n",
       "      <td>0.33</td>\n",
       "      <td>0.02</td>\n",
       "      <td>0.90</td>\n",
       "      <td>0.12</td>\n",
       "      <td>0.17</td>\n",
       "      <td>0.34</td>\n",
       "      <td>0.47</td>\n",
       "      <td>...</td>\n",
       "      <td>0.0</td>\n",
       "      <td>0.12</td>\n",
       "      <td>0.42</td>\n",
       "      <td>0.50</td>\n",
       "      <td>0.51</td>\n",
       "      <td>0.64</td>\n",
       "      <td>0.12</td>\n",
       "      <td>0.26</td>\n",
       "      <td>0.20</td>\n",
       "      <td>0.20</td>\n",
       "    </tr>\n",
       "    <tr>\n",
       "      <th>1</th>\n",
       "      <td>53</td>\n",
       "      <td>Tukwilacity</td>\n",
       "      <td>0.00</td>\n",
       "      <td>0.16</td>\n",
       "      <td>0.12</td>\n",
       "      <td>0.74</td>\n",
       "      <td>0.45</td>\n",
       "      <td>0.07</td>\n",
       "      <td>0.26</td>\n",
       "      <td>0.59</td>\n",
       "      <td>...</td>\n",
       "      <td>0.0</td>\n",
       "      <td>0.21</td>\n",
       "      <td>0.50</td>\n",
       "      <td>0.34</td>\n",
       "      <td>0.60</td>\n",
       "      <td>0.52</td>\n",
       "      <td>0.02</td>\n",
       "      <td>0.12</td>\n",
       "      <td>0.45</td>\n",
       "      <td>0.67</td>\n",
       "    </tr>\n",
       "    <tr>\n",
       "      <th>2</th>\n",
       "      <td>24</td>\n",
       "      <td>Aberdeentown</td>\n",
       "      <td>0.00</td>\n",
       "      <td>0.42</td>\n",
       "      <td>0.49</td>\n",
       "      <td>0.56</td>\n",
       "      <td>0.17</td>\n",
       "      <td>0.04</td>\n",
       "      <td>0.39</td>\n",
       "      <td>0.47</td>\n",
       "      <td>...</td>\n",
       "      <td>0.0</td>\n",
       "      <td>0.14</td>\n",
       "      <td>0.49</td>\n",
       "      <td>0.54</td>\n",
       "      <td>0.67</td>\n",
       "      <td>0.56</td>\n",
       "      <td>0.01</td>\n",
       "      <td>0.21</td>\n",
       "      <td>0.02</td>\n",
       "      <td>0.43</td>\n",
       "    </tr>\n",
       "    <tr>\n",
       "      <th>3</th>\n",
       "      <td>34</td>\n",
       "      <td>Willingborotownship</td>\n",
       "      <td>0.04</td>\n",
       "      <td>0.77</td>\n",
       "      <td>1.00</td>\n",
       "      <td>0.08</td>\n",
       "      <td>0.12</td>\n",
       "      <td>0.10</td>\n",
       "      <td>0.51</td>\n",
       "      <td>0.50</td>\n",
       "      <td>...</td>\n",
       "      <td>0.0</td>\n",
       "      <td>0.19</td>\n",
       "      <td>0.30</td>\n",
       "      <td>0.73</td>\n",
       "      <td>0.64</td>\n",
       "      <td>0.65</td>\n",
       "      <td>0.02</td>\n",
       "      <td>0.39</td>\n",
       "      <td>0.28</td>\n",
       "      <td>0.12</td>\n",
       "    </tr>\n",
       "    <tr>\n",
       "      <th>4</th>\n",
       "      <td>42</td>\n",
       "      <td>Bethlehemtownship</td>\n",
       "      <td>0.01</td>\n",
       "      <td>0.55</td>\n",
       "      <td>0.02</td>\n",
       "      <td>0.95</td>\n",
       "      <td>0.09</td>\n",
       "      <td>0.05</td>\n",
       "      <td>0.38</td>\n",
       "      <td>0.38</td>\n",
       "      <td>...</td>\n",
       "      <td>0.0</td>\n",
       "      <td>0.11</td>\n",
       "      <td>0.72</td>\n",
       "      <td>0.64</td>\n",
       "      <td>0.61</td>\n",
       "      <td>0.53</td>\n",
       "      <td>0.04</td>\n",
       "      <td>0.09</td>\n",
       "      <td>0.02</td>\n",
       "      <td>0.03</td>\n",
       "    </tr>\n",
       "  </tbody>\n",
       "</table>\n",
       "<p>5 rows × 100 columns</p>\n",
       "</div>"
      ],
      "text/plain": [
       "   state        communityname  population  householdsize  racepctblack  \\\n",
       "0      8         Lakewoodcity        0.19           0.33          0.02   \n",
       "1     53          Tukwilacity        0.00           0.16          0.12   \n",
       "2     24         Aberdeentown        0.00           0.42          0.49   \n",
       "3     34  Willingborotownship        0.04           0.77          1.00   \n",
       "4     42    Bethlehemtownship        0.01           0.55          0.02   \n",
       "\n",
       "   racePctWhite  racePctAsian  racePctHisp  agePct12t21  agePct12t29  ...  \\\n",
       "0          0.90          0.12         0.17         0.34         0.47  ...   \n",
       "1          0.74          0.45         0.07         0.26         0.59  ...   \n",
       "2          0.56          0.17         0.04         0.39         0.47  ...   \n",
       "3          0.08          0.12         0.10         0.51         0.50  ...   \n",
       "4          0.95          0.09         0.05         0.38         0.38  ...   \n",
       "\n",
       "   NumStreet  PctForeignBorn  PctBornSameState  PctSameHouse85  PctSameCity85  \\\n",
       "0        0.0            0.12              0.42            0.50           0.51   \n",
       "1        0.0            0.21              0.50            0.34           0.60   \n",
       "2        0.0            0.14              0.49            0.54           0.67   \n",
       "3        0.0            0.19              0.30            0.73           0.64   \n",
       "4        0.0            0.11              0.72            0.64           0.61   \n",
       "\n",
       "   PctSameState85  LandArea  PopDens  PctUsePubTrans  ViolentCrimesPerPop  \n",
       "0            0.64      0.12     0.26            0.20                 0.20  \n",
       "1            0.52      0.02     0.12            0.45                 0.67  \n",
       "2            0.56      0.01     0.21            0.02                 0.43  \n",
       "3            0.65      0.02     0.39            0.28                 0.12  \n",
       "4            0.53      0.04     0.09            0.02                 0.03  \n",
       "\n",
       "[5 rows x 100 columns]"
      ]
     },
     "execution_count": 10,
     "metadata": {},
     "output_type": "execute_result"
    }
   ],
   "source": [
    "df_communities.head()"
   ]
  },
  {
   "cell_type": "markdown",
   "id": "79290e54",
   "metadata": {},
   "source": [
    "### Let's drop the Communityname, State and ViolentCrimesPerPop from the data set. We drop state since it isn't considered predictive."
   ]
  },
  {
   "cell_type": "code",
   "execution_count": 11,
   "id": "e82b2ffa",
   "metadata": {},
   "outputs": [],
   "source": [
    "fieldsToDrop = ['ViolentCrimesPerPop','communityname', 'state']"
   ]
  },
  {
   "cell_type": "code",
   "execution_count": 12,
   "id": "ec9ee814",
   "metadata": {},
   "outputs": [],
   "source": [
    "### let's drop ViolentCrimesPerPop attribute from the data set. \n",
    "df_communities.drop(columns=fieldsToDrop, inplace = True)"
   ]
  },
  {
   "cell_type": "code",
   "execution_count": 13,
   "id": "4638fa16",
   "metadata": {},
   "outputs": [
    {
     "name": "stdout",
     "output_type": "stream",
     "text": [
      "(1994,)\n"
     ]
    },
    {
     "data": {
      "text/plain": [
       "(1994, 97)"
      ]
     },
     "execution_count": 13,
     "metadata": {},
     "output_type": "execute_result"
    }
   ],
   "source": [
    "print(vs_target.shape)\n",
    "df_communities.shape"
   ]
  },
  {
   "cell_type": "markdown",
   "id": "bf60100c",
   "metadata": {},
   "source": [
    "<p>The data set now has 1994 data points with 98 attributes. </p>"
   ]
  },
  {
   "cell_type": "code",
   "execution_count": 14,
   "id": "a37151ba",
   "metadata": {},
   "outputs": [
    {
     "data": {
      "text/html": [
       "<div>\n",
       "<style scoped>\n",
       "    .dataframe tbody tr th:only-of-type {\n",
       "        vertical-align: middle;\n",
       "    }\n",
       "\n",
       "    .dataframe tbody tr th {\n",
       "        vertical-align: top;\n",
       "    }\n",
       "\n",
       "    .dataframe thead th {\n",
       "        text-align: right;\n",
       "    }\n",
       "</style>\n",
       "<table border=\"1\" class=\"dataframe\">\n",
       "  <thead>\n",
       "    <tr style=\"text-align: right;\">\n",
       "      <th></th>\n",
       "      <th>population</th>\n",
       "      <th>householdsize</th>\n",
       "      <th>racepctblack</th>\n",
       "      <th>racePctWhite</th>\n",
       "      <th>racePctAsian</th>\n",
       "      <th>racePctHisp</th>\n",
       "      <th>agePct12t21</th>\n",
       "      <th>agePct12t29</th>\n",
       "      <th>agePct16t24</th>\n",
       "      <th>agePct65up</th>\n",
       "      <th>...</th>\n",
       "      <th>NumInShelters</th>\n",
       "      <th>NumStreet</th>\n",
       "      <th>PctForeignBorn</th>\n",
       "      <th>PctBornSameState</th>\n",
       "      <th>PctSameHouse85</th>\n",
       "      <th>PctSameCity85</th>\n",
       "      <th>PctSameState85</th>\n",
       "      <th>LandArea</th>\n",
       "      <th>PopDens</th>\n",
       "      <th>PctUsePubTrans</th>\n",
       "    </tr>\n",
       "  </thead>\n",
       "  <tbody>\n",
       "    <tr>\n",
       "      <th>0</th>\n",
       "      <td>0.19</td>\n",
       "      <td>0.33</td>\n",
       "      <td>0.02</td>\n",
       "      <td>0.90</td>\n",
       "      <td>0.12</td>\n",
       "      <td>0.17</td>\n",
       "      <td>0.34</td>\n",
       "      <td>0.47</td>\n",
       "      <td>0.29</td>\n",
       "      <td>0.32</td>\n",
       "      <td>...</td>\n",
       "      <td>0.04</td>\n",
       "      <td>0.0</td>\n",
       "      <td>0.12</td>\n",
       "      <td>0.42</td>\n",
       "      <td>0.50</td>\n",
       "      <td>0.51</td>\n",
       "      <td>0.64</td>\n",
       "      <td>0.12</td>\n",
       "      <td>0.26</td>\n",
       "      <td>0.20</td>\n",
       "    </tr>\n",
       "    <tr>\n",
       "      <th>1</th>\n",
       "      <td>0.00</td>\n",
       "      <td>0.16</td>\n",
       "      <td>0.12</td>\n",
       "      <td>0.74</td>\n",
       "      <td>0.45</td>\n",
       "      <td>0.07</td>\n",
       "      <td>0.26</td>\n",
       "      <td>0.59</td>\n",
       "      <td>0.35</td>\n",
       "      <td>0.27</td>\n",
       "      <td>...</td>\n",
       "      <td>0.00</td>\n",
       "      <td>0.0</td>\n",
       "      <td>0.21</td>\n",
       "      <td>0.50</td>\n",
       "      <td>0.34</td>\n",
       "      <td>0.60</td>\n",
       "      <td>0.52</td>\n",
       "      <td>0.02</td>\n",
       "      <td>0.12</td>\n",
       "      <td>0.45</td>\n",
       "    </tr>\n",
       "    <tr>\n",
       "      <th>2</th>\n",
       "      <td>0.00</td>\n",
       "      <td>0.42</td>\n",
       "      <td>0.49</td>\n",
       "      <td>0.56</td>\n",
       "      <td>0.17</td>\n",
       "      <td>0.04</td>\n",
       "      <td>0.39</td>\n",
       "      <td>0.47</td>\n",
       "      <td>0.28</td>\n",
       "      <td>0.32</td>\n",
       "      <td>...</td>\n",
       "      <td>0.00</td>\n",
       "      <td>0.0</td>\n",
       "      <td>0.14</td>\n",
       "      <td>0.49</td>\n",
       "      <td>0.54</td>\n",
       "      <td>0.67</td>\n",
       "      <td>0.56</td>\n",
       "      <td>0.01</td>\n",
       "      <td>0.21</td>\n",
       "      <td>0.02</td>\n",
       "    </tr>\n",
       "    <tr>\n",
       "      <th>3</th>\n",
       "      <td>0.04</td>\n",
       "      <td>0.77</td>\n",
       "      <td>1.00</td>\n",
       "      <td>0.08</td>\n",
       "      <td>0.12</td>\n",
       "      <td>0.10</td>\n",
       "      <td>0.51</td>\n",
       "      <td>0.50</td>\n",
       "      <td>0.34</td>\n",
       "      <td>0.21</td>\n",
       "      <td>...</td>\n",
       "      <td>0.00</td>\n",
       "      <td>0.0</td>\n",
       "      <td>0.19</td>\n",
       "      <td>0.30</td>\n",
       "      <td>0.73</td>\n",
       "      <td>0.64</td>\n",
       "      <td>0.65</td>\n",
       "      <td>0.02</td>\n",
       "      <td>0.39</td>\n",
       "      <td>0.28</td>\n",
       "    </tr>\n",
       "    <tr>\n",
       "      <th>4</th>\n",
       "      <td>0.01</td>\n",
       "      <td>0.55</td>\n",
       "      <td>0.02</td>\n",
       "      <td>0.95</td>\n",
       "      <td>0.09</td>\n",
       "      <td>0.05</td>\n",
       "      <td>0.38</td>\n",
       "      <td>0.38</td>\n",
       "      <td>0.23</td>\n",
       "      <td>0.36</td>\n",
       "      <td>...</td>\n",
       "      <td>0.00</td>\n",
       "      <td>0.0</td>\n",
       "      <td>0.11</td>\n",
       "      <td>0.72</td>\n",
       "      <td>0.64</td>\n",
       "      <td>0.61</td>\n",
       "      <td>0.53</td>\n",
       "      <td>0.04</td>\n",
       "      <td>0.09</td>\n",
       "      <td>0.02</td>\n",
       "    </tr>\n",
       "  </tbody>\n",
       "</table>\n",
       "<p>5 rows × 97 columns</p>\n",
       "</div>"
      ],
      "text/plain": [
       "   population  householdsize  racepctblack  racePctWhite  racePctAsian  \\\n",
       "0        0.19           0.33          0.02          0.90          0.12   \n",
       "1        0.00           0.16          0.12          0.74          0.45   \n",
       "2        0.00           0.42          0.49          0.56          0.17   \n",
       "3        0.04           0.77          1.00          0.08          0.12   \n",
       "4        0.01           0.55          0.02          0.95          0.09   \n",
       "\n",
       "   racePctHisp  agePct12t21  agePct12t29  agePct16t24  agePct65up  ...  \\\n",
       "0         0.17         0.34         0.47         0.29        0.32  ...   \n",
       "1         0.07         0.26         0.59         0.35        0.27  ...   \n",
       "2         0.04         0.39         0.47         0.28        0.32  ...   \n",
       "3         0.10         0.51         0.50         0.34        0.21  ...   \n",
       "4         0.05         0.38         0.38         0.23        0.36  ...   \n",
       "\n",
       "   NumInShelters  NumStreet  PctForeignBorn  PctBornSameState  PctSameHouse85  \\\n",
       "0           0.04        0.0            0.12              0.42            0.50   \n",
       "1           0.00        0.0            0.21              0.50            0.34   \n",
       "2           0.00        0.0            0.14              0.49            0.54   \n",
       "3           0.00        0.0            0.19              0.30            0.73   \n",
       "4           0.00        0.0            0.11              0.72            0.64   \n",
       "\n",
       "   PctSameCity85  PctSameState85  LandArea  PopDens  PctUsePubTrans  \n",
       "0           0.51            0.64      0.12     0.26            0.20  \n",
       "1           0.60            0.52      0.02     0.12            0.45  \n",
       "2           0.67            0.56      0.01     0.21            0.02  \n",
       "3           0.64            0.65      0.02     0.39            0.28  \n",
       "4           0.61            0.53      0.04     0.09            0.02  \n",
       "\n",
       "[5 rows x 97 columns]"
      ]
     },
     "execution_count": 14,
     "metadata": {},
     "output_type": "execute_result"
    }
   ],
   "source": [
    "# first five records of the data set\n",
    "df_communities.head() "
   ]
  },
  {
   "cell_type": "markdown",
   "id": "ad79423e",
   "metadata": {},
   "source": [
    "### let's convert the original data set and the response variable into numpy arrays since we would like to do machine learning with numpy arrays"
   ]
  },
  {
   "cell_type": "code",
   "execution_count": 15,
   "id": "f743ec49",
   "metadata": {},
   "outputs": [],
   "source": [
    "# setting my printing preferences.\n",
    "np.set_printoptions(precision=2, linewidth=120, suppress=True, edgeitems=7)  "
   ]
  },
  {
   "cell_type": "markdown",
   "id": "cc33616d",
   "metadata": {},
   "source": [
    "#### let's extract the feature names"
   ]
  },
  {
   "cell_type": "code",
   "execution_count": 16,
   "id": "1b005a12",
   "metadata": {},
   "outputs": [
    {
     "name": "stdout",
     "output_type": "stream",
     "text": [
      "<class 'numpy.ndarray'>\n",
      "['population' 'householdsize' 'racepctblack' 'racePctWhite' 'racePctAsian' 'racePctHisp' 'agePct12t21' 'agePct12t29'\n",
      " 'agePct16t24' 'agePct65up']\n",
      "97\n"
     ]
    }
   ],
   "source": [
    "# extract the column names and convert the series of index into a numpy array\n",
    "feature_names = df_communities.columns.values\n",
    "print(type(feature_names))\n",
    "feature_names.shape\n",
    "print(feature_names[:10]) # display the first 10 records\n",
    "print(len(feature_names))"
   ]
  },
  {
   "cell_type": "markdown",
   "id": "27a7e208",
   "metadata": {},
   "source": [
    "### Create a 20% - 80% randomized split of the data set by using the train_test_split module from the sklearn.model_selection package.\n",
    "#### Set a side 20% test portion and 80% training data partition"
   ]
  },
  {
   "cell_type": "code",
   "execution_count": 17,
   "id": "ffd5ac1d",
   "metadata": {},
   "outputs": [
    {
     "name": "stdout",
     "output_type": "stream",
     "text": [
      "(399, 97)\n"
     ]
    },
    {
     "data": {
      "text/html": [
       "<div>\n",
       "<style scoped>\n",
       "    .dataframe tbody tr th:only-of-type {\n",
       "        vertical-align: middle;\n",
       "    }\n",
       "\n",
       "    .dataframe tbody tr th {\n",
       "        vertical-align: top;\n",
       "    }\n",
       "\n",
       "    .dataframe thead th {\n",
       "        text-align: right;\n",
       "    }\n",
       "</style>\n",
       "<table border=\"1\" class=\"dataframe\">\n",
       "  <thead>\n",
       "    <tr style=\"text-align: right;\">\n",
       "      <th></th>\n",
       "      <th>population</th>\n",
       "      <th>householdsize</th>\n",
       "      <th>racepctblack</th>\n",
       "      <th>racePctWhite</th>\n",
       "      <th>racePctAsian</th>\n",
       "      <th>racePctHisp</th>\n",
       "      <th>agePct12t21</th>\n",
       "      <th>agePct12t29</th>\n",
       "      <th>agePct16t24</th>\n",
       "      <th>agePct65up</th>\n",
       "      <th>...</th>\n",
       "      <th>NumInShelters</th>\n",
       "      <th>NumStreet</th>\n",
       "      <th>PctForeignBorn</th>\n",
       "      <th>PctBornSameState</th>\n",
       "      <th>PctSameHouse85</th>\n",
       "      <th>PctSameCity85</th>\n",
       "      <th>PctSameState85</th>\n",
       "      <th>LandArea</th>\n",
       "      <th>PopDens</th>\n",
       "      <th>PctUsePubTrans</th>\n",
       "    </tr>\n",
       "  </thead>\n",
       "  <tbody>\n",
       "    <tr>\n",
       "      <th>1158</th>\n",
       "      <td>0.00</td>\n",
       "      <td>0.46</td>\n",
       "      <td>0.01</td>\n",
       "      <td>0.97</td>\n",
       "      <td>0.09</td>\n",
       "      <td>0.04</td>\n",
       "      <td>0.40</td>\n",
       "      <td>0.26</td>\n",
       "      <td>0.20</td>\n",
       "      <td>0.49</td>\n",
       "      <td>...</td>\n",
       "      <td>0.00</td>\n",
       "      <td>0.00</td>\n",
       "      <td>0.18</td>\n",
       "      <td>0.13</td>\n",
       "      <td>0.73</td>\n",
       "      <td>0.76</td>\n",
       "      <td>0.55</td>\n",
       "      <td>0.04</td>\n",
       "      <td>0.06</td>\n",
       "      <td>0.03</td>\n",
       "    </tr>\n",
       "    <tr>\n",
       "      <th>1079</th>\n",
       "      <td>0.01</td>\n",
       "      <td>0.35</td>\n",
       "      <td>0.01</td>\n",
       "      <td>0.96</td>\n",
       "      <td>0.04</td>\n",
       "      <td>0.04</td>\n",
       "      <td>0.32</td>\n",
       "      <td>0.45</td>\n",
       "      <td>0.29</td>\n",
       "      <td>0.62</td>\n",
       "      <td>...</td>\n",
       "      <td>0.00</td>\n",
       "      <td>0.00</td>\n",
       "      <td>0.11</td>\n",
       "      <td>0.86</td>\n",
       "      <td>0.66</td>\n",
       "      <td>0.88</td>\n",
       "      <td>0.80</td>\n",
       "      <td>0.03</td>\n",
       "      <td>0.11</td>\n",
       "      <td>0.01</td>\n",
       "    </tr>\n",
       "    <tr>\n",
       "      <th>1633</th>\n",
       "      <td>0.51</td>\n",
       "      <td>0.31</td>\n",
       "      <td>0.60</td>\n",
       "      <td>0.46</td>\n",
       "      <td>0.06</td>\n",
       "      <td>0.09</td>\n",
       "      <td>0.42</td>\n",
       "      <td>0.54</td>\n",
       "      <td>0.39</td>\n",
       "      <td>0.48</td>\n",
       "      <td>...</td>\n",
       "      <td>0.17</td>\n",
       "      <td>0.01</td>\n",
       "      <td>0.13</td>\n",
       "      <td>0.80</td>\n",
       "      <td>0.61</td>\n",
       "      <td>0.87</td>\n",
       "      <td>0.84</td>\n",
       "      <td>0.12</td>\n",
       "      <td>0.68</td>\n",
       "      <td>0.75</td>\n",
       "    </tr>\n",
       "    <tr>\n",
       "      <th>1700</th>\n",
       "      <td>0.02</td>\n",
       "      <td>0.52</td>\n",
       "      <td>0.25</td>\n",
       "      <td>0.63</td>\n",
       "      <td>0.03</td>\n",
       "      <td>0.31</td>\n",
       "      <td>0.54</td>\n",
       "      <td>0.62</td>\n",
       "      <td>0.44</td>\n",
       "      <td>0.36</td>\n",
       "      <td>...</td>\n",
       "      <td>0.01</td>\n",
       "      <td>0.00</td>\n",
       "      <td>0.13</td>\n",
       "      <td>0.72</td>\n",
       "      <td>0.35</td>\n",
       "      <td>0.50</td>\n",
       "      <td>0.70</td>\n",
       "      <td>0.13</td>\n",
       "      <td>0.04</td>\n",
       "      <td>0.01</td>\n",
       "    </tr>\n",
       "    <tr>\n",
       "      <th>1956</th>\n",
       "      <td>0.03</td>\n",
       "      <td>0.37</td>\n",
       "      <td>0.40</td>\n",
       "      <td>0.68</td>\n",
       "      <td>0.03</td>\n",
       "      <td>0.01</td>\n",
       "      <td>0.39</td>\n",
       "      <td>0.47</td>\n",
       "      <td>0.34</td>\n",
       "      <td>0.55</td>\n",
       "      <td>...</td>\n",
       "      <td>0.01</td>\n",
       "      <td>0.01</td>\n",
       "      <td>0.03</td>\n",
       "      <td>0.78</td>\n",
       "      <td>0.59</td>\n",
       "      <td>0.71</td>\n",
       "      <td>0.69</td>\n",
       "      <td>0.06</td>\n",
       "      <td>0.10</td>\n",
       "      <td>0.00</td>\n",
       "    </tr>\n",
       "  </tbody>\n",
       "</table>\n",
       "<p>5 rows × 97 columns</p>\n",
       "</div>"
      ],
      "text/plain": [
       "      population  householdsize  racepctblack  racePctWhite  racePctAsian  \\\n",
       "1158        0.00           0.46          0.01          0.97          0.09   \n",
       "1079        0.01           0.35          0.01          0.96          0.04   \n",
       "1633        0.51           0.31          0.60          0.46          0.06   \n",
       "1700        0.02           0.52          0.25          0.63          0.03   \n",
       "1956        0.03           0.37          0.40          0.68          0.03   \n",
       "\n",
       "      racePctHisp  agePct12t21  agePct12t29  agePct16t24  agePct65up  ...  \\\n",
       "1158         0.04         0.40         0.26         0.20        0.49  ...   \n",
       "1079         0.04         0.32         0.45         0.29        0.62  ...   \n",
       "1633         0.09         0.42         0.54         0.39        0.48  ...   \n",
       "1700         0.31         0.54         0.62         0.44        0.36  ...   \n",
       "1956         0.01         0.39         0.47         0.34        0.55  ...   \n",
       "\n",
       "      NumInShelters  NumStreet  PctForeignBorn  PctBornSameState  \\\n",
       "1158           0.00       0.00            0.18              0.13   \n",
       "1079           0.00       0.00            0.11              0.86   \n",
       "1633           0.17       0.01            0.13              0.80   \n",
       "1700           0.01       0.00            0.13              0.72   \n",
       "1956           0.01       0.01            0.03              0.78   \n",
       "\n",
       "      PctSameHouse85  PctSameCity85  PctSameState85  LandArea  PopDens  \\\n",
       "1158            0.73           0.76            0.55      0.04     0.06   \n",
       "1079            0.66           0.88            0.80      0.03     0.11   \n",
       "1633            0.61           0.87            0.84      0.12     0.68   \n",
       "1700            0.35           0.50            0.70      0.13     0.04   \n",
       "1956            0.59           0.71            0.69      0.06     0.10   \n",
       "\n",
       "      PctUsePubTrans  \n",
       "1158            0.03  \n",
       "1079            0.01  \n",
       "1633            0.75  \n",
       "1700            0.01  \n",
       "1956            0.00  \n",
       "\n",
       "[5 rows x 97 columns]"
      ]
     },
     "execution_count": 17,
     "metadata": {},
     "output_type": "execute_result"
    }
   ],
   "source": [
    "# train_test_split shuffles the data and splits it into two split for us into 80% training and 20% percent testing.\n",
    "vs_trainCommunities, vs_test_communities, vs_target_train, vs_target_test = train_test_split(df_communities, vs_target, test_size = 0.2, random_state = 33)\n",
    "print(vs_test_communities.shape)\n",
    "vs_test_communities[0:5] # first five records"
   ]
  },
  {
   "cell_type": "code",
   "execution_count": 18,
   "id": "380c5f33",
   "metadata": {},
   "outputs": [
    {
     "name": "stdout",
     "output_type": "stream",
     "text": [
      "(1595, 97)\n"
     ]
    },
    {
     "data": {
      "text/html": [
       "<div>\n",
       "<style scoped>\n",
       "    .dataframe tbody tr th:only-of-type {\n",
       "        vertical-align: middle;\n",
       "    }\n",
       "\n",
       "    .dataframe tbody tr th {\n",
       "        vertical-align: top;\n",
       "    }\n",
       "\n",
       "    .dataframe thead th {\n",
       "        text-align: right;\n",
       "    }\n",
       "</style>\n",
       "<table border=\"1\" class=\"dataframe\">\n",
       "  <thead>\n",
       "    <tr style=\"text-align: right;\">\n",
       "      <th></th>\n",
       "      <th>population</th>\n",
       "      <th>householdsize</th>\n",
       "      <th>racepctblack</th>\n",
       "      <th>racePctWhite</th>\n",
       "      <th>racePctAsian</th>\n",
       "      <th>racePctHisp</th>\n",
       "      <th>agePct12t21</th>\n",
       "      <th>agePct12t29</th>\n",
       "      <th>agePct16t24</th>\n",
       "      <th>agePct65up</th>\n",
       "      <th>...</th>\n",
       "      <th>NumInShelters</th>\n",
       "      <th>NumStreet</th>\n",
       "      <th>PctForeignBorn</th>\n",
       "      <th>PctBornSameState</th>\n",
       "      <th>PctSameHouse85</th>\n",
       "      <th>PctSameCity85</th>\n",
       "      <th>PctSameState85</th>\n",
       "      <th>LandArea</th>\n",
       "      <th>PopDens</th>\n",
       "      <th>PctUsePubTrans</th>\n",
       "    </tr>\n",
       "  </thead>\n",
       "  <tbody>\n",
       "    <tr>\n",
       "      <th>1184</th>\n",
       "      <td>0.01</td>\n",
       "      <td>0.54</td>\n",
       "      <td>0.02</td>\n",
       "      <td>0.91</td>\n",
       "      <td>0.27</td>\n",
       "      <td>0.04</td>\n",
       "      <td>0.37</td>\n",
       "      <td>0.41</td>\n",
       "      <td>0.25</td>\n",
       "      <td>0.28</td>\n",
       "      <td>...</td>\n",
       "      <td>0.01</td>\n",
       "      <td>0.00</td>\n",
       "      <td>0.29</td>\n",
       "      <td>0.42</td>\n",
       "      <td>0.72</td>\n",
       "      <td>0.74</td>\n",
       "      <td>0.62</td>\n",
       "      <td>0.01</td>\n",
       "      <td>0.20</td>\n",
       "      <td>0.47</td>\n",
       "    </tr>\n",
       "    <tr>\n",
       "      <th>401</th>\n",
       "      <td>0.99</td>\n",
       "      <td>0.42</td>\n",
       "      <td>0.59</td>\n",
       "      <td>0.44</td>\n",
       "      <td>0.11</td>\n",
       "      <td>0.11</td>\n",
       "      <td>0.44</td>\n",
       "      <td>0.56</td>\n",
       "      <td>0.37</td>\n",
       "      <td>0.39</td>\n",
       "      <td>...</td>\n",
       "      <td>0.30</td>\n",
       "      <td>0.12</td>\n",
       "      <td>0.14</td>\n",
       "      <td>0.71</td>\n",
       "      <td>0.52</td>\n",
       "      <td>0.79</td>\n",
       "      <td>0.75</td>\n",
       "      <td>0.28</td>\n",
       "      <td>0.55</td>\n",
       "      <td>0.62</td>\n",
       "    </tr>\n",
       "    <tr>\n",
       "      <th>1864</th>\n",
       "      <td>0.01</td>\n",
       "      <td>0.53</td>\n",
       "      <td>0.02</td>\n",
       "      <td>0.95</td>\n",
       "      <td>0.15</td>\n",
       "      <td>0.03</td>\n",
       "      <td>0.27</td>\n",
       "      <td>0.37</td>\n",
       "      <td>0.18</td>\n",
       "      <td>0.23</td>\n",
       "      <td>...</td>\n",
       "      <td>0.01</td>\n",
       "      <td>0.00</td>\n",
       "      <td>0.17</td>\n",
       "      <td>0.54</td>\n",
       "      <td>0.38</td>\n",
       "      <td>0.24</td>\n",
       "      <td>0.51</td>\n",
       "      <td>0.11</td>\n",
       "      <td>0.03</td>\n",
       "      <td>0.09</td>\n",
       "    </tr>\n",
       "    <tr>\n",
       "      <th>1390</th>\n",
       "      <td>0.07</td>\n",
       "      <td>0.41</td>\n",
       "      <td>0.02</td>\n",
       "      <td>0.97</td>\n",
       "      <td>0.05</td>\n",
       "      <td>0.02</td>\n",
       "      <td>0.32</td>\n",
       "      <td>0.49</td>\n",
       "      <td>0.31</td>\n",
       "      <td>0.44</td>\n",
       "      <td>...</td>\n",
       "      <td>0.00</td>\n",
       "      <td>0.00</td>\n",
       "      <td>0.13</td>\n",
       "      <td>0.88</td>\n",
       "      <td>0.76</td>\n",
       "      <td>0.74</td>\n",
       "      <td>0.84</td>\n",
       "      <td>0.05</td>\n",
       "      <td>0.27</td>\n",
       "      <td>0.40</td>\n",
       "    </tr>\n",
       "    <tr>\n",
       "      <th>1066</th>\n",
       "      <td>0.05</td>\n",
       "      <td>0.41</td>\n",
       "      <td>0.11</td>\n",
       "      <td>0.85</td>\n",
       "      <td>0.23</td>\n",
       "      <td>0.03</td>\n",
       "      <td>0.32</td>\n",
       "      <td>0.52</td>\n",
       "      <td>0.26</td>\n",
       "      <td>0.10</td>\n",
       "      <td>...</td>\n",
       "      <td>0.00</td>\n",
       "      <td>0.00</td>\n",
       "      <td>0.17</td>\n",
       "      <td>0.33</td>\n",
       "      <td>0.20</td>\n",
       "      <td>0.23</td>\n",
       "      <td>0.05</td>\n",
       "      <td>0.09</td>\n",
       "      <td>0.12</td>\n",
       "      <td>0.01</td>\n",
       "    </tr>\n",
       "  </tbody>\n",
       "</table>\n",
       "<p>5 rows × 97 columns</p>\n",
       "</div>"
      ],
      "text/plain": [
       "      population  householdsize  racepctblack  racePctWhite  racePctAsian  \\\n",
       "1184        0.01           0.54          0.02          0.91          0.27   \n",
       "401         0.99           0.42          0.59          0.44          0.11   \n",
       "1864        0.01           0.53          0.02          0.95          0.15   \n",
       "1390        0.07           0.41          0.02          0.97          0.05   \n",
       "1066        0.05           0.41          0.11          0.85          0.23   \n",
       "\n",
       "      racePctHisp  agePct12t21  agePct12t29  agePct16t24  agePct65up  ...  \\\n",
       "1184         0.04         0.37         0.41         0.25        0.28  ...   \n",
       "401          0.11         0.44         0.56         0.37        0.39  ...   \n",
       "1864         0.03         0.27         0.37         0.18        0.23  ...   \n",
       "1390         0.02         0.32         0.49         0.31        0.44  ...   \n",
       "1066         0.03         0.32         0.52         0.26        0.10  ...   \n",
       "\n",
       "      NumInShelters  NumStreet  PctForeignBorn  PctBornSameState  \\\n",
       "1184           0.01       0.00            0.29              0.42   \n",
       "401            0.30       0.12            0.14              0.71   \n",
       "1864           0.01       0.00            0.17              0.54   \n",
       "1390           0.00       0.00            0.13              0.88   \n",
       "1066           0.00       0.00            0.17              0.33   \n",
       "\n",
       "      PctSameHouse85  PctSameCity85  PctSameState85  LandArea  PopDens  \\\n",
       "1184            0.72           0.74            0.62      0.01     0.20   \n",
       "401             0.52           0.79            0.75      0.28     0.55   \n",
       "1864            0.38           0.24            0.51      0.11     0.03   \n",
       "1390            0.76           0.74            0.84      0.05     0.27   \n",
       "1066            0.20           0.23            0.05      0.09     0.12   \n",
       "\n",
       "      PctUsePubTrans  \n",
       "1184            0.47  \n",
       "401             0.62  \n",
       "1864            0.09  \n",
       "1390            0.40  \n",
       "1066            0.01  \n",
       "\n",
       "[5 rows x 97 columns]"
      ]
     },
     "execution_count": 18,
     "metadata": {},
     "output_type": "execute_result"
    }
   ],
   "source": [
    "print(vs_trainCommunities.shape)\n",
    "vs_trainCommunities[0:5] # the first five records"
   ]
  },
  {
   "cell_type": "code",
   "execution_count": 19,
   "id": "dc63de77",
   "metadata": {},
   "outputs": [
    {
     "name": "stdout",
     "output_type": "stream",
     "text": [
      "(1595,)\n"
     ]
    },
    {
     "data": {
      "text/plain": [
       "1184    0.08\n",
       "401     0.40\n",
       "1864    0.02\n",
       "1390    0.18\n",
       "1066    0.07\n",
       "Name: ViolentCrimesPerPop, dtype: float64"
      ]
     },
     "execution_count": 19,
     "metadata": {},
     "output_type": "execute_result"
    }
   ],
   "source": [
    "print(vs_target_train.shape)\n",
    "vs_target_train[0:5] # the first five records"
   ]
  },
  {
   "cell_type": "code",
   "execution_count": 20,
   "id": "e24626c3",
   "metadata": {},
   "outputs": [
    {
     "name": "stdout",
     "output_type": "stream",
     "text": [
      "(399,)\n",
      "1158    0.06\n",
      "1079    0.14\n",
      "1633    0.80\n",
      "1700    0.50\n",
      "1956    0.30\n",
      "Name: ViolentCrimesPerPop, dtype: float64\n"
     ]
    }
   ],
   "source": [
    "print(vs_target_test.shape)\n",
    "print(vs_target_test[0:5]) # the first five records"
   ]
  },
  {
   "cell_type": "markdown",
   "id": "42351f0d",
   "metadata": {},
   "source": [
    "##### b. Perform standard multiple linear regression on data using the implementation for Ch. 8 of MLA"
   ]
  },
  {
   "cell_type": "code",
   "execution_count": 21,
   "id": "4542446f",
   "metadata": {},
   "outputs": [],
   "source": [
    "def standRegres(xArr,yArr):\n",
    "    \"\"\"This function computes the best line of fit\"\"\"\n",
    "    \n",
    "    xMat = np.mat(xArr)            # load the x arrays and convert it into a matrice \n",
    "    yMat = np.mat(yArr).T          # load the y arrays and convert it into a matrice \n",
    "    \n",
    "    xTx = xMat.T*xMat           # compute X^TX\n",
    "    if np.linalg.det(xTx) == 0.0:  # determine if the Xdeterminant of (X^T) is zero.\n",
    "       print(\"This matrix is singular, cannot do inverse\")\n",
    "       return\n",
    "    ws = xTx.I * (xMat.T*yMat) #  If the determinate is nonzero, you compute  ws \n",
    "    return ws                  # return ws (weights)"
   ]
  },
  {
   "cell_type": "code",
   "execution_count": 22,
   "id": "88cccec5",
   "metadata": {},
   "outputs": [
    {
     "data": {
      "text/plain": [
       "array([[0.01, 0.54, 0.02, 0.91, 0.27, 0.04, 0.37, 0.41, 0.25, 0.28, 0.02, 1.  , 0.89, 0.74, 0.15, 0.83, 0.35, 0.02,\n",
       "        0.4 , 0.88, 0.76, 0.75, 0.88, 0.46, 0.44, 0.47, 0.63, 0.  , 0.05, 0.06, 0.09, 0.77, 0.19, 0.63, 0.36, 0.29,\n",
       "        0.22, 0.36, 0.24, 0.23, 0.53, 0.89, 0.92, 0.97, 0.81, 0.17, 0.26, 0.  , 0.04, 0.01, 0.27, 0.3 , 0.33, 0.42,\n",
       "        0.18, 0.18, 0.18, 0.21, 0.82, 0.08, 0.19, 0.21, 0.59, 0.6 , 0.39, 0.86, 0.03, 0.22, 0.5 , 0.01, 0.76, 0.83,\n",
       "        0.  , 0.39, 0.44, 0.01, 0.3 , 0.71, 0.71, 0.74, 0.97, 0.94, 1.  , 0.95, 0.63, 0.59, 0.89, 0.01, 0.  , 0.29,\n",
       "        0.42, 0.72, 0.74, 0.62, 0.01, 0.2 , 0.47],\n",
       "       [0.99, 0.42, 0.59, 0.44, 0.11, 0.11, 0.44, 0.56, 0.37, 0.39, 0.99, 1.  , 0.2 , 0.45, 0.11, 0.44, 0.48, 0.75,\n",
       "        0.47, 0.21, 0.2 , 0.28, 0.18, 0.13, 0.15, 0.18, 0.22, 1.  , 0.59, 0.33, 0.49, 0.22, 0.59, 0.42, 0.51, 0.45,\n",
       "        0.62, 0.69, 0.61, 0.64, 0.55, 0.18, 0.21, 0.2 , 0.16, 0.45, 0.45, 1.  , 0.98, 0.2 , 0.37, 0.37, 0.4 , 0.44,\n",
       "        0.12, 0.11, 0.11, 0.11, 0.82, 0.12, 0.43, 0.34, 0.42, 0.47, 0.42, 0.31, 0.2 , 0.62, 0.  , 0.73, 0.8 , 0.31,\n",
       "        0.86, 0.44, 0.21, 0.33, 0.46, 0.09, 0.08, 0.07, 0.25, 0.27, 0.3 , 0.28, 0.59, 0.41, 0.57, 0.3 , 0.12, 0.14,\n",
       "        0.71, 0.52, 0.79, 0.75, 0.28, 0.55, 0.62]])"
      ]
     },
     "execution_count": 22,
     "metadata": {},
     "output_type": "execute_result"
    }
   ],
   "source": [
    "# convert vs_train_communities into a numpy array\n",
    "vs_train_communities = np.array(vs_trainCommunities)\n",
    "vs_train_communities[:2] # first two records"
   ]
  },
  {
   "cell_type": "code",
   "execution_count": 23,
   "id": "caca56d6",
   "metadata": {},
   "outputs": [
    {
     "data": {
      "text/plain": [
       "array([[0.01, 0.54, 0.02, 0.91, 0.27, 0.04, 0.37, 0.41, 0.25, 0.28, 0.02, 1.  , 0.89, 0.74, 0.15, 0.83, 0.35, 0.02,\n",
       "        0.4 , 0.88, 0.76, 0.75, 0.88, 0.46, 0.44, 0.47, 0.63, 0.  , 0.05, 0.06, 0.09, 0.77, 0.19, 0.63, 0.36, 0.29,\n",
       "        0.22, 0.36, 0.24, 0.23, 0.53, 0.89, 0.92, 0.97, 0.81, 0.17, 0.26, 0.  , 0.04, 0.01, 0.27, 0.3 , 0.33, 0.42,\n",
       "        0.18, 0.18, 0.18, 0.21, 0.82, 0.08, 0.19, 0.21, 0.59, 0.6 , 0.39, 0.86, 0.03, 0.22, 0.5 , 0.01, 0.76, 0.83,\n",
       "        0.  , 0.39, 0.44, 0.01, 0.3 , 0.71, 0.71, 0.74, 0.97, 0.94, 1.  , 0.95, 0.63, 0.59, 0.89, 0.01, 0.  , 0.29,\n",
       "        0.42, 0.72, 0.74, 0.62, 0.01, 0.2 , 0.47, 1.  ],\n",
       "       [0.99, 0.42, 0.59, 0.44, 0.11, 0.11, 0.44, 0.56, 0.37, 0.39, 0.99, 1.  , 0.2 , 0.45, 0.11, 0.44, 0.48, 0.75,\n",
       "        0.47, 0.21, 0.2 , 0.28, 0.18, 0.13, 0.15, 0.18, 0.22, 1.  , 0.59, 0.33, 0.49, 0.22, 0.59, 0.42, 0.51, 0.45,\n",
       "        0.62, 0.69, 0.61, 0.64, 0.55, 0.18, 0.21, 0.2 , 0.16, 0.45, 0.45, 1.  , 0.98, 0.2 , 0.37, 0.37, 0.4 , 0.44,\n",
       "        0.12, 0.11, 0.11, 0.11, 0.82, 0.12, 0.43, 0.34, 0.42, 0.47, 0.42, 0.31, 0.2 , 0.62, 0.  , 0.73, 0.8 , 0.31,\n",
       "        0.86, 0.44, 0.21, 0.33, 0.46, 0.09, 0.08, 0.07, 0.25, 0.27, 0.3 , 0.28, 0.59, 0.41, 0.57, 0.3 , 0.12, 0.14,\n",
       "        0.71, 0.52, 0.79, 0.75, 0.28, 0.55, 0.62, 1.  ],\n",
       "       [0.01, 0.53, 0.02, 0.95, 0.15, 0.03, 0.27, 0.37, 0.18, 0.23, 0.  , 0.  , 0.82, 0.82, 0.45, 0.75, 0.21, 0.05,\n",
       "        0.29, 0.77, 0.67, 0.65, 0.94, 1.  , 0.43, 0.5 , 0.49, 0.  , 0.05, 0.13, 0.15, 0.69, 0.09, 0.78, 0.43, 0.4 ,\n",
       "        0.26, 0.27, 0.26, 0.26, 0.51, 0.96, 0.96, 0.96, 0.88, 0.34, 0.42, 0.  , 0.06, 0.01, 0.42, 0.41, 0.41, 0.37,\n",
       "        0.18, 0.15, 0.14, 0.11, 0.89, 0.02, 0.17, 0.19, 0.56, 0.57, 0.41, 0.88, 0.03, 0.37, 0.5 , 0.02, 0.77, 0.86,\n",
       "        0.04, 0.78, 0.9 , 0.02, 0.22, 0.49, 0.56, 0.59, 0.65, 0.75, 0.88, 0.82, 0.38, 0.89, 0.79, 0.01, 0.  , 0.17,\n",
       "        0.54, 0.38, 0.24, 0.51, 0.11, 0.03, 0.09, 1.  ],\n",
       "       [0.07, 0.41, 0.02, 0.97, 0.05, 0.02, 0.32, 0.49, 0.31, 0.44, 0.09, 1.  , 0.49, 0.63, 0.17, 0.52, 0.51, 0.24,\n",
       "        0.59, 0.51, 0.45, 0.44, 0.31, 0.26, 0.27, 0.46, 0.55, 0.02, 0.1 , 0.1 , 0.19, 0.34, 0.33, 0.64, 0.25, 0.42,\n",
       "        0.36, 0.53, 0.38, 0.38, 0.52, 0.71, 0.76, 0.79, 0.66, 0.51, 0.6 , 0.01, 0.12, 0.02, 0.29, 0.27, 0.28, 0.27,\n",
       "        0.09, 0.08, 0.07, 0.06, 0.93, 0.02, 0.27, 0.23, 0.44, 0.55, 0.22, 0.67, 0.06, 0.53, 0.5 , 0.06, 0.81, 0.59,\n",
       "        0.19, 0.35, 0.35, 0.04, 0.05, 0.42, 0.39, 0.35, 0.55, 0.63, 0.69, 0.61, 0.42, 0.42, 0.47, 0.  , 0.  , 0.13,\n",
       "        0.88, 0.76, 0.74, 0.84, 0.05, 0.27, 0.4 , 1.  ],\n",
       "       [0.05, 0.41, 0.11, 0.85, 0.23, 0.03, 0.32, 0.52, 0.26, 0.1 , 0.07, 1.  , 0.57, 0.92, 0.36, 0.68, 0.11, 0.04,\n",
       "        0.23, 0.58, 0.53, 0.53, 0.4 , 0.41, 0.41, 0.43, 0.57, 0.01, 0.07, 0.04, 0.06, 0.8 , 0.08, 0.89, 0.36, 0.43,\n",
       "        0.3 , 0.33, 0.38, 0.35, 0.44, 0.86, 0.89, 0.92, 0.85, 0.64, 0.65, 0.  , 0.06, 0.02, 0.26, 0.37, 0.52, 0.55,\n",
       "        0.1 , 0.13, 0.17, 0.16, 0.86, 0.06, 0.08, 0.09, 0.45, 0.52, 0.31, 0.66, 0.05, 0.37, 0.5 , 0.06, 0.77, 0.61,\n",
       "        0.01, 0.18, 0.9 , 0.05, 0.04, 0.25, 0.25, 0.26, 0.45, 0.4 , 0.43, 0.43, 0.22, 0.49, 0.31, 0.  , 0.  , 0.17,\n",
       "        0.33, 0.2 , 0.23, 0.05, 0.09, 0.12, 0.01, 1.  ]])"
      ]
     },
     "execution_count": 23,
     "metadata": {},
     "output_type": "execute_result"
    }
   ],
   "source": [
    "# In order to do multiple regression we need to add a column of 1s for X0\n",
    "# Concatenate each row with a 1\n",
    "vs_train_communities_with_ones = np.array([np.concatenate((v, [1])) for v in vs_train_communities])\n",
    "vs_train_communities_with_ones[:5]"
   ]
  },
  {
   "cell_type": "code",
   "execution_count": 24,
   "id": "3c796362",
   "metadata": {},
   "outputs": [],
   "source": [
    "# convert vs_target_train into a numpy array\n",
    "vs_target_train = np.array(vs_target_train)"
   ]
  },
  {
   "cell_type": "code",
   "execution_count": 25,
   "id": "60533e01",
   "metadata": {},
   "outputs": [
    {
     "name": "stdout",
     "output_type": "stream",
     "text": [
      "[0.08 0.4  0.02 0.18 0.07 0.33 0.56 0.15 0.22 0.76]\n"
     ]
    }
   ],
   "source": [
    "# print the first 5 elements of the train response variable\n",
    "print(vs_target_train[:10])"
   ]
  },
  {
   "cell_type": "markdown",
   "id": "75185f05",
   "metadata": {},
   "source": [
    "#### create a linear regression object"
   ]
  },
  {
   "cell_type": "code",
   "execution_count": 26,
   "id": "d365a2b0",
   "metadata": {},
   "outputs": [
    {
     "data": {
      "text/plain": [
       "matrix([[-0.01],\n",
       "        [-0.05],\n",
       "        [ 0.22],\n",
       "        [-0.05],\n",
       "        [-0.02],\n",
       "        [ 0.05],\n",
       "        [ 0.1 ],\n",
       "        [-0.17],\n",
       "        [-0.13],\n",
       "        [ 0.07]])"
      ]
     },
     "execution_count": 26,
     "metadata": {},
     "output_type": "execute_result"
    }
   ],
   "source": [
    "# just call a standRegres object just like the classifier. \n",
    "ws = standRegres(vs_train_communities_with_ones, vs_target_train)\n",
    "ws[:10] # return the first 10 weights"
   ]
  },
  {
   "cell_type": "markdown",
   "id": "5a48834e",
   "metadata": {},
   "source": [
    "### Compute the RMSE values on the full training data"
   ]
  },
  {
   "cell_type": "markdown",
   "id": "878e5ae8",
   "metadata": {},
   "source": [
    "#### let's compute yHat with the derived weights ws"
   ]
  },
  {
   "cell_type": "code",
   "execution_count": 27,
   "id": "ffaf3084",
   "metadata": {},
   "outputs": [],
   "source": [
    "xMat = vs_train_communities_with_ones  # vs_train_communities_with_ones is a numpy array\n",
    "yMat = vs_target_train               # vs_target_train is already a numpy array"
   ]
  },
  {
   "cell_type": "code",
   "execution_count": 28,
   "id": "04da0ec4",
   "metadata": {},
   "outputs": [
    {
     "data": {
      "text/plain": [
       "matrix([[-0.03],\n",
       "        [ 0.63],\n",
       "        [-0.07],\n",
       "        [ 0.12],\n",
       "        [ 0.07]])"
      ]
     },
     "execution_count": 28,
     "metadata": {},
     "output_type": "execute_result"
    }
   ],
   "source": [
    "yHat = xMat * ws\n",
    "yHat[:5] # first five records of yHat"
   ]
  },
  {
   "cell_type": "code",
   "execution_count": 29,
   "id": "f22e8f71",
   "metadata": {},
   "outputs": [
    {
     "name": "stdout",
     "output_type": "stream",
     "text": [
      "(1595, 1)\n",
      "(1595,)\n"
     ]
    }
   ],
   "source": [
    "print(yHat.shape)\n",
    "print(yMat.shape)"
   ]
  },
  {
   "cell_type": "markdown",
   "id": "fab4187a",
   "metadata": {},
   "source": [
    "##### Now we construct a vector of errors"
   ]
  },
  {
   "cell_type": "code",
   "execution_count": 30,
   "id": "a743484c",
   "metadata": {},
   "outputs": [],
   "source": [
    "#  you take the absolute value of the difference between yHat and the actual y values and the result will be your error  and that is the term you are going to square\n",
    "# we transpose yHat to make sure it is in the same shape as yHat\n",
    "# predictions - expectations\n",
    "err = abs(yHat.ravel() - yMat.ravel()) "
   ]
  },
  {
   "cell_type": "code",
   "execution_count": 31,
   "id": "a1b7c858",
   "metadata": {},
   "outputs": [
    {
     "data": {
      "text/plain": [
       "matrix([[0.11, 0.23, 0.09, 0.06, 0.  , 0.11, 0.14, ..., 0.05, 0.04, 0.04, 0.1 , 0.13, 0.04, 0.17]])"
      ]
     },
     "execution_count": 31,
     "metadata": {},
     "output_type": "execute_result"
    }
   ],
   "source": [
    "# let's see the error on the first 5 predictions\n",
    "err[:5]"
   ]
  },
  {
   "cell_type": "markdown",
   "id": "254332a4",
   "metadata": {},
   "source": [
    "##### Perform a dot product of the error vector with itself, which gives us the sum of squared errors"
   ]
  },
  {
   "cell_type": "code",
   "execution_count": 32,
   "id": "8c41571e",
   "metadata": {},
   "outputs": [],
   "source": [
    "totalError = np.square(err)"
   ]
  },
  {
   "cell_type": "markdown",
   "id": "62cba8f5",
   "metadata": {},
   "source": [
    "##### Compute RMSE"
   ]
  },
  {
   "cell_type": "code",
   "execution_count": 33,
   "id": "88687971",
   "metadata": {},
   "outputs": [
    {
     "data": {
      "text/plain": [
       "0.13"
      ]
     },
     "execution_count": 33,
     "metadata": {},
     "output_type": "execute_result"
    }
   ],
   "source": [
    "# compute the square root of the total error and divide that by the length of yHat (number of points), \n",
    "# which gives you the average RMSE.  \n",
    "rmseTrain = np.sqrt(totalError.sum()/len(yHat))\n",
    "round(rmseTrain,2)"
   ]
  },
  {
   "cell_type": "code",
   "execution_count": 34,
   "id": "a5557b27",
   "metadata": {},
   "outputs": [
    {
     "data": {
      "image/png": "[encoded data removed]",
      "text/plain": [
       "<Figure size 432x576 with 1 Axes>"
      ]
     },
     "metadata": {},
     "output_type": "display_data"
    }
   ],
   "source": [
    "pl.figure(figsize = (6, 8))\n",
    "pl.plot(yHat, yMat, 'ro')\n",
    "pl.plot([0,1.0],[0,1.0], 'g-')\n",
    "pl.xlabel('predicted')\n",
    "pl.ylabel('Actual')\n",
    "pl.title('Predicted Vs Actual')\n",
    "pl.show()"
   ]
  },
  {
   "cell_type": "markdown",
   "id": "c26a3101",
   "metadata": {},
   "source": [
    "<p>Between 0.0 and 0.4, there are alot of points clustered around the line, but as the line increases most points are off. <p>"
   ]
  },
  {
   "cell_type": "markdown",
   "id": "c25f2e3a",
   "metadata": {},
   "source": [
    "### plot the correlation between the predicted and actual values of the target attribute"
   ]
  },
  {
   "cell_type": "code",
   "execution_count": 35,
   "id": "123feb6e",
   "metadata": {},
   "outputs": [
    {
     "data": {
      "text/plain": [
       "(1595, 1)"
      ]
     },
     "execution_count": 35,
     "metadata": {},
     "output_type": "execute_result"
    }
   ],
   "source": [
    "yHat.shape"
   ]
  },
  {
   "cell_type": "code",
   "execution_count": 36,
   "id": "c3dee5e9",
   "metadata": {},
   "outputs": [
    {
     "data": {
      "text/plain": [
       "(1595,)"
      ]
     },
     "execution_count": 36,
     "metadata": {},
     "output_type": "execute_result"
    }
   ],
   "source": [
    "yMat.shape"
   ]
  },
  {
   "cell_type": "markdown",
   "id": "72981cff",
   "metadata": {},
   "source": [
    "#### we need to transpose yHat so that both of the vectors are showing as row vectors"
   ]
  },
  {
   "cell_type": "code",
   "execution_count": 37,
   "id": "1afea389",
   "metadata": {},
   "outputs": [
    {
     "data": {
      "text/plain": [
       "array([[1.  , 0.84],\n",
       "       [0.84, 1.  ]])"
      ]
     },
     "execution_count": 37,
     "metadata": {},
     "output_type": "execute_result"
    }
   ],
   "source": [
    "np.corrcoef(yHat.T, yMat)"
   ]
  },
  {
   "cell_type": "markdown",
   "id": "8cba57e3",
   "metadata": {},
   "source": [
    "<p>This gives us the correlation between all possible pairs.</p>\n",
    "<p>Since the correlation between yMat and yMat is perfect, the elements on the diagonal are showing up as 1.0.</p>\n",
    "<p>The correlation between the predicted values, yHat, and the actual values, yMat, is 0.84. </p>"
   ]
  },
  {
   "cell_type": "markdown",
   "id": "8b0fad85",
   "metadata": {},
   "source": [
    "### Display the obtained regression coefficients (weights) and plot them using matplotlib"
   ]
  },
  {
   "cell_type": "code",
   "execution_count": 38,
   "id": "7c0de69c",
   "metadata": {},
   "outputs": [
    {
     "data": {
      "text/plain": [
       "array(['population', 'householdsize', 'racepctblack', 'racePctWhite', 'racePctAsian', 'racePctHisp', 'agePct12t21',\n",
       "       'agePct12t29', 'agePct16t24', 'agePct65up', 'numbUrban', 'pctUrban', 'medIncome', 'pctWWage', 'pctWFarmSelf',\n",
       "       'pctWInvInc', 'pctWSocSec', 'pctWPubAsst', 'pctWRetire', 'medFamInc', 'perCapInc', 'whitePerCap', 'blackPerCap',\n",
       "       'indianPerCap', 'AsianPerCap', 'OtherPerCap', 'HispPerCap', 'NumUnderPov', 'PctPopUnderPov', 'PctLess9thGrade',\n",
       "       'PctNotHSGrad', 'PctBSorMore', 'PctUnemployed', 'PctEmploy', 'PctEmplManu', 'PctEmplProfServ', 'MalePctDivorce',\n",
       "       'MalePctNevMarr', 'FemalePctDiv', 'TotalPctDiv', 'PersPerFam', 'PctFam2Par', 'PctKids2Par', 'PctYoungKids2Par',\n",
       "       'PctTeen2Par', 'PctWorkMomYoungKids', 'PctWorkMom', 'NumIlleg', 'PctIlleg', 'NumImmig', 'PctImmigRecent',\n",
       "       'PctImmigRec5', 'PctImmigRec8', 'PctImmigRec10', 'PctRecentImmig', 'PctRecImmig5', 'PctRecImmig8',\n",
       "       'PctRecImmig10', 'PctSpeakEnglOnly', 'PctNotSpeakEnglWell', 'PctLargHouseFam', 'PctLargHouseOccup',\n",
       "       'PersPerOccupHous', 'PersPerOwnOccHous', 'PersPerRentOccHous', 'PctPersOwnOccup', 'PctPersDenseHous',\n",
       "       'PctHousLess3BR', 'MedNumBR', 'HousVacant', 'PctHousOccup', 'PctHousOwnOcc', 'PctVacantBoarded',\n",
       "       'PctVacMore6Mos', 'MedYrHousBuilt', 'PctHousNoPhone', 'PctWOFullPlumb', 'OwnOccLowQuart', 'OwnOccMedVal',\n",
       "       'OwnOccHiQuart', 'RentLowQ', 'RentMedian', 'RentHighQ', 'MedRent', 'MedRentPctHousInc', 'MedOwnCostPctInc',\n",
       "       'MedOwnCostPctIncNoMtg', 'NumInShelters', 'NumStreet', 'PctForeignBorn', 'PctBornSameState', 'PctSameHouse85',\n",
       "       'PctSameCity85', 'PctSameState85', 'LandArea', 'PopDens', 'PctUsePubTrans'], dtype=object)"
      ]
     },
     "execution_count": 38,
     "metadata": {},
     "output_type": "execute_result"
    }
   ],
   "source": [
    "feature_names"
   ]
  },
  {
   "cell_type": "markdown",
   "id": "32567246",
   "metadata": {},
   "source": [
    "### Using scikit-learn"
   ]
  },
  {
   "cell_type": "code",
   "execution_count": 39,
   "id": "1668be57",
   "metadata": {},
   "outputs": [
    {
     "data": {
      "text/plain": [
       "LinearRegression()"
      ]
     },
     "execution_count": 39,
     "metadata": {},
     "output_type": "execute_result"
    }
   ],
   "source": [
    "# just call a linear regression object just like the classifier. \n",
    "linreg = LinearRegression() \n",
    "\n",
    " \n",
    "# Train the model using the training sets\n",
    "linreg.fit(vs_train_communities_with_ones, vs_target_train)"
   ]
  },
  {
   "cell_type": "code",
   "execution_count": 40,
   "id": "e0faa7e9",
   "metadata": {},
   "outputs": [
    {
     "data": {
      "text/plain": [
       "array([-0.01, -0.05,  0.22, -0.05, -0.02,  0.05,  0.1 , -0.17, -0.13,  0.07, -0.13,  0.04, -0.2 , -0.21,  0.04, -0.07,\n",
       "        0.01,  0.02, -0.1 ,  0.35,  0.08, -0.35, -0.03, -0.04,  0.03,  0.05,  0.04,  0.3 , -0.24, -0.01, -0.05,  0.08,\n",
       "        0.02,  0.23, -0.05, -0.04,  0.35,  0.21,  0.08, -0.36, -0.16, -0.02, -0.26, -0.05, -0.01,  0.01, -0.16, -0.27,\n",
       "        0.14, -0.12,  0.01,  0.05, -0.19,  0.14, -0.03, -0.24,  0.64, -0.38, -0.  , -0.15,  0.05, -0.22,  0.57,  0.02,\n",
       "       -0.22, -0.73,  0.2 ,  0.15,  0.03,  0.15, -0.04,  0.65,  0.07, -0.08, -0.03,  0.05, -0.03, -0.24,  0.1 ,  0.09,\n",
       "       -0.25, -0.08, -0.1 ,  0.39,  0.06, -0.03, -0.08,  0.14,  0.13,  0.17, -0.01, -0.03,  0.04,  0.02,  0.02,  0.  ,\n",
       "       -0.04])"
      ]
     },
     "execution_count": 40,
     "metadata": {},
     "output_type": "execute_result"
    }
   ],
   "source": [
    "linreg.coef_[:-1]"
   ]
  },
  {
   "cell_type": "code",
   "execution_count": 41,
   "id": "655a2b4d",
   "metadata": {},
   "outputs": [
    {
     "data": {
      "text/plain": [
       "97"
      ]
     },
     "execution_count": 41,
     "metadata": {},
     "output_type": "execute_result"
    }
   ],
   "source": [
    "len(feature_names)"
   ]
  },
  {
   "cell_type": "code",
   "execution_count": 42,
   "id": "bd1bee35",
   "metadata": {},
   "outputs": [
    {
     "name": "stdout",
     "output_type": "stream",
     "text": [
      "The Top 3 important features:\n",
      "            Features  Coeffs\n",
      "71     PctHousOwnOcc  0.6515\n",
      "56      PctRecImmig8  0.6408\n",
      "62  PersPerOccupHous  0.5730\n",
      "\n",
      "The last 3 less important features:\n",
      "           Features  Coeffs\n",
      "39      TotalPctDiv -0.3591\n",
      "57    PctRecImmig10 -0.3815\n",
      "65  PctPersOwnOccup -0.7330\n"
     ]
    },
    {
     "data": {
      "image/png": "[encoded data removed]",
      "text/plain": [
       "<Figure size 2160x2880 with 1 Axes>"
      ]
     },
     "metadata": {
      "needs_background": "light"
     },
     "output_type": "display_data"
    }
   ],
   "source": [
    "%matplotlib inline\n",
    "# you give it a model, features, and the feature names\n",
    "def plot_coefficients(model, n_features, feature_names):\n",
    "    \"\"\"Diaplays the regression coefficients of the different features in our data set\"\"\"\n",
    "    plt.rcParams.update({'font.size': 18}) # set the font size, this must be set at the top.\n",
    "\n",
    "    s_coefficients = pd.Series(model.coef_[:-1]) # convert the coeffiecient into a series\n",
    "    s_features = pd.Series(feature_names) # convert the features into series\n",
    "    df_features = pd.DataFrame(s_features, columns = ['Features']) # convert the series into pandas\n",
    "    df_coefficients = pd.DataFrame(s_coefficients, columns = ['Coeffs']) # convert the series into pandas\n",
    "    df_features_with_Coefficients = pd.concat([df_features, df_coefficients], axis = 1) # merge the two data frames together\n",
    "    df_features_with_Coefficients.sort_values(by=['Coeffs'], ascending = False, inplace = True) # Sort Descending and with inplace = True, the operation is performed in one place. \n",
    "    print('The Top 3 important features:')\n",
    "    print(df_features_with_Coefficients.head(3))\n",
    "    print('\\nThe last 3 less important features:')\n",
    "    print(df_features_with_Coefficients.tail(3))\n",
    "    \n",
    "    fig, ax = plt.subplots(nrows = 1, ncols = 1, figsize = (30, 40))\n",
    "    ax.barh(df_features_with_Coefficients['Features'], df_features_with_Coefficients['Coeffs'], align = 'center', color = '#31a354')\n",
    "    plt.xlabel('Coefficient Value')\n",
    "    plt.ylabel('Features')\n",
    "    plt.xticks(rotation = 0, fontsize = 16)\n",
    "    plt.yticks(fontsize = 16)\n",
    "    plt.yticks(np.arange(n_features), feature_names)\n",
    "    plt.ylim(-1, n_features)\n",
    "    plt.title('Features Vs regression Coefficients')\n",
    "    plt.tick_params(labelsize=20)\n",
    "    \n",
    "    \n",
    "    plt.show()\n",
    "\n",
    "plot_coefficients(linreg, len(feature_names), feature_names) # plots order the features\n",
    "# the coefficients that we find might not be important because we didn't normalize the data, which we need to. "
   ]
  },
  {
   "cell_type": "markdown",
   "id": "ffc34b07",
   "metadata": {},
   "source": [
    "<p>The above graphs shows the features on the y axis and coefficient values on the x axis. This graph shows the features of importance. PctHousOwnOcc, PctRecImmig8,  and PersPerOccupHous are one of the most important features as defined in the graph because they have high coefficient values.</p>"
   ]
  },
  {
   "cell_type": "markdown",
   "id": "340b1acd",
   "metadata": {},
   "source": [
    "##### Finally, perform 10-fold cross-validation on the training partition and compare the cross-validation RMSE to the training RMSE (for cross validation, you should use the KFold module from sklearn.model_selection). Note if you cannot get the book's version working, use scikit-learn Linear Regression instead for a 3pt deduction)."
   ]
  },
  {
   "cell_type": "code",
   "execution_count": 43,
   "id": "ede57d3f",
   "metadata": {},
   "outputs": [
    {
     "name": "stdout",
     "output_type": "stream",
     "text": [
      "Method: Simple Linear Regression\n",
      "RMSE on training: 0.1262\n",
      "RMSE on 10-fold CV: 0.1343\n"
     ]
    }
   ],
   "source": [
    "# Now let's compute RMSE using 10-fold x-validation\n",
    "n = 10\n",
    "\n",
    "kf = KFold(n_splits=n)\n",
    "kf.get_n_splits(vs_train_communities_with_ones)\n",
    "\n",
    "#print(kf)  \n",
    "#KFold(n_splits=n,random_state=None, shuffle=False)\n",
    " \n",
    "xval_err = 0\n",
    "\n",
    "# here are doing multiple train, test splits. \n",
    "for train, test in kf.split(vs_train_communities_with_ones):\n",
    "    \n",
    "    linreg.fit(vs_train_communities_with_ones[train],vs_target_train[train])    # build a linear regression model\n",
    "    \n",
    "    p = linreg.predict(vs_train_communities_with_ones[test])   # predict on the test set. \n",
    "    \n",
    "    e = p-vs_target_train[test]                                 # look at the test error\n",
    "    \n",
    "    xval_err += np.sqrt(np.dot(e,e)/len(vs_train_communities_with_ones[test]))   # look at the cross validation error for each of the folds\n",
    "       \n",
    "rmse_10cv = xval_err/n            # then you get the average RMSE cross validation score by diving by 10\n",
    "\n",
    "# we print the same way we did it earlier. \n",
    "method_name = 'Simple Linear Regression'\n",
    "print('Method: %s' %method_name)\n",
    "print('RMSE on training: %.4f' %rmseTrain)\n",
    "print('RMSE on 10-fold CV: %.4f' %rmse_10cv)"
   ]
  },
  {
   "cell_type": "markdown",
   "id": "6a15d981",
   "metadata": {},
   "source": [
    "##### There is a little bit of error in the RMSE on 10-fold Cross Validation which we expected and this implies that we have a better estimate of how well we are going to do because it does it several times."
   ]
  },
  {
   "cell_type": "markdown",
   "id": "d0c89ed9",
   "metadata": {},
   "source": [
    "##### c. Feature Selection:  use the scikit-learn regression model from sklearn.linear_model with a subset of features to perform linear regression. For feature selection, write a script or function that takes as input the training data, target variable; the model; and any other parameters you find necessary, and returns the optimal percentage of the most informative features to use. Your approach should use k-fold cross-validation on the training data (you can use k=5). You can use feature_selection.SelectPercentile to find the most informative variables. Show the list of most informative variables and their weights [Note: since this is regression not classification, you should use feature_selection.f_regression as scoring function rather than chi2). Next, plot the model's mean absolute error values  on cross-validation relative to the percentage of selected features (See scikit-learn's metrics.mean_absolute_error). In order to use cross_validation.cross_val_score with regression you'll need to pass to it scoring='mean_absolute_error' as a parameter. [Hint: for an example of a similar feature selection process please review the class example notebook. Also, review scikit-learn documentation for feature selection.]"
   ]
  },
  {
   "cell_type": "markdown",
   "id": "e92841e4",
   "metadata": {},
   "source": [
    "### use the scikit-learn regression model from sklearn.linear_model with a subset of features to perform linear regression."
   ]
  },
  {
   "cell_type": "code",
   "execution_count": 44,
   "id": "a6298be7",
   "metadata": {},
   "outputs": [
    {
     "data": {
      "text/plain": [
       "LinearRegression()"
      ]
     },
     "execution_count": 44,
     "metadata": {},
     "output_type": "execute_result"
    }
   ],
   "source": [
    "# initializing a linear regression model\n",
    "linreg = LinearRegression() \n",
    "\n",
    "# Train the model using the training sets\n",
    "linreg.fit(vs_train_communities_with_ones, vs_target_train)"
   ]
  },
  {
   "cell_type": "markdown",
   "id": "04178213",
   "metadata": {},
   "source": [
    "##### selecting the top 25 % of the most important features as my baseline"
   ]
  },
  {
   "cell_type": "code",
   "execution_count": 45,
   "id": "1d121b6b",
   "metadata": {},
   "outputs": [],
   "source": [
    "fs = feature_selection.SelectPercentile(feature_selection.f_regression, percentile = 25)"
   ]
  },
  {
   "cell_type": "code",
   "execution_count": 46,
   "id": "101d6c57",
   "metadata": {},
   "outputs": [
    {
     "name": "stderr",
     "output_type": "stream",
     "text": [
      "C:\\Users\\rejalu1\\.conda\\envs\\cmdpy37\\lib\\site-packages\\sklearn\\feature_selection\\_univariate_selection.py:289: RuntimeWarning: divide by zero encountered in true_divide\n",
      "  correlation_coefficient /= X_norms\n",
      "C:\\Users\\rejalu1\\.conda\\envs\\cmdpy37\\lib\\site-packages\\sklearn\\feature_selection\\_univariate_selection.py:358: RuntimeWarning: invalid value encountered in true_divide\n",
      "  f_statistic = corr_coef_squared / (1 - corr_coef_squared) * deg_of_freedom\n"
     ]
    }
   ],
   "source": [
    "# lets fit the data and carry out a transformation\n",
    "x_train_fs = fs.fit_transform(vs_train_communities_with_ones, vs_target_train)"
   ]
  },
  {
   "cell_type": "code",
   "execution_count": 47,
   "id": "9aceada4",
   "metadata": {},
   "outputs": [
    {
     "name": "stdout",
     "output_type": "stream",
     "text": [
      "[False False  True  True False False False False False False False False  True\n",
      " False False  True False  True False  True False False False False False False\n",
      " False  True  True False  True False  True False False False  True False  True\n",
      "  True False  True  True  True  True False False  True  True False False False\n",
      " False False False False False False False False False False False False False\n",
      "  True  True  True False False False  True  True False False  True False False\n",
      " False False False False False False False False False False False False False\n",
      " False False False False False False False]\n",
      "[ 256.03    3.49 1074.89 1412.51    1.96  137.54    4.89   37.33   15.88\n",
      "    8.25  247.78   11.06  341.63  161.57   40.34  756.01   22.49  784.57\n",
      "   13.98  366.9   214.99   65.45  126.58   12.32   29.07   33.37   92.37\n",
      "  400.31  578.82  319.22  472.2   173.37  533.91  190.47    2.61    7.4\n",
      "  602.77  161.08  704.77  693.14   24.47 1657.87 1972.8  1342.17 1299.54\n",
      "    1.31   36.5   431.64 1936.12  151.62   40.65   70.23   96.28  134.79\n",
      "   85.2   101.54  106.97  116.9    92.38  144.66  241.23  129.54    4.35\n",
      "   28.4    93.29  630.76  375.65  487.96  242.07  339.97  173.74  478.53\n",
      "  507.64    0.27   18.64  505.86  209.11   71.34   57.98   46.44  104.03\n",
      "   95.72   90.25   95.92  178.68    6.72    4.32  265.85  169.53   61.96\n",
      "    9.71   40.93    9.17    0.8    61.98  142.69   40.12     nan]\n"
     ]
    }
   ],
   "source": [
    "np.set_printoptions(suppress=True, precision=2, linewidth=80)\n",
    "print(fs.get_support())\n",
    "print(fs.scores_)"
   ]
  },
  {
   "cell_type": "markdown",
   "id": "cd6e382d",
   "metadata": {},
   "source": [
    "<p>We scored them all, but we only considered <strong>25% </strong> of the features. </p> \n",
    "<p>The true values are the ones that were actually used and the features which weren't used turned out to be false. </p>"
   ]
  },
  {
   "cell_type": "code",
   "execution_count": 48,
   "id": "2467496f",
   "metadata": {},
   "outputs": [
    {
     "data": {
      "text/plain": [
       "array(['population', 'householdsize', 'racepctblack', 'racePctWhite',\n",
       "       'racePctAsian', 'racePctHisp', 'agePct12t21', 'agePct12t29',\n",
       "       'agePct16t24', 'agePct65up', 'numbUrban', 'pctUrban', 'medIncome',\n",
       "       'pctWWage', 'pctWFarmSelf', 'pctWInvInc', 'pctWSocSec', 'pctWPubAsst',\n",
       "       'pctWRetire', 'medFamInc', 'perCapInc', 'whitePerCap', 'blackPerCap',\n",
       "       'indianPerCap', 'AsianPerCap', 'OtherPerCap', 'HispPerCap',\n",
       "       'NumUnderPov', 'PctPopUnderPov', 'PctLess9thGrade', 'PctNotHSGrad',\n",
       "       'PctBSorMore', 'PctUnemployed', 'PctEmploy', 'PctEmplManu',\n",
       "       'PctEmplProfServ', 'MalePctDivorce', 'MalePctNevMarr', 'FemalePctDiv',\n",
       "       'TotalPctDiv', 'PersPerFam', 'PctFam2Par', 'PctKids2Par',\n",
       "       'PctYoungKids2Par', 'PctTeen2Par', 'PctWorkMomYoungKids', 'PctWorkMom',\n",
       "       'NumIlleg', 'PctIlleg', 'NumImmig', 'PctImmigRecent', 'PctImmigRec5',\n",
       "       'PctImmigRec8', 'PctImmigRec10', 'PctRecentImmig', 'PctRecImmig5',\n",
       "       'PctRecImmig8', 'PctRecImmig10', 'PctSpeakEnglOnly',\n",
       "       'PctNotSpeakEnglWell', 'PctLargHouseFam', 'PctLargHouseOccup',\n",
       "       'PersPerOccupHous', 'PersPerOwnOccHous', 'PersPerRentOccHous',\n",
       "       'PctPersOwnOccup', 'PctPersDenseHous', 'PctHousLess3BR', 'MedNumBR',\n",
       "       'HousVacant', 'PctHousOccup', 'PctHousOwnOcc', 'PctVacantBoarded',\n",
       "       'PctVacMore6Mos', 'MedYrHousBuilt', 'PctHousNoPhone', 'PctWOFullPlumb',\n",
       "       'OwnOccLowQuart', 'OwnOccMedVal', 'OwnOccHiQuart', 'RentLowQ',\n",
       "       'RentMedian', 'RentHighQ', 'MedRent', 'MedRentPctHousInc',\n",
       "       'MedOwnCostPctInc', 'MedOwnCostPctIncNoMtg', 'NumInShelters',\n",
       "       'NumStreet', 'PctForeignBorn', 'PctBornSameState', 'PctSameHouse85',\n",
       "       'PctSameCity85', 'PctSameState85', 'LandArea', 'PopDens',\n",
       "       'PctUsePubTrans'], dtype=object)"
      ]
     },
     "execution_count": 48,
     "metadata": {},
     "output_type": "execute_result"
    }
   ],
   "source": [
    "vs_trainCommunities.columns.values"
   ]
  },
  {
   "cell_type": "code",
   "execution_count": 49,
   "id": "b5e41439",
   "metadata": {},
   "outputs": [
    {
     "data": {
      "text/plain": [
       "array(['racepctblack', 'racePctWhite', 'medIncome', 'pctWInvInc',\n",
       "       'pctWPubAsst', 'medFamInc', 'NumUnderPov', 'PctPopUnderPov',\n",
       "       'PctNotHSGrad', 'PctUnemployed', 'MalePctDivorce', 'FemalePctDiv',\n",
       "       'TotalPctDiv', 'PctFam2Par', 'PctKids2Par', 'PctYoungKids2Par',\n",
       "       'PctTeen2Par', 'NumIlleg', 'PctIlleg', 'PctPersOwnOccup',\n",
       "       'PctPersDenseHous', 'PctHousLess3BR', 'PctHousOwnOcc',\n",
       "       'PctVacantBoarded', 'PctHousNoPhone'], dtype=object)"
      ]
     },
     "execution_count": 49,
     "metadata": {},
     "output_type": "execute_result"
    }
   ],
   "source": [
    "# getting the column values we had support for\n",
    "vs_trainCommunities.columns[fs.get_support()[:-1]].values"
   ]
  },
  {
   "cell_type": "markdown",
   "id": "8bf32e10",
   "metadata": {},
   "source": [
    "<p><strong>These are the features that were actually selected.</strong></p>"
   ]
  },
  {
   "cell_type": "markdown",
   "id": "9f629214",
   "metadata": {},
   "source": [
    "#### Now we get the support of value of the different scores for the supported features:"
   ]
  },
  {
   "cell_type": "code",
   "execution_count": 50,
   "id": "8efbff26",
   "metadata": {},
   "outputs": [
    {
     "name": "stdout",
     "output_type": "stream",
     "text": [
      "racepctblack \t 1074.8895092675157\n",
      "racePctWhite \t 1412.5078123926207\n",
      "medIncome \t 341.63253752319906\n",
      "pctWInvInc \t 756.0149723312611\n",
      "pctWPubAsst \t 784.570640809257\n",
      "medFamInc \t 366.9004218440579\n",
      "NumUnderPov \t 400.3078568907942\n",
      "PctPopUnderPov \t 578.8173652137629\n",
      "PctNotHSGrad \t 472.1962078690577\n",
      "PctUnemployed \t 533.9131521991943\n",
      "MalePctDivorce \t 602.7748935815906\n",
      "FemalePctDiv \t 704.7727390048145\n",
      "TotalPctDiv \t 693.1378303821915\n",
      "PctFam2Par \t 1657.8650169982222\n",
      "PctKids2Par \t 1972.804063866535\n",
      "PctYoungKids2Par \t 1342.1736137875996\n",
      "PctTeen2Par \t 1299.5351058427048\n",
      "NumIlleg \t 431.63556026913983\n",
      "PctIlleg \t 1936.1208737826828\n",
      "PctPersOwnOccup \t 630.760339373974\n",
      "PctPersDenseHous \t 375.6459018761192\n",
      "PctHousLess3BR \t 487.96168084238747\n",
      "PctHousOwnOcc \t 478.5304297184818\n",
      "PctVacantBoarded \t 507.63640854199133\n",
      "PctHousNoPhone \t 505.86265274687827\n"
     ]
    }
   ],
   "source": [
    "for i in range(len(vs_trainCommunities.columns.values)):\n",
    "    if fs.get_support()[i]:\n",
    "        print (vs_trainCommunities.columns.values[i],'\\t', fs.scores_[i])"
   ]
  },
  {
   "cell_type": "markdown",
   "id": "448ba535",
   "metadata": {},
   "source": [
    "<p>This gives us the support of the value of the different scores. You can see the value of these fatures. </p>"
   ]
  },
  {
   "cell_type": "code",
   "execution_count": 51,
   "id": "d0f34cfe",
   "metadata": {},
   "outputs": [
    {
     "data": {
      "text/plain": [
       "array([[0.02, 0.91, 0.89, 0.83, 0.02, 0.88, 0.  , ..., 0.04, 0.86, 0.03, 0.22,\n",
       "        0.83, 0.  , 0.01],\n",
       "       [0.59, 0.44, 0.2 , 0.44, 0.75, 0.21, 1.  , ..., 0.98, 0.31, 0.2 , 0.62,\n",
       "        0.31, 0.86, 0.33],\n",
       "       [0.02, 0.95, 0.82, 0.75, 0.05, 0.77, 0.  , ..., 0.06, 0.88, 0.03, 0.37,\n",
       "        0.86, 0.04, 0.02],\n",
       "       [0.02, 0.97, 0.49, 0.52, 0.24, 0.51, 0.02, ..., 0.12, 0.67, 0.06, 0.53,\n",
       "        0.59, 0.19, 0.04],\n",
       "       [0.11, 0.85, 0.57, 0.68, 0.04, 0.58, 0.01, ..., 0.06, 0.66, 0.05, 0.37,\n",
       "        0.61, 0.01, 0.05],\n",
       "       [0.17, 0.41, 0.43, 0.38, 0.45, 0.41, 0.01, ..., 0.29, 0.66, 0.67, 0.55,\n",
       "        0.64, 0.2 , 0.11],\n",
       "       [1.  , 0.15, 0.17, 0.24, 0.77, 0.18, 0.19, ..., 0.86, 0.31, 0.34, 0.52,\n",
       "        0.34, 0.45, 0.7 ],\n",
       "       ...,\n",
       "       [0.01, 0.95, 0.17, 0.41, 0.53, 0.2 , 0.02, ..., 0.14, 0.46, 0.16, 0.6 ,\n",
       "        0.47, 0.21, 0.4 ],\n",
       "       [0.02, 0.86, 0.43, 0.52, 0.23, 0.43, 0.02, ..., 0.13, 0.4 , 0.18, 0.62,\n",
       "        0.37, 0.09, 0.11],\n",
       "       [0.02, 0.57, 0.59, 0.7 , 0.16, 0.64, 0.02, ..., 0.07, 0.58, 0.28, 0.53,\n",
       "        0.53, 0.22, 0.03],\n",
       "       [0.04, 0.94, 0.25, 0.54, 0.19, 0.3 , 0.03, ..., 0.12, 0.54, 0.08, 0.54,\n",
       "        0.51, 0.08, 0.41],\n",
       "       [0.23, 0.76, 0.76, 0.77, 0.1 , 0.75, 0.01, ..., 0.13, 0.82, 0.05, 0.22,\n",
       "        0.78, 0.  , 0.03],\n",
       "       [0.09, 0.77, 0.23, 0.42, 0.2 , 0.19, 0.01, ..., 0.07, 0.18, 0.27, 0.49,\n",
       "        0.24, 0.04, 0.06],\n",
       "       [1.  , 0.  , 0.32, 0.37, 0.43, 0.33, 0.88, ..., 1.  , 0.24, 0.38, 0.76,\n",
       "        0.23, 1.  , 0.25]])"
      ]
     },
     "execution_count": 51,
     "metadata": {},
     "output_type": "execute_result"
    }
   ],
   "source": [
    "x_train_fs"
   ]
  },
  {
   "cell_type": "markdown",
   "id": "70245d95",
   "metadata": {},
   "source": [
    "<p><strong>x_train_fs contains 25% of the features we ranked.</strong></p>"
   ]
  },
  {
   "cell_type": "markdown",
   "id": "a201198b",
   "metadata": {},
   "source": [
    "### Feature Selection: Finding the best percentile with cross-validation. "
   ]
  },
  {
   "cell_type": "markdown",
   "id": "a93912df",
   "metadata": {},
   "source": [
    "##### Since we can't just randomly do 25%, we are going to try and see what would be the right percentile of features that we need and this is what this function will be doing. It is varying how many right percentile of features do we need."
   ]
  },
  {
   "cell_type": "code",
   "execution_count": 52,
   "id": "cd2a8dad",
   "metadata": {},
   "outputs": [
    {
     "data": {
      "text/plain": [
       "array([[0.01, 0.54, 0.02, 0.91, 0.27, 0.04, 0.37, ..., 0.72, 0.74, 0.62, 0.01,\n",
       "        0.2 , 0.47, 1.  ],\n",
       "       [0.99, 0.42, 0.59, 0.44, 0.11, 0.11, 0.44, ..., 0.52, 0.79, 0.75, 0.28,\n",
       "        0.55, 0.62, 1.  ],\n",
       "       [0.01, 0.53, 0.02, 0.95, 0.15, 0.03, 0.27, ..., 0.38, 0.24, 0.51, 0.11,\n",
       "        0.03, 0.09, 1.  ],\n",
       "       [0.07, 0.41, 0.02, 0.97, 0.05, 0.02, 0.32, ..., 0.76, 0.74, 0.84, 0.05,\n",
       "        0.27, 0.4 , 1.  ],\n",
       "       [0.05, 0.41, 0.11, 0.85, 0.23, 0.03, 0.32, ..., 0.2 , 0.23, 0.05, 0.09,\n",
       "        0.12, 0.01, 1.  ],\n",
       "       [0.02, 0.71, 0.17, 0.41, 0.72, 0.64, 0.41, ..., 0.55, 0.84, 0.75, 0.02,\n",
       "        0.24, 0.18, 1.  ],\n",
       "       [0.11, 0.52, 1.  , 0.15, 0.02, 0.01, 0.58, ..., 0.5 , 0.69, 0.71, 0.16,\n",
       "        0.12, 0.1 , 1.  ],\n",
       "       ...,\n",
       "       [0.  , 0.34, 0.01, 0.95, 0.06, 0.06, 0.4 , ..., 0.42, 0.56, 0.64, 0.01,\n",
       "        0.17, 0.05, 1.  ],\n",
       "       [0.04, 0.52, 0.02, 0.86, 0.29, 0.32, 0.37, ..., 0.71, 0.7 , 0.72, 0.02,\n",
       "        0.32, 0.56, 1.  ],\n",
       "       [0.06, 0.43, 0.02, 0.57, 1.  , 0.2 , 0.41, ..., 0.55, 0.73, 0.61, 0.03,\n",
       "        0.37, 0.1 , 1.  ],\n",
       "       [0.05, 0.32, 0.04, 0.94, 0.06, 0.03, 0.37, ..., 0.51, 0.69, 0.7 , 0.04,\n",
       "        0.27, 0.1 , 1.  ],\n",
       "       [0.02, 0.48, 0.23, 0.76, 0.18, 0.06, 0.28, ..., 0.76, 0.65, 0.6 , 0.01,\n",
       "        0.47, 0.98, 1.  ],\n",
       "       [0.01, 0.56, 0.09, 0.77, 0.52, 0.1 , 0.4 , ..., 0.09, 0.  , 0.  , 0.02,\n",
       "        0.19, 0.01, 1.  ],\n",
       "       [0.96, 0.32, 1.  , 0.  , 0.11, 0.1 , 0.39, ..., 0.57, 0.61, 0.33, 0.18,\n",
       "        0.83, 1.  , 1.  ]])"
      ]
     },
     "execution_count": 52,
     "metadata": {},
     "output_type": "execute_result"
    }
   ],
   "source": [
    "vs_train_communities_with_ones"
   ]
  },
  {
   "cell_type": "code",
   "execution_count": 53,
   "id": "e8cadfb0",
   "metadata": {},
   "outputs": [
    {
     "data": {
      "text/plain": [
       "numpy.ndarray"
      ]
     },
     "execution_count": 53,
     "metadata": {},
     "output_type": "execute_result"
    }
   ],
   "source": [
    "type(vs_target_train)"
   ]
  },
  {
   "cell_type": "code",
   "execution_count": 54,
   "id": "ed710fc8",
   "metadata": {
    "scrolled": false
   },
   "outputs": [
    {
     "name": "stdout",
     "output_type": "stream",
     "text": [
      "1 0.11287401163402822\n",
      "6 0.09943268475677308\n"
     ]
    },
    {
     "name": "stderr",
     "output_type": "stream",
     "text": [
      "C:\\Users\\rejalu1\\.conda\\envs\\cmdpy37\\lib\\site-packages\\sklearn\\feature_selection\\_univariate_selection.py:289: RuntimeWarning: divide by zero encountered in true_divide\n",
      "  correlation_coefficient /= X_norms\n",
      "C:\\Users\\rejalu1\\.conda\\envs\\cmdpy37\\lib\\site-packages\\sklearn\\feature_selection\\_univariate_selection.py:358: RuntimeWarning: invalid value encountered in true_divide\n",
      "  f_statistic = corr_coef_squared / (1 - corr_coef_squared) * deg_of_freedom\n",
      "C:\\Users\\rejalu1\\.conda\\envs\\cmdpy37\\lib\\site-packages\\sklearn\\feature_selection\\_univariate_selection.py:289: RuntimeWarning: divide by zero encountered in true_divide\n",
      "  correlation_coefficient /= X_norms\n",
      "C:\\Users\\rejalu1\\.conda\\envs\\cmdpy37\\lib\\site-packages\\sklearn\\feature_selection\\_univariate_selection.py:358: RuntimeWarning: invalid value encountered in true_divide\n",
      "  f_statistic = corr_coef_squared / (1 - corr_coef_squared) * deg_of_freedom\n",
      "C:\\Users\\rejalu1\\.conda\\envs\\cmdpy37\\lib\\site-packages\\sklearn\\feature_selection\\_univariate_selection.py:289: RuntimeWarning: divide by zero encountered in true_divide\n",
      "  correlation_coefficient /= X_norms\n",
      "C:\\Users\\rejalu1\\.conda\\envs\\cmdpy37\\lib\\site-packages\\sklearn\\feature_selection\\_univariate_selection.py:358: RuntimeWarning: invalid value encountered in true_divide\n",
      "  f_statistic = corr_coef_squared / (1 - corr_coef_squared) * deg_of_freedom\n",
      "C:\\Users\\rejalu1\\.conda\\envs\\cmdpy37\\lib\\site-packages\\sklearn\\feature_selection\\_univariate_selection.py:289: RuntimeWarning: divide by zero encountered in true_divide\n",
      "  correlation_coefficient /= X_norms\n",
      "C:\\Users\\rejalu1\\.conda\\envs\\cmdpy37\\lib\\site-packages\\sklearn\\feature_selection\\_univariate_selection.py:358: RuntimeWarning: invalid value encountered in true_divide\n",
      "  f_statistic = corr_coef_squared / (1 - corr_coef_squared) * deg_of_freedom\n",
      "C:\\Users\\rejalu1\\.conda\\envs\\cmdpy37\\lib\\site-packages\\sklearn\\feature_selection\\_univariate_selection.py:289: RuntimeWarning: divide by zero encountered in true_divide\n",
      "  correlation_coefficient /= X_norms\n",
      "C:\\Users\\rejalu1\\.conda\\envs\\cmdpy37\\lib\\site-packages\\sklearn\\feature_selection\\_univariate_selection.py:358: RuntimeWarning: invalid value encountered in true_divide\n",
      "  f_statistic = corr_coef_squared / (1 - corr_coef_squared) * deg_of_freedom\n",
      "C:\\Users\\rejalu1\\.conda\\envs\\cmdpy37\\lib\\site-packages\\sklearn\\feature_selection\\_univariate_selection.py:289: RuntimeWarning: divide by zero encountered in true_divide\n",
      "  correlation_coefficient /= X_norms\n",
      "C:\\Users\\rejalu1\\.conda\\envs\\cmdpy37\\lib\\site-packages\\sklearn\\feature_selection\\_univariate_selection.py:358: RuntimeWarning: invalid value encountered in true_divide\n",
      "  f_statistic = corr_coef_squared / (1 - corr_coef_squared) * deg_of_freedom\n",
      "C:\\Users\\rejalu1\\.conda\\envs\\cmdpy37\\lib\\site-packages\\sklearn\\feature_selection\\_univariate_selection.py:289: RuntimeWarning: divide by zero encountered in true_divide\n",
      "  correlation_coefficient /= X_norms\n",
      "C:\\Users\\rejalu1\\.conda\\envs\\cmdpy37\\lib\\site-packages\\sklearn\\feature_selection\\_univariate_selection.py:358: RuntimeWarning: invalid value encountered in true_divide\n",
      "  f_statistic = corr_coef_squared / (1 - corr_coef_squared) * deg_of_freedom\n",
      "C:\\Users\\rejalu1\\.conda\\envs\\cmdpy37\\lib\\site-packages\\sklearn\\feature_selection\\_univariate_selection.py:289: RuntimeWarning: divide by zero encountered in true_divide\n",
      "  correlation_coefficient /= X_norms\n",
      "C:\\Users\\rejalu1\\.conda\\envs\\cmdpy37\\lib\\site-packages\\sklearn\\feature_selection\\_univariate_selection.py:358: RuntimeWarning: invalid value encountered in true_divide\n",
      "  f_statistic = corr_coef_squared / (1 - corr_coef_squared) * deg_of_freedom\n",
      "C:\\Users\\rejalu1\\.conda\\envs\\cmdpy37\\lib\\site-packages\\sklearn\\feature_selection\\_univariate_selection.py:289: RuntimeWarning: divide by zero encountered in true_divide\n",
      "  correlation_coefficient /= X_norms\n",
      "C:\\Users\\rejalu1\\.conda\\envs\\cmdpy37\\lib\\site-packages\\sklearn\\feature_selection\\_univariate_selection.py:358: RuntimeWarning: invalid value encountered in true_divide\n",
      "  f_statistic = corr_coef_squared / (1 - corr_coef_squared) * deg_of_freedom\n"
     ]
    },
    {
     "name": "stdout",
     "output_type": "stream",
     "text": [
      "11 0.09900510519125442\n",
      "16 0.09909059079526811\n",
      "21 0.0975068622131086\n",
      "26 0.09534915043594905\n",
      "31 0.09492194643289374\n",
      "36 0.09474955355002232\n",
      "41 0.09435370428857698\n",
      "46 0.09466441760571029\n",
      "51 0.09505109356109845\n"
     ]
    },
    {
     "name": "stderr",
     "output_type": "stream",
     "text": [
      "C:\\Users\\rejalu1\\.conda\\envs\\cmdpy37\\lib\\site-packages\\sklearn\\feature_selection\\_univariate_selection.py:289: RuntimeWarning: divide by zero encountered in true_divide\n",
      "  correlation_coefficient /= X_norms\n",
      "C:\\Users\\rejalu1\\.conda\\envs\\cmdpy37\\lib\\site-packages\\sklearn\\feature_selection\\_univariate_selection.py:358: RuntimeWarning: invalid value encountered in true_divide\n",
      "  f_statistic = corr_coef_squared / (1 - corr_coef_squared) * deg_of_freedom\n",
      "C:\\Users\\rejalu1\\.conda\\envs\\cmdpy37\\lib\\site-packages\\sklearn\\feature_selection\\_univariate_selection.py:289: RuntimeWarning: divide by zero encountered in true_divide\n",
      "  correlation_coefficient /= X_norms\n",
      "C:\\Users\\rejalu1\\.conda\\envs\\cmdpy37\\lib\\site-packages\\sklearn\\feature_selection\\_univariate_selection.py:358: RuntimeWarning: invalid value encountered in true_divide\n",
      "  f_statistic = corr_coef_squared / (1 - corr_coef_squared) * deg_of_freedom\n",
      "C:\\Users\\rejalu1\\.conda\\envs\\cmdpy37\\lib\\site-packages\\sklearn\\feature_selection\\_univariate_selection.py:289: RuntimeWarning: divide by zero encountered in true_divide\n",
      "  correlation_coefficient /= X_norms\n",
      "C:\\Users\\rejalu1\\.conda\\envs\\cmdpy37\\lib\\site-packages\\sklearn\\feature_selection\\_univariate_selection.py:358: RuntimeWarning: invalid value encountered in true_divide\n",
      "  f_statistic = corr_coef_squared / (1 - corr_coef_squared) * deg_of_freedom\n",
      "C:\\Users\\rejalu1\\.conda\\envs\\cmdpy37\\lib\\site-packages\\sklearn\\feature_selection\\_univariate_selection.py:289: RuntimeWarning: divide by zero encountered in true_divide\n",
      "  correlation_coefficient /= X_norms\n",
      "C:\\Users\\rejalu1\\.conda\\envs\\cmdpy37\\lib\\site-packages\\sklearn\\feature_selection\\_univariate_selection.py:358: RuntimeWarning: invalid value encountered in true_divide\n",
      "  f_statistic = corr_coef_squared / (1 - corr_coef_squared) * deg_of_freedom\n",
      "C:\\Users\\rejalu1\\.conda\\envs\\cmdpy37\\lib\\site-packages\\sklearn\\feature_selection\\_univariate_selection.py:289: RuntimeWarning: divide by zero encountered in true_divide\n",
      "  correlation_coefficient /= X_norms\n",
      "C:\\Users\\rejalu1\\.conda\\envs\\cmdpy37\\lib\\site-packages\\sklearn\\feature_selection\\_univariate_selection.py:358: RuntimeWarning: invalid value encountered in true_divide\n",
      "  f_statistic = corr_coef_squared / (1 - corr_coef_squared) * deg_of_freedom\n"
     ]
    },
    {
     "name": "stdout",
     "output_type": "stream",
     "text": [
      "56 0.0954257382389749\n",
      "61 0.0957448325477276\n",
      "66 0.09563045814358938\n",
      "71 0.09583132229767208\n",
      "76 0.0951684772344874\n"
     ]
    },
    {
     "name": "stderr",
     "output_type": "stream",
     "text": [
      "C:\\Users\\rejalu1\\.conda\\envs\\cmdpy37\\lib\\site-packages\\sklearn\\feature_selection\\_univariate_selection.py:289: RuntimeWarning: divide by zero encountered in true_divide\n",
      "  correlation_coefficient /= X_norms\n",
      "C:\\Users\\rejalu1\\.conda\\envs\\cmdpy37\\lib\\site-packages\\sklearn\\feature_selection\\_univariate_selection.py:358: RuntimeWarning: invalid value encountered in true_divide\n",
      "  f_statistic = corr_coef_squared / (1 - corr_coef_squared) * deg_of_freedom\n",
      "C:\\Users\\rejalu1\\.conda\\envs\\cmdpy37\\lib\\site-packages\\sklearn\\feature_selection\\_univariate_selection.py:289: RuntimeWarning: divide by zero encountered in true_divide\n",
      "  correlation_coefficient /= X_norms\n",
      "C:\\Users\\rejalu1\\.conda\\envs\\cmdpy37\\lib\\site-packages\\sklearn\\feature_selection\\_univariate_selection.py:358: RuntimeWarning: invalid value encountered in true_divide\n",
      "  f_statistic = corr_coef_squared / (1 - corr_coef_squared) * deg_of_freedom\n",
      "C:\\Users\\rejalu1\\.conda\\envs\\cmdpy37\\lib\\site-packages\\sklearn\\feature_selection\\_univariate_selection.py:289: RuntimeWarning: divide by zero encountered in true_divide\n",
      "  correlation_coefficient /= X_norms\n",
      "C:\\Users\\rejalu1\\.conda\\envs\\cmdpy37\\lib\\site-packages\\sklearn\\feature_selection\\_univariate_selection.py:358: RuntimeWarning: invalid value encountered in true_divide\n",
      "  f_statistic = corr_coef_squared / (1 - corr_coef_squared) * deg_of_freedom\n",
      "C:\\Users\\rejalu1\\.conda\\envs\\cmdpy37\\lib\\site-packages\\sklearn\\feature_selection\\_univariate_selection.py:289: RuntimeWarning: divide by zero encountered in true_divide\n",
      "  correlation_coefficient /= X_norms\n",
      "C:\\Users\\rejalu1\\.conda\\envs\\cmdpy37\\lib\\site-packages\\sklearn\\feature_selection\\_univariate_selection.py:358: RuntimeWarning: invalid value encountered in true_divide\n",
      "  f_statistic = corr_coef_squared / (1 - corr_coef_squared) * deg_of_freedom\n"
     ]
    },
    {
     "name": "stdout",
     "output_type": "stream",
     "text": [
      "81 0.09548089347790066\n",
      "86 0.09516368543611167\n",
      "91 0.0953146310011092\n",
      "96 0.09533345047381278\n",
      "Optimal percentile of features:1 \n",
      "\n",
      "Optimal number of features:0 \n",
      "\n"
     ]
    },
    {
     "name": "stderr",
     "output_type": "stream",
     "text": [
      "C:\\Users\\rejalu1\\.conda\\envs\\cmdpy37\\lib\\site-packages\\sklearn\\feature_selection\\_univariate_selection.py:289: RuntimeWarning: divide by zero encountered in true_divide\n",
      "  correlation_coefficient /= X_norms\n",
      "C:\\Users\\rejalu1\\.conda\\envs\\cmdpy37\\lib\\site-packages\\sklearn\\feature_selection\\_univariate_selection.py:358: RuntimeWarning: invalid value encountered in true_divide\n",
      "  f_statistic = corr_coef_squared / (1 - corr_coef_squared) * deg_of_freedom\n",
      "C:\\Users\\rejalu1\\.conda\\envs\\cmdpy37\\lib\\site-packages\\sklearn\\feature_selection\\_univariate_selection.py:289: RuntimeWarning: divide by zero encountered in true_divide\n",
      "  correlation_coefficient /= X_norms\n",
      "C:\\Users\\rejalu1\\.conda\\envs\\cmdpy37\\lib\\site-packages\\sklearn\\feature_selection\\_univariate_selection.py:358: RuntimeWarning: invalid value encountered in true_divide\n",
      "  f_statistic = corr_coef_squared / (1 - corr_coef_squared) * deg_of_freedom\n"
     ]
    },
    {
     "data": {
      "image/png": "[encoded data removed]",
      "text/plain": [
       "<Figure size 864x864 with 1 Axes>"
      ]
     },
     "metadata": {
      "needs_background": "light"
     },
     "output_type": "display_data"
    }
   ],
   "source": [
    "percentiles = range(1, 100, 5)\n",
    "results = []\n",
    "\n",
    "for num in range(1, 100, 5):\n",
    "    fs = feature_selection.SelectPercentile(feature_selection.f_regression, percentile=num)\n",
    "    \n",
    "    x_train_fs = fs.fit_transform(vs_train_communities_with_ones, vs_target_train)     # fit the data so that it is transformed with new ranked features\n",
    "    \n",
    "    # here we use the cross validation score so that is going to be a better estimate of what the regression model does.\n",
    "    # because it going to split the data set five times having set the cross validation k = 5\n",
    "    scores = -1 * model_selection.cross_val_score(linreg, x_train_fs, vs_target_train, cv = 5, scoring = 'neg_mean_absolute_error')\n",
    "    \n",
    "    print(num, scores.mean())\n",
    "    results = np.append(results, scores.mean())\n",
    "    \n",
    "optimal_percentile = np.where(results == results.max())[0]\n",
    "# print('optimal_percentile[0]: %s' %optimal_percentile)\n",
    "print (\"Optimal percentile of features:{0}\".format(percentiles[optimal_percentile[0]]), \"\\n\")\n",
    "optimal_num_features = int(percentiles[optimal_percentile[0]]*len(vs_trainCommunities.columns)/100)\n",
    "print (\"Optimal number of features:{0}\".format(optimal_num_features), \"\\n\")\n",
    "\n",
    "pl.figure(figsize = (12, 12))\n",
    "pl.xlabel('Percentage of features selected')\n",
    "pl.ylabel(\"Model's mean absolute error values\")\n",
    "pl.title(\"Model's mean absolute error values on cross-validation\\nrelative to the percentage of selected features.\")\n",
    "pl.plot(percentiles,results);"
   ]
  },
  {
   "cell_type": "markdown",
   "id": "82502fbd",
   "metadata": {},
   "source": [
    "<p>The model's mean absolute error will be around 0.094 when the optimal number of features selected are 41%.</p>"
   ]
  },
  {
   "cell_type": "markdown",
   "id": "cd53f0b9",
   "metadata": {},
   "source": [
    "##### d. Next, using the original train-test split in part (a), perform Ridge Regression and Lasso Regression using the modules from sklearn.linear_model. In each case, perform systematic model selection to identify the optimal alpha parameter. You should create a function that takes as input the data and target variable; the parameter to vary and a list of its values; the model to be trained; and any other relevant input needed to determine the optimal value for the specified parameter. The model selection process should perform k-fold cross validation (k should be a parameter, but you can select k=5 for this problem). For each model, you should also plot the error values on the training and cross-validation splits across the specified values of the alpha parameter. Finally, using the best alpha values, train the model on the full training data and evaluate it on the set-aside test data. Discuss your observations and conclusions, especially about the impact of alpha on bias-variance trade-off.  [Hint: for an example of a similar model selection process please review the class example notebook.]"
   ]
  },
  {
   "cell_type": "code",
   "execution_count": 55,
   "id": "7a2f9100",
   "metadata": {},
   "outputs": [
    {
     "data": {
      "text/plain": [
       "array([[0.01, 0.54, 0.02, 0.91, 0.27, 0.04, 0.37, ..., 0.72, 0.74, 0.62, 0.01,\n",
       "        0.2 , 0.47, 1.  ],\n",
       "       [0.99, 0.42, 0.59, 0.44, 0.11, 0.11, 0.44, ..., 0.52, 0.79, 0.75, 0.28,\n",
       "        0.55, 0.62, 1.  ],\n",
       "       [0.01, 0.53, 0.02, 0.95, 0.15, 0.03, 0.27, ..., 0.38, 0.24, 0.51, 0.11,\n",
       "        0.03, 0.09, 1.  ],\n",
       "       [0.07, 0.41, 0.02, 0.97, 0.05, 0.02, 0.32, ..., 0.76, 0.74, 0.84, 0.05,\n",
       "        0.27, 0.4 , 1.  ],\n",
       "       [0.05, 0.41, 0.11, 0.85, 0.23, 0.03, 0.32, ..., 0.2 , 0.23, 0.05, 0.09,\n",
       "        0.12, 0.01, 1.  ],\n",
       "       [0.02, 0.71, 0.17, 0.41, 0.72, 0.64, 0.41, ..., 0.55, 0.84, 0.75, 0.02,\n",
       "        0.24, 0.18, 1.  ],\n",
       "       [0.11, 0.52, 1.  , 0.15, 0.02, 0.01, 0.58, ..., 0.5 , 0.69, 0.71, 0.16,\n",
       "        0.12, 0.1 , 1.  ],\n",
       "       ...,\n",
       "       [0.  , 0.34, 0.01, 0.95, 0.06, 0.06, 0.4 , ..., 0.42, 0.56, 0.64, 0.01,\n",
       "        0.17, 0.05, 1.  ],\n",
       "       [0.04, 0.52, 0.02, 0.86, 0.29, 0.32, 0.37, ..., 0.71, 0.7 , 0.72, 0.02,\n",
       "        0.32, 0.56, 1.  ],\n",
       "       [0.06, 0.43, 0.02, 0.57, 1.  , 0.2 , 0.41, ..., 0.55, 0.73, 0.61, 0.03,\n",
       "        0.37, 0.1 , 1.  ],\n",
       "       [0.05, 0.32, 0.04, 0.94, 0.06, 0.03, 0.37, ..., 0.51, 0.69, 0.7 , 0.04,\n",
       "        0.27, 0.1 , 1.  ],\n",
       "       [0.02, 0.48, 0.23, 0.76, 0.18, 0.06, 0.28, ..., 0.76, 0.65, 0.6 , 0.01,\n",
       "        0.47, 0.98, 1.  ],\n",
       "       [0.01, 0.56, 0.09, 0.77, 0.52, 0.1 , 0.4 , ..., 0.09, 0.  , 0.  , 0.02,\n",
       "        0.19, 0.01, 1.  ],\n",
       "       [0.96, 0.32, 1.  , 0.  , 0.11, 0.1 , 0.39, ..., 0.57, 0.61, 0.33, 0.18,\n",
       "        0.83, 1.  , 1.  ]])"
      ]
     },
     "execution_count": 55,
     "metadata": {},
     "output_type": "execute_result"
    }
   ],
   "source": [
    "vs_train_communities_with_ones"
   ]
  },
  {
   "cell_type": "code",
   "execution_count": 56,
   "id": "d0a67855",
   "metadata": {},
   "outputs": [],
   "source": [
    "def optimalAlphaIdentification(vs_train_communities_with_ones, vs_target_train, model):\n",
    "    \"\"\"This function tunes for alpha\"\"\"\n",
    "    print('%s regression' %(model))\n",
    "    print('alpha\\t RMSE_train\\t RMSE_10cv\\n')\n",
    "\n",
    "    # 20 increments between 0.01 and 20 and we taking 50 steps in between.\n",
    "    alpha = np.linspace(.01, 20, 50)  \n",
    "    # declare training and cv rmse arrays because we are going to collect them over multiple tries of alpha. \n",
    "    t_rmse = np.array([])    \n",
    "    cv_rmse = np.array([])\n",
    "    \n",
    "    model_type = ['Lasso', 'Ridge']\n",
    "    n = 5\n",
    "    # tune for multiple values of the alpha parameter. \n",
    "    for a in alpha:     # for a in alpha, repeat all the steps we have done\n",
    "\n",
    "        if model_type[0] == model:\n",
    "            modelType = Lasso(alpha=a)\n",
    "            \n",
    "        elif model_type[1] == model:\n",
    "            modelType = Ridge(alpha=a)\n",
    "    \n",
    "        # computing the RMSE on training data\n",
    "        modelType.fit(vs_train_communities_with_ones, vs_target_train)\n",
    "    \n",
    "        p = modelType.predict(vs_train_communities_with_ones)\n",
    "    \n",
    "        err = p - vs_target_train\n",
    "    \n",
    "        total_error = np.dot(err,err)\n",
    "    \n",
    "        rmse_train = np.sqrt(total_error/len(p))\n",
    "    #     print(rmse_train)\n",
    "\n",
    "        kf = KFold(n_splits = 5)\n",
    "        kf.get_n_splits(vs_train_communities_with_ones)\n",
    " \n",
    "        KFold(n_splits = n, random_state = None, shuffle = False)\n",
    "\n",
    "        xval_err = 0\n",
    "    \n",
    "        # we derive the cross validation error for every fold. \n",
    "        for train, test in kf.split(vs_train_communities_with_ones):\n",
    "        \n",
    "            modelType.fit(vs_train_communities_with_ones[train], vs_target_train[train])\n",
    "        \n",
    "            p = modelType.predict(vs_train_communities_with_ones[test])\n",
    "        \n",
    "            err = p - vs_target_train[test]\n",
    "        \n",
    "        #         print(np.sqrt(np.dot(err,err)/len(vs_train_communities_with_ones[test])))\n",
    "        xval_err += np.sqrt(np.dot(err,err)/len(vs_train_communities_with_ones[test]))\n",
    "        \n",
    "        rmse_10cv = xval_err/n\n",
    "    \n",
    "        t_rmse = np.append(t_rmse, [rmse_train])\n",
    "        cv_rmse = np.append(cv_rmse, [rmse_10cv])\n",
    "        print('{:.3f}\\t {:.4f}\\t\\t {:.4f}'.format(a,rmse_train,rmse_10cv))\n",
    "    return alpha,t_rmse, cv_rmse"
   ]
  },
  {
   "cell_type": "code",
   "execution_count": 57,
   "id": "c0b2a42d",
   "metadata": {},
   "outputs": [
    {
     "name": "stdout",
     "output_type": "stream",
     "text": [
      "Ridge regression\n",
      "alpha\t RMSE_train\t RMSE_10cv\n",
      "\n",
      "0.010\t 0.1262\t\t 0.0286\n",
      "0.418\t 0.1268\t\t 0.0282\n",
      "0.826\t 0.1273\t\t 0.0282\n",
      "1.234\t 0.1276\t\t 0.0281\n",
      "1.642\t 0.1279\t\t 0.0281\n",
      "2.050\t 0.1281\t\t 0.0281\n",
      "2.458\t 0.1284\t\t 0.0281\n",
      "2.866\t 0.1286\t\t 0.0281\n",
      "3.274\t 0.1288\t\t 0.0281\n",
      "3.682\t 0.1289\t\t 0.0281\n",
      "4.090\t 0.1291\t\t 0.0281\n",
      "4.498\t 0.1292\t\t 0.0281\n",
      "4.906\t 0.1294\t\t 0.0281\n",
      "5.313\t 0.1295\t\t 0.0281\n",
      "5.721\t 0.1296\t\t 0.0281\n",
      "6.129\t 0.1297\t\t 0.0281\n",
      "6.537\t 0.1298\t\t 0.0281\n",
      "6.945\t 0.1299\t\t 0.0281\n",
      "7.353\t 0.1300\t\t 0.0281\n",
      "7.761\t 0.1301\t\t 0.0281\n",
      "8.169\t 0.1302\t\t 0.0281\n",
      "8.577\t 0.1303\t\t 0.0281\n",
      "8.985\t 0.1304\t\t 0.0281\n",
      "9.393\t 0.1305\t\t 0.0281\n",
      "9.801\t 0.1306\t\t 0.0281\n",
      "10.209\t 0.1306\t\t 0.0281\n",
      "10.617\t 0.1307\t\t 0.0281\n",
      "11.025\t 0.1308\t\t 0.0281\n",
      "11.433\t 0.1308\t\t 0.0281\n",
      "11.841\t 0.1309\t\t 0.0281\n",
      "12.249\t 0.1310\t\t 0.0281\n",
      "12.657\t 0.1310\t\t 0.0281\n",
      "13.065\t 0.1311\t\t 0.0282\n",
      "13.473\t 0.1312\t\t 0.0282\n",
      "13.881\t 0.1312\t\t 0.0282\n",
      "14.289\t 0.1313\t\t 0.0282\n",
      "14.697\t 0.1313\t\t 0.0282\n",
      "15.104\t 0.1314\t\t 0.0282\n",
      "15.512\t 0.1314\t\t 0.0282\n",
      "15.920\t 0.1315\t\t 0.0282\n",
      "16.328\t 0.1315\t\t 0.0282\n",
      "16.736\t 0.1316\t\t 0.0282\n",
      "17.144\t 0.1316\t\t 0.0282\n",
      "17.552\t 0.1317\t\t 0.0282\n",
      "17.960\t 0.1317\t\t 0.0282\n",
      "18.368\t 0.1318\t\t 0.0282\n",
      "18.776\t 0.1318\t\t 0.0282\n",
      "19.184\t 0.1319\t\t 0.0282\n",
      "19.592\t 0.1319\t\t 0.0282\n",
      "20.000\t 0.1320\t\t 0.0282\n"
     ]
    }
   ],
   "source": [
    "alpha, t_rmse, cv_rmse = optimalAlphaIdentification(vs_train_communities_with_ones, vs_target_train, 'Ridge')"
   ]
  },
  {
   "cell_type": "code",
   "execution_count": 58,
   "id": "e1fa2cbb",
   "metadata": {},
   "outputs": [
    {
     "name": "stdout",
     "output_type": "stream",
     "text": [
      "Lasso regression\n",
      "alpha\t RMSE_train\t RMSE_10cv\n",
      "\n",
      "0.010\t 0.1520\t\t 0.0321\n",
      "0.418\t 0.2312\t\t 0.0490\n",
      "0.826\t 0.2312\t\t 0.0490\n",
      "1.234\t 0.2312\t\t 0.0490\n",
      "1.642\t 0.2312\t\t 0.0490\n",
      "2.050\t 0.2312\t\t 0.0490\n",
      "2.458\t 0.2312\t\t 0.0490\n",
      "2.866\t 0.2312\t\t 0.0490\n",
      "3.274\t 0.2312\t\t 0.0490\n",
      "3.682\t 0.2312\t\t 0.0490\n",
      "4.090\t 0.2312\t\t 0.0490\n",
      "4.498\t 0.2312\t\t 0.0490\n",
      "4.906\t 0.2312\t\t 0.0490\n",
      "5.313\t 0.2312\t\t 0.0490\n",
      "5.721\t 0.2312\t\t 0.0490\n",
      "6.129\t 0.2312\t\t 0.0490\n",
      "6.537\t 0.2312\t\t 0.0490\n",
      "6.945\t 0.2312\t\t 0.0490\n",
      "7.353\t 0.2312\t\t 0.0490\n",
      "7.761\t 0.2312\t\t 0.0490\n",
      "8.169\t 0.2312\t\t 0.0490\n",
      "8.577\t 0.2312\t\t 0.0490\n",
      "8.985\t 0.2312\t\t 0.0490\n",
      "9.393\t 0.2312\t\t 0.0490\n",
      "9.801\t 0.2312\t\t 0.0490\n",
      "10.209\t 0.2312\t\t 0.0490\n",
      "10.617\t 0.2312\t\t 0.0490\n",
      "11.025\t 0.2312\t\t 0.0490\n",
      "11.433\t 0.2312\t\t 0.0490\n",
      "11.841\t 0.2312\t\t 0.0490\n",
      "12.249\t 0.2312\t\t 0.0490\n",
      "12.657\t 0.2312\t\t 0.0490\n",
      "13.065\t 0.2312\t\t 0.0490\n",
      "13.473\t 0.2312\t\t 0.0490\n",
      "13.881\t 0.2312\t\t 0.0490\n",
      "14.289\t 0.2312\t\t 0.0490\n",
      "14.697\t 0.2312\t\t 0.0490\n",
      "15.104\t 0.2312\t\t 0.0490\n",
      "15.512\t 0.2312\t\t 0.0490\n",
      "15.920\t 0.2312\t\t 0.0490\n",
      "16.328\t 0.2312\t\t 0.0490\n",
      "16.736\t 0.2312\t\t 0.0490\n",
      "17.144\t 0.2312\t\t 0.0490\n",
      "17.552\t 0.2312\t\t 0.0490\n",
      "17.960\t 0.2312\t\t 0.0490\n",
      "18.368\t 0.2312\t\t 0.0490\n",
      "18.776\t 0.2312\t\t 0.0490\n",
      "19.184\t 0.2312\t\t 0.0490\n",
      "19.592\t 0.2312\t\t 0.0490\n",
      "20.000\t 0.2312\t\t 0.0490\n"
     ]
    }
   ],
   "source": [
    "alphaL, t_rmseL, cv_rmseL = optimalAlphaIdentification(vs_train_communities_with_ones, vs_target_train, 'Lasso')"
   ]
  },
  {
   "cell_type": "code",
   "execution_count": 59,
   "id": "c5a16b7c",
   "metadata": {
    "scrolled": false
   },
   "outputs": [
    {
     "data": {
      "image/png": "[encoded data removed]",
      "text/plain": [
       "<Figure size 432x504 with 1 Axes>"
      ]
     },
     "metadata": {
      "needs_background": "light"
     },
     "output_type": "display_data"
    }
   ],
   "source": [
    "pl.figure(figsize = (6, 7))\n",
    "pl.plot(alpha, t_rmse, label ='Ridge_RMSE-Train')\n",
    "pl.plot(alpha, cv_rmse, label ='Ridge_RMSE_XVal')\n",
    "\n",
    "pl.legend(('Ridge_RMSE-Train', 'Ridge_RMSE_XVal'), bbox_to_anchor=(1.5, 0.5))\n",
    "pl.ylabel('RMSE')\n",
    "pl.xlabel('Alpha')\n",
    "pl.title('Ridge regression RMSE values on training\\nand cross-validation splits vs alpha ')\n",
    "pl.show()"
   ]
  },
  {
   "cell_type": "markdown",
   "id": "753539fa",
   "metadata": {},
   "source": [
    "<p>The RMSE for training is going up and the one for cross validation is decreasing from left to right so my best alpha will be 7.5.</p>"
   ]
  },
  {
   "cell_type": "code",
   "execution_count": 60,
   "id": "b943951b",
   "metadata": {
    "scrolled": false
   },
   "outputs": [
    {
     "data": {
      "image/png": "[encoded data removed]",
      "text/plain": [
       "<Figure size 432x504 with 1 Axes>"
      ]
     },
     "metadata": {
      "needs_background": "light"
     },
     "output_type": "display_data"
    }
   ],
   "source": [
    "pl.figure(figsize = (6, 7))\n",
    "\n",
    "pl.plot(alphaL, t_rmseL, label ='Lasso_RMSE-Train')\n",
    "pl.plot(alphaL, cv_rmseL, label ='Lasso_RMSE_XVal')\n",
    "\n",
    "pl.legend(('Lasso_RMSE-Train', 'Lasso_RMSE_XVal'), bbox_to_anchor=(1.5, 0.5))\n",
    "pl.ylabel('RMSE')\n",
    "pl.xlabel('Alpha')\n",
    "pl.title('Lasso regression RMSE values on training\\nand cross-validation splits vs alpha ')\n",
    "pl.show()"
   ]
  },
  {
   "cell_type": "markdown",
   "id": "2b0ef867",
   "metadata": {},
   "source": [
    "<p>Both the RMSE training and cross-validation are increase from left to right then suddenly just become constant so the best aplha will be 0.4.</p>"
   ]
  },
  {
   "cell_type": "markdown",
   "id": "9a256466",
   "metadata": {},
   "source": [
    "### Training the model on the full training data and evaluating it on the set-aside test data."
   ]
  },
  {
   "cell_type": "markdown",
   "id": "66fb7757",
   "metadata": {},
   "source": [
    "#### A versatile function to measure performance of a model:"
   ]
  },
  {
   "cell_type": "code",
   "execution_count": 61,
   "id": "2c9ce295",
   "metadata": {},
   "outputs": [],
   "source": [
    "from sklearn import metrics\n",
    "\n",
    "def measure_performance(X, y, modelType):\n",
    "    y_pred = modelType.predict(X)   \n",
    "    mae = metrics.mean_absolute_error(y, y_pred)\n",
    "    \n",
    "    r2Value = metrics.r2_score(y, y_pred)\n",
    "    return mae, r2Value"
   ]
  },
  {
   "cell_type": "code",
   "execution_count": 62,
   "id": "f8d937d8",
   "metadata": {},
   "outputs": [],
   "source": [
    "from sklearn import metrics\n",
    "\n",
    "def measurePerformance(X, y, modelType):\n",
    "    y_pred = modelType.predict(X)   \n",
    "    mae = metrics.mean_absolute_error(y, y_pred)\n",
    "    \n",
    "    \n",
    "    return mae, "
   ]
  },
  {
   "cell_type": "markdown",
   "id": "3c23065f",
   "metadata": {},
   "source": [
    "#### using ridge regression:"
   ]
  },
  {
   "cell_type": "code",
   "execution_count": 63,
   "id": "40674d43",
   "metadata": {},
   "outputs": [
    {
     "data": {
      "text/plain": [
       "Ridge(alpha=7.5)"
      ]
     },
     "execution_count": 63,
     "metadata": {},
     "output_type": "execute_result"
    }
   ],
   "source": [
    "# Using alpha  = 7.5\n",
    "# create a linear regression object with a ridge regression  coefficient 7.5\n",
    "ridge = Ridge(fit_intercept = True, alpha = 7.5)\n",
    "ridge.fit(vs_train_communities_with_ones, vs_target_train)"
   ]
  },
  {
   "cell_type": "code",
   "execution_count": 64,
   "id": "7bc331e8",
   "metadata": {},
   "outputs": [
    {
     "data": {
      "text/plain": [
       "(399, 98)"
      ]
     },
     "execution_count": 64,
     "metadata": {},
     "output_type": "execute_result"
    }
   ],
   "source": [
    "# convert the test data set into a numpy array  and add a column with 1 value to each row of the array\n",
    "vs_testcommunities = np.array(vs_test_communities)\n",
    "vs_test_communities_with_ones = np.array([np.concatenate((v, [1])) for v in vs_testcommunities])\n",
    "vs_test_communities_with_ones.shape"
   ]
  },
  {
   "cell_type": "code",
   "execution_count": 65,
   "id": "cff1ad85",
   "metadata": {},
   "outputs": [
    {
     "data": {
      "text/plain": [
       "(399,)"
      ]
     },
     "execution_count": 65,
     "metadata": {},
     "output_type": "execute_result"
    }
   ],
   "source": [
    "# convert the vs_target_test into a numpy array\n",
    "vs_targetTest = np.array(vs_target_test)\n",
    "vs_targetTest.shape"
   ]
  },
  {
   "cell_type": "markdown",
   "id": "a7e69f9f",
   "metadata": {},
   "source": [
    "#### Evaluating the model on the set-aside test data. "
   ]
  },
  {
   "cell_type": "code",
   "execution_count": 66,
   "id": "22f4c4cc",
   "metadata": {},
   "outputs": [
    {
     "name": "stdout",
     "output_type": "stream",
     "text": [
      "RMSE on the training data set: 0.1262\n",
      "RMSE on the testing data set: 0.1451\n"
     ]
    }
   ],
   "source": [
    "yHat = ridge.predict(vs_test_communities_with_ones)\n",
    "error = yHat - vs_targetTest\n",
    "total_error = np.dot(error, error)\n",
    "rmse_test = np.sqrt(total_error/len(yHat))\n",
    "print('RMSE on the training data set: %.4f' %rmseTrain)\n",
    "print('RMSE on the testing data set: %.4f' %rmse_test)"
   ]
  },
  {
   "cell_type": "code",
   "execution_count": 67,
   "id": "9b0b4b59",
   "metadata": {},
   "outputs": [
    {
     "name": "stdout",
     "output_type": "stream",
     "text": [
      "The Mean Absolute Error for the testing set is: 0.1013\n",
      "The coefficient of determination on testing is: 0.6329\n"
     ]
    }
   ],
   "source": [
    "# measuring the performance of a model on the testing set\n",
    "model_MAE, RSquared =  measure_performance(vs_test_communities_with_ones, vs_targetTest, ridge)\n",
    "print('The Mean Absolute Error for the testing set is: %.4f' %model_MAE)\n",
    "print('The coefficient of determination on testing is: %.4f' %RSquared)"
   ]
  },
  {
   "cell_type": "code",
   "execution_count": 68,
   "id": "adf1528e",
   "metadata": {},
   "outputs": [
    {
     "name": "stdout",
     "output_type": "stream",
     "text": [
      "The Mean Absolute Error for the training set is: 0.0904\n",
      "The coefficient of determination on the training set is: 0.6834\n"
     ]
    }
   ],
   "source": [
    "# measuring the performance of a model on the training set\n",
    "model_MAE, RSquared =  measure_performance(vs_train_communities_with_ones, vs_target_train, ridge)\n",
    "print('The Mean Absolute Error for the training set is: %.4f' %model_MAE)\n",
    "print('The coefficient of determination on the training set is: %.4f' %RSquared)"
   ]
  },
  {
   "cell_type": "markdown",
   "id": "680872be",
   "metadata": {},
   "source": [
    "<p>Looking at the Mean Absolute Error (MAE) for both training and testing, the MAE for testing is greater than one for training. This means that it added bias into our estimations, giving us a better estimate with the set-aside test data and the variation in error is about 0.1 units. Ideally the MAE should be equal to zero, which is never the case.</p>\n",
    "<p>Also, based on the coefficient of determination we can interprete that 63% of the model predictions are correct. To improve on this model we need to treat outliers, carryout feature engineering. We also need to get more data since our model over fits on training data set with the coefficient of determination of 68%.</p>"
   ]
  },
  {
   "cell_type": "code",
   "execution_count": 69,
   "id": "c99e6288",
   "metadata": {},
   "outputs": [
    {
     "data": {
      "image/png": "[encoded data removed]",
      "text/plain": [
       "<Figure size 432x576 with 1 Axes>"
      ]
     },
     "metadata": {
      "needs_background": "light"
     },
     "output_type": "display_data"
    }
   ],
   "source": [
    "pl.figure(figsize = (6, 8))\n",
    "pl.plot(yHat, vs_targetTest, 'ro')\n",
    "pl.plot([0,1.0],[0,1.0], 'g-')\n",
    "pl.xlabel('predicted')\n",
    "pl.ylabel('Actual')\n",
    "pl.title('Predicted Vs Actual after applying Ridge Regression')\n",
    "pl.show()"
   ]
  },
  {
   "cell_type": "markdown",
   "id": "c2946053",
   "metadata": {},
   "source": [
    "<p>After applying ridge regression, which deals with the problem of having more features than data points, we use a lambda value or aplha that imposes a maximum value on the sum of all our weights and this decreases the un important features.</p>\n",
    "<p>We can easily understand our data since most of the features will be decreased as it is defined in the chat above with less points between 0.4 and 1; most points are clustered around the line between 0.0 and 0.4.</p>\n",
    "<p>Since the model is experiencing too much bias, such as underfitting, we might need to add polynomial terms and perform an outlier analysis.</p>"
   ]
  },
  {
   "cell_type": "markdown",
   "id": "c88d7b5b",
   "metadata": {},
   "source": [
    "#### using Lasso regression:"
   ]
  },
  {
   "cell_type": "code",
   "execution_count": 70,
   "id": "c6d9bd75",
   "metadata": {},
   "outputs": [
    {
     "data": {
      "text/plain": [
       "Lasso(alpha=0.4)"
      ]
     },
     "execution_count": 70,
     "metadata": {},
     "output_type": "execute_result"
    }
   ],
   "source": [
    "# Using the alpha of 5.0 for Lasso\n",
    "lasso = Lasso(fit_intercept = True, alpha = 0.4)\n",
    "lasso.fit(vs_train_communities_with_ones, vs_target_train)"
   ]
  },
  {
   "cell_type": "markdown",
   "id": "71858724",
   "metadata": {},
   "source": [
    "#### Evaluating the Lasso model on the set-aside test data. "
   ]
  },
  {
   "cell_type": "code",
   "execution_count": 71,
   "id": "7d2e44e3",
   "metadata": {},
   "outputs": [
    {
     "name": "stdout",
     "output_type": "stream",
     "text": [
      "RMSE on the training data set: 0.1262\n",
      "RMSE on the testing data set: 0.2399\n"
     ]
    }
   ],
   "source": [
    "yHat = lasso.predict(vs_test_communities_with_ones)\n",
    "error = yHat - vs_targetTest\n",
    "total_error = np.dot(error, error)\n",
    "rmse_test = np.sqrt(total_error/len(yHat))\n",
    "print('RMSE on the training data set: %.4f' %rmseTrain)\n",
    "print('RMSE on the testing data set: %.4f' %rmse_test)"
   ]
  },
  {
   "cell_type": "code",
   "execution_count": 72,
   "id": "51af5bc9",
   "metadata": {},
   "outputs": [
    {
     "name": "stdout",
     "output_type": "stream",
     "text": [
      "The Mean Absolute Error for the testing set is: 0.1807\n",
      "The coefficient of determination on testing is: -0.0044\n"
     ]
    }
   ],
   "source": [
    "# measuring the performance of a model on the testing set\n",
    "model_MAE, RSquared =  measure_performance(vs_test_communities_with_ones, vs_targetTest, lasso)\n",
    "print('The Mean Absolute Error for the testing set is: %.4f' %model_MAE)\n",
    "print('The coefficient of determination on testing is: %.4f' %RSquared)"
   ]
  },
  {
   "cell_type": "markdown",
   "id": "da8b8e29",
   "metadata": {},
   "source": [
    "<p>Lasso regression has a negative coefficient of determination, which means that the model fits the data worse than a horizontal hyper plane and its absolute error is 0.18 greater than that of Ridge regression on the testing data set. Since we always want our RMSE and MAE close to 0, Lasso regression performs poorly than Ridge regression.</p>"
   ]
  },
  {
   "cell_type": "code",
   "execution_count": 73,
   "id": "3a74a628",
   "metadata": {},
   "outputs": [
    {
     "data": {
      "image/png": "[encoded data removed]",
      "text/plain": [
       "<Figure size 432x576 with 1 Axes>"
      ]
     },
     "metadata": {
      "needs_background": "light"
     },
     "output_type": "display_data"
    }
   ],
   "source": [
    "pl.figure(figsize = (6, 8))\n",
    "pl.plot(yHat, vs_targetTest, 'ro')\n",
    "pl.plot([0,1.0],[0,1.0], 'g-')\n",
    "pl.xlabel('predicted')\n",
    "pl.ylabel('Actual')\n",
    "pl.title('Predicted Vs Actual after applying Lasso Regression')\n",
    "pl.show()"
   ]
  },
  {
   "cell_type": "markdown",
   "id": "f7bcef15",
   "metadata": {},
   "source": [
    "<p>As shown above in the chat, Lasso performs poorly than Ridge regression.</p>"
   ]
  },
  {
   "cell_type": "markdown",
   "id": "4de9f723",
   "metadata": {},
   "source": [
    "##### e. Next, perform regression using Stochastic Gradient Descent for regression. For this part, you should use the SGDRegessor module from sklearn.linear_model. Again, start by a creating randomized 80%-20% train-test split. SGDRegessor requires that features be standardized (with 0 mean and scaled by standard deviation). Prior to fiting the model, perform the scaling using StandardScaler from sklearn.preprocessing. For this problem, perform a grid search (using GridSearchCV from sklearn.grid_search) Your grid search should compare combinations of two penalty parameters ('l2', 'l1') and different values of alpha (alpha could vary from 0.0001 which is the default to relatively large values, say 10). Using the best parameters, apply the model to the set-aside test data. Finally, perform model selection (similar to part d, above) to find the best \"l1_ratio\" parameter using SGDRegressor with  the \"elasticnet\" penalty parameter. [Note: \"l1_ratio\" is The Elastic Net mixing parameter, with 0 <= l1_ratio <= 1;  l1_ratio=0 corresponds to L2 penalty, l1_ratio=1 to L1 penalty; defaults to 0.15.] Using the best mixing ratio, apply the Elastic Net model to the set-aside test data. Provide a summary of your findings from the above experiments."
   ]
  },
  {
   "cell_type": "markdown",
   "id": "95312517",
   "metadata": {},
   "source": [
    "##### Since we already created a randomized 80%-20% test split of our data set, that is what we shall be using."
   ]
  },
  {
   "cell_type": "markdown",
   "id": "63524562",
   "metadata": {},
   "source": [
    "##### SGD is very senstitive to varying-sized feature values. So, first we need to do feature scaling."
   ]
  },
  {
   "cell_type": "code",
   "execution_count": 74,
   "id": "111e93ad",
   "metadata": {},
   "outputs": [],
   "source": [
    "from sklearn.preprocessing import StandardScaler\n",
    "\n",
    "# This is the StandardScaler scaler\n",
    "scaler = StandardScaler()\n",
    "scaler.fit(vs_train_communities_with_ones)\n",
    "\n",
    "# we apply it to training set so that the data is further normalized and standardized\n",
    "vs_train_communities_s  = scaler.transform(vs_train_communities_with_ones)\n",
    "# vs_target_train_s = scaler.transform(vs_target_train) Do we have to normalize the target \n",
    "vstestCommunities_s = scaler.transform(vs_test_communities_with_ones)\n",
    "\n",
    "# print(vs_train_communities_s)\n",
    "\n",
    "# vs_train_communities_s.shape # (1595, 98)"
   ]
  },
  {
   "cell_type": "code",
   "execution_count": 75,
   "id": "d8934675",
   "metadata": {
    "scrolled": true
   },
   "outputs": [
    {
     "name": "stdout",
     "output_type": "stream",
     "text": [
      "Method: Stochastic Gradient Descent Regression\n",
      "RMSE on training: 0.1393\n",
      "RMSE on 10-fold CV: 0.1384\n"
     ]
    }
   ],
   "source": [
    "# you call it just like the previous models. \n",
    "# we can tell it to either use L1 or L2 norm depending on what we are trying to minimise.\n",
    "sgdRegModel = SGDRegressor(penalty='l2', alpha=0.25, max_iter=250) \n",
    "\n",
    "# Compute RMSE on training data\n",
    "sgdRegModel.fit(vs_train_communities_s,vs_target_train)                   # train the model on the training sets  \n",
    "yHat = sgdRegModel.predict(vs_train_communities_s)                        # predict on the training set, which we call yHat\n",
    "error = abs(yHat - vs_target_train)                                       # you take the absolute value of the difference, wich is your error and that is the term you are going to square\n",
    "total_error = np.dot(error,error)\n",
    "\n",
    "# compute the square root of the total error and divide that by the length of p (number of points) and gives you the average RMSE.\n",
    "rmse_train = np.sqrt(total_error/len(yHat))\n",
    "\n",
    "# Compute RMSE using 10-fold x-validation\n",
    "\n",
    "kf = KFold(n_splits=10)\n",
    "kf.get_n_splits(vs_train_communities_with_ones)\n",
    "\n",
    "KFold(n_splits=n,random_state=None, shuffle=False)\n",
    "    \n",
    "xval_err = 0\n",
    "\n",
    "for train,test in kf.split(vs_train_communities_with_ones):\n",
    "    scaler = StandardScaler()\n",
    "    scaler.fit(vs_train_communities_with_ones[train])  # Don't cheat - fit only on training data\n",
    "    \n",
    "    vs_train_communities_s = scaler.transform(vs_train_communities_with_ones[train])\n",
    "    \n",
    "    # apply same transformation to test data\n",
    "    vs_test_communities_s = scaler.transform(vs_train_communities_with_ones[test])    \n",
    "    \n",
    "    sgdRegModel.fit(vs_train_communities_s, vs_target_train[train])  # train the model on the training sets\n",
    "    \n",
    "    yHat = sgdRegModel.predict(vs_test_communities_s) # predict on the training set, which we call yHat\n",
    "    \n",
    "    error = yHat - vs_target_train[test] # you take the absolute value of the difference, wich is your error and that is the term you are going to square\n",
    "    xval_err += np.dot(error, error)\n",
    "rmse_10cv = np.sqrt(xval_err/len(vs_train_communities_with_ones))\n",
    "\n",
    "method_name = 'Stochastic Gradient Descent Regression'\n",
    "print('Method: %s' %method_name)\n",
    "print('RMSE on training: %.4f' %rmse_train)\n",
    "print('RMSE on 10-fold CV: %.4f' %rmse_10cv)"
   ]
  },
  {
   "cell_type": "markdown",
   "id": "aa745c5d",
   "metadata": {},
   "source": [
    "#### Performing a grid search (using GridSearchCV from sklearn.grid_search) Our grid search is going to combinations of two penalty parameters ('l2', 'l1') and different values of alpha (alpha could vary from 0.0001 which is the default to relatively large values, say 10)."
   ]
  },
  {
   "cell_type": "code",
   "execution_count": 76,
   "id": "f30ddd9d",
   "metadata": {},
   "outputs": [],
   "source": [
    "alphaValues = np.linspace(0.0001, 10, 50)"
   ]
  },
  {
   "cell_type": "code",
   "execution_count": 77,
   "id": "9be3c3f8",
   "metadata": {},
   "outputs": [],
   "source": [
    "import math\n",
    "from sklearn.model_selection import GridSearchCV\n",
    "from sklearn.linear_model import SGDRegressor\n",
    "\n",
    "alphaValues = np.linspace(0.0001, 10, 50)\n",
    "parameters = {'penalty': ['l2', 'l1'], 'alpha': alphaValues}\n",
    "\n",
    "gsComparison = GridSearchCV(SGDRegressor(), param_grid = parameters, verbose = 1)\n"
   ]
  },
  {
   "cell_type": "code",
   "execution_count": 78,
   "id": "88168022",
   "metadata": {},
   "outputs": [
    {
     "name": "stdout",
     "output_type": "stream",
     "text": [
      "Wall time: 0 ns\n",
      "Fitting 5 folds for each of 100 candidates, totalling 500 fits\n"
     ]
    },
    {
     "data": {
      "text/plain": [
       "GridSearchCV(estimator=SGDRegressor(),\n",
       "             param_grid={'alpha': array([ 0.  ,  0.2 ,  0.41,  0.61,  0.82,  1.02,  1.22,  1.43,  1.63,  1.84,\n",
       "        2.04,  2.24,  2.45,  2.65,  2.86,  3.06,  3.27,  3.47,  3.67,  3.88,\n",
       "        4.08,  4.29,  4.49,  4.69,  4.9 ,  5.1 ,  5.31,  5.51,  5.71,  5.92,\n",
       "        6.12,  6.33,  6.53,  6.73,  6.94,  7.14,  7.35,  7.55,  7.76,  7.96,\n",
       "        8.16,  8.37,  8.57,  8.78,  8.98,  9.18,  9.39,  9.59,  9.8 , 10.  ]),\n",
       "                         'penalty': ['l2', 'l1']},\n",
       "             verbose=1)"
      ]
     },
     "execution_count": 78,
     "metadata": {},
     "output_type": "execute_result"
    }
   ],
   "source": [
    "%time\n",
    "gsComparison.fit(vs_train_communities_with_ones, vs_target_train)"
   ]
  },
  {
   "cell_type": "code",
   "execution_count": 79,
   "id": "82a96614",
   "metadata": {},
   "outputs": [
    {
     "name": "stdout",
     "output_type": "stream",
     "text": [
      "The best parameter after fitting 5 folds for each of 100 points is {'alpha': 0.0001, 'penalty': 'l2'}\n",
      "The best score after fitting 5 folds for each of 100 points is 0.6409\n"
     ]
    }
   ],
   "source": [
    "print('The best parameter after fitting 5 folds for each of 100 points is %s' %gsComparison.best_params_)\n",
    "print('The best score after fitting 5 folds for each of 100 points is %.4f' %gsComparison.best_score_)"
   ]
  },
  {
   "cell_type": "markdown",
   "id": "2312558e",
   "metadata": {},
   "source": [
    "### Applying the model to the test aside test data. "
   ]
  },
  {
   "cell_type": "code",
   "execution_count": 80,
   "id": "5b936a95",
   "metadata": {},
   "outputs": [
    {
     "name": "stdout",
     "output_type": "stream",
     "text": [
      "Wall time: 0 ns\n"
     ]
    }
   ],
   "source": [
    "%time\n",
    "sgdRegModel = SGDRegressor(penalty='l2', alpha=0.0001, max_iter=500)\n",
    "\n",
    "# we fit the model on training data\n",
    "sgdRegModel.fit(vs_train_communities_with_ones, vs_target_train)\n",
    "\n",
    "yHat = sgdRegModel.predict(vstestCommunities_s)"
   ]
  },
  {
   "cell_type": "code",
   "execution_count": 81,
   "id": "c9620655",
   "metadata": {},
   "outputs": [
    {
     "name": "stdout",
     "output_type": "stream",
     "text": [
      "The R-squared on the training set is 0.6522\n"
     ]
    }
   ],
   "source": [
    "score = sgdRegModel.score(vs_train_communities_with_ones, vs_target_train)\n",
    "print('The R-squared on the training set is %.4f' %score)"
   ]
  },
  {
   "cell_type": "code",
   "execution_count": 82,
   "id": "1f911032",
   "metadata": {},
   "outputs": [
    {
     "name": "stdout",
     "output_type": "stream",
     "text": [
      "The R-squared on the testing set is 0.6197\n"
     ]
    }
   ],
   "source": [
    "score = sgdRegModel.score(vs_test_communities_with_ones, np.array(vs_target_test))\n",
    "print('The R-squared on the testing set is %.4f' %score)"
   ]
  },
  {
   "cell_type": "code",
   "execution_count": 83,
   "id": "52c33749",
   "metadata": {},
   "outputs": [
    {
     "name": "stdout",
     "output_type": "stream",
     "text": [
      "Cross Validation mean score:  0.6340814141974424\n"
     ]
    }
   ],
   "source": [
    "###### let's apply crosss validation to the model and check the training accruracy\n",
    "cv_score = model_selection.cross_val_score(sgdRegModel, vs_train_communities_with_ones, vs_target_train, cv = 10)\n",
    "print('Cross Validation mean score: ', cv_score.mean())"
   ]
  },
  {
   "cell_type": "code",
   "execution_count": 84,
   "id": "8b975215",
   "metadata": {},
   "outputs": [
    {
     "name": "stdout",
     "output_type": "stream",
     "text": [
      "The root mean square error on testing is 0.8112\n"
     ]
    }
   ],
   "source": [
    "from sklearn.metrics import mean_squared_error\n",
    "mse = mean_squared_error(np.array(vs_target_test), yHat)\n",
    "rmse = math.sqrt(mse)\n",
    "print('The root mean square error on testing is %.4f' %rmse)"
   ]
  },
  {
   "cell_type": "markdown",
   "id": "b70a8f8b",
   "metadata": {},
   "source": [
    "<p>Using the SDGRegressor with the l2 penalty shows that our model is going to overfit on the training data since R-Squared on training is greater than R-squared on testing which means that our model is able to predict more on training than testing. </p>\n",
    "<p>Also, the model has a high RMSE error of 0.8 and we need this to be close to zero for a perfect model which raise the need to do feature selection, get more data and also remove outlliers.</p>"
   ]
  },
  {
   "cell_type": "code",
   "execution_count": 85,
   "id": "538cb8b3",
   "metadata": {},
   "outputs": [],
   "source": [
    "from sklearn.preprocessing import StandardScaler\n",
    "\n",
    "def evaluateBestRatio(num, l1Ratio):\n",
    "    # This is the StandardScaler scaler\n",
    "    scaler = StandardScaler()\n",
    "    scaler.fit(vs_train_communities_with_ones)\n",
    "\n",
    "    # we apply it to training set so that the data is further normalized and standardized\n",
    "    vs_train_communities_s  = scaler.transform(vs_train_communities_with_ones)\n",
    "    # vs_target_train_s = scaler.transform(vs_target_train) Do we have to normalize the target \n",
    "    vstestCommunities_s = scaler.transform(vs_test_communities_with_ones)\n",
    "\n",
    "    # print(vs_train_communities_s)\n",
    "\n",
    "    # vs_train_communities_s.shape # (1595, 98)\n",
    "\n",
    "    # you call it just like the previous models. \n",
    "    # we can tell it to either use L1 or L2 norm depending on what we are trying to minimise.\n",
    "    sgdRegModel = SGDRegressor(penalty='elasticnet', alpha=num, l1_ratio = l1Ratio, max_iter=300) \n",
    "\n",
    "    # Compute RMSE on training data\n",
    "    sgdRegModel.fit(vs_train_communities_s,vs_target_train)                   # train the model on the training sets  \n",
    "    yHat = sgdRegModel.predict(vs_train_communities_s)                        # predict on the training set, which we call yHat\n",
    "    error = abs(yHat - vs_target_train)                                       # you take the absolute value of the difference, wich is your error and that is the term you are going to square\n",
    "    total_error = np.dot(error,error)\n",
    "\n",
    "    # compute the square root of the total error and divide that by the length of p (number of points) and gives you the average RMSE.\n",
    "    rmse_train = np.sqrt(total_error/len(yHat))\n",
    "\n",
    "    # Compute RMSE using 10-fold x-validation\n",
    "\n",
    "    kf = KFold(n_splits=10)\n",
    "    kf.get_n_splits(vs_train_communities_with_ones)\n",
    "\n",
    "    KFold(n_splits=n,random_state=None, shuffle=False)\n",
    "\n",
    "    xval_err = 0\n",
    "\n",
    "    for train,test in kf.split(vs_train_communities_with_ones):\n",
    "        scaler = StandardScaler()\n",
    "        scaler.fit(vs_train_communities_with_ones[train])  # Don't cheat - fit only on training data\n",
    "\n",
    "        vs_train_communities_s = scaler.transform(vs_train_communities_with_ones[train])\n",
    "\n",
    "        # apply same transformation to test data\n",
    "        vs_test_communities_s = scaler.transform(vs_train_communities_with_ones[test])    \n",
    "\n",
    "        sgdRegModel.fit(vs_train_communities_s, vs_target_train[train])  # train the model on the training sets\n",
    "\n",
    "        yHat = sgdRegModel.predict(vs_test_communities_s) # predict on the training set, which we call yHat\n",
    "\n",
    "        error = yHat - vs_target_train[test] # you take the absolute value of the difference, wich is your error and that is the term you are going to square\n",
    "        xval_err += np.dot(error, error)\n",
    "    rmse_10cv = np.sqrt(xval_err/len(vs_train_communities_with_ones))\n",
    "\n",
    "    method_name = 'Stochastic Gradient Descent Regression'\n",
    "    print('Method: %s' %method_name)\n",
    "    print('RMSE on training: %.4f' %rmse_train)\n",
    "    print('RMSE on 10-fold CV: %.4f' %rmse_10cv)\n",
    "    \n",
    "#     return sgdRegModel"
   ]
  },
  {
   "cell_type": "code",
   "execution_count": 86,
   "id": "d438b1b6",
   "metadata": {},
   "outputs": [
    {
     "name": "stdout",
     "output_type": "stream",
     "text": [
      "Method: Stochastic Gradient Descent Regression\n",
      "RMSE on training: 0.1326\n",
      "RMSE on 10-fold CV: 0.1352\n"
     ]
    }
   ],
   "source": [
    "# Evaluation of the best l1_ratio = 0\n",
    "evaluateBestRatio(0.0001, 0)"
   ]
  },
  {
   "cell_type": "code",
   "execution_count": 87,
   "id": "34d8a55d",
   "metadata": {},
   "outputs": [
    {
     "name": "stdout",
     "output_type": "stream",
     "text": [
      "Method: Stochastic Gradient Descent Regression\n",
      "RMSE on training: 0.1311\n",
      "RMSE on 10-fold CV: 0.1365\n"
     ]
    }
   ],
   "source": [
    "# Evaluation of the best l1_ratio = 0.5\n",
    "evaluateBestRatio(0.0001, 0)"
   ]
  },
  {
   "cell_type": "code",
   "execution_count": 88,
   "id": "d4b040c2",
   "metadata": {},
   "outputs": [
    {
     "name": "stdout",
     "output_type": "stream",
     "text": [
      "Method: Stochastic Gradient Descent Regression\n",
      "RMSE on training: 0.1302\n",
      "RMSE on 10-fold CV: 0.1359\n"
     ]
    }
   ],
   "source": [
    "# Evaluation of the best l1_ratio = 1\n",
    "evaluateBestRatio(0.0001, 0)"
   ]
  },
  {
   "cell_type": "markdown",
   "id": "17676017",
   "metadata": {},
   "source": [
    "### Applying the Elastic Net model to the set-aside test data"
   ]
  },
  {
   "cell_type": "code",
   "execution_count": 89,
   "id": "4a1d394f",
   "metadata": {},
   "outputs": [
    {
     "data": {
      "text/plain": [
       "ElasticNet(alpha=0.001, l1_ratio=1, max_iter=500)"
      ]
     },
     "execution_count": 89,
     "metadata": {},
     "output_type": "execute_result"
    }
   ],
   "source": [
    "from sklearn.linear_model import ElasticNet\n",
    "scaler = StandardScaler()\n",
    "scaler.fit(vs_train_communities_with_ones)\n",
    "\n",
    "# we apply it to training set so that the data is further normalized and standardized\n",
    "vs_train_communities_s  = scaler.transform(vs_train_communities_with_ones)\n",
    "\n",
    "vs_test_communities_S = scaler.transform(vs_test_communities_with_ones)\n",
    "\n",
    "elastic_net_m = ElasticNet(alpha = 0.001, l1_ratio = 1, max_iter = 500)\n",
    "elastic_net_m.fit(vs_train_communities_s,vs_target_train) "
   ]
  },
  {
   "cell_type": "code",
   "execution_count": 90,
   "id": "66ebdea0",
   "metadata": {},
   "outputs": [
    {
     "name": "stdout",
     "output_type": "stream",
     "text": [
      "The Mean Absolute Error for the testing set is: 0.1005\n",
      "The coefficient of determination on testing is: 0.6382\n"
     ]
    }
   ],
   "source": [
    "# measuring the performance of a model on the testing set\n",
    "model_MAE, RSquared =  measure_performance(vs_test_communities_S, vs_targetTest, elastic_net_m)\n",
    "print('The Mean Absolute Error for the testing set is: %.4f' %model_MAE)\n",
    "print('The coefficient of determination on testing is: %.4f' %RSquared)"
   ]
  },
  {
   "cell_type": "markdown",
   "id": "78647fcc",
   "metadata": {},
   "source": [
    "<p>The Mean Absolute Error and the coefficient of determination is the same in both Ridge and Elastic Net model regression.</p>"
   ]
  },
  {
   "cell_type": "code",
   "execution_count": 91,
   "id": "066145ab",
   "metadata": {},
   "outputs": [
    {
     "name": "stdout",
     "output_type": "stream",
     "text": [
      "The explained variance score in elastic regression is: 0.6400\n"
     ]
    }
   ],
   "source": [
    "from sklearn.metrics import explained_variance_score\n",
    "#def measure_performance(X, y, modelType):\n",
    "y_pred = elastic_net_m.predict(vs_test_communities_S)   \n",
    "ev_score = explained_variance_score(vs_targetTest, y_pred)\n",
    "print('The explained variance score in elastic regression is: %.4f' %ev_score) "
   ]
  },
  {
   "cell_type": "markdown",
   "id": "08773d35",
   "metadata": {},
   "source": [
    "<p>Based on the metrics, Elastic regression has a explained variance score of 0.64, which is a descent score and R-squared is 63 percent meaning that 63 percent of the variability of the target variables have been accounted for and the mean absolute error for testing is close to one.</p>\n",
    "<p>Because of the mentioned reasons, Elastic regression out performs ridge and Stochastic Gradient Descent.</p>"
   ]
  },
  {
   "cell_type": "code",
   "execution_count": 92,
   "id": "6c9383eb",
   "metadata": {},
   "outputs": [],
   "source": [
    "# from sklearn.metrics import explained_variance_score\n",
    "# #def measure_performance(X, y, modelType):\n",
    "# y_pred = lasso.predict(vs_test_communities_with_ones)   \n",
    "# ev_score = explained_variance_score(vs_targetTest, y_pred)\n",
    "# print('The explained variance score in lasso regression is: %.4f' %ev_score) "
   ]
  },
  {
   "cell_type": "code",
   "execution_count": 93,
   "id": "41e32fa2",
   "metadata": {},
   "outputs": [],
   "source": [
    "# from sklearn.metrics import explained_variance_score\n",
    "# #def measure_performance(X, y, modelType):\n",
    "# y_pred = ridge.predict(vs_test_communities_with_ones)   \n",
    "# ev_score = explained_variance_score(vs_targetTest, y_pred)\n",
    "# print('The explained variance score in ridge regression is: %.4f' %ev_score) "
   ]
  },
  {
   "cell_type": "code",
   "execution_count": null,
   "id": "5d3a019c",
   "metadata": {},
   "outputs": [],
   "source": []
  }
 ],
 "metadata": {
  "kernelspec": {
   "display_name": "cmdpy37",
   "language": "python",
   "name": "cmdpy37"
  },
  "language_info": {
   "codemirror_mode": {
    "name": "ipython",
    "version": 3
   },
   "file_extension": ".py",
   "mimetype": "text/x-python",
   "name": "python",
   "nbconvert_exporter": "python",
   "pygments_lexer": "ipython3",
   "version": "3.7.11"
  }
 },
 "nbformat": 4,
 "nbformat_minor": 5
}
