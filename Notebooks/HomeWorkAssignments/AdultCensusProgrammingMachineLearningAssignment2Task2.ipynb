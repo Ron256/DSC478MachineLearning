{
 "cells": [
  {
   "cell_type": "code",
   "execution_count": 1,
   "id": "d896a9f4",
   "metadata": {},
   "outputs": [],
   "source": [
    "#### import all the necessary python packages for this assignment"
   ]
  },
  {
   "cell_type": "code",
   "execution_count": 2,
   "id": "7617dc1a",
   "metadata": {},
   "outputs": [],
   "source": [
    "import pandas as pd\n",
    "import numpy as np\n",
    "import matplotlib.pyplot as plt\n",
    "from sklearn.model_selection import train_test_split  \n",
    "from sklearn import preprocessing \n",
    "from sklearn import neighbors, tree, naive_bayes\n",
    "from sklearn.metrics import confusion_matrix       # for confusion matrix\n",
    "from sklearn.metrics import classification_report  # to evaluate accuracy\n",
    "import graphviz\n",
    "from sklearn.tree import export_graphviz\n",
    "from sklearn import model_selection                # for crosss validation\n",
    "from sklearn.discriminant_analysis import LinearDiscriminantAnalysis\n",
    "\n",
    "# Enable inline plotting\n",
    "# %matplotlib inline\n",
    "plt.style.use('ggplot')"
   ]
  },
  {
   "cell_type": "markdown",
   "id": "1549ed2d",
   "metadata": {},
   "source": [
    "### Load the data the into a Pandas dataframe  \n"
   ]
  },
  {
   "cell_type": "code",
   "execution_count": 3,
   "id": "68c04262",
   "metadata": {},
   "outputs": [
    {
     "name": "stdout",
     "output_type": "stream",
     "text": [
      "(9412, 8)\n"
     ]
    },
    {
     "data": {
      "text/html": [
       "<div>\n",
       "<style scoped>\n",
       "    .dataframe tbody tr th:only-of-type {\n",
       "        vertical-align: middle;\n",
       "    }\n",
       "\n",
       "    .dataframe tbody tr th {\n",
       "        vertical-align: top;\n",
       "    }\n",
       "\n",
       "    .dataframe thead th {\n",
       "        text-align: right;\n",
       "    }\n",
       "</style>\n",
       "<table border=\"1\" class=\"dataframe\">\n",
       "  <thead>\n",
       "    <tr style=\"text-align: right;\">\n",
       "      <th></th>\n",
       "      <th>age</th>\n",
       "      <th>workclass</th>\n",
       "      <th>education</th>\n",
       "      <th>marital-status</th>\n",
       "      <th>race</th>\n",
       "      <th>sex</th>\n",
       "      <th>hours-per-week</th>\n",
       "      <th>income</th>\n",
       "    </tr>\n",
       "  </thead>\n",
       "  <tbody>\n",
       "    <tr>\n",
       "      <th>0</th>\n",
       "      <td>39</td>\n",
       "      <td>Public</td>\n",
       "      <td>13</td>\n",
       "      <td>Single</td>\n",
       "      <td>White</td>\n",
       "      <td>Male</td>\n",
       "      <td>40</td>\n",
       "      <td>&lt;=50K</td>\n",
       "    </tr>\n",
       "    <tr>\n",
       "      <th>1</th>\n",
       "      <td>50</td>\n",
       "      <td>Self-emp</td>\n",
       "      <td>13</td>\n",
       "      <td>Married</td>\n",
       "      <td>White</td>\n",
       "      <td>Male</td>\n",
       "      <td>13</td>\n",
       "      <td>&lt;=50K</td>\n",
       "    </tr>\n",
       "    <tr>\n",
       "      <th>2</th>\n",
       "      <td>38</td>\n",
       "      <td>Private</td>\n",
       "      <td>9</td>\n",
       "      <td>Single</td>\n",
       "      <td>White</td>\n",
       "      <td>Male</td>\n",
       "      <td>40</td>\n",
       "      <td>&lt;=50K</td>\n",
       "    </tr>\n",
       "    <tr>\n",
       "      <th>3</th>\n",
       "      <td>53</td>\n",
       "      <td>Private</td>\n",
       "      <td>7</td>\n",
       "      <td>Married</td>\n",
       "      <td>Black</td>\n",
       "      <td>Male</td>\n",
       "      <td>40</td>\n",
       "      <td>&lt;=50K</td>\n",
       "    </tr>\n",
       "    <tr>\n",
       "      <th>4</th>\n",
       "      <td>28</td>\n",
       "      <td>Private</td>\n",
       "      <td>13</td>\n",
       "      <td>Married</td>\n",
       "      <td>Black</td>\n",
       "      <td>Female</td>\n",
       "      <td>40</td>\n",
       "      <td>&lt;=50K</td>\n",
       "    </tr>\n",
       "  </tbody>\n",
       "</table>\n",
       "</div>"
      ],
      "text/plain": [
       "   age workclass  education marital-status   race     sex  hours-per-week  \\\n",
       "0   39    Public         13         Single  White    Male              40   \n",
       "1   50  Self-emp         13        Married  White    Male              13   \n",
       "2   38   Private          9         Single  White    Male              40   \n",
       "3   53   Private          7        Married  Black    Male              40   \n",
       "4   28   Private         13        Married  Black  Female              40   \n",
       "\n",
       "  income  \n",
       "0  <=50K  \n",
       "1  <=50K  \n",
       "2  <=50K  \n",
       "3  <=50K  \n",
       "4  <=50K  "
      ]
     },
     "execution_count": 3,
     "metadata": {},
     "output_type": "execute_result"
    }
   ],
   "source": [
    "fileName = r'../../data/adult-modified1.csv'\n",
    "df = pd.read_csv(fileName, sep=',')\n",
    "print(df.shape)\n",
    "# the first top 5 records\n",
    "df.head()"
   ]
  },
  {
   "cell_type": "markdown",
   "id": "4c21eea1",
   "metadata": {},
   "source": [
    "<p>There are 9412 instances and 8 columns.</p>"
   ]
  },
  {
   "cell_type": "code",
   "execution_count": 4,
   "id": "369b0922",
   "metadata": {},
   "outputs": [
    {
     "data": {
      "text/html": [
       "<div>\n",
       "<style scoped>\n",
       "    .dataframe tbody tr th:only-of-type {\n",
       "        vertical-align: middle;\n",
       "    }\n",
       "\n",
       "    .dataframe tbody tr th {\n",
       "        vertical-align: top;\n",
       "    }\n",
       "\n",
       "    .dataframe thead th {\n",
       "        text-align: right;\n",
       "    }\n",
       "</style>\n",
       "<table border=\"1\" class=\"dataframe\">\n",
       "  <thead>\n",
       "    <tr style=\"text-align: right;\">\n",
       "      <th></th>\n",
       "      <th>age</th>\n",
       "      <th>workclass</th>\n",
       "      <th>education</th>\n",
       "      <th>marital-status</th>\n",
       "      <th>race</th>\n",
       "      <th>sex</th>\n",
       "      <th>hours-per-week</th>\n",
       "      <th>income</th>\n",
       "    </tr>\n",
       "  </thead>\n",
       "  <tbody>\n",
       "    <tr>\n",
       "      <th>9407</th>\n",
       "      <td>38</td>\n",
       "      <td>Private</td>\n",
       "      <td>10</td>\n",
       "      <td>Married</td>\n",
       "      <td>White</td>\n",
       "      <td>Male</td>\n",
       "      <td>60</td>\n",
       "      <td>&gt;50K</td>\n",
       "    </tr>\n",
       "    <tr>\n",
       "      <th>9408</th>\n",
       "      <td>25</td>\n",
       "      <td>Private</td>\n",
       "      <td>9</td>\n",
       "      <td>Single</td>\n",
       "      <td>White</td>\n",
       "      <td>Female</td>\n",
       "      <td>8</td>\n",
       "      <td>&lt;=50K</td>\n",
       "    </tr>\n",
       "    <tr>\n",
       "      <th>9409</th>\n",
       "      <td>21</td>\n",
       "      <td>Private</td>\n",
       "      <td>10</td>\n",
       "      <td>Single</td>\n",
       "      <td>Black</td>\n",
       "      <td>Male</td>\n",
       "      <td>40</td>\n",
       "      <td>&lt;=50K</td>\n",
       "    </tr>\n",
       "    <tr>\n",
       "      <th>9410</th>\n",
       "      <td>38</td>\n",
       "      <td>Private</td>\n",
       "      <td>2</td>\n",
       "      <td>Married</td>\n",
       "      <td>White</td>\n",
       "      <td>Male</td>\n",
       "      <td>53</td>\n",
       "      <td>&lt;=50K</td>\n",
       "    </tr>\n",
       "    <tr>\n",
       "      <th>9411</th>\n",
       "      <td>39</td>\n",
       "      <td>Private</td>\n",
       "      <td>10</td>\n",
       "      <td>Single</td>\n",
       "      <td>White</td>\n",
       "      <td>Female</td>\n",
       "      <td>40</td>\n",
       "      <td>&lt;=50K</td>\n",
       "    </tr>\n",
       "  </tbody>\n",
       "</table>\n",
       "</div>"
      ],
      "text/plain": [
       "      age workclass  education marital-status   race     sex  hours-per-week  \\\n",
       "9407   38   Private         10        Married  White    Male              60   \n",
       "9408   25   Private          9         Single  White  Female               8   \n",
       "9409   21   Private         10         Single  Black    Male              40   \n",
       "9410   38   Private          2        Married  White    Male              53   \n",
       "9411   39   Private         10         Single  White  Female              40   \n",
       "\n",
       "     income  \n",
       "9407   >50K  \n",
       "9408  <=50K  \n",
       "9409  <=50K  \n",
       "9410  <=50K  \n",
       "9411  <=50K  "
      ]
     },
     "execution_count": 4,
     "metadata": {},
     "output_type": "execute_result"
    }
   ],
   "source": [
    "# last five records\n",
    "df.tail()"
   ]
  },
  {
   "cell_type": "code",
   "execution_count": 5,
   "id": "89d52efb",
   "metadata": {},
   "outputs": [
    {
     "name": "stdout",
     "output_type": "stream",
     "text": [
      "<class 'pandas.core.frame.DataFrame'>\n",
      "RangeIndex: 9412 entries, 0 to 9411\n",
      "Data columns (total 8 columns):\n",
      " #   Column          Non-Null Count  Dtype \n",
      "---  ------          --------------  ----- \n",
      " 0   age             9412 non-null   int64 \n",
      " 1   workclass       9412 non-null   object\n",
      " 2   education       9412 non-null   int64 \n",
      " 3   marital-status  9412 non-null   object\n",
      " 4   race            9412 non-null   object\n",
      " 5   sex             9412 non-null   object\n",
      " 6   hours-per-week  9412 non-null   int64 \n",
      " 7   income          9412 non-null   object\n",
      "dtypes: int64(3), object(5)\n",
      "memory usage: 588.4+ KB\n"
     ]
    }
   ],
   "source": [
    "df.info()"
   ]
  },
  {
   "cell_type": "markdown",
   "id": "aac068f1",
   "metadata": {},
   "source": [
    "<p>we have 3 numeric attributes and 5 categorical attributes. </p>\n",
    "<p>The five categorical attributes  could be transformed into the right categorical data type; convert from object into category.</p>"
   ]
  },
  {
   "cell_type": "markdown",
   "id": "a9f17ec6",
   "metadata": {},
   "source": [
    "#### Next, we use the Pandas \"get_dummies\" function to create dummy variables for the categorical attributes data set is fully numeric (standard spreadsheet format). "
   ]
  },
  {
   "cell_type": "code",
   "execution_count": 6,
   "id": "0b27b971",
   "metadata": {},
   "outputs": [
    {
     "data": {
      "text/html": [
       "<div>\n",
       "<style scoped>\n",
       "    .dataframe tbody tr th:only-of-type {\n",
       "        vertical-align: middle;\n",
       "    }\n",
       "\n",
       "    .dataframe tbody tr th {\n",
       "        vertical-align: top;\n",
       "    }\n",
       "\n",
       "    .dataframe thead th {\n",
       "        text-align: right;\n",
       "    }\n",
       "</style>\n",
       "<table border=\"1\" class=\"dataframe\">\n",
       "  <thead>\n",
       "    <tr style=\"text-align: right;\">\n",
       "      <th></th>\n",
       "      <th>age</th>\n",
       "      <th>education</th>\n",
       "      <th>hours-per-week</th>\n",
       "      <th>workclass_Private</th>\n",
       "      <th>workclass_Public</th>\n",
       "      <th>workclass_Self-emp</th>\n",
       "      <th>marital-status_Married</th>\n",
       "      <th>marital-status_Single</th>\n",
       "      <th>race_Amer-Indian</th>\n",
       "      <th>race_Asian</th>\n",
       "      <th>race_Black</th>\n",
       "      <th>race_Hispanic</th>\n",
       "      <th>race_White</th>\n",
       "      <th>sex_Female</th>\n",
       "      <th>sex_Male</th>\n",
       "      <th>income_&lt;=50K</th>\n",
       "      <th>income_&gt;50K</th>\n",
       "    </tr>\n",
       "  </thead>\n",
       "  <tbody>\n",
       "    <tr>\n",
       "      <th>0</th>\n",
       "      <td>39</td>\n",
       "      <td>13</td>\n",
       "      <td>40</td>\n",
       "      <td>0</td>\n",
       "      <td>1</td>\n",
       "      <td>0</td>\n",
       "      <td>0</td>\n",
       "      <td>1</td>\n",
       "      <td>0</td>\n",
       "      <td>0</td>\n",
       "      <td>0</td>\n",
       "      <td>0</td>\n",
       "      <td>1</td>\n",
       "      <td>0</td>\n",
       "      <td>1</td>\n",
       "      <td>1</td>\n",
       "      <td>0</td>\n",
       "    </tr>\n",
       "    <tr>\n",
       "      <th>1</th>\n",
       "      <td>50</td>\n",
       "      <td>13</td>\n",
       "      <td>13</td>\n",
       "      <td>0</td>\n",
       "      <td>0</td>\n",
       "      <td>1</td>\n",
       "      <td>1</td>\n",
       "      <td>0</td>\n",
       "      <td>0</td>\n",
       "      <td>0</td>\n",
       "      <td>0</td>\n",
       "      <td>0</td>\n",
       "      <td>1</td>\n",
       "      <td>0</td>\n",
       "      <td>1</td>\n",
       "      <td>1</td>\n",
       "      <td>0</td>\n",
       "    </tr>\n",
       "    <tr>\n",
       "      <th>2</th>\n",
       "      <td>38</td>\n",
       "      <td>9</td>\n",
       "      <td>40</td>\n",
       "      <td>1</td>\n",
       "      <td>0</td>\n",
       "      <td>0</td>\n",
       "      <td>0</td>\n",
       "      <td>1</td>\n",
       "      <td>0</td>\n",
       "      <td>0</td>\n",
       "      <td>0</td>\n",
       "      <td>0</td>\n",
       "      <td>1</td>\n",
       "      <td>0</td>\n",
       "      <td>1</td>\n",
       "      <td>1</td>\n",
       "      <td>0</td>\n",
       "    </tr>\n",
       "    <tr>\n",
       "      <th>3</th>\n",
       "      <td>53</td>\n",
       "      <td>7</td>\n",
       "      <td>40</td>\n",
       "      <td>1</td>\n",
       "      <td>0</td>\n",
       "      <td>0</td>\n",
       "      <td>1</td>\n",
       "      <td>0</td>\n",
       "      <td>0</td>\n",
       "      <td>0</td>\n",
       "      <td>1</td>\n",
       "      <td>0</td>\n",
       "      <td>0</td>\n",
       "      <td>0</td>\n",
       "      <td>1</td>\n",
       "      <td>1</td>\n",
       "      <td>0</td>\n",
       "    </tr>\n",
       "    <tr>\n",
       "      <th>4</th>\n",
       "      <td>28</td>\n",
       "      <td>13</td>\n",
       "      <td>40</td>\n",
       "      <td>1</td>\n",
       "      <td>0</td>\n",
       "      <td>0</td>\n",
       "      <td>1</td>\n",
       "      <td>0</td>\n",
       "      <td>0</td>\n",
       "      <td>0</td>\n",
       "      <td>1</td>\n",
       "      <td>0</td>\n",
       "      <td>0</td>\n",
       "      <td>1</td>\n",
       "      <td>0</td>\n",
       "      <td>1</td>\n",
       "      <td>0</td>\n",
       "    </tr>\n",
       "    <tr>\n",
       "      <th>5</th>\n",
       "      <td>37</td>\n",
       "      <td>14</td>\n",
       "      <td>40</td>\n",
       "      <td>1</td>\n",
       "      <td>0</td>\n",
       "      <td>0</td>\n",
       "      <td>1</td>\n",
       "      <td>0</td>\n",
       "      <td>0</td>\n",
       "      <td>0</td>\n",
       "      <td>0</td>\n",
       "      <td>0</td>\n",
       "      <td>1</td>\n",
       "      <td>1</td>\n",
       "      <td>0</td>\n",
       "      <td>1</td>\n",
       "      <td>0</td>\n",
       "    </tr>\n",
       "    <tr>\n",
       "      <th>6</th>\n",
       "      <td>49</td>\n",
       "      <td>5</td>\n",
       "      <td>16</td>\n",
       "      <td>1</td>\n",
       "      <td>0</td>\n",
       "      <td>0</td>\n",
       "      <td>1</td>\n",
       "      <td>0</td>\n",
       "      <td>0</td>\n",
       "      <td>0</td>\n",
       "      <td>1</td>\n",
       "      <td>0</td>\n",
       "      <td>0</td>\n",
       "      <td>1</td>\n",
       "      <td>0</td>\n",
       "      <td>1</td>\n",
       "      <td>0</td>\n",
       "    </tr>\n",
       "    <tr>\n",
       "      <th>7</th>\n",
       "      <td>52</td>\n",
       "      <td>9</td>\n",
       "      <td>45</td>\n",
       "      <td>0</td>\n",
       "      <td>0</td>\n",
       "      <td>1</td>\n",
       "      <td>1</td>\n",
       "      <td>0</td>\n",
       "      <td>0</td>\n",
       "      <td>0</td>\n",
       "      <td>0</td>\n",
       "      <td>0</td>\n",
       "      <td>1</td>\n",
       "      <td>0</td>\n",
       "      <td>1</td>\n",
       "      <td>0</td>\n",
       "      <td>1</td>\n",
       "    </tr>\n",
       "    <tr>\n",
       "      <th>8</th>\n",
       "      <td>31</td>\n",
       "      <td>14</td>\n",
       "      <td>50</td>\n",
       "      <td>1</td>\n",
       "      <td>0</td>\n",
       "      <td>0</td>\n",
       "      <td>0</td>\n",
       "      <td>1</td>\n",
       "      <td>0</td>\n",
       "      <td>0</td>\n",
       "      <td>0</td>\n",
       "      <td>0</td>\n",
       "      <td>1</td>\n",
       "      <td>1</td>\n",
       "      <td>0</td>\n",
       "      <td>0</td>\n",
       "      <td>1</td>\n",
       "    </tr>\n",
       "    <tr>\n",
       "      <th>9</th>\n",
       "      <td>42</td>\n",
       "      <td>13</td>\n",
       "      <td>40</td>\n",
       "      <td>1</td>\n",
       "      <td>0</td>\n",
       "      <td>0</td>\n",
       "      <td>1</td>\n",
       "      <td>0</td>\n",
       "      <td>0</td>\n",
       "      <td>0</td>\n",
       "      <td>0</td>\n",
       "      <td>0</td>\n",
       "      <td>1</td>\n",
       "      <td>0</td>\n",
       "      <td>1</td>\n",
       "      <td>0</td>\n",
       "      <td>1</td>\n",
       "    </tr>\n",
       "  </tbody>\n",
       "</table>\n",
       "</div>"
      ],
      "text/plain": [
       "   age  education  hours-per-week  workclass_Private  workclass_Public  \\\n",
       "0   39         13              40                  0                 1   \n",
       "1   50         13              13                  0                 0   \n",
       "2   38          9              40                  1                 0   \n",
       "3   53          7              40                  1                 0   \n",
       "4   28         13              40                  1                 0   \n",
       "5   37         14              40                  1                 0   \n",
       "6   49          5              16                  1                 0   \n",
       "7   52          9              45                  0                 0   \n",
       "8   31         14              50                  1                 0   \n",
       "9   42         13              40                  1                 0   \n",
       "\n",
       "   workclass_Self-emp  marital-status_Married  marital-status_Single  \\\n",
       "0                   0                       0                      1   \n",
       "1                   1                       1                      0   \n",
       "2                   0                       0                      1   \n",
       "3                   0                       1                      0   \n",
       "4                   0                       1                      0   \n",
       "5                   0                       1                      0   \n",
       "6                   0                       1                      0   \n",
       "7                   1                       1                      0   \n",
       "8                   0                       0                      1   \n",
       "9                   0                       1                      0   \n",
       "\n",
       "   race_Amer-Indian  race_Asian  race_Black  race_Hispanic  race_White  \\\n",
       "0                 0           0           0              0           1   \n",
       "1                 0           0           0              0           1   \n",
       "2                 0           0           0              0           1   \n",
       "3                 0           0           1              0           0   \n",
       "4                 0           0           1              0           0   \n",
       "5                 0           0           0              0           1   \n",
       "6                 0           0           1              0           0   \n",
       "7                 0           0           0              0           1   \n",
       "8                 0           0           0              0           1   \n",
       "9                 0           0           0              0           1   \n",
       "\n",
       "   sex_Female  sex_Male  income_<=50K  income_>50K  \n",
       "0           0         1             1            0  \n",
       "1           0         1             1            0  \n",
       "2           0         1             1            0  \n",
       "3           0         1             1            0  \n",
       "4           1         0             1            0  \n",
       "5           1         0             1            0  \n",
       "6           1         0             1            0  \n",
       "7           0         1             0            1  \n",
       "8           1         0             0            1  \n",
       "9           0         1             0            1  "
      ]
     },
     "execution_count": 6,
     "metadata": {},
     "output_type": "execute_result"
    }
   ],
   "source": [
    "# lets convert the data set into a standard spread format by creating dummy variables\n",
    "vs_adult_matrix = pd.get_dummies(df)\n",
    "\n",
    "# display the first 10 records\n",
    "vs_adult_matrix.head(10)"
   ]
  },
  {
   "cell_type": "markdown",
   "id": "dfdd9ede",
   "metadata": {},
   "source": [
    "#### Since this is a classification algorithm, which we intend to use, we would then separate our target from the rest of the matrix by puting it into vs_target.\n",
    "#### The target attribute for classification is \"income_>50K\"."
   ]
  },
  {
   "cell_type": "code",
   "execution_count": 7,
   "id": "27eede6b",
   "metadata": {},
   "outputs": [
    {
     "data": {
      "text/plain": [
       "0    0\n",
       "1    0\n",
       "2    0\n",
       "3    0\n",
       "4    0\n",
       "Name: income_>50K, dtype: uint8"
      ]
     },
     "execution_count": 7,
     "metadata": {},
     "output_type": "execute_result"
    }
   ],
   "source": [
    "vs_target = vs_adult_matrix['income_>50K']\n",
    "vs_target.head() # display the first five records of the target"
   ]
  },
  {
   "cell_type": "code",
   "execution_count": 8,
   "id": "7dc33601",
   "metadata": {},
   "outputs": [
    {
     "data": {
      "text/html": [
       "<div>\n",
       "<style scoped>\n",
       "    .dataframe tbody tr th:only-of-type {\n",
       "        vertical-align: middle;\n",
       "    }\n",
       "\n",
       "    .dataframe tbody tr th {\n",
       "        vertical-align: top;\n",
       "    }\n",
       "\n",
       "    .dataframe thead th {\n",
       "        text-align: right;\n",
       "    }\n",
       "</style>\n",
       "<table border=\"1\" class=\"dataframe\">\n",
       "  <thead>\n",
       "    <tr style=\"text-align: right;\">\n",
       "      <th></th>\n",
       "      <th>age</th>\n",
       "      <th>education</th>\n",
       "      <th>hours-per-week</th>\n",
       "      <th>workclass_Private</th>\n",
       "      <th>workclass_Public</th>\n",
       "      <th>workclass_Self-emp</th>\n",
       "      <th>marital-status_Married</th>\n",
       "      <th>marital-status_Single</th>\n",
       "      <th>race_Amer-Indian</th>\n",
       "      <th>race_Asian</th>\n",
       "      <th>race_Black</th>\n",
       "      <th>race_Hispanic</th>\n",
       "      <th>race_White</th>\n",
       "      <th>sex_Female</th>\n",
       "      <th>sex_Male</th>\n",
       "      <th>income_&lt;=50K</th>\n",
       "      <th>income_&gt;50K</th>\n",
       "    </tr>\n",
       "  </thead>\n",
       "  <tbody>\n",
       "    <tr>\n",
       "      <th>0</th>\n",
       "      <td>39</td>\n",
       "      <td>13</td>\n",
       "      <td>40</td>\n",
       "      <td>0</td>\n",
       "      <td>1</td>\n",
       "      <td>0</td>\n",
       "      <td>0</td>\n",
       "      <td>1</td>\n",
       "      <td>0</td>\n",
       "      <td>0</td>\n",
       "      <td>0</td>\n",
       "      <td>0</td>\n",
       "      <td>1</td>\n",
       "      <td>0</td>\n",
       "      <td>1</td>\n",
       "      <td>1</td>\n",
       "      <td>0</td>\n",
       "    </tr>\n",
       "    <tr>\n",
       "      <th>1</th>\n",
       "      <td>50</td>\n",
       "      <td>13</td>\n",
       "      <td>13</td>\n",
       "      <td>0</td>\n",
       "      <td>0</td>\n",
       "      <td>1</td>\n",
       "      <td>1</td>\n",
       "      <td>0</td>\n",
       "      <td>0</td>\n",
       "      <td>0</td>\n",
       "      <td>0</td>\n",
       "      <td>0</td>\n",
       "      <td>1</td>\n",
       "      <td>0</td>\n",
       "      <td>1</td>\n",
       "      <td>1</td>\n",
       "      <td>0</td>\n",
       "    </tr>\n",
       "    <tr>\n",
       "      <th>2</th>\n",
       "      <td>38</td>\n",
       "      <td>9</td>\n",
       "      <td>40</td>\n",
       "      <td>1</td>\n",
       "      <td>0</td>\n",
       "      <td>0</td>\n",
       "      <td>0</td>\n",
       "      <td>1</td>\n",
       "      <td>0</td>\n",
       "      <td>0</td>\n",
       "      <td>0</td>\n",
       "      <td>0</td>\n",
       "      <td>1</td>\n",
       "      <td>0</td>\n",
       "      <td>1</td>\n",
       "      <td>1</td>\n",
       "      <td>0</td>\n",
       "    </tr>\n",
       "    <tr>\n",
       "      <th>3</th>\n",
       "      <td>53</td>\n",
       "      <td>7</td>\n",
       "      <td>40</td>\n",
       "      <td>1</td>\n",
       "      <td>0</td>\n",
       "      <td>0</td>\n",
       "      <td>1</td>\n",
       "      <td>0</td>\n",
       "      <td>0</td>\n",
       "      <td>0</td>\n",
       "      <td>1</td>\n",
       "      <td>0</td>\n",
       "      <td>0</td>\n",
       "      <td>0</td>\n",
       "      <td>1</td>\n",
       "      <td>1</td>\n",
       "      <td>0</td>\n",
       "    </tr>\n",
       "    <tr>\n",
       "      <th>4</th>\n",
       "      <td>28</td>\n",
       "      <td>13</td>\n",
       "      <td>40</td>\n",
       "      <td>1</td>\n",
       "      <td>0</td>\n",
       "      <td>0</td>\n",
       "      <td>1</td>\n",
       "      <td>0</td>\n",
       "      <td>0</td>\n",
       "      <td>0</td>\n",
       "      <td>1</td>\n",
       "      <td>0</td>\n",
       "      <td>0</td>\n",
       "      <td>1</td>\n",
       "      <td>0</td>\n",
       "      <td>1</td>\n",
       "      <td>0</td>\n",
       "    </tr>\n",
       "    <tr>\n",
       "      <th>5</th>\n",
       "      <td>37</td>\n",
       "      <td>14</td>\n",
       "      <td>40</td>\n",
       "      <td>1</td>\n",
       "      <td>0</td>\n",
       "      <td>0</td>\n",
       "      <td>1</td>\n",
       "      <td>0</td>\n",
       "      <td>0</td>\n",
       "      <td>0</td>\n",
       "      <td>0</td>\n",
       "      <td>0</td>\n",
       "      <td>1</td>\n",
       "      <td>1</td>\n",
       "      <td>0</td>\n",
       "      <td>1</td>\n",
       "      <td>0</td>\n",
       "    </tr>\n",
       "    <tr>\n",
       "      <th>6</th>\n",
       "      <td>49</td>\n",
       "      <td>5</td>\n",
       "      <td>16</td>\n",
       "      <td>1</td>\n",
       "      <td>0</td>\n",
       "      <td>0</td>\n",
       "      <td>1</td>\n",
       "      <td>0</td>\n",
       "      <td>0</td>\n",
       "      <td>0</td>\n",
       "      <td>1</td>\n",
       "      <td>0</td>\n",
       "      <td>0</td>\n",
       "      <td>1</td>\n",
       "      <td>0</td>\n",
       "      <td>1</td>\n",
       "      <td>0</td>\n",
       "    </tr>\n",
       "    <tr>\n",
       "      <th>7</th>\n",
       "      <td>52</td>\n",
       "      <td>9</td>\n",
       "      <td>45</td>\n",
       "      <td>0</td>\n",
       "      <td>0</td>\n",
       "      <td>1</td>\n",
       "      <td>1</td>\n",
       "      <td>0</td>\n",
       "      <td>0</td>\n",
       "      <td>0</td>\n",
       "      <td>0</td>\n",
       "      <td>0</td>\n",
       "      <td>1</td>\n",
       "      <td>0</td>\n",
       "      <td>1</td>\n",
       "      <td>0</td>\n",
       "      <td>1</td>\n",
       "    </tr>\n",
       "    <tr>\n",
       "      <th>8</th>\n",
       "      <td>31</td>\n",
       "      <td>14</td>\n",
       "      <td>50</td>\n",
       "      <td>1</td>\n",
       "      <td>0</td>\n",
       "      <td>0</td>\n",
       "      <td>0</td>\n",
       "      <td>1</td>\n",
       "      <td>0</td>\n",
       "      <td>0</td>\n",
       "      <td>0</td>\n",
       "      <td>0</td>\n",
       "      <td>1</td>\n",
       "      <td>1</td>\n",
       "      <td>0</td>\n",
       "      <td>0</td>\n",
       "      <td>1</td>\n",
       "    </tr>\n",
       "    <tr>\n",
       "      <th>9</th>\n",
       "      <td>42</td>\n",
       "      <td>13</td>\n",
       "      <td>40</td>\n",
       "      <td>1</td>\n",
       "      <td>0</td>\n",
       "      <td>0</td>\n",
       "      <td>1</td>\n",
       "      <td>0</td>\n",
       "      <td>0</td>\n",
       "      <td>0</td>\n",
       "      <td>0</td>\n",
       "      <td>0</td>\n",
       "      <td>1</td>\n",
       "      <td>0</td>\n",
       "      <td>1</td>\n",
       "      <td>0</td>\n",
       "      <td>1</td>\n",
       "    </tr>\n",
       "  </tbody>\n",
       "</table>\n",
       "</div>"
      ],
      "text/plain": [
       "   age  education  hours-per-week  workclass_Private  workclass_Public  \\\n",
       "0   39         13              40                  0                 1   \n",
       "1   50         13              13                  0                 0   \n",
       "2   38          9              40                  1                 0   \n",
       "3   53          7              40                  1                 0   \n",
       "4   28         13              40                  1                 0   \n",
       "5   37         14              40                  1                 0   \n",
       "6   49          5              16                  1                 0   \n",
       "7   52          9              45                  0                 0   \n",
       "8   31         14              50                  1                 0   \n",
       "9   42         13              40                  1                 0   \n",
       "\n",
       "   workclass_Self-emp  marital-status_Married  marital-status_Single  \\\n",
       "0                   0                       0                      1   \n",
       "1                   1                       1                      0   \n",
       "2                   0                       0                      1   \n",
       "3                   0                       1                      0   \n",
       "4                   0                       1                      0   \n",
       "5                   0                       1                      0   \n",
       "6                   0                       1                      0   \n",
       "7                   1                       1                      0   \n",
       "8                   0                       0                      1   \n",
       "9                   0                       1                      0   \n",
       "\n",
       "   race_Amer-Indian  race_Asian  race_Black  race_Hispanic  race_White  \\\n",
       "0                 0           0           0              0           1   \n",
       "1                 0           0           0              0           1   \n",
       "2                 0           0           0              0           1   \n",
       "3                 0           0           1              0           0   \n",
       "4                 0           0           1              0           0   \n",
       "5                 0           0           0              0           1   \n",
       "6                 0           0           1              0           0   \n",
       "7                 0           0           0              0           1   \n",
       "8                 0           0           0              0           1   \n",
       "9                 0           0           0              0           1   \n",
       "\n",
       "   sex_Female  sex_Male  income_<=50K  income_>50K  \n",
       "0           0         1             1            0  \n",
       "1           0         1             1            0  \n",
       "2           0         1             1            0  \n",
       "3           0         1             1            0  \n",
       "4           1         0             1            0  \n",
       "5           1         0             1            0  \n",
       "6           1         0             1            0  \n",
       "7           0         1             0            1  \n",
       "8           1         0             0            1  \n",
       "9           0         1             0            1  "
      ]
     },
     "execution_count": 8,
     "metadata": {},
     "output_type": "execute_result"
    }
   ],
   "source": [
    "vs_adult_matrix.head(10)"
   ]
  },
  {
   "cell_type": "markdown",
   "id": "96f99d11",
   "metadata": {},
   "source": [
    "#### Let's drop the  income_>50K and income_<=50K attributes from the vs_adult_matrix data set"
   ]
  },
  {
   "cell_type": "code",
   "execution_count": 9,
   "id": "250ea692",
   "metadata": {},
   "outputs": [
    {
     "name": "stdout",
     "output_type": "stream",
     "text": [
      "dropped income_<=50K column from the vs_adult_matrix data set\n",
      "dropped income_>50K column from the vs_adult_matrix data set\n"
     ]
    }
   ],
   "source": [
    "columnsToDrop = ['income_>50K', 'income_<=50K']\n",
    "vsAdultMatrix_cols = vs_adult_matrix.columns\n",
    "# print(vsAdultMatrix_cols)\n",
    "colCnt = 0\n",
    "for col in vsAdultMatrix_cols:\n",
    "#     print(col)\n",
    "    \n",
    "    if col in columnsToDrop:\n",
    "        \n",
    "        # we need to use inplace=True so that we can operate on the same copy and returns None\n",
    "        vs_adult_matrix.drop(columns = [col], inplace = True)\n",
    "        \n",
    "        print('dropped %s column from the vs_adult_matrix data set' %(col))\n",
    "        colCnt += 1\n",
    "        \n",
    "    if colCnt == len(columnsToDrop):#  len(columnsToDrop) should be equal to 2\n",
    "        vs_adult_matrix_mod = vs_adult_matrix"
   ]
  },
  {
   "cell_type": "code",
   "execution_count": 10,
   "id": "5d4eb21b",
   "metadata": {},
   "outputs": [
    {
     "data": {
      "text/html": [
       "<div>\n",
       "<style scoped>\n",
       "    .dataframe tbody tr th:only-of-type {\n",
       "        vertical-align: middle;\n",
       "    }\n",
       "\n",
       "    .dataframe tbody tr th {\n",
       "        vertical-align: top;\n",
       "    }\n",
       "\n",
       "    .dataframe thead th {\n",
       "        text-align: right;\n",
       "    }\n",
       "</style>\n",
       "<table border=\"1\" class=\"dataframe\">\n",
       "  <thead>\n",
       "    <tr style=\"text-align: right;\">\n",
       "      <th></th>\n",
       "      <th>age</th>\n",
       "      <th>education</th>\n",
       "      <th>hours-per-week</th>\n",
       "      <th>workclass_Private</th>\n",
       "      <th>workclass_Public</th>\n",
       "      <th>workclass_Self-emp</th>\n",
       "      <th>marital-status_Married</th>\n",
       "      <th>marital-status_Single</th>\n",
       "      <th>race_Amer-Indian</th>\n",
       "      <th>race_Asian</th>\n",
       "      <th>race_Black</th>\n",
       "      <th>race_Hispanic</th>\n",
       "      <th>race_White</th>\n",
       "      <th>sex_Female</th>\n",
       "      <th>sex_Male</th>\n",
       "    </tr>\n",
       "  </thead>\n",
       "  <tbody>\n",
       "    <tr>\n",
       "      <th>0</th>\n",
       "      <td>39</td>\n",
       "      <td>13</td>\n",
       "      <td>40</td>\n",
       "      <td>0</td>\n",
       "      <td>1</td>\n",
       "      <td>0</td>\n",
       "      <td>0</td>\n",
       "      <td>1</td>\n",
       "      <td>0</td>\n",
       "      <td>0</td>\n",
       "      <td>0</td>\n",
       "      <td>0</td>\n",
       "      <td>1</td>\n",
       "      <td>0</td>\n",
       "      <td>1</td>\n",
       "    </tr>\n",
       "    <tr>\n",
       "      <th>1</th>\n",
       "      <td>50</td>\n",
       "      <td>13</td>\n",
       "      <td>13</td>\n",
       "      <td>0</td>\n",
       "      <td>0</td>\n",
       "      <td>1</td>\n",
       "      <td>1</td>\n",
       "      <td>0</td>\n",
       "      <td>0</td>\n",
       "      <td>0</td>\n",
       "      <td>0</td>\n",
       "      <td>0</td>\n",
       "      <td>1</td>\n",
       "      <td>0</td>\n",
       "      <td>1</td>\n",
       "    </tr>\n",
       "    <tr>\n",
       "      <th>2</th>\n",
       "      <td>38</td>\n",
       "      <td>9</td>\n",
       "      <td>40</td>\n",
       "      <td>1</td>\n",
       "      <td>0</td>\n",
       "      <td>0</td>\n",
       "      <td>0</td>\n",
       "      <td>1</td>\n",
       "      <td>0</td>\n",
       "      <td>0</td>\n",
       "      <td>0</td>\n",
       "      <td>0</td>\n",
       "      <td>1</td>\n",
       "      <td>0</td>\n",
       "      <td>1</td>\n",
       "    </tr>\n",
       "    <tr>\n",
       "      <th>3</th>\n",
       "      <td>53</td>\n",
       "      <td>7</td>\n",
       "      <td>40</td>\n",
       "      <td>1</td>\n",
       "      <td>0</td>\n",
       "      <td>0</td>\n",
       "      <td>1</td>\n",
       "      <td>0</td>\n",
       "      <td>0</td>\n",
       "      <td>0</td>\n",
       "      <td>1</td>\n",
       "      <td>0</td>\n",
       "      <td>0</td>\n",
       "      <td>0</td>\n",
       "      <td>1</td>\n",
       "    </tr>\n",
       "    <tr>\n",
       "      <th>4</th>\n",
       "      <td>28</td>\n",
       "      <td>13</td>\n",
       "      <td>40</td>\n",
       "      <td>1</td>\n",
       "      <td>0</td>\n",
       "      <td>0</td>\n",
       "      <td>1</td>\n",
       "      <td>0</td>\n",
       "      <td>0</td>\n",
       "      <td>0</td>\n",
       "      <td>1</td>\n",
       "      <td>0</td>\n",
       "      <td>0</td>\n",
       "      <td>1</td>\n",
       "      <td>0</td>\n",
       "    </tr>\n",
       "  </tbody>\n",
       "</table>\n",
       "</div>"
      ],
      "text/plain": [
       "   age  education  hours-per-week  workclass_Private  workclass_Public  \\\n",
       "0   39         13              40                  0                 1   \n",
       "1   50         13              13                  0                 0   \n",
       "2   38          9              40                  1                 0   \n",
       "3   53          7              40                  1                 0   \n",
       "4   28         13              40                  1                 0   \n",
       "\n",
       "   workclass_Self-emp  marital-status_Married  marital-status_Single  \\\n",
       "0                   0                       0                      1   \n",
       "1                   1                       1                      0   \n",
       "2                   0                       0                      1   \n",
       "3                   0                       1                      0   \n",
       "4                   0                       1                      0   \n",
       "\n",
       "   race_Amer-Indian  race_Asian  race_Black  race_Hispanic  race_White  \\\n",
       "0                 0           0           0              0           1   \n",
       "1                 0           0           0              0           1   \n",
       "2                 0           0           0              0           1   \n",
       "3                 0           0           1              0           0   \n",
       "4                 0           0           1              0           0   \n",
       "\n",
       "   sex_Female  sex_Male  \n",
       "0           0         1  \n",
       "1           0         1  \n",
       "2           0         1  \n",
       "3           0         1  \n",
       "4           1         0  "
      ]
     },
     "execution_count": 10,
     "metadata": {},
     "output_type": "execute_result"
    }
   ],
   "source": [
    "# lets view the top five records without income_>50K and income_<=50K attributes.\n",
    "vs_adult_matrix_mod.head() "
   ]
  },
  {
   "cell_type": "markdown",
   "id": "c7a20fc5",
   "metadata": {},
   "source": [
    "#### Split the transformed data set into training and tests sets (using the 80% - 20% randomized split) using the train_test_split module from sklearn.model_selection package."
   ]
  },
  {
   "cell_type": "code",
   "execution_count": 11,
   "id": "c2a56c05",
   "metadata": {},
   "outputs": [
    {
     "name": "stdout",
     "output_type": "stream",
     "text": [
      "(1883, 15)\n"
     ]
    },
    {
     "data": {
      "text/html": [
       "<div>\n",
       "<style scoped>\n",
       "    .dataframe tbody tr th:only-of-type {\n",
       "        vertical-align: middle;\n",
       "    }\n",
       "\n",
       "    .dataframe tbody tr th {\n",
       "        vertical-align: top;\n",
       "    }\n",
       "\n",
       "    .dataframe thead th {\n",
       "        text-align: right;\n",
       "    }\n",
       "</style>\n",
       "<table border=\"1\" class=\"dataframe\">\n",
       "  <thead>\n",
       "    <tr style=\"text-align: right;\">\n",
       "      <th></th>\n",
       "      <th>age</th>\n",
       "      <th>education</th>\n",
       "      <th>hours-per-week</th>\n",
       "      <th>workclass_Private</th>\n",
       "      <th>workclass_Public</th>\n",
       "      <th>workclass_Self-emp</th>\n",
       "      <th>marital-status_Married</th>\n",
       "      <th>marital-status_Single</th>\n",
       "      <th>race_Amer-Indian</th>\n",
       "      <th>race_Asian</th>\n",
       "      <th>race_Black</th>\n",
       "      <th>race_Hispanic</th>\n",
       "      <th>race_White</th>\n",
       "      <th>sex_Female</th>\n",
       "      <th>sex_Male</th>\n",
       "    </tr>\n",
       "  </thead>\n",
       "  <tbody>\n",
       "    <tr>\n",
       "      <th>7917</th>\n",
       "      <td>56</td>\n",
       "      <td>10</td>\n",
       "      <td>45</td>\n",
       "      <td>1</td>\n",
       "      <td>0</td>\n",
       "      <td>0</td>\n",
       "      <td>1</td>\n",
       "      <td>0</td>\n",
       "      <td>0</td>\n",
       "      <td>0</td>\n",
       "      <td>0</td>\n",
       "      <td>0</td>\n",
       "      <td>1</td>\n",
       "      <td>0</td>\n",
       "      <td>1</td>\n",
       "    </tr>\n",
       "    <tr>\n",
       "      <th>2456</th>\n",
       "      <td>54</td>\n",
       "      <td>9</td>\n",
       "      <td>45</td>\n",
       "      <td>1</td>\n",
       "      <td>0</td>\n",
       "      <td>0</td>\n",
       "      <td>1</td>\n",
       "      <td>0</td>\n",
       "      <td>0</td>\n",
       "      <td>0</td>\n",
       "      <td>0</td>\n",
       "      <td>0</td>\n",
       "      <td>1</td>\n",
       "      <td>0</td>\n",
       "      <td>1</td>\n",
       "    </tr>\n",
       "    <tr>\n",
       "      <th>2358</th>\n",
       "      <td>52</td>\n",
       "      <td>11</td>\n",
       "      <td>35</td>\n",
       "      <td>1</td>\n",
       "      <td>0</td>\n",
       "      <td>0</td>\n",
       "      <td>0</td>\n",
       "      <td>1</td>\n",
       "      <td>0</td>\n",
       "      <td>0</td>\n",
       "      <td>0</td>\n",
       "      <td>0</td>\n",
       "      <td>1</td>\n",
       "      <td>1</td>\n",
       "      <td>0</td>\n",
       "    </tr>\n",
       "    <tr>\n",
       "      <th>6709</th>\n",
       "      <td>42</td>\n",
       "      <td>16</td>\n",
       "      <td>60</td>\n",
       "      <td>0</td>\n",
       "      <td>0</td>\n",
       "      <td>1</td>\n",
       "      <td>1</td>\n",
       "      <td>0</td>\n",
       "      <td>0</td>\n",
       "      <td>0</td>\n",
       "      <td>0</td>\n",
       "      <td>0</td>\n",
       "      <td>1</td>\n",
       "      <td>0</td>\n",
       "      <td>1</td>\n",
       "    </tr>\n",
       "    <tr>\n",
       "      <th>5523</th>\n",
       "      <td>30</td>\n",
       "      <td>9</td>\n",
       "      <td>50</td>\n",
       "      <td>0</td>\n",
       "      <td>0</td>\n",
       "      <td>1</td>\n",
       "      <td>1</td>\n",
       "      <td>0</td>\n",
       "      <td>0</td>\n",
       "      <td>0</td>\n",
       "      <td>0</td>\n",
       "      <td>0</td>\n",
       "      <td>1</td>\n",
       "      <td>0</td>\n",
       "      <td>1</td>\n",
       "    </tr>\n",
       "  </tbody>\n",
       "</table>\n",
       "</div>"
      ],
      "text/plain": [
       "      age  education  hours-per-week  workclass_Private  workclass_Public  \\\n",
       "7917   56         10              45                  1                 0   \n",
       "2456   54          9              45                  1                 0   \n",
       "2358   52         11              35                  1                 0   \n",
       "6709   42         16              60                  0                 0   \n",
       "5523   30          9              50                  0                 0   \n",
       "\n",
       "      workclass_Self-emp  marital-status_Married  marital-status_Single  \\\n",
       "7917                   0                       1                      0   \n",
       "2456                   0                       1                      0   \n",
       "2358                   0                       0                      1   \n",
       "6709                   1                       1                      0   \n",
       "5523                   1                       1                      0   \n",
       "\n",
       "      race_Amer-Indian  race_Asian  race_Black  race_Hispanic  race_White  \\\n",
       "7917                 0           0           0              0           1   \n",
       "2456                 0           0           0              0           1   \n",
       "2358                 0           0           0              0           1   \n",
       "6709                 0           0           0              0           1   \n",
       "5523                 0           0           0              0           1   \n",
       "\n",
       "      sex_Female  sex_Male  \n",
       "7917           0         1  \n",
       "2456           0         1  \n",
       "2358           1         0  \n",
       "6709           0         1  \n",
       "5523           0         1  "
      ]
     },
     "execution_count": 11,
     "metadata": {},
     "output_type": "execute_result"
    }
   ],
   "source": [
    "# from sklearn.model_selection import train_test_split \n",
    "# train_test_split?\n",
    "# train_test_split shuffles the data and splits it into two split for us into 80% training and 20% percent testing.\n",
    "\n",
    "vs_train, vs_test, vs_target_train, vs_target_test = train_test_split(vs_adult_matrix_mod, vs_target, test_size = 0.2, random_state = 33)\n",
    "\n",
    "print(vs_test.shape)\n",
    "\n",
    "vs_test[0:5] # the first five records"
   ]
  },
  {
   "cell_type": "code",
   "execution_count": 12,
   "id": "60101351",
   "metadata": {},
   "outputs": [
    {
     "name": "stdout",
     "output_type": "stream",
     "text": [
      "(7529, 15)\n"
     ]
    },
    {
     "data": {
      "text/html": [
       "<div>\n",
       "<style scoped>\n",
       "    .dataframe tbody tr th:only-of-type {\n",
       "        vertical-align: middle;\n",
       "    }\n",
       "\n",
       "    .dataframe tbody tr th {\n",
       "        vertical-align: top;\n",
       "    }\n",
       "\n",
       "    .dataframe thead th {\n",
       "        text-align: right;\n",
       "    }\n",
       "</style>\n",
       "<table border=\"1\" class=\"dataframe\">\n",
       "  <thead>\n",
       "    <tr style=\"text-align: right;\">\n",
       "      <th></th>\n",
       "      <th>age</th>\n",
       "      <th>education</th>\n",
       "      <th>hours-per-week</th>\n",
       "      <th>workclass_Private</th>\n",
       "      <th>workclass_Public</th>\n",
       "      <th>workclass_Self-emp</th>\n",
       "      <th>marital-status_Married</th>\n",
       "      <th>marital-status_Single</th>\n",
       "      <th>race_Amer-Indian</th>\n",
       "      <th>race_Asian</th>\n",
       "      <th>race_Black</th>\n",
       "      <th>race_Hispanic</th>\n",
       "      <th>race_White</th>\n",
       "      <th>sex_Female</th>\n",
       "      <th>sex_Male</th>\n",
       "    </tr>\n",
       "  </thead>\n",
       "  <tbody>\n",
       "    <tr>\n",
       "      <th>272</th>\n",
       "      <td>50</td>\n",
       "      <td>10</td>\n",
       "      <td>45</td>\n",
       "      <td>1</td>\n",
       "      <td>0</td>\n",
       "      <td>0</td>\n",
       "      <td>0</td>\n",
       "      <td>1</td>\n",
       "      <td>0</td>\n",
       "      <td>0</td>\n",
       "      <td>0</td>\n",
       "      <td>0</td>\n",
       "      <td>1</td>\n",
       "      <td>0</td>\n",
       "      <td>1</td>\n",
       "    </tr>\n",
       "    <tr>\n",
       "      <th>7383</th>\n",
       "      <td>41</td>\n",
       "      <td>9</td>\n",
       "      <td>40</td>\n",
       "      <td>1</td>\n",
       "      <td>0</td>\n",
       "      <td>0</td>\n",
       "      <td>0</td>\n",
       "      <td>1</td>\n",
       "      <td>0</td>\n",
       "      <td>0</td>\n",
       "      <td>0</td>\n",
       "      <td>0</td>\n",
       "      <td>1</td>\n",
       "      <td>1</td>\n",
       "      <td>0</td>\n",
       "    </tr>\n",
       "    <tr>\n",
       "      <th>5508</th>\n",
       "      <td>38</td>\n",
       "      <td>9</td>\n",
       "      <td>50</td>\n",
       "      <td>0</td>\n",
       "      <td>1</td>\n",
       "      <td>0</td>\n",
       "      <td>0</td>\n",
       "      <td>1</td>\n",
       "      <td>0</td>\n",
       "      <td>0</td>\n",
       "      <td>0</td>\n",
       "      <td>0</td>\n",
       "      <td>1</td>\n",
       "      <td>0</td>\n",
       "      <td>1</td>\n",
       "    </tr>\n",
       "    <tr>\n",
       "      <th>4471</th>\n",
       "      <td>44</td>\n",
       "      <td>9</td>\n",
       "      <td>40</td>\n",
       "      <td>1</td>\n",
       "      <td>0</td>\n",
       "      <td>0</td>\n",
       "      <td>0</td>\n",
       "      <td>1</td>\n",
       "      <td>0</td>\n",
       "      <td>0</td>\n",
       "      <td>0</td>\n",
       "      <td>0</td>\n",
       "      <td>1</td>\n",
       "      <td>1</td>\n",
       "      <td>0</td>\n",
       "    </tr>\n",
       "    <tr>\n",
       "      <th>6138</th>\n",
       "      <td>21</td>\n",
       "      <td>10</td>\n",
       "      <td>45</td>\n",
       "      <td>1</td>\n",
       "      <td>0</td>\n",
       "      <td>0</td>\n",
       "      <td>0</td>\n",
       "      <td>1</td>\n",
       "      <td>0</td>\n",
       "      <td>0</td>\n",
       "      <td>0</td>\n",
       "      <td>0</td>\n",
       "      <td>1</td>\n",
       "      <td>0</td>\n",
       "      <td>1</td>\n",
       "    </tr>\n",
       "  </tbody>\n",
       "</table>\n",
       "</div>"
      ],
      "text/plain": [
       "      age  education  hours-per-week  workclass_Private  workclass_Public  \\\n",
       "272    50         10              45                  1                 0   \n",
       "7383   41          9              40                  1                 0   \n",
       "5508   38          9              50                  0                 1   \n",
       "4471   44          9              40                  1                 0   \n",
       "6138   21         10              45                  1                 0   \n",
       "\n",
       "      workclass_Self-emp  marital-status_Married  marital-status_Single  \\\n",
       "272                    0                       0                      1   \n",
       "7383                   0                       0                      1   \n",
       "5508                   0                       0                      1   \n",
       "4471                   0                       0                      1   \n",
       "6138                   0                       0                      1   \n",
       "\n",
       "      race_Amer-Indian  race_Asian  race_Black  race_Hispanic  race_White  \\\n",
       "272                  0           0           0              0           1   \n",
       "7383                 0           0           0              0           1   \n",
       "5508                 0           0           0              0           1   \n",
       "4471                 0           0           0              0           1   \n",
       "6138                 0           0           0              0           1   \n",
       "\n",
       "      sex_Female  sex_Male  \n",
       "272            0         1  \n",
       "7383           1         0  \n",
       "5508           0         1  \n",
       "4471           1         0  \n",
       "6138           0         1  "
      ]
     },
     "execution_count": 12,
     "metadata": {},
     "output_type": "execute_result"
    }
   ],
   "source": [
    "print(vs_train.shape)\n",
    "vs_train[0:5]  # the first five records"
   ]
  },
  {
   "cell_type": "markdown",
   "id": "aeaa7062",
   "metadata": {},
   "source": [
    "## b. Using  scikit-learn's KNN implementation for classification. "
   ]
  },
  {
   "cell_type": "markdown",
   "id": "135227dc",
   "metadata": {},
   "source": [
    "#### 1. let's normalize the data so that all attributes are in the same scale (between 0 and 1)\n",
    "<p>Using the preprocessing module from sklearn, perform min-max normalization to rescale the numeric attributes.<p>"
   ]
  },
  {
   "cell_type": "code",
   "execution_count": 13,
   "id": "34266744",
   "metadata": {},
   "outputs": [],
   "source": [
    "min_max_scaler = preprocessing.MinMaxScaler().fit(vs_train)\n",
    "vs_train_norm = min_max_scaler.transform(vs_train)\n",
    "vs_test_norm = min_max_scaler.transform(vs_test)"
   ]
  },
  {
   "cell_type": "code",
   "execution_count": 14,
   "id": "ecd579d2",
   "metadata": {},
   "outputs": [
    {
     "data": {
      "text/plain": [
       "array([[0.45, 0.6 , 0.45, 1.  , 0.  , 0.  , 0.  , 1.  , 0.  , 0.  , 0.  ,\n",
       "        0.  , 1.  , 0.  , 1.  ],\n",
       "       [0.33, 0.53, 0.4 , 1.  , 0.  , 0.  , 0.  , 1.  , 0.  , 0.  , 0.  ,\n",
       "        0.  , 1.  , 1.  , 0.  ],\n",
       "       [0.29, 0.53, 0.5 , 0.  , 1.  , 0.  , 0.  , 1.  , 0.  , 0.  , 0.  ,\n",
       "        0.  , 1.  , 0.  , 1.  ],\n",
       "       [0.37, 0.53, 0.4 , 1.  , 0.  , 0.  , 0.  , 1.  , 0.  , 0.  , 0.  ,\n",
       "        0.  , 1.  , 1.  , 0.  ],\n",
       "       [0.05, 0.6 , 0.45, 1.  , 0.  , 0.  , 0.  , 1.  , 0.  , 0.  , 0.  ,\n",
       "        0.  , 1.  , 0.  , 1.  ]])"
      ]
     },
     "execution_count": 14,
     "metadata": {},
     "output_type": "execute_result"
    }
   ],
   "source": [
    "np.set_printoptions(precision=2, linewidth=80, suppress=True)\n",
    "vs_train_norm[0:5] # view the first five records"
   ]
  },
  {
   "cell_type": "code",
   "execution_count": 15,
   "id": "d1bf2d5f",
   "metadata": {},
   "outputs": [
    {
     "data": {
      "text/plain": [
       "array([[0.53, 0.6 , 0.45, 1.  , 0.  , 0.  , 1.  , 0.  , 0.  , 0.  , 0.  ,\n",
       "        0.  , 1.  , 0.  , 1.  ],\n",
       "       [0.51, 0.53, 0.45, 1.  , 0.  , 0.  , 1.  , 0.  , 0.  , 0.  , 0.  ,\n",
       "        0.  , 1.  , 0.  , 1.  ],\n",
       "       [0.48, 0.67, 0.35, 1.  , 0.  , 0.  , 0.  , 1.  , 0.  , 0.  , 0.  ,\n",
       "        0.  , 1.  , 1.  , 0.  ],\n",
       "       [0.34, 1.  , 0.6 , 0.  , 0.  , 1.  , 1.  , 0.  , 0.  , 0.  , 0.  ,\n",
       "        0.  , 1.  , 0.  , 1.  ],\n",
       "       [0.18, 0.53, 0.5 , 0.  , 0.  , 1.  , 1.  , 0.  , 0.  , 0.  , 0.  ,\n",
       "        0.  , 1.  , 0.  , 1.  ]])"
      ]
     },
     "execution_count": 15,
     "metadata": {},
     "output_type": "execute_result"
    }
   ],
   "source": [
    "vs_test_norm[0:5] # view the first five records"
   ]
  },
  {
   "cell_type": "markdown",
   "id": "e379aa61",
   "metadata": {},
   "source": [
    "#### Run the KNN classifier using K = 10"
   ]
  },
  {
   "cell_type": "code",
   "execution_count": 16,
   "id": "ce77d24c",
   "metadata": {},
   "outputs": [
    {
     "data": {
      "text/plain": [
       "KNeighborsClassifier(n_neighbors=10, weights='distance')"
      ]
     },
     "execution_count": 16,
     "metadata": {},
     "output_type": "execute_result"
    }
   ],
   "source": [
    "k = 10\n",
    "knnclf = neighbors.KNeighborsClassifier(k, weights = 'distance') # remember the closest neighbors have a high say.\n",
    "\n",
    "# let's training the classifier with the training data and training target labels\n",
    "knnclf.fit(vs_train_norm, vs_target_train)"
   ]
  },
  {
   "cell_type": "markdown",
   "id": "773d95f9",
   "metadata": {},
   "source": [
    "#### Then, we call the predict function on the test instances to produce the predicted classes.\n",
    "<p>Note that <strong>vs_test_norm</strong> is our test instance data set</p>"
   ]
  },
  {
   "cell_type": "code",
   "execution_count": 17,
   "id": "7d7a2c2b",
   "metadata": {},
   "outputs": [
    {
     "name": "stdout",
     "output_type": "stream",
     "text": [
      "[1 1 0 1 0]\n",
      "7917    0\n",
      "2456    0\n",
      "2358    0\n",
      "6709    1\n",
      "5523    0\n",
      "Name: income_>50K, dtype: uint8\n"
     ]
    }
   ],
   "source": [
    "knnpreds_test = knnclf.predict(vs_test_norm)\n",
    "print(knnpreds_test[0:5]) # this is what is predicted on the unseen data\n",
    "\n",
    "print(vs_target_test[0:5]) # These are the actual labels"
   ]
  },
  {
   "cell_type": "markdown",
   "id": "0bd23717",
   "metadata": {},
   "source": [
    "<p>Comparing the first 5 predicted labels with the first five actual labels:</p>\n",
    "    <ul>\n",
    "    <li>The first two predicted labels are different from the first two actual labels.</li>\n",
    "    <li>The third, fourth, fifth predicted, and actual labels are equal. </li>\n",
    "    </ul>"
   ]
  },
  {
   "cell_type": "markdown",
   "id": "4af0f2d6",
   "metadata": {},
   "source": [
    "#### Let's generate the confusion matrix  by using the confusion_matrix() function from sklearn.metrics package"
   ]
  },
  {
   "cell_type": "code",
   "execution_count": 18,
   "id": "e07bd030",
   "metadata": {},
   "outputs": [
    {
     "name": "stdout",
     "output_type": "stream",
     "text": [
      "[[1283  160]\n",
      " [ 228  212]]\n"
     ]
    }
   ],
   "source": [
    "knncm = confusion_matrix(vs_target_test, knnpreds_test, labels = [0, 1])\n",
    "print(knncm)"
   ]
  },
  {
   "cell_type": "markdown",
   "id": "bd53f0ce",
   "metadata": {},
   "source": [
    "#### Using the crosstab method in Pandas, we can obtain a confusion matrix:"
   ]
  },
  {
   "cell_type": "code",
   "execution_count": 19,
   "id": "c208d4f8",
   "metadata": {},
   "outputs": [
    {
     "data": {
      "text/html": [
       "<div>\n",
       "<style scoped>\n",
       "    .dataframe tbody tr th:only-of-type {\n",
       "        vertical-align: middle;\n",
       "    }\n",
       "\n",
       "    .dataframe tbody tr th {\n",
       "        vertical-align: top;\n",
       "    }\n",
       "\n",
       "    .dataframe thead th {\n",
       "        text-align: right;\n",
       "    }\n",
       "</style>\n",
       "<table border=\"1\" class=\"dataframe\">\n",
       "  <thead>\n",
       "    <tr style=\"text-align: right;\">\n",
       "      <th>Predicted</th>\n",
       "      <th>0</th>\n",
       "      <th>1</th>\n",
       "      <th>All</th>\n",
       "    </tr>\n",
       "    <tr>\n",
       "      <th>True</th>\n",
       "      <th></th>\n",
       "      <th></th>\n",
       "      <th></th>\n",
       "    </tr>\n",
       "  </thead>\n",
       "  <tbody>\n",
       "    <tr>\n",
       "      <th>0</th>\n",
       "      <td>1283</td>\n",
       "      <td>160</td>\n",
       "      <td>1443</td>\n",
       "    </tr>\n",
       "    <tr>\n",
       "      <th>1</th>\n",
       "      <td>228</td>\n",
       "      <td>212</td>\n",
       "      <td>440</td>\n",
       "    </tr>\n",
       "    <tr>\n",
       "      <th>All</th>\n",
       "      <td>1511</td>\n",
       "      <td>372</td>\n",
       "      <td>1883</td>\n",
       "    </tr>\n",
       "  </tbody>\n",
       "</table>\n",
       "</div>"
      ],
      "text/plain": [
       "Predicted     0    1   All\n",
       "True                      \n",
       "0          1283  160  1443\n",
       "1           228  212   440\n",
       "All        1511  372  1883"
      ]
     },
     "execution_count": 19,
     "metadata": {},
     "output_type": "execute_result"
    }
   ],
   "source": [
    "pd.crosstab(vs_target_test,  knnpreds_test, margins = True, colnames = ['Predicted'],  rownames = ['True'])"
   ]
  },
  {
   "cell_type": "markdown",
   "id": "dac4dd88",
   "metadata": {},
   "source": [
    "#### Using Matplotlib, let's come up with a better visualization to plot a confusion matrix."
   ]
  },
  {
   "cell_type": "code",
   "execution_count": 20,
   "id": "a342de09",
   "metadata": {},
   "outputs": [
    {
     "data": {
      "image/png": "[encoded data removed]",
      "text/plain": [
       "<Figure size 288x288 with 2 Axes>"
      ]
     },
     "metadata": {},
     "output_type": "display_data"
    }
   ],
   "source": [
    "import pylab as plt\n",
    "#fig = plt.figure(figsize=(15, 5)) # set the size of the container\n",
    "plt.matshow(knncm)\n",
    "plt.title('Confusion matrix')\n",
    "plt.colorbar()\n",
    "plt.ylabel('Actual')\n",
    "plt.xlabel('Predicted')\n",
    "plt.show()"
   ]
  },
  {
   "cell_type": "markdown",
   "id": "0ef954b0",
   "metadata": {},
   "source": [
    "#### let's use the scikit-learn classification_report module to evaluate the classifier accuracy"
   ]
  },
  {
   "cell_type": "code",
   "execution_count": 21,
   "id": "59a4aa96",
   "metadata": {},
   "outputs": [
    {
     "name": "stdout",
     "output_type": "stream",
     "text": [
      "              precision    recall  f1-score   support\n",
      "\n",
      "           0       0.85      0.89      0.87      1443\n",
      "           1       0.57      0.48      0.52       440\n",
      "\n",
      "    accuracy                           0.79      1883\n",
      "   macro avg       0.71      0.69      0.70      1883\n",
      "weighted avg       0.78      0.79      0.79      1883\n",
      "\n"
     ]
    }
   ],
   "source": [
    "print(classification_report(vs_target_test,  knnpreds_test))"
   ]
  },
  {
   "cell_type": "markdown",
   "id": "ca83614e",
   "metadata": {},
   "source": [
    "### Report the model accuracy for both the training and test sets."
   ]
  },
  {
   "cell_type": "markdown",
   "id": "c170844e",
   "metadata": {},
   "source": [
    "#### we compute the average accuracy score across the test instances."
   ]
  },
  {
   "cell_type": "code",
   "execution_count": 22,
   "id": "a16b2ec6",
   "metadata": {},
   "outputs": [
    {
     "name": "stdout",
     "output_type": "stream",
     "text": [
      "0.79\n"
     ]
    }
   ],
   "source": [
    "print(round(knnclf.score(vs_test_norm, vs_target_test), 2))"
   ]
  },
  {
   "cell_type": "markdown",
   "id": "250a38d9",
   "metadata": {},
   "source": [
    "#### we compute the average accuracy score across the training instances."
   ]
  },
  {
   "cell_type": "code",
   "execution_count": 23,
   "id": "cee0d96a",
   "metadata": {},
   "outputs": [
    {
     "name": "stdout",
     "output_type": "stream",
     "text": [
      "0.94\n"
     ]
    }
   ],
   "source": [
    "print(round(knnclf.score(vs_train_norm, vs_target_train), 2))"
   ]
  },
  {
   "cell_type": "markdown",
   "id": "557d3388",
   "metadata": {},
   "source": [
    "#### 2.\tNext, experiment with different values of K (say from 5 to 100) and the weight parameter (i.e., with or without distance weighting) to see if you can improve accuracy of the KNN classifier."
   ]
  },
  {
   "cell_type": "markdown",
   "id": "6130785b",
   "metadata": {},
   "source": [
    "#### let's first define arrays to store training and test accuracies"
   ]
  },
  {
   "cell_type": "code",
   "execution_count": 24,
   "id": "e9e663ef",
   "metadata": {},
   "outputs": [
    {
     "name": "stdout",
     "output_type": "stream",
     "text": [
      "[ 1  2  3  4  5  6  7  8  9 10 11 12 13 14 15 16 17 18 19 20 21 22 23 24 25 26\n",
      " 27 28 29 30 31 32 33 34 35 36 37 38 39 40 41 42 43 44 45 46 47 48 49 50 51 52\n",
      " 53 54 55 56 57 58 59 60 61 62 63 64 65 66 67 68 69 70 71 72 73 74 75 76 77 78\n",
      " 79 80 81 82 83 84 85 86 87 88 89 90 91 92 93 94 95 96 97 98 99]\n"
     ]
    }
   ],
   "source": [
    "# generate an array of k values from 5 too 100 with a step of 5\n",
    "w_neighbors = np.arange(1, 100) \n",
    "print(w_neighbors)\n",
    "vs_uniformTraining_accuracy = np.zeros(len(w_neighbors))\n",
    "vs_uniformTesting_accuracy = np.zeros(len(w_neighbors))\n",
    "vs_distanceTraining_accuracy = np.zeros(len(w_neighbors))\n",
    "vs_distanceTesting_accuracy = np.zeros(len(w_neighbors))"
   ]
  },
  {
   "cell_type": "code",
   "execution_count": 25,
   "id": "6b748226",
   "metadata": {},
   "outputs": [
    {
     "name": "stdout",
     "output_type": "stream",
     "text": [
      "Wall time: 4min 32s\n"
     ]
    }
   ],
   "source": [
    "%%time\n",
    "# loop through the ndarray\n",
    "for num, k in enumerate(w_neighbors):\n",
    "    # derive a classifier with K neighbors without distance weights\n",
    "    knnclf_uni = neighbors.KNeighborsClassifier(n_neighbors = k)\n",
    "    \n",
    "    # derive a classifier with K neighbors weights = 'distance' \n",
    "    knnclf_dist = neighbors.KNeighborsClassifier(n_neighbors = k, weights = 'distance')\n",
    "    \n",
    "    # lets fit both models by passing the training data set and target labels\n",
    "    knnclf_uni.fit(vs_train_norm, vs_target_train)\n",
    "    \n",
    "    knnclf_dist.fit(vs_train_norm, vs_target_train)\n",
    "    \n",
    "    # lets derive the average accuracy on the training data set using the uniform classifier\n",
    "    vs_uniformTraining_accuracy[num] = knnclf_uni.score(vs_train_norm, vs_target_train) \n",
    "    \n",
    "    # lets derive the average accuracy on the testing data set using the uniform classifier.\n",
    "    vs_uniformTesting_accuracy[num] = knnclf_uni.score(vs_test_norm, vs_target_test)\n",
    "    \n",
    "    # lets derive the average accuracy on the training data set using the KNN distance classifier\n",
    "    vs_distanceTraining_accuracy[num] = knnclf_dist.score(vs_train_norm, vs_target_train) \n",
    "    \n",
    "    # lets derive the average accuracy on the testing data set using the KNN distance classifier.\n",
    "    vs_distanceTesting_accuracy[num] = knnclf_dist.score(vs_test_norm, vs_target_test)"
   ]
  },
  {
   "cell_type": "code",
   "execution_count": 26,
   "id": "f3d0bde9",
   "metadata": {},
   "outputs": [
    {
     "data": {
      "image/png": "[encoded data removed]",
      "text/plain": [
       "<Figure size 1800x720 with 1 Axes>"
      ]
     },
     "metadata": {},
     "output_type": "display_data"
    }
   ],
   "source": [
    "fig = plt.figure(figsize=(25, 10)) # set the size of the container\n",
    "plt.plot(w_neighbors, vs_uniformTesting_accuracy,  label  = 'Uniform Testing Accuracy',   color = '#31a354')\n",
    "plt.plot(w_neighbors, vs_uniformTraining_accuracy, label = 'Uniform Training Accuracy', color = '#d95f0e')\n",
    "\n",
    "plt.plot(w_neighbors, vs_distanceTesting_accuracy,  label  = 'Dist Testing Accuracy',   color = '#2c7fb8')\n",
    "plt.plot(w_neighbors, vs_distanceTraining_accuracy, label = 'Dist Training Accuracy', color = '#dd1c77')\n",
    "\n",
    "plt.xlabel('k')\n",
    "plt.ylabel('Accuracy')\n",
    "plt.legend()\n",
    "plt.title('Comparing the Distance and uniform weighting schemes across the different values of k')\n",
    "plt.xticks(ticks = w_neighbors)\n",
    "plt.show()"
   ]
  },
  {
   "cell_type": "markdown",
   "id": "2b52535e",
   "metadata": {},
   "source": [
    "<p>Our best value of k will be at k = 51 and this is when we use the distance weighting.</p>"
   ]
  },
  {
   "cell_type": "markdown",
   "id": "147f6877",
   "metadata": {},
   "source": [
    "#### Train a new KNN classifier and report the accuracy of this classifier on both the training and test sets"
   ]
  },
  {
   "cell_type": "code",
   "execution_count": 27,
   "id": "42f3e94e",
   "metadata": {},
   "outputs": [
    {
     "name": "stdout",
     "output_type": "stream",
     "text": [
      "[1 1 0 1 0]\n",
      "The average accuracy score across the test instance when k = 51 is 80.30%\n",
      "The average accuracy score across the training instance when k = 51 is 94.26%\n"
     ]
    }
   ],
   "source": [
    "#### training a new classifer\n",
    "k = 51\n",
    "knnclf_b = neighbors.KNeighborsClassifier(n_neighbors = k, weights = 'distance')\n",
    "\n",
    "# let's training the classifier with the training data and training target labels\n",
    "knnclf_b.fit(vs_train_norm, vs_target_train)\n",
    "\n",
    "# we call the predict function on the test instances to produce the predicted classes.\n",
    "knnpreds_test = knnclf_b.predict(vs_test_norm)\n",
    "print(knnpreds_test[0:5]) # this is what is predicted on the unseen data \n",
    "\n",
    "# we compute the average accuracy score across the test instances\n",
    "\n",
    "print('The average accuracy score across the test instance when k = %s is %0.2f%%' %(k,  knnclf_b.score(vs_test_norm, vs_target_test) * 100))\n",
    "\n",
    "# we compute the average accuracy score across the training instances\n",
    "print('The average accuracy score across the training instance when k = %s is %0.2f%%' %(k, knnclf_b.score(vs_train_norm, vs_target_train)*100))\n"
   ]
  },
  {
   "cell_type": "markdown",
   "id": "49f84b78",
   "metadata": {},
   "source": [
    "#### Confusion matrix"
   ]
  },
  {
   "cell_type": "code",
   "execution_count": 28,
   "id": "a26b47fe",
   "metadata": {},
   "outputs": [
    {
     "data": {
      "text/html": [
       "<div>\n",
       "<style scoped>\n",
       "    .dataframe tbody tr th:only-of-type {\n",
       "        vertical-align: middle;\n",
       "    }\n",
       "\n",
       "    .dataframe tbody tr th {\n",
       "        vertical-align: top;\n",
       "    }\n",
       "\n",
       "    .dataframe thead th {\n",
       "        text-align: right;\n",
       "    }\n",
       "</style>\n",
       "<table border=\"1\" class=\"dataframe\">\n",
       "  <thead>\n",
       "    <tr style=\"text-align: right;\">\n",
       "      <th>Predicted</th>\n",
       "      <th>0</th>\n",
       "      <th>1</th>\n",
       "      <th>All</th>\n",
       "    </tr>\n",
       "    <tr>\n",
       "      <th>True</th>\n",
       "      <th></th>\n",
       "      <th></th>\n",
       "      <th></th>\n",
       "    </tr>\n",
       "  </thead>\n",
       "  <tbody>\n",
       "    <tr>\n",
       "      <th>0</th>\n",
       "      <td>1295</td>\n",
       "      <td>148</td>\n",
       "      <td>1443</td>\n",
       "    </tr>\n",
       "    <tr>\n",
       "      <th>1</th>\n",
       "      <td>223</td>\n",
       "      <td>217</td>\n",
       "      <td>440</td>\n",
       "    </tr>\n",
       "    <tr>\n",
       "      <th>All</th>\n",
       "      <td>1518</td>\n",
       "      <td>365</td>\n",
       "      <td>1883</td>\n",
       "    </tr>\n",
       "  </tbody>\n",
       "</table>\n",
       "</div>"
      ],
      "text/plain": [
       "Predicted     0    1   All\n",
       "True                      \n",
       "0          1295  148  1443\n",
       "1           223  217   440\n",
       "All        1518  365  1883"
      ]
     },
     "execution_count": 28,
     "metadata": {},
     "output_type": "execute_result"
    }
   ],
   "source": [
    "pd.crosstab(vs_target_test,  knnpreds_test, margins = True, colnames = ['Predicted'],  rownames = ['True'])"
   ]
  },
  {
   "cell_type": "markdown",
   "id": "525e0bd1",
   "metadata": {},
   "source": [
    "#### 3. Next, using only \"uniform\" weights, compare the accuracy of the KNN classifier across the different values of K on the training and the test data. You should show the results in a single figure with two line plots for the test and training accuracy values (y-axis) and with values of K in the x-axis. What range of values of K represent overfitting? Briefly explain"
   ]
  },
  {
   "cell_type": "code",
   "execution_count": 29,
   "id": "3d926494",
   "metadata": {},
   "outputs": [
    {
     "name": "stdout",
     "output_type": "stream",
     "text": [
      "[ 1  2  3  4  5  6  7  8  9 10 11 12 13 14 15 16 17 18 19 20 21 22 23 24 25 26\n",
      " 27 28 29 30 31 32 33 34 35 36 37 38 39 40 41 42 43 44 45 46 47 48 49 50 51 52\n",
      " 53 54 55 56 57 58 59 60 61 62 63 64 65 66 67 68 69 70 71 72 73 74 75 76 77 78\n",
      " 79 80 81 82 83 84 85 86 87 88 89 90 91 92 93 94 95 96 97 98 99]\n"
     ]
    }
   ],
   "source": [
    "# generate an array of k values from 5 too 100 with a step of 5\n",
    "k_neighbors = np.arange(1, 100) \n",
    "print(k_neighbors)\n",
    "vs_train_accuracy = np.zeros(len(k_neighbors))\n",
    "vs_test_accuracy = np.zeros(len(k_neighbors))"
   ]
  },
  {
   "cell_type": "code",
   "execution_count": 30,
   "id": "e2b70e0d",
   "metadata": {},
   "outputs": [
    {
     "name": "stdout",
     "output_type": "stream",
     "text": [
      "Wall time: 2min 41s\n"
     ]
    }
   ],
   "source": [
    "%%time\n",
    "# loop through the ndarray\n",
    "for num, k in enumerate(k_neighbors):\n",
    "    # derive a classifier with K neighbors without distance weights\n",
    "    knnclf = neighbors.KNeighborsClassifier(n_neighbors = k)\n",
    "    \n",
    "    # lets fit the model by passing the training data set and target labels\n",
    "    knnclf.fit(vs_train_norm, vs_target_train)\n",
    "    \n",
    "    # lets derive the average accuracy on the training data set\n",
    "    vs_train_accuracy[num] = knnclf.score(vs_train_norm, vs_target_train) \n",
    "    \n",
    "    # lets derive the average accuracy on the testing data set.\n",
    "    vs_test_accuracy[num] = knnclf.score(vs_test_norm, vs_target_test)"
   ]
  },
  {
   "cell_type": "code",
   "execution_count": 31,
   "id": "a87b7f28",
   "metadata": {},
   "outputs": [
    {
     "name": "stdout",
     "output_type": "stream",
     "text": [
      "[0.93 0.86 0.87 0.85 0.86]\n",
      "[0.77 0.78 0.79 0.8  0.79]\n"
     ]
    }
   ],
   "source": [
    "print(vs_train_accuracy[0:5]) # view the first 5 scores\n",
    "print(vs_test_accuracy[0:5])"
   ]
  },
  {
   "cell_type": "markdown",
   "id": "99afc52a",
   "metadata": {},
   "source": [
    "#### let's graph a single plot comparing training and testing accuracies across the different k values.\n"
   ]
  },
  {
   "cell_type": "code",
   "execution_count": 32,
   "id": "59dc3f80",
   "metadata": {},
   "outputs": [
    {
     "data": {
      "image/png": "[encoded data removed]",
      "text/plain": [
       "<Figure size 1800x720 with 1 Axes>"
      ]
     },
     "metadata": {},
     "output_type": "display_data"
    }
   ],
   "source": [
    "fig = plt.figure(figsize=(25, 10)) # set the size of the container\n",
    "plt.plot(k_neighbors, vs_test_accuracy,  label  = 'Testing Accuracy',   color = '#31a354')\n",
    "plt.plot(k_neighbors, vs_train_accuracy, label = 'Training Accuracy', color = '#d95f0e')\n",
    "plt.xlabel('k')\n",
    "plt.ylabel('Accuracy')\n",
    "plt.legend()\n",
    "plt.title('Comparing KNN Classifier Accuracy')\n",
    "plt.xticks(ticks = k_neighbors)\n",
    "plt.show()"
   ]
  },
  {
   "cell_type": "markdown",
   "id": "754ed68c",
   "metadata": {},
   "source": [
    "####  The range from 1 to 51 doesn't include any reliable or stable patterns, which indicate over fitting and unstable patterns in the plot above are likely to be a result of not having enough data.We can hardly learn anything in general."
   ]
  },
  {
   "cell_type": "markdown",
   "id": "6906f726",
   "metadata": {},
   "source": [
    "#### Use the best values of these parameters to train a new KNN and report the accuracy of this classifier on the training and test sets"
   ]
  },
  {
   "cell_type": "code",
   "execution_count": 33,
   "id": "df316a8d",
   "metadata": {},
   "outputs": [],
   "source": [
    "# #### training a new classifer\n",
    "# k = 41\n",
    "# knnclf_b = neighbors.KNeighborsClassifier(n_neighbors = k, weights = 'distance')\n",
    "\n",
    "# # let's training the classifier with the training data and training target labels\n",
    "# knnclf_b.fit(vs_train_norm, vs_target_train)\n",
    "\n",
    "# # we call the predict function on the test instances to produce the predicted classes.\n",
    "# knnpreds_test = knnclf_b.predict(vs_test_norm)\n",
    "# print(knnpreds_test[0:5]) # this is what is predicted on the unseen data \n",
    "\n",
    "# # we compute the average accuracy score across the test instances\n",
    "\n",
    "# print('The average accuracy score across the test instance when k = %s is %0.2f%%' %(k,  knnclf_b.score(vs_test_norm, vs_target_test) * 100))\n",
    "\n",
    "# # we compute the average accuracy score across the training instances\n",
    "# print('The average accuracy score across the training instance when k = %s is %0.2f%%' %(k, knnclf_b.score(vs_train_norm, vs_target_train)*100))\n"
   ]
  },
  {
   "cell_type": "markdown",
   "id": "eac661fe",
   "metadata": {},
   "source": [
    "#### c. Using the non-normalized training and test data, perform classification using scikit-learn's decision tree classifier (using the default parameters). "
   ]
  },
  {
   "cell_type": "markdown",
   "id": "5ddc2e27",
   "metadata": {},
   "source": [
    "##### let's build a decision tree classifier"
   ]
  },
  {
   "cell_type": "code",
   "execution_count": 34,
   "id": "ea47ebc1",
   "metadata": {},
   "outputs": [],
   "source": [
    "treeclf = tree.DecisionTreeClassifier(criterion='entropy', min_samples_split=3) # minimum number in the parent before you decide that you can split further is 3, if it is less than 3 don't split. \n",
    "treeclf = treeclf.fit(vs_train, vs_target_train) # training your classifier"
   ]
  },
  {
   "cell_type": "markdown",
   "id": "8cae6fe1",
   "metadata": {},
   "source": [
    "#### Note that trees will not be impacted by normalizing the data"
   ]
  },
  {
   "cell_type": "markdown",
   "id": "f9aab31f",
   "metadata": {},
   "source": [
    "#### let's predict on the entire test matrix"
   ]
  },
  {
   "cell_type": "code",
   "execution_count": 35,
   "id": "4cce440c",
   "metadata": {},
   "outputs": [
    {
     "name": "stdout",
     "output_type": "stream",
     "text": [
      "[0 1 0 ... 0 0 1]\n"
     ]
    }
   ],
   "source": [
    "treePreds_test = treeclf.predict(vs_test)\n",
    "print(treePreds_test)"
   ]
  },
  {
   "cell_type": "markdown",
   "id": "00b2694c",
   "metadata": {},
   "source": [
    "#### Generate the confusion matrix"
   ]
  },
  {
   "cell_type": "code",
   "execution_count": 36,
   "id": "d728b715",
   "metadata": {},
   "outputs": [
    {
     "name": "stdout",
     "output_type": "stream",
     "text": [
      "[[1256  187]\n",
      " [ 244  196]]\n"
     ]
    }
   ],
   "source": [
    "treecm = confusion_matrix(vs_target_test, treePreds_test, labels = [0, 1])\n",
    "print(treecm)"
   ]
  },
  {
   "cell_type": "markdown",
   "id": "956c885c",
   "metadata": {},
   "source": [
    "#### Also, we can use Panda's crosstab to generate a confusion matrix"
   ]
  },
  {
   "cell_type": "code",
   "execution_count": 37,
   "id": "3b5222cb",
   "metadata": {},
   "outputs": [
    {
     "data": {
      "text/html": [
       "<div>\n",
       "<style scoped>\n",
       "    .dataframe tbody tr th:only-of-type {\n",
       "        vertical-align: middle;\n",
       "    }\n",
       "\n",
       "    .dataframe tbody tr th {\n",
       "        vertical-align: top;\n",
       "    }\n",
       "\n",
       "    .dataframe thead th {\n",
       "        text-align: right;\n",
       "    }\n",
       "</style>\n",
       "<table border=\"1\" class=\"dataframe\">\n",
       "  <thead>\n",
       "    <tr style=\"text-align: right;\">\n",
       "      <th>Predicted</th>\n",
       "      <th>0</th>\n",
       "      <th>1</th>\n",
       "      <th>All</th>\n",
       "    </tr>\n",
       "    <tr>\n",
       "      <th>True</th>\n",
       "      <th></th>\n",
       "      <th></th>\n",
       "      <th></th>\n",
       "    </tr>\n",
       "  </thead>\n",
       "  <tbody>\n",
       "    <tr>\n",
       "      <th>0</th>\n",
       "      <td>1256</td>\n",
       "      <td>187</td>\n",
       "      <td>1443</td>\n",
       "    </tr>\n",
       "    <tr>\n",
       "      <th>1</th>\n",
       "      <td>244</td>\n",
       "      <td>196</td>\n",
       "      <td>440</td>\n",
       "    </tr>\n",
       "    <tr>\n",
       "      <th>All</th>\n",
       "      <td>1500</td>\n",
       "      <td>383</td>\n",
       "      <td>1883</td>\n",
       "    </tr>\n",
       "  </tbody>\n",
       "</table>\n",
       "</div>"
      ],
      "text/plain": [
       "Predicted     0    1   All\n",
       "True                      \n",
       "0          1256  187  1443\n",
       "1           244  196   440\n",
       "All        1500  383  1883"
      ]
     },
     "execution_count": 37,
     "metadata": {},
     "output_type": "execute_result"
    }
   ],
   "source": [
    "pd.crosstab(vs_target_test,  treePreds_test, margins = True, colnames = ['Predicted'],  rownames = ['True'])"
   ]
  },
  {
   "cell_type": "markdown",
   "id": "da6cbe9c",
   "metadata": {},
   "source": [
    "#### Generate a classification report"
   ]
  },
  {
   "cell_type": "code",
   "execution_count": 38,
   "id": "b25ed17f",
   "metadata": {},
   "outputs": [
    {
     "name": "stdout",
     "output_type": "stream",
     "text": [
      "              precision    recall  f1-score   support\n",
      "\n",
      "           0       0.84      0.87      0.85      1443\n",
      "           1       0.51      0.45      0.48       440\n",
      "\n",
      "    accuracy                           0.77      1883\n",
      "   macro avg       0.67      0.66      0.66      1883\n",
      "weighted avg       0.76      0.77      0.77      1883\n",
      "\n"
     ]
    }
   ],
   "source": [
    "print(classification_report(vs_target_test, treePreds_test))"
   ]
  },
  {
   "cell_type": "markdown",
   "id": "58bf50da",
   "metadata": {},
   "source": [
    "<p>Our numbers are generally low.</p>"
   ]
  },
  {
   "cell_type": "markdown",
   "id": "369883bc",
   "metadata": {},
   "source": [
    "#### compute the average score for the testing set"
   ]
  },
  {
   "cell_type": "code",
   "execution_count": 39,
   "id": "ac6f2da4",
   "metadata": {},
   "outputs": [
    {
     "name": "stdout",
     "output_type": "stream",
     "text": [
      "0.77\n"
     ]
    }
   ],
   "source": [
    "print(round(treeclf.score(vs_test, vs_target_test), 2))"
   ]
  },
  {
   "cell_type": "markdown",
   "id": "fa5f7934",
   "metadata": {},
   "source": [
    "#### compute the average score for the training set"
   ]
  },
  {
   "cell_type": "code",
   "execution_count": 40,
   "id": "5a0def6b",
   "metadata": {},
   "outputs": [
    {
     "name": "stdout",
     "output_type": "stream",
     "text": [
      "0.93\n"
     ]
    }
   ],
   "source": [
    "print(round(treeclf.score(vs_train, vs_target_train), 2))"
   ]
  },
  {
   "cell_type": "markdown",
   "id": "6cc015a7",
   "metadata": {},
   "source": [
    "#### We learn that we have a big problem since there is a big drop between the average scores for the test and train. This means that we don't have enough data to learn something in general. Since we don't have enough data, our model is being overfitted which raises the need to tune it up. "
   ]
  },
  {
   "cell_type": "markdown",
   "id": "2b59933b",
   "metadata": {},
   "source": [
    "#### Next, we create another decision tree model (trained on the non-normalized training data) using \"gini\" index as the selection criteria, min_samples_split=10, and max_depth=4. "
   ]
  },
  {
   "cell_type": "code",
   "execution_count": 41,
   "id": "d18b86e9",
   "metadata": {},
   "outputs": [],
   "source": [
    "treeclf_pruned = tree.DecisionTreeClassifier(criterion='gini', min_samples_leaf=10, max_depth=4)\n",
    "treeclf_pruned = treeclf_pruned.fit(vs_train, vs_target_train) # training your classifier"
   ]
  },
  {
   "cell_type": "markdown",
   "id": "b64629ae",
   "metadata": {},
   "source": [
    "#### let's again predict on the entire test matrix"
   ]
  },
  {
   "cell_type": "code",
   "execution_count": 42,
   "id": "47c6ebbd",
   "metadata": {},
   "outputs": [
    {
     "name": "stdout",
     "output_type": "stream",
     "text": [
      "[0 0 0 ... 0 0 0]\n"
     ]
    }
   ],
   "source": [
    "treePreds_test = treeclf_pruned.predict(vs_test)\n",
    "print(treePreds_test)"
   ]
  },
  {
   "cell_type": "markdown",
   "id": "095fa876",
   "metadata": {},
   "source": [
    "#### show the accuracy results for both training and test sets"
   ]
  },
  {
   "cell_type": "markdown",
   "id": "084b576a",
   "metadata": {},
   "source": [
    "#### compute the average score for the testing set"
   ]
  },
  {
   "cell_type": "code",
   "execution_count": 43,
   "id": "73c33b29",
   "metadata": {},
   "outputs": [
    {
     "name": "stdout",
     "output_type": "stream",
     "text": [
      "0.82\n"
     ]
    }
   ],
   "source": [
    "print(round(treeclf_pruned.score(vs_test, vs_target_test), 2))"
   ]
  },
  {
   "cell_type": "markdown",
   "id": "8a2d6f87",
   "metadata": {},
   "source": [
    "#### compute the average score for the training set"
   ]
  },
  {
   "cell_type": "code",
   "execution_count": 44,
   "id": "959cfb35",
   "metadata": {},
   "outputs": [
    {
     "name": "stdout",
     "output_type": "stream",
     "text": [
      "0.82\n"
     ]
    }
   ],
   "source": [
    "print(round(treeclf_pruned.score(vs_train, vs_target_train), 2))"
   ]
  },
  {
   "cell_type": "markdown",
   "id": "667a7483",
   "metadata": {},
   "source": [
    "#### Comparing the accuracy on training and testing to check whether we have over or underfitting, we notice how good our classifier is doing in training and testing."
   ]
  },
  {
   "cell_type": "markdown",
   "id": "02d606b6",
   "metadata": {},
   "source": [
    "#### We could also look at the confusion matrix"
   ]
  },
  {
   "cell_type": "code",
   "execution_count": 45,
   "id": "fb4fd611",
   "metadata": {},
   "outputs": [
    {
     "name": "stdout",
     "output_type": "stream",
     "text": [
      "[[1358   85]\n",
      " [ 260  180]]\n"
     ]
    }
   ],
   "source": [
    "treecm = confusion_matrix(vs_target_test, treePreds_test, labels = [0, 1])\n",
    "print(treecm)"
   ]
  },
  {
   "cell_type": "code",
   "execution_count": 46,
   "id": "f6016cdc",
   "metadata": {},
   "outputs": [
    {
     "data": {
      "text/html": [
       "<div>\n",
       "<style scoped>\n",
       "    .dataframe tbody tr th:only-of-type {\n",
       "        vertical-align: middle;\n",
       "    }\n",
       "\n",
       "    .dataframe tbody tr th {\n",
       "        vertical-align: top;\n",
       "    }\n",
       "\n",
       "    .dataframe thead th {\n",
       "        text-align: right;\n",
       "    }\n",
       "</style>\n",
       "<table border=\"1\" class=\"dataframe\">\n",
       "  <thead>\n",
       "    <tr style=\"text-align: right;\">\n",
       "      <th>Predicted</th>\n",
       "      <th>0</th>\n",
       "      <th>1</th>\n",
       "      <th>All</th>\n",
       "    </tr>\n",
       "    <tr>\n",
       "      <th>True</th>\n",
       "      <th></th>\n",
       "      <th></th>\n",
       "      <th></th>\n",
       "    </tr>\n",
       "  </thead>\n",
       "  <tbody>\n",
       "    <tr>\n",
       "      <th>0</th>\n",
       "      <td>1358</td>\n",
       "      <td>85</td>\n",
       "      <td>1443</td>\n",
       "    </tr>\n",
       "    <tr>\n",
       "      <th>1</th>\n",
       "      <td>260</td>\n",
       "      <td>180</td>\n",
       "      <td>440</td>\n",
       "    </tr>\n",
       "    <tr>\n",
       "      <th>All</th>\n",
       "      <td>1618</td>\n",
       "      <td>265</td>\n",
       "      <td>1883</td>\n",
       "    </tr>\n",
       "  </tbody>\n",
       "</table>\n",
       "</div>"
      ],
      "text/plain": [
       "Predicted     0    1   All\n",
       "True                      \n",
       "0          1358   85  1443\n",
       "1           260  180   440\n",
       "All        1618  265  1883"
      ]
     },
     "execution_count": 46,
     "metadata": {},
     "output_type": "execute_result"
    }
   ],
   "source": [
    "pd.crosstab(vs_target_test,  treePreds_test, margins = True, colnames = ['Predicted'],  rownames = ['True'])"
   ]
  },
  {
   "cell_type": "markdown",
   "id": "8687a309",
   "metadata": {},
   "source": [
    "# Explain the above"
   ]
  },
  {
   "cell_type": "markdown",
   "id": "79656e03",
   "metadata": {},
   "source": [
    "#### Generate a visualized tree embedded in the Jupyter Notebook."
   ]
  },
  {
   "cell_type": "code",
   "execution_count": 47,
   "id": "ede1c64a",
   "metadata": {},
   "outputs": [
    {
     "data": {
      "image/svg+xml": [
       "<?xml version=\"1.0\" encoding=\"UTF-8\" standalone=\"no\"?>\r\n",
       "<!DOCTYPE svg PUBLIC \"-//W3C//DTD SVG 1.1//EN\"\r\n",
       " \"http://www.w3.org/Graphics/SVG/1.1/DTD/svg11.dtd\">\r\n",
       "<!-- Generated by graphviz version 2.38.0 (20140413.2041)\r\n",
       " -->\r\n",
       "<!-- Title: Tree Pages: 1 -->\r\n",
       "<svg width=\"2176pt\" height=\"552pt\"\r\n",
       " viewBox=\"0.00 0.00 2176.00 552.00\" xmlns=\"http://www.w3.org/2000/svg\" xmlns:xlink=\"http://www.w3.org/1999/xlink\">\r\n",
       "<g id=\"graph0\" class=\"graph\" transform=\"scale(1 1) rotate(0) translate(4 548)\">\r\n",
       "<title>Tree</title>\r\n",
       "<polygon fill=\"white\" stroke=\"none\" points=\"-4,4 -4,-548 2172,-548 2172,4 -4,4\"/>\r\n",
       "<!-- 0 -->\r\n",
       "<g id=\"node1\" class=\"node\"><title>0</title>\r\n",
       "<polygon fill=\"#eeab7b\" stroke=\"black\" points=\"1178,-544 978,-544 978,-461 1178,-461 1178,-544\"/>\r\n",
       "<text text-anchor=\"middle\" x=\"1078\" y=\"-528.8\" font-family=\"Helvetica,sans-Serif\" font-size=\"14.00\">marital&#45;status_Married &lt;= 0.5</text>\r\n",
       "<text text-anchor=\"middle\" x=\"1078\" y=\"-513.8\" font-family=\"Helvetica,sans-Serif\" font-size=\"14.00\">gini = 0.375</text>\r\n",
       "<text text-anchor=\"middle\" x=\"1078\" y=\"-498.8\" font-family=\"Helvetica,sans-Serif\" font-size=\"14.00\">samples = 7529</text>\r\n",
       "<text text-anchor=\"middle\" x=\"1078\" y=\"-483.8\" font-family=\"Helvetica,sans-Serif\" font-size=\"14.00\">value = [5650, 1879]</text>\r\n",
       "<text text-anchor=\"middle\" x=\"1078\" y=\"-468.8\" font-family=\"Helvetica,sans-Serif\" font-size=\"14.00\">class = 0</text>\r\n",
       "</g>\r\n",
       "<!-- 1 -->\r\n",
       "<g id=\"node2\" class=\"node\"><title>1</title>\r\n",
       "<polygon fill=\"#e78a47\" stroke=\"black\" points=\"888,-425 750,-425 750,-342 888,-342 888,-425\"/>\r\n",
       "<text text-anchor=\"middle\" x=\"819\" y=\"-409.8\" font-family=\"Helvetica,sans-Serif\" font-size=\"14.00\">education &lt;= 13.5</text>\r\n",
       "<text text-anchor=\"middle\" x=\"819\" y=\"-394.8\" font-family=\"Helvetica,sans-Serif\" font-size=\"14.00\">gini = 0.124</text>\r\n",
       "<text text-anchor=\"middle\" x=\"819\" y=\"-379.8\" font-family=\"Helvetica,sans-Serif\" font-size=\"14.00\">samples = 3705</text>\r\n",
       "<text text-anchor=\"middle\" x=\"819\" y=\"-364.8\" font-family=\"Helvetica,sans-Serif\" font-size=\"14.00\">value = [3458, 247]</text>\r\n",
       "<text text-anchor=\"middle\" x=\"819\" y=\"-349.8\" font-family=\"Helvetica,sans-Serif\" font-size=\"14.00\">class = 0</text>\r\n",
       "</g>\r\n",
       "<!-- 0&#45;&gt;1 -->\r\n",
       "<g id=\"edge1\" class=\"edge\"><title>0&#45;&gt;1</title>\r\n",
       "<path fill=\"none\" stroke=\"black\" d=\"M988.141,-460.907C958.61,-447.567 926.035,-432.852 897.422,-419.926\"/>\r\n",
       "<polygon fill=\"black\" stroke=\"black\" points=\"898.834,-416.723 888.28,-415.796 895.952,-423.103 898.834,-416.723\"/>\r\n",
       "<text text-anchor=\"middle\" x=\"897.112\" y=\"-435.484\" font-family=\"Helvetica,sans-Serif\" font-size=\"14.00\">True</text>\r\n",
       "</g>\r\n",
       "<!-- 16 -->\r\n",
       "<g id=\"node17\" class=\"node\"><title>16</title>\r\n",
       "<polygon fill=\"#f8dfcc\" stroke=\"black\" points=\"1411,-425 1265,-425 1265,-342 1411,-342 1411,-425\"/>\r\n",
       "<text text-anchor=\"middle\" x=\"1338\" y=\"-409.8\" font-family=\"Helvetica,sans-Serif\" font-size=\"14.00\">education &lt;= 11.5</text>\r\n",
       "<text text-anchor=\"middle\" x=\"1338\" y=\"-394.8\" font-family=\"Helvetica,sans-Serif\" font-size=\"14.00\">gini = 0.489</text>\r\n",
       "<text text-anchor=\"middle\" x=\"1338\" y=\"-379.8\" font-family=\"Helvetica,sans-Serif\" font-size=\"14.00\">samples = 3824</text>\r\n",
       "<text text-anchor=\"middle\" x=\"1338\" y=\"-364.8\" font-family=\"Helvetica,sans-Serif\" font-size=\"14.00\">value = [2192, 1632]</text>\r\n",
       "<text text-anchor=\"middle\" x=\"1338\" y=\"-349.8\" font-family=\"Helvetica,sans-Serif\" font-size=\"14.00\">class = 0</text>\r\n",
       "</g>\r\n",
       "<!-- 0&#45;&gt;16 -->\r\n",
       "<g id=\"edge16\" class=\"edge\"><title>0&#45;&gt;16</title>\r\n",
       "<path fill=\"none\" stroke=\"black\" d=\"M1168.21,-460.907C1196.54,-448.158 1227.66,-434.154 1255.43,-421.655\"/>\r\n",
       "<polygon fill=\"black\" stroke=\"black\" points=\"1257.03,-424.774 1264.71,-417.479 1254.16,-418.39 1257.03,-424.774\"/>\r\n",
       "<text text-anchor=\"middle\" x=\"1255.85\" y=\"-437.153\" font-family=\"Helvetica,sans-Serif\" font-size=\"14.00\">False</text>\r\n",
       "</g>\r\n",
       "<!-- 2 -->\r\n",
       "<g id=\"node3\" class=\"node\"><title>2</title>\r\n",
       "<polygon fill=\"#e68743\" stroke=\"black\" points=\"492,-306 354,-306 354,-223 492,-223 492,-306\"/>\r\n",
       "<text text-anchor=\"middle\" x=\"423\" y=\"-290.8\" font-family=\"Helvetica,sans-Serif\" font-size=\"14.00\">education &lt;= 12.5</text>\r\n",
       "<text text-anchor=\"middle\" x=\"423\" y=\"-275.8\" font-family=\"Helvetica,sans-Serif\" font-size=\"14.00\">gini = 0.089</text>\r\n",
       "<text text-anchor=\"middle\" x=\"423\" y=\"-260.8\" font-family=\"Helvetica,sans-Serif\" font-size=\"14.00\">samples = 3480</text>\r\n",
       "<text text-anchor=\"middle\" x=\"423\" y=\"-245.8\" font-family=\"Helvetica,sans-Serif\" font-size=\"14.00\">value = [3318, 162]</text>\r\n",
       "<text text-anchor=\"middle\" x=\"423\" y=\"-230.8\" font-family=\"Helvetica,sans-Serif\" font-size=\"14.00\">class = 0</text>\r\n",
       "</g>\r\n",
       "<!-- 1&#45;&gt;2 -->\r\n",
       "<g id=\"edge2\" class=\"edge\"><title>1&#45;&gt;2</title>\r\n",
       "<path fill=\"none\" stroke=\"black\" d=\"M749.569,-361.986C680.399,-341.55 574.347,-310.216 501.997,-288.84\"/>\r\n",
       "<polygon fill=\"black\" stroke=\"black\" points=\"502.601,-285.369 492.019,-285.892 500.617,-292.082 502.601,-285.369\"/>\r\n",
       "</g>\r\n",
       "<!-- 9 -->\r\n",
       "<g id=\"node10\" class=\"node\"><title>9</title>\r\n",
       "<polygon fill=\"#f5ceb1\" stroke=\"black\" points=\"884.5,-306 753.5,-306 753.5,-223 884.5,-223 884.5,-306\"/>\r\n",
       "<text text-anchor=\"middle\" x=\"819\" y=\"-290.8\" font-family=\"Helvetica,sans-Serif\" font-size=\"14.00\">education &lt;= 14.5</text>\r\n",
       "<text text-anchor=\"middle\" x=\"819\" y=\"-275.8\" font-family=\"Helvetica,sans-Serif\" font-size=\"14.00\">gini = 0.47</text>\r\n",
       "<text text-anchor=\"middle\" x=\"819\" y=\"-260.8\" font-family=\"Helvetica,sans-Serif\" font-size=\"14.00\">samples = 225</text>\r\n",
       "<text text-anchor=\"middle\" x=\"819\" y=\"-245.8\" font-family=\"Helvetica,sans-Serif\" font-size=\"14.00\">value = [140, 85]</text>\r\n",
       "<text text-anchor=\"middle\" x=\"819\" y=\"-230.8\" font-family=\"Helvetica,sans-Serif\" font-size=\"14.00\">class = 0</text>\r\n",
       "</g>\r\n",
       "<!-- 1&#45;&gt;9 -->\r\n",
       "<g id=\"edge9\" class=\"edge\"><title>1&#45;&gt;9</title>\r\n",
       "<path fill=\"none\" stroke=\"black\" d=\"M819,-341.907C819,-333.649 819,-324.864 819,-316.302\"/>\r\n",
       "<polygon fill=\"black\" stroke=\"black\" points=\"822.5,-316.021 819,-306.021 815.5,-316.021 822.5,-316.021\"/>\r\n",
       "</g>\r\n",
       "<!-- 3 -->\r\n",
       "<g id=\"node4\" class=\"node\"><title>3</title>\r\n",
       "<polygon fill=\"#e6853f\" stroke=\"black\" points=\"278,-187 148,-187 148,-104 278,-104 278,-187\"/>\r\n",
       "<text text-anchor=\"middle\" x=\"213\" y=\"-171.8\" font-family=\"Helvetica,sans-Serif\" font-size=\"14.00\">age &lt;= 31.5</text>\r\n",
       "<text text-anchor=\"middle\" x=\"213\" y=\"-156.8\" font-family=\"Helvetica,sans-Serif\" font-size=\"14.00\">gini = 0.059</text>\r\n",
       "<text text-anchor=\"middle\" x=\"213\" y=\"-141.8\" font-family=\"Helvetica,sans-Serif\" font-size=\"14.00\">samples = 2909</text>\r\n",
       "<text text-anchor=\"middle\" x=\"213\" y=\"-126.8\" font-family=\"Helvetica,sans-Serif\" font-size=\"14.00\">value = [2821, 88]</text>\r\n",
       "<text text-anchor=\"middle\" x=\"213\" y=\"-111.8\" font-family=\"Helvetica,sans-Serif\" font-size=\"14.00\">class = 0</text>\r\n",
       "</g>\r\n",
       "<!-- 2&#45;&gt;3 -->\r\n",
       "<g id=\"edge3\" class=\"edge\"><title>2&#45;&gt;3</title>\r\n",
       "<path fill=\"none\" stroke=\"black\" d=\"M353.947,-225.028C332.513,-213.086 308.806,-199.878 287.047,-187.755\"/>\r\n",
       "<polygon fill=\"black\" stroke=\"black\" points=\"288.614,-184.622 278.175,-182.812 285.208,-190.737 288.614,-184.622\"/>\r\n",
       "</g>\r\n",
       "<!-- 6 -->\r\n",
       "<g id=\"node7\" class=\"node\"><title>6</title>\r\n",
       "<polygon fill=\"#e99456\" stroke=\"black\" points=\"484,-187 362,-187 362,-104 484,-104 484,-187\"/>\r\n",
       "<text text-anchor=\"middle\" x=\"423\" y=\"-171.8\" font-family=\"Helvetica,sans-Serif\" font-size=\"14.00\">age &lt;= 29.5</text>\r\n",
       "<text text-anchor=\"middle\" x=\"423\" y=\"-156.8\" font-family=\"Helvetica,sans-Serif\" font-size=\"14.00\">gini = 0.226</text>\r\n",
       "<text text-anchor=\"middle\" x=\"423\" y=\"-141.8\" font-family=\"Helvetica,sans-Serif\" font-size=\"14.00\">samples = 571</text>\r\n",
       "<text text-anchor=\"middle\" x=\"423\" y=\"-126.8\" font-family=\"Helvetica,sans-Serif\" font-size=\"14.00\">value = [497, 74]</text>\r\n",
       "<text text-anchor=\"middle\" x=\"423\" y=\"-111.8\" font-family=\"Helvetica,sans-Serif\" font-size=\"14.00\">class = 0</text>\r\n",
       "</g>\r\n",
       "<!-- 2&#45;&gt;6 -->\r\n",
       "<g id=\"edge6\" class=\"edge\"><title>2&#45;&gt;6</title>\r\n",
       "<path fill=\"none\" stroke=\"black\" d=\"M423,-222.907C423,-214.649 423,-205.864 423,-197.302\"/>\r\n",
       "<polygon fill=\"black\" stroke=\"black\" points=\"426.5,-197.021 423,-187.021 419.5,-197.021 426.5,-197.021\"/>\r\n",
       "</g>\r\n",
       "<!-- 4 -->\r\n",
       "<g id=\"node5\" class=\"node\"><title>4</title>\r\n",
       "<polygon fill=\"#e5823a\" stroke=\"black\" points=\"130,-68 0,-68 0,-0 130,-0 130,-68\"/>\r\n",
       "<text text-anchor=\"middle\" x=\"65\" y=\"-52.8\" font-family=\"Helvetica,sans-Serif\" font-size=\"14.00\">gini = 0.014</text>\r\n",
       "<text text-anchor=\"middle\" x=\"65\" y=\"-37.8\" font-family=\"Helvetica,sans-Serif\" font-size=\"14.00\">samples = 1583</text>\r\n",
       "<text text-anchor=\"middle\" x=\"65\" y=\"-22.8\" font-family=\"Helvetica,sans-Serif\" font-size=\"14.00\">value = [1572, 11]</text>\r\n",
       "<text text-anchor=\"middle\" x=\"65\" y=\"-7.8\" font-family=\"Helvetica,sans-Serif\" font-size=\"14.00\">class = 0</text>\r\n",
       "</g>\r\n",
       "<!-- 3&#45;&gt;4 -->\r\n",
       "<g id=\"edge4\" class=\"edge\"><title>3&#45;&gt;4</title>\r\n",
       "<path fill=\"none\" stroke=\"black\" d=\"M157.89,-103.726C144.946,-94.1494 131.176,-83.9611 118.312,-74.4438\"/>\r\n",
       "<polygon fill=\"black\" stroke=\"black\" points=\"120.128,-71.4337 110.008,-68.2996 115.965,-77.061 120.128,-71.4337\"/>\r\n",
       "</g>\r\n",
       "<!-- 5 -->\r\n",
       "<g id=\"node6\" class=\"node\"><title>5</title>\r\n",
       "<polygon fill=\"#e78945\" stroke=\"black\" points=\"278,-68 148,-68 148,-0 278,-0 278,-68\"/>\r\n",
       "<text text-anchor=\"middle\" x=\"213\" y=\"-52.8\" font-family=\"Helvetica,sans-Serif\" font-size=\"14.00\">gini = 0.109</text>\r\n",
       "<text text-anchor=\"middle\" x=\"213\" y=\"-37.8\" font-family=\"Helvetica,sans-Serif\" font-size=\"14.00\">samples = 1326</text>\r\n",
       "<text text-anchor=\"middle\" x=\"213\" y=\"-22.8\" font-family=\"Helvetica,sans-Serif\" font-size=\"14.00\">value = [1249, 77]</text>\r\n",
       "<text text-anchor=\"middle\" x=\"213\" y=\"-7.8\" font-family=\"Helvetica,sans-Serif\" font-size=\"14.00\">class = 0</text>\r\n",
       "</g>\r\n",
       "<!-- 3&#45;&gt;5 -->\r\n",
       "<g id=\"edge5\" class=\"edge\"><title>3&#45;&gt;5</title>\r\n",
       "<path fill=\"none\" stroke=\"black\" d=\"M213,-103.726C213,-95.5175 213,-86.8595 213,-78.56\"/>\r\n",
       "<polygon fill=\"black\" stroke=\"black\" points=\"216.5,-78.2996 213,-68.2996 209.5,-78.2996 216.5,-78.2996\"/>\r\n",
       "</g>\r\n",
       "<!-- 7 -->\r\n",
       "<g id=\"node8\" class=\"node\"><title>7</title>\r\n",
       "<polygon fill=\"#e6853f\" stroke=\"black\" points=\"409.5,-68 296.5,-68 296.5,-0 409.5,-0 409.5,-68\"/>\r\n",
       "<text text-anchor=\"middle\" x=\"353\" y=\"-52.8\" font-family=\"Helvetica,sans-Serif\" font-size=\"14.00\">gini = 0.056</text>\r\n",
       "<text text-anchor=\"middle\" x=\"353\" y=\"-37.8\" font-family=\"Helvetica,sans-Serif\" font-size=\"14.00\">samples = 243</text>\r\n",
       "<text text-anchor=\"middle\" x=\"353\" y=\"-22.8\" font-family=\"Helvetica,sans-Serif\" font-size=\"14.00\">value = [236, 7]</text>\r\n",
       "<text text-anchor=\"middle\" x=\"353\" y=\"-7.8\" font-family=\"Helvetica,sans-Serif\" font-size=\"14.00\">class = 0</text>\r\n",
       "</g>\r\n",
       "<!-- 6&#45;&gt;7 -->\r\n",
       "<g id=\"edge7\" class=\"edge\"><title>6&#45;&gt;7</title>\r\n",
       "<path fill=\"none\" stroke=\"black\" d=\"M396.935,-103.726C391.337,-94.9703 385.413,-85.7032 379.789,-76.9051\"/>\r\n",
       "<polygon fill=\"black\" stroke=\"black\" points=\"382.623,-74.8399 374.287,-68.2996 376.725,-78.6103 382.623,-74.8399\"/>\r\n",
       "</g>\r\n",
       "<!-- 8 -->\r\n",
       "<g id=\"node9\" class=\"node\"><title>8</title>\r\n",
       "<polygon fill=\"#eca16c\" stroke=\"black\" points=\"550,-68 428,-68 428,-0 550,-0 550,-68\"/>\r\n",
       "<text text-anchor=\"middle\" x=\"489\" y=\"-52.8\" font-family=\"Helvetica,sans-Serif\" font-size=\"14.00\">gini = 0.325</text>\r\n",
       "<text text-anchor=\"middle\" x=\"489\" y=\"-37.8\" font-family=\"Helvetica,sans-Serif\" font-size=\"14.00\">samples = 328</text>\r\n",
       "<text text-anchor=\"middle\" x=\"489\" y=\"-22.8\" font-family=\"Helvetica,sans-Serif\" font-size=\"14.00\">value = [261, 67]</text>\r\n",
       "<text text-anchor=\"middle\" x=\"489\" y=\"-7.8\" font-family=\"Helvetica,sans-Serif\" font-size=\"14.00\">class = 0</text>\r\n",
       "</g>\r\n",
       "<!-- 6&#45;&gt;8 -->\r\n",
       "<g id=\"edge8\" class=\"edge\"><title>6&#45;&gt;8</title>\r\n",
       "<path fill=\"none\" stroke=\"black\" d=\"M447.576,-103.726C452.854,-94.9703 458.439,-85.7032 463.742,-76.9051\"/>\r\n",
       "<polygon fill=\"black\" stroke=\"black\" points=\"466.764,-78.671 468.929,-68.2996 460.769,-75.0574 466.764,-78.671\"/>\r\n",
       "</g>\r\n",
       "<!-- 10 -->\r\n",
       "<g id=\"node11\" class=\"node\"><title>10</title>\r\n",
       "<polygon fill=\"#efb185\" stroke=\"black\" points=\"823.5,-187 656.5,-187 656.5,-104 823.5,-104 823.5,-187\"/>\r\n",
       "<text text-anchor=\"middle\" x=\"740\" y=\"-171.8\" font-family=\"Helvetica,sans-Serif\" font-size=\"14.00\">hours&#45;per&#45;week &lt;= 44.0</text>\r\n",
       "<text text-anchor=\"middle\" x=\"740\" y=\"-156.8\" font-family=\"Helvetica,sans-Serif\" font-size=\"14.00\">gini = 0.401</text>\r\n",
       "<text text-anchor=\"middle\" x=\"740\" y=\"-141.8\" font-family=\"Helvetica,sans-Serif\" font-size=\"14.00\">samples = 155</text>\r\n",
       "<text text-anchor=\"middle\" x=\"740\" y=\"-126.8\" font-family=\"Helvetica,sans-Serif\" font-size=\"14.00\">value = [112, 43]</text>\r\n",
       "<text text-anchor=\"middle\" x=\"740\" y=\"-111.8\" font-family=\"Helvetica,sans-Serif\" font-size=\"14.00\">class = 0</text>\r\n",
       "</g>\r\n",
       "<!-- 9&#45;&gt;10 -->\r\n",
       "<g id=\"edge10\" class=\"edge\"><title>9&#45;&gt;10</title>\r\n",
       "<path fill=\"none\" stroke=\"black\" d=\"M791.591,-222.907C785.586,-214.014 779.169,-204.509 772.971,-195.331\"/>\r\n",
       "<polygon fill=\"black\" stroke=\"black\" points=\"775.857,-193.35 767.36,-187.021 770.056,-197.267 775.857,-193.35\"/>\r\n",
       "</g>\r\n",
       "<!-- 13 -->\r\n",
       "<g id=\"node14\" class=\"node\"><title>13</title>\r\n",
       "<polygon fill=\"#bddef6\" stroke=\"black\" points=\"954.5,-187 841.5,-187 841.5,-104 954.5,-104 954.5,-187\"/>\r\n",
       "<text text-anchor=\"middle\" x=\"898\" y=\"-171.8\" font-family=\"Helvetica,sans-Serif\" font-size=\"14.00\">age &lt;= 32.0</text>\r\n",
       "<text text-anchor=\"middle\" x=\"898\" y=\"-156.8\" font-family=\"Helvetica,sans-Serif\" font-size=\"14.00\">gini = 0.48</text>\r\n",
       "<text text-anchor=\"middle\" x=\"898\" y=\"-141.8\" font-family=\"Helvetica,sans-Serif\" font-size=\"14.00\">samples = 70</text>\r\n",
       "<text text-anchor=\"middle\" x=\"898\" y=\"-126.8\" font-family=\"Helvetica,sans-Serif\" font-size=\"14.00\">value = [28, 42]</text>\r\n",
       "<text text-anchor=\"middle\" x=\"898\" y=\"-111.8\" font-family=\"Helvetica,sans-Serif\" font-size=\"14.00\">class = 1</text>\r\n",
       "</g>\r\n",
       "<!-- 9&#45;&gt;13 -->\r\n",
       "<g id=\"edge13\" class=\"edge\"><title>9&#45;&gt;13</title>\r\n",
       "<path fill=\"none\" stroke=\"black\" d=\"M846.409,-222.907C852.414,-214.014 858.831,-204.509 865.029,-195.331\"/>\r\n",
       "<polygon fill=\"black\" stroke=\"black\" points=\"867.944,-197.267 870.64,-187.021 862.143,-193.35 867.944,-197.267\"/>\r\n",
       "</g>\r\n",
       "<!-- 11 -->\r\n",
       "<g id=\"node12\" class=\"node\"><title>11</title>\r\n",
       "<polygon fill=\"#eba06a\" stroke=\"black\" points=\"681.5,-68 568.5,-68 568.5,-0 681.5,-0 681.5,-68\"/>\r\n",
       "<text text-anchor=\"middle\" x=\"625\" y=\"-52.8\" font-family=\"Helvetica,sans-Serif\" font-size=\"14.00\">gini = 0.317</text>\r\n",
       "<text text-anchor=\"middle\" x=\"625\" y=\"-37.8\" font-family=\"Helvetica,sans-Serif\" font-size=\"14.00\">samples = 96</text>\r\n",
       "<text text-anchor=\"middle\" x=\"625\" y=\"-22.8\" font-family=\"Helvetica,sans-Serif\" font-size=\"14.00\">value = [77, 19]</text>\r\n",
       "<text text-anchor=\"middle\" x=\"625\" y=\"-7.8\" font-family=\"Helvetica,sans-Serif\" font-size=\"14.00\">class = 0</text>\r\n",
       "</g>\r\n",
       "<!-- 10&#45;&gt;11 -->\r\n",
       "<g id=\"edge11\" class=\"edge\"><title>10&#45;&gt;11</title>\r\n",
       "<path fill=\"none\" stroke=\"black\" d=\"M697.178,-103.726C687.408,-94.423 677.031,-84.5428 667.283,-75.2612\"/>\r\n",
       "<polygon fill=\"black\" stroke=\"black\" points=\"669.628,-72.6606 659.972,-68.2996 664.801,-77.7301 669.628,-72.6606\"/>\r\n",
       "</g>\r\n",
       "<!-- 12 -->\r\n",
       "<g id=\"node13\" class=\"node\"><title>12</title>\r\n",
       "<polygon fill=\"#f7d7c1\" stroke=\"black\" points=\"812.5,-68 699.5,-68 699.5,-0 812.5,-0 812.5,-68\"/>\r\n",
       "<text text-anchor=\"middle\" x=\"756\" y=\"-52.8\" font-family=\"Helvetica,sans-Serif\" font-size=\"14.00\">gini = 0.483</text>\r\n",
       "<text text-anchor=\"middle\" x=\"756\" y=\"-37.8\" font-family=\"Helvetica,sans-Serif\" font-size=\"14.00\">samples = 59</text>\r\n",
       "<text text-anchor=\"middle\" x=\"756\" y=\"-22.8\" font-family=\"Helvetica,sans-Serif\" font-size=\"14.00\">value = [35, 24]</text>\r\n",
       "<text text-anchor=\"middle\" x=\"756\" y=\"-7.8\" font-family=\"Helvetica,sans-Serif\" font-size=\"14.00\">class = 0</text>\r\n",
       "</g>\r\n",
       "<!-- 10&#45;&gt;12 -->\r\n",
       "<g id=\"edge12\" class=\"edge\"><title>10&#45;&gt;12</title>\r\n",
       "<path fill=\"none\" stroke=\"black\" d=\"M745.958,-103.726C747.171,-95.4263 748.45,-86.6671 749.675,-78.2834\"/>\r\n",
       "<polygon fill=\"black\" stroke=\"black\" points=\"753.152,-78.7006 751.134,-68.2996 746.225,-77.6885 753.152,-78.7006\"/>\r\n",
       "</g>\r\n",
       "<!-- 14 -->\r\n",
       "<g id=\"node15\" class=\"node\"><title>14</title>\r\n",
       "<polygon fill=\"#eb9c63\" stroke=\"black\" points=\"935.5,-68 830.5,-68 830.5,-0 935.5,-0 935.5,-68\"/>\r\n",
       "<text text-anchor=\"middle\" x=\"883\" y=\"-52.8\" font-family=\"Helvetica,sans-Serif\" font-size=\"14.00\">gini = 0.291</text>\r\n",
       "<text text-anchor=\"middle\" x=\"883\" y=\"-37.8\" font-family=\"Helvetica,sans-Serif\" font-size=\"14.00\">samples = 17</text>\r\n",
       "<text text-anchor=\"middle\" x=\"883\" y=\"-22.8\" font-family=\"Helvetica,sans-Serif\" font-size=\"14.00\">value = [14, 3]</text>\r\n",
       "<text text-anchor=\"middle\" x=\"883\" y=\"-7.8\" font-family=\"Helvetica,sans-Serif\" font-size=\"14.00\">class = 0</text>\r\n",
       "</g>\r\n",
       "<!-- 13&#45;&gt;14 -->\r\n",
       "<g id=\"edge14\" class=\"edge\"><title>13&#45;&gt;14</title>\r\n",
       "<path fill=\"none\" stroke=\"black\" d=\"M892.415,-103.726C891.278,-95.4263 890.078,-86.6671 888.929,-78.2834\"/>\r\n",
       "<polygon fill=\"black\" stroke=\"black\" points=\"892.386,-77.732 887.562,-68.2996 885.451,-78.6821 892.386,-77.732\"/>\r\n",
       "</g>\r\n",
       "<!-- 15 -->\r\n",
       "<g id=\"node16\" class=\"node\"><title>15</title>\r\n",
       "<polygon fill=\"#80c0ee\" stroke=\"black\" points=\"1066.5,-68 953.5,-68 953.5,-0 1066.5,-0 1066.5,-68\"/>\r\n",
       "<text text-anchor=\"middle\" x=\"1010\" y=\"-52.8\" font-family=\"Helvetica,sans-Serif\" font-size=\"14.00\">gini = 0.389</text>\r\n",
       "<text text-anchor=\"middle\" x=\"1010\" y=\"-37.8\" font-family=\"Helvetica,sans-Serif\" font-size=\"14.00\">samples = 53</text>\r\n",
       "<text text-anchor=\"middle\" x=\"1010\" y=\"-22.8\" font-family=\"Helvetica,sans-Serif\" font-size=\"14.00\">value = [14, 39]</text>\r\n",
       "<text text-anchor=\"middle\" x=\"1010\" y=\"-7.8\" font-family=\"Helvetica,sans-Serif\" font-size=\"14.00\">class = 1</text>\r\n",
       "</g>\r\n",
       "<!-- 13&#45;&gt;15 -->\r\n",
       "<g id=\"edge15\" class=\"edge\"><title>13&#45;&gt;15</title>\r\n",
       "<path fill=\"none\" stroke=\"black\" d=\"M939.705,-103.726C949.127,-94.5142 959.128,-84.7364 968.54,-75.5343\"/>\r\n",
       "<polygon fill=\"black\" stroke=\"black\" points=\"971.236,-77.7931 975.94,-68.2996 966.343,-72.7878 971.236,-77.7931\"/>\r\n",
       "</g>\r\n",
       "<!-- 17 -->\r\n",
       "<g id=\"node18\" class=\"node\"><title>17</title>\r\n",
       "<polygon fill=\"#f1ba92\" stroke=\"black\" points=\"1407,-306 1269,-306 1269,-223 1407,-223 1407,-306\"/>\r\n",
       "<text text-anchor=\"middle\" x=\"1338\" y=\"-290.8\" font-family=\"Helvetica,sans-Serif\" font-size=\"14.00\">education &lt;= 8.5</text>\r\n",
       "<text text-anchor=\"middle\" x=\"1338\" y=\"-275.8\" font-family=\"Helvetica,sans-Serif\" font-size=\"14.00\">gini = 0.428</text>\r\n",
       "<text text-anchor=\"middle\" x=\"1338\" y=\"-260.8\" font-family=\"Helvetica,sans-Serif\" font-size=\"14.00\">samples = 2608</text>\r\n",
       "<text text-anchor=\"middle\" x=\"1338\" y=\"-245.8\" font-family=\"Helvetica,sans-Serif\" font-size=\"14.00\">value = [1800, 808]</text>\r\n",
       "<text text-anchor=\"middle\" x=\"1338\" y=\"-230.8\" font-family=\"Helvetica,sans-Serif\" font-size=\"14.00\">class = 0</text>\r\n",
       "</g>\r\n",
       "<!-- 16&#45;&gt;17 -->\r\n",
       "<g id=\"edge17\" class=\"edge\"><title>16&#45;&gt;17</title>\r\n",
       "<path fill=\"none\" stroke=\"black\" d=\"M1338,-341.907C1338,-333.649 1338,-324.864 1338,-316.302\"/>\r\n",
       "<polygon fill=\"black\" stroke=\"black\" points=\"1341.5,-316.021 1338,-306.021 1334.5,-316.021 1341.5,-316.021\"/>\r\n",
       "</g>\r\n",
       "<!-- 24 -->\r\n",
       "<g id=\"node25\" class=\"node\"><title>24</title>\r\n",
       "<polygon fill=\"#97ccf1\" stroke=\"black\" points=\"1804,-306 1674,-306 1674,-223 1804,-223 1804,-306\"/>\r\n",
       "<text text-anchor=\"middle\" x=\"1739\" y=\"-290.8\" font-family=\"Helvetica,sans-Serif\" font-size=\"14.00\">age &lt;= 30.5</text>\r\n",
       "<text text-anchor=\"middle\" x=\"1739\" y=\"-275.8\" font-family=\"Helvetica,sans-Serif\" font-size=\"14.00\">gini = 0.437</text>\r\n",
       "<text text-anchor=\"middle\" x=\"1739\" y=\"-260.8\" font-family=\"Helvetica,sans-Serif\" font-size=\"14.00\">samples = 1216</text>\r\n",
       "<text text-anchor=\"middle\" x=\"1739\" y=\"-245.8\" font-family=\"Helvetica,sans-Serif\" font-size=\"14.00\">value = [392, 824]</text>\r\n",
       "<text text-anchor=\"middle\" x=\"1739\" y=\"-230.8\" font-family=\"Helvetica,sans-Serif\" font-size=\"14.00\">class = 1</text>\r\n",
       "</g>\r\n",
       "<!-- 16&#45;&gt;24 -->\r\n",
       "<g id=\"edge24\" class=\"edge\"><title>16&#45;&gt;24</title>\r\n",
       "<path fill=\"none\" stroke=\"black\" d=\"M1411.08,-361.176C1482.71,-340.277 1591.39,-308.568 1663.76,-287.454\"/>\r\n",
       "<polygon fill=\"black\" stroke=\"black\" points=\"1665.1,-290.708 1673.72,-284.547 1663.14,-283.988 1665.1,-290.708\"/>\r\n",
       "</g>\r\n",
       "<!-- 18 -->\r\n",
       "<g id=\"node19\" class=\"node\"><title>18</title>\r\n",
       "<polygon fill=\"#e89051\" stroke=\"black\" points=\"1336.5,-187 1169.5,-187 1169.5,-104 1336.5,-104 1336.5,-187\"/>\r\n",
       "<text text-anchor=\"middle\" x=\"1253\" y=\"-171.8\" font-family=\"Helvetica,sans-Serif\" font-size=\"14.00\">hours&#45;per&#45;week &lt;= 39.0</text>\r\n",
       "<text text-anchor=\"middle\" x=\"1253\" y=\"-156.8\" font-family=\"Helvetica,sans-Serif\" font-size=\"14.00\">gini = 0.194</text>\r\n",
       "<text text-anchor=\"middle\" x=\"1253\" y=\"-141.8\" font-family=\"Helvetica,sans-Serif\" font-size=\"14.00\">samples = 441</text>\r\n",
       "<text text-anchor=\"middle\" x=\"1253\" y=\"-126.8\" font-family=\"Helvetica,sans-Serif\" font-size=\"14.00\">value = [393, 48]</text>\r\n",
       "<text text-anchor=\"middle\" x=\"1253\" y=\"-111.8\" font-family=\"Helvetica,sans-Serif\" font-size=\"14.00\">class = 0</text>\r\n",
       "</g>\r\n",
       "<!-- 17&#45;&gt;18 -->\r\n",
       "<g id=\"edge18\" class=\"edge\"><title>17&#45;&gt;18</title>\r\n",
       "<path fill=\"none\" stroke=\"black\" d=\"M1308.51,-222.907C1302.05,-214.014 1295.14,-204.509 1288.48,-195.331\"/>\r\n",
       "<polygon fill=\"black\" stroke=\"black\" points=\"1291.15,-193.054 1282.44,-187.021 1285.48,-197.168 1291.15,-193.054\"/>\r\n",
       "</g>\r\n",
       "<!-- 21 -->\r\n",
       "<g id=\"node22\" class=\"node\"><title>21</title>\r\n",
       "<polygon fill=\"#f3c5a4\" stroke=\"black\" points=\"1493,-187 1355,-187 1355,-104 1493,-104 1493,-187\"/>\r\n",
       "<text text-anchor=\"middle\" x=\"1424\" y=\"-171.8\" font-family=\"Helvetica,sans-Serif\" font-size=\"14.00\">age &lt;= 32.5</text>\r\n",
       "<text text-anchor=\"middle\" x=\"1424\" y=\"-156.8\" font-family=\"Helvetica,sans-Serif\" font-size=\"14.00\">gini = 0.455</text>\r\n",
       "<text text-anchor=\"middle\" x=\"1424\" y=\"-141.8\" font-family=\"Helvetica,sans-Serif\" font-size=\"14.00\">samples = 2167</text>\r\n",
       "<text text-anchor=\"middle\" x=\"1424\" y=\"-126.8\" font-family=\"Helvetica,sans-Serif\" font-size=\"14.00\">value = [1407, 760]</text>\r\n",
       "<text text-anchor=\"middle\" x=\"1424\" y=\"-111.8\" font-family=\"Helvetica,sans-Serif\" font-size=\"14.00\">class = 0</text>\r\n",
       "</g>\r\n",
       "<!-- 17&#45;&gt;21 -->\r\n",
       "<g id=\"edge21\" class=\"edge\"><title>17&#45;&gt;21</title>\r\n",
       "<path fill=\"none\" stroke=\"black\" d=\"M1367.84,-222.907C1374.37,-214.014 1381.36,-204.509 1388.11,-195.331\"/>\r\n",
       "<polygon fill=\"black\" stroke=\"black\" points=\"1391.11,-197.151 1394.22,-187.021 1385.47,-193.005 1391.11,-197.151\"/>\r\n",
       "</g>\r\n",
       "<!-- 19 -->\r\n",
       "<g id=\"node20\" class=\"node\"><title>19</title>\r\n",
       "<polygon fill=\"#e6843d\" stroke=\"black\" points=\"1189.5,-68 1084.5,-68 1084.5,-0 1189.5,-0 1189.5,-68\"/>\r\n",
       "<text text-anchor=\"middle\" x=\"1137\" y=\"-52.8\" font-family=\"Helvetica,sans-Serif\" font-size=\"14.00\">gini = 0.043</text>\r\n",
       "<text text-anchor=\"middle\" x=\"1137\" y=\"-37.8\" font-family=\"Helvetica,sans-Serif\" font-size=\"14.00\">samples = 91</text>\r\n",
       "<text text-anchor=\"middle\" x=\"1137\" y=\"-22.8\" font-family=\"Helvetica,sans-Serif\" font-size=\"14.00\">value = [89, 2]</text>\r\n",
       "<text text-anchor=\"middle\" x=\"1137\" y=\"-7.8\" font-family=\"Helvetica,sans-Serif\" font-size=\"14.00\">class = 0</text>\r\n",
       "</g>\r\n",
       "<!-- 18&#45;&gt;19 -->\r\n",
       "<g id=\"edge19\" class=\"edge\"><title>18&#45;&gt;19</title>\r\n",
       "<path fill=\"none\" stroke=\"black\" d=\"M1209.81,-103.726C1199.95,-94.423 1189.48,-84.5428 1179.65,-75.2612\"/>\r\n",
       "<polygon fill=\"black\" stroke=\"black\" points=\"1181.95,-72.6189 1172.28,-68.2996 1177.15,-77.7092 1181.95,-72.6189\"/>\r\n",
       "</g>\r\n",
       "<!-- 20 -->\r\n",
       "<g id=\"node21\" class=\"node\"><title>20</title>\r\n",
       "<polygon fill=\"#e99457\" stroke=\"black\" points=\"1330,-68 1208,-68 1208,-0 1330,-0 1330,-68\"/>\r\n",
       "<text text-anchor=\"middle\" x=\"1269\" y=\"-52.8\" font-family=\"Helvetica,sans-Serif\" font-size=\"14.00\">gini = 0.228</text>\r\n",
       "<text text-anchor=\"middle\" x=\"1269\" y=\"-37.8\" font-family=\"Helvetica,sans-Serif\" font-size=\"14.00\">samples = 350</text>\r\n",
       "<text text-anchor=\"middle\" x=\"1269\" y=\"-22.8\" font-family=\"Helvetica,sans-Serif\" font-size=\"14.00\">value = [304, 46]</text>\r\n",
       "<text text-anchor=\"middle\" x=\"1269\" y=\"-7.8\" font-family=\"Helvetica,sans-Serif\" font-size=\"14.00\">class = 0</text>\r\n",
       "</g>\r\n",
       "<!-- 18&#45;&gt;20 -->\r\n",
       "<g id=\"edge20\" class=\"edge\"><title>18&#45;&gt;20</title>\r\n",
       "<path fill=\"none\" stroke=\"black\" d=\"M1258.96,-103.726C1260.17,-95.4263 1261.45,-86.6671 1262.68,-78.2834\"/>\r\n",
       "<polygon fill=\"black\" stroke=\"black\" points=\"1266.15,-78.7006 1264.13,-68.2996 1259.23,-77.6885 1266.15,-78.7006\"/>\r\n",
       "</g>\r\n",
       "<!-- 22 -->\r\n",
       "<g id=\"node23\" class=\"node\"><title>22</title>\r\n",
       "<polygon fill=\"#eb9f68\" stroke=\"black\" points=\"1470,-68 1348,-68 1348,-0 1470,-0 1470,-68\"/>\r\n",
       "<text text-anchor=\"middle\" x=\"1409\" y=\"-52.8\" font-family=\"Helvetica,sans-Serif\" font-size=\"14.00\">gini = 0.31</text>\r\n",
       "<text text-anchor=\"middle\" x=\"1409\" y=\"-37.8\" font-family=\"Helvetica,sans-Serif\" font-size=\"14.00\">samples = 474</text>\r\n",
       "<text text-anchor=\"middle\" x=\"1409\" y=\"-22.8\" font-family=\"Helvetica,sans-Serif\" font-size=\"14.00\">value = [383, 91]</text>\r\n",
       "<text text-anchor=\"middle\" x=\"1409\" y=\"-7.8\" font-family=\"Helvetica,sans-Serif\" font-size=\"14.00\">class = 0</text>\r\n",
       "</g>\r\n",
       "<!-- 21&#45;&gt;22 -->\r\n",
       "<g id=\"edge22\" class=\"edge\"><title>21&#45;&gt;22</title>\r\n",
       "<path fill=\"none\" stroke=\"black\" d=\"M1418.41,-103.726C1417.28,-95.4263 1416.08,-86.6671 1414.93,-78.2834\"/>\r\n",
       "<polygon fill=\"black\" stroke=\"black\" points=\"1418.39,-77.732 1413.56,-68.2996 1411.45,-78.6821 1418.39,-77.732\"/>\r\n",
       "</g>\r\n",
       "<!-- 23 -->\r\n",
       "<g id=\"node24\" class=\"node\"><title>23</title>\r\n",
       "<polygon fill=\"#f6d3ba\" stroke=\"black\" points=\"1626,-68 1488,-68 1488,-0 1626,-0 1626,-68\"/>\r\n",
       "<text text-anchor=\"middle\" x=\"1557\" y=\"-52.8\" font-family=\"Helvetica,sans-Serif\" font-size=\"14.00\">gini = 0.478</text>\r\n",
       "<text text-anchor=\"middle\" x=\"1557\" y=\"-37.8\" font-family=\"Helvetica,sans-Serif\" font-size=\"14.00\">samples = 1693</text>\r\n",
       "<text text-anchor=\"middle\" x=\"1557\" y=\"-22.8\" font-family=\"Helvetica,sans-Serif\" font-size=\"14.00\">value = [1024, 669]</text>\r\n",
       "<text text-anchor=\"middle\" x=\"1557\" y=\"-7.8\" font-family=\"Helvetica,sans-Serif\" font-size=\"14.00\">class = 0</text>\r\n",
       "</g>\r\n",
       "<!-- 21&#45;&gt;23 -->\r\n",
       "<g id=\"edge23\" class=\"edge\"><title>21&#45;&gt;23</title>\r\n",
       "<path fill=\"none\" stroke=\"black\" d=\"M1473.52,-103.726C1485.05,-94.2406 1497.3,-84.1551 1508.76,-74.7159\"/>\r\n",
       "<polygon fill=\"black\" stroke=\"black\" points=\"1511.06,-77.3577 1516.55,-68.2996 1506.61,-71.9536 1511.06,-77.3577\"/>\r\n",
       "</g>\r\n",
       "<!-- 25 -->\r\n",
       "<g id=\"node26\" class=\"node\"><title>25</title>\r\n",
       "<polygon fill=\"#f6d5bd\" stroke=\"black\" points=\"1822.5,-187 1655.5,-187 1655.5,-104 1822.5,-104 1822.5,-187\"/>\r\n",
       "<text text-anchor=\"middle\" x=\"1739\" y=\"-171.8\" font-family=\"Helvetica,sans-Serif\" font-size=\"14.00\">hours&#45;per&#45;week &lt;= 41.5</text>\r\n",
       "<text text-anchor=\"middle\" x=\"1739\" y=\"-156.8\" font-family=\"Helvetica,sans-Serif\" font-size=\"14.00\">gini = 0.48</text>\r\n",
       "<text text-anchor=\"middle\" x=\"1739\" y=\"-141.8\" font-family=\"Helvetica,sans-Serif\" font-size=\"14.00\">samples = 140</text>\r\n",
       "<text text-anchor=\"middle\" x=\"1739\" y=\"-126.8\" font-family=\"Helvetica,sans-Serif\" font-size=\"14.00\">value = [84, 56]</text>\r\n",
       "<text text-anchor=\"middle\" x=\"1739\" y=\"-111.8\" font-family=\"Helvetica,sans-Serif\" font-size=\"14.00\">class = 0</text>\r\n",
       "</g>\r\n",
       "<!-- 24&#45;&gt;25 -->\r\n",
       "<g id=\"edge25\" class=\"edge\"><title>24&#45;&gt;25</title>\r\n",
       "<path fill=\"none\" stroke=\"black\" d=\"M1739,-222.907C1739,-214.649 1739,-205.864 1739,-197.302\"/>\r\n",
       "<polygon fill=\"black\" stroke=\"black\" points=\"1742.5,-197.021 1739,-187.021 1735.5,-197.021 1742.5,-197.021\"/>\r\n",
       "</g>\r\n",
       "<!-- 28 -->\r\n",
       "<g id=\"node29\" class=\"node\"><title>28</title>\r\n",
       "<polygon fill=\"#88c4ef\" stroke=\"black\" points=\"2046.5,-187 1879.5,-187 1879.5,-104 2046.5,-104 2046.5,-187\"/>\r\n",
       "<text text-anchor=\"middle\" x=\"1963\" y=\"-171.8\" font-family=\"Helvetica,sans-Serif\" font-size=\"14.00\">hours&#45;per&#45;week &lt;= 31.0</text>\r\n",
       "<text text-anchor=\"middle\" x=\"1963\" y=\"-156.8\" font-family=\"Helvetica,sans-Serif\" font-size=\"14.00\">gini = 0.409</text>\r\n",
       "<text text-anchor=\"middle\" x=\"1963\" y=\"-141.8\" font-family=\"Helvetica,sans-Serif\" font-size=\"14.00\">samples = 1076</text>\r\n",
       "<text text-anchor=\"middle\" x=\"1963\" y=\"-126.8\" font-family=\"Helvetica,sans-Serif\" font-size=\"14.00\">value = [308, 768]</text>\r\n",
       "<text text-anchor=\"middle\" x=\"1963\" y=\"-111.8\" font-family=\"Helvetica,sans-Serif\" font-size=\"14.00\">class = 1</text>\r\n",
       "</g>\r\n",
       "<!-- 24&#45;&gt;28 -->\r\n",
       "<g id=\"edge28\" class=\"edge\"><title>24&#45;&gt;28</title>\r\n",
       "<path fill=\"none\" stroke=\"black\" d=\"M1804.09,-229.502C1826.66,-217.716 1852.32,-204.31 1876.34,-191.763\"/>\r\n",
       "<polygon fill=\"black\" stroke=\"black\" points=\"1878.22,-194.733 1885.46,-187.001 1874.98,-188.528 1878.22,-194.733\"/>\r\n",
       "</g>\r\n",
       "<!-- 26 -->\r\n",
       "<g id=\"node27\" class=\"node\"><title>26</title>\r\n",
       "<polygon fill=\"#f0b68c\" stroke=\"black\" points=\"1757.5,-68 1644.5,-68 1644.5,-0 1757.5,-0 1757.5,-68\"/>\r\n",
       "<text text-anchor=\"middle\" x=\"1701\" y=\"-52.8\" font-family=\"Helvetica,sans-Serif\" font-size=\"14.00\">gini = 0.417</text>\r\n",
       "<text text-anchor=\"middle\" x=\"1701\" y=\"-37.8\" font-family=\"Helvetica,sans-Serif\" font-size=\"14.00\">samples = 81</text>\r\n",
       "<text text-anchor=\"middle\" x=\"1701\" y=\"-22.8\" font-family=\"Helvetica,sans-Serif\" font-size=\"14.00\">value = [57, 24]</text>\r\n",
       "<text text-anchor=\"middle\" x=\"1701\" y=\"-7.8\" font-family=\"Helvetica,sans-Serif\" font-size=\"14.00\">class = 0</text>\r\n",
       "</g>\r\n",
       "<!-- 25&#45;&gt;26 -->\r\n",
       "<g id=\"edge26\" class=\"edge\"><title>25&#45;&gt;26</title>\r\n",
       "<path fill=\"none\" stroke=\"black\" d=\"M1724.85,-103.726C1721.94,-95.3351 1718.86,-86.4745 1715.92,-78.0072\"/>\r\n",
       "<polygon fill=\"black\" stroke=\"black\" points=\"1719.14,-76.5994 1712.56,-68.2996 1712.53,-78.8944 1719.14,-76.5994\"/>\r\n",
       "</g>\r\n",
       "<!-- 27 -->\r\n",
       "<g id=\"node28\" class=\"node\"><title>27</title>\r\n",
       "<polygon fill=\"#e0f0fb\" stroke=\"black\" points=\"1888.5,-68 1775.5,-68 1775.5,-0 1888.5,-0 1888.5,-68\"/>\r\n",
       "<text text-anchor=\"middle\" x=\"1832\" y=\"-52.8\" font-family=\"Helvetica,sans-Serif\" font-size=\"14.00\">gini = 0.496</text>\r\n",
       "<text text-anchor=\"middle\" x=\"1832\" y=\"-37.8\" font-family=\"Helvetica,sans-Serif\" font-size=\"14.00\">samples = 59</text>\r\n",
       "<text text-anchor=\"middle\" x=\"1832\" y=\"-22.8\" font-family=\"Helvetica,sans-Serif\" font-size=\"14.00\">value = [27, 32]</text>\r\n",
       "<text text-anchor=\"middle\" x=\"1832\" y=\"-7.8\" font-family=\"Helvetica,sans-Serif\" font-size=\"14.00\">class = 1</text>\r\n",
       "</g>\r\n",
       "<!-- 25&#45;&gt;27 -->\r\n",
       "<g id=\"edge27\" class=\"edge\"><title>25&#45;&gt;27</title>\r\n",
       "<path fill=\"none\" stroke=\"black\" d=\"M1773.63,-103.726C1781.3,-94.6966 1789.43,-85.1235 1797.11,-76.0816\"/>\r\n",
       "<polygon fill=\"black\" stroke=\"black\" points=\"1799.91,-78.1873 1803.72,-68.2996 1794.58,-73.6559 1799.91,-78.1873\"/>\r\n",
       "</g>\r\n",
       "<!-- 29 -->\r\n",
       "<g id=\"node30\" class=\"node\"><title>29</title>\r\n",
       "<polygon fill=\"#f3c5a4\" stroke=\"black\" points=\"2019.5,-68 1906.5,-68 1906.5,-0 2019.5,-0 2019.5,-68\"/>\r\n",
       "<text text-anchor=\"middle\" x=\"1963\" y=\"-52.8\" font-family=\"Helvetica,sans-Serif\" font-size=\"14.00\">gini = 0.455</text>\r\n",
       "<text text-anchor=\"middle\" x=\"1963\" y=\"-37.8\" font-family=\"Helvetica,sans-Serif\" font-size=\"14.00\">samples = 80</text>\r\n",
       "<text text-anchor=\"middle\" x=\"1963\" y=\"-22.8\" font-family=\"Helvetica,sans-Serif\" font-size=\"14.00\">value = [52, 28]</text>\r\n",
       "<text text-anchor=\"middle\" x=\"1963\" y=\"-7.8\" font-family=\"Helvetica,sans-Serif\" font-size=\"14.00\">class = 0</text>\r\n",
       "</g>\r\n",
       "<!-- 28&#45;&gt;29 -->\r\n",
       "<g id=\"edge29\" class=\"edge\"><title>28&#45;&gt;29</title>\r\n",
       "<path fill=\"none\" stroke=\"black\" d=\"M1963,-103.726C1963,-95.5175 1963,-86.8595 1963,-78.56\"/>\r\n",
       "<polygon fill=\"black\" stroke=\"black\" points=\"1966.5,-78.2996 1963,-68.2996 1959.5,-78.2996 1966.5,-78.2996\"/>\r\n",
       "</g>\r\n",
       "<!-- 30 -->\r\n",
       "<g id=\"node31\" class=\"node\"><title>30</title>\r\n",
       "<polygon fill=\"#7dbfee\" stroke=\"black\" points=\"2168,-68 2038,-68 2038,-0 2168,-0 2168,-68\"/>\r\n",
       "<text text-anchor=\"middle\" x=\"2103\" y=\"-52.8\" font-family=\"Helvetica,sans-Serif\" font-size=\"14.00\">gini = 0.382</text>\r\n",
       "<text text-anchor=\"middle\" x=\"2103\" y=\"-37.8\" font-family=\"Helvetica,sans-Serif\" font-size=\"14.00\">samples = 996</text>\r\n",
       "<text text-anchor=\"middle\" x=\"2103\" y=\"-22.8\" font-family=\"Helvetica,sans-Serif\" font-size=\"14.00\">value = [256, 740]</text>\r\n",
       "<text text-anchor=\"middle\" x=\"2103\" y=\"-7.8\" font-family=\"Helvetica,sans-Serif\" font-size=\"14.00\">class = 1</text>\r\n",
       "</g>\r\n",
       "<!-- 28&#45;&gt;30 -->\r\n",
       "<g id=\"edge30\" class=\"edge\"><title>28&#45;&gt;30</title>\r\n",
       "<path fill=\"none\" stroke=\"black\" d=\"M2015.13,-103.726C2027.26,-94.2406 2040.15,-84.1551 2052.22,-74.7159\"/>\r\n",
       "<polygon fill=\"black\" stroke=\"black\" points=\"2054.7,-77.2173 2060.43,-68.2996 2050.39,-71.7035 2054.7,-77.2173\"/>\r\n",
       "</g>\r\n",
       "</g>\r\n",
       "</svg>\r\n"
      ],
      "text/plain": [
       "<graphviz.files.Source at 0x22765062d08>"
      ]
     },
     "execution_count": 47,
     "metadata": {},
     "output_type": "execute_result"
    }
   ],
   "source": [
    "# the filled = true parameter value introduces color\n",
    "export_graphviz(treeclf_pruned,out_file='tree.dot', feature_names=vs_train.columns, class_names=['0', '1'], filled=True) \n",
    "\n",
    "with open(\"tree.dot\") as f:\n",
    "    dot_graph = f.read()\n",
    "graphviz.Source(dot_graph)"
   ]
  },
  {
   "cell_type": "markdown",
   "id": "a6e3385e",
   "metadata": {},
   "source": [
    "## d. Using scikit-learn to build classifiers using Naive Bayes (Gaussian) and linear discriminat analysis (LDA)"
   ]
  },
  {
   "cell_type": "markdown",
   "id": "ef0aeab8",
   "metadata": {},
   "source": [
    "#### First with Naive Bayes (Gaussian)"
   ]
  },
  {
   "cell_type": "code",
   "execution_count": 48,
   "id": "4e7ac582",
   "metadata": {},
   "outputs": [
    {
     "name": "stdout",
     "output_type": "stream",
     "text": [
      "Score on the Training instances: 0.72\n",
      "Score on the Test instances: 0.72\n"
     ]
    }
   ],
   "source": [
    "# derive a classifier assuming the assumption of the normal curve for everyone\n",
    "nbclf = naive_bayes.GaussianNB() \n",
    "\n",
    "# fit the classifier\n",
    "nbclf = nbclf.fit(vs_train, vs_target_train)\n",
    "\n",
    "# score it on the training data set\n",
    "print('Score on the Training instances: %0.2f' %(nbclf.score(vs_train, vs_target_train))) \n",
    "\n",
    "#score it on the testing instances\n",
    "print('Score on the Test instances: %0.2f' %(nbclf.score(vs_test, vs_target_test)))"
   ]
  },
  {
   "cell_type": "markdown",
   "id": "75c085d3",
   "metadata": {},
   "source": [
    "<p>The average accuracy scores for both the testing and training instances are equal, it might not be the best estimate, but atleast our model is 72% able to make any predictions without being overfitted.</p>"
   ]
  },
  {
   "cell_type": "markdown",
   "id": "1cb67ae6",
   "metadata": {},
   "source": [
    "#### Next, we use a 10-fold cross validation, which splits the data set 10 times. We use cross validation scores in order to get a better estimate of the what the classifier does. "
   ]
  },
  {
   "cell_type": "code",
   "execution_count": 49,
   "id": "83421b2c",
   "metadata": {},
   "outputs": [
    {
     "name": "stdout",
     "output_type": "stream",
     "text": [
      "The 10 fold cross validation scores: [0.73 0.7  0.73 0.71 0.73 0.71 0.71 0.72 0.73 0.71]\n",
      "Overall Accuracy on the X-Val: 0.72 (+- 0.02)\n"
     ]
    }
   ],
   "source": [
    "cv_scores = model_selection.cross_val_score(nbclf, vs_adult_matrix_mod, vs_target, cv = 10)\n",
    "print('The 10 fold cross validation scores: %s' %(cv_scores))\n",
    "\n",
    "# let's derive the mean and standard deviation of the first 10 trials.\n",
    "print('Overall Accuracy on the X-Val: %0.2f (+- %0.2f)' %(cv_scores.mean(), cv_scores.std() * 2))"
   ]
  },
  {
   "cell_type": "markdown",
   "id": "72928f72",
   "metadata": {},
   "source": [
    "<p>There is no gap between the score on the training and the score on the testing data sets, and these score estimates are equal to the overall accuracy. 0.72 is the overall accuracy and 0.02 is standard deviation. This means that our model performs well over the test data data and it hasn't overfitted the training data, and can be used for prediction. </p>"
   ]
  },
  {
   "cell_type": "markdown",
   "id": "b8848bc1",
   "metadata": {},
   "source": [
    "#### Using multinomial Naive Bayes"
   ]
  },
  {
   "cell_type": "code",
   "execution_count": 50,
   "id": "1030aa4d",
   "metadata": {},
   "outputs": [
    {
     "name": "stdout",
     "output_type": "stream",
     "text": [
      "Score on the Training instances: 0.74\n",
      "Score on the Test instances: 0.74\n",
      "The 10 fold cross validation scores: [0.75 0.74 0.75 0.75 0.74 0.75 0.74 0.76 0.74 0.75]\n",
      "Overall Accuracy on the X-Val: 0.75 (+- 0.01)\n"
     ]
    }
   ],
   "source": [
    "nbmclf = naive_bayes.MultinomialNB()\n",
    "\n",
    "# fit the classifier\n",
    "nbmclf = nbmclf.fit(vs_train, vs_target_train)\n",
    "\n",
    "# score it on the training data set\n",
    "print('Score on the Training instances: %0.2f' %(nbmclf.score(vs_train, vs_target_train))) \n",
    "\n",
    "#score it on the testing instances\n",
    "print('Score on the Test instances: %0.2f' %(nbmclf.score(vs_test, vs_target_test)))\n",
    "\n",
    "# Using a 10 fold cross validation to validate our scores\n",
    "cv_scores = model_selection.cross_val_score(nbmclf, vs_adult_matrix_mod, vs_target, cv = 10)\n",
    "print('The 10 fold cross validation scores: %s' %(cv_scores))\n",
    "\n",
    "# let's derive the mean and standard deviation of the first 10 trials.\n",
    "print('Overall Accuracy on the X-Val: %0.2f (+- %0.2f)' %(cv_scores.mean(), cv_scores.std() * 2))"
   ]
  },
  {
   "cell_type": "markdown",
   "id": "cc4c0633",
   "metadata": {},
   "source": [
    "<p>Using multinomial Naive Bayes, we get a slight increase in the average accuracy scores for both the training and testing data sets. The overall Accuracy score is 0.75 with a standard deviation of 0.01, which is significant between the two scores (training and testing) so, our model hasn't overfitted the training data.</p>"
   ]
  },
  {
   "cell_type": "markdown",
   "id": "63881e97",
   "metadata": {},
   "source": [
    "#### Linear Discriminant Analysis (LDA). "
   ]
  },
  {
   "cell_type": "code",
   "execution_count": 51,
   "id": "be7bc2fe",
   "metadata": {},
   "outputs": [
    {
     "name": "stdout",
     "output_type": "stream",
     "text": [
      "Score on the Test instances: 0.81\n",
      "Score on the Training instances: 0.81\n"
     ]
    }
   ],
   "source": [
    "ldclf = LinearDiscriminantAnalysis()\n",
    "\n",
    "# fit the classifier\n",
    "ldclf = ldclf.fit(vs_train, vs_target_train)\n",
    "\n",
    "#score it on the testing instances\n",
    "print('Score on the Test instances: %0.2f' %(ldclf.score(vs_test, vs_target_test)))\n",
    "\n",
    "# score it on the training data set\n",
    "print ('Score on the Training instances: %0.2f' %(ldclf.score(vs_train, vs_target_train)))\n",
    "\n"
   ]
  },
  {
   "cell_type": "markdown",
   "id": "490e734a",
   "metadata": {},
   "source": [
    "#### We apply a 10-fold cross validation, which splits the data set 10 times in order to get a better estimate of the what the classifier does."
   ]
  },
  {
   "cell_type": "code",
   "execution_count": 52,
   "id": "b4c1702f",
   "metadata": {},
   "outputs": [
    {
     "name": "stdout",
     "output_type": "stream",
     "text": [
      "The 10 fold cross validation scores: [0.81 0.81 0.79 0.82 0.81 0.79 0.8  0.81 0.82 0.82]\n",
      "Overall Accuracy on the X-Val: 0.81 (+- 0.02)\n"
     ]
    }
   ],
   "source": [
    "cv_scores = model_selection.cross_val_score(ldclf, vs_adult_matrix_mod, vs_target, cv = 10)\n",
    "print('The 10 fold cross validation scores: %s' %(cv_scores))\n",
    "\n",
    "# let's derive the mean and standard deviation of the first 10 trials.\n",
    "print('Overall Accuracy on the X-Val: %0.2f (+- %0.2f)' %(cv_scores.mean(), cv_scores.std() * 2))"
   ]
  },
  {
   "cell_type": "markdown",
   "id": "a0094c40",
   "metadata": {},
   "source": [
    "<p>Using <strong>LDA</strong> gives us better average accuracy scores on both the training and testing instances. There is no gap between the score on training and the score on testing. 0.81 is the average score and 0.02 is the standard deivation, which is significant between the two scores and this tells us that our model performs well over the test data with 81 percent accuracy. Also, the model doesn't overfit the training data.</p>"
   ]
  },
  {
   "cell_type": "code",
   "execution_count": null,
   "id": "329c02aa",
   "metadata": {},
   "outputs": [],
   "source": []
  }
 ],
 "metadata": {
  "kernelspec": {
   "display_name": "cmdpy37",
   "language": "python",
   "name": "cmdpy37"
  },
  "language_info": {
   "codemirror_mode": {
    "name": "ipython",
    "version": 3
   },
   "file_extension": ".py",
   "mimetype": "text/x-python",
   "name": "python",
   "nbconvert_exporter": "python",
   "pygments_lexer": "ipython3",
   "version": "3.7.11"
  }
 },
 "nbformat": 4,
 "nbformat_minor": 5
}
