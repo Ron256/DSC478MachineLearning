{
 "cells": [
  {
   "cell_type": "markdown",
   "id": "db8abce8",
   "metadata": {},
   "source": [
    "# Clustering Notebook\n",
    "###### Author: Ronaldlee Ejalu\n",
    "###### DSC 478 Programming Machine Learning Apps\n",
    "######  Assignment 3 Part 2"
   ]
  },
  {
   "cell_type": "markdown",
   "id": "82875587",
   "metadata": {},
   "source": [
    "<p>For this problem you will use a different subset of the 20 Newsgroup data set that you used in Assignment 2. The subset for this assignment includes 2,500 documents (newsgroup posts), each belonging to one of 5 categories <strong> windows </strong>(0), <strong>crypt </strong>(1), <strong>christian </strong>(2), <strong>hockey </strong>(3), <strong>forsale </strong>(4). The documents are represented by 9328 terms (stems). The dictionary (vocabulary) for the data set is given in the file \"terms.txt\" and the full term-by-document matrix is given in \"matrix.txt\" (comma separated values). The actual category labels for the documents are provided in the file \"classes.txt\". Your goal in this assignment is to perform clustering on the documents and compare the clusters to the actual categories.\n",
    "\n",
    "My tasks in this problem are the following [Note: for the clustering part of this assignment we should use the kMeans module form Ch. 10 of MLA (use the version provided here as it includes some corrections to the book version). We also use Pandas and other modules from scikit-learn for preprocessing or evaluation.] </p>"
   ]
  },
  {
   "cell_type": "code",
   "execution_count": 1,
   "id": "2113261c",
   "metadata": {
    "scrolled": true
   },
   "outputs": [],
   "source": [
    "# load the necessary packages\n",
    "import numpy as np\n",
    "import pandas as pd\n",
    "import operator\n",
    "import matplotlib.pyplot as plt\n",
    "from sklearn import preprocessing\n",
    "from sklearn.model_selection import KFold\n",
    "from sklearn.linear_model import LinearRegression, Lasso, Ridge, ElasticNet, SGDRegressor\n",
    "from sklearn.model_selection import train_test_split \n",
    "import pylab as pl\n",
    "from sklearn import feature_selection\n",
    "from sklearn import model_selection\n",
    "from sklearn.metrics import completeness_score, homogeneity_score\n",
    "from wordcloud import WordCloud, STOPWORDS, ImageColorGenerator\n",
    "\n",
    "pd.set_option(\"display.precision\", 4)\n",
    "np.set_printoptions(precision=4)\n",
    "plt.style.use('ggplot')"
   ]
  },
  {
   "cell_type": "markdown",
   "id": "f080d475",
   "metadata": {},
   "source": [
    "##### a. Create your own distance function that, instead of using Euclidean distance, uses Cosine similarity. This is the distance function we will use to pass to the kMeans function."
   ]
  },
  {
   "cell_type": "code",
   "execution_count": 2,
   "id": "22ef6b1d",
   "metadata": {
    "scrolled": true
   },
   "outputs": [],
   "source": [
    "'''\n",
    "k Means Clustering for Ch10 of Machine Learning in Action\n",
    "@author: Peter Harrington\n",
    "'''\n",
    "from numpy import *\n",
    "\n",
    "def distEuclid(vecA, vecB):\n",
    "    return sqrt(sum(power(vecA - vecB, 2))) #la.norm(vecA-vecB)"
   ]
  },
  {
   "cell_type": "code",
   "execution_count": 3,
   "id": "9827e7aa",
   "metadata": {
    "scrolled": true
   },
   "outputs": [],
   "source": [
    "def cosineDist(vecA, vecB):\n",
    "    \"\"\"Function that returns cosine Similarity\"\"\"\n",
    "    a_norm = np.linalg.norm(vecA)\n",
    "    b_norm = np.linalg.norm(vecB)\n",
    "    \n",
    "    cosine = np.dot(vecA, vecB) / (a_norm * b_norm)\n",
    "    dist = 1 - cosine\n",
    "    \n",
    "    return dist"
   ]
  },
  {
   "cell_type": "code",
   "execution_count": 4,
   "id": "9ea58e73",
   "metadata": {
    "scrolled": true
   },
   "outputs": [],
   "source": [
    "def randCent(dataSet, k):\n",
    "    '''\n",
    "    randCent(), creates a set of k ran-dom  centroids  for  a  given  dataset.  \n",
    "    The  random  centroids  need  to  be  within  thebounds of the dataset. \n",
    "    This is accomplished by finding the minimum and maximumvalues of each dimension \n",
    "    in the dataset. \n",
    "    Random values from 0 to 1.0 are then chosenand  scaled  by  the  range  and  \n",
    "    minimum  value  to  ensure  that  the  random  points  arewithin  the  bounds  \n",
    "    of  the  data.  \n",
    "    '''\n",
    "    n = shape(dataSet)[1]\n",
    "    centroids = zeros((k,n), dtype=float)\n",
    "    for j in range(n): #create random cluster centers\n",
    "        minJ = min(dataSet[:,j])\n",
    "        rangeJ = float(max(dataSet[:,j]) - minJ)\n",
    "        centroids[:,j] = minJ + rangeJ * random.rand(k)\n",
    "    return centroids "
   ]
  },
  {
   "cell_type": "code",
   "execution_count": 5,
   "id": "5e3e9964",
   "metadata": {
    "scrolled": true
   },
   "outputs": [],
   "source": [
    "# kMeans function\n",
    "def kMeans(dataSet, k, distMeas=distEuclid, createCent=randCent):\n",
    "    m = shape(dataSet)[0]\n",
    "    clusterAssment = zeros((m,2)) #create mat to assign data points \n",
    "                                  #to a centroid, also holds SE of each point\n",
    "    centroids = createCent(dataSet, k)\n",
    "    clusterChanged = True\n",
    "    while clusterChanged:\n",
    "        clusterChanged = False\n",
    "        for i in range(m): #for each data point assign it to the closest centroid\n",
    "            minDist = inf; minIndex = -1\n",
    "            for j in range(k):  #find the closest distance\n",
    "                distJI = distMeas(centroids[j,:],dataSet[i,:])\n",
    "                if distJI < minDist:\n",
    "                    minDist = distJI; minIndex = j\n",
    "            if clusterAssment[i,0] != minIndex: clusterChanged = True\n",
    "            clusterAssment[i,:] = minIndex,minDist**2\n",
    "        # print centroids\n",
    "        for cent in range(k):#recalculate centroids and update the centroid location\n",
    "            ptsInClust = dataSet[nonzero(clusterAssment[:,0]==cent)[0]] #get all the point in this cluster - Note: this was incorrect in the original distribution.\n",
    "            if(len(ptsInClust)!=0):\n",
    "                centroids[cent,:] = mean(ptsInClust, axis=0) #assign centroid to mean - Note condition was added 10/28/2013\n",
    "    return centroids, clusterAssment"
   ]
  },
  {
   "cell_type": "code",
   "execution_count": 6,
   "id": "377d1f7e",
   "metadata": {
    "scrolled": true
   },
   "outputs": [],
   "source": [
    "def biKmeans(dataSet, k, distMeas=distEuclid):\n",
    "    '''\n",
    "    To overcome the problem of poor clusters because of k-means getting caught in a local minimum, another algorithm has been developed. This algorithm, known as bisecting k-means, starts out with one cluster and then splits the cluster in two. It then chooses a cluster to split. The cluster to split is decided by minimizing the SSE. This splitting based on the SSE is repeated until the user-defined number of clusters is attained.\n",
    "    '''\n",
    "    m = shape(dataSet)[0]\n",
    "    clusterAssment = mat(zeros((m,2))) # cluster assessment has two columns, one column is for the index of the cluster and the second column is store the error. \n",
    "    # This error is the distance from the cluster centroid to the current point. We’ll use this error later on to measure how good our clusters are\n",
    "    centroid0 = mean(dataSet, axis=0).tolist()[0]\n",
    "    centList =[centroid0] #create a list with one centroid\n",
    "    for j in range(m): #calc initial Error\n",
    "        clusterAssment[j,1] = distMeas(mat(centroid0), dataSet[j,:])**2\n",
    "    while (len(centList) < k):\n",
    "        lowestSSE = inf\n",
    "        for i in range(len(centList)):\n",
    "            ptsInCurrCluster = dataSet[nonzero(clusterAssment[:,0].A==i)[0],:] #get the data points currently in cluster i\n",
    "            centroidMat, splitClustAss = kMeans(ptsInCurrCluster, 2, distMeas)\n",
    "            sseSplit = sum(splitClustAss[:,1]) #compare the SSE to the currrent minimum\n",
    "            sseNotSplit = sum(clusterAssment[nonzero(clusterAssment[:,0].A!=i)[0],1])\n",
    "            print(\"sseSplit, and notSplit: \",sseSplit,sseNotSplit)\n",
    "            if (sseSplit + sseNotSplit) < lowestSSE:\n",
    "                bestCentToSplit = i\n",
    "                bestNewCents = centroidMat\n",
    "                bestClustAss = splitClustAss.copy()\n",
    "                lowestSSE = sseSplit + sseNotSplit\n",
    "        bestClustAss[nonzero(bestClustAss[:,0] == 1)[0],0] = len(centList) #change 1 to 3,4, or whatever\n",
    "        bestClustAss[nonzero(bestClustAss[:,0] == 0)[0],0] = bestCentToSplit\n",
    "        print('the bestCentToSplit is: ',bestCentToSplit)\n",
    "        print('the len of bestClustAss is: ', len(bestClustAss))\n",
    "        centList[bestCentToSplit] = bestNewCents[0,:].tolist()[0] #replace a centroid with two best centroids \n",
    "        centList.append(bestNewCents[1,:].tolist()[0])\n",
    "        clusterAssment[nonzero(clusterAssment[:,0].A == bestCentToSplit)[0],:]= bestClustAss #reassign new clusters, and SSE\n",
    "    return mat(centList), clusterAssment\n"
   ]
  },
  {
   "cell_type": "markdown",
   "id": "ba3ab085",
   "metadata": {},
   "source": [
    "##### b. Load the data set [Note: the data matrix provided has terms as rows and documents as columns. Since we will be clustering documents, we'll need to take the transpose of this matrix so that our main data matrix is a document x term matrix. In Numpy, we use \".T\" operation to obtain the transpose.] Then, split the data set (the document x term matrix) and set aside 20% for later use (see below). Use the 80% segment for clustering in the next part. The 20% portion must be a random subset. Next, as in the previous assignment, perform TFxIDF transformation on these data sets"
   ]
  },
  {
   "cell_type": "code",
   "execution_count": 7,
   "id": "40d6d61a",
   "metadata": {
    "scrolled": false
   },
   "outputs": [
    {
     "data": {
      "text/html": [
       "<div>\n",
       "<style scoped>\n",
       "    .dataframe tbody tr th:only-of-type {\n",
       "        vertical-align: middle;\n",
       "    }\n",
       "\n",
       "    .dataframe tbody tr th {\n",
       "        vertical-align: top;\n",
       "    }\n",
       "\n",
       "    .dataframe thead th {\n",
       "        text-align: right;\n",
       "    }\n",
       "</style>\n",
       "<table border=\"1\" class=\"dataframe\">\n",
       "  <thead>\n",
       "    <tr style=\"text-align: right;\">\n",
       "      <th></th>\n",
       "      <th>1</th>\n",
       "    </tr>\n",
       "    <tr>\n",
       "      <th>0</th>\n",
       "      <th></th>\n",
       "    </tr>\n",
       "  </thead>\n",
       "  <tbody>\n",
       "    <tr>\n",
       "      <th>0</th>\n",
       "      <td>0</td>\n",
       "    </tr>\n",
       "    <tr>\n",
       "      <th>1</th>\n",
       "      <td>1</td>\n",
       "    </tr>\n",
       "    <tr>\n",
       "      <th>2</th>\n",
       "      <td>1</td>\n",
       "    </tr>\n",
       "    <tr>\n",
       "      <th>3</th>\n",
       "      <td>1</td>\n",
       "    </tr>\n",
       "    <tr>\n",
       "      <th>4</th>\n",
       "      <td>2</td>\n",
       "    </tr>\n",
       "  </tbody>\n",
       "</table>\n",
       "</div>"
      ],
      "text/plain": [
       "   1\n",
       "0   \n",
       "0  0\n",
       "1  1\n",
       "2  1\n",
       "3  1\n",
       "4  2"
      ]
     },
     "execution_count": 7,
     "metadata": {},
     "output_type": "execute_result"
    }
   ],
   "source": [
    "# load the data setS\n",
    "fileName_Classes = r'../../data/newsgroups5/classes.txt'\n",
    "df_classes = pd.read_csv(fileName_Classes, sep = '\\s+', header = None, skiprows = 1, index_col = 0)\n",
    "df_classes.head()"
   ]
  },
  {
   "cell_type": "code",
   "execution_count": 8,
   "id": "240d1e1d",
   "metadata": {
    "scrolled": true
   },
   "outputs": [
    {
     "data": {
      "text/plain": [
       "(2500, 1)"
      ]
     },
     "execution_count": 8,
     "metadata": {},
     "output_type": "execute_result"
    }
   ],
   "source": [
    "df_classes.shape"
   ]
  },
  {
   "cell_type": "code",
   "execution_count": 9,
   "id": "0e27bb9c",
   "metadata": {
    "scrolled": true
   },
   "outputs": [
    {
     "data": {
      "text/html": [
       "<div>\n",
       "<style scoped>\n",
       "    .dataframe tbody tr th:only-of-type {\n",
       "        vertical-align: middle;\n",
       "    }\n",
       "\n",
       "    .dataframe tbody tr th {\n",
       "        vertical-align: top;\n",
       "    }\n",
       "\n",
       "    .dataframe thead th {\n",
       "        text-align: right;\n",
       "    }\n",
       "</style>\n",
       "<table border=\"1\" class=\"dataframe\">\n",
       "  <thead>\n",
       "    <tr style=\"text-align: right;\">\n",
       "      <th></th>\n",
       "      <th>1</th>\n",
       "    </tr>\n",
       "    <tr>\n",
       "      <th>0</th>\n",
       "      <th></th>\n",
       "    </tr>\n",
       "  </thead>\n",
       "  <tbody>\n",
       "    <tr>\n",
       "      <th>0</th>\n",
       "      <td>0</td>\n",
       "    </tr>\n",
       "    <tr>\n",
       "      <th>1</th>\n",
       "      <td>1</td>\n",
       "    </tr>\n",
       "    <tr>\n",
       "      <th>2</th>\n",
       "      <td>1</td>\n",
       "    </tr>\n",
       "    <tr>\n",
       "      <th>3</th>\n",
       "      <td>1</td>\n",
       "    </tr>\n",
       "    <tr>\n",
       "      <th>4</th>\n",
       "      <td>2</td>\n",
       "    </tr>\n",
       "  </tbody>\n",
       "</table>\n",
       "</div>"
      ],
      "text/plain": [
       "   1\n",
       "0   \n",
       "0  0\n",
       "1  1\n",
       "2  1\n",
       "3  1\n",
       "4  2"
      ]
     },
     "execution_count": 9,
     "metadata": {},
     "output_type": "execute_result"
    }
   ],
   "source": [
    "df_classes.head()"
   ]
  },
  {
   "cell_type": "code",
   "execution_count": 10,
   "id": "5a17231d",
   "metadata": {
    "scrolled": true
   },
   "outputs": [
    {
     "data": {
      "text/plain": [
       "Int64Index([1], dtype='int64')"
      ]
     },
     "execution_count": 10,
     "metadata": {},
     "output_type": "execute_result"
    }
   ],
   "source": [
    "df_classes.columns"
   ]
  },
  {
   "cell_type": "code",
   "execution_count": 11,
   "id": "cb08308f",
   "metadata": {
    "scrolled": true
   },
   "outputs": [
    {
     "name": "stdout",
     "output_type": "stream",
     "text": [
      "Wall time: 0 ns\n"
     ]
    },
    {
     "data": {
      "text/html": [
       "<div>\n",
       "<style scoped>\n",
       "    .dataframe tbody tr th:only-of-type {\n",
       "        vertical-align: middle;\n",
       "    }\n",
       "\n",
       "    .dataframe tbody tr th {\n",
       "        vertical-align: top;\n",
       "    }\n",
       "\n",
       "    .dataframe thead th {\n",
       "        text-align: right;\n",
       "    }\n",
       "</style>\n",
       "<table border=\"1\" class=\"dataframe\">\n",
       "  <thead>\n",
       "    <tr style=\"text-align: right;\">\n",
       "      <th></th>\n",
       "      <th>0</th>\n",
       "      <th>1</th>\n",
       "      <th>2</th>\n",
       "      <th>3</th>\n",
       "      <th>4</th>\n",
       "      <th>5</th>\n",
       "      <th>6</th>\n",
       "      <th>7</th>\n",
       "      <th>8</th>\n",
       "      <th>9</th>\n",
       "      <th>...</th>\n",
       "      <th>2490</th>\n",
       "      <th>2491</th>\n",
       "      <th>2492</th>\n",
       "      <th>2493</th>\n",
       "      <th>2494</th>\n",
       "      <th>2495</th>\n",
       "      <th>2496</th>\n",
       "      <th>2497</th>\n",
       "      <th>2498</th>\n",
       "      <th>2499</th>\n",
       "    </tr>\n",
       "  </thead>\n",
       "  <tbody>\n",
       "    <tr>\n",
       "      <th>0</th>\n",
       "      <td>0</td>\n",
       "      <td>0</td>\n",
       "      <td>0</td>\n",
       "      <td>0</td>\n",
       "      <td>0</td>\n",
       "      <td>0</td>\n",
       "      <td>0</td>\n",
       "      <td>0</td>\n",
       "      <td>0</td>\n",
       "      <td>0</td>\n",
       "      <td>...</td>\n",
       "      <td>0</td>\n",
       "      <td>0</td>\n",
       "      <td>0</td>\n",
       "      <td>0</td>\n",
       "      <td>0</td>\n",
       "      <td>0</td>\n",
       "      <td>0</td>\n",
       "      <td>0</td>\n",
       "      <td>0</td>\n",
       "      <td>0</td>\n",
       "    </tr>\n",
       "    <tr>\n",
       "      <th>1</th>\n",
       "      <td>0</td>\n",
       "      <td>0</td>\n",
       "      <td>0</td>\n",
       "      <td>0</td>\n",
       "      <td>0</td>\n",
       "      <td>0</td>\n",
       "      <td>0</td>\n",
       "      <td>0</td>\n",
       "      <td>0</td>\n",
       "      <td>0</td>\n",
       "      <td>...</td>\n",
       "      <td>0</td>\n",
       "      <td>0</td>\n",
       "      <td>0</td>\n",
       "      <td>0</td>\n",
       "      <td>0</td>\n",
       "      <td>0</td>\n",
       "      <td>0</td>\n",
       "      <td>0</td>\n",
       "      <td>0</td>\n",
       "      <td>0</td>\n",
       "    </tr>\n",
       "    <tr>\n",
       "      <th>2</th>\n",
       "      <td>0</td>\n",
       "      <td>0</td>\n",
       "      <td>0</td>\n",
       "      <td>0</td>\n",
       "      <td>0</td>\n",
       "      <td>0</td>\n",
       "      <td>0</td>\n",
       "      <td>0</td>\n",
       "      <td>0</td>\n",
       "      <td>0</td>\n",
       "      <td>...</td>\n",
       "      <td>0</td>\n",
       "      <td>0</td>\n",
       "      <td>0</td>\n",
       "      <td>0</td>\n",
       "      <td>0</td>\n",
       "      <td>0</td>\n",
       "      <td>0</td>\n",
       "      <td>0</td>\n",
       "      <td>0</td>\n",
       "      <td>0</td>\n",
       "    </tr>\n",
       "    <tr>\n",
       "      <th>3</th>\n",
       "      <td>0</td>\n",
       "      <td>0</td>\n",
       "      <td>0</td>\n",
       "      <td>0</td>\n",
       "      <td>0</td>\n",
       "      <td>0</td>\n",
       "      <td>0</td>\n",
       "      <td>0</td>\n",
       "      <td>0</td>\n",
       "      <td>0</td>\n",
       "      <td>...</td>\n",
       "      <td>0</td>\n",
       "      <td>0</td>\n",
       "      <td>0</td>\n",
       "      <td>0</td>\n",
       "      <td>0</td>\n",
       "      <td>0</td>\n",
       "      <td>0</td>\n",
       "      <td>0</td>\n",
       "      <td>0</td>\n",
       "      <td>0</td>\n",
       "    </tr>\n",
       "    <tr>\n",
       "      <th>4</th>\n",
       "      <td>0</td>\n",
       "      <td>0</td>\n",
       "      <td>0</td>\n",
       "      <td>0</td>\n",
       "      <td>0</td>\n",
       "      <td>0</td>\n",
       "      <td>0</td>\n",
       "      <td>0</td>\n",
       "      <td>0</td>\n",
       "      <td>0</td>\n",
       "      <td>...</td>\n",
       "      <td>0</td>\n",
       "      <td>0</td>\n",
       "      <td>0</td>\n",
       "      <td>0</td>\n",
       "      <td>0</td>\n",
       "      <td>0</td>\n",
       "      <td>0</td>\n",
       "      <td>0</td>\n",
       "      <td>0</td>\n",
       "      <td>0</td>\n",
       "    </tr>\n",
       "  </tbody>\n",
       "</table>\n",
       "<p>5 rows × 2500 columns</p>\n",
       "</div>"
      ],
      "text/plain": [
       "   0     1     2     3     4     5     6     7     8     9     ...  2490  \\\n",
       "0     0     0     0     0     0     0     0     0     0     0  ...     0   \n",
       "1     0     0     0     0     0     0     0     0     0     0  ...     0   \n",
       "2     0     0     0     0     0     0     0     0     0     0  ...     0   \n",
       "3     0     0     0     0     0     0     0     0     0     0  ...     0   \n",
       "4     0     0     0     0     0     0     0     0     0     0  ...     0   \n",
       "\n",
       "   2491  2492  2493  2494  2495  2496  2497  2498  2499  \n",
       "0     0     0     0     0     0     0     0     0     0  \n",
       "1     0     0     0     0     0     0     0     0     0  \n",
       "2     0     0     0     0     0     0     0     0     0  \n",
       "3     0     0     0     0     0     0     0     0     0  \n",
       "4     0     0     0     0     0     0     0     0     0  \n",
       "\n",
       "[5 rows x 2500 columns]"
      ]
     },
     "execution_count": 11,
     "metadata": {},
     "output_type": "execute_result"
    }
   ],
   "source": [
    "%time\n",
    "fileName_matrix = r'../../data/newsgroups5/matrix.txt'\n",
    "df_matrix = pd.read_csv(fileName_matrix, header = None)\n",
    "df_matrix.head() # display the first five records"
   ]
  },
  {
   "cell_type": "code",
   "execution_count": 12,
   "id": "91293c8f",
   "metadata": {
    "scrolled": true
   },
   "outputs": [
    {
     "data": {
      "text/plain": [
       "(9328, 2500)"
      ]
     },
     "execution_count": 12,
     "metadata": {},
     "output_type": "execute_result"
    }
   ],
   "source": [
    "df_matrix.shape"
   ]
  },
  {
   "cell_type": "code",
   "execution_count": 13,
   "id": "eb10b3d6",
   "metadata": {
    "scrolled": true
   },
   "outputs": [
    {
     "data": {
      "text/html": [
       "<div>\n",
       "<style scoped>\n",
       "    .dataframe tbody tr th:only-of-type {\n",
       "        vertical-align: middle;\n",
       "    }\n",
       "\n",
       "    .dataframe tbody tr th {\n",
       "        vertical-align: top;\n",
       "    }\n",
       "\n",
       "    .dataframe thead th {\n",
       "        text-align: right;\n",
       "    }\n",
       "</style>\n",
       "<table border=\"1\" class=\"dataframe\">\n",
       "  <thead>\n",
       "    <tr style=\"text-align: right;\">\n",
       "      <th></th>\n",
       "      <th>0</th>\n",
       "    </tr>\n",
       "  </thead>\n",
       "  <tbody>\n",
       "    <tr>\n",
       "      <th>0</th>\n",
       "      <td>aa</td>\n",
       "    </tr>\n",
       "    <tr>\n",
       "      <th>1</th>\n",
       "      <td>aargh</td>\n",
       "    </tr>\n",
       "    <tr>\n",
       "      <th>2</th>\n",
       "      <td>aaron</td>\n",
       "    </tr>\n",
       "    <tr>\n",
       "      <th>3</th>\n",
       "      <td>aaronc</td>\n",
       "    </tr>\n",
       "    <tr>\n",
       "      <th>4</th>\n",
       "      <td>ab</td>\n",
       "    </tr>\n",
       "  </tbody>\n",
       "</table>\n",
       "</div>"
      ],
      "text/plain": [
       "        0\n",
       "0      aa\n",
       "1   aargh\n",
       "2   aaron\n",
       "3  aaronc\n",
       "4      ab"
      ]
     },
     "execution_count": 13,
     "metadata": {},
     "output_type": "execute_result"
    }
   ],
   "source": [
    "fileName_terms = r'../../data/newsgroups5/terms.txt'\n",
    "df_terms = pd.read_csv(fileName_terms, header = None)\n",
    "df_terms.head() # display the first five records"
   ]
  },
  {
   "cell_type": "markdown",
   "id": "56c6fc8e",
   "metadata": {},
   "source": [
    "#### We need to add the terms frequency across the columns:"
   ]
  },
  {
   "cell_type": "code",
   "execution_count": 14,
   "id": "943c2845",
   "metadata": {
    "scrolled": true
   },
   "outputs": [
    {
     "data": {
      "text/plain": [
       "0       16\n",
       "1        6\n",
       "2       82\n",
       "3       12\n",
       "4       30\n",
       "        ..\n",
       "9323     8\n",
       "9324    50\n",
       "9325    11\n",
       "9326     6\n",
       "9327    15\n",
       "Length: 9328, dtype: int64"
      ]
     },
     "execution_count": 14,
     "metadata": {},
     "output_type": "execute_result"
    }
   ],
   "source": [
    "termFreqs = df_matrix.sum(axis = 1) # adding in the column direction\n",
    "termFreqs"
   ]
  },
  {
   "cell_type": "markdown",
   "id": "6eec0848",
   "metadata": {},
   "source": [
    "<p>aa appears times 16 times, aargh appears 6 times, aaron appears 12 times and so on.</p>"
   ]
  },
  {
   "cell_type": "code",
   "execution_count": 15,
   "id": "ec308986",
   "metadata": {
    "scrolled": true
   },
   "outputs": [
    {
     "data": {
      "image/png": "[encoded data removed]",
      "text/plain": [
       "<Figure size 432x288 with 1 Axes>"
      ]
     },
     "metadata": {},
     "output_type": "display_data"
    }
   ],
   "source": [
    "plt.plot(sorted(termFreqs, reverse=True))\n",
    "plt.show()"
   ]
  },
  {
   "cell_type": "markdown",
   "id": "98d3ef9d",
   "metadata": {},
   "source": [
    "#### Since we will be clustering documents, we'll need to take the transpose of this matrix so that our main data matrix is a document x term matrix. "
   ]
  },
  {
   "cell_type": "code",
   "execution_count": 16,
   "id": "15574f51",
   "metadata": {
    "scrolled": true
   },
   "outputs": [
    {
     "data": {
      "text/html": [
       "<div>\n",
       "<style scoped>\n",
       "    .dataframe tbody tr th:only-of-type {\n",
       "        vertical-align: middle;\n",
       "    }\n",
       "\n",
       "    .dataframe tbody tr th {\n",
       "        vertical-align: top;\n",
       "    }\n",
       "\n",
       "    .dataframe thead th {\n",
       "        text-align: right;\n",
       "    }\n",
       "</style>\n",
       "<table border=\"1\" class=\"dataframe\">\n",
       "  <thead>\n",
       "    <tr style=\"text-align: right;\">\n",
       "      <th></th>\n",
       "      <th>0</th>\n",
       "      <th>1</th>\n",
       "      <th>2</th>\n",
       "      <th>3</th>\n",
       "      <th>4</th>\n",
       "      <th>5</th>\n",
       "      <th>6</th>\n",
       "      <th>7</th>\n",
       "      <th>8</th>\n",
       "      <th>9</th>\n",
       "      <th>...</th>\n",
       "      <th>9318</th>\n",
       "      <th>9319</th>\n",
       "      <th>9320</th>\n",
       "      <th>9321</th>\n",
       "      <th>9322</th>\n",
       "      <th>9323</th>\n",
       "      <th>9324</th>\n",
       "      <th>9325</th>\n",
       "      <th>9326</th>\n",
       "      <th>9327</th>\n",
       "    </tr>\n",
       "  </thead>\n",
       "  <tbody>\n",
       "    <tr>\n",
       "      <th>0</th>\n",
       "      <td>0</td>\n",
       "      <td>0</td>\n",
       "      <td>0</td>\n",
       "      <td>0</td>\n",
       "      <td>0</td>\n",
       "      <td>0</td>\n",
       "      <td>0</td>\n",
       "      <td>0</td>\n",
       "      <td>0</td>\n",
       "      <td>0</td>\n",
       "      <td>...</td>\n",
       "      <td>0</td>\n",
       "      <td>0</td>\n",
       "      <td>0</td>\n",
       "      <td>0</td>\n",
       "      <td>0</td>\n",
       "      <td>0</td>\n",
       "      <td>0</td>\n",
       "      <td>0</td>\n",
       "      <td>0</td>\n",
       "      <td>0</td>\n",
       "    </tr>\n",
       "    <tr>\n",
       "      <th>1</th>\n",
       "      <td>0</td>\n",
       "      <td>0</td>\n",
       "      <td>0</td>\n",
       "      <td>0</td>\n",
       "      <td>0</td>\n",
       "      <td>0</td>\n",
       "      <td>0</td>\n",
       "      <td>0</td>\n",
       "      <td>0</td>\n",
       "      <td>1</td>\n",
       "      <td>...</td>\n",
       "      <td>0</td>\n",
       "      <td>0</td>\n",
       "      <td>0</td>\n",
       "      <td>0</td>\n",
       "      <td>0</td>\n",
       "      <td>0</td>\n",
       "      <td>0</td>\n",
       "      <td>0</td>\n",
       "      <td>0</td>\n",
       "      <td>0</td>\n",
       "    </tr>\n",
       "    <tr>\n",
       "      <th>2</th>\n",
       "      <td>0</td>\n",
       "      <td>0</td>\n",
       "      <td>0</td>\n",
       "      <td>0</td>\n",
       "      <td>0</td>\n",
       "      <td>0</td>\n",
       "      <td>0</td>\n",
       "      <td>0</td>\n",
       "      <td>0</td>\n",
       "      <td>0</td>\n",
       "      <td>...</td>\n",
       "      <td>0</td>\n",
       "      <td>0</td>\n",
       "      <td>0</td>\n",
       "      <td>0</td>\n",
       "      <td>0</td>\n",
       "      <td>0</td>\n",
       "      <td>0</td>\n",
       "      <td>0</td>\n",
       "      <td>0</td>\n",
       "      <td>0</td>\n",
       "    </tr>\n",
       "    <tr>\n",
       "      <th>3</th>\n",
       "      <td>0</td>\n",
       "      <td>0</td>\n",
       "      <td>0</td>\n",
       "      <td>0</td>\n",
       "      <td>0</td>\n",
       "      <td>0</td>\n",
       "      <td>0</td>\n",
       "      <td>0</td>\n",
       "      <td>0</td>\n",
       "      <td>0</td>\n",
       "      <td>...</td>\n",
       "      <td>0</td>\n",
       "      <td>0</td>\n",
       "      <td>0</td>\n",
       "      <td>0</td>\n",
       "      <td>0</td>\n",
       "      <td>0</td>\n",
       "      <td>0</td>\n",
       "      <td>0</td>\n",
       "      <td>0</td>\n",
       "      <td>0</td>\n",
       "    </tr>\n",
       "    <tr>\n",
       "      <th>4</th>\n",
       "      <td>0</td>\n",
       "      <td>0</td>\n",
       "      <td>0</td>\n",
       "      <td>0</td>\n",
       "      <td>0</td>\n",
       "      <td>0</td>\n",
       "      <td>0</td>\n",
       "      <td>0</td>\n",
       "      <td>0</td>\n",
       "      <td>0</td>\n",
       "      <td>...</td>\n",
       "      <td>0</td>\n",
       "      <td>0</td>\n",
       "      <td>0</td>\n",
       "      <td>0</td>\n",
       "      <td>0</td>\n",
       "      <td>0</td>\n",
       "      <td>0</td>\n",
       "      <td>0</td>\n",
       "      <td>0</td>\n",
       "      <td>0</td>\n",
       "    </tr>\n",
       "  </tbody>\n",
       "</table>\n",
       "<p>5 rows × 9328 columns</p>\n",
       "</div>"
      ],
      "text/plain": [
       "   0     1     2     3     4     5     6     7     8     9     ...  9318  \\\n",
       "0     0     0     0     0     0     0     0     0     0     0  ...     0   \n",
       "1     0     0     0     0     0     0     0     0     0     1  ...     0   \n",
       "2     0     0     0     0     0     0     0     0     0     0  ...     0   \n",
       "3     0     0     0     0     0     0     0     0     0     0  ...     0   \n",
       "4     0     0     0     0     0     0     0     0     0     0  ...     0   \n",
       "\n",
       "   9319  9320  9321  9322  9323  9324  9325  9326  9327  \n",
       "0     0     0     0     0     0     0     0     0     0  \n",
       "1     0     0     0     0     0     0     0     0     0  \n",
       "2     0     0     0     0     0     0     0     0     0  \n",
       "3     0     0     0     0     0     0     0     0     0  \n",
       "4     0     0     0     0     0     0     0     0     0  \n",
       "\n",
       "[5 rows x 9328 columns]"
      ]
     },
     "execution_count": 16,
     "metadata": {},
     "output_type": "execute_result"
    }
   ],
   "source": [
    "DT = df_matrix.T\n",
    "DT.head()"
   ]
  },
  {
   "cell_type": "code",
   "execution_count": 17,
   "id": "b3b92c03",
   "metadata": {
    "scrolled": true
   },
   "outputs": [
    {
     "data": {
      "text/plain": [
       "(2500, 9328)"
      ]
     },
     "execution_count": 17,
     "metadata": {},
     "output_type": "execute_result"
    }
   ],
   "source": [
    "DT.shape"
   ]
  },
  {
   "cell_type": "markdown",
   "id": "7bfbb17b",
   "metadata": {},
   "source": [
    "#### We now have a document term matrix"
   ]
  },
  {
   "cell_type": "code",
   "execution_count": 18,
   "id": "f5013692",
   "metadata": {
    "scrolled": true
   },
   "outputs": [
    {
     "name": "stdout",
     "output_type": "stream",
     "text": [
      "There are 9328 terms.\n",
      "There are 2500 documents.\n"
     ]
    }
   ],
   "source": [
    "numTerms = df_matrix.shape[0]\n",
    "NDocs = df_matrix.shape[1]\n",
    "print('There are %s terms.' %numTerms)\n",
    "print('There are %s documents.' %NDocs)"
   ]
  },
  {
   "cell_type": "markdown",
   "id": "9741bf28",
   "metadata": {},
   "source": [
    "#### Though TFxIDF weights are not necessary for clustering, we will transform the data to TFxIDF weights"
   ]
  },
  {
   "cell_type": "code",
   "execution_count": 19,
   "id": "1c8a4533",
   "metadata": {
    "scrolled": false
   },
   "outputs": [
    {
     "data": {
      "text/html": [
       "<div>\n",
       "<style scoped>\n",
       "    .dataframe tbody tr th:only-of-type {\n",
       "        vertical-align: middle;\n",
       "    }\n",
       "\n",
       "    .dataframe tbody tr th {\n",
       "        vertical-align: top;\n",
       "    }\n",
       "\n",
       "    .dataframe thead th {\n",
       "        text-align: right;\n",
       "    }\n",
       "</style>\n",
       "<table border=\"1\" class=\"dataframe\">\n",
       "  <thead>\n",
       "    <tr style=\"text-align: right;\">\n",
       "      <th></th>\n",
       "      <th>0</th>\n",
       "    </tr>\n",
       "  </thead>\n",
       "  <tbody>\n",
       "    <tr>\n",
       "      <th>0</th>\n",
       "      <td>10</td>\n",
       "    </tr>\n",
       "    <tr>\n",
       "      <th>1</th>\n",
       "      <td>6</td>\n",
       "    </tr>\n",
       "    <tr>\n",
       "      <th>2</th>\n",
       "      <td>22</td>\n",
       "    </tr>\n",
       "    <tr>\n",
       "      <th>3</th>\n",
       "      <td>9</td>\n",
       "    </tr>\n",
       "    <tr>\n",
       "      <th>4</th>\n",
       "      <td>13</td>\n",
       "    </tr>\n",
       "    <tr>\n",
       "      <th>...</th>\n",
       "      <td>...</td>\n",
       "    </tr>\n",
       "    <tr>\n",
       "      <th>9323</th>\n",
       "      <td>6</td>\n",
       "    </tr>\n",
       "    <tr>\n",
       "      <th>9324</th>\n",
       "      <td>5</td>\n",
       "    </tr>\n",
       "    <tr>\n",
       "      <th>9325</th>\n",
       "      <td>3</td>\n",
       "    </tr>\n",
       "    <tr>\n",
       "      <th>9326</th>\n",
       "      <td>3</td>\n",
       "    </tr>\n",
       "    <tr>\n",
       "      <th>9327</th>\n",
       "      <td>4</td>\n",
       "    </tr>\n",
       "  </tbody>\n",
       "</table>\n",
       "<p>9328 rows × 1 columns</p>\n",
       "</div>"
      ],
      "text/plain": [
       "       0\n",
       "0     10\n",
       "1      6\n",
       "2     22\n",
       "3      9\n",
       "4     13\n",
       "...   ..\n",
       "9323   6\n",
       "9324   5\n",
       "9325   3\n",
       "9326   3\n",
       "9327   4\n",
       "\n",
       "[9328 rows x 1 columns]"
      ]
     },
     "execution_count": 19,
     "metadata": {},
     "output_type": "execute_result"
    }
   ],
   "source": [
    "matrix_DF = pd.DataFrame([(df_matrix != 0).sum(1)]).T\n",
    "matrix_DF"
   ]
  },
  {
   "cell_type": "code",
   "execution_count": 20,
   "id": "6b9591a1",
   "metadata": {
    "scrolled": true
   },
   "outputs": [
    {
     "name": "stdout",
     "output_type": "stream",
     "text": [
      "[[2500. 2500. 2500. ... 2500. 2500. 2500.]\n",
      " [2500. 2500. 2500. ... 2500. 2500. 2500.]\n",
      " [2500. 2500. 2500. ... 2500. 2500. 2500.]\n",
      " ...\n",
      " [2500. 2500. 2500. ... 2500. 2500. 2500.]\n",
      " [2500. 2500. 2500. ... 2500. 2500. 2500.]\n",
      " [2500. 2500. 2500. ... 2500. 2500. 2500.]]\n"
     ]
    }
   ],
   "source": [
    "# create a matrix with all entries = NDocs\n",
    "NMatrix=np.ones(np.shape(df_matrix), dtype = float) * NDocs\n",
    "np.set_printoptions(precision = 2,suppress = True,linewidth = 120)\n",
    "print(NMatrix)"
   ]
  },
  {
   "cell_type": "code",
   "execution_count": 21,
   "id": "b43db2a3",
   "metadata": {
    "scrolled": true
   },
   "outputs": [
    {
     "name": "stdout",
     "output_type": "stream",
     "text": [
      "[[7.97 7.97 7.97 ... 7.97 7.97 7.97]\n",
      " [8.7  8.7  8.7  ... 8.7  8.7  8.7 ]\n",
      " [6.83 6.83 6.83 ... 6.83 6.83 6.83]\n",
      " ...\n",
      " [9.7  9.7  9.7  ... 9.7  9.7  9.7 ]\n",
      " [9.7  9.7  9.7  ... 9.7  9.7  9.7 ]\n",
      " [9.29 9.29 9.29 ... 9.29 9.29 9.29]]\n"
     ]
    }
   ],
   "source": [
    "# Convert each entry into IDF values\n",
    "# IDF is the log of the inverse of document frequency\n",
    "# Note that IDF is only a function of the term, so all columns will be identical.\n",
    "IDF = np.log2(np.divide(NMatrix, np.array(matrix_DF)))\n",
    "\n",
    "np.set_printoptions(precision=2,suppress=True)\n",
    "print(IDF)"
   ]
  },
  {
   "cell_type": "code",
   "execution_count": 22,
   "id": "bbc8357a",
   "metadata": {
    "scrolled": true
   },
   "outputs": [],
   "source": [
    "# Finally computer the TF x IDF values for each document - term entry\n",
    "TD_tfidf = df_matrix * IDF"
   ]
  },
  {
   "cell_type": "code",
   "execution_count": 23,
   "id": "2cd91baf",
   "metadata": {
    "scrolled": false
   },
   "outputs": [
    {
     "data": {
      "text/html": [
       "<div>\n",
       "<style scoped>\n",
       "    .dataframe tbody tr th:only-of-type {\n",
       "        vertical-align: middle;\n",
       "    }\n",
       "\n",
       "    .dataframe tbody tr th {\n",
       "        vertical-align: top;\n",
       "    }\n",
       "\n",
       "    .dataframe thead th {\n",
       "        text-align: right;\n",
       "    }\n",
       "</style>\n",
       "<table border=\"1\" class=\"dataframe\">\n",
       "  <thead>\n",
       "    <tr style=\"text-align: right;\">\n",
       "      <th></th>\n",
       "      <th>0</th>\n",
       "      <th>1</th>\n",
       "      <th>2</th>\n",
       "      <th>3</th>\n",
       "      <th>4</th>\n",
       "      <th>5</th>\n",
       "      <th>6</th>\n",
       "      <th>7</th>\n",
       "      <th>8</th>\n",
       "      <th>9</th>\n",
       "      <th>...</th>\n",
       "      <th>2490</th>\n",
       "      <th>2491</th>\n",
       "      <th>2492</th>\n",
       "      <th>2493</th>\n",
       "      <th>2494</th>\n",
       "      <th>2495</th>\n",
       "      <th>2496</th>\n",
       "      <th>2497</th>\n",
       "      <th>2498</th>\n",
       "      <th>2499</th>\n",
       "    </tr>\n",
       "  </thead>\n",
       "  <tbody>\n",
       "    <tr>\n",
       "      <th>0</th>\n",
       "      <td>0.0</td>\n",
       "      <td>0.0</td>\n",
       "      <td>0.0</td>\n",
       "      <td>0.0</td>\n",
       "      <td>0.0</td>\n",
       "      <td>0.0</td>\n",
       "      <td>0.0</td>\n",
       "      <td>0.0</td>\n",
       "      <td>0.0</td>\n",
       "      <td>0.0</td>\n",
       "      <td>...</td>\n",
       "      <td>0.0</td>\n",
       "      <td>0.0</td>\n",
       "      <td>0.0</td>\n",
       "      <td>0.0</td>\n",
       "      <td>0.0</td>\n",
       "      <td>0.0</td>\n",
       "      <td>0.0</td>\n",
       "      <td>0.0</td>\n",
       "      <td>0.0</td>\n",
       "      <td>0.0</td>\n",
       "    </tr>\n",
       "    <tr>\n",
       "      <th>1</th>\n",
       "      <td>0.0</td>\n",
       "      <td>0.0</td>\n",
       "      <td>0.0</td>\n",
       "      <td>0.0</td>\n",
       "      <td>0.0</td>\n",
       "      <td>0.0</td>\n",
       "      <td>0.0</td>\n",
       "      <td>0.0</td>\n",
       "      <td>0.0</td>\n",
       "      <td>0.0</td>\n",
       "      <td>...</td>\n",
       "      <td>0.0</td>\n",
       "      <td>0.0</td>\n",
       "      <td>0.0</td>\n",
       "      <td>0.0</td>\n",
       "      <td>0.0</td>\n",
       "      <td>0.0</td>\n",
       "      <td>0.0</td>\n",
       "      <td>0.0</td>\n",
       "      <td>0.0</td>\n",
       "      <td>0.0</td>\n",
       "    </tr>\n",
       "    <tr>\n",
       "      <th>2</th>\n",
       "      <td>0.0</td>\n",
       "      <td>0.0</td>\n",
       "      <td>0.0</td>\n",
       "      <td>0.0</td>\n",
       "      <td>0.0</td>\n",
       "      <td>0.0</td>\n",
       "      <td>0.0</td>\n",
       "      <td>0.0</td>\n",
       "      <td>0.0</td>\n",
       "      <td>0.0</td>\n",
       "      <td>...</td>\n",
       "      <td>0.0</td>\n",
       "      <td>0.0</td>\n",
       "      <td>0.0</td>\n",
       "      <td>0.0</td>\n",
       "      <td>0.0</td>\n",
       "      <td>0.0</td>\n",
       "      <td>0.0</td>\n",
       "      <td>0.0</td>\n",
       "      <td>0.0</td>\n",
       "      <td>0.0</td>\n",
       "    </tr>\n",
       "    <tr>\n",
       "      <th>3</th>\n",
       "      <td>0.0</td>\n",
       "      <td>0.0</td>\n",
       "      <td>0.0</td>\n",
       "      <td>0.0</td>\n",
       "      <td>0.0</td>\n",
       "      <td>0.0</td>\n",
       "      <td>0.0</td>\n",
       "      <td>0.0</td>\n",
       "      <td>0.0</td>\n",
       "      <td>0.0</td>\n",
       "      <td>...</td>\n",
       "      <td>0.0</td>\n",
       "      <td>0.0</td>\n",
       "      <td>0.0</td>\n",
       "      <td>0.0</td>\n",
       "      <td>0.0</td>\n",
       "      <td>0.0</td>\n",
       "      <td>0.0</td>\n",
       "      <td>0.0</td>\n",
       "      <td>0.0</td>\n",
       "      <td>0.0</td>\n",
       "    </tr>\n",
       "    <tr>\n",
       "      <th>4</th>\n",
       "      <td>0.0</td>\n",
       "      <td>0.0</td>\n",
       "      <td>0.0</td>\n",
       "      <td>0.0</td>\n",
       "      <td>0.0</td>\n",
       "      <td>0.0</td>\n",
       "      <td>0.0</td>\n",
       "      <td>0.0</td>\n",
       "      <td>0.0</td>\n",
       "      <td>0.0</td>\n",
       "      <td>...</td>\n",
       "      <td>0.0</td>\n",
       "      <td>0.0</td>\n",
       "      <td>0.0</td>\n",
       "      <td>0.0</td>\n",
       "      <td>0.0</td>\n",
       "      <td>0.0</td>\n",
       "      <td>0.0</td>\n",
       "      <td>0.0</td>\n",
       "      <td>0.0</td>\n",
       "      <td>0.0</td>\n",
       "    </tr>\n",
       "    <tr>\n",
       "      <th>...</th>\n",
       "      <td>...</td>\n",
       "      <td>...</td>\n",
       "      <td>...</td>\n",
       "      <td>...</td>\n",
       "      <td>...</td>\n",
       "      <td>...</td>\n",
       "      <td>...</td>\n",
       "      <td>...</td>\n",
       "      <td>...</td>\n",
       "      <td>...</td>\n",
       "      <td>...</td>\n",
       "      <td>...</td>\n",
       "      <td>...</td>\n",
       "      <td>...</td>\n",
       "      <td>...</td>\n",
       "      <td>...</td>\n",
       "      <td>...</td>\n",
       "      <td>...</td>\n",
       "      <td>...</td>\n",
       "      <td>...</td>\n",
       "      <td>...</td>\n",
       "    </tr>\n",
       "    <tr>\n",
       "      <th>9323</th>\n",
       "      <td>0.0</td>\n",
       "      <td>0.0</td>\n",
       "      <td>0.0</td>\n",
       "      <td>0.0</td>\n",
       "      <td>0.0</td>\n",
       "      <td>0.0</td>\n",
       "      <td>0.0</td>\n",
       "      <td>0.0</td>\n",
       "      <td>0.0</td>\n",
       "      <td>0.0</td>\n",
       "      <td>...</td>\n",
       "      <td>0.0</td>\n",
       "      <td>0.0</td>\n",
       "      <td>0.0</td>\n",
       "      <td>0.0</td>\n",
       "      <td>0.0</td>\n",
       "      <td>0.0</td>\n",
       "      <td>0.0</td>\n",
       "      <td>0.0</td>\n",
       "      <td>0.0</td>\n",
       "      <td>0.0</td>\n",
       "    </tr>\n",
       "    <tr>\n",
       "      <th>9324</th>\n",
       "      <td>0.0</td>\n",
       "      <td>0.0</td>\n",
       "      <td>0.0</td>\n",
       "      <td>0.0</td>\n",
       "      <td>0.0</td>\n",
       "      <td>0.0</td>\n",
       "      <td>0.0</td>\n",
       "      <td>0.0</td>\n",
       "      <td>0.0</td>\n",
       "      <td>0.0</td>\n",
       "      <td>...</td>\n",
       "      <td>0.0</td>\n",
       "      <td>0.0</td>\n",
       "      <td>0.0</td>\n",
       "      <td>0.0</td>\n",
       "      <td>0.0</td>\n",
       "      <td>0.0</td>\n",
       "      <td>0.0</td>\n",
       "      <td>0.0</td>\n",
       "      <td>0.0</td>\n",
       "      <td>0.0</td>\n",
       "    </tr>\n",
       "    <tr>\n",
       "      <th>9325</th>\n",
       "      <td>0.0</td>\n",
       "      <td>0.0</td>\n",
       "      <td>0.0</td>\n",
       "      <td>0.0</td>\n",
       "      <td>0.0</td>\n",
       "      <td>0.0</td>\n",
       "      <td>0.0</td>\n",
       "      <td>0.0</td>\n",
       "      <td>0.0</td>\n",
       "      <td>0.0</td>\n",
       "      <td>...</td>\n",
       "      <td>0.0</td>\n",
       "      <td>0.0</td>\n",
       "      <td>0.0</td>\n",
       "      <td>0.0</td>\n",
       "      <td>0.0</td>\n",
       "      <td>0.0</td>\n",
       "      <td>0.0</td>\n",
       "      <td>0.0</td>\n",
       "      <td>0.0</td>\n",
       "      <td>0.0</td>\n",
       "    </tr>\n",
       "    <tr>\n",
       "      <th>9326</th>\n",
       "      <td>0.0</td>\n",
       "      <td>0.0</td>\n",
       "      <td>0.0</td>\n",
       "      <td>0.0</td>\n",
       "      <td>0.0</td>\n",
       "      <td>0.0</td>\n",
       "      <td>0.0</td>\n",
       "      <td>0.0</td>\n",
       "      <td>0.0</td>\n",
       "      <td>0.0</td>\n",
       "      <td>...</td>\n",
       "      <td>0.0</td>\n",
       "      <td>0.0</td>\n",
       "      <td>0.0</td>\n",
       "      <td>0.0</td>\n",
       "      <td>0.0</td>\n",
       "      <td>0.0</td>\n",
       "      <td>0.0</td>\n",
       "      <td>0.0</td>\n",
       "      <td>0.0</td>\n",
       "      <td>0.0</td>\n",
       "    </tr>\n",
       "    <tr>\n",
       "      <th>9327</th>\n",
       "      <td>0.0</td>\n",
       "      <td>0.0</td>\n",
       "      <td>0.0</td>\n",
       "      <td>0.0</td>\n",
       "      <td>0.0</td>\n",
       "      <td>0.0</td>\n",
       "      <td>0.0</td>\n",
       "      <td>0.0</td>\n",
       "      <td>0.0</td>\n",
       "      <td>0.0</td>\n",
       "      <td>...</td>\n",
       "      <td>0.0</td>\n",
       "      <td>0.0</td>\n",
       "      <td>0.0</td>\n",
       "      <td>0.0</td>\n",
       "      <td>0.0</td>\n",
       "      <td>0.0</td>\n",
       "      <td>0.0</td>\n",
       "      <td>0.0</td>\n",
       "      <td>0.0</td>\n",
       "      <td>0.0</td>\n",
       "    </tr>\n",
       "  </tbody>\n",
       "</table>\n",
       "<p>9328 rows × 2500 columns</p>\n",
       "</div>"
      ],
      "text/plain": [
       "      0     1     2     3     4     5     6     7     8     9     ...  2490  \\\n",
       "0      0.0   0.0   0.0   0.0   0.0   0.0   0.0   0.0   0.0   0.0  ...   0.0   \n",
       "1      0.0   0.0   0.0   0.0   0.0   0.0   0.0   0.0   0.0   0.0  ...   0.0   \n",
       "2      0.0   0.0   0.0   0.0   0.0   0.0   0.0   0.0   0.0   0.0  ...   0.0   \n",
       "3      0.0   0.0   0.0   0.0   0.0   0.0   0.0   0.0   0.0   0.0  ...   0.0   \n",
       "4      0.0   0.0   0.0   0.0   0.0   0.0   0.0   0.0   0.0   0.0  ...   0.0   \n",
       "...    ...   ...   ...   ...   ...   ...   ...   ...   ...   ...  ...   ...   \n",
       "9323   0.0   0.0   0.0   0.0   0.0   0.0   0.0   0.0   0.0   0.0  ...   0.0   \n",
       "9324   0.0   0.0   0.0   0.0   0.0   0.0   0.0   0.0   0.0   0.0  ...   0.0   \n",
       "9325   0.0   0.0   0.0   0.0   0.0   0.0   0.0   0.0   0.0   0.0  ...   0.0   \n",
       "9326   0.0   0.0   0.0   0.0   0.0   0.0   0.0   0.0   0.0   0.0  ...   0.0   \n",
       "9327   0.0   0.0   0.0   0.0   0.0   0.0   0.0   0.0   0.0   0.0  ...   0.0   \n",
       "\n",
       "      2491  2492  2493  2494  2495  2496  2497  2498  2499  \n",
       "0      0.0   0.0   0.0   0.0   0.0   0.0   0.0   0.0   0.0  \n",
       "1      0.0   0.0   0.0   0.0   0.0   0.0   0.0   0.0   0.0  \n",
       "2      0.0   0.0   0.0   0.0   0.0   0.0   0.0   0.0   0.0  \n",
       "3      0.0   0.0   0.0   0.0   0.0   0.0   0.0   0.0   0.0  \n",
       "4      0.0   0.0   0.0   0.0   0.0   0.0   0.0   0.0   0.0  \n",
       "...    ...   ...   ...   ...   ...   ...   ...   ...   ...  \n",
       "9323   0.0   0.0   0.0   0.0   0.0   0.0   0.0   0.0   0.0  \n",
       "9324   0.0   0.0   0.0   0.0   0.0   0.0   0.0   0.0   0.0  \n",
       "9325   0.0   0.0   0.0   0.0   0.0   0.0   0.0   0.0   0.0  \n",
       "9326   0.0   0.0   0.0   0.0   0.0   0.0   0.0   0.0   0.0  \n",
       "9327   0.0   0.0   0.0   0.0   0.0   0.0   0.0   0.0   0.0  \n",
       "\n",
       "[9328 rows x 2500 columns]"
      ]
     },
     "execution_count": 23,
     "metadata": {},
     "output_type": "execute_result"
    }
   ],
   "source": [
    "pd.set_option(\"display.precision\", 2)\n",
    "\n",
    "TD_tfidf"
   ]
  },
  {
   "cell_type": "code",
   "execution_count": 24,
   "id": "e01b9e4d",
   "metadata": {
    "scrolled": true
   },
   "outputs": [
    {
     "data": {
      "text/plain": [
       "pandas.core.frame.DataFrame"
      ]
     },
     "execution_count": 24,
     "metadata": {},
     "output_type": "execute_result"
    }
   ],
   "source": [
    "type(TD_tfidf)"
   ]
  },
  {
   "cell_type": "markdown",
   "id": "2645a2b5",
   "metadata": {},
   "source": [
    "<p><strong>TD_tfidf</strong> is our normalized data set ready to be split into 20% <strong>testing </strong> and 80% <strong>training </strong> data sets.</p>"
   ]
  },
  {
   "cell_type": "markdown",
   "id": "0129d429",
   "metadata": {},
   "source": [
    "#### We also need to transpose the TD_ftidf matrix "
   ]
  },
  {
   "cell_type": "code",
   "execution_count": 25,
   "id": "0cb8760a",
   "metadata": {
    "scrolled": true
   },
   "outputs": [
    {
     "data": {
      "text/plain": [
       "(2500, 9328)"
      ]
     },
     "execution_count": 25,
     "metadata": {},
     "output_type": "execute_result"
    }
   ],
   "source": [
    "TD_tfidf_tranposed = TD_tfidf.T\n",
    "TD_tfidf_tranposed.shape"
   ]
  },
  {
   "cell_type": "markdown",
   "id": "b8ce9b63",
   "metadata": {},
   "source": [
    "#### create a 20%-80% randomized split of the data for later use."
   ]
  },
  {
   "cell_type": "code",
   "execution_count": 26,
   "id": "8b63afc9",
   "metadata": {
    "scrolled": true
   },
   "outputs": [],
   "source": [
    "# train_test_split shuffles the data and splits it into two split for us into 80% training and 20% percent testing.\n",
    "vs_train, vs_test, vs_target_train, vs_target_test = train_test_split(TD_tfidf_tranposed, df_classes, test_size = 0.2, random_state = 33)"
   ]
  },
  {
   "cell_type": "markdown",
   "id": "24789adf",
   "metadata": {},
   "source": [
    "#### let's look at the shapes of the training and test data matrices."
   ]
  },
  {
   "cell_type": "code",
   "execution_count": 27,
   "id": "f21a2b5a",
   "metadata": {
    "scrolled": true
   },
   "outputs": [
    {
     "data": {
      "text/plain": [
       "(2000, 9328)"
      ]
     },
     "execution_count": 27,
     "metadata": {},
     "output_type": "execute_result"
    }
   ],
   "source": [
    "\n",
    "vs_train.shape"
   ]
  },
  {
   "cell_type": "code",
   "execution_count": 28,
   "id": "cc972be1",
   "metadata": {
    "scrolled": true
   },
   "outputs": [
    {
     "data": {
      "text/plain": [
       "(500, 9328)"
      ]
     },
     "execution_count": 28,
     "metadata": {},
     "output_type": "execute_result"
    }
   ],
   "source": [
    "vs_test.shape"
   ]
  },
  {
   "cell_type": "code",
   "execution_count": 29,
   "id": "d2a0b9e9",
   "metadata": {
    "scrolled": true
   },
   "outputs": [
    {
     "data": {
      "text/plain": [
       "(2000, 1)"
      ]
     },
     "execution_count": 29,
     "metadata": {},
     "output_type": "execute_result"
    }
   ],
   "source": [
    "vs_target_train.shape"
   ]
  },
  {
   "cell_type": "code",
   "execution_count": 30,
   "id": "be6fc96a",
   "metadata": {
    "scrolled": true
   },
   "outputs": [
    {
     "data": {
      "text/plain": [
       "(500, 1)"
      ]
     },
     "execution_count": 30,
     "metadata": {},
     "output_type": "execute_result"
    }
   ],
   "source": [
    "vs_target_test.shape"
   ]
  },
  {
   "cell_type": "code",
   "execution_count": 31,
   "id": "70899d9c",
   "metadata": {
    "scrolled": true
   },
   "outputs": [
    {
     "data": {
      "text/html": [
       "<div>\n",
       "<style scoped>\n",
       "    .dataframe tbody tr th:only-of-type {\n",
       "        vertical-align: middle;\n",
       "    }\n",
       "\n",
       "    .dataframe tbody tr th {\n",
       "        vertical-align: top;\n",
       "    }\n",
       "\n",
       "    .dataframe thead th {\n",
       "        text-align: right;\n",
       "    }\n",
       "</style>\n",
       "<table border=\"1\" class=\"dataframe\">\n",
       "  <thead>\n",
       "    <tr style=\"text-align: right;\">\n",
       "      <th></th>\n",
       "      <th>0</th>\n",
       "      <th>1</th>\n",
       "      <th>2</th>\n",
       "      <th>3</th>\n",
       "      <th>4</th>\n",
       "      <th>5</th>\n",
       "      <th>6</th>\n",
       "      <th>7</th>\n",
       "      <th>8</th>\n",
       "      <th>9</th>\n",
       "      <th>...</th>\n",
       "      <th>9318</th>\n",
       "      <th>9319</th>\n",
       "      <th>9320</th>\n",
       "      <th>9321</th>\n",
       "      <th>9322</th>\n",
       "      <th>9323</th>\n",
       "      <th>9324</th>\n",
       "      <th>9325</th>\n",
       "      <th>9326</th>\n",
       "      <th>9327</th>\n",
       "    </tr>\n",
       "  </thead>\n",
       "  <tbody>\n",
       "    <tr>\n",
       "      <th>1289</th>\n",
       "      <td>0.0</td>\n",
       "      <td>0.0</td>\n",
       "      <td>0.0</td>\n",
       "      <td>0.0</td>\n",
       "      <td>0.0</td>\n",
       "      <td>0.0</td>\n",
       "      <td>0.0</td>\n",
       "      <td>0.0</td>\n",
       "      <td>0.0</td>\n",
       "      <td>0.0</td>\n",
       "      <td>...</td>\n",
       "      <td>0.0</td>\n",
       "      <td>0.0</td>\n",
       "      <td>0.0</td>\n",
       "      <td>0.0</td>\n",
       "      <td>0.0</td>\n",
       "      <td>0.0</td>\n",
       "      <td>0.0</td>\n",
       "      <td>0.0</td>\n",
       "      <td>0.0</td>\n",
       "      <td>0.0</td>\n",
       "    </tr>\n",
       "    <tr>\n",
       "      <th>596</th>\n",
       "      <td>0.0</td>\n",
       "      <td>0.0</td>\n",
       "      <td>0.0</td>\n",
       "      <td>0.0</td>\n",
       "      <td>0.0</td>\n",
       "      <td>0.0</td>\n",
       "      <td>0.0</td>\n",
       "      <td>0.0</td>\n",
       "      <td>0.0</td>\n",
       "      <td>0.0</td>\n",
       "      <td>...</td>\n",
       "      <td>0.0</td>\n",
       "      <td>0.0</td>\n",
       "      <td>0.0</td>\n",
       "      <td>0.0</td>\n",
       "      <td>0.0</td>\n",
       "      <td>0.0</td>\n",
       "      <td>0.0</td>\n",
       "      <td>0.0</td>\n",
       "      <td>0.0</td>\n",
       "      <td>0.0</td>\n",
       "    </tr>\n",
       "    <tr>\n",
       "      <th>1935</th>\n",
       "      <td>0.0</td>\n",
       "      <td>0.0</td>\n",
       "      <td>0.0</td>\n",
       "      <td>0.0</td>\n",
       "      <td>0.0</td>\n",
       "      <td>0.0</td>\n",
       "      <td>0.0</td>\n",
       "      <td>0.0</td>\n",
       "      <td>0.0</td>\n",
       "      <td>0.0</td>\n",
       "      <td>...</td>\n",
       "      <td>0.0</td>\n",
       "      <td>0.0</td>\n",
       "      <td>0.0</td>\n",
       "      <td>0.0</td>\n",
       "      <td>0.0</td>\n",
       "      <td>0.0</td>\n",
       "      <td>0.0</td>\n",
       "      <td>0.0</td>\n",
       "      <td>0.0</td>\n",
       "      <td>0.0</td>\n",
       "    </tr>\n",
       "    <tr>\n",
       "      <th>2436</th>\n",
       "      <td>0.0</td>\n",
       "      <td>0.0</td>\n",
       "      <td>0.0</td>\n",
       "      <td>0.0</td>\n",
       "      <td>0.0</td>\n",
       "      <td>0.0</td>\n",
       "      <td>0.0</td>\n",
       "      <td>0.0</td>\n",
       "      <td>0.0</td>\n",
       "      <td>0.0</td>\n",
       "      <td>...</td>\n",
       "      <td>0.0</td>\n",
       "      <td>0.0</td>\n",
       "      <td>0.0</td>\n",
       "      <td>0.0</td>\n",
       "      <td>0.0</td>\n",
       "      <td>0.0</td>\n",
       "      <td>0.0</td>\n",
       "      <td>0.0</td>\n",
       "      <td>0.0</td>\n",
       "      <td>0.0</td>\n",
       "    </tr>\n",
       "    <tr>\n",
       "      <th>2349</th>\n",
       "      <td>0.0</td>\n",
       "      <td>0.0</td>\n",
       "      <td>0.0</td>\n",
       "      <td>0.0</td>\n",
       "      <td>0.0</td>\n",
       "      <td>0.0</td>\n",
       "      <td>0.0</td>\n",
       "      <td>0.0</td>\n",
       "      <td>0.0</td>\n",
       "      <td>0.0</td>\n",
       "      <td>...</td>\n",
       "      <td>0.0</td>\n",
       "      <td>0.0</td>\n",
       "      <td>0.0</td>\n",
       "      <td>0.0</td>\n",
       "      <td>0.0</td>\n",
       "      <td>0.0</td>\n",
       "      <td>0.0</td>\n",
       "      <td>0.0</td>\n",
       "      <td>0.0</td>\n",
       "      <td>0.0</td>\n",
       "    </tr>\n",
       "  </tbody>\n",
       "</table>\n",
       "<p>5 rows × 9328 columns</p>\n",
       "</div>"
      ],
      "text/plain": [
       "      0     1     2     3     4     5     6     7     8     9     ...  9318  \\\n",
       "1289   0.0   0.0   0.0   0.0   0.0   0.0   0.0   0.0   0.0   0.0  ...   0.0   \n",
       "596    0.0   0.0   0.0   0.0   0.0   0.0   0.0   0.0   0.0   0.0  ...   0.0   \n",
       "1935   0.0   0.0   0.0   0.0   0.0   0.0   0.0   0.0   0.0   0.0  ...   0.0   \n",
       "2436   0.0   0.0   0.0   0.0   0.0   0.0   0.0   0.0   0.0   0.0  ...   0.0   \n",
       "2349   0.0   0.0   0.0   0.0   0.0   0.0   0.0   0.0   0.0   0.0  ...   0.0   \n",
       "\n",
       "      9319  9320  9321  9322  9323  9324  9325  9326  9327  \n",
       "1289   0.0   0.0   0.0   0.0   0.0   0.0   0.0   0.0   0.0  \n",
       "596    0.0   0.0   0.0   0.0   0.0   0.0   0.0   0.0   0.0  \n",
       "1935   0.0   0.0   0.0   0.0   0.0   0.0   0.0   0.0   0.0  \n",
       "2436   0.0   0.0   0.0   0.0   0.0   0.0   0.0   0.0   0.0  \n",
       "2349   0.0   0.0   0.0   0.0   0.0   0.0   0.0   0.0   0.0  \n",
       "\n",
       "[5 rows x 9328 columns]"
      ]
     },
     "execution_count": 31,
     "metadata": {},
     "output_type": "execute_result"
    }
   ],
   "source": [
    "vs_train.head()"
   ]
  },
  {
   "cell_type": "code",
   "execution_count": 32,
   "id": "81bb0e6a",
   "metadata": {
    "scrolled": true
   },
   "outputs": [
    {
     "data": {
      "text/html": [
       "<div>\n",
       "<style scoped>\n",
       "    .dataframe tbody tr th:only-of-type {\n",
       "        vertical-align: middle;\n",
       "    }\n",
       "\n",
       "    .dataframe tbody tr th {\n",
       "        vertical-align: top;\n",
       "    }\n",
       "\n",
       "    .dataframe thead th {\n",
       "        text-align: right;\n",
       "    }\n",
       "</style>\n",
       "<table border=\"1\" class=\"dataframe\">\n",
       "  <thead>\n",
       "    <tr style=\"text-align: right;\">\n",
       "      <th></th>\n",
       "      <th>0</th>\n",
       "      <th>1</th>\n",
       "      <th>2</th>\n",
       "      <th>3</th>\n",
       "      <th>4</th>\n",
       "      <th>5</th>\n",
       "      <th>6</th>\n",
       "      <th>7</th>\n",
       "      <th>8</th>\n",
       "      <th>9</th>\n",
       "      <th>...</th>\n",
       "      <th>9318</th>\n",
       "      <th>9319</th>\n",
       "      <th>9320</th>\n",
       "      <th>9321</th>\n",
       "      <th>9322</th>\n",
       "      <th>9323</th>\n",
       "      <th>9324</th>\n",
       "      <th>9325</th>\n",
       "      <th>9326</th>\n",
       "      <th>9327</th>\n",
       "    </tr>\n",
       "  </thead>\n",
       "  <tbody>\n",
       "    <tr>\n",
       "      <th>1590</th>\n",
       "      <td>0.0</td>\n",
       "      <td>0.0</td>\n",
       "      <td>0.0</td>\n",
       "      <td>0.0</td>\n",
       "      <td>0.0</td>\n",
       "      <td>0.0</td>\n",
       "      <td>0.0</td>\n",
       "      <td>0.0</td>\n",
       "      <td>0.0</td>\n",
       "      <td>0.0</td>\n",
       "      <td>...</td>\n",
       "      <td>0.0</td>\n",
       "      <td>0.0</td>\n",
       "      <td>0.0</td>\n",
       "      <td>0.0</td>\n",
       "      <td>0.0</td>\n",
       "      <td>0.0</td>\n",
       "      <td>0.0</td>\n",
       "      <td>0.0</td>\n",
       "      <td>0.0</td>\n",
       "      <td>0.0</td>\n",
       "    </tr>\n",
       "    <tr>\n",
       "      <th>277</th>\n",
       "      <td>0.0</td>\n",
       "      <td>0.0</td>\n",
       "      <td>0.0</td>\n",
       "      <td>0.0</td>\n",
       "      <td>0.0</td>\n",
       "      <td>0.0</td>\n",
       "      <td>0.0</td>\n",
       "      <td>0.0</td>\n",
       "      <td>0.0</td>\n",
       "      <td>0.0</td>\n",
       "      <td>...</td>\n",
       "      <td>0.0</td>\n",
       "      <td>0.0</td>\n",
       "      <td>0.0</td>\n",
       "      <td>0.0</td>\n",
       "      <td>0.0</td>\n",
       "      <td>0.0</td>\n",
       "      <td>0.0</td>\n",
       "      <td>0.0</td>\n",
       "      <td>0.0</td>\n",
       "      <td>0.0</td>\n",
       "    </tr>\n",
       "    <tr>\n",
       "      <th>2297</th>\n",
       "      <td>0.0</td>\n",
       "      <td>0.0</td>\n",
       "      <td>0.0</td>\n",
       "      <td>0.0</td>\n",
       "      <td>0.0</td>\n",
       "      <td>0.0</td>\n",
       "      <td>0.0</td>\n",
       "      <td>0.0</td>\n",
       "      <td>0.0</td>\n",
       "      <td>0.0</td>\n",
       "      <td>...</td>\n",
       "      <td>0.0</td>\n",
       "      <td>0.0</td>\n",
       "      <td>0.0</td>\n",
       "      <td>0.0</td>\n",
       "      <td>0.0</td>\n",
       "      <td>0.0</td>\n",
       "      <td>0.0</td>\n",
       "      <td>0.0</td>\n",
       "      <td>0.0</td>\n",
       "      <td>0.0</td>\n",
       "    </tr>\n",
       "    <tr>\n",
       "      <th>1739</th>\n",
       "      <td>0.0</td>\n",
       "      <td>0.0</td>\n",
       "      <td>0.0</td>\n",
       "      <td>0.0</td>\n",
       "      <td>0.0</td>\n",
       "      <td>0.0</td>\n",
       "      <td>0.0</td>\n",
       "      <td>0.0</td>\n",
       "      <td>0.0</td>\n",
       "      <td>0.0</td>\n",
       "      <td>...</td>\n",
       "      <td>0.0</td>\n",
       "      <td>0.0</td>\n",
       "      <td>0.0</td>\n",
       "      <td>0.0</td>\n",
       "      <td>0.0</td>\n",
       "      <td>0.0</td>\n",
       "      <td>0.0</td>\n",
       "      <td>0.0</td>\n",
       "      <td>0.0</td>\n",
       "      <td>0.0</td>\n",
       "    </tr>\n",
       "    <tr>\n",
       "      <th>511</th>\n",
       "      <td>0.0</td>\n",
       "      <td>0.0</td>\n",
       "      <td>0.0</td>\n",
       "      <td>0.0</td>\n",
       "      <td>0.0</td>\n",
       "      <td>0.0</td>\n",
       "      <td>0.0</td>\n",
       "      <td>0.0</td>\n",
       "      <td>0.0</td>\n",
       "      <td>0.0</td>\n",
       "      <td>...</td>\n",
       "      <td>0.0</td>\n",
       "      <td>0.0</td>\n",
       "      <td>0.0</td>\n",
       "      <td>0.0</td>\n",
       "      <td>0.0</td>\n",
       "      <td>0.0</td>\n",
       "      <td>0.0</td>\n",
       "      <td>0.0</td>\n",
       "      <td>0.0</td>\n",
       "      <td>0.0</td>\n",
       "    </tr>\n",
       "  </tbody>\n",
       "</table>\n",
       "<p>5 rows × 9328 columns</p>\n",
       "</div>"
      ],
      "text/plain": [
       "      0     1     2     3     4     5     6     7     8     9     ...  9318  \\\n",
       "1590   0.0   0.0   0.0   0.0   0.0   0.0   0.0   0.0   0.0   0.0  ...   0.0   \n",
       "277    0.0   0.0   0.0   0.0   0.0   0.0   0.0   0.0   0.0   0.0  ...   0.0   \n",
       "2297   0.0   0.0   0.0   0.0   0.0   0.0   0.0   0.0   0.0   0.0  ...   0.0   \n",
       "1739   0.0   0.0   0.0   0.0   0.0   0.0   0.0   0.0   0.0   0.0  ...   0.0   \n",
       "511    0.0   0.0   0.0   0.0   0.0   0.0   0.0   0.0   0.0   0.0  ...   0.0   \n",
       "\n",
       "      9319  9320  9321  9322  9323  9324  9325  9326  9327  \n",
       "1590   0.0   0.0   0.0   0.0   0.0   0.0   0.0   0.0   0.0  \n",
       "277    0.0   0.0   0.0   0.0   0.0   0.0   0.0   0.0   0.0  \n",
       "2297   0.0   0.0   0.0   0.0   0.0   0.0   0.0   0.0   0.0  \n",
       "1739   0.0   0.0   0.0   0.0   0.0   0.0   0.0   0.0   0.0  \n",
       "511    0.0   0.0   0.0   0.0   0.0   0.0   0.0   0.0   0.0  \n",
       "\n",
       "[5 rows x 9328 columns]"
      ]
     },
     "execution_count": 32,
     "metadata": {},
     "output_type": "execute_result"
    }
   ],
   "source": [
    "vs_test.head()"
   ]
  },
  {
   "cell_type": "code",
   "execution_count": 33,
   "id": "42fb3914",
   "metadata": {
    "scrolled": true
   },
   "outputs": [
    {
     "data": {
      "text/html": [
       "<div>\n",
       "<style scoped>\n",
       "    .dataframe tbody tr th:only-of-type {\n",
       "        vertical-align: middle;\n",
       "    }\n",
       "\n",
       "    .dataframe tbody tr th {\n",
       "        vertical-align: top;\n",
       "    }\n",
       "\n",
       "    .dataframe thead th {\n",
       "        text-align: right;\n",
       "    }\n",
       "</style>\n",
       "<table border=\"1\" class=\"dataframe\">\n",
       "  <thead>\n",
       "    <tr style=\"text-align: right;\">\n",
       "      <th></th>\n",
       "      <th>1</th>\n",
       "    </tr>\n",
       "    <tr>\n",
       "      <th>0</th>\n",
       "      <th></th>\n",
       "    </tr>\n",
       "  </thead>\n",
       "  <tbody>\n",
       "    <tr>\n",
       "      <th>1289</th>\n",
       "      <td>4</td>\n",
       "    </tr>\n",
       "    <tr>\n",
       "      <th>596</th>\n",
       "      <td>0</td>\n",
       "    </tr>\n",
       "    <tr>\n",
       "      <th>1935</th>\n",
       "      <td>4</td>\n",
       "    </tr>\n",
       "    <tr>\n",
       "      <th>2436</th>\n",
       "      <td>4</td>\n",
       "    </tr>\n",
       "    <tr>\n",
       "      <th>2349</th>\n",
       "      <td>1</td>\n",
       "    </tr>\n",
       "  </tbody>\n",
       "</table>\n",
       "</div>"
      ],
      "text/plain": [
       "      1\n",
       "0      \n",
       "1289  4\n",
       "596   0\n",
       "1935  4\n",
       "2436  4\n",
       "2349  1"
      ]
     },
     "execution_count": 33,
     "metadata": {},
     "output_type": "execute_result"
    }
   ],
   "source": [
    "vs_target_train.head()"
   ]
  },
  {
   "cell_type": "markdown",
   "id": "b3c9bf8a",
   "metadata": {},
   "source": [
    "#### Convert the training and testing data matrices into numpy array."
   ]
  },
  {
   "cell_type": "code",
   "execution_count": 34,
   "id": "b9cc345b",
   "metadata": {
    "scrolled": true
   },
   "outputs": [],
   "source": [
    "vs_train_array = np.array(vs_train)\n",
    "vs_target_train_array = vs_target_train[1].values.tolist()\n",
    "vs_target_test_array = np.array(vs_target_test)"
   ]
  },
  {
   "cell_type": "code",
   "execution_count": 35,
   "id": "22b0f34c",
   "metadata": {
    "scrolled": true
   },
   "outputs": [
    {
     "data": {
      "text/plain": [
       "[4, 0, 4, 4, 1, 2, 0, 2, 2, 4, 4, 3, 4, 2, 2, 2, 0, 3, 4, 4]"
      ]
     },
     "execution_count": 35,
     "metadata": {},
     "output_type": "execute_result"
    }
   ],
   "source": [
    "vs_target_train_array[:20]"
   ]
  },
  {
   "cell_type": "markdown",
   "id": "9e1e2ab1",
   "metadata": {},
   "source": [
    " ***\n",
    "##### c. Perform Kmeans clustering on the transformed training data from part (b) [Note: if you have difficulty with TFxIDF conversion, then use the original non-transformed data for the remainder of this assignment].\n",
    " ___"
   ]
  },
  {
   "cell_type": "code",
   "execution_count": 36,
   "id": "eff9d1b2",
   "metadata": {
    "scrolled": true
   },
   "outputs": [],
   "source": [
    "def clusterAnalysis(centroids, clusterAssment, vs_train, df_terms):\n",
    "    \"\"\"This function displays the top N terms in each cluster sorted by the cluster DF values for each term, \n",
    "    the centroid weights for each term in the top N terms in the cluster (mean TFxIDF weight of the term), \n",
    "    and the size of the cluster.\n",
    "    \"\"\"\n",
    "    doc_cluster = pd.DataFrame(clusterAssment, columns = ['Cluster','error'])\n",
    "    target_labels = doc_cluster['Cluster'].unique()\n",
    "    \n",
    "    doc_cluster_size = {}   # declare an empty dictionary of cluster sizes\n",
    "    booleanFlag = None       # flag for subselection\n",
    "    termsDF = pd.DataFrame(df_terms[0].values.tolist(), columns = ['term'])\n",
    "    for c in target_labels:\n",
    "        # assign term index to each of the clusters.\n",
    "        cluster_index_TrainData = vs_train.index[doc_cluster['Cluster'] == int(c)]\n",
    "\n",
    "        centroidsWeights = pd.DataFrame(centroids[int(c)], columns =['Weights'])\n",
    "        # determine the cluster size\n",
    "        clusterSize = len(vs_train.index[doc_cluster['Cluster'] == int(c)])\n",
    "\n",
    "        # populate a dictionary of cluster sizes.\n",
    "        doc_cluster_size[int(c)] = clusterSize\n",
    "\n",
    "        #Check whether the training data (tfidx document * term ) set's index are in the cluster_index_TrainData\n",
    "        booleanFlag = vs_train.index.isin(cluster_index_TrainData)\n",
    "\n",
    "        clusterDocs = vs_train[booleanFlag]\n",
    "\n",
    "        # let's find the document counts for each term by transposing clusterDocs to get term by document and counting all the non zero terms\n",
    "        clusterDocsT = clusterDocs.T\n",
    "\n",
    "        DocTermFreq = pd.DataFrame([(clusterDocsT != 0).sum(1)]).T\n",
    "        DocTermFreq.columns = ['DF']\n",
    "        DocTermFreq['% of Ndocs'] = DocTermFreq['DF'] / doc_cluster_size[int(c)] * 100\n",
    "\n",
    "        # lets merge the terms, centroid and DocTermFreqPercentage\n",
    "        print('Cluster %s\\n\\n\\nCluster size: %s\\n\\n Top 5 terms in Cluster %s \\n\\n' %(int(c), doc_cluster_size[int(c)], int(c)))\n",
    "        clusterTermCentroid = pd.concat([termsDF, centroidsWeights ,DocTermFreq], axis = 1)\n",
    "        # Sort the data frame by % of Ndocs in descending order\n",
    "        sortedClTerm = clusterTermCentroid.sort_values(['DF', 'Weights'], ascending = False)\n",
    "        \n",
    "        # Select the Top 5 records from the sorted Data Frame\n",
    "        top5Rows = sortedClTerm[['term', 'DF', '% of Ndocs']].head()   \n",
    "        emptyIndex = [''] * len(top5Rows)\n",
    "        top5Rows.index = emptyIndex\n",
    "        print('%s \\n' %top5Rows)\n",
    "        print('*'*40)"
   ]
  },
  {
   "cell_type": "markdown",
   "id": "a75508c8",
   "metadata": {},
   "source": [
    "</p>We shall use the above function,<strong>clusterAnalysis</strong>, to display the <strong>top 5 terms </strong> in each cluster sorted by the cluster DF values for each term, the centroid weights for each term in the top N terms in the cluster (mean TFxIDF weight of the term), and the size of the cluster</p>"
   ]
  },
  {
   "cell_type": "code",
   "execution_count": 37,
   "id": "2e00068a",
   "metadata": {
    "scrolled": true
   },
   "outputs": [
    {
     "name": "stdout",
     "output_type": "stream",
     "text": [
      "Wall time: 0 ns\n",
      "Running Kmeans when k = 4\n"
     ]
    }
   ],
   "source": [
    "%time\n",
    "print('Running Kmeans when k = 4')\n",
    "centroids4, clusterAssment4 = kMeans(vs_train_array, 4, cosineDist, randCent)"
   ]
  },
  {
   "cell_type": "code",
   "execution_count": 38,
   "id": "8a36a3be",
   "metadata": {
    "scrolled": false
   },
   "outputs": [
    {
     "name": "stdout",
     "output_type": "stream",
     "text": [
      "Cluster 0\n",
      "\n",
      "\n",
      "Cluster size: 1596\n",
      "\n",
      " Top 5 terms in Cluster 0 \n",
      "\n",
      "\n",
      "    term   DF  % of Ndocs\n",
      "   write  716       44.86\n",
      "      on  556       34.84\n",
      "  articl  535       33.52\n",
      "     get  483       30.26\n",
      "    know  420       26.32 \n",
      "\n",
      "****************************************\n",
      "Cluster 3\n",
      "\n",
      "\n",
      "Cluster size: 356\n",
      "\n",
      " Top 5 terms in Cluster 3 \n",
      "\n",
      "\n",
      "       term   DF  % of Ndocs\n",
      "      write  215       60.39\n",
      "         on  196       55.06\n",
      "        god  186       52.25\n",
      "     articl  171       48.03\n",
      "  christian  170       47.75 \n",
      "\n",
      "****************************************\n",
      "Cluster 2\n",
      "\n",
      "\n",
      "Cluster size: 40\n",
      "\n",
      " Top 5 terms in Cluster 2 \n",
      "\n",
      "\n",
      "    term  DF  % of Ndocs\n",
      "     sin  31        77.5\n",
      "   write  29        72.5\n",
      "     god  28        70.0\n",
      "      on  22        55.0\n",
      "  origin  19        47.5 \n",
      "\n",
      "****************************************\n",
      "Cluster 1\n",
      "\n",
      "\n",
      "Cluster size: 8\n",
      "\n",
      " Top 5 terms in Cluster 1 \n",
      "\n",
      "\n",
      " term  DF  % of Ndocs\n",
      "   ax   7        87.5\n",
      "  max   7        87.5\n",
      "   pl   6        75.0\n",
      "  giz   6        75.0\n",
      "  bxn   6        75.0 \n",
      "\n",
      "****************************************\n"
     ]
    }
   ],
   "source": [
    "clusterAnalysis(centroids4, clusterAssment4, vs_train, df_terms)"
   ]
  },
  {
   "cell_type": "code",
   "execution_count": 39,
   "id": "e83a7bdd",
   "metadata": {
    "scrolled": true
   },
   "outputs": [
    {
     "name": "stdout",
     "output_type": "stream",
     "text": [
      "Wall time: 0 ns\n",
      "Running Kmeans when k = 5\n"
     ]
    }
   ],
   "source": [
    "%time\n",
    "print('Running Kmeans when k = 5')\n",
    "centroids5, clusterAssment5 = kMeans(vs_train_array, 5, cosineDist, randCent)"
   ]
  },
  {
   "cell_type": "code",
   "execution_count": 40,
   "id": "e4a5bb04",
   "metadata": {
    "scrolled": false
   },
   "outputs": [
    {
     "name": "stdout",
     "output_type": "stream",
     "text": [
      "Cluster 4\n",
      "\n",
      "\n",
      "Cluster size: 374\n",
      "\n",
      " Top 5 terms in Cluster 4 \n",
      "\n",
      "\n",
      "   term   DF  % of Ndocs\n",
      "   sale  222       59.36\n",
      "  email  145       38.77\n",
      "  pleas  122       32.62\n",
      "  offer  105       28.07\n",
      "   ship   98       26.20 \n",
      "\n",
      "****************************************\n",
      "Cluster 1\n",
      "\n",
      "\n",
      "Cluster size: 847\n",
      "\n",
      " Top 5 terms in Cluster 1 \n",
      "\n",
      "\n",
      "    term   DF  % of Ndocs\n",
      "   write  518       61.16\n",
      "  articl  394       46.52\n",
      "      on  356       42.03\n",
      "     get  295       34.83\n",
      "      go  283       33.41 \n",
      "\n",
      "****************************************\n",
      "Cluster 3\n",
      "\n",
      "\n",
      "Cluster size: 402\n",
      "\n",
      " Top 5 terms in Cluster 3 \n",
      "\n",
      "\n",
      "    term   DF  % of Ndocs\n",
      "  window  277       68.91\n",
      "   write  179       44.53\n",
      "    file  143       35.57\n",
      "      do  138       34.33\n",
      "     get  137       34.08 \n",
      "\n",
      "****************************************\n",
      "Cluster 2\n",
      "\n",
      "\n",
      "Cluster size: 369\n",
      "\n",
      " Top 5 terms in Cluster 2 \n",
      "\n",
      "\n",
      "       term   DF  % of Ndocs\n",
      "      write  230       62.33\n",
      "        god  211       57.18\n",
      "         on  203       55.01\n",
      "     articl  178       48.24\n",
      "  christian  173       46.88 \n",
      "\n",
      "****************************************\n",
      "Cluster 0\n",
      "\n",
      "\n",
      "Cluster size: 8\n",
      "\n",
      " Top 5 terms in Cluster 0 \n",
      "\n",
      "\n",
      " term  DF  % of Ndocs\n",
      "   ax   7        87.5\n",
      "  max   7        87.5\n",
      "   pl   6        75.0\n",
      "  giz   6        75.0\n",
      "  bxn   6        75.0 \n",
      "\n",
      "****************************************\n"
     ]
    }
   ],
   "source": [
    "sortedClTerm = clusterAnalysis(centroids5, clusterAssment5, vs_train, df_terms)"
   ]
  },
  {
   "cell_type": "markdown",
   "id": "e2616229",
   "metadata": {},
   "source": [
    "<p><strong>k = 5 </strong> gives us well defined clusters and we have the cluster sizes defined below:<ul><li>Size of Cluster 0 = 7</li><li>Size of Cluster 1 = 402</li><li>Size of Cluster 2 = 773</li><li>Size of Cluster 3 = 790</li><li>Size of Cluster 4 = 28</li></ul></p>\n",
    "<p>The difference of cluster sizes between Cluster 2 and 3 is not big, however looking at Cluster 0 and 4 are very small, which could either mean noise or outliers. Also, we could combine Cluster 0, and 4 and do further research to determine if it has any impact on the segmentation.</p>\n",
    "<p>In Cluster 3, we have terms like write, which appear in almost every other cluster. The article term, which appears in the Cluster 3, also appears in Clusters 1 and 4. </p>\n",
    "<p>Overall, <strong>k = 5</strong> produces well defined clusters.</p>"
   ]
  },
  {
   "cell_type": "markdown",
   "id": "c89e2c8f",
   "metadata": {},
   "source": [
    "##### [Extra Credit - 5pt: use your favorite third party tool, ideally with a Python based API, to create a word cloud for each cluster.]"
   ]
  },
  {
   "cell_type": "code",
   "execution_count": 41,
   "id": "0630fd7e",
   "metadata": {},
   "outputs": [],
   "source": [
    "def clusterAnalysis_with_weights(centroids, clusterAssment, k, vs_train, df_terms):\n",
    "    \n",
    "    doc_cluster = pd.DataFrame(clusterAssment, columns = ['Cluster','error'])\n",
    "    \n",
    "    target_labels = doc_cluster['Cluster'].unique()\n",
    "\n",
    "    doc_cluster_size = {}   # declare an empty dictionary of cluster sizes\n",
    "    \n",
    "    booleanFlag = None       # flag for subselection\n",
    "    \n",
    "    termsDF = pd.DataFrame(df_terms[0].values.tolist(), columns = ['term'])\n",
    "    \n",
    "    for c in target_labels:\n",
    "        # assign term index to each of the clusters.\n",
    "        cluster_index_TrainData = vs_train.index[doc_cluster['Cluster'] == int(c)]\n",
    "\n",
    "\n",
    "        centroidsWeights = pd.DataFrame(centroids[int(c)], columns =['Weights'])\n",
    "\n",
    "        # determine the cluster size\n",
    "        clusterSize = len(vs_train.index[doc_cluster['Cluster'] == int(c)])\n",
    "\n",
    "        # populate a dictionary of cluster sizes.\n",
    "        doc_cluster_size[int(c)] = clusterSize\n",
    "\n",
    "        #Check whether the training data (tfidx document * term ) set's index are in the cluster_index_TrainData\n",
    "        booleanFlag = vs_train.index.isin(cluster_index_TrainData)\n",
    "\n",
    "        clusterDocs = vs_train[booleanFlag]\n",
    "\n",
    "        # let's find the document counts for each term by transposing clusterDocs to get term by document and counting all the non zero terms\n",
    "\n",
    "        clusterDocsT = clusterDocs.T\n",
    "\n",
    "        DocTermFreq = pd.DataFrame([(clusterDocsT != 0).sum(1)]).T\n",
    "\n",
    "        DocTermFreq.columns = ['DF']\n",
    "\n",
    "        DocTermFreq['% of Ndocs'] = DocTermFreq['DF'] / doc_cluster_size[int(c)] * 100\n",
    "\n",
    "        # lets merge the terms, centroid and DocTermFreqPercentage\n",
    "#         print('Cluster %s\\n\\n\\nCluster size: %s\\n\\n Top 5 terms in Cluster %s \\n\\n' %(int(c), doc_cluster_size[int(c)], int(c)))\n",
    "        clusterTermCentroid = pd.concat([termsDF, centroidsWeights ,DocTermFreq], axis = 1)\n",
    "\n",
    "        # Sort the data frame by % of Ndocs in descending order\n",
    "        sortedClTerm = clusterTermCentroid.sort_values(['DF', 'Weights'], ascending = False)\n",
    "\n",
    "        # Derive the data set for the word Cloud based on the weights.\n",
    "        weights = pd.Series(sortedClTerm['Weights'].round(decimals = 2).values.tolist())\n",
    "        weights.index = sortedClTerm['term']\n",
    "        dict_weights = weights.to_dict() # Convert the Series into dictionary\n",
    "        cloud = WordCloud(width=900, height=700, background_color = 'white' ).generate_from_frequencies(dict_weights)\n",
    "        print('Word cloud based on all terms within Cluster %s when k = %s \\n' %(str(int(c)), k))\n",
    "\n",
    "        # reset the index\n",
    "        emptyIndex = [''] * sortedClTerm.shape[0]\n",
    "        sortedClTerm.index = emptyIndex\n",
    "        print(sortedClTerm)\n",
    "\n",
    "        plt.imshow(cloud, interpolation = 'bilinear')\n",
    "        plt.axis('off')\n",
    "        plt.show()"
   ]
  },
  {
   "cell_type": "code",
   "execution_count": 42,
   "id": "6cbc53ee",
   "metadata": {
    "scrolled": false
   },
   "outputs": [
    {
     "name": "stdout",
     "output_type": "stream",
     "text": [
      "Word cloud based on all terms within Cluster 4 when k = 5 \n",
      "\n",
      "     term  Weights   DF  % of Ndocs\n",
      "     sale     2.79  222       59.36\n",
      "    email     1.13  145       38.77\n",
      "    pleas     0.96  122       32.62\n",
      "    offer     1.53  105       28.07\n",
      "     ship     1.63   98       26.20\n",
      "..    ...      ...  ...         ...\n",
      "    zubov     0.00    0        0.00\n",
      "       zv     0.00    0        0.00\n",
      "       zw     0.00    0        0.00\n",
      "       zx     0.00    0        0.00\n",
      "       zz     0.00    0        0.00\n",
      "\n",
      "[9328 rows x 4 columns]\n"
     ]
    },
    {
     "data": {
      "image/png": "[encoded data removed]",
      "text/plain": [
       "<Figure size 432x288 with 1 Axes>"
      ]
     },
     "metadata": {},
     "output_type": "display_data"
    },
    {
     "name": "stdout",
     "output_type": "stream",
     "text": [
      "Word cloud based on all terms within Cluster 1 when k = 5 \n",
      "\n",
      "      term  Weights   DF  % of Ndocs\n",
      "     write     0.85  518       61.16\n",
      "    articl     0.88  394       46.52\n",
      "        on     1.07  356       42.03\n",
      "       get     1.20  295       34.83\n",
      "        go     1.30  283       33.41\n",
      "..     ...      ...  ...         ...\n",
      "        zu     0.00    0        0.00\n",
      "        zv     0.00    0        0.00\n",
      "        zw     0.00    0        0.00\n",
      "        zx     0.00    0        0.00\n",
      "        zz     0.00    0        0.00\n",
      "\n",
      "[9328 rows x 4 columns]\n"
     ]
    },
    {
     "data": {
      "image/png": "[encoded data removed]",
      "text/plain": [
       "<Figure size 432x288 with 1 Axes>"
      ]
     },
     "metadata": {},
     "output_type": "display_data"
    },
    {
     "name": "stdout",
     "output_type": "stream",
     "text": [
      "Word cloud based on all terms within Cluster 3 when k = 5 \n",
      "\n",
      "      term  Weights   DF  % of Ndocs\n",
      "    window     5.71  277       68.91\n",
      "     write     0.65  179       44.53\n",
      "      file     4.13  143       35.57\n",
      "        do     3.33  138       34.33\n",
      "       get     0.93  137       34.08\n",
      "..     ...      ...  ...         ...\n",
      "     zubov     0.00    0        0.00\n",
      "        zv     0.00    0        0.00\n",
      "        zw     0.00    0        0.00\n",
      "        zx     0.00    0        0.00\n",
      "        zz     0.00    0        0.00\n",
      "\n",
      "[9328 rows x 4 columns]\n"
     ]
    },
    {
     "data": {
      "image/png": "[encoded data removed]",
      "text/plain": [
       "<Figure size 432x288 with 1 Axes>"
      ]
     },
     "metadata": {},
     "output_type": "display_data"
    },
    {
     "name": "stdout",
     "output_type": "stream",
     "text": [
      "Word cloud based on all terms within Cluster 2 when k = 5 \n",
      "\n",
      "         term  Weights   DF  % of Ndocs\n",
      "        write     0.90  230       62.33\n",
      "          god     7.71  211       57.18\n",
      "           on     2.04  203       55.01\n",
      "       articl     0.93  178       48.24\n",
      "    christian     5.26  173       46.88\n",
      "..        ...      ...  ...         ...\n",
      "       zipper     0.00    0        0.00\n",
      "          zkn     0.00    0        0.00\n",
      "        zombo     0.00    0        0.00\n",
      "         zoom     0.00    0        0.00\n",
      "        zubov     0.00    0        0.00\n",
      "\n",
      "[9328 rows x 4 columns]\n"
     ]
    },
    {
     "data": {
      "image/png": "[encoded data removed]",
      "text/plain": [
       "<Figure size 432x288 with 1 Axes>"
      ]
     },
     "metadata": {},
     "output_type": "display_data"
    },
    {
     "name": "stdout",
     "output_type": "stream",
     "text": [
      "Word cloud based on all terms within Cluster 0 when k = 5 \n",
      "\n",
      "     term   Weights  DF  % of Ndocs\n",
      "       ax  41973.81   7        87.5\n",
      "      max   2877.51   7        87.5\n",
      "       pl    315.20   6        75.0\n",
      "      giz    185.44   6        75.0\n",
      "      bxn    136.75   6        75.0\n",
      "..    ...       ...  ..         ...\n",
      "       zu      0.00   0         0.0\n",
      "    zubov      0.00   0         0.0\n",
      "       zv      0.00   0         0.0\n",
      "       zx      0.00   0         0.0\n",
      "       zz      0.00   0         0.0\n",
      "\n",
      "[9328 rows x 4 columns]\n"
     ]
    },
    {
     "data": {
      "image/png": "[encoded data removed]",
      "text/plain": [
       "<Figure size 432x288 with 1 Axes>"
      ]
     },
     "metadata": {},
     "output_type": "display_data"
    }
   ],
   "source": [
    "clusterAnalysis_with_weights(centroids5, clusterAssment5, 5, vs_train, df_terms)"
   ]
  },
  {
   "cell_type": "markdown",
   "id": "9a11d2cb",
   "metadata": {},
   "source": [
    "We learn that:\n",
    "<ul>\n",
    "<li>In <strong>Cluster 4</strong> when k = 5, the term Window appears more frequently. Terms like sale, file, do driver stand out from other terms. Terms like sell, number are not mentioned as much and that is why they appear small in size.</li>\n",
    "<li>In <strong>Cluster 0</strong>, terms like encrypt, Kei, Chip, govern really stand out because they are mentioned in most documents. Also, cluster 0 has some stop words, which I could have removed.</li>\n",
    "<li>In <strong>Cluster 3</strong>, terms like think, on, Christian, church, god, team really stand because they are also mentioned in most documents.</li>\n",
    "<li>In <strong>Cluster 2</strong>, terms like bo, chi, and tor stand out because they are mentioned in most documents. The term bit is very tiny, which means that it is only mentioned in a few documents.</li>\n",
    "<li>In <strong>Cluster 1</strong>, the terms max, ax, giz, and pl stand out since they are the most mentioned terms in that cluster. </li>\n",
    "</ul>"
   ]
  },
  {
   "cell_type": "markdown",
   "id": "6ba6c7eb",
   "metadata": {},
   "source": [
    "#### d. Using the cluster assignments from your Kmeans clustering and the original cluster labels for the training document, compare your clusters to the re-assigned classes by computing the Completeness and Homogeneity values. You should do this for the best values of k and the best clustering run you settled on in the previous part. "
   ]
  },
  {
   "cell_type": "code",
   "execution_count": 43,
   "id": "09ee0c30",
   "metadata": {},
   "outputs": [],
   "source": [
    "docCluster5 = pd.DataFrame(clusterAssment5, columns = ['Cluster','error']) "
   ]
  },
  {
   "cell_type": "code",
   "execution_count": 44,
   "id": "d424d02d",
   "metadata": {},
   "outputs": [],
   "source": [
    "newC5 = docCluster5['Cluster'].astype(int)"
   ]
  },
  {
   "cell_type": "code",
   "execution_count": 45,
   "id": "b10d02bf",
   "metadata": {},
   "outputs": [
    {
     "data": {
      "text/plain": [
       "0    4\n",
       "1    1\n",
       "2    4\n",
       "3    4\n",
       "4    1\n",
       "Name: Cluster, dtype: int32"
      ]
     },
     "execution_count": 45,
     "metadata": {},
     "output_type": "execute_result"
    }
   ],
   "source": [
    "newC5.head()"
   ]
  },
  {
   "cell_type": "code",
   "execution_count": 46,
   "id": "2fd89944",
   "metadata": {},
   "outputs": [
    {
     "name": "stdout",
     "output_type": "stream",
     "text": [
      "0.8109802445537673\n"
     ]
    }
   ],
   "source": [
    "print(completeness_score(vs_target_train_array,newC5))"
   ]
  },
  {
   "cell_type": "code",
   "execution_count": 47,
   "id": "2a3d14c0",
   "metadata": {},
   "outputs": [
    {
     "name": "stdout",
     "output_type": "stream",
     "text": [
      "0.6721733006805563\n"
     ]
    }
   ],
   "source": [
    "print(homogeneity_score(vs_target_train_array,newC5))"
   ]
  },
  {
   "cell_type": "markdown",
   "id": "a29bf109",
   "metadata": {},
   "source": [
    "<p>The completeness score approaches 1 when most of the data points that are members of a given class are elements of the same cluster while the homogeneity score  approaches 1 when all the clusters contain almost only data points that members of a single class.</p>"
   ]
  },
  {
   "cell_type": "markdown",
   "id": "c0dacbd2",
   "metadata": {},
   "source": [
    "##### [Extra Credit - 5 pts: You can try other clustering runs with values of k between 4 and 8 and in each case compute Completeness and Homogeneity. This experiment will indicate which clustering provides the best representation of the original newsgroup categories.]"
   ]
  },
  {
   "cell_type": "code",
   "execution_count": 48,
   "id": "01ce6ff6",
   "metadata": {
    "scrolled": true
   },
   "outputs": [
    {
     "name": "stdout",
     "output_type": "stream",
     "text": [
      "Wall time: 0 ns\n",
      "Running Kmeans when k = 6\n"
     ]
    }
   ],
   "source": [
    "%time\n",
    "# (dataSet, k, distMeas=distEuclid, createCent=randCent)\n",
    "print('Running Kmeans when k = 6')\n",
    "centroids6, clusterAssment6 = kMeans(vs_train_array, 6, cosineDist, randCent)"
   ]
  },
  {
   "cell_type": "code",
   "execution_count": 49,
   "id": "4085b01c",
   "metadata": {
    "scrolled": false
   },
   "outputs": [
    {
     "name": "stdout",
     "output_type": "stream",
     "text": [
      "Cluster 3\n",
      "\n",
      "\n",
      "Cluster size: 359\n",
      "\n",
      " Top 5 terms in Cluster 3 \n",
      "\n",
      "\n",
      "   term   DF  % of Ndocs\n",
      "   sale  219       61.00\n",
      "  email  136       37.88\n",
      "  pleas  113       31.48\n",
      "  offer  105       29.25\n",
      "   ship   97       27.02 \n",
      "\n",
      "****************************************\n",
      "Cluster 4\n",
      "\n",
      "\n",
      "Cluster size: 331\n",
      "\n",
      " Top 5 terms in Cluster 4 \n",
      "\n",
      "\n",
      "    term   DF  % of Ndocs\n",
      "  window  221       66.77\n",
      "   write  154       46.53\n",
      "     get  124       37.46\n",
      "      do  123       37.16\n",
      "     run  113       34.14 \n",
      "\n",
      "****************************************\n",
      "Cluster 1\n",
      "\n",
      "\n",
      "Cluster size: 1173\n",
      "\n",
      " Top 5 terms in Cluster 1 \n",
      "\n",
      "\n",
      "    term   DF  % of Ndocs\n",
      "   write  728       62.06\n",
      "  articl  560       47.74\n",
      "      on  543       46.29\n",
      "    know  405       34.53\n",
      "   think  400       34.10 \n",
      "\n",
      "****************************************\n",
      "Cluster 0\n",
      "\n",
      "\n",
      "Cluster size: 123\n",
      "\n",
      " Top 5 terms in Cluster 0 \n",
      "\n",
      "\n",
      "     term  DF  % of Ndocs\n",
      "     file  78       63.41\n",
      "   window  59       47.97\n",
      "    write  50       40.65\n",
      "  program  47       38.21\n",
      "    thank  44       35.77 \n",
      "\n",
      "****************************************\n",
      "Cluster 5\n",
      "\n",
      "\n",
      "Cluster size: 8\n",
      "\n",
      " Top 5 terms in Cluster 5 \n",
      "\n",
      "\n",
      " term  DF  % of Ndocs\n",
      "   ax   7        87.5\n",
      "  max   7        87.5\n",
      "   pl   6        75.0\n",
      "  giz   6        75.0\n",
      "  bxn   6        75.0 \n",
      "\n",
      "****************************************\n",
      "Cluster 2\n",
      "\n",
      "\n",
      "Cluster size: 6\n",
      "\n",
      " Top 5 terms in Cluster 2 \n",
      "\n",
      "\n",
      "        term  DF  % of Ndocs\n",
      "       first   6      100.00\n",
      "       utica   5       83.33\n",
      "  adirondack   5       83.33\n",
      "     moncton   5       83.33\n",
      "    baltimor   5       83.33 \n",
      "\n",
      "****************************************\n"
     ]
    }
   ],
   "source": [
    "clusterAnalysis(centroids6, clusterAssment6, vs_train, df_terms)"
   ]
  },
  {
   "cell_type": "code",
   "execution_count": 50,
   "id": "7ffceab6",
   "metadata": {
    "scrolled": true
   },
   "outputs": [
    {
     "name": "stdout",
     "output_type": "stream",
     "text": [
      "Wall time: 0 ns\n",
      "Running Kmeans when k = 7\n"
     ]
    }
   ],
   "source": [
    "%time\n",
    "# (dataSet, k, distMeas=distEuclid, createCent=randCent)\n",
    "print('Running Kmeans when k = 7')\n",
    "centroids7, clusterAssment7 = kMeans(vs_train_array, 7, cosineDist, randCent)"
   ]
  },
  {
   "cell_type": "code",
   "execution_count": 51,
   "id": "63f48b56",
   "metadata": {
    "scrolled": false
   },
   "outputs": [
    {
     "name": "stdout",
     "output_type": "stream",
     "text": [
      "Cluster 6\n",
      "\n",
      "\n",
      "Cluster size: 39\n",
      "\n",
      " Top 5 terms in Cluster 6 \n",
      "\n",
      "\n",
      "    term  DF  % of Ndocs\n",
      "      cd  20       51.28\n",
      "  forsal  16       41.03\n",
      "     ask  16       41.03\n",
      "   pleas  16       41.03\n",
      "    sale  15       38.46 \n",
      "\n",
      "****************************************\n",
      "Cluster 1\n",
      "\n",
      "\n",
      "Cluster size: 401\n",
      "\n",
      " Top 5 terms in Cluster 1 \n",
      "\n",
      "\n",
      "    term   DF  % of Ndocs\n",
      "   write  223       55.61\n",
      "    game  212       52.87\n",
      "    team  195       48.63\n",
      "      go  178       44.39\n",
      "  articl  173       43.14 \n",
      "\n",
      "****************************************\n",
      "Cluster 5\n",
      "\n",
      "\n",
      "Cluster size: 376\n",
      "\n",
      " Top 5 terms in Cluster 5 \n",
      "\n",
      "\n",
      "   term   DF  % of Ndocs\n",
      "   sale  211       56.12\n",
      "  email  134       35.64\n",
      "  pleas  121       32.18\n",
      "  offer  104       27.66\n",
      "  thank   99       26.33 \n",
      "\n",
      "****************************************\n",
      "Cluster 2\n",
      "\n",
      "\n",
      "Cluster size: 738\n",
      "\n",
      " Top 5 terms in Cluster 2 \n",
      "\n",
      "\n",
      "    term   DF  % of Ndocs\n",
      "   write  410       55.56\n",
      "      on  307       41.60\n",
      "  articl  297       40.24\n",
      "     get  266       36.04\n",
      "    know  249       33.74 \n",
      "\n",
      "****************************************\n",
      "Cluster 3\n",
      "\n",
      "\n",
      "Cluster size: 360\n",
      "\n",
      " Top 5 terms in Cluster 3 \n",
      "\n",
      "\n",
      "       term   DF  % of Ndocs\n",
      "      write  227       63.06\n",
      "        god  208       57.78\n",
      "         on  204       56.67\n",
      "     articl  176       48.89\n",
      "  christian  172       47.78 \n",
      "\n",
      "****************************************\n",
      "Cluster 4\n",
      "\n",
      "\n",
      "Cluster size: 80\n",
      "\n",
      " Top 5 terms in Cluster 4 \n",
      "\n",
      "\n",
      "     term  DF  % of Ndocs\n",
      "    write  49       61.25\n",
      "   articl  38       47.50\n",
      "  encrypt  23       28.75\n",
      "     just  23       28.75\n",
      "       on  23       28.75 \n",
      "\n",
      "****************************************\n",
      "Cluster 0\n",
      "\n",
      "\n",
      "Cluster size: 6\n",
      "\n",
      " Top 5 terms in Cluster 0 \n",
      "\n",
      "\n",
      " term  DF  % of Ndocs\n",
      "   ax   6       100.0\n",
      "  max   6       100.0\n",
      "   pl   6       100.0\n",
      "  giz   6       100.0\n",
      "  bxn   6       100.0 \n",
      "\n",
      "****************************************\n"
     ]
    }
   ],
   "source": [
    "clusterAnalysis(centroids7, clusterAssment7, vs_train, df_terms)"
   ]
  },
  {
   "cell_type": "code",
   "execution_count": 52,
   "id": "6cf3827a",
   "metadata": {
    "scrolled": true
   },
   "outputs": [
    {
     "name": "stdout",
     "output_type": "stream",
     "text": [
      "Wall time: 0 ns\n",
      "Running Kmeans when k = 8\n"
     ]
    }
   ],
   "source": [
    "%time\n",
    "# (dataSet, k, distMeas=distEuclid, createCent=randCent)\n",
    "print('Running Kmeans when k = 8')\n",
    "centroids8, clusterAssment8 = kMeans(vs_train_array, 8, cosineDist, randCent)"
   ]
  },
  {
   "cell_type": "code",
   "execution_count": 53,
   "id": "4d4b8846",
   "metadata": {
    "scrolled": false
   },
   "outputs": [
    {
     "name": "stdout",
     "output_type": "stream",
     "text": [
      "Cluster 1\n",
      "\n",
      "\n",
      "Cluster size: 26\n",
      "\n",
      " Top 5 terms in Cluster 1 \n",
      "\n",
      "\n",
      "    term  DF  % of Ndocs\n",
      "   pleas  12       46.15\n",
      "   email  12       46.15\n",
      "     jai  11       42.31\n",
      "      cd  10       38.46\n",
      "  forsal  10       38.46 \n",
      "\n",
      "****************************************\n",
      "Cluster 5\n",
      "\n",
      "\n",
      "Cluster size: 405\n",
      "\n",
      " Top 5 terms in Cluster 5 \n",
      "\n",
      "\n",
      "    term   DF  % of Ndocs\n",
      "   write  221       54.57\n",
      "    game  213       52.59\n",
      "    team  195       48.15\n",
      "      go  177       43.70\n",
      "  articl  172       42.47 \n",
      "\n",
      "****************************************\n",
      "Cluster 3\n",
      "\n",
      "\n",
      "Cluster size: 358\n",
      "\n",
      " Top 5 terms in Cluster 3 \n",
      "\n",
      "\n",
      "   term   DF  % of Ndocs\n",
      "   sale  212       59.22\n",
      "  email  137       38.27\n",
      "  pleas  106       29.61\n",
      "  offer  104       29.05\n",
      "   ship   92       25.70 \n",
      "\n",
      "****************************************\n",
      "Cluster 6\n",
      "\n",
      "\n",
      "Cluster size: 396\n",
      "\n",
      " Top 5 terms in Cluster 6 \n",
      "\n",
      "\n",
      "     term   DF  % of Ndocs\n",
      "    write  267       67.42\n",
      "   articl  204       51.52\n",
      "      kei  185       46.72\n",
      "  clipper  185       46.72\n",
      "  encrypt  183       46.21 \n",
      "\n",
      "****************************************\n",
      "Cluster 2\n",
      "\n",
      "\n",
      "Cluster size: 396\n",
      "\n",
      " Top 5 terms in Cluster 2 \n",
      "\n",
      "\n",
      "       term   DF  % of Ndocs\n",
      "      write  243       61.36\n",
      "         on  221       55.81\n",
      "        god  213       53.79\n",
      "     articl  186       46.97\n",
      "  christian  181       45.71 \n",
      "\n",
      "****************************************\n",
      "Cluster 0\n",
      "\n",
      "\n",
      "Cluster size: 411\n",
      "\n",
      " Top 5 terms in Cluster 0 \n",
      "\n",
      "\n",
      "    term   DF  % of Ndocs\n",
      "  window  279       67.88\n",
      "   write  187       45.50\n",
      "    file  146       35.52\n",
      "     get  144       35.04\n",
      "      on  141       34.31 \n",
      "\n",
      "****************************************\n",
      "Cluster 4\n",
      "\n",
      "\n",
      "Cluster size: 7\n",
      "\n",
      " Top 5 terms in Cluster 4 \n",
      "\n",
      "\n",
      " term  DF  % of Ndocs\n",
      "  max   7      100.00\n",
      "   ax   6       85.71\n",
      "   pl   6       85.71\n",
      "  giz   6       85.71\n",
      "  bxn   6       85.71 \n",
      "\n",
      "****************************************\n",
      "Cluster 7\n",
      "\n",
      "\n",
      "Cluster size: 1\n",
      "\n",
      " Top 5 terms in Cluster 7 \n",
      "\n",
      "\n",
      "  term  DF  % of Ndocs\n",
      "    db   1       100.0\n",
      "    bh   1       100.0\n",
      "    cs   1       100.0\n",
      "    si   1       100.0\n",
      "  byte   1       100.0 \n",
      "\n",
      "****************************************\n"
     ]
    }
   ],
   "source": [
    "clusterAnalysis(centroids8, clusterAssment8, vs_train, df_terms)"
   ]
  },
  {
   "cell_type": "code",
   "execution_count": 54,
   "id": "d88f88f5",
   "metadata": {
    "scrolled": true
   },
   "outputs": [],
   "source": [
    "docCluster4 = pd.DataFrame(clusterAssment4, columns = ['Cluster','error']) "
   ]
  },
  {
   "cell_type": "code",
   "execution_count": 55,
   "id": "8da00dbb",
   "metadata": {
    "scrolled": true
   },
   "outputs": [],
   "source": [
    "docCluster6 = pd.DataFrame(clusterAssment6, columns = ['Cluster','error']) "
   ]
  },
  {
   "cell_type": "code",
   "execution_count": 56,
   "id": "b77bdcbe",
   "metadata": {
    "scrolled": true
   },
   "outputs": [],
   "source": [
    "docCluster7 = pd.DataFrame(clusterAssment7, columns = ['Cluster','error']) "
   ]
  },
  {
   "cell_type": "code",
   "execution_count": 57,
   "id": "2d77d82e",
   "metadata": {
    "scrolled": true
   },
   "outputs": [],
   "source": [
    "docCluster8 = pd.DataFrame(clusterAssment8, columns = ['Cluster','error']) "
   ]
  },
  {
   "cell_type": "code",
   "execution_count": 58,
   "id": "42dc4d9e",
   "metadata": {
    "scrolled": true
   },
   "outputs": [
    {
     "data": {
      "text/plain": [
       "0    0\n",
       "1    0\n",
       "2    0\n",
       "3    0\n",
       "4    0\n",
       "Name: Cluster, dtype: int32"
      ]
     },
     "execution_count": 58,
     "metadata": {},
     "output_type": "execute_result"
    }
   ],
   "source": [
    "newC4 = docCluster4['Cluster'].astype(int)\n",
    "newC4.head()"
   ]
  },
  {
   "cell_type": "code",
   "execution_count": 59,
   "id": "b01b2d56",
   "metadata": {
    "scrolled": true
   },
   "outputs": [
    {
     "data": {
      "text/plain": [
       "0    3\n",
       "1    4\n",
       "2    3\n",
       "3    3\n",
       "4    1\n",
       "Name: Cluster, dtype: int32"
      ]
     },
     "execution_count": 59,
     "metadata": {},
     "output_type": "execute_result"
    }
   ],
   "source": [
    "newC6 = docCluster6['Cluster'].astype(int)\n",
    "newC6.head()"
   ]
  },
  {
   "cell_type": "code",
   "execution_count": 60,
   "id": "74342f62",
   "metadata": {
    "scrolled": true
   },
   "outputs": [],
   "source": [
    "newC6 = docCluster6['Cluster'].astype(int)"
   ]
  },
  {
   "cell_type": "code",
   "execution_count": 61,
   "id": "e0c07d4f",
   "metadata": {
    "scrolled": true
   },
   "outputs": [
    {
     "data": {
      "text/plain": [
       "0    6\n",
       "1    1\n",
       "2    6\n",
       "3    5\n",
       "4    2\n",
       "Name: Cluster, dtype: int32"
      ]
     },
     "execution_count": 61,
     "metadata": {},
     "output_type": "execute_result"
    }
   ],
   "source": [
    "newC7 = docCluster7['Cluster'].astype(int)\n",
    "newC7.head()"
   ]
  },
  {
   "cell_type": "code",
   "execution_count": 62,
   "id": "9abbf000",
   "metadata": {
    "scrolled": true
   },
   "outputs": [
    {
     "data": {
      "text/plain": [
       "0    1\n",
       "1    5\n",
       "2    1\n",
       "3    3\n",
       "4    6\n",
       "Name: Cluster, dtype: int32"
      ]
     },
     "execution_count": 62,
     "metadata": {},
     "output_type": "execute_result"
    }
   ],
   "source": [
    "newC8 = docCluster8['Cluster'].astype(int)\n",
    "newC8.head()"
   ]
  },
  {
   "cell_type": "code",
   "execution_count": 63,
   "id": "b3e765eb",
   "metadata": {
    "scrolled": false
   },
   "outputs": [
    {
     "name": "stdout",
     "output_type": "stream",
     "text": [
      "0.7345504040109242\n"
     ]
    }
   ],
   "source": [
    "print(completeness_score(vs_target_train_array,newC4))"
   ]
  },
  {
   "cell_type": "code",
   "execution_count": 64,
   "id": "ccefb036",
   "metadata": {
    "scrolled": true
   },
   "outputs": [
    {
     "name": "stdout",
     "output_type": "stream",
     "text": [
      "0.2682203994249907\n"
     ]
    }
   ],
   "source": [
    "print(homogeneity_score(vs_target_train_array,newC4))"
   ]
  },
  {
   "cell_type": "markdown",
   "id": "f63cd496",
   "metadata": {},
   "source": [
    "<p>Cluster 4 has good completness score of 0.7, which approaches 1 but with a poor homegeneity score of 0.3 which is very low.</p>"
   ]
  },
  {
   "cell_type": "code",
   "execution_count": 65,
   "id": "dbe1afc4",
   "metadata": {
    "scrolled": true
   },
   "outputs": [
    {
     "name": "stdout",
     "output_type": "stream",
     "text": [
      "0.6539487102766182\n"
     ]
    }
   ],
   "source": [
    "print(completeness_score(vs_target_train_array,newC6))"
   ]
  },
  {
   "cell_type": "code",
   "execution_count": 66,
   "id": "805525d9",
   "metadata": {
    "scrolled": true
   },
   "outputs": [
    {
     "name": "stdout",
     "output_type": "stream",
     "text": [
      "0.45918500930951356\n"
     ]
    }
   ],
   "source": [
    "print(homogeneity_score(vs_target_train_array,newC6))"
   ]
  },
  {
   "cell_type": "markdown",
   "id": "89c0f61a",
   "metadata": {},
   "source": [
    "<p>The completeness score approaches 1 when most of the data points that are members of a given class are elements of the same cluster while the homogeneity score tries to approaches 1 when all the clusters contain almost only data points that are member of a single class, but the score is low.</p>"
   ]
  },
  {
   "cell_type": "code",
   "execution_count": 67,
   "id": "f87eb721",
   "metadata": {
    "scrolled": true
   },
   "outputs": [
    {
     "name": "stdout",
     "output_type": "stream",
     "text": [
      "0.6894201837390005\n"
     ]
    }
   ],
   "source": [
    "print(completeness_score(vs_target_train_array,newC7))"
   ]
  },
  {
   "cell_type": "code",
   "execution_count": 68,
   "id": "4df05183",
   "metadata": {
    "scrolled": true
   },
   "outputs": [
    {
     "name": "stdout",
     "output_type": "stream",
     "text": [
      "0.6579974433658079\n"
     ]
    }
   ],
   "source": [
    "print(homogeneity_score(vs_target_train_array,newC7))"
   ]
  },
  {
   "cell_type": "markdown",
   "id": "cf2193da",
   "metadata": {},
   "source": [
    "<p>Also k = 7 seems to have good clusters since its hmogeneity and completeness's scores approach 1.</p>"
   ]
  },
  {
   "cell_type": "code",
   "execution_count": 69,
   "id": "cb77d323",
   "metadata": {
    "scrolled": true
   },
   "outputs": [
    {
     "name": "stdout",
     "output_type": "stream",
     "text": [
      "0.8139165682609174\n"
     ]
    }
   ],
   "source": [
    "print(completeness_score(vs_target_train_array,newC8))"
   ]
  },
  {
   "cell_type": "code",
   "execution_count": 70,
   "id": "53bbab60",
   "metadata": {
    "scrolled": true
   },
   "outputs": [
    {
     "name": "stdout",
     "output_type": "stream",
     "text": [
      "0.8486255012340258\n"
     ]
    }
   ],
   "source": [
    "print(homogeneity_score(vs_target_train_array,newC8))"
   ]
  },
  {
   "cell_type": "markdown",
   "id": "ff38b593",
   "metadata": {},
   "source": [
    "<p>Also k = 8 seems to have good clusters since its homogeneity and completeness's scores approach 1.</p>"
   ]
  },
  {
   "cell_type": "code",
   "execution_count": 71,
   "id": "f5b4857f",
   "metadata": {
    "scrolled": true
   },
   "outputs": [],
   "source": [
    "from sklearn import metrics"
   ]
  },
  {
   "cell_type": "code",
   "execution_count": 89,
   "id": "fb876380",
   "metadata": {
    "scrolled": true
   },
   "outputs": [],
   "source": [
    "def plot_silhouettes(data, clusters, metric='cosine'):\n",
    "    \n",
    "    from matplotlib import cm\n",
    "    from sklearn.metrics import silhouette_samples\n",
    "\n",
    "    cluster_labels = np.unique(clusters)\n",
    "    n_clusters = cluster_labels.shape[0]\n",
    "    silhouette_vals = metrics.silhouette_samples(data, clusters, metric='cosine')\n",
    "    c_ax_lower, c_ax_upper = 0, 0\n",
    "    cticks = []\n",
    "    for i, k in enumerate(cluster_labels):\n",
    "        c_silhouette_vals = silhouette_vals[clusters == k]\n",
    "        c_silhouette_vals.sort()\n",
    "        c_ax_upper += len(c_silhouette_vals)\n",
    "        color = cm.jet(float(i) / n_clusters)\n",
    "        pl.barh(range(c_ax_lower, c_ax_upper), c_silhouette_vals, height=1.0, \n",
    "                      edgecolor='none', color=color)\n",
    "\n",
    "        cticks.append((c_ax_lower + c_ax_upper) / 2)\n",
    "        c_ax_lower += len(c_silhouette_vals)\n",
    "    \n",
    "    silhouette_avg = np.mean(silhouette_vals)\n",
    "    pl.axvline(silhouette_avg, color=\"red\", linestyle=\"--\") \n",
    "    pl.yticks(cticks, cluster_labels)\n",
    "    pl.ylabel('Cluster')\n",
    "    pl.xlabel('Silhouette coefficient')\n",
    "\n",
    "    pl.tight_layout()\n",
    "    #pl.savefig('images/11_04.png', dpi=300)\n",
    "    pl.show()\n",
    "    \n",
    "    return"
   ]
  },
  {
   "cell_type": "code",
   "execution_count": 90,
   "id": "544b757c",
   "metadata": {
    "scrolled": true
   },
   "outputs": [
    {
     "name": "stdout",
     "output_type": "stream",
     "text": [
      "Silhouette plot when k = 6\n"
     ]
    },
    {
     "data": {
      "image/png": "[encoded data removed]",
      "text/plain": [
       "<Figure size 432x288 with 1 Axes>"
      ]
     },
     "metadata": {},
     "output_type": "display_data"
    }
   ],
   "source": [
    "print('Silhouette plot when k = 6')\n",
    "plot_silhouettes(vs_train_array, newC6)"
   ]
  },
  {
   "cell_type": "markdown",
   "id": "8f9e7b93",
   "metadata": {},
   "source": [
    "<p>The plot above shows that with the exception of cluster 5, all clusters are not scoring so well for the silhoutes because they have a bunch of scores below the average.</p>\n",
    "<p>The silhouette coefficient for cluster 5 stands outs as it is seen approaching 1.</p>"
   ]
  },
  {
   "cell_type": "code",
   "execution_count": 91,
   "id": "c74805d2",
   "metadata": {},
   "outputs": [
    {
     "name": "stdout",
     "output_type": "stream",
     "text": [
      "Silhouette plot when k = 7\n"
     ]
    },
    {
     "data": {
      "image/png": "[encoded data removed]",
      "text/plain": [
       "<Figure size 432x288 with 1 Axes>"
      ]
     },
     "metadata": {},
     "output_type": "display_data"
    }
   ],
   "source": [
    "print('Silhouette plot when k = 7')\n",
    "plot_silhouettes(vs_train_array, newC7)"
   ]
  },
  {
   "cell_type": "markdown",
   "id": "bdccedfe",
   "metadata": {},
   "source": [
    "<p>All of clusters are not scoring so well for silhoutes because they have a bunch of scores below the average.</p>"
   ]
  },
  {
   "cell_type": "code",
   "execution_count": 93,
   "id": "47ad8b09",
   "metadata": {
    "scrolled": false
   },
   "outputs": [
    {
     "name": "stdout",
     "output_type": "stream",
     "text": [
      "Silhouette plot when k = 8\n"
     ]
    },
    {
     "data": {
      "image/png": "[encoded data removed]",
      "text/plain": [
       "<Figure size 432x288 with 1 Axes>"
      ]
     },
     "metadata": {},
     "output_type": "display_data"
    }
   ],
   "source": [
    "print('Silhouette plot when k = 8')\n",
    "plot_silhouettes(vs_train_array, newC8)"
   ]
  },
  {
   "cell_type": "markdown",
   "id": "de7a4282",
   "metadata": {},
   "source": [
    "<p>The above same plot shows that the rest of the clusters are not scoring so well for silhoutes because they have a bunch of scores below the average.</p>\n",
    "<p>K = 8 seems to have good clusters but the silhouette coefficients for most of the clusters is below average with both its completeness and homogeneity approaching 1. </p>\n",
    "<p>So, k = 8 provides the best representation of the original newsgroup categories. </p>"
   ]
  },
  {
   "cell_type": "markdown",
   "id": "0678a5e6",
   "metadata": {},
   "source": [
    " ***\n",
    "##### e. Finally, using your cluster assignments as class labels, categorize each of the documents in the 20% set-aside data into each of the appropriate cluster. Your categorization should be based on Cosine similarity between each test document and cluster centroids. For each test document show the predicted class label as well as Cosine similarity to the corresponding cluster. \n",
    "___"
   ]
  },
  {
   "cell_type": "markdown",
   "id": "dbbb89f9",
   "metadata": {},
   "source": [
    "##### for each test instance calculate the cosine similarity to each centroid when K  = 5"
   ]
  },
  {
   "cell_type": "code",
   "execution_count": 94,
   "id": "b736892a",
   "metadata": {},
   "outputs": [],
   "source": [
    "def clusterPrediction(dataSet, k, distMeas, centroids):\n",
    "    \"\"\"\n",
    "    Function that returns Cluster assigments for the unseen data (test data)\n",
    "    \"\"\"\n",
    "    m = shape(dataSet)[0]\n",
    "    clusterAssment = zeros((m,2)) #create mat to assign data points \n",
    "                                  #to a centroid, also holds SE of each point\n",
    "#     centroids = createCent(dataSet, k)\n",
    "    clusterChanged = True\n",
    "    while clusterChanged:\n",
    "        clusterChanged = False\n",
    "        for i in range(m): #for each data point assign it to the closest centroid\n",
    "            minDist = inf; minIndex = -1\n",
    "            for j in range(k):  #find the closest distance\n",
    "                distJI = distMeas(centroids[j,:],dataSet[i,:])\n",
    "                if distJI < minDist:\n",
    "                    minDist = distJI; minIndex = j\n",
    "            if clusterAssment[i,0] != minIndex: clusterChanged = True\n",
    "            clusterAssment[i,:] = minIndex,minDist**2\n",
    "        # print centroids\n",
    "        for cent in range(k):#recalculate centroids and update the centroid location\n",
    "            ptsInClust = dataSet[nonzero(clusterAssment[:,0]==cent)[0]] #get all the point in this cluster - Note: this was incorrect in the original distribution.\n",
    "            if(len(ptsInClust)!=0):\n",
    "                centroids[cent,:] = mean(ptsInClust, axis=0) #assign centroid to mean - Note condition was added 10/28/2013\n",
    "    return clusterAssment  "
   ]
  },
  {
   "cell_type": "code",
   "execution_count": 95,
   "id": "7701f18c",
   "metadata": {},
   "outputs": [],
   "source": [
    "# convert the test tfXidf test matrix data into numpy a array\n",
    "vs_test_array = np.array(vs_test)"
   ]
  },
  {
   "cell_type": "code",
   "execution_count": 96,
   "id": "682b7e43",
   "metadata": {},
   "outputs": [],
   "source": [
    "# using the clusterPrediction function, lets predict the class label as well as the cosine Similarity of the testing data sets.\n",
    "clusterAssment  = clusterPrediction(vs_test_array, 5, cosineDist, centroids5)"
   ]
  },
  {
   "cell_type": "code",
   "execution_count": 97,
   "id": "2775dba9",
   "metadata": {},
   "outputs": [
    {
     "data": {
      "text/html": [
       "<div>\n",
       "<style scoped>\n",
       "    .dataframe tbody tr th:only-of-type {\n",
       "        vertical-align: middle;\n",
       "    }\n",
       "\n",
       "    .dataframe tbody tr th {\n",
       "        vertical-align: top;\n",
       "    }\n",
       "\n",
       "    .dataframe thead th {\n",
       "        text-align: right;\n",
       "    }\n",
       "</style>\n",
       "<table border=\"1\" class=\"dataframe\">\n",
       "  <thead>\n",
       "    <tr style=\"text-align: right;\">\n",
       "      <th></th>\n",
       "      <th>Class_Label</th>\n",
       "      <th>Cosine_Similarity</th>\n",
       "    </tr>\n",
       "  </thead>\n",
       "  <tbody>\n",
       "    <tr>\n",
       "      <th>0</th>\n",
       "      <td>2</td>\n",
       "      <td>0.81</td>\n",
       "    </tr>\n",
       "    <tr>\n",
       "      <th>1</th>\n",
       "      <td>2</td>\n",
       "      <td>0.61</td>\n",
       "    </tr>\n",
       "    <tr>\n",
       "      <th>2</th>\n",
       "      <td>4</td>\n",
       "      <td>0.83</td>\n",
       "    </tr>\n",
       "    <tr>\n",
       "      <th>3</th>\n",
       "      <td>3</td>\n",
       "      <td>0.60</td>\n",
       "    </tr>\n",
       "    <tr>\n",
       "      <th>4</th>\n",
       "      <td>4</td>\n",
       "      <td>0.62</td>\n",
       "    </tr>\n",
       "    <tr>\n",
       "      <th>5</th>\n",
       "      <td>1</td>\n",
       "      <td>0.46</td>\n",
       "    </tr>\n",
       "    <tr>\n",
       "      <th>6</th>\n",
       "      <td>1</td>\n",
       "      <td>0.60</td>\n",
       "    </tr>\n",
       "    <tr>\n",
       "      <th>7</th>\n",
       "      <td>1</td>\n",
       "      <td>0.83</td>\n",
       "    </tr>\n",
       "    <tr>\n",
       "      <th>8</th>\n",
       "      <td>2</td>\n",
       "      <td>0.37</td>\n",
       "    </tr>\n",
       "    <tr>\n",
       "      <th>9</th>\n",
       "      <td>2</td>\n",
       "      <td>0.82</td>\n",
       "    </tr>\n",
       "    <tr>\n",
       "      <th>10</th>\n",
       "      <td>2</td>\n",
       "      <td>0.69</td>\n",
       "    </tr>\n",
       "    <tr>\n",
       "      <th>11</th>\n",
       "      <td>4</td>\n",
       "      <td>0.79</td>\n",
       "    </tr>\n",
       "    <tr>\n",
       "      <th>12</th>\n",
       "      <td>3</td>\n",
       "      <td>0.57</td>\n",
       "    </tr>\n",
       "    <tr>\n",
       "      <th>13</th>\n",
       "      <td>4</td>\n",
       "      <td>0.82</td>\n",
       "    </tr>\n",
       "    <tr>\n",
       "      <th>14</th>\n",
       "      <td>3</td>\n",
       "      <td>0.84</td>\n",
       "    </tr>\n",
       "    <tr>\n",
       "      <th>15</th>\n",
       "      <td>3</td>\n",
       "      <td>0.72</td>\n",
       "    </tr>\n",
       "    <tr>\n",
       "      <th>16</th>\n",
       "      <td>1</td>\n",
       "      <td>0.60</td>\n",
       "    </tr>\n",
       "    <tr>\n",
       "      <th>17</th>\n",
       "      <td>2</td>\n",
       "      <td>0.72</td>\n",
       "    </tr>\n",
       "    <tr>\n",
       "      <th>18</th>\n",
       "      <td>2</td>\n",
       "      <td>0.75</td>\n",
       "    </tr>\n",
       "    <tr>\n",
       "      <th>19</th>\n",
       "      <td>3</td>\n",
       "      <td>0.38</td>\n",
       "    </tr>\n",
       "  </tbody>\n",
       "</table>\n",
       "</div>"
      ],
      "text/plain": [
       "    Class_Label  Cosine_Similarity\n",
       "0             2               0.81\n",
       "1             2               0.61\n",
       "2             4               0.83\n",
       "3             3               0.60\n",
       "4             4               0.62\n",
       "5             1               0.46\n",
       "6             1               0.60\n",
       "7             1               0.83\n",
       "8             2               0.37\n",
       "9             2               0.82\n",
       "10            2               0.69\n",
       "11            4               0.79\n",
       "12            3               0.57\n",
       "13            4               0.82\n",
       "14            3               0.84\n",
       "15            3               0.72\n",
       "16            1               0.60\n",
       "17            2               0.72\n",
       "18            2               0.75\n",
       "19            3               0.38"
      ]
     },
     "execution_count": 97,
     "metadata": {},
     "output_type": "execute_result"
    }
   ],
   "source": [
    "##### Convert the predicted cluster assignments numpy array into data frame\n",
    "df_predictedLabel = pd.DataFrame(clusterAssment, columns = ['Class_Label', 'Cosine_Similarity'])\n",
    "df_predictedLabel['Class_Label'] = df_predictedLabel['Class_Label'].astype(int)\n",
    "df_predictedLabel.head(20)"
   ]
  },
  {
   "cell_type": "markdown",
   "id": "20ea087b",
   "metadata": {},
   "source": [
    "<p>Above, we have data frame,<strong>df_predictedLabel</strong>, that has the predicted class labels as well as the Cosine similarity to the corresponding clusters.</p>"
   ]
  }
 ],
 "metadata": {
  "kernelspec": {
   "display_name": "cmdpy37",
   "language": "python",
   "name": "cmdpy37"
  },
  "language_info": {
   "codemirror_mode": {
    "name": "ipython",
    "version": 3
   },
   "file_extension": ".py",
   "mimetype": "text/x-python",
   "name": "python",
   "nbconvert_exporter": "python",
   "pygments_lexer": "ipython3",
   "version": "3.7.11"
  }
 },
 "nbformat": 4,
 "nbformat_minor": 5
}
