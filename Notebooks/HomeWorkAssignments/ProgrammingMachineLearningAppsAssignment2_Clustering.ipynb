{
 "cells": [
  {
   "cell_type": "markdown",
   "id": "1b6d447d",
   "metadata": {},
   "source": [
    "<p>For this problem you will use a different subset of the 20 Newsgroup data set that you used in Assignment 2  (see the description of the full dataset). The subset for this assignment includes 2,500 documents (newsgroup posts), each belonging to one of 5 categories windows (0), crypt (1), christian (2), hockey (3), forsale (4). The documents are represented by 9328 terms (stems). The dictionary (vocabulary) for the data set is given in the file \"terms.txt\" and the full term-by-document matrix is given in \"matrix.txt\" (comma separated values). The actual category labels for the documents are provided in the file \"classes.txt\". Your goal in this assignment is to perform clustering on the documents and compare the clusters to the actual categories.\n",
    "\n",
    "Your tasks in this problem are the following [Note: for the clustering part of this assignment you should use the kMeans module form Ch. 10 of MLA (use the version provided here as it includes some corrections to the book version). You may also use Pandas and other modules from scikit-learn that you may need for preprocessing or evaluation.] </p>"
   ]
  },
  {
   "cell_type": "code",
   "execution_count": 1,
   "id": "2113261c",
   "metadata": {},
   "outputs": [],
   "source": [
    "# load the necessary packages\n",
    "# load the necessary packages\n",
    "import numpy as np\n",
    "import pandas as pd\n",
    "import operator\n",
    "import matplotlib.pyplot as plt\n",
    "from sklearn import preprocessing\n",
    "from sklearn.model_selection import KFold\n",
    "from sklearn.linear_model import LinearRegression, Lasso, Ridge, ElasticNet, SGDRegressor\n",
    "from sklearn.model_selection import train_test_split \n",
    "import pylab as pl\n",
    "from sklearn import feature_selection\n",
    "from sklearn import model_selection\n",
    "from sklearn.metrics import completeness_score, homogeneity_score\n",
    "plt.style.use('ggplot')"
   ]
  },
  {
   "cell_type": "markdown",
   "id": "7dfbf43a",
   "metadata": {},
   "source": [
    "##### a. Create your own distance function that, instead of using Euclidean distance, uses Cosine similarity. This is the distance function you will use to pass to the kMeans function."
   ]
  },
  {
   "cell_type": "code",
   "execution_count": 2,
   "id": "22ef6b1d",
   "metadata": {},
   "outputs": [],
   "source": [
    "'''\n",
    "k Means Clustering for Ch10 of Machine Learning in Action\n",
    "@author: Peter Harrington\n",
    "'''\n",
    "from numpy import *\n",
    "\n",
    "def distEuclid(vecA, vecB):\n",
    "    return sqrt(sum(power(vecA - vecB, 2))) #la.norm(vecA-vecB)"
   ]
  },
  {
   "cell_type": "code",
   "execution_count": 3,
   "id": "9827e7aa",
   "metadata": {},
   "outputs": [],
   "source": [
    "def cosineDist(vecA, vecB):\n",
    "    \"\"\"Function that returns cosine Similarity\"\"\"\n",
    "    a_norm = np.linalg.norm(vecA)\n",
    "    b_norm = np.linalg.norm(vecB)\n",
    "    \n",
    "    cosine = np.dot(vecA, vecB) / (a_norm * b_norm)\n",
    "    dist = 1 - cosine\n",
    "    \n",
    "    return dist"
   ]
  },
  {
   "cell_type": "code",
   "execution_count": 4,
   "id": "9ea58e73",
   "metadata": {},
   "outputs": [],
   "source": [
    "def randCent(dataSet, k):\n",
    "    '''\n",
    "    randCent(), creates a set of k ran-dom  centroids  for  a  given  dataset.  \n",
    "    The  random  centroids  need  to  be  within  thebounds of the dataset. \n",
    "    This is accomplished by finding the minimum and maximumvalues of each dimension \n",
    "    in the dataset. \n",
    "    Random values from 0 to 1.0 are then chosenand  scaled  by  the  range  and  \n",
    "    minimum  value  to  ensure  that  the  random  points  arewithin  the  bounds  \n",
    "    of  the  data.  \n",
    "    '''\n",
    "    n = shape(dataSet)[1]\n",
    "    centroids = zeros((k,n), dtype=float)\n",
    "    for j in range(n): #create random cluster centers\n",
    "        minJ = min(dataSet[:,j])\n",
    "        rangeJ = float(max(dataSet[:,j]) - minJ)\n",
    "        centroids[:,j] = minJ + rangeJ * random.rand(k)\n",
    "    return centroids "
   ]
  },
  {
   "cell_type": "code",
   "execution_count": 5,
   "id": "5e3e9964",
   "metadata": {},
   "outputs": [],
   "source": [
    "# kMeans function\n",
    "def kMeans(dataSet, k, distMeas=distEuclid, createCent=randCent):\n",
    "    m = shape(dataSet)[0]\n",
    "    clusterAssment = zeros((m,2)) #create mat to assign data points \n",
    "                                  #to a centroid, also holds SE of each point\n",
    "    centroids = createCent(dataSet, k)\n",
    "    clusterChanged = True\n",
    "    while clusterChanged:\n",
    "        clusterChanged = False\n",
    "        for i in range(m): #for each data point assign it to the closest centroid\n",
    "            minDist = inf; minIndex = -1\n",
    "            for j in range(k):  #find the closest distance\n",
    "                distJI = distMeas(centroids[j,:],dataSet[i,:])\n",
    "                if distJI < minDist:\n",
    "                    minDist = distJI; minIndex = j\n",
    "            if clusterAssment[i,0] != minIndex: clusterChanged = True\n",
    "            clusterAssment[i,:] = minIndex,minDist**2\n",
    "        # print centroids\n",
    "        for cent in range(k):#recalculate centroids and update the centroid location\n",
    "            ptsInClust = dataSet[nonzero(clusterAssment[:,0]==cent)[0]] #get all the point in this cluster - Note: this was incorrect in the original distribution.\n",
    "            if(len(ptsInClust)!=0):\n",
    "                centroids[cent,:] = mean(ptsInClust, axis=0) #assign centroid to mean - Note condition was added 10/28/2013\n",
    "    return centroids, clusterAssment"
   ]
  },
  {
   "cell_type": "code",
   "execution_count": 6,
   "id": "377d1f7e",
   "metadata": {},
   "outputs": [],
   "source": [
    "def biKmeans(dataSet, k, distMeas=distEuclid):\n",
    "    '''\n",
    "    To overcome the problem of poor clusters because of k-means getting caught in a local minimum, another algorithm has been developed. This algorithm, known as bisecting k-means, starts out with one cluster and then splits the cluster in two. It then chooses a cluster to split. The cluster to split is decided by minimizing the SSE. This splitting based on the SSE is repeated until the user-defined number of clusters is attained.\n",
    "    '''\n",
    "    m = shape(dataSet)[0]\n",
    "    clusterAssment = mat(zeros((m,2))) # cluster assessment has two columns, one column is for the index of the cluster and the second column is store the error. \n",
    "    # This error is the distance from the cluster centroid to the current point. We’ll use this error later on to measure how good our clusters are\n",
    "    centroid0 = mean(dataSet, axis=0).tolist()[0]\n",
    "    centList =[centroid0] #create a list with one centroid\n",
    "    for j in range(m): #calc initial Error\n",
    "        clusterAssment[j,1] = distMeas(mat(centroid0), dataSet[j,:])**2\n",
    "    while (len(centList) < k):\n",
    "        lowestSSE = inf\n",
    "        for i in range(len(centList)):\n",
    "            ptsInCurrCluster = dataSet[nonzero(clusterAssment[:,0].A==i)[0],:] #get the data points currently in cluster i\n",
    "            centroidMat, splitClustAss = kMeans(ptsInCurrCluster, 2, distMeas)\n",
    "            sseSplit = sum(splitClustAss[:,1]) #compare the SSE to the currrent minimum\n",
    "            sseNotSplit = sum(clusterAssment[nonzero(clusterAssment[:,0].A!=i)[0],1])\n",
    "            print(\"sseSplit, and notSplit: \",sseSplit,sseNotSplit)\n",
    "            if (sseSplit + sseNotSplit) < lowestSSE:\n",
    "                bestCentToSplit = i\n",
    "                bestNewCents = centroidMat\n",
    "                bestClustAss = splitClustAss.copy()\n",
    "                lowestSSE = sseSplit + sseNotSplit\n",
    "        bestClustAss[nonzero(bestClustAss[:,0] == 1)[0],0] = len(centList) #change 1 to 3,4, or whatever\n",
    "        bestClustAss[nonzero(bestClustAss[:,0] == 0)[0],0] = bestCentToSplit\n",
    "        print('the bestCentToSplit is: ',bestCentToSplit)\n",
    "        print('the len of bestClustAss is: ', len(bestClustAss))\n",
    "        centList[bestCentToSplit] = bestNewCents[0,:].tolist()[0] #replace a centroid with two best centroids \n",
    "        centList.append(bestNewCents[1,:].tolist()[0])\n",
    "        clusterAssment[nonzero(clusterAssment[:,0].A == bestCentToSplit)[0],:]= bestClustAss #reassign new clusters, and SSE\n",
    "    return mat(centList), clusterAssment\n"
   ]
  },
  {
   "cell_type": "markdown",
   "id": "641d6e72",
   "metadata": {},
   "source": [
    "#### b. Load the data set [Note: the data matrix provided has terms as rows and documents as columns. Since you will be clustering documents, you'll need to take the transpose of this matrix so that your main data matrix is a document x term matrix. In Numpy, you may use the \".T\" operation to obtain the transpose.] Then, split the data set (the document x term matrix) and set aside 20% for later use (see below). Use the 80% segment for clustering in the next part. The 20% portion must be a random subset. Next, as in the previous assignment, perform TFxIDF transformation on these data sets"
   ]
  },
  {
   "cell_type": "code",
   "execution_count": 7,
   "id": "40d6d61a",
   "metadata": {
    "scrolled": true
   },
   "outputs": [
    {
     "data": {
      "text/html": [
       "<div>\n",
       "<style scoped>\n",
       "    .dataframe tbody tr th:only-of-type {\n",
       "        vertical-align: middle;\n",
       "    }\n",
       "\n",
       "    .dataframe tbody tr th {\n",
       "        vertical-align: top;\n",
       "    }\n",
       "\n",
       "    .dataframe thead th {\n",
       "        text-align: right;\n",
       "    }\n",
       "</style>\n",
       "<table border=\"1\" class=\"dataframe\">\n",
       "  <thead>\n",
       "    <tr style=\"text-align: right;\">\n",
       "      <th></th>\n",
       "      <th>1</th>\n",
       "    </tr>\n",
       "    <tr>\n",
       "      <th>0</th>\n",
       "      <th></th>\n",
       "    </tr>\n",
       "  </thead>\n",
       "  <tbody>\n",
       "    <tr>\n",
       "      <th>0</th>\n",
       "      <td>0</td>\n",
       "    </tr>\n",
       "    <tr>\n",
       "      <th>1</th>\n",
       "      <td>1</td>\n",
       "    </tr>\n",
       "    <tr>\n",
       "      <th>2</th>\n",
       "      <td>1</td>\n",
       "    </tr>\n",
       "    <tr>\n",
       "      <th>3</th>\n",
       "      <td>1</td>\n",
       "    </tr>\n",
       "    <tr>\n",
       "      <th>4</th>\n",
       "      <td>2</td>\n",
       "    </tr>\n",
       "  </tbody>\n",
       "</table>\n",
       "</div>"
      ],
      "text/plain": [
       "   1\n",
       "0   \n",
       "0  0\n",
       "1  1\n",
       "2  1\n",
       "3  1\n",
       "4  2"
      ]
     },
     "execution_count": 7,
     "metadata": {},
     "output_type": "execute_result"
    }
   ],
   "source": [
    "### load the data set\n",
    "fileName_Classes = r'../../data/newsgroups5/classes.txt'\n",
    "df_classes = pd.read_csv(fileName_Classes, sep = '\\s+', header = None, skiprows = 1, index_col = 0)\n",
    "df_classes.head()"
   ]
  },
  {
   "cell_type": "code",
   "execution_count": 8,
   "id": "240d1e1d",
   "metadata": {},
   "outputs": [
    {
     "data": {
      "text/plain": [
       "(2500, 1)"
      ]
     },
     "execution_count": 8,
     "metadata": {},
     "output_type": "execute_result"
    }
   ],
   "source": [
    "df_classes.shape"
   ]
  },
  {
   "cell_type": "code",
   "execution_count": 9,
   "id": "0e27bb9c",
   "metadata": {},
   "outputs": [
    {
     "data": {
      "text/html": [
       "<div>\n",
       "<style scoped>\n",
       "    .dataframe tbody tr th:only-of-type {\n",
       "        vertical-align: middle;\n",
       "    }\n",
       "\n",
       "    .dataframe tbody tr th {\n",
       "        vertical-align: top;\n",
       "    }\n",
       "\n",
       "    .dataframe thead th {\n",
       "        text-align: right;\n",
       "    }\n",
       "</style>\n",
       "<table border=\"1\" class=\"dataframe\">\n",
       "  <thead>\n",
       "    <tr style=\"text-align: right;\">\n",
       "      <th></th>\n",
       "      <th>1</th>\n",
       "    </tr>\n",
       "    <tr>\n",
       "      <th>0</th>\n",
       "      <th></th>\n",
       "    </tr>\n",
       "  </thead>\n",
       "  <tbody>\n",
       "    <tr>\n",
       "      <th>0</th>\n",
       "      <td>0</td>\n",
       "    </tr>\n",
       "    <tr>\n",
       "      <th>1</th>\n",
       "      <td>1</td>\n",
       "    </tr>\n",
       "    <tr>\n",
       "      <th>2</th>\n",
       "      <td>1</td>\n",
       "    </tr>\n",
       "    <tr>\n",
       "      <th>3</th>\n",
       "      <td>1</td>\n",
       "    </tr>\n",
       "    <tr>\n",
       "      <th>4</th>\n",
       "      <td>2</td>\n",
       "    </tr>\n",
       "  </tbody>\n",
       "</table>\n",
       "</div>"
      ],
      "text/plain": [
       "   1\n",
       "0   \n",
       "0  0\n",
       "1  1\n",
       "2  1\n",
       "3  1\n",
       "4  2"
      ]
     },
     "execution_count": 9,
     "metadata": {},
     "output_type": "execute_result"
    }
   ],
   "source": [
    "df_classes.head()"
   ]
  },
  {
   "cell_type": "code",
   "execution_count": 10,
   "id": "39101e68",
   "metadata": {},
   "outputs": [
    {
     "data": {
      "text/plain": [
       "Int64Index([1], dtype='int64')"
      ]
     },
     "execution_count": 10,
     "metadata": {},
     "output_type": "execute_result"
    }
   ],
   "source": [
    "df_classes.columns"
   ]
  },
  {
   "cell_type": "code",
   "execution_count": 11,
   "id": "cb08308f",
   "metadata": {},
   "outputs": [
    {
     "name": "stdout",
     "output_type": "stream",
     "text": [
      "Wall time: 0 ns\n"
     ]
    },
    {
     "data": {
      "text/html": [
       "<div>\n",
       "<style scoped>\n",
       "    .dataframe tbody tr th:only-of-type {\n",
       "        vertical-align: middle;\n",
       "    }\n",
       "\n",
       "    .dataframe tbody tr th {\n",
       "        vertical-align: top;\n",
       "    }\n",
       "\n",
       "    .dataframe thead th {\n",
       "        text-align: right;\n",
       "    }\n",
       "</style>\n",
       "<table border=\"1\" class=\"dataframe\">\n",
       "  <thead>\n",
       "    <tr style=\"text-align: right;\">\n",
       "      <th></th>\n",
       "      <th>0</th>\n",
       "      <th>1</th>\n",
       "      <th>2</th>\n",
       "      <th>3</th>\n",
       "      <th>4</th>\n",
       "      <th>5</th>\n",
       "      <th>6</th>\n",
       "      <th>7</th>\n",
       "      <th>8</th>\n",
       "      <th>9</th>\n",
       "      <th>...</th>\n",
       "      <th>2490</th>\n",
       "      <th>2491</th>\n",
       "      <th>2492</th>\n",
       "      <th>2493</th>\n",
       "      <th>2494</th>\n",
       "      <th>2495</th>\n",
       "      <th>2496</th>\n",
       "      <th>2497</th>\n",
       "      <th>2498</th>\n",
       "      <th>2499</th>\n",
       "    </tr>\n",
       "  </thead>\n",
       "  <tbody>\n",
       "    <tr>\n",
       "      <th>0</th>\n",
       "      <td>0</td>\n",
       "      <td>0</td>\n",
       "      <td>0</td>\n",
       "      <td>0</td>\n",
       "      <td>0</td>\n",
       "      <td>0</td>\n",
       "      <td>0</td>\n",
       "      <td>0</td>\n",
       "      <td>0</td>\n",
       "      <td>0</td>\n",
       "      <td>...</td>\n",
       "      <td>0</td>\n",
       "      <td>0</td>\n",
       "      <td>0</td>\n",
       "      <td>0</td>\n",
       "      <td>0</td>\n",
       "      <td>0</td>\n",
       "      <td>0</td>\n",
       "      <td>0</td>\n",
       "      <td>0</td>\n",
       "      <td>0</td>\n",
       "    </tr>\n",
       "    <tr>\n",
       "      <th>1</th>\n",
       "      <td>0</td>\n",
       "      <td>0</td>\n",
       "      <td>0</td>\n",
       "      <td>0</td>\n",
       "      <td>0</td>\n",
       "      <td>0</td>\n",
       "      <td>0</td>\n",
       "      <td>0</td>\n",
       "      <td>0</td>\n",
       "      <td>0</td>\n",
       "      <td>...</td>\n",
       "      <td>0</td>\n",
       "      <td>0</td>\n",
       "      <td>0</td>\n",
       "      <td>0</td>\n",
       "      <td>0</td>\n",
       "      <td>0</td>\n",
       "      <td>0</td>\n",
       "      <td>0</td>\n",
       "      <td>0</td>\n",
       "      <td>0</td>\n",
       "    </tr>\n",
       "    <tr>\n",
       "      <th>2</th>\n",
       "      <td>0</td>\n",
       "      <td>0</td>\n",
       "      <td>0</td>\n",
       "      <td>0</td>\n",
       "      <td>0</td>\n",
       "      <td>0</td>\n",
       "      <td>0</td>\n",
       "      <td>0</td>\n",
       "      <td>0</td>\n",
       "      <td>0</td>\n",
       "      <td>...</td>\n",
       "      <td>0</td>\n",
       "      <td>0</td>\n",
       "      <td>0</td>\n",
       "      <td>0</td>\n",
       "      <td>0</td>\n",
       "      <td>0</td>\n",
       "      <td>0</td>\n",
       "      <td>0</td>\n",
       "      <td>0</td>\n",
       "      <td>0</td>\n",
       "    </tr>\n",
       "    <tr>\n",
       "      <th>3</th>\n",
       "      <td>0</td>\n",
       "      <td>0</td>\n",
       "      <td>0</td>\n",
       "      <td>0</td>\n",
       "      <td>0</td>\n",
       "      <td>0</td>\n",
       "      <td>0</td>\n",
       "      <td>0</td>\n",
       "      <td>0</td>\n",
       "      <td>0</td>\n",
       "      <td>...</td>\n",
       "      <td>0</td>\n",
       "      <td>0</td>\n",
       "      <td>0</td>\n",
       "      <td>0</td>\n",
       "      <td>0</td>\n",
       "      <td>0</td>\n",
       "      <td>0</td>\n",
       "      <td>0</td>\n",
       "      <td>0</td>\n",
       "      <td>0</td>\n",
       "    </tr>\n",
       "    <tr>\n",
       "      <th>4</th>\n",
       "      <td>0</td>\n",
       "      <td>0</td>\n",
       "      <td>0</td>\n",
       "      <td>0</td>\n",
       "      <td>0</td>\n",
       "      <td>0</td>\n",
       "      <td>0</td>\n",
       "      <td>0</td>\n",
       "      <td>0</td>\n",
       "      <td>0</td>\n",
       "      <td>...</td>\n",
       "      <td>0</td>\n",
       "      <td>0</td>\n",
       "      <td>0</td>\n",
       "      <td>0</td>\n",
       "      <td>0</td>\n",
       "      <td>0</td>\n",
       "      <td>0</td>\n",
       "      <td>0</td>\n",
       "      <td>0</td>\n",
       "      <td>0</td>\n",
       "    </tr>\n",
       "  </tbody>\n",
       "</table>\n",
       "<p>5 rows × 2500 columns</p>\n",
       "</div>"
      ],
      "text/plain": [
       "   0     1     2     3     4     5     6     7     8     9     ...  2490  \\\n",
       "0     0     0     0     0     0     0     0     0     0     0  ...     0   \n",
       "1     0     0     0     0     0     0     0     0     0     0  ...     0   \n",
       "2     0     0     0     0     0     0     0     0     0     0  ...     0   \n",
       "3     0     0     0     0     0     0     0     0     0     0  ...     0   \n",
       "4     0     0     0     0     0     0     0     0     0     0  ...     0   \n",
       "\n",
       "   2491  2492  2493  2494  2495  2496  2497  2498  2499  \n",
       "0     0     0     0     0     0     0     0     0     0  \n",
       "1     0     0     0     0     0     0     0     0     0  \n",
       "2     0     0     0     0     0     0     0     0     0  \n",
       "3     0     0     0     0     0     0     0     0     0  \n",
       "4     0     0     0     0     0     0     0     0     0  \n",
       "\n",
       "[5 rows x 2500 columns]"
      ]
     },
     "execution_count": 11,
     "metadata": {},
     "output_type": "execute_result"
    }
   ],
   "source": [
    "%time\n",
    "fileName_matrix = r'../../data/newsgroups5/matrix.txt'\n",
    "df_matrix = pd.read_csv(fileName_matrix, header = None)\n",
    "df_matrix.head() # display the first five records"
   ]
  },
  {
   "cell_type": "code",
   "execution_count": 12,
   "id": "91293c8f",
   "metadata": {},
   "outputs": [
    {
     "data": {
      "text/plain": [
       "(9328, 2500)"
      ]
     },
     "execution_count": 12,
     "metadata": {},
     "output_type": "execute_result"
    }
   ],
   "source": [
    "df_matrix.shape"
   ]
  },
  {
   "cell_type": "code",
   "execution_count": 13,
   "id": "eb10b3d6",
   "metadata": {},
   "outputs": [
    {
     "data": {
      "text/html": [
       "<div>\n",
       "<style scoped>\n",
       "    .dataframe tbody tr th:only-of-type {\n",
       "        vertical-align: middle;\n",
       "    }\n",
       "\n",
       "    .dataframe tbody tr th {\n",
       "        vertical-align: top;\n",
       "    }\n",
       "\n",
       "    .dataframe thead th {\n",
       "        text-align: right;\n",
       "    }\n",
       "</style>\n",
       "<table border=\"1\" class=\"dataframe\">\n",
       "  <thead>\n",
       "    <tr style=\"text-align: right;\">\n",
       "      <th></th>\n",
       "      <th>0</th>\n",
       "    </tr>\n",
       "  </thead>\n",
       "  <tbody>\n",
       "    <tr>\n",
       "      <th>0</th>\n",
       "      <td>aa</td>\n",
       "    </tr>\n",
       "    <tr>\n",
       "      <th>1</th>\n",
       "      <td>aargh</td>\n",
       "    </tr>\n",
       "    <tr>\n",
       "      <th>2</th>\n",
       "      <td>aaron</td>\n",
       "    </tr>\n",
       "    <tr>\n",
       "      <th>3</th>\n",
       "      <td>aaronc</td>\n",
       "    </tr>\n",
       "    <tr>\n",
       "      <th>4</th>\n",
       "      <td>ab</td>\n",
       "    </tr>\n",
       "  </tbody>\n",
       "</table>\n",
       "</div>"
      ],
      "text/plain": [
       "        0\n",
       "0      aa\n",
       "1   aargh\n",
       "2   aaron\n",
       "3  aaronc\n",
       "4      ab"
      ]
     },
     "execution_count": 13,
     "metadata": {},
     "output_type": "execute_result"
    }
   ],
   "source": [
    "fileName_terms = r'../../data/newsgroups5/terms.txt'\n",
    "df_terms = pd.read_csv(fileName_terms, header = None)\n",
    "df_terms.head() # display the first five records"
   ]
  },
  {
   "cell_type": "markdown",
   "id": "a6014e2a",
   "metadata": {},
   "source": [
    "#### We need to add the terms frequency across the columns"
   ]
  },
  {
   "cell_type": "code",
   "execution_count": 14,
   "id": "943c2845",
   "metadata": {},
   "outputs": [
    {
     "data": {
      "text/plain": [
       "0       16\n",
       "1        6\n",
       "2       82\n",
       "3       12\n",
       "4       30\n",
       "        ..\n",
       "9323     8\n",
       "9324    50\n",
       "9325    11\n",
       "9326     6\n",
       "9327    15\n",
       "Length: 9328, dtype: int64"
      ]
     },
     "execution_count": 14,
     "metadata": {},
     "output_type": "execute_result"
    }
   ],
   "source": [
    "termFreqs = df_matrix.sum(axis = 1) # adding in the column direction\n",
    "termFreqs"
   ]
  },
  {
   "cell_type": "markdown",
   "id": "6eec0848",
   "metadata": {},
   "source": [
    "<p>aa appears times 16 times, aargh appears 6 times, aaron appears 12 times and so on.</p>"
   ]
  },
  {
   "cell_type": "code",
   "execution_count": 15,
   "id": "ec308986",
   "metadata": {},
   "outputs": [
    {
     "data": {
      "image/png": "[encoded data removed]",
      "text/plain": [
       "<Figure size 432x288 with 1 Axes>"
      ]
     },
     "metadata": {},
     "output_type": "display_data"
    }
   ],
   "source": [
    "plt.plot(sorted(termFreqs, reverse=True))\n",
    "plt.show()"
   ]
  },
  {
   "cell_type": "markdown",
   "id": "98d3ef9d",
   "metadata": {},
   "source": [
    "#### Since we will be clustering documents, we'll need to take the transpose of this matrix so that our main data matrix is a document x term matrix. "
   ]
  },
  {
   "cell_type": "code",
   "execution_count": 16,
   "id": "15574f51",
   "metadata": {},
   "outputs": [
    {
     "data": {
      "text/html": [
       "<div>\n",
       "<style scoped>\n",
       "    .dataframe tbody tr th:only-of-type {\n",
       "        vertical-align: middle;\n",
       "    }\n",
       "\n",
       "    .dataframe tbody tr th {\n",
       "        vertical-align: top;\n",
       "    }\n",
       "\n",
       "    .dataframe thead th {\n",
       "        text-align: right;\n",
       "    }\n",
       "</style>\n",
       "<table border=\"1\" class=\"dataframe\">\n",
       "  <thead>\n",
       "    <tr style=\"text-align: right;\">\n",
       "      <th></th>\n",
       "      <th>0</th>\n",
       "      <th>1</th>\n",
       "      <th>2</th>\n",
       "      <th>3</th>\n",
       "      <th>4</th>\n",
       "      <th>5</th>\n",
       "      <th>6</th>\n",
       "      <th>7</th>\n",
       "      <th>8</th>\n",
       "      <th>9</th>\n",
       "      <th>...</th>\n",
       "      <th>9318</th>\n",
       "      <th>9319</th>\n",
       "      <th>9320</th>\n",
       "      <th>9321</th>\n",
       "      <th>9322</th>\n",
       "      <th>9323</th>\n",
       "      <th>9324</th>\n",
       "      <th>9325</th>\n",
       "      <th>9326</th>\n",
       "      <th>9327</th>\n",
       "    </tr>\n",
       "  </thead>\n",
       "  <tbody>\n",
       "    <tr>\n",
       "      <th>0</th>\n",
       "      <td>0</td>\n",
       "      <td>0</td>\n",
       "      <td>0</td>\n",
       "      <td>0</td>\n",
       "      <td>0</td>\n",
       "      <td>0</td>\n",
       "      <td>0</td>\n",
       "      <td>0</td>\n",
       "      <td>0</td>\n",
       "      <td>0</td>\n",
       "      <td>...</td>\n",
       "      <td>0</td>\n",
       "      <td>0</td>\n",
       "      <td>0</td>\n",
       "      <td>0</td>\n",
       "      <td>0</td>\n",
       "      <td>0</td>\n",
       "      <td>0</td>\n",
       "      <td>0</td>\n",
       "      <td>0</td>\n",
       "      <td>0</td>\n",
       "    </tr>\n",
       "    <tr>\n",
       "      <th>1</th>\n",
       "      <td>0</td>\n",
       "      <td>0</td>\n",
       "      <td>0</td>\n",
       "      <td>0</td>\n",
       "      <td>0</td>\n",
       "      <td>0</td>\n",
       "      <td>0</td>\n",
       "      <td>0</td>\n",
       "      <td>0</td>\n",
       "      <td>1</td>\n",
       "      <td>...</td>\n",
       "      <td>0</td>\n",
       "      <td>0</td>\n",
       "      <td>0</td>\n",
       "      <td>0</td>\n",
       "      <td>0</td>\n",
       "      <td>0</td>\n",
       "      <td>0</td>\n",
       "      <td>0</td>\n",
       "      <td>0</td>\n",
       "      <td>0</td>\n",
       "    </tr>\n",
       "    <tr>\n",
       "      <th>2</th>\n",
       "      <td>0</td>\n",
       "      <td>0</td>\n",
       "      <td>0</td>\n",
       "      <td>0</td>\n",
       "      <td>0</td>\n",
       "      <td>0</td>\n",
       "      <td>0</td>\n",
       "      <td>0</td>\n",
       "      <td>0</td>\n",
       "      <td>0</td>\n",
       "      <td>...</td>\n",
       "      <td>0</td>\n",
       "      <td>0</td>\n",
       "      <td>0</td>\n",
       "      <td>0</td>\n",
       "      <td>0</td>\n",
       "      <td>0</td>\n",
       "      <td>0</td>\n",
       "      <td>0</td>\n",
       "      <td>0</td>\n",
       "      <td>0</td>\n",
       "    </tr>\n",
       "    <tr>\n",
       "      <th>3</th>\n",
       "      <td>0</td>\n",
       "      <td>0</td>\n",
       "      <td>0</td>\n",
       "      <td>0</td>\n",
       "      <td>0</td>\n",
       "      <td>0</td>\n",
       "      <td>0</td>\n",
       "      <td>0</td>\n",
       "      <td>0</td>\n",
       "      <td>0</td>\n",
       "      <td>...</td>\n",
       "      <td>0</td>\n",
       "      <td>0</td>\n",
       "      <td>0</td>\n",
       "      <td>0</td>\n",
       "      <td>0</td>\n",
       "      <td>0</td>\n",
       "      <td>0</td>\n",
       "      <td>0</td>\n",
       "      <td>0</td>\n",
       "      <td>0</td>\n",
       "    </tr>\n",
       "    <tr>\n",
       "      <th>4</th>\n",
       "      <td>0</td>\n",
       "      <td>0</td>\n",
       "      <td>0</td>\n",
       "      <td>0</td>\n",
       "      <td>0</td>\n",
       "      <td>0</td>\n",
       "      <td>0</td>\n",
       "      <td>0</td>\n",
       "      <td>0</td>\n",
       "      <td>0</td>\n",
       "      <td>...</td>\n",
       "      <td>0</td>\n",
       "      <td>0</td>\n",
       "      <td>0</td>\n",
       "      <td>0</td>\n",
       "      <td>0</td>\n",
       "      <td>0</td>\n",
       "      <td>0</td>\n",
       "      <td>0</td>\n",
       "      <td>0</td>\n",
       "      <td>0</td>\n",
       "    </tr>\n",
       "  </tbody>\n",
       "</table>\n",
       "<p>5 rows × 9328 columns</p>\n",
       "</div>"
      ],
      "text/plain": [
       "   0     1     2     3     4     5     6     7     8     9     ...  9318  \\\n",
       "0     0     0     0     0     0     0     0     0     0     0  ...     0   \n",
       "1     0     0     0     0     0     0     0     0     0     1  ...     0   \n",
       "2     0     0     0     0     0     0     0     0     0     0  ...     0   \n",
       "3     0     0     0     0     0     0     0     0     0     0  ...     0   \n",
       "4     0     0     0     0     0     0     0     0     0     0  ...     0   \n",
       "\n",
       "   9319  9320  9321  9322  9323  9324  9325  9326  9327  \n",
       "0     0     0     0     0     0     0     0     0     0  \n",
       "1     0     0     0     0     0     0     0     0     0  \n",
       "2     0     0     0     0     0     0     0     0     0  \n",
       "3     0     0     0     0     0     0     0     0     0  \n",
       "4     0     0     0     0     0     0     0     0     0  \n",
       "\n",
       "[5 rows x 9328 columns]"
      ]
     },
     "execution_count": 16,
     "metadata": {},
     "output_type": "execute_result"
    }
   ],
   "source": [
    "DT = df_matrix.T\n",
    "DT.head()"
   ]
  },
  {
   "cell_type": "code",
   "execution_count": 17,
   "id": "b3b92c03",
   "metadata": {},
   "outputs": [
    {
     "data": {
      "text/plain": [
       "(2500, 9328)"
      ]
     },
     "execution_count": 17,
     "metadata": {},
     "output_type": "execute_result"
    }
   ],
   "source": [
    "DT.shape"
   ]
  },
  {
   "cell_type": "markdown",
   "id": "7bfbb17b",
   "metadata": {},
   "source": [
    "#### We now have a document term matrix"
   ]
  },
  {
   "cell_type": "code",
   "execution_count": 18,
   "id": "f5013692",
   "metadata": {},
   "outputs": [
    {
     "name": "stdout",
     "output_type": "stream",
     "text": [
      "There are 9328 terms.\n",
      "There are 2500 documents.\n"
     ]
    }
   ],
   "source": [
    "numTerms = df_matrix.shape[0]\n",
    "NDocs = df_matrix.shape[1]\n",
    "print('There are %s terms.' %numTerms)\n",
    "print('There are %s documents.' %NDocs)"
   ]
  },
  {
   "cell_type": "markdown",
   "id": "9741bf28",
   "metadata": {},
   "source": [
    "#### Though TFxIDF weights are not necessary for clustering, we will transform the data to TFxIDF weights"
   ]
  },
  {
   "cell_type": "code",
   "execution_count": 19,
   "id": "1c8a4533",
   "metadata": {},
   "outputs": [
    {
     "data": {
      "text/html": [
       "<div>\n",
       "<style scoped>\n",
       "    .dataframe tbody tr th:only-of-type {\n",
       "        vertical-align: middle;\n",
       "    }\n",
       "\n",
       "    .dataframe tbody tr th {\n",
       "        vertical-align: top;\n",
       "    }\n",
       "\n",
       "    .dataframe thead th {\n",
       "        text-align: right;\n",
       "    }\n",
       "</style>\n",
       "<table border=\"1\" class=\"dataframe\">\n",
       "  <thead>\n",
       "    <tr style=\"text-align: right;\">\n",
       "      <th></th>\n",
       "      <th>0</th>\n",
       "    </tr>\n",
       "  </thead>\n",
       "  <tbody>\n",
       "    <tr>\n",
       "      <th>0</th>\n",
       "      <td>10</td>\n",
       "    </tr>\n",
       "    <tr>\n",
       "      <th>1</th>\n",
       "      <td>6</td>\n",
       "    </tr>\n",
       "    <tr>\n",
       "      <th>2</th>\n",
       "      <td>22</td>\n",
       "    </tr>\n",
       "    <tr>\n",
       "      <th>3</th>\n",
       "      <td>9</td>\n",
       "    </tr>\n",
       "    <tr>\n",
       "      <th>4</th>\n",
       "      <td>13</td>\n",
       "    </tr>\n",
       "    <tr>\n",
       "      <th>...</th>\n",
       "      <td>...</td>\n",
       "    </tr>\n",
       "    <tr>\n",
       "      <th>9323</th>\n",
       "      <td>6</td>\n",
       "    </tr>\n",
       "    <tr>\n",
       "      <th>9324</th>\n",
       "      <td>5</td>\n",
       "    </tr>\n",
       "    <tr>\n",
       "      <th>9325</th>\n",
       "      <td>3</td>\n",
       "    </tr>\n",
       "    <tr>\n",
       "      <th>9326</th>\n",
       "      <td>3</td>\n",
       "    </tr>\n",
       "    <tr>\n",
       "      <th>9327</th>\n",
       "      <td>4</td>\n",
       "    </tr>\n",
       "  </tbody>\n",
       "</table>\n",
       "<p>9328 rows × 1 columns</p>\n",
       "</div>"
      ],
      "text/plain": [
       "       0\n",
       "0     10\n",
       "1      6\n",
       "2     22\n",
       "3      9\n",
       "4     13\n",
       "...   ..\n",
       "9323   6\n",
       "9324   5\n",
       "9325   3\n",
       "9326   3\n",
       "9327   4\n",
       "\n",
       "[9328 rows x 1 columns]"
      ]
     },
     "execution_count": 19,
     "metadata": {},
     "output_type": "execute_result"
    }
   ],
   "source": [
    "matrix_DF = pd.DataFrame([(df_matrix != 0).sum(1)]).T\n",
    "matrix_DF"
   ]
  },
  {
   "cell_type": "code",
   "execution_count": 20,
   "id": "6b9591a1",
   "metadata": {},
   "outputs": [
    {
     "name": "stdout",
     "output_type": "stream",
     "text": [
      "[[2500. 2500. 2500. ... 2500. 2500. 2500.]\n",
      " [2500. 2500. 2500. ... 2500. 2500. 2500.]\n",
      " [2500. 2500. 2500. ... 2500. 2500. 2500.]\n",
      " ...\n",
      " [2500. 2500. 2500. ... 2500. 2500. 2500.]\n",
      " [2500. 2500. 2500. ... 2500. 2500. 2500.]\n",
      " [2500. 2500. 2500. ... 2500. 2500. 2500.]]\n"
     ]
    }
   ],
   "source": [
    "# create a matrix with all entries = NDocs\n",
    "NMatrix=np.ones(np.shape(df_matrix), dtype = float) * NDocs\n",
    "np.set_printoptions(precision = 2,suppress = True,linewidth = 120)\n",
    "print(NMatrix)"
   ]
  },
  {
   "cell_type": "code",
   "execution_count": 21,
   "id": "b43db2a3",
   "metadata": {},
   "outputs": [
    {
     "name": "stdout",
     "output_type": "stream",
     "text": [
      "[[7.97 7.97 7.97 ... 7.97 7.97 7.97]\n",
      " [8.7  8.7  8.7  ... 8.7  8.7  8.7 ]\n",
      " [6.83 6.83 6.83 ... 6.83 6.83 6.83]\n",
      " ...\n",
      " [9.7  9.7  9.7  ... 9.7  9.7  9.7 ]\n",
      " [9.7  9.7  9.7  ... 9.7  9.7  9.7 ]\n",
      " [9.29 9.29 9.29 ... 9.29 9.29 9.29]]\n"
     ]
    }
   ],
   "source": [
    "# Convert each entry into IDF values\n",
    "# IDF is the log of the inverse of document frequency\n",
    "# Note that IDF is only a function of the term, so all columns will be identical.\n",
    "IDF = np.log2(np.divide(NMatrix, np.array(matrix_DF)))\n",
    "\n",
    "np.set_printoptions(precision=2,suppress=True)\n",
    "print(IDF)"
   ]
  },
  {
   "cell_type": "code",
   "execution_count": 22,
   "id": "bbc8357a",
   "metadata": {},
   "outputs": [],
   "source": [
    "#### Finally computer the TF x IDF values for each document - term entry\n",
    "TD_tfidf = df_matrix * IDF"
   ]
  },
  {
   "cell_type": "code",
   "execution_count": 23,
   "id": "2cd91baf",
   "metadata": {},
   "outputs": [
    {
     "data": {
      "text/html": [
       "<div>\n",
       "<style scoped>\n",
       "    .dataframe tbody tr th:only-of-type {\n",
       "        vertical-align: middle;\n",
       "    }\n",
       "\n",
       "    .dataframe tbody tr th {\n",
       "        vertical-align: top;\n",
       "    }\n",
       "\n",
       "    .dataframe thead th {\n",
       "        text-align: right;\n",
       "    }\n",
       "</style>\n",
       "<table border=\"1\" class=\"dataframe\">\n",
       "  <thead>\n",
       "    <tr style=\"text-align: right;\">\n",
       "      <th></th>\n",
       "      <th>0</th>\n",
       "      <th>1</th>\n",
       "      <th>2</th>\n",
       "      <th>3</th>\n",
       "      <th>4</th>\n",
       "      <th>5</th>\n",
       "      <th>6</th>\n",
       "      <th>7</th>\n",
       "      <th>8</th>\n",
       "      <th>9</th>\n",
       "      <th>...</th>\n",
       "      <th>2490</th>\n",
       "      <th>2491</th>\n",
       "      <th>2492</th>\n",
       "      <th>2493</th>\n",
       "      <th>2494</th>\n",
       "      <th>2495</th>\n",
       "      <th>2496</th>\n",
       "      <th>2497</th>\n",
       "      <th>2498</th>\n",
       "      <th>2499</th>\n",
       "    </tr>\n",
       "  </thead>\n",
       "  <tbody>\n",
       "    <tr>\n",
       "      <th>0</th>\n",
       "      <td>0.0</td>\n",
       "      <td>0.0</td>\n",
       "      <td>0.0</td>\n",
       "      <td>0.0</td>\n",
       "      <td>0.0</td>\n",
       "      <td>0.0</td>\n",
       "      <td>0.0</td>\n",
       "      <td>0.0</td>\n",
       "      <td>0.0</td>\n",
       "      <td>0.0</td>\n",
       "      <td>...</td>\n",
       "      <td>0.0</td>\n",
       "      <td>0.0</td>\n",
       "      <td>0.0</td>\n",
       "      <td>0.0</td>\n",
       "      <td>0.0</td>\n",
       "      <td>0.0</td>\n",
       "      <td>0.0</td>\n",
       "      <td>0.0</td>\n",
       "      <td>0.0</td>\n",
       "      <td>0.0</td>\n",
       "    </tr>\n",
       "    <tr>\n",
       "      <th>1</th>\n",
       "      <td>0.0</td>\n",
       "      <td>0.0</td>\n",
       "      <td>0.0</td>\n",
       "      <td>0.0</td>\n",
       "      <td>0.0</td>\n",
       "      <td>0.0</td>\n",
       "      <td>0.0</td>\n",
       "      <td>0.0</td>\n",
       "      <td>0.0</td>\n",
       "      <td>0.0</td>\n",
       "      <td>...</td>\n",
       "      <td>0.0</td>\n",
       "      <td>0.0</td>\n",
       "      <td>0.0</td>\n",
       "      <td>0.0</td>\n",
       "      <td>0.0</td>\n",
       "      <td>0.0</td>\n",
       "      <td>0.0</td>\n",
       "      <td>0.0</td>\n",
       "      <td>0.0</td>\n",
       "      <td>0.0</td>\n",
       "    </tr>\n",
       "    <tr>\n",
       "      <th>2</th>\n",
       "      <td>0.0</td>\n",
       "      <td>0.0</td>\n",
       "      <td>0.0</td>\n",
       "      <td>0.0</td>\n",
       "      <td>0.0</td>\n",
       "      <td>0.0</td>\n",
       "      <td>0.0</td>\n",
       "      <td>0.0</td>\n",
       "      <td>0.0</td>\n",
       "      <td>0.0</td>\n",
       "      <td>...</td>\n",
       "      <td>0.0</td>\n",
       "      <td>0.0</td>\n",
       "      <td>0.0</td>\n",
       "      <td>0.0</td>\n",
       "      <td>0.0</td>\n",
       "      <td>0.0</td>\n",
       "      <td>0.0</td>\n",
       "      <td>0.0</td>\n",
       "      <td>0.0</td>\n",
       "      <td>0.0</td>\n",
       "    </tr>\n",
       "    <tr>\n",
       "      <th>3</th>\n",
       "      <td>0.0</td>\n",
       "      <td>0.0</td>\n",
       "      <td>0.0</td>\n",
       "      <td>0.0</td>\n",
       "      <td>0.0</td>\n",
       "      <td>0.0</td>\n",
       "      <td>0.0</td>\n",
       "      <td>0.0</td>\n",
       "      <td>0.0</td>\n",
       "      <td>0.0</td>\n",
       "      <td>...</td>\n",
       "      <td>0.0</td>\n",
       "      <td>0.0</td>\n",
       "      <td>0.0</td>\n",
       "      <td>0.0</td>\n",
       "      <td>0.0</td>\n",
       "      <td>0.0</td>\n",
       "      <td>0.0</td>\n",
       "      <td>0.0</td>\n",
       "      <td>0.0</td>\n",
       "      <td>0.0</td>\n",
       "    </tr>\n",
       "    <tr>\n",
       "      <th>4</th>\n",
       "      <td>0.0</td>\n",
       "      <td>0.0</td>\n",
       "      <td>0.0</td>\n",
       "      <td>0.0</td>\n",
       "      <td>0.0</td>\n",
       "      <td>0.0</td>\n",
       "      <td>0.0</td>\n",
       "      <td>0.0</td>\n",
       "      <td>0.0</td>\n",
       "      <td>0.0</td>\n",
       "      <td>...</td>\n",
       "      <td>0.0</td>\n",
       "      <td>0.0</td>\n",
       "      <td>0.0</td>\n",
       "      <td>0.0</td>\n",
       "      <td>0.0</td>\n",
       "      <td>0.0</td>\n",
       "      <td>0.0</td>\n",
       "      <td>0.0</td>\n",
       "      <td>0.0</td>\n",
       "      <td>0.0</td>\n",
       "    </tr>\n",
       "    <tr>\n",
       "      <th>...</th>\n",
       "      <td>...</td>\n",
       "      <td>...</td>\n",
       "      <td>...</td>\n",
       "      <td>...</td>\n",
       "      <td>...</td>\n",
       "      <td>...</td>\n",
       "      <td>...</td>\n",
       "      <td>...</td>\n",
       "      <td>...</td>\n",
       "      <td>...</td>\n",
       "      <td>...</td>\n",
       "      <td>...</td>\n",
       "      <td>...</td>\n",
       "      <td>...</td>\n",
       "      <td>...</td>\n",
       "      <td>...</td>\n",
       "      <td>...</td>\n",
       "      <td>...</td>\n",
       "      <td>...</td>\n",
       "      <td>...</td>\n",
       "      <td>...</td>\n",
       "    </tr>\n",
       "    <tr>\n",
       "      <th>9323</th>\n",
       "      <td>0.0</td>\n",
       "      <td>0.0</td>\n",
       "      <td>0.0</td>\n",
       "      <td>0.0</td>\n",
       "      <td>0.0</td>\n",
       "      <td>0.0</td>\n",
       "      <td>0.0</td>\n",
       "      <td>0.0</td>\n",
       "      <td>0.0</td>\n",
       "      <td>0.0</td>\n",
       "      <td>...</td>\n",
       "      <td>0.0</td>\n",
       "      <td>0.0</td>\n",
       "      <td>0.0</td>\n",
       "      <td>0.0</td>\n",
       "      <td>0.0</td>\n",
       "      <td>0.0</td>\n",
       "      <td>0.0</td>\n",
       "      <td>0.0</td>\n",
       "      <td>0.0</td>\n",
       "      <td>0.0</td>\n",
       "    </tr>\n",
       "    <tr>\n",
       "      <th>9324</th>\n",
       "      <td>0.0</td>\n",
       "      <td>0.0</td>\n",
       "      <td>0.0</td>\n",
       "      <td>0.0</td>\n",
       "      <td>0.0</td>\n",
       "      <td>0.0</td>\n",
       "      <td>0.0</td>\n",
       "      <td>0.0</td>\n",
       "      <td>0.0</td>\n",
       "      <td>0.0</td>\n",
       "      <td>...</td>\n",
       "      <td>0.0</td>\n",
       "      <td>0.0</td>\n",
       "      <td>0.0</td>\n",
       "      <td>0.0</td>\n",
       "      <td>0.0</td>\n",
       "      <td>0.0</td>\n",
       "      <td>0.0</td>\n",
       "      <td>0.0</td>\n",
       "      <td>0.0</td>\n",
       "      <td>0.0</td>\n",
       "    </tr>\n",
       "    <tr>\n",
       "      <th>9325</th>\n",
       "      <td>0.0</td>\n",
       "      <td>0.0</td>\n",
       "      <td>0.0</td>\n",
       "      <td>0.0</td>\n",
       "      <td>0.0</td>\n",
       "      <td>0.0</td>\n",
       "      <td>0.0</td>\n",
       "      <td>0.0</td>\n",
       "      <td>0.0</td>\n",
       "      <td>0.0</td>\n",
       "      <td>...</td>\n",
       "      <td>0.0</td>\n",
       "      <td>0.0</td>\n",
       "      <td>0.0</td>\n",
       "      <td>0.0</td>\n",
       "      <td>0.0</td>\n",
       "      <td>0.0</td>\n",
       "      <td>0.0</td>\n",
       "      <td>0.0</td>\n",
       "      <td>0.0</td>\n",
       "      <td>0.0</td>\n",
       "    </tr>\n",
       "    <tr>\n",
       "      <th>9326</th>\n",
       "      <td>0.0</td>\n",
       "      <td>0.0</td>\n",
       "      <td>0.0</td>\n",
       "      <td>0.0</td>\n",
       "      <td>0.0</td>\n",
       "      <td>0.0</td>\n",
       "      <td>0.0</td>\n",
       "      <td>0.0</td>\n",
       "      <td>0.0</td>\n",
       "      <td>0.0</td>\n",
       "      <td>...</td>\n",
       "      <td>0.0</td>\n",
       "      <td>0.0</td>\n",
       "      <td>0.0</td>\n",
       "      <td>0.0</td>\n",
       "      <td>0.0</td>\n",
       "      <td>0.0</td>\n",
       "      <td>0.0</td>\n",
       "      <td>0.0</td>\n",
       "      <td>0.0</td>\n",
       "      <td>0.0</td>\n",
       "    </tr>\n",
       "    <tr>\n",
       "      <th>9327</th>\n",
       "      <td>0.0</td>\n",
       "      <td>0.0</td>\n",
       "      <td>0.0</td>\n",
       "      <td>0.0</td>\n",
       "      <td>0.0</td>\n",
       "      <td>0.0</td>\n",
       "      <td>0.0</td>\n",
       "      <td>0.0</td>\n",
       "      <td>0.0</td>\n",
       "      <td>0.0</td>\n",
       "      <td>...</td>\n",
       "      <td>0.0</td>\n",
       "      <td>0.0</td>\n",
       "      <td>0.0</td>\n",
       "      <td>0.0</td>\n",
       "      <td>0.0</td>\n",
       "      <td>0.0</td>\n",
       "      <td>0.0</td>\n",
       "      <td>0.0</td>\n",
       "      <td>0.0</td>\n",
       "      <td>0.0</td>\n",
       "    </tr>\n",
       "  </tbody>\n",
       "</table>\n",
       "<p>9328 rows × 2500 columns</p>\n",
       "</div>"
      ],
      "text/plain": [
       "      0     1     2     3     4     5     6     7     8     9     ...  2490  \\\n",
       "0      0.0   0.0   0.0   0.0   0.0   0.0   0.0   0.0   0.0   0.0  ...   0.0   \n",
       "1      0.0   0.0   0.0   0.0   0.0   0.0   0.0   0.0   0.0   0.0  ...   0.0   \n",
       "2      0.0   0.0   0.0   0.0   0.0   0.0   0.0   0.0   0.0   0.0  ...   0.0   \n",
       "3      0.0   0.0   0.0   0.0   0.0   0.0   0.0   0.0   0.0   0.0  ...   0.0   \n",
       "4      0.0   0.0   0.0   0.0   0.0   0.0   0.0   0.0   0.0   0.0  ...   0.0   \n",
       "...    ...   ...   ...   ...   ...   ...   ...   ...   ...   ...  ...   ...   \n",
       "9323   0.0   0.0   0.0   0.0   0.0   0.0   0.0   0.0   0.0   0.0  ...   0.0   \n",
       "9324   0.0   0.0   0.0   0.0   0.0   0.0   0.0   0.0   0.0   0.0  ...   0.0   \n",
       "9325   0.0   0.0   0.0   0.0   0.0   0.0   0.0   0.0   0.0   0.0  ...   0.0   \n",
       "9326   0.0   0.0   0.0   0.0   0.0   0.0   0.0   0.0   0.0   0.0  ...   0.0   \n",
       "9327   0.0   0.0   0.0   0.0   0.0   0.0   0.0   0.0   0.0   0.0  ...   0.0   \n",
       "\n",
       "      2491  2492  2493  2494  2495  2496  2497  2498  2499  \n",
       "0      0.0   0.0   0.0   0.0   0.0   0.0   0.0   0.0   0.0  \n",
       "1      0.0   0.0   0.0   0.0   0.0   0.0   0.0   0.0   0.0  \n",
       "2      0.0   0.0   0.0   0.0   0.0   0.0   0.0   0.0   0.0  \n",
       "3      0.0   0.0   0.0   0.0   0.0   0.0   0.0   0.0   0.0  \n",
       "4      0.0   0.0   0.0   0.0   0.0   0.0   0.0   0.0   0.0  \n",
       "...    ...   ...   ...   ...   ...   ...   ...   ...   ...  \n",
       "9323   0.0   0.0   0.0   0.0   0.0   0.0   0.0   0.0   0.0  \n",
       "9324   0.0   0.0   0.0   0.0   0.0   0.0   0.0   0.0   0.0  \n",
       "9325   0.0   0.0   0.0   0.0   0.0   0.0   0.0   0.0   0.0  \n",
       "9326   0.0   0.0   0.0   0.0   0.0   0.0   0.0   0.0   0.0  \n",
       "9327   0.0   0.0   0.0   0.0   0.0   0.0   0.0   0.0   0.0  \n",
       "\n",
       "[9328 rows x 2500 columns]"
      ]
     },
     "execution_count": 23,
     "metadata": {},
     "output_type": "execute_result"
    }
   ],
   "source": [
    "pd.set_option(\"display.precision\", 2)\n",
    "\n",
    "TD_tfidf"
   ]
  },
  {
   "cell_type": "code",
   "execution_count": 24,
   "id": "e01b9e4d",
   "metadata": {},
   "outputs": [
    {
     "data": {
      "text/plain": [
       "pandas.core.frame.DataFrame"
      ]
     },
     "execution_count": 24,
     "metadata": {},
     "output_type": "execute_result"
    }
   ],
   "source": [
    "type(TD_tfidf)"
   ]
  },
  {
   "cell_type": "markdown",
   "id": "0129d429",
   "metadata": {},
   "source": [
    "#### We also need to transpose the TD_ftidf matrix "
   ]
  },
  {
   "cell_type": "code",
   "execution_count": 100,
   "id": "0cb8760a",
   "metadata": {},
   "outputs": [
    {
     "data": {
      "text/plain": [
       "(2500, 9328)"
      ]
     },
     "execution_count": 100,
     "metadata": {},
     "output_type": "execute_result"
    }
   ],
   "source": [
    "TD_tfidf_tranposed = TD_tfidf.T\n",
    "TD_tfidf_tranposed.shape"
   ]
  },
  {
   "cell_type": "markdown",
   "id": "b8ce9b63",
   "metadata": {},
   "source": [
    "#### create a 20%-80% randomized split of the data for later use."
   ]
  },
  {
   "cell_type": "code",
   "execution_count": 26,
   "id": "8b63afc9",
   "metadata": {},
   "outputs": [],
   "source": [
    "# train_test_split shuffles the data and splits it into two split for us into 80% training and 20% percent testing.\n",
    "vs_train, vs_test, vs_target_train, vs_target_test = train_test_split(TD_tfidf_tranposed, df_classes, test_size = 0.2, random_state = 33)"
   ]
  },
  {
   "cell_type": "markdown",
   "id": "24789adf",
   "metadata": {},
   "source": [
    "#### let's look at the shapes of the training and test data matrices."
   ]
  },
  {
   "cell_type": "code",
   "execution_count": 27,
   "id": "f21a2b5a",
   "metadata": {},
   "outputs": [
    {
     "data": {
      "text/plain": [
       "(2000, 9328)"
      ]
     },
     "execution_count": 27,
     "metadata": {},
     "output_type": "execute_result"
    }
   ],
   "source": [
    "\n",
    "vs_train.shape"
   ]
  },
  {
   "cell_type": "code",
   "execution_count": 28,
   "id": "cc972be1",
   "metadata": {},
   "outputs": [
    {
     "data": {
      "text/plain": [
       "(500, 9328)"
      ]
     },
     "execution_count": 28,
     "metadata": {},
     "output_type": "execute_result"
    }
   ],
   "source": [
    "vs_test.shape"
   ]
  },
  {
   "cell_type": "code",
   "execution_count": 29,
   "id": "d2a0b9e9",
   "metadata": {},
   "outputs": [
    {
     "data": {
      "text/plain": [
       "(2000, 1)"
      ]
     },
     "execution_count": 29,
     "metadata": {},
     "output_type": "execute_result"
    }
   ],
   "source": [
    "vs_target_train.shape"
   ]
  },
  {
   "cell_type": "code",
   "execution_count": 30,
   "id": "be6fc96a",
   "metadata": {},
   "outputs": [
    {
     "data": {
      "text/plain": [
       "(500, 1)"
      ]
     },
     "execution_count": 30,
     "metadata": {},
     "output_type": "execute_result"
    }
   ],
   "source": [
    "vs_target_test.shape"
   ]
  },
  {
   "cell_type": "code",
   "execution_count": 31,
   "id": "70899d9c",
   "metadata": {},
   "outputs": [
    {
     "data": {
      "text/html": [
       "<div>\n",
       "<style scoped>\n",
       "    .dataframe tbody tr th:only-of-type {\n",
       "        vertical-align: middle;\n",
       "    }\n",
       "\n",
       "    .dataframe tbody tr th {\n",
       "        vertical-align: top;\n",
       "    }\n",
       "\n",
       "    .dataframe thead th {\n",
       "        text-align: right;\n",
       "    }\n",
       "</style>\n",
       "<table border=\"1\" class=\"dataframe\">\n",
       "  <thead>\n",
       "    <tr style=\"text-align: right;\">\n",
       "      <th></th>\n",
       "      <th>0</th>\n",
       "      <th>1</th>\n",
       "      <th>2</th>\n",
       "      <th>3</th>\n",
       "      <th>4</th>\n",
       "      <th>5</th>\n",
       "      <th>6</th>\n",
       "      <th>7</th>\n",
       "      <th>8</th>\n",
       "      <th>9</th>\n",
       "      <th>...</th>\n",
       "      <th>9318</th>\n",
       "      <th>9319</th>\n",
       "      <th>9320</th>\n",
       "      <th>9321</th>\n",
       "      <th>9322</th>\n",
       "      <th>9323</th>\n",
       "      <th>9324</th>\n",
       "      <th>9325</th>\n",
       "      <th>9326</th>\n",
       "      <th>9327</th>\n",
       "    </tr>\n",
       "  </thead>\n",
       "  <tbody>\n",
       "    <tr>\n",
       "      <th>1289</th>\n",
       "      <td>0.0</td>\n",
       "      <td>0.0</td>\n",
       "      <td>0.0</td>\n",
       "      <td>0.0</td>\n",
       "      <td>0.0</td>\n",
       "      <td>0.0</td>\n",
       "      <td>0.0</td>\n",
       "      <td>0.0</td>\n",
       "      <td>0.0</td>\n",
       "      <td>0.0</td>\n",
       "      <td>...</td>\n",
       "      <td>0.0</td>\n",
       "      <td>0.0</td>\n",
       "      <td>0.0</td>\n",
       "      <td>0.0</td>\n",
       "      <td>0.0</td>\n",
       "      <td>0.0</td>\n",
       "      <td>0.0</td>\n",
       "      <td>0.0</td>\n",
       "      <td>0.0</td>\n",
       "      <td>0.0</td>\n",
       "    </tr>\n",
       "    <tr>\n",
       "      <th>596</th>\n",
       "      <td>0.0</td>\n",
       "      <td>0.0</td>\n",
       "      <td>0.0</td>\n",
       "      <td>0.0</td>\n",
       "      <td>0.0</td>\n",
       "      <td>0.0</td>\n",
       "      <td>0.0</td>\n",
       "      <td>0.0</td>\n",
       "      <td>0.0</td>\n",
       "      <td>0.0</td>\n",
       "      <td>...</td>\n",
       "      <td>0.0</td>\n",
       "      <td>0.0</td>\n",
       "      <td>0.0</td>\n",
       "      <td>0.0</td>\n",
       "      <td>0.0</td>\n",
       "      <td>0.0</td>\n",
       "      <td>0.0</td>\n",
       "      <td>0.0</td>\n",
       "      <td>0.0</td>\n",
       "      <td>0.0</td>\n",
       "    </tr>\n",
       "    <tr>\n",
       "      <th>1935</th>\n",
       "      <td>0.0</td>\n",
       "      <td>0.0</td>\n",
       "      <td>0.0</td>\n",
       "      <td>0.0</td>\n",
       "      <td>0.0</td>\n",
       "      <td>0.0</td>\n",
       "      <td>0.0</td>\n",
       "      <td>0.0</td>\n",
       "      <td>0.0</td>\n",
       "      <td>0.0</td>\n",
       "      <td>...</td>\n",
       "      <td>0.0</td>\n",
       "      <td>0.0</td>\n",
       "      <td>0.0</td>\n",
       "      <td>0.0</td>\n",
       "      <td>0.0</td>\n",
       "      <td>0.0</td>\n",
       "      <td>0.0</td>\n",
       "      <td>0.0</td>\n",
       "      <td>0.0</td>\n",
       "      <td>0.0</td>\n",
       "    </tr>\n",
       "    <tr>\n",
       "      <th>2436</th>\n",
       "      <td>0.0</td>\n",
       "      <td>0.0</td>\n",
       "      <td>0.0</td>\n",
       "      <td>0.0</td>\n",
       "      <td>0.0</td>\n",
       "      <td>0.0</td>\n",
       "      <td>0.0</td>\n",
       "      <td>0.0</td>\n",
       "      <td>0.0</td>\n",
       "      <td>0.0</td>\n",
       "      <td>...</td>\n",
       "      <td>0.0</td>\n",
       "      <td>0.0</td>\n",
       "      <td>0.0</td>\n",
       "      <td>0.0</td>\n",
       "      <td>0.0</td>\n",
       "      <td>0.0</td>\n",
       "      <td>0.0</td>\n",
       "      <td>0.0</td>\n",
       "      <td>0.0</td>\n",
       "      <td>0.0</td>\n",
       "    </tr>\n",
       "    <tr>\n",
       "      <th>2349</th>\n",
       "      <td>0.0</td>\n",
       "      <td>0.0</td>\n",
       "      <td>0.0</td>\n",
       "      <td>0.0</td>\n",
       "      <td>0.0</td>\n",
       "      <td>0.0</td>\n",
       "      <td>0.0</td>\n",
       "      <td>0.0</td>\n",
       "      <td>0.0</td>\n",
       "      <td>0.0</td>\n",
       "      <td>...</td>\n",
       "      <td>0.0</td>\n",
       "      <td>0.0</td>\n",
       "      <td>0.0</td>\n",
       "      <td>0.0</td>\n",
       "      <td>0.0</td>\n",
       "      <td>0.0</td>\n",
       "      <td>0.0</td>\n",
       "      <td>0.0</td>\n",
       "      <td>0.0</td>\n",
       "      <td>0.0</td>\n",
       "    </tr>\n",
       "  </tbody>\n",
       "</table>\n",
       "<p>5 rows × 9328 columns</p>\n",
       "</div>"
      ],
      "text/plain": [
       "      0     1     2     3     4     5     6     7     8     9     ...  9318  \\\n",
       "1289   0.0   0.0   0.0   0.0   0.0   0.0   0.0   0.0   0.0   0.0  ...   0.0   \n",
       "596    0.0   0.0   0.0   0.0   0.0   0.0   0.0   0.0   0.0   0.0  ...   0.0   \n",
       "1935   0.0   0.0   0.0   0.0   0.0   0.0   0.0   0.0   0.0   0.0  ...   0.0   \n",
       "2436   0.0   0.0   0.0   0.0   0.0   0.0   0.0   0.0   0.0   0.0  ...   0.0   \n",
       "2349   0.0   0.0   0.0   0.0   0.0   0.0   0.0   0.0   0.0   0.0  ...   0.0   \n",
       "\n",
       "      9319  9320  9321  9322  9323  9324  9325  9326  9327  \n",
       "1289   0.0   0.0   0.0   0.0   0.0   0.0   0.0   0.0   0.0  \n",
       "596    0.0   0.0   0.0   0.0   0.0   0.0   0.0   0.0   0.0  \n",
       "1935   0.0   0.0   0.0   0.0   0.0   0.0   0.0   0.0   0.0  \n",
       "2436   0.0   0.0   0.0   0.0   0.0   0.0   0.0   0.0   0.0  \n",
       "2349   0.0   0.0   0.0   0.0   0.0   0.0   0.0   0.0   0.0  \n",
       "\n",
       "[5 rows x 9328 columns]"
      ]
     },
     "execution_count": 31,
     "metadata": {},
     "output_type": "execute_result"
    }
   ],
   "source": [
    "vs_train.head()"
   ]
  },
  {
   "cell_type": "code",
   "execution_count": 32,
   "id": "81bb0e6a",
   "metadata": {},
   "outputs": [
    {
     "data": {
      "text/html": [
       "<div>\n",
       "<style scoped>\n",
       "    .dataframe tbody tr th:only-of-type {\n",
       "        vertical-align: middle;\n",
       "    }\n",
       "\n",
       "    .dataframe tbody tr th {\n",
       "        vertical-align: top;\n",
       "    }\n",
       "\n",
       "    .dataframe thead th {\n",
       "        text-align: right;\n",
       "    }\n",
       "</style>\n",
       "<table border=\"1\" class=\"dataframe\">\n",
       "  <thead>\n",
       "    <tr style=\"text-align: right;\">\n",
       "      <th></th>\n",
       "      <th>0</th>\n",
       "      <th>1</th>\n",
       "      <th>2</th>\n",
       "      <th>3</th>\n",
       "      <th>4</th>\n",
       "      <th>5</th>\n",
       "      <th>6</th>\n",
       "      <th>7</th>\n",
       "      <th>8</th>\n",
       "      <th>9</th>\n",
       "      <th>...</th>\n",
       "      <th>9318</th>\n",
       "      <th>9319</th>\n",
       "      <th>9320</th>\n",
       "      <th>9321</th>\n",
       "      <th>9322</th>\n",
       "      <th>9323</th>\n",
       "      <th>9324</th>\n",
       "      <th>9325</th>\n",
       "      <th>9326</th>\n",
       "      <th>9327</th>\n",
       "    </tr>\n",
       "  </thead>\n",
       "  <tbody>\n",
       "    <tr>\n",
       "      <th>1590</th>\n",
       "      <td>0.0</td>\n",
       "      <td>0.0</td>\n",
       "      <td>0.0</td>\n",
       "      <td>0.0</td>\n",
       "      <td>0.0</td>\n",
       "      <td>0.0</td>\n",
       "      <td>0.0</td>\n",
       "      <td>0.0</td>\n",
       "      <td>0.0</td>\n",
       "      <td>0.0</td>\n",
       "      <td>...</td>\n",
       "      <td>0.0</td>\n",
       "      <td>0.0</td>\n",
       "      <td>0.0</td>\n",
       "      <td>0.0</td>\n",
       "      <td>0.0</td>\n",
       "      <td>0.0</td>\n",
       "      <td>0.0</td>\n",
       "      <td>0.0</td>\n",
       "      <td>0.0</td>\n",
       "      <td>0.0</td>\n",
       "    </tr>\n",
       "    <tr>\n",
       "      <th>277</th>\n",
       "      <td>0.0</td>\n",
       "      <td>0.0</td>\n",
       "      <td>0.0</td>\n",
       "      <td>0.0</td>\n",
       "      <td>0.0</td>\n",
       "      <td>0.0</td>\n",
       "      <td>0.0</td>\n",
       "      <td>0.0</td>\n",
       "      <td>0.0</td>\n",
       "      <td>0.0</td>\n",
       "      <td>...</td>\n",
       "      <td>0.0</td>\n",
       "      <td>0.0</td>\n",
       "      <td>0.0</td>\n",
       "      <td>0.0</td>\n",
       "      <td>0.0</td>\n",
       "      <td>0.0</td>\n",
       "      <td>0.0</td>\n",
       "      <td>0.0</td>\n",
       "      <td>0.0</td>\n",
       "      <td>0.0</td>\n",
       "    </tr>\n",
       "    <tr>\n",
       "      <th>2297</th>\n",
       "      <td>0.0</td>\n",
       "      <td>0.0</td>\n",
       "      <td>0.0</td>\n",
       "      <td>0.0</td>\n",
       "      <td>0.0</td>\n",
       "      <td>0.0</td>\n",
       "      <td>0.0</td>\n",
       "      <td>0.0</td>\n",
       "      <td>0.0</td>\n",
       "      <td>0.0</td>\n",
       "      <td>...</td>\n",
       "      <td>0.0</td>\n",
       "      <td>0.0</td>\n",
       "      <td>0.0</td>\n",
       "      <td>0.0</td>\n",
       "      <td>0.0</td>\n",
       "      <td>0.0</td>\n",
       "      <td>0.0</td>\n",
       "      <td>0.0</td>\n",
       "      <td>0.0</td>\n",
       "      <td>0.0</td>\n",
       "    </tr>\n",
       "    <tr>\n",
       "      <th>1739</th>\n",
       "      <td>0.0</td>\n",
       "      <td>0.0</td>\n",
       "      <td>0.0</td>\n",
       "      <td>0.0</td>\n",
       "      <td>0.0</td>\n",
       "      <td>0.0</td>\n",
       "      <td>0.0</td>\n",
       "      <td>0.0</td>\n",
       "      <td>0.0</td>\n",
       "      <td>0.0</td>\n",
       "      <td>...</td>\n",
       "      <td>0.0</td>\n",
       "      <td>0.0</td>\n",
       "      <td>0.0</td>\n",
       "      <td>0.0</td>\n",
       "      <td>0.0</td>\n",
       "      <td>0.0</td>\n",
       "      <td>0.0</td>\n",
       "      <td>0.0</td>\n",
       "      <td>0.0</td>\n",
       "      <td>0.0</td>\n",
       "    </tr>\n",
       "    <tr>\n",
       "      <th>511</th>\n",
       "      <td>0.0</td>\n",
       "      <td>0.0</td>\n",
       "      <td>0.0</td>\n",
       "      <td>0.0</td>\n",
       "      <td>0.0</td>\n",
       "      <td>0.0</td>\n",
       "      <td>0.0</td>\n",
       "      <td>0.0</td>\n",
       "      <td>0.0</td>\n",
       "      <td>0.0</td>\n",
       "      <td>...</td>\n",
       "      <td>0.0</td>\n",
       "      <td>0.0</td>\n",
       "      <td>0.0</td>\n",
       "      <td>0.0</td>\n",
       "      <td>0.0</td>\n",
       "      <td>0.0</td>\n",
       "      <td>0.0</td>\n",
       "      <td>0.0</td>\n",
       "      <td>0.0</td>\n",
       "      <td>0.0</td>\n",
       "    </tr>\n",
       "  </tbody>\n",
       "</table>\n",
       "<p>5 rows × 9328 columns</p>\n",
       "</div>"
      ],
      "text/plain": [
       "      0     1     2     3     4     5     6     7     8     9     ...  9318  \\\n",
       "1590   0.0   0.0   0.0   0.0   0.0   0.0   0.0   0.0   0.0   0.0  ...   0.0   \n",
       "277    0.0   0.0   0.0   0.0   0.0   0.0   0.0   0.0   0.0   0.0  ...   0.0   \n",
       "2297   0.0   0.0   0.0   0.0   0.0   0.0   0.0   0.0   0.0   0.0  ...   0.0   \n",
       "1739   0.0   0.0   0.0   0.0   0.0   0.0   0.0   0.0   0.0   0.0  ...   0.0   \n",
       "511    0.0   0.0   0.0   0.0   0.0   0.0   0.0   0.0   0.0   0.0  ...   0.0   \n",
       "\n",
       "      9319  9320  9321  9322  9323  9324  9325  9326  9327  \n",
       "1590   0.0   0.0   0.0   0.0   0.0   0.0   0.0   0.0   0.0  \n",
       "277    0.0   0.0   0.0   0.0   0.0   0.0   0.0   0.0   0.0  \n",
       "2297   0.0   0.0   0.0   0.0   0.0   0.0   0.0   0.0   0.0  \n",
       "1739   0.0   0.0   0.0   0.0   0.0   0.0   0.0   0.0   0.0  \n",
       "511    0.0   0.0   0.0   0.0   0.0   0.0   0.0   0.0   0.0  \n",
       "\n",
       "[5 rows x 9328 columns]"
      ]
     },
     "execution_count": 32,
     "metadata": {},
     "output_type": "execute_result"
    }
   ],
   "source": [
    "vs_test.head()"
   ]
  },
  {
   "cell_type": "code",
   "execution_count": 33,
   "id": "42fb3914",
   "metadata": {},
   "outputs": [
    {
     "data": {
      "text/html": [
       "<div>\n",
       "<style scoped>\n",
       "    .dataframe tbody tr th:only-of-type {\n",
       "        vertical-align: middle;\n",
       "    }\n",
       "\n",
       "    .dataframe tbody tr th {\n",
       "        vertical-align: top;\n",
       "    }\n",
       "\n",
       "    .dataframe thead th {\n",
       "        text-align: right;\n",
       "    }\n",
       "</style>\n",
       "<table border=\"1\" class=\"dataframe\">\n",
       "  <thead>\n",
       "    <tr style=\"text-align: right;\">\n",
       "      <th></th>\n",
       "      <th>1</th>\n",
       "    </tr>\n",
       "    <tr>\n",
       "      <th>0</th>\n",
       "      <th></th>\n",
       "    </tr>\n",
       "  </thead>\n",
       "  <tbody>\n",
       "    <tr>\n",
       "      <th>1289</th>\n",
       "      <td>4</td>\n",
       "    </tr>\n",
       "    <tr>\n",
       "      <th>596</th>\n",
       "      <td>0</td>\n",
       "    </tr>\n",
       "    <tr>\n",
       "      <th>1935</th>\n",
       "      <td>4</td>\n",
       "    </tr>\n",
       "    <tr>\n",
       "      <th>2436</th>\n",
       "      <td>4</td>\n",
       "    </tr>\n",
       "    <tr>\n",
       "      <th>2349</th>\n",
       "      <td>1</td>\n",
       "    </tr>\n",
       "  </tbody>\n",
       "</table>\n",
       "</div>"
      ],
      "text/plain": [
       "      1\n",
       "0      \n",
       "1289  4\n",
       "596   0\n",
       "1935  4\n",
       "2436  4\n",
       "2349  1"
      ]
     },
     "execution_count": 33,
     "metadata": {},
     "output_type": "execute_result"
    }
   ],
   "source": [
    "vs_target_train.head()"
   ]
  },
  {
   "cell_type": "markdown",
   "id": "1284b760",
   "metadata": {},
   "source": [
    "#### Convert the training and testing data matrices into numpy array"
   ]
  },
  {
   "cell_type": "code",
   "execution_count": 34,
   "id": "b9cc345b",
   "metadata": {},
   "outputs": [],
   "source": [
    "vs_train_array = np.array(vs_train)\n",
    "vs_target_train_array = vs_target_train[1].values.tolist()\n",
    "vs_target_test_array = np.array(vs_target_test)"
   ]
  },
  {
   "cell_type": "code",
   "execution_count": 35,
   "id": "8dda9ce2",
   "metadata": {},
   "outputs": [
    {
     "data": {
      "text/plain": [
       "[4, 0, 4, 4, 1, 2, 0, 2, 2, 4, 4, 3, 4, 2, 2, 2, 0, 3, 4, 4]"
      ]
     },
     "execution_count": 35,
     "metadata": {},
     "output_type": "execute_result"
    }
   ],
   "source": [
    "vs_target_train_array[:20]"
   ]
  },
  {
   "cell_type": "markdown",
   "id": "ed5a0366",
   "metadata": {},
   "source": [
    "#### c. Perform Kmeans clustering on the transformed training data from part (b) [Note: if you have difficulty with TFxIDF conversion, then use the original non-transformed data for the remainder of this assignment]."
   ]
  },
  {
   "cell_type": "code",
   "execution_count": 36,
   "id": "75577b82",
   "metadata": {},
   "outputs": [],
   "source": [
    "# centroids.shape"
   ]
  },
  {
   "cell_type": "code",
   "execution_count": 37,
   "id": "1b6e10b2",
   "metadata": {},
   "outputs": [],
   "source": [
    "# df_classes.shape"
   ]
  },
  {
   "cell_type": "code",
   "execution_count": 38,
   "id": "8fc0cb74",
   "metadata": {},
   "outputs": [],
   "source": [
    "# terms = np.array(df_terms)"
   ]
  },
  {
   "cell_type": "code",
   "execution_count": 39,
   "id": "b7b73f86",
   "metadata": {
    "scrolled": true
   },
   "outputs": [],
   "source": [
    "# terms"
   ]
  },
  {
   "cell_type": "code",
   "execution_count": 40,
   "id": "699376cd",
   "metadata": {},
   "outputs": [],
   "source": [
    "# pd.options.display.float_format='{:,.2f}'.format\n",
    "# clusterCentroids = pd.DataFrame(centroids, columns = df_terms[0].values.tolist())"
   ]
  },
  {
   "cell_type": "code",
   "execution_count": 41,
   "id": "8cc06938",
   "metadata": {},
   "outputs": [],
   "source": [
    "# terms.shape"
   ]
  },
  {
   "cell_type": "code",
   "execution_count": 42,
   "id": "d8486dc7",
   "metadata": {},
   "outputs": [],
   "source": [
    "# doc_cluster = pd.DataFrame(clusterAssment, columns = ['Cluster','error'])"
   ]
  },
  {
   "cell_type": "code",
   "execution_count": 43,
   "id": "70964783",
   "metadata": {},
   "outputs": [],
   "source": [
    "# target_labels = doc_cluster['Cluster'].unique()\n",
    "# print(target_labels)\n",
    "# doc_cluster_size = {}   # declare an empty dictionary of cluster sizes\n",
    "# booleanFlag = None\n",
    "# termsDF = pd.DataFrame(df_terms[0].values.tolist(), columns = ['term'])"
   ]
  },
  {
   "cell_type": "code",
   "execution_count": 44,
   "id": "18d7c9ba",
   "metadata": {},
   "outputs": [],
   "source": [
    "def clusterAnalysis(centroids, clusterAssment, vs_train, df_terms):\n",
    "    \n",
    "    doc_cluster = pd.DataFrame(clusterAssment, columns = ['Cluster','error'])\n",
    "    \n",
    "    target_labels = doc_cluster['Cluster'].unique()\n",
    "#     print(target_labels)\n",
    "    \n",
    "    doc_cluster_size = {}   # declare an empty dictionary of cluster sizes\n",
    "    \n",
    "    booleanFlag = None       # flag for subselection\n",
    "    \n",
    "    termsDF = pd.DataFrame(df_terms[0].values.tolist(), columns = ['term'])\n",
    "    \n",
    "\n",
    "    for c in target_labels:\n",
    "        # assign term index to each of the clusters.\n",
    "        cluster_index_TrainData = vs_train.index[doc_cluster['Cluster'] == int(c)]\n",
    "\n",
    "\n",
    "        centroidsWeights = pd.DataFrame(centroids[int(c)], columns =['Weights'])\n",
    "\n",
    "        # determine the cluster size\n",
    "        clusterSize = len(vs_train.index[doc_cluster['Cluster'] == int(c)])\n",
    "\n",
    "        # populate a dictionary of cluster sizes.\n",
    "        doc_cluster_size[int(c)] = clusterSize\n",
    "\n",
    "        #Check whether the training data (tfidx document * term ) set's index are in the cluster_index_TrainData\n",
    "        booleanFlag = vs_train.index.isin(cluster_index_TrainData)\n",
    "\n",
    "        clusterDocs = vs_train[booleanFlag]\n",
    "\n",
    "        # let's find the document counts for each term by transposing clusterDocs to get term by document and counting all the non zero terms\n",
    "\n",
    "        clusterDocsT = clusterDocs.T\n",
    "\n",
    "        DocTermFreq = pd.DataFrame([(clusterDocsT != 0).sum(1)]).T\n",
    "\n",
    "\n",
    "        DocTermFreq.columns = ['DF']\n",
    "\n",
    "        DocTermFreq['% of Ndocs'] = DocTermFreq['DF'] / doc_cluster_size[int(c)] * 100\n",
    "\n",
    "        # lets merge the terms, centroid and DocTermFreqPercentage\n",
    "        print('Cluster %s\\n\\n\\nCluster size: %s\\n\\n Top 5 terms in Cluster %s \\n\\n' %(int(c), doc_cluster_size[int(c)], int(c)))\n",
    "        clusterTermCentroid = pd.concat([termsDF, centroidsWeights ,DocTermFreq], axis = 1)\n",
    "\n",
    "\n",
    "        # Sort the data frame by % of Ndocs in descending order\n",
    "        sortedClTerm = clusterTermCentroid.sort_values(['DF', 'Weights'], ascending = False)\n",
    "        \n",
    "        # Select the Top 5 records from the sorted Data Frame\n",
    "        top5Rows = sortedClTerm[['term', 'DF', '% of Ndocs']].head()   \n",
    "        emptyIndex = [''] * len(top5Rows)\n",
    "        top5Rows.index = emptyIndex\n",
    "        print('%s \\n' %top5Rows)\n",
    "        print('*'*40)\n",
    "        "
   ]
  },
  {
   "cell_type": "code",
   "execution_count": 45,
   "id": "47b682b5",
   "metadata": {},
   "outputs": [
    {
     "name": "stdout",
     "output_type": "stream",
     "text": [
      "Wall time: 0 ns\n",
      "Running Kmeans when k = 4\n"
     ]
    }
   ],
   "source": [
    "%time\n",
    "# (dataSet, k, distMeas=distEuclid, createCent=randCent)\n",
    "print('Running Kmeans when k = 4')\n",
    "centroids4, clusterAssment4 = kMeans(vs_train_array, 4, cosineDist, randCent)"
   ]
  },
  {
   "cell_type": "code",
   "execution_count": 46,
   "id": "b192c984",
   "metadata": {},
   "outputs": [
    {
     "name": "stdout",
     "output_type": "stream",
     "text": [
      "Cluster 0\n",
      "\n",
      "\n",
      "Cluster size: 1568\n",
      "\n",
      " Top 5 terms in Cluster 0 \n",
      "\n",
      "\n",
      "    term   DF  % of Ndocs\n",
      "   write  737       47.00\n",
      "      on  615       39.22\n",
      "  articl  547       34.89\n",
      "    know  477       30.42\n",
      "     get  431       27.49 \n",
      "\n",
      "****************************************\n",
      "Cluster 2\n",
      "\n",
      "\n",
      "Cluster size: 415\n",
      "\n",
      " Top 5 terms in Cluster 2 \n",
      "\n",
      "\n",
      "    term   DF  % of Ndocs\n",
      "    game  229       55.18\n",
      "   write  222       53.49\n",
      "    team  194       46.75\n",
      "      go  177       42.65\n",
      "  articl  172       41.45 \n",
      "\n",
      "****************************************\n",
      "Cluster 1\n",
      "\n",
      "\n",
      "Cluster size: 9\n",
      "\n",
      " Top 5 terms in Cluster 1 \n",
      "\n",
      "\n",
      " term  DF  % of Ndocs\n",
      "   cx   6       66.67\n",
      "   hz   6       66.67\n",
      "   mw   6       66.67\n",
      "   ws   6       66.67\n",
      "   mo   6       66.67 \n",
      "\n",
      "****************************************\n",
      "Cluster 3\n",
      "\n",
      "\n",
      "Cluster size: 8\n",
      "\n",
      " Top 5 terms in Cluster 3 \n",
      "\n",
      "\n",
      " term  DF  % of Ndocs\n",
      "   ax   7        87.5\n",
      "  max   7        87.5\n",
      "   pl   6        75.0\n",
      "  giz   6        75.0\n",
      "  bxn   6        75.0 \n",
      "\n",
      "****************************************\n"
     ]
    }
   ],
   "source": [
    "clusterAnalysis(centroids4, clusterAssment4, vs_train, df_terms)"
   ]
  },
  {
   "cell_type": "code",
   "execution_count": 47,
   "id": "f8ed293a",
   "metadata": {},
   "outputs": [
    {
     "name": "stdout",
     "output_type": "stream",
     "text": [
      "Wall time: 0 ns\n",
      "Running Kmeans when k = 5\n"
     ]
    }
   ],
   "source": [
    "%time\n",
    "# (dataSet, k, distMeas=distEuclid, createCent=randCent)\n",
    "print('Running Kmeans when k = 5')\n",
    "centroids5, clusterAssment5 = kMeans(vs_train_array, 5, cosineDist, randCent)"
   ]
  },
  {
   "cell_type": "code",
   "execution_count": 48,
   "id": "721ec369",
   "metadata": {},
   "outputs": [
    {
     "name": "stdout",
     "output_type": "stream",
     "text": [
      "Cluster 3\n",
      "\n",
      "\n",
      "Cluster size: 466\n",
      "\n",
      " Top 5 terms in Cluster 3 \n",
      "\n",
      "\n",
      "   term   DF  % of Ndocs\n",
      "   sale  220       47.21\n",
      "  email  146       31.33\n",
      "  pleas  122       26.18\n",
      "   game  112       24.03\n",
      "  offer  105       22.53 \n",
      "\n",
      "****************************************\n",
      "Cluster 1\n",
      "\n",
      "\n",
      "Cluster size: 1094\n",
      "\n",
      " Top 5 terms in Cluster 1 \n",
      "\n",
      "\n",
      "    term   DF  % of Ndocs\n",
      "   write  688       62.89\n",
      "      on  525       47.99\n",
      "  articl  524       47.90\n",
      "   think  377       34.46\n",
      "    know  372       34.00 \n",
      "\n",
      "****************************************\n",
      "Cluster 4\n",
      "\n",
      "\n",
      "Cluster size: 433\n",
      "\n",
      " Top 5 terms in Cluster 4 \n",
      "\n",
      "\n",
      "    term   DF  % of Ndocs\n",
      "  window  284       65.59\n",
      "   write  196       45.27\n",
      "    file  154       35.57\n",
      "     get  147       33.95\n",
      "      on  144       33.26 \n",
      "\n",
      "****************************************\n",
      "Cluster 2\n",
      "\n",
      "\n",
      "Cluster size: 7\n",
      "\n",
      " Top 5 terms in Cluster 2 \n",
      "\n",
      "\n",
      " term  DF  % of Ndocs\n",
      "  max   7      100.00\n",
      "   ax   6       85.71\n",
      "   pl   6       85.71\n",
      "  giz   6       85.71\n",
      "  bxn   6       85.71 \n",
      "\n",
      "****************************************\n"
     ]
    }
   ],
   "source": [
    "clusterAnalysis(centroids5, clusterAssment5, vs_train, df_terms)"
   ]
  },
  {
   "cell_type": "code",
   "execution_count": 49,
   "id": "c3bbb339",
   "metadata": {},
   "outputs": [
    {
     "name": "stdout",
     "output_type": "stream",
     "text": [
      "Wall time: 0 ns\n",
      "Running Kmeans when k = 6\n"
     ]
    }
   ],
   "source": [
    "%time\n",
    "# (dataSet, k, distMeas=distEuclid, createCent=randCent)\n",
    "print('Running Kmeans when k = 6')\n",
    "centroids6, clusterAssment6 = kMeans(vs_train_array, 6, cosineDist, randCent)"
   ]
  },
  {
   "cell_type": "code",
   "execution_count": 50,
   "id": "1387e1e1",
   "metadata": {},
   "outputs": [
    {
     "name": "stdout",
     "output_type": "stream",
     "text": [
      "Cluster 0\n",
      "\n",
      "\n",
      "Cluster size: 370\n",
      "\n",
      " Top 5 terms in Cluster 0 \n",
      "\n",
      "\n",
      "   term   DF  % of Ndocs\n",
      "   sale  217       58.65\n",
      "  email  143       38.65\n",
      "  pleas  118       31.89\n",
      "  offer  104       28.11\n",
      "   ship   92       24.86 \n",
      "\n",
      "****************************************\n",
      "Cluster 4\n",
      "\n",
      "\n",
      "Cluster size: 399\n",
      "\n",
      " Top 5 terms in Cluster 4 \n",
      "\n",
      "\n",
      "    term   DF  % of Ndocs\n",
      "   write  222       55.64\n",
      "    game  212       53.13\n",
      "    team  194       48.62\n",
      "      go  177       44.36\n",
      "  articl  172       43.11 \n",
      "\n",
      "****************************************\n",
      "Cluster 2\n",
      "\n",
      "\n",
      "Cluster size: 407\n",
      "\n",
      " Top 5 terms in Cluster 2 \n",
      "\n",
      "\n",
      "     term   DF  % of Ndocs\n",
      "    write  274       67.32\n",
      "   articl  207       50.86\n",
      "      kei  185       45.45\n",
      "  clipper  185       45.45\n",
      "  encrypt  184       45.21 \n",
      "\n",
      "****************************************\n",
      "Cluster 3\n",
      "\n",
      "\n",
      "Cluster size: 391\n",
      "\n",
      " Top 5 terms in Cluster 3 \n",
      "\n",
      "\n",
      "       term   DF  % of Ndocs\n",
      "      write  243       62.15\n",
      "         on  218       55.75\n",
      "        god  213       54.48\n",
      "     articl  187       47.83\n",
      "  christian  179       45.78 \n",
      "\n",
      "****************************************\n",
      "Cluster 5\n",
      "\n",
      "\n",
      "Cluster size: 425\n",
      "\n",
      " Top 5 terms in Cluster 5 \n",
      "\n",
      "\n",
      "    term   DF  % of Ndocs\n",
      "  window  278       65.41\n",
      "   write  188       44.24\n",
      "     get  149       35.06\n",
      "    file  146       34.35\n",
      "      on  146       34.35 \n",
      "\n",
      "****************************************\n",
      "Cluster 1\n",
      "\n",
      "\n",
      "Cluster size: 8\n",
      "\n",
      " Top 5 terms in Cluster 1 \n",
      "\n",
      "\n",
      " term  DF  % of Ndocs\n",
      "   ax   7        87.5\n",
      "  max   7        87.5\n",
      "   pl   6        75.0\n",
      "  giz   6        75.0\n",
      "  bxn   6        75.0 \n",
      "\n",
      "****************************************\n"
     ]
    }
   ],
   "source": [
    "clusterAnalysis(centroids6, clusterAssment6, vs_train, df_terms)"
   ]
  },
  {
   "cell_type": "code",
   "execution_count": 51,
   "id": "ce731207",
   "metadata": {},
   "outputs": [
    {
     "name": "stdout",
     "output_type": "stream",
     "text": [
      "Wall time: 0 ns\n",
      "Running Kmeans when k = 7\n"
     ]
    }
   ],
   "source": [
    "%time\n",
    "# (dataSet, k, distMeas=distEuclid, createCent=randCent)\n",
    "print('Running Kmeans when k = 7')\n",
    "centroids7, clusterAssment7 = kMeans(vs_train_array, 7, cosineDist, randCent)"
   ]
  },
  {
   "cell_type": "code",
   "execution_count": 52,
   "id": "2292d734",
   "metadata": {
    "scrolled": false
   },
   "outputs": [
    {
     "name": "stdout",
     "output_type": "stream",
     "text": [
      "Cluster 1\n",
      "\n",
      "\n",
      "Cluster size: 362\n",
      "\n",
      " Top 5 terms in Cluster 1 \n",
      "\n",
      "\n",
      "   term   DF  % of Ndocs\n",
      "   sale  213       58.84\n",
      "  email  140       38.67\n",
      "  pleas  116       32.04\n",
      "  offer  102       28.18\n",
      "   ship   90       24.86 \n",
      "\n",
      "****************************************\n",
      "Cluster 0\n",
      "\n",
      "\n",
      "Cluster size: 384\n",
      "\n",
      " Top 5 terms in Cluster 0 \n",
      "\n",
      "\n",
      "    term   DF  % of Ndocs\n",
      "   write  216       56.25\n",
      "    game  209       54.43\n",
      "    team  190       49.48\n",
      "      go  174       45.31\n",
      "  articl  170       44.27 \n",
      "\n",
      "****************************************\n",
      "Cluster 2\n",
      "\n",
      "\n",
      "Cluster size: 772\n",
      "\n",
      " Top 5 terms in Cluster 2 \n",
      "\n",
      "\n",
      "    term   DF  % of Ndocs\n",
      "   write  500       64.77\n",
      "      on  384       49.74\n",
      "  articl  375       48.58\n",
      "   peopl  291       37.69\n",
      "    know  287       37.18 \n",
      "\n",
      "****************************************\n",
      "Cluster 6\n",
      "\n",
      "\n",
      "Cluster size: 399\n",
      "\n",
      " Top 5 terms in Cluster 6 \n",
      "\n",
      "\n",
      "    term   DF  % of Ndocs\n",
      "  window  272       68.17\n",
      "   write  179       44.86\n",
      "    file  150       37.59\n",
      "      do  136       34.09\n",
      "     get  136       34.09 \n",
      "\n",
      "****************************************\n",
      "Cluster 5\n",
      "\n",
      "\n",
      "Cluster size: 68\n",
      "\n",
      " Top 5 terms in Cluster 5 \n",
      "\n",
      "\n",
      "       term  DF  % of Ndocs\n",
      "       issu  32       47.06\n",
      "      write  32       47.06\n",
      "   homosexu  31       45.59\n",
      "  christian  31       45.59\n",
      "        get  30       44.12 \n",
      "\n",
      "****************************************\n",
      "Cluster 3\n",
      "\n",
      "\n",
      "Cluster size: 7\n",
      "\n",
      " Top 5 terms in Cluster 3 \n",
      "\n",
      "\n",
      " term  DF  % of Ndocs\n",
      "   mw   6       85.71\n",
      "   ws   6       85.71\n",
      "   mo   6       85.71\n",
      "   mq   6       85.71\n",
      "   mx   6       85.71 \n",
      "\n",
      "****************************************\n",
      "Cluster 4\n",
      "\n",
      "\n",
      "Cluster size: 8\n",
      "\n",
      " Top 5 terms in Cluster 4 \n",
      "\n",
      "\n",
      " term  DF  % of Ndocs\n",
      "   ax   7        87.5\n",
      "  max   7        87.5\n",
      "   pl   6        75.0\n",
      "  giz   6        75.0\n",
      "  bxn   6        75.0 \n",
      "\n",
      "****************************************\n"
     ]
    }
   ],
   "source": [
    "clusterAnalysis(centroids7, clusterAssment7, vs_train, df_terms)"
   ]
  },
  {
   "cell_type": "code",
   "execution_count": 53,
   "id": "dd116a7f",
   "metadata": {},
   "outputs": [
    {
     "name": "stdout",
     "output_type": "stream",
     "text": [
      "Wall time: 0 ns\n",
      "Running Kmeans when k = 8\n"
     ]
    }
   ],
   "source": [
    "%time\n",
    "# (dataSet, k, distMeas=distEuclid, createCent=randCent)\n",
    "print('Running Kmeans when k = 8')\n",
    "centroids8, clusterAssment8 = kMeans(vs_train_array, 8, cosineDist, randCent)"
   ]
  },
  {
   "cell_type": "code",
   "execution_count": 54,
   "id": "48eec2c4",
   "metadata": {
    "scrolled": false
   },
   "outputs": [
    {
     "name": "stdout",
     "output_type": "stream",
     "text": [
      "Cluster 7\n",
      "\n",
      "\n",
      "Cluster size: 24\n",
      "\n",
      " Top 5 terms in Cluster 7 \n",
      "\n",
      "\n",
      "    term  DF  % of Ndocs\n",
      "   pleas  12       50.00\n",
      "     jai  11       45.83\n",
      "   email  11       45.83\n",
      "      cd  10       41.67\n",
      "  forsal  10       41.67 \n",
      "\n",
      "****************************************\n",
      "Cluster 1\n",
      "\n",
      "\n",
      "Cluster size: 398\n",
      "\n",
      " Top 5 terms in Cluster 1 \n",
      "\n",
      "\n",
      "    term   DF  % of Ndocs\n",
      "   write  221       55.53\n",
      "    game  212       53.27\n",
      "    team  194       48.74\n",
      "      go  177       44.47\n",
      "  articl  172       43.22 \n",
      "\n",
      "****************************************\n",
      "Cluster 5\n",
      "\n",
      "\n",
      "Cluster size: 343\n",
      "\n",
      " Top 5 terms in Cluster 5 \n",
      "\n",
      "\n",
      "   term   DF  % of Ndocs\n",
      "   sale  209       60.93\n",
      "  email  134       39.07\n",
      "  pleas  106       30.90\n",
      "  offer  101       29.45\n",
      "   ship   90       26.24 \n",
      "\n",
      "****************************************\n",
      "Cluster 4\n",
      "\n",
      "\n",
      "Cluster size: 405\n",
      "\n",
      " Top 5 terms in Cluster 4 \n",
      "\n",
      "\n",
      "     term   DF  % of Ndocs\n",
      "    write  274       67.65\n",
      "   articl  206       50.86\n",
      "  clipper  185       45.68\n",
      "      kei  184       45.43\n",
      "  encrypt  184       45.43 \n",
      "\n",
      "****************************************\n",
      "Cluster 3\n",
      "\n",
      "\n",
      "Cluster size: 389\n",
      "\n",
      " Top 5 terms in Cluster 3 \n",
      "\n",
      "\n",
      "       term   DF  % of Ndocs\n",
      "      write  241       61.95\n",
      "         on  218       56.04\n",
      "        god  213       54.76\n",
      "     articl  186       47.81\n",
      "  christian  178       45.76 \n",
      "\n",
      "****************************************\n",
      "Cluster 0\n",
      "\n",
      "\n",
      "Cluster size: 419\n",
      "\n",
      " Top 5 terms in Cluster 0 \n",
      "\n",
      "\n",
      "    term   DF  % of Ndocs\n",
      "  window  277       66.11\n",
      "   write  186       44.39\n",
      "     get  147       35.08\n",
      "    file  146       34.84\n",
      "      on  143       34.13 \n",
      "\n",
      "****************************************\n",
      "Cluster 2\n",
      "\n",
      "\n",
      "Cluster size: 16\n",
      "\n",
      " Top 5 terms in Cluster 2 \n",
      "\n",
      "\n",
      "        term  DF  % of Ndocs\n",
      "        test  10       62.50\n",
      "          dc   4       25.00\n",
      "       thank   4       25.00\n",
      "       pleas   4       25.00\n",
      "  washington   3       18.75 \n",
      "\n",
      "****************************************\n",
      "Cluster 6\n",
      "\n",
      "\n",
      "Cluster size: 6\n",
      "\n",
      " Top 5 terms in Cluster 6 \n",
      "\n",
      "\n",
      " term  DF  % of Ndocs\n",
      "   ax   6       100.0\n",
      "  max   6       100.0\n",
      "   pl   6       100.0\n",
      "  giz   6       100.0\n",
      "  bxn   6       100.0 \n",
      "\n",
      "****************************************\n"
     ]
    }
   ],
   "source": [
    "clusterAnalysis(centroids8, clusterAssment8, vs_train, df_terms)"
   ]
  },
  {
   "cell_type": "markdown",
   "id": "6ae88c60",
   "metadata": {},
   "source": [
    "### d. Using the cluster assignments from your Kmeans clustering and the original cluster labels for the training document, compare your clusters to the re-assigned classes by computing the Completeness and Homogeneity values. You should do this for the best values of k and the best clustering run you settled on in the previous part. "
   ]
  },
  {
   "cell_type": "code",
   "execution_count": 55,
   "id": "06857acb",
   "metadata": {},
   "outputs": [],
   "source": [
    "docCluster4 = pd.DataFrame(clusterAssment4, columns = ['Cluster','error']) "
   ]
  },
  {
   "cell_type": "code",
   "execution_count": 56,
   "id": "c743adaf",
   "metadata": {},
   "outputs": [],
   "source": [
    "docCluster5 = pd.DataFrame(clusterAssment5, columns = ['Cluster','error']) "
   ]
  },
  {
   "cell_type": "code",
   "execution_count": 57,
   "id": "21272de1",
   "metadata": {},
   "outputs": [],
   "source": [
    "docCluster6 = pd.DataFrame(clusterAssment6, columns = ['Cluster','error']) "
   ]
  },
  {
   "cell_type": "code",
   "execution_count": 58,
   "id": "71773060",
   "metadata": {},
   "outputs": [],
   "source": [
    "docCluster7 = pd.DataFrame(clusterAssment7, columns = ['Cluster','error']) "
   ]
  },
  {
   "cell_type": "code",
   "execution_count": 59,
   "id": "bf87c7a3",
   "metadata": {},
   "outputs": [],
   "source": [
    "docCluster8 = pd.DataFrame(clusterAssment8, columns = ['Cluster','error']) "
   ]
  },
  {
   "cell_type": "code",
   "execution_count": 60,
   "id": "c0a85dc7",
   "metadata": {},
   "outputs": [
    {
     "data": {
      "text/plain": [
       "0    0\n",
       "1    2\n",
       "2    0\n",
       "3    0\n",
       "4    0\n",
       "Name: Cluster, dtype: int32"
      ]
     },
     "execution_count": 60,
     "metadata": {},
     "output_type": "execute_result"
    }
   ],
   "source": [
    "newC4 = docCluster4['Cluster'].astype(int)\n",
    "newC4.head()"
   ]
  },
  {
   "cell_type": "code",
   "execution_count": 61,
   "id": "cfde3ef1",
   "metadata": {},
   "outputs": [
    {
     "data": {
      "text/plain": [
       "0    3\n",
       "1    1\n",
       "2    3\n",
       "3    3\n",
       "4    1\n",
       "Name: Cluster, dtype: int32"
      ]
     },
     "execution_count": 61,
     "metadata": {},
     "output_type": "execute_result"
    }
   ],
   "source": [
    "newC5 = docCluster5['Cluster'].astype(int)\n",
    "newC5.head()"
   ]
  },
  {
   "cell_type": "code",
   "execution_count": 62,
   "id": "603f8721",
   "metadata": {},
   "outputs": [
    {
     "data": {
      "text/plain": [
       "0    0\n",
       "1    4\n",
       "2    0\n",
       "3    0\n",
       "4    2\n",
       "Name: Cluster, dtype: int32"
      ]
     },
     "execution_count": 62,
     "metadata": {},
     "output_type": "execute_result"
    }
   ],
   "source": [
    "newC6 = docCluster6['Cluster'].astype(int)\n",
    "newC6.head()"
   ]
  },
  {
   "cell_type": "code",
   "execution_count": 63,
   "id": "3928dd1c",
   "metadata": {},
   "outputs": [],
   "source": [
    "newC6 = docCluster6['Cluster'].astype(int)"
   ]
  },
  {
   "cell_type": "code",
   "execution_count": 64,
   "id": "e95b75fe",
   "metadata": {},
   "outputs": [
    {
     "data": {
      "text/plain": [
       "0    1\n",
       "1    0\n",
       "2    1\n",
       "3    1\n",
       "4    2\n",
       "Name: Cluster, dtype: int32"
      ]
     },
     "execution_count": 64,
     "metadata": {},
     "output_type": "execute_result"
    }
   ],
   "source": [
    "newC7 = docCluster7['Cluster'].astype(int)\n",
    "newC7.head()"
   ]
  },
  {
   "cell_type": "code",
   "execution_count": 65,
   "id": "5adb0e61",
   "metadata": {},
   "outputs": [
    {
     "data": {
      "text/plain": [
       "0    7\n",
       "1    1\n",
       "2    7\n",
       "3    5\n",
       "4    4\n",
       "Name: Cluster, dtype: int32"
      ]
     },
     "execution_count": 65,
     "metadata": {},
     "output_type": "execute_result"
    }
   ],
   "source": [
    "newC8 = docCluster8['Cluster'].astype(int)\n",
    "newC8.head()"
   ]
  },
  {
   "cell_type": "code",
   "execution_count": 66,
   "id": "c564252d",
   "metadata": {},
   "outputs": [
    {
     "name": "stdout",
     "output_type": "stream",
     "text": [
      "0.794278953380963\n"
     ]
    }
   ],
   "source": [
    "print(completeness_score(vs_target_train_array,newC4))"
   ]
  },
  {
   "cell_type": "code",
   "execution_count": 67,
   "id": "e27492ff",
   "metadata": {},
   "outputs": [
    {
     "name": "stdout",
     "output_type": "stream",
     "text": [
      "0.2781302155305205\n"
     ]
    }
   ],
   "source": [
    "print(homogeneity_score(vs_target_train_array,newC4))"
   ]
  },
  {
   "cell_type": "code",
   "execution_count": 68,
   "id": "bf24af47",
   "metadata": {},
   "outputs": [
    {
     "name": "stdout",
     "output_type": "stream",
     "text": [
      "0.6892412766911472\n"
     ]
    }
   ],
   "source": [
    "print(completeness_score(vs_target_train_array,newC5))"
   ]
  },
  {
   "cell_type": "code",
   "execution_count": 69,
   "id": "267f96c6",
   "metadata": {},
   "outputs": [
    {
     "name": "stdout",
     "output_type": "stream",
     "text": [
      "0.43707907587236045\n"
     ]
    }
   ],
   "source": [
    "print(homogeneity_score(vs_target_train_array,newC5))"
   ]
  },
  {
   "cell_type": "code",
   "execution_count": 70,
   "id": "9c67ea0f",
   "metadata": {},
   "outputs": [
    {
     "name": "stdout",
     "output_type": "stream",
     "text": [
      "0.837623318033468\n"
     ]
    }
   ],
   "source": [
    "print(completeness_score(vs_target_train_array,newC6))"
   ]
  },
  {
   "cell_type": "code",
   "execution_count": 71,
   "id": "1aed40b5",
   "metadata": {},
   "outputs": [
    {
     "name": "stdout",
     "output_type": "stream",
     "text": [
      "0.8474069226159137\n"
     ]
    }
   ],
   "source": [
    "print(homogeneity_score(vs_target_train_array,newC6))"
   ]
  },
  {
   "cell_type": "code",
   "execution_count": 72,
   "id": "27cc2ccd",
   "metadata": {},
   "outputs": [
    {
     "name": "stdout",
     "output_type": "stream",
     "text": [
      "0.7358106992089328\n"
     ]
    }
   ],
   "source": [
    "print(completeness_score(vs_target_train_array,newC7))"
   ]
  },
  {
   "cell_type": "code",
   "execution_count": 73,
   "id": "74b67041",
   "metadata": {},
   "outputs": [
    {
     "name": "stdout",
     "output_type": "stream",
     "text": [
      "0.6730986387900326\n"
     ]
    }
   ],
   "source": [
    "print(homogeneity_score(vs_target_train_array,newC7))"
   ]
  },
  {
   "cell_type": "code",
   "execution_count": 74,
   "id": "b9e8c1fe",
   "metadata": {},
   "outputs": [
    {
     "name": "stdout",
     "output_type": "stream",
     "text": [
      "0.7957592007670587\n"
     ]
    }
   ],
   "source": [
    "print(completeness_score(vs_target_train_array,newC8))"
   ]
  },
  {
   "cell_type": "code",
   "execution_count": 75,
   "id": "6f80687d",
   "metadata": {},
   "outputs": [
    {
     "name": "stdout",
     "output_type": "stream",
     "text": [
      "0.8416727723238052\n"
     ]
    }
   ],
   "source": [
    "print(homogeneity_score(vs_target_train_array,newC8))"
   ]
  },
  {
   "cell_type": "code",
   "execution_count": 83,
   "id": "78a91030",
   "metadata": {},
   "outputs": [],
   "source": [
    "from sklearn import metrics"
   ]
  },
  {
   "cell_type": "code",
   "execution_count": 90,
   "id": "10870c2f",
   "metadata": {},
   "outputs": [],
   "source": [
    "def plot_silhouettes(data, clusters, metric='cosine'):\n",
    "    \n",
    "    from matplotlib import cm\n",
    "    from sklearn.metrics import silhouette_samples\n",
    "\n",
    "    cluster_labels = np.unique(clusters)\n",
    "    n_clusters = cluster_labels.shape[0]\n",
    "    silhouette_vals = metrics.silhouette_samples(data, clusters, metric='cosine')\n",
    "    c_ax_lower, c_ax_upper = 0, 0\n",
    "    cticks = []\n",
    "    for i, k in enumerate(cluster_labels):\n",
    "        c_silhouette_vals = silhouette_vals[clusters == k]\n",
    "        c_silhouette_vals.sort()\n",
    "        c_ax_upper += len(c_silhouette_vals)\n",
    "        color = cm.jet(float(i) / n_clusters)\n",
    "        pl.barh(range(c_ax_lower, c_ax_upper), c_silhouette_vals, height=1.0, \n",
    "                      edgecolor='none', color=color)\n",
    "\n",
    "        cticks.append((c_ax_lower + c_ax_upper) / 2)\n",
    "        c_ax_lower += len(c_silhouette_vals)\n",
    "    \n",
    "    silhouette_avg = np.mean(silhouette_vals)\n",
    "    pl.axvline(silhouette_avg, color=\"red\", linestyle=\"--\") \n",
    "    pl.yticks(cticks, cluster_labels)\n",
    "    pl.ylabel('Cluster')\n",
    "    pl.xlabel('Silhouette coefficient')\n",
    "\n",
    "    pl.tight_layout()\n",
    "    #pl.savefig('images/11_04.png', dpi=300)\n",
    "    pl.show()\n",
    "    \n",
    "    return"
   ]
  },
  {
   "cell_type": "code",
   "execution_count": 81,
   "id": "00c576fc",
   "metadata": {},
   "outputs": [
    {
     "data": {
      "text/plain": [
       "pandas.core.series.Series"
      ]
     },
     "execution_count": 81,
     "metadata": {},
     "output_type": "execute_result"
    }
   ],
   "source": [
    "# type(newC8)"
   ]
  },
  {
   "cell_type": "code",
   "execution_count": 98,
   "id": "676a4213",
   "metadata": {},
   "outputs": [
    {
     "data": {
      "image/png": "[encoded data removed]",
      "text/plain": [
       "<Figure size 432x288 with 1 Axes>"
      ]
     },
     "metadata": {},
     "output_type": "display_data"
    }
   ],
   "source": [
    "plot_silhouettes(vs_train, newC8)"
   ]
  },
  {
   "cell_type": "code",
   "execution_count": null,
   "id": "bfc88efd",
   "metadata": {},
   "outputs": [],
   "source": []
  }
 ],
 "metadata": {
  "kernelspec": {
   "display_name": "cmdpy37",
   "language": "python",
   "name": "cmdpy37"
  },
  "language_info": {
   "codemirror_mode": {
    "name": "ipython",
    "version": 3
   },
   "file_extension": ".py",
   "mimetype": "text/x-python",
   "name": "python",
   "nbconvert_exporter": "python",
   "pygments_lexer": "ipython3",
   "version": "3.7.11"
  }
 },
 "nbformat": 4,
 "nbformat_minor": 5
}
