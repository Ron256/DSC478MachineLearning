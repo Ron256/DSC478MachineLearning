{
 "cells": [
  {
   "cell_type": "markdown",
   "id": "171a796c",
   "metadata": {},
   "source": [
    "# PCA for Reduced Dimensionality in Clustering:"
   ]
  },
  {
   "cell_type": "markdown",
   "id": "97587023",
   "metadata": {},
   "source": [
    "<p>For this problem you will use an image segmentation data set for clustering. You will experiment with using PCA as an approach to reduce dimensionality and noise in the data. You will compare the results of clustering the data with and without PCA using the provided image class assignments as the ground truth. The data set is divided into three files. The file \"segmentation_data.txt\" contains data about images with each line corresponding to one image. Each image is represented by 19 features (these are the columns in the data and correspond to the feature names in the file \"segmentation_names.txt\". The file \"segmentation_classes.txt\" contains the class labels (the type of image) and a numeric class label for each of the corresponding images in the data file. After clustering the image data, you will use the class labels to measure completeness and homogeneity of the generated clusters.</p>"
   ]
  },
  {
   "cell_type": "code",
   "execution_count": 1,
   "id": "2303cf93",
   "metadata": {},
   "outputs": [],
   "source": [
    "# import the necessary packages\n",
    "import pandas as pd\n",
    "import numpy as np\n",
    "from sklearn import decomposition\n",
    "from sklearn.cluster import KMeans\n",
    "from sklearn.metrics import completeness_score, homogeneity_score\n",
    "from sklearn import decomposition\n",
    "from sklearn import preprocessing\n",
    "import matplotlib.pyplot as plt"
   ]
  },
  {
   "cell_type": "markdown",
   "id": "2dc1e70b",
   "metadata": {},
   "source": [
    "### a. Load in the image data matrix (with rows as images and columns as features). Also load in the numeric class labels from the segmentation class file. Using your favorite method (e.g., sklearn's min-max scaler), perform min-max normalization on the data matrix so that each feature is scaled to [0,1] range."
   ]
  },
  {
   "cell_type": "markdown",
   "id": "05598639",
   "metadata": {},
   "source": [
    "##### Load the image data:"
   ]
  },
  {
   "cell_type": "code",
   "execution_count": 2,
   "id": "da4984b2",
   "metadata": {},
   "outputs": [],
   "source": [
    "imageFileName = r'../../data/segmentation_data/segmentation_data.txt'\n",
    "segmentationData = np.genfromtxt(imageFileName, delimiter=',', dtype=str)"
   ]
  },
  {
   "cell_type": "code",
   "execution_count": 3,
   "id": "03eec076",
   "metadata": {},
   "outputs": [
    {
     "data": {
      "text/plain": [
       "(2100, 19)"
      ]
     },
     "execution_count": 3,
     "metadata": {},
     "output_type": "execute_result"
    }
   ],
   "source": [
    "segmentationData.shape"
   ]
  },
  {
   "cell_type": "code",
   "execution_count": 4,
   "id": "58cfea60",
   "metadata": {},
   "outputs": [
    {
     "data": {
      "text/plain": [
       "numpy.ndarray"
      ]
     },
     "execution_count": 4,
     "metadata": {},
     "output_type": "execute_result"
    }
   ],
   "source": [
    "type(segmentationData)"
   ]
  },
  {
   "cell_type": "markdown",
   "id": "57daa5cf",
   "metadata": {},
   "source": [
    "#### Load the column names data:"
   ]
  },
  {
   "cell_type": "code",
   "execution_count": 5,
   "id": "182e31e5",
   "metadata": {},
   "outputs": [],
   "source": [
    "columnFileName =  r'../../data/segmentation_data/segmentation_names.txt'\n",
    "segmentationNames = np.loadtxt(columnFileName, dtype = str)"
   ]
  },
  {
   "cell_type": "code",
   "execution_count": 6,
   "id": "26b2f7f8",
   "metadata": {},
   "outputs": [
    {
     "data": {
      "text/plain": [
       "array(['REGION-CENTROID-COL', 'REGION-CENTROID-ROW', 'REGION-PIXEL-COUNT',\n",
       "       'SHORT-LINE-DENSITY-5', 'SHORT-LINE-DENSITY-2', 'VEDGE-MEAN',\n",
       "       'VEDGE-SD', 'HEDGE-MEAN', 'HEDGE-SD', 'INTENSITY-MEAN',\n",
       "       'RAWRED-MEAN', 'RAWBLUE-MEAN', 'RAWGREEN-MEAN', 'EXRED-MEAN',\n",
       "       'EXBLUE-MEAN', 'EXGREEN-MEAN', 'VALUE-MEAN', 'SATURATION-MEAN',\n",
       "       'HUE-MEAN'], dtype='<U20')"
      ]
     },
     "execution_count": 6,
     "metadata": {},
     "output_type": "execute_result"
    }
   ],
   "source": [
    "segmentationNames"
   ]
  },
  {
   "cell_type": "markdown",
   "id": "b1741dd5",
   "metadata": {},
   "source": [
    "#### Load the classes:"
   ]
  },
  {
   "cell_type": "code",
   "execution_count": 7,
   "id": "4c48d3fa",
   "metadata": {},
   "outputs": [],
   "source": [
    "classFileName =  r'../../data/segmentation_data/segmentation_classes.txt'\n",
    "segmentationClasses = np.loadtxt(classFileName, dtype = str)"
   ]
  },
  {
   "cell_type": "code",
   "execution_count": 8,
   "id": "ca1b8790",
   "metadata": {},
   "outputs": [
    {
     "data": {
      "text/plain": [
       "array([['GRASS', '0'],\n",
       "       ['GRASS', '0'],\n",
       "       ['GRASS', '0'],\n",
       "       ...,\n",
       "       ['CEMENT', '3'],\n",
       "       ['CEMENT', '3'],\n",
       "       ['CEMENT', '3']], dtype='<U9')"
      ]
     },
     "execution_count": 8,
     "metadata": {},
     "output_type": "execute_result"
    }
   ],
   "source": [
    "segmentationClasses"
   ]
  },
  {
   "cell_type": "code",
   "execution_count": 9,
   "id": "60431099",
   "metadata": {},
   "outputs": [
    {
     "data": {
      "text/plain": [
       "(2100, 2)"
      ]
     },
     "execution_count": 9,
     "metadata": {},
     "output_type": "execute_result"
    }
   ],
   "source": [
    "segmentationClasses.shape"
   ]
  },
  {
   "cell_type": "markdown",
   "id": "38840bc0",
   "metadata": {},
   "source": [
    "#### Let's create a SegmentationData Data frame:"
   ]
  },
  {
   "cell_type": "code",
   "execution_count": 10,
   "id": "c5e2aeb4",
   "metadata": {},
   "outputs": [],
   "source": [
    "df_segmentationData = pd.DataFrame(data = segmentationData, columns=segmentationNames)"
   ]
  },
  {
   "cell_type": "code",
   "execution_count": 11,
   "id": "0318e553",
   "metadata": {},
   "outputs": [
    {
     "data": {
      "text/html": [
       "<div>\n",
       "<style scoped>\n",
       "    .dataframe tbody tr th:only-of-type {\n",
       "        vertical-align: middle;\n",
       "    }\n",
       "\n",
       "    .dataframe tbody tr th {\n",
       "        vertical-align: top;\n",
       "    }\n",
       "\n",
       "    .dataframe thead th {\n",
       "        text-align: right;\n",
       "    }\n",
       "</style>\n",
       "<table border=\"1\" class=\"dataframe\">\n",
       "  <thead>\n",
       "    <tr style=\"text-align: right;\">\n",
       "      <th></th>\n",
       "      <th>REGION-CENTROID-COL</th>\n",
       "      <th>REGION-CENTROID-ROW</th>\n",
       "      <th>REGION-PIXEL-COUNT</th>\n",
       "      <th>SHORT-LINE-DENSITY-5</th>\n",
       "      <th>SHORT-LINE-DENSITY-2</th>\n",
       "      <th>VEDGE-MEAN</th>\n",
       "      <th>VEDGE-SD</th>\n",
       "      <th>HEDGE-MEAN</th>\n",
       "      <th>HEDGE-SD</th>\n",
       "      <th>INTENSITY-MEAN</th>\n",
       "      <th>RAWRED-MEAN</th>\n",
       "      <th>RAWBLUE-MEAN</th>\n",
       "      <th>RAWGREEN-MEAN</th>\n",
       "      <th>EXRED-MEAN</th>\n",
       "      <th>EXBLUE-MEAN</th>\n",
       "      <th>EXGREEN-MEAN</th>\n",
       "      <th>VALUE-MEAN</th>\n",
       "      <th>SATURATION-MEAN</th>\n",
       "      <th>HUE-MEAN</th>\n",
       "    </tr>\n",
       "  </thead>\n",
       "  <tbody>\n",
       "    <tr>\n",
       "      <th>0</th>\n",
       "      <td>110.0</td>\n",
       "      <td>189.0</td>\n",
       "      <td>9</td>\n",
       "      <td>0.0</td>\n",
       "      <td>0.0</td>\n",
       "      <td>1.0000004</td>\n",
       "      <td>0.66666675</td>\n",
       "      <td>1.2222223</td>\n",
       "      <td>1.1863422</td>\n",
       "      <td>12.925926</td>\n",
       "      <td>10.888889</td>\n",
       "      <td>9.222222</td>\n",
       "      <td>18.666668</td>\n",
       "      <td>-6.111111</td>\n",
       "      <td>-11.111111</td>\n",
       "      <td>17.222221</td>\n",
       "      <td>18.666668</td>\n",
       "      <td>0.50813884</td>\n",
       "      <td>1.9108642</td>\n",
       "    </tr>\n",
       "    <tr>\n",
       "      <th>1</th>\n",
       "      <td>86.0</td>\n",
       "      <td>187.0</td>\n",
       "      <td>9</td>\n",
       "      <td>0.0</td>\n",
       "      <td>0.0</td>\n",
       "      <td>1.1111108</td>\n",
       "      <td>0.7200825</td>\n",
       "      <td>1.4444445</td>\n",
       "      <td>0.750309</td>\n",
       "      <td>13.740741</td>\n",
       "      <td>11.666667</td>\n",
       "      <td>10.333334</td>\n",
       "      <td>19.222221</td>\n",
       "      <td>-6.2222223</td>\n",
       "      <td>-10.222222</td>\n",
       "      <td>16.444445</td>\n",
       "      <td>19.222221</td>\n",
       "      <td>0.46332908</td>\n",
       "      <td>1.9414649</td>\n",
       "    </tr>\n",
       "    <tr>\n",
       "      <th>2</th>\n",
       "      <td>225.0</td>\n",
       "      <td>244.0</td>\n",
       "      <td>9</td>\n",
       "      <td>0.0</td>\n",
       "      <td>0.0</td>\n",
       "      <td>3.3888886</td>\n",
       "      <td>2.1951127</td>\n",
       "      <td>2.9999998</td>\n",
       "      <td>1.5202343</td>\n",
       "      <td>12.259259</td>\n",
       "      <td>10.333334</td>\n",
       "      <td>9.333334</td>\n",
       "      <td>17.11111</td>\n",
       "      <td>-5.7777777</td>\n",
       "      <td>-8.777778</td>\n",
       "      <td>14.555555</td>\n",
       "      <td>17.11111</td>\n",
       "      <td>0.48014903</td>\n",
       "      <td>1.9879022</td>\n",
       "    </tr>\n",
       "    <tr>\n",
       "      <th>3</th>\n",
       "      <td>47.0</td>\n",
       "      <td>232.0</td>\n",
       "      <td>9</td>\n",
       "      <td>0.0</td>\n",
       "      <td>0.0</td>\n",
       "      <td>1.2777778</td>\n",
       "      <td>1.254621</td>\n",
       "      <td>1.0</td>\n",
       "      <td>0.8944273</td>\n",
       "      <td>12.703704</td>\n",
       "      <td>11.0</td>\n",
       "      <td>9.0</td>\n",
       "      <td>18.11111</td>\n",
       "      <td>-5.111111</td>\n",
       "      <td>-11.111111</td>\n",
       "      <td>16.222221</td>\n",
       "      <td>18.11111</td>\n",
       "      <td>0.50096595</td>\n",
       "      <td>1.875362</td>\n",
       "    </tr>\n",
       "    <tr>\n",
       "      <th>4</th>\n",
       "      <td>97.0</td>\n",
       "      <td>186.0</td>\n",
       "      <td>9</td>\n",
       "      <td>0.0</td>\n",
       "      <td>0.0</td>\n",
       "      <td>1.1666671</td>\n",
       "      <td>0.6912147</td>\n",
       "      <td>1.1666671</td>\n",
       "      <td>1.0055404</td>\n",
       "      <td>15.592592</td>\n",
       "      <td>13.888889</td>\n",
       "      <td>11.777778</td>\n",
       "      <td>21.11111</td>\n",
       "      <td>-5.111111</td>\n",
       "      <td>-11.444445</td>\n",
       "      <td>16.555555</td>\n",
       "      <td>21.11111</td>\n",
       "      <td>0.44266057</td>\n",
       "      <td>1.8636538</td>\n",
       "    </tr>\n",
       "  </tbody>\n",
       "</table>\n",
       "</div>"
      ],
      "text/plain": [
       "  REGION-CENTROID-COL REGION-CENTROID-ROW REGION-PIXEL-COUNT  \\\n",
       "0               110.0               189.0                  9   \n",
       "1                86.0               187.0                  9   \n",
       "2               225.0               244.0                  9   \n",
       "3                47.0               232.0                  9   \n",
       "4                97.0               186.0                  9   \n",
       "\n",
       "  SHORT-LINE-DENSITY-5 SHORT-LINE-DENSITY-2 VEDGE-MEAN    VEDGE-SD HEDGE-MEAN  \\\n",
       "0                  0.0                  0.0  1.0000004  0.66666675  1.2222223   \n",
       "1                  0.0                  0.0  1.1111108   0.7200825  1.4444445   \n",
       "2                  0.0                  0.0  3.3888886   2.1951127  2.9999998   \n",
       "3                  0.0                  0.0  1.2777778    1.254621        1.0   \n",
       "4                  0.0                  0.0  1.1666671   0.6912147  1.1666671   \n",
       "\n",
       "    HEDGE-SD INTENSITY-MEAN RAWRED-MEAN RAWBLUE-MEAN RAWGREEN-MEAN  \\\n",
       "0  1.1863422      12.925926   10.888889     9.222222     18.666668   \n",
       "1   0.750309      13.740741   11.666667    10.333334     19.222221   \n",
       "2  1.5202343      12.259259   10.333334     9.333334      17.11111   \n",
       "3  0.8944273      12.703704        11.0          9.0      18.11111   \n",
       "4  1.0055404      15.592592   13.888889    11.777778      21.11111   \n",
       "\n",
       "   EXRED-MEAN EXBLUE-MEAN EXGREEN-MEAN VALUE-MEAN SATURATION-MEAN   HUE-MEAN  \n",
       "0   -6.111111  -11.111111    17.222221  18.666668      0.50813884  1.9108642  \n",
       "1  -6.2222223  -10.222222    16.444445  19.222221      0.46332908  1.9414649  \n",
       "2  -5.7777777   -8.777778    14.555555   17.11111      0.48014903  1.9879022  \n",
       "3   -5.111111  -11.111111    16.222221   18.11111      0.50096595   1.875362  \n",
       "4   -5.111111  -11.444445    16.555555   21.11111      0.44266057  1.8636538  "
      ]
     },
     "execution_count": 11,
     "metadata": {},
     "output_type": "execute_result"
    }
   ],
   "source": [
    "df_segmentationData.head() # display the first 5 records"
   ]
  },
  {
   "cell_type": "markdown",
   "id": "d3a975bb",
   "metadata": {},
   "source": [
    "<p>The segmentation data 2100 data about images and each image is represented by 19 features.</p>"
   ]
  },
  {
   "cell_type": "markdown",
   "id": "ab00c427",
   "metadata": {},
   "source": [
    "#### Let's create a segmentationClasses Data Frame."
   ]
  },
  {
   "cell_type": "code",
   "execution_count": 12,
   "id": "3b2cbfe4",
   "metadata": {},
   "outputs": [],
   "source": [
    "df_segmentationClasses = pd.DataFrame(data = segmentationClasses, columns = ['classLabel', 'classCode'])"
   ]
  },
  {
   "cell_type": "code",
   "execution_count": 13,
   "id": "2f65c838",
   "metadata": {},
   "outputs": [
    {
     "name": "stdout",
     "output_type": "stream",
     "text": [
      "(2100, 2)\n"
     ]
    },
    {
     "data": {
      "text/html": [
       "<div>\n",
       "<style scoped>\n",
       "    .dataframe tbody tr th:only-of-type {\n",
       "        vertical-align: middle;\n",
       "    }\n",
       "\n",
       "    .dataframe tbody tr th {\n",
       "        vertical-align: top;\n",
       "    }\n",
       "\n",
       "    .dataframe thead th {\n",
       "        text-align: right;\n",
       "    }\n",
       "</style>\n",
       "<table border=\"1\" class=\"dataframe\">\n",
       "  <thead>\n",
       "    <tr style=\"text-align: right;\">\n",
       "      <th></th>\n",
       "      <th>classLabel</th>\n",
       "      <th>classCode</th>\n",
       "    </tr>\n",
       "  </thead>\n",
       "  <tbody>\n",
       "    <tr>\n",
       "      <th>0</th>\n",
       "      <td>GRASS</td>\n",
       "      <td>0</td>\n",
       "    </tr>\n",
       "    <tr>\n",
       "      <th>1</th>\n",
       "      <td>GRASS</td>\n",
       "      <td>0</td>\n",
       "    </tr>\n",
       "    <tr>\n",
       "      <th>2</th>\n",
       "      <td>GRASS</td>\n",
       "      <td>0</td>\n",
       "    </tr>\n",
       "    <tr>\n",
       "      <th>3</th>\n",
       "      <td>GRASS</td>\n",
       "      <td>0</td>\n",
       "    </tr>\n",
       "    <tr>\n",
       "      <th>4</th>\n",
       "      <td>GRASS</td>\n",
       "      <td>0</td>\n",
       "    </tr>\n",
       "  </tbody>\n",
       "</table>\n",
       "</div>"
      ],
      "text/plain": [
       "  classLabel classCode\n",
       "0      GRASS         0\n",
       "1      GRASS         0\n",
       "2      GRASS         0\n",
       "3      GRASS         0\n",
       "4      GRASS         0"
      ]
     },
     "execution_count": 13,
     "metadata": {},
     "output_type": "execute_result"
    }
   ],
   "source": [
    "print(df_segmentationClasses.shape)\n",
    "df_segmentationClasses.head()"
   ]
  },
  {
   "cell_type": "markdown",
   "id": "e4817757",
   "metadata": {},
   "source": [
    "####  Using sklearn's min-max scaler Perform min-max normalization on the data matrix so that each feature is scaled to [0, 1] range"
   ]
  },
  {
   "cell_type": "code",
   "execution_count": 14,
   "id": "e3d9f8c9",
   "metadata": {},
   "outputs": [
    {
     "name": "stdout",
     "output_type": "stream",
     "text": [
      "(2100, 19)\n"
     ]
    },
    {
     "data": {
      "text/plain": [
       "array([[0.43, 0.74, 0.  , 0.  , 0.  , 0.03, 0.  , 0.03, 0.  , 0.09, 0.08, 0.06, 0.13, 0.73, 0.01, 0.87, 0.12, 0.51,\n",
       "        0.83],\n",
       "       [0.34, 0.73, 0.  , 0.  , 0.  , 0.04, 0.  , 0.03, 0.  , 0.1 , 0.09, 0.07, 0.13, 0.73, 0.02, 0.86, 0.13, 0.46,\n",
       "        0.84],\n",
       "       [0.89, 0.97, 0.  , 0.  , 0.  , 0.12, 0.  , 0.07, 0.  , 0.09, 0.08, 0.06, 0.12, 0.74, 0.04, 0.83, 0.11, 0.48,\n",
       "        0.84],\n",
       "       [0.18, 0.92, 0.  , 0.  , 0.  , 0.04, 0.  , 0.02, 0.  , 0.09, 0.08, 0.06, 0.13, 0.75, 0.01, 0.86, 0.12, 0.5 ,\n",
       "        0.83],\n",
       "       [0.38, 0.73, 0.  , 0.  , 0.  , 0.04, 0.  , 0.03, 0.  , 0.11, 0.1 , 0.08, 0.15, 0.75, 0.01, 0.86, 0.14, 0.44,\n",
       "        0.82]])"
      ]
     },
     "execution_count": 14,
     "metadata": {},
     "output_type": "execute_result"
    }
   ],
   "source": [
    "min_max_scaler = preprocessing.MinMaxScaler()\n",
    "vs_segmentationData = min_max_scaler.fit_transform(segmentationData)\n",
    "np.set_printoptions(precision=2, suppress=True, linewidth=120)\n",
    "print(vs_segmentationData.shape)\n",
    "vs_segmentationData[0:5]"
   ]
  },
  {
   "cell_type": "markdown",
   "id": "c277c557",
   "metadata": {},
   "source": [
    "### b. Next, Perform Kmeans clustering (for this problem, use the Kmeans implementation in scikit-learn) on the image data (since there are a total 7 pre-assigned image classes, you should use K = 7 in your clustering). Use Euclidean distance as your distance measure for the clustering.  Compare your 7 clusters to the 7 pre-assigned classes by computing the Completeness and Homogeneity values of the generated clusters."
   ]
  },
  {
   "cell_type": "code",
   "execution_count": 15,
   "id": "8963c7c6",
   "metadata": {},
   "outputs": [
    {
     "data": {
      "text/plain": [
       "KMeans(n_clusters=7)"
      ]
     },
     "execution_count": 15,
     "metadata": {},
     "output_type": "execute_result"
    }
   ],
   "source": [
    "KMeans_cl = KMeans(n_clusters = 7)\n",
    "KMeans_cl.fit(vs_segmentationData)"
   ]
  },
  {
   "cell_type": "code",
   "execution_count": 16,
   "id": "44bccefa",
   "metadata": {},
   "outputs": [
    {
     "data": {
      "text/plain": [
       "(7, 19)"
      ]
     },
     "execution_count": 16,
     "metadata": {},
     "output_type": "execute_result"
    }
   ],
   "source": [
    "KMeans_cl.cluster_centers_.shape"
   ]
  },
  {
   "cell_type": "code",
   "execution_count": 17,
   "id": "e488d8bc",
   "metadata": {},
   "outputs": [
    {
     "name": "stdout",
     "output_type": "stream",
     "text": [
      "(19, 7)\n"
     ]
    },
    {
     "data": {
      "text/plain": [
       "array([[0.25, 0.54, 0.51, 0.3 , 0.77, 0.75, 0.25],\n",
       "       [0.39, 0.15, 0.81, 0.53, 0.43, 0.53, 0.46],\n",
       "       [0.  , 0.  , 0.  , 0.  , 0.  , 0.  , 0.  ],\n",
       "       [0.08, 0.03, 0.08, 0.05, 0.01, 0.04, 0.03],\n",
       "       [0.02, 0.  , 0.01, 0.05, 0.02, 0.04, 0.01],\n",
       "       [0.08, 0.03, 0.05, 0.1 , 0.04, 0.11, 0.04],\n",
       "       [0.  , 0.  , 0.  , 0.01, 0.  , 0.02, 0.  ],\n",
       "       [0.06, 0.03, 0.05, 0.08, 0.02, 0.11, 0.03],\n",
       "       [0.01, 0.  , 0.  , 0.01, 0.  , 0.02, 0.  ],\n",
       "       [0.15, 0.82, 0.11, 0.4 , 0.04, 0.3 , 0.03],\n",
       "       [0.14, 0.78, 0.09, 0.37, 0.03, 0.28, 0.02],\n",
       "       [0.18, 0.89, 0.09, 0.47, 0.06, 0.35, 0.04],\n",
       "       [0.12, 0.79, 0.14, 0.35, 0.03, 0.26, 0.02],\n",
       "       [0.72, 0.27, 0.68, 0.5 , 0.78, 0.59, 0.77],\n",
       "       [0.34, 0.67, 0.08, 0.57, 0.22, 0.45, 0.22],\n",
       "       [0.35, 0.29, 0.82, 0.21, 0.49, 0.31, 0.51],\n",
       "       [0.18, 0.89, 0.13, 0.47, 0.06, 0.35, 0.04],\n",
       "       [0.41, 0.21, 0.41, 0.3 , 0.54, 0.3 , 0.8 ],\n",
       "       [0.2 , 0.13, 0.89, 0.16, 0.24, 0.16, 0.18]])"
      ]
     },
     "execution_count": 17,
     "metadata": {},
     "output_type": "execute_result"
    }
   ],
   "source": [
    "transformedClusterCenters = KMeans_cl.cluster_centers_.T\n",
    "print(transformedClusterCenters.shape)\n",
    "transformedClusterCenters"
   ]
  },
  {
   "cell_type": "markdown",
   "id": "8ba38537",
   "metadata": {},
   "source": [
    "#### Print the cluster centroids (use some formatting so that they are visually understandable)."
   ]
  },
  {
   "cell_type": "code",
   "execution_count": 18,
   "id": "ffcd5f61",
   "metadata": {},
   "outputs": [
    {
     "name": "stdout",
     "output_type": "stream",
     "text": [
      "(19, 7)\n"
     ]
    },
    {
     "data": {
      "text/html": [
       "<div>\n",
       "<style scoped>\n",
       "    .dataframe tbody tr th:only-of-type {\n",
       "        vertical-align: middle;\n",
       "    }\n",
       "\n",
       "    .dataframe tbody tr th {\n",
       "        vertical-align: top;\n",
       "    }\n",
       "\n",
       "    .dataframe thead th {\n",
       "        text-align: right;\n",
       "    }\n",
       "</style>\n",
       "<table border=\"1\" class=\"dataframe\">\n",
       "  <thead>\n",
       "    <tr style=\"text-align: right;\">\n",
       "      <th></th>\n",
       "      <th>Cluster 1</th>\n",
       "      <th>Cluster 2</th>\n",
       "      <th>Cluster 3</th>\n",
       "      <th>Cluster 4</th>\n",
       "      <th>Cluster 5</th>\n",
       "      <th>Cluster 6</th>\n",
       "      <th>Cluster 7</th>\n",
       "    </tr>\n",
       "  </thead>\n",
       "  <tbody>\n",
       "    <tr>\n",
       "      <th>REGION-CENTROID-COL</th>\n",
       "      <td>0.25</td>\n",
       "      <td>0.54</td>\n",
       "      <td>0.51</td>\n",
       "      <td>0.30</td>\n",
       "      <td>0.77</td>\n",
       "      <td>0.75</td>\n",
       "      <td>0.25</td>\n",
       "    </tr>\n",
       "    <tr>\n",
       "      <th>REGION-CENTROID-ROW</th>\n",
       "      <td>0.39</td>\n",
       "      <td>0.15</td>\n",
       "      <td>0.81</td>\n",
       "      <td>0.53</td>\n",
       "      <td>0.43</td>\n",
       "      <td>0.53</td>\n",
       "      <td>0.46</td>\n",
       "    </tr>\n",
       "    <tr>\n",
       "      <th>REGION-PIXEL-COUNT</th>\n",
       "      <td>0.00</td>\n",
       "      <td>0.00</td>\n",
       "      <td>0.00</td>\n",
       "      <td>0.00</td>\n",
       "      <td>0.00</td>\n",
       "      <td>0.00</td>\n",
       "      <td>0.00</td>\n",
       "    </tr>\n",
       "    <tr>\n",
       "      <th>SHORT-LINE-DENSITY-5</th>\n",
       "      <td>0.08</td>\n",
       "      <td>0.03</td>\n",
       "      <td>0.08</td>\n",
       "      <td>0.05</td>\n",
       "      <td>0.01</td>\n",
       "      <td>0.04</td>\n",
       "      <td>0.03</td>\n",
       "    </tr>\n",
       "    <tr>\n",
       "      <th>SHORT-LINE-DENSITY-2</th>\n",
       "      <td>0.02</td>\n",
       "      <td>0.00</td>\n",
       "      <td>0.01</td>\n",
       "      <td>0.05</td>\n",
       "      <td>0.02</td>\n",
       "      <td>0.04</td>\n",
       "      <td>0.01</td>\n",
       "    </tr>\n",
       "    <tr>\n",
       "      <th>VEDGE-MEAN</th>\n",
       "      <td>0.08</td>\n",
       "      <td>0.03</td>\n",
       "      <td>0.05</td>\n",
       "      <td>0.10</td>\n",
       "      <td>0.04</td>\n",
       "      <td>0.11</td>\n",
       "      <td>0.04</td>\n",
       "    </tr>\n",
       "    <tr>\n",
       "      <th>VEDGE-SD</th>\n",
       "      <td>0.00</td>\n",
       "      <td>0.00</td>\n",
       "      <td>0.00</td>\n",
       "      <td>0.01</td>\n",
       "      <td>0.00</td>\n",
       "      <td>0.02</td>\n",
       "      <td>0.00</td>\n",
       "    </tr>\n",
       "    <tr>\n",
       "      <th>HEDGE-MEAN</th>\n",
       "      <td>0.06</td>\n",
       "      <td>0.03</td>\n",
       "      <td>0.05</td>\n",
       "      <td>0.08</td>\n",
       "      <td>0.02</td>\n",
       "      <td>0.11</td>\n",
       "      <td>0.03</td>\n",
       "    </tr>\n",
       "    <tr>\n",
       "      <th>HEDGE-SD</th>\n",
       "      <td>0.01</td>\n",
       "      <td>0.00</td>\n",
       "      <td>0.00</td>\n",
       "      <td>0.01</td>\n",
       "      <td>0.00</td>\n",
       "      <td>0.02</td>\n",
       "      <td>0.00</td>\n",
       "    </tr>\n",
       "    <tr>\n",
       "      <th>INTENSITY-MEAN</th>\n",
       "      <td>0.15</td>\n",
       "      <td>0.82</td>\n",
       "      <td>0.11</td>\n",
       "      <td>0.40</td>\n",
       "      <td>0.04</td>\n",
       "      <td>0.30</td>\n",
       "      <td>0.03</td>\n",
       "    </tr>\n",
       "    <tr>\n",
       "      <th>RAWRED-MEAN</th>\n",
       "      <td>0.14</td>\n",
       "      <td>0.78</td>\n",
       "      <td>0.09</td>\n",
       "      <td>0.37</td>\n",
       "      <td>0.03</td>\n",
       "      <td>0.28</td>\n",
       "      <td>0.02</td>\n",
       "    </tr>\n",
       "    <tr>\n",
       "      <th>RAWBLUE-MEAN</th>\n",
       "      <td>0.18</td>\n",
       "      <td>0.89</td>\n",
       "      <td>0.09</td>\n",
       "      <td>0.47</td>\n",
       "      <td>0.06</td>\n",
       "      <td>0.35</td>\n",
       "      <td>0.04</td>\n",
       "    </tr>\n",
       "    <tr>\n",
       "      <th>RAWGREEN-MEAN</th>\n",
       "      <td>0.12</td>\n",
       "      <td>0.79</td>\n",
       "      <td>0.14</td>\n",
       "      <td>0.35</td>\n",
       "      <td>0.03</td>\n",
       "      <td>0.26</td>\n",
       "      <td>0.02</td>\n",
       "    </tr>\n",
       "    <tr>\n",
       "      <th>EXRED-MEAN</th>\n",
       "      <td>0.72</td>\n",
       "      <td>0.27</td>\n",
       "      <td>0.68</td>\n",
       "      <td>0.50</td>\n",
       "      <td>0.78</td>\n",
       "      <td>0.59</td>\n",
       "      <td>0.77</td>\n",
       "    </tr>\n",
       "    <tr>\n",
       "      <th>EXBLUE-MEAN</th>\n",
       "      <td>0.34</td>\n",
       "      <td>0.67</td>\n",
       "      <td>0.08</td>\n",
       "      <td>0.57</td>\n",
       "      <td>0.22</td>\n",
       "      <td>0.45</td>\n",
       "      <td>0.22</td>\n",
       "    </tr>\n",
       "    <tr>\n",
       "      <th>EXGREEN-MEAN</th>\n",
       "      <td>0.35</td>\n",
       "      <td>0.29</td>\n",
       "      <td>0.82</td>\n",
       "      <td>0.21</td>\n",
       "      <td>0.49</td>\n",
       "      <td>0.31</td>\n",
       "      <td>0.51</td>\n",
       "    </tr>\n",
       "    <tr>\n",
       "      <th>VALUE-MEAN</th>\n",
       "      <td>0.18</td>\n",
       "      <td>0.89</td>\n",
       "      <td>0.13</td>\n",
       "      <td>0.47</td>\n",
       "      <td>0.06</td>\n",
       "      <td>0.35</td>\n",
       "      <td>0.04</td>\n",
       "    </tr>\n",
       "    <tr>\n",
       "      <th>SATURATION-MEAN</th>\n",
       "      <td>0.41</td>\n",
       "      <td>0.21</td>\n",
       "      <td>0.41</td>\n",
       "      <td>0.30</td>\n",
       "      <td>0.54</td>\n",
       "      <td>0.30</td>\n",
       "      <td>0.80</td>\n",
       "    </tr>\n",
       "    <tr>\n",
       "      <th>HUE-MEAN</th>\n",
       "      <td>0.20</td>\n",
       "      <td>0.13</td>\n",
       "      <td>0.89</td>\n",
       "      <td>0.16</td>\n",
       "      <td>0.24</td>\n",
       "      <td>0.16</td>\n",
       "      <td>0.18</td>\n",
       "    </tr>\n",
       "  </tbody>\n",
       "</table>\n",
       "</div>"
      ],
      "text/plain": [
       "                      Cluster 1  Cluster 2  Cluster 3  Cluster 4  Cluster 5  \\\n",
       "REGION-CENTROID-COL        0.25       0.54       0.51       0.30       0.77   \n",
       "REGION-CENTROID-ROW        0.39       0.15       0.81       0.53       0.43   \n",
       "REGION-PIXEL-COUNT         0.00       0.00       0.00       0.00       0.00   \n",
       "SHORT-LINE-DENSITY-5       0.08       0.03       0.08       0.05       0.01   \n",
       "SHORT-LINE-DENSITY-2       0.02       0.00       0.01       0.05       0.02   \n",
       "VEDGE-MEAN                 0.08       0.03       0.05       0.10       0.04   \n",
       "VEDGE-SD                   0.00       0.00       0.00       0.01       0.00   \n",
       "HEDGE-MEAN                 0.06       0.03       0.05       0.08       0.02   \n",
       "HEDGE-SD                   0.01       0.00       0.00       0.01       0.00   \n",
       "INTENSITY-MEAN             0.15       0.82       0.11       0.40       0.04   \n",
       "RAWRED-MEAN                0.14       0.78       0.09       0.37       0.03   \n",
       "RAWBLUE-MEAN               0.18       0.89       0.09       0.47       0.06   \n",
       "RAWGREEN-MEAN              0.12       0.79       0.14       0.35       0.03   \n",
       "EXRED-MEAN                 0.72       0.27       0.68       0.50       0.78   \n",
       "EXBLUE-MEAN                0.34       0.67       0.08       0.57       0.22   \n",
       "EXGREEN-MEAN               0.35       0.29       0.82       0.21       0.49   \n",
       "VALUE-MEAN                 0.18       0.89       0.13       0.47       0.06   \n",
       "SATURATION-MEAN            0.41       0.21       0.41       0.30       0.54   \n",
       "HUE-MEAN                   0.20       0.13       0.89       0.16       0.24   \n",
       "\n",
       "                      Cluster 6  Cluster 7  \n",
       "REGION-CENTROID-COL        0.75       0.25  \n",
       "REGION-CENTROID-ROW        0.53       0.46  \n",
       "REGION-PIXEL-COUNT         0.00       0.00  \n",
       "SHORT-LINE-DENSITY-5       0.04       0.03  \n",
       "SHORT-LINE-DENSITY-2       0.04       0.01  \n",
       "VEDGE-MEAN                 0.11       0.04  \n",
       "VEDGE-SD                   0.02       0.00  \n",
       "HEDGE-MEAN                 0.11       0.03  \n",
       "HEDGE-SD                   0.02       0.00  \n",
       "INTENSITY-MEAN             0.30       0.03  \n",
       "RAWRED-MEAN                0.28       0.02  \n",
       "RAWBLUE-MEAN               0.35       0.04  \n",
       "RAWGREEN-MEAN              0.26       0.02  \n",
       "EXRED-MEAN                 0.59       0.77  \n",
       "EXBLUE-MEAN                0.45       0.22  \n",
       "EXGREEN-MEAN               0.31       0.51  \n",
       "VALUE-MEAN                 0.35       0.04  \n",
       "SATURATION-MEAN            0.30       0.80  \n",
       "HUE-MEAN                   0.16       0.18  "
      ]
     },
     "execution_count": 18,
     "metadata": {},
     "output_type": "execute_result"
    }
   ],
   "source": [
    "# Using Panda let's create a DataFrame\n",
    "# convert segmentationNames into a list which can used as an index\n",
    "clusterCentroids = pd.DataFrame(transformedClusterCenters, index = segmentationNames.tolist(), columns = ['Cluster 1', 'Cluster 2', 'Cluster 3', 'Cluster 4', 'Cluster 5', 'Cluster 6', 'Cluster 7'])\n",
    "clusterCentroids = clusterCentroids.round(decimals = 2)\n",
    "print(clusterCentroids.shape)\n",
    "clusterCentroids"
   ]
  },
  {
   "cell_type": "markdown",
   "id": "c4851b1c",
   "metadata": {},
   "source": [
    "<p>This is the summary of Clusters: 1, 2, 3, 4, 5, 6, and 7.</p> \n",
    "<p>REGION-CENTROID-COL stands out in both Cluster 6 and 7. REGION-CENTROID-ROW stands out in cluster 3 as defined by the cluster centroid of 0.81. INTENSITY-MEAN is well defined in cluster 2, RAWBLUE-MEAN is well defined in cluster2, HUE-MEAN is well defined in cluster 3.Looking at REGION-PIXEL-COUNT, it is not clearly defined in any of the seven clusters as its centroid is 0.00 in all of the clusters.</p>"
   ]
  },
  {
   "cell_type": "markdown",
   "id": "3ec4b127",
   "metadata": {},
   "source": [
    "#### Compare your 7 clusters to the 7 pre-assigned classes by computing the Completeness and Homogeneity values of the generated clusters."
   ]
  },
  {
   "cell_type": "code",
   "execution_count": 19,
   "id": "1e7602a8",
   "metadata": {},
   "outputs": [
    {
     "name": "stdout",
     "output_type": "stream",
     "text": [
      "The completness of the generated clusters is 0.61\n",
      "\n",
      "The homogeneity of the generated clusters is 0.61\n"
     ]
    }
   ],
   "source": [
    "print('The completness of the generated clusters is %.2f' %(completeness_score(df_segmentationClasses['classCode'], KMeans_cl.labels_)))\n",
    "print('')\n",
    "print('The homogeneity of the generated clusters is %.2f' %(homogeneity_score(df_segmentationClasses['classCode'], KMeans_cl.labels_)))"
   ]
  },
  {
   "cell_type": "markdown",
   "id": "8d11ce6e",
   "metadata": {},
   "source": [
    "<p>The completeness score approaches 1 when most of the data points that are members of a given class are elements of the same cluster while the homogeneity score approaches 1 when all the clusters contain almost only data points that are member of a single class.</p>\n",
    "<p>The completeness and homogeneity scores of 0.61 are not bad scores asthey are definately approaching 1.</p>"
   ]
  },
  {
   "cell_type": "markdown",
   "id": "45717ef8",
   "metadata": {},
   "source": [
    "### c. Perform PCA on the normalized image data matrix. You may use the linear algebra package in Numpy or the Decomposition module in scikit-learn (the latter is much more efficient). Analyze the principal components to determine the number, r, of PCs needed to capture at least 95% of variance in the data. Then use these r components as features to transform the data into a reduced dimension space. "
   ]
  },
  {
   "cell_type": "markdown",
   "id": "e005e5d8",
   "metadata": {},
   "source": [
    "#### let's derive PCA using the Decomposition module in scikit-learn. "
   ]
  },
  {
   "cell_type": "code",
   "execution_count": 20,
   "id": "9ebb75ed",
   "metadata": {},
   "outputs": [
    {
     "data": {
      "text/plain": [
       "array([[-0.69,  0.53,  0.25, ..., -0.  ,  0.  , -0.  ],\n",
       "       [-0.67,  0.51,  0.34, ..., -0.02,  0.  , -0.01],\n",
       "       [-0.71,  0.77, -0.16, ...,  0.05, -0.05,  0.04],\n",
       "       ...,\n",
       "       [-0.51, -0.13, -0.08, ...,  0.03, -0.01, -0.08],\n",
       "       [-0.48, -0.09, -0.16, ...,  0.03, -0.03, -0.05],\n",
       "       [-0.44, -0.11, -0.05, ...,  0.13, -0.05, -0.11]])"
      ]
     },
     "execution_count": 20,
     "metadata": {},
     "output_type": "execute_result"
    }
   ],
   "source": [
    "pcaImages = decomposition.PCA(n_components = 10)\n",
    "imagesTransformed_pca = pcaImages.fit_transform(vs_segmentationData)\n",
    "imagesTransformed_pca"
   ]
  },
  {
   "cell_type": "markdown",
   "id": "d008807c",
   "metadata": {},
   "source": [
    "#### Let's convert the imagesTransformed_pca into pandas which is more friendly."
   ]
  },
  {
   "cell_type": "code",
   "execution_count": 21,
   "id": "4643aa3f",
   "metadata": {},
   "outputs": [
    {
     "data": {
      "text/html": [
       "<div>\n",
       "<style scoped>\n",
       "    .dataframe tbody tr th:only-of-type {\n",
       "        vertical-align: middle;\n",
       "    }\n",
       "\n",
       "    .dataframe tbody tr th {\n",
       "        vertical-align: top;\n",
       "    }\n",
       "\n",
       "    .dataframe thead th {\n",
       "        text-align: right;\n",
       "    }\n",
       "</style>\n",
       "<table border=\"1\" class=\"dataframe\">\n",
       "  <thead>\n",
       "    <tr style=\"text-align: right;\">\n",
       "      <th></th>\n",
       "      <th>PC1</th>\n",
       "      <th>PC2</th>\n",
       "      <th>PC3</th>\n",
       "      <th>PC4</th>\n",
       "      <th>PC5</th>\n",
       "      <th>PC6</th>\n",
       "      <th>PC7</th>\n",
       "      <th>PC8</th>\n",
       "      <th>PC9</th>\n",
       "      <th>PC10</th>\n",
       "    </tr>\n",
       "  </thead>\n",
       "  <tbody>\n",
       "    <tr>\n",
       "      <th>0</th>\n",
       "      <td>-0.69</td>\n",
       "      <td>0.53</td>\n",
       "      <td>0.25</td>\n",
       "      <td>-0.20</td>\n",
       "      <td>-0.08</td>\n",
       "      <td>0.05</td>\n",
       "      <td>-0.05</td>\n",
       "      <td>-0.00</td>\n",
       "      <td>0.00</td>\n",
       "      <td>-0.00</td>\n",
       "    </tr>\n",
       "    <tr>\n",
       "      <th>1</th>\n",
       "      <td>-0.67</td>\n",
       "      <td>0.51</td>\n",
       "      <td>0.34</td>\n",
       "      <td>-0.17</td>\n",
       "      <td>-0.04</td>\n",
       "      <td>0.06</td>\n",
       "      <td>-0.04</td>\n",
       "      <td>-0.02</td>\n",
       "      <td>0.00</td>\n",
       "      <td>-0.01</td>\n",
       "    </tr>\n",
       "    <tr>\n",
       "      <th>2</th>\n",
       "      <td>-0.71</td>\n",
       "      <td>0.77</td>\n",
       "      <td>-0.16</td>\n",
       "      <td>-0.01</td>\n",
       "      <td>-0.17</td>\n",
       "      <td>0.04</td>\n",
       "      <td>-0.06</td>\n",
       "      <td>0.05</td>\n",
       "      <td>-0.05</td>\n",
       "      <td>0.04</td>\n",
       "    </tr>\n",
       "    <tr>\n",
       "      <th>3</th>\n",
       "      <td>-0.73</td>\n",
       "      <td>0.51</td>\n",
       "      <td>0.50</td>\n",
       "      <td>-0.06</td>\n",
       "      <td>-0.14</td>\n",
       "      <td>0.03</td>\n",
       "      <td>-0.10</td>\n",
       "      <td>0.03</td>\n",
       "      <td>-0.01</td>\n",
       "      <td>-0.01</td>\n",
       "    </tr>\n",
       "    <tr>\n",
       "      <th>4</th>\n",
       "      <td>-0.64</td>\n",
       "      <td>0.53</td>\n",
       "      <td>0.30</td>\n",
       "      <td>-0.18</td>\n",
       "      <td>-0.02</td>\n",
       "      <td>0.05</td>\n",
       "      <td>-0.06</td>\n",
       "      <td>0.01</td>\n",
       "      <td>-0.00</td>\n",
       "      <td>-0.01</td>\n",
       "    </tr>\n",
       "    <tr>\n",
       "      <th>...</th>\n",
       "      <td>...</td>\n",
       "      <td>...</td>\n",
       "      <td>...</td>\n",
       "      <td>...</td>\n",
       "      <td>...</td>\n",
       "      <td>...</td>\n",
       "      <td>...</td>\n",
       "      <td>...</td>\n",
       "      <td>...</td>\n",
       "      <td>...</td>\n",
       "    </tr>\n",
       "    <tr>\n",
       "      <th>2095</th>\n",
       "      <td>-0.50</td>\n",
       "      <td>-0.26</td>\n",
       "      <td>0.27</td>\n",
       "      <td>0.11</td>\n",
       "      <td>-0.01</td>\n",
       "      <td>-0.01</td>\n",
       "      <td>-0.10</td>\n",
       "      <td>0.01</td>\n",
       "      <td>-0.01</td>\n",
       "      <td>-0.08</td>\n",
       "    </tr>\n",
       "    <tr>\n",
       "      <th>2096</th>\n",
       "      <td>-0.50</td>\n",
       "      <td>-0.26</td>\n",
       "      <td>0.38</td>\n",
       "      <td>0.15</td>\n",
       "      <td>0.03</td>\n",
       "      <td>-0.20</td>\n",
       "      <td>0.14</td>\n",
       "      <td>0.12</td>\n",
       "      <td>-0.05</td>\n",
       "      <td>-0.13</td>\n",
       "    </tr>\n",
       "    <tr>\n",
       "      <th>2097</th>\n",
       "      <td>-0.51</td>\n",
       "      <td>-0.13</td>\n",
       "      <td>-0.08</td>\n",
       "      <td>0.10</td>\n",
       "      <td>-0.03</td>\n",
       "      <td>-0.03</td>\n",
       "      <td>-0.11</td>\n",
       "      <td>0.03</td>\n",
       "      <td>-0.01</td>\n",
       "      <td>-0.08</td>\n",
       "    </tr>\n",
       "    <tr>\n",
       "      <th>2098</th>\n",
       "      <td>-0.48</td>\n",
       "      <td>-0.09</td>\n",
       "      <td>-0.16</td>\n",
       "      <td>0.11</td>\n",
       "      <td>0.00</td>\n",
       "      <td>-0.00</td>\n",
       "      <td>-0.09</td>\n",
       "      <td>0.03</td>\n",
       "      <td>-0.03</td>\n",
       "      <td>-0.05</td>\n",
       "    </tr>\n",
       "    <tr>\n",
       "      <th>2099</th>\n",
       "      <td>-0.44</td>\n",
       "      <td>-0.11</td>\n",
       "      <td>-0.05</td>\n",
       "      <td>0.15</td>\n",
       "      <td>0.02</td>\n",
       "      <td>-0.21</td>\n",
       "      <td>0.15</td>\n",
       "      <td>0.13</td>\n",
       "      <td>-0.05</td>\n",
       "      <td>-0.11</td>\n",
       "    </tr>\n",
       "  </tbody>\n",
       "</table>\n",
       "<p>2100 rows × 10 columns</p>\n",
       "</div>"
      ],
      "text/plain": [
       "       PC1   PC2   PC3   PC4   PC5   PC6   PC7   PC8   PC9  PC10\n",
       "0    -0.69  0.53  0.25 -0.20 -0.08  0.05 -0.05 -0.00  0.00 -0.00\n",
       "1    -0.67  0.51  0.34 -0.17 -0.04  0.06 -0.04 -0.02  0.00 -0.01\n",
       "2    -0.71  0.77 -0.16 -0.01 -0.17  0.04 -0.06  0.05 -0.05  0.04\n",
       "3    -0.73  0.51  0.50 -0.06 -0.14  0.03 -0.10  0.03 -0.01 -0.01\n",
       "4    -0.64  0.53  0.30 -0.18 -0.02  0.05 -0.06  0.01 -0.00 -0.01\n",
       "...    ...   ...   ...   ...   ...   ...   ...   ...   ...   ...\n",
       "2095 -0.50 -0.26  0.27  0.11 -0.01 -0.01 -0.10  0.01 -0.01 -0.08\n",
       "2096 -0.50 -0.26  0.38  0.15  0.03 -0.20  0.14  0.12 -0.05 -0.13\n",
       "2097 -0.51 -0.13 -0.08  0.10 -0.03 -0.03 -0.11  0.03 -0.01 -0.08\n",
       "2098 -0.48 -0.09 -0.16  0.11  0.00 -0.00 -0.09  0.03 -0.03 -0.05\n",
       "2099 -0.44 -0.11 -0.05  0.15  0.02 -0.21  0.15  0.13 -0.05 -0.11\n",
       "\n",
       "[2100 rows x 10 columns]"
      ]
     },
     "execution_count": 21,
     "metadata": {},
     "output_type": "execute_result"
    }
   ],
   "source": [
    "df_principalComponent = pd.DataFrame(data = imagesTransformed_pca, columns = ['PC1', 'PC2', 'PC3', 'PC4', 'PC5', 'PC6', 'PC7', 'PC8', 'PC9', 'PC10'])\n",
    "df_principalComponent = df_principalComponent.round(decimals = 2)\n",
    "df_principalComponent"
   ]
  },
  {
   "cell_type": "markdown",
   "id": "bf1e2d2b",
   "metadata": {},
   "source": [
    "<p>Below, we learn that the 95% of the variance is explained by the first 7 components:</p>"
   ]
  },
  {
   "cell_type": "code",
   "execution_count": 22,
   "id": "d17f0e35",
   "metadata": {},
   "outputs": [
    {
     "data": {
      "text/plain": [
       "array([0.61, 0.13, 0.1 , 0.05, 0.04, 0.02, 0.02, 0.02, 0.01, 0.01])"
      ]
     },
     "execution_count": 22,
     "metadata": {},
     "output_type": "execute_result"
    }
   ],
   "source": [
    "pcaImages.explained_variance_ratio_"
   ]
  },
  {
   "cell_type": "markdown",
   "id": "ddf27c24",
   "metadata": {},
   "source": [
    "#### We can plot the principal components based on the percentage of variance they capture:"
   ]
  },
  {
   "cell_type": "code",
   "execution_count": 23,
   "id": "9bc12f43",
   "metadata": {},
   "outputs": [
    {
     "data": {
      "image/png": "[encoded data removed]",
      "text/plain": [
       "<Figure size 720x432 with 1 Axes>"
      ]
     },
     "metadata": {
      "needs_background": "light"
     },
     "output_type": "display_data"
    }
   ],
   "source": [
    "fig = plt.figure(figsize=(10,6))\n",
    "ax = fig.add_subplot(111)\n",
    "    # multiply explained_variance_ratio_ by 100 to express the number in percentages\n",
    "ax.plot(range(1, 11), pcaImages.explained_variance_ratio_ * 100, marker='^') \n",
    "plt.xlabel('Principal Component Number')\n",
    "plt.ylabel('Percentage of Variance')\n",
    "plt.title('Percentage of variance vs Principal Component Number')\n",
    "plt.show()"
   ]
  },
  {
   "cell_type": "markdown",
   "id": "3047d22b",
   "metadata": {},
   "source": [
    "<p>From the above scree plot, we notice that pca = 4 is more viable, but we can also try 5 components.</p>"
   ]
  },
  {
   "cell_type": "markdown",
   "id": "63c140e0",
   "metadata": {},
   "source": [
    "#### Let's derive a list of explained  variance ratios:"
   ]
  },
  {
   "cell_type": "code",
   "execution_count": 24,
   "id": "7ed63920",
   "metadata": {},
   "outputs": [
    {
     "name": "stdout",
     "output_type": "stream",
     "text": [
      "PC1 contains 60.71% of the variance.\n",
      "PC2 contains 73.91% of the variance.\n",
      "PC3 contains 84.03% of the variance.\n",
      "PC4 contains 88.58% of the variance.\n",
      "PC5 contains 92.13% of the variance.\n",
      "PC6 contains 94.11% of the variance.\n",
      "PC7 contains 96.01% of the variance.\n",
      "PC8 contains 97.62% of the variance.\n",
      "PC9 contains 98.69% of the variance.\n",
      "PC10 contains 99.40% of the variance.\n"
     ]
    }
   ],
   "source": [
    "numOfPCs = 0\n",
    "varianceRatio = 0\n",
    "for num in pcaImages.explained_variance_ratio_:\n",
    "    numOfPCs += 1\n",
    "    varianceRatio += num * 100\n",
    "    print('PC%s contains %.2f%% of the variance.' %(str(numOfPCs), varianceRatio))"
   ]
  },
  {
   "cell_type": "markdown",
   "id": "015356b5",
   "metadata": {},
   "source": [
    "<p>We discover that the first seven principle components <strong>PC1, PC2, PC3, PC4, PC5, PC6 and PC7 </strong> explain atleast 96% of the variance as demonstrated above.</p>"
   ]
  },
  {
   "cell_type": "markdown",
   "id": "e155518e",
   "metadata": {},
   "source": [
    "#### Let's ignore the last three 3 columns of our transformed data so that we remain with only 7 columns in the reduced dimension space:"
   ]
  },
  {
   "cell_type": "code",
   "execution_count": 25,
   "id": "82618c06",
   "metadata": {},
   "outputs": [
    {
     "data": {
      "text/plain": [
       "array([[-0.69,  0.53,  0.25, ..., -0.08,  0.05, -0.05],\n",
       "       [-0.67,  0.51,  0.34, ..., -0.04,  0.06, -0.04],\n",
       "       [-0.71,  0.77, -0.16, ..., -0.17,  0.04, -0.06],\n",
       "       ...,\n",
       "       [-0.51, -0.13, -0.08, ..., -0.03, -0.03, -0.11],\n",
       "       [-0.48, -0.09, -0.16, ...,  0.  , -0.  , -0.09],\n",
       "       [-0.44, -0.11, -0.05, ...,  0.02, -0.21,  0.15]])"
      ]
     },
     "execution_count": 25,
     "metadata": {},
     "output_type": "execute_result"
    }
   ],
   "source": [
    "reducedDim_SegmentationData = imagesTransformed_pca[:, :-3]\n",
    "reducedDim_SegmentationData"
   ]
  },
  {
   "cell_type": "markdown",
   "id": "7eca7158",
   "metadata": {},
   "source": [
    "<p>Above we have our reduced dimension space transformed data set.</p>"
   ]
  },
  {
   "cell_type": "markdown",
   "id": "8d348bd4",
   "metadata": {},
   "source": [
    "### d. Perform Kmeans again, but this time on the lower dimensional transformed data. Then, compute the Completeness and Homogeneity values of the new clusters."
   ]
  },
  {
   "cell_type": "code",
   "execution_count": 39,
   "id": "56eb079c",
   "metadata": {},
   "outputs": [
    {
     "data": {
      "text/plain": [
       "KMeans(n_clusters=7)"
      ]
     },
     "execution_count": 39,
     "metadata": {},
     "output_type": "execute_result"
    }
   ],
   "source": [
    "KMeans_cl = KMeans(n_clusters = 7)\n",
    "KMeans_cl.fit(reducedDim_SegmentationData)"
   ]
  },
  {
   "cell_type": "code",
   "execution_count": 34,
   "id": "c3331b3b",
   "metadata": {},
   "outputs": [
    {
     "data": {
      "text/plain": [
       "array([[ 1.41,  0.09,  0.04, -0.17, -0.03, -0.01, -0.02],\n",
       "       [-0.21, -0.25,  0.15,  0.06,  0.13, -0.01,  0.03],\n",
       "       [ 0.18,  0.04, -0.26,  0.18,  0.03,  0.02,  0.  ],\n",
       "       [-0.62,  0.64,  0.2 , -0.09, -0.07,  0.01,  0.04],\n",
       "       [-0.6 , -0.36,  0.11, -0.13, -0.13, -0.02, -0.04],\n",
       "       [-0.51, -0.06, -0.34, -0.07,  0.08,  0.01, -0.03],\n",
       "       [ 0.44, -0.11,  0.17,  0.23, -0.05, -0.01,  0.02]])"
      ]
     },
     "execution_count": 34,
     "metadata": {},
     "output_type": "execute_result"
    }
   ],
   "source": [
    "KMeans_cl.cluster_centers_"
   ]
  },
  {
   "cell_type": "code",
   "execution_count": 40,
   "id": "a071f978",
   "metadata": {},
   "outputs": [
    {
     "name": "stdout",
     "output_type": "stream",
     "text": [
      "The completness of the generated clusters is 0.61\n",
      "\n",
      "The homogeneity of the generated clusters is 0.61\n"
     ]
    }
   ],
   "source": [
    "print('The completness of the generated clusters is %.2f' %(completeness_score(df_segmentationClasses['classCode'], KMeans_cl.labels_)))\n",
    "print('')\n",
    "print('The homogeneity of the generated clusters is %.2f' %(homogeneity_score(df_segmentationClasses['classCode'], KMeans_cl.labels_)))"
   ]
  },
  {
   "cell_type": "markdown",
   "id": "e4ca811c",
   "metadata": {},
   "source": [
    "<p>As previously seen, the completeness score approaches 1 when most of the data points that are members of a given class are elements of the same cluster while the homogeneity score approaches 1 when all the clusters contain almost only data points that are member of a single class.</p>\n",
    "<p>The completeness and homogeneity scores of 0.61 are not bad scores asthey are definately approaching 1.</p>"
   ]
  },
  {
   "cell_type": "markdown",
   "id": "41d8c73c",
   "metadata": {},
   "source": [
    "#### e. Discuss your observations based on the comparison of the two clustering results."
   ]
  },
  {
   "cell_type": "markdown",
   "id": "53df9484",
   "metadata": {},
   "source": [
    "<p> In both part b and d, we got the same completeness and homogeneity scores of 0.61. In part d, <strong>PCA</strong> helps to reduce the number of features while preserving the variance.</p>"
   ]
  }
 ],
 "metadata": {
  "kernelspec": {
   "display_name": "cmdpy37",
   "language": "python",
   "name": "cmdpy37"
  },
  "language_info": {
   "codemirror_mode": {
    "name": "ipython",
    "version": 3
   },
   "file_extension": ".py",
   "mimetype": "text/x-python",
   "name": "python",
   "nbconvert_exporter": "python",
   "pygments_lexer": "ipython3",
   "version": "3.7.11"
  }
 },
 "nbformat": 4,
 "nbformat_minor": 5
}
