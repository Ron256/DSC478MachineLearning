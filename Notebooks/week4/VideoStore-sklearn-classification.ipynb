{
 "cells": [
  {
   "cell_type": "markdown",
   "metadata": {},
   "source": [
    "#### In this example, we will explore the use of various classifiers from the scikit-learn package. Again, we'll use the modified Video Store data."
   ]
  },
  {
   "cell_type": "code",
   "execution_count": 1,
   "metadata": {},
   "outputs": [],
   "source": [
    "import numpy as np\n",
    "import pandas as pd"
   ]
  },
  {
   "cell_type": "code",
   "execution_count": 2,
   "metadata": {},
   "outputs": [
    {
     "data": {
      "text/plain": [
       "(50, 7)"
      ]
     },
     "execution_count": 2,
     "metadata": {},
     "output_type": "execute_result"
    }
   ],
   "source": [
    "vstable = pd.read_csv(\"../../data/Video_Store_2.csv\", index_col=0)\n",
    "\n",
    "vstable.shape"
   ]
  },
  {
   "cell_type": "code",
   "execution_count": 3,
   "metadata": {},
   "outputs": [
    {
     "data": {
      "text/html": [
       "<div>\n",
       "<style scoped>\n",
       "    .dataframe tbody tr th:only-of-type {\n",
       "        vertical-align: middle;\n",
       "    }\n",
       "\n",
       "    .dataframe tbody tr th {\n",
       "        vertical-align: top;\n",
       "    }\n",
       "\n",
       "    .dataframe thead th {\n",
       "        text-align: right;\n",
       "    }\n",
       "</style>\n",
       "<table border=\"1\" class=\"dataframe\">\n",
       "  <thead>\n",
       "    <tr style=\"text-align: right;\">\n",
       "      <th></th>\n",
       "      <th>Gender</th>\n",
       "      <th>Income</th>\n",
       "      <th>Age</th>\n",
       "      <th>Rentals</th>\n",
       "      <th>Avg Per Visit</th>\n",
       "      <th>Genre</th>\n",
       "      <th>Incidentals</th>\n",
       "    </tr>\n",
       "    <tr>\n",
       "      <th>Cust ID</th>\n",
       "      <th></th>\n",
       "      <th></th>\n",
       "      <th></th>\n",
       "      <th></th>\n",
       "      <th></th>\n",
       "      <th></th>\n",
       "      <th></th>\n",
       "    </tr>\n",
       "  </thead>\n",
       "  <tbody>\n",
       "    <tr>\n",
       "      <th>1</th>\n",
       "      <td>M</td>\n",
       "      <td>45000</td>\n",
       "      <td>25</td>\n",
       "      <td>32</td>\n",
       "      <td>2.5</td>\n",
       "      <td>Action</td>\n",
       "      <td>Yes</td>\n",
       "    </tr>\n",
       "    <tr>\n",
       "      <th>2</th>\n",
       "      <td>F</td>\n",
       "      <td>54000</td>\n",
       "      <td>33</td>\n",
       "      <td>12</td>\n",
       "      <td>3.4</td>\n",
       "      <td>Drama</td>\n",
       "      <td>No</td>\n",
       "    </tr>\n",
       "    <tr>\n",
       "      <th>3</th>\n",
       "      <td>F</td>\n",
       "      <td>32000</td>\n",
       "      <td>20</td>\n",
       "      <td>42</td>\n",
       "      <td>1.6</td>\n",
       "      <td>Comedy</td>\n",
       "      <td>No</td>\n",
       "    </tr>\n",
       "    <tr>\n",
       "      <th>4</th>\n",
       "      <td>F</td>\n",
       "      <td>59000</td>\n",
       "      <td>70</td>\n",
       "      <td>16</td>\n",
       "      <td>4.2</td>\n",
       "      <td>Drama</td>\n",
       "      <td>Yes</td>\n",
       "    </tr>\n",
       "    <tr>\n",
       "      <th>5</th>\n",
       "      <td>M</td>\n",
       "      <td>37000</td>\n",
       "      <td>35</td>\n",
       "      <td>25</td>\n",
       "      <td>3.2</td>\n",
       "      <td>Action</td>\n",
       "      <td>Yes</td>\n",
       "    </tr>\n",
       "  </tbody>\n",
       "</table>\n",
       "</div>"
      ],
      "text/plain": [
       "        Gender  Income  Age  Rentals  Avg Per Visit   Genre Incidentals\n",
       "Cust ID                                                                \n",
       "1            M   45000   25       32            2.5  Action         Yes\n",
       "2            F   54000   33       12            3.4   Drama          No\n",
       "3            F   32000   20       42            1.6  Comedy          No\n",
       "4            F   59000   70       16            4.2   Drama         Yes\n",
       "5            M   37000   35       25            3.2  Action         Yes"
      ]
     },
     "execution_count": 3,
     "metadata": {},
     "output_type": "execute_result"
    }
   ],
   "source": [
    "vstable.head()"
   ]
  },
  {
   "cell_type": "markdown",
   "metadata": {},
   "source": [
    "#### Let's separate the target attribute and the attributes used for model training"
   ]
  },
  {
   "cell_type": "code",
   "execution_count": 4,
   "metadata": {},
   "outputs": [
    {
     "data": {
      "text/html": [
       "<div>\n",
       "<style scoped>\n",
       "    .dataframe tbody tr th:only-of-type {\n",
       "        vertical-align: middle;\n",
       "    }\n",
       "\n",
       "    .dataframe tbody tr th {\n",
       "        vertical-align: top;\n",
       "    }\n",
       "\n",
       "    .dataframe thead th {\n",
       "        text-align: right;\n",
       "    }\n",
       "</style>\n",
       "<table border=\"1\" class=\"dataframe\">\n",
       "  <thead>\n",
       "    <tr style=\"text-align: right;\">\n",
       "      <th></th>\n",
       "      <th>Gender</th>\n",
       "      <th>Income</th>\n",
       "      <th>Age</th>\n",
       "      <th>Rentals</th>\n",
       "      <th>Avg Per Visit</th>\n",
       "      <th>Genre</th>\n",
       "    </tr>\n",
       "    <tr>\n",
       "      <th>Cust ID</th>\n",
       "      <th></th>\n",
       "      <th></th>\n",
       "      <th></th>\n",
       "      <th></th>\n",
       "      <th></th>\n",
       "      <th></th>\n",
       "    </tr>\n",
       "  </thead>\n",
       "  <tbody>\n",
       "    <tr>\n",
       "      <th>1</th>\n",
       "      <td>M</td>\n",
       "      <td>45000</td>\n",
       "      <td>25</td>\n",
       "      <td>32</td>\n",
       "      <td>2.5</td>\n",
       "      <td>Action</td>\n",
       "    </tr>\n",
       "    <tr>\n",
       "      <th>2</th>\n",
       "      <td>F</td>\n",
       "      <td>54000</td>\n",
       "      <td>33</td>\n",
       "      <td>12</td>\n",
       "      <td>3.4</td>\n",
       "      <td>Drama</td>\n",
       "    </tr>\n",
       "    <tr>\n",
       "      <th>3</th>\n",
       "      <td>F</td>\n",
       "      <td>32000</td>\n",
       "      <td>20</td>\n",
       "      <td>42</td>\n",
       "      <td>1.6</td>\n",
       "      <td>Comedy</td>\n",
       "    </tr>\n",
       "    <tr>\n",
       "      <th>4</th>\n",
       "      <td>F</td>\n",
       "      <td>59000</td>\n",
       "      <td>70</td>\n",
       "      <td>16</td>\n",
       "      <td>4.2</td>\n",
       "      <td>Drama</td>\n",
       "    </tr>\n",
       "    <tr>\n",
       "      <th>5</th>\n",
       "      <td>M</td>\n",
       "      <td>37000</td>\n",
       "      <td>35</td>\n",
       "      <td>25</td>\n",
       "      <td>3.2</td>\n",
       "      <td>Action</td>\n",
       "    </tr>\n",
       "  </tbody>\n",
       "</table>\n",
       "</div>"
      ],
      "text/plain": [
       "        Gender  Income  Age  Rentals  Avg Per Visit   Genre\n",
       "Cust ID                                                    \n",
       "1            M   45000   25       32            2.5  Action\n",
       "2            F   54000   33       12            3.4   Drama\n",
       "3            F   32000   20       42            1.6  Comedy\n",
       "4            F   59000   70       16            4.2   Drama\n",
       "5            M   37000   35       25            3.2  Action"
      ]
     },
     "execution_count": 4,
     "metadata": {},
     "output_type": "execute_result"
    }
   ],
   "source": [
    "vs_records = vstable[['Gender','Income','Age','Rentals','Avg Per Visit','Genre']]\n",
    "vs_records.head()"
   ]
  },
  {
   "cell_type": "code",
   "execution_count": 5,
   "metadata": {},
   "outputs": [
    {
     "data": {
      "text/plain": [
       "Cust ID\n",
       "1    Yes\n",
       "2     No\n",
       "3     No\n",
       "4    Yes\n",
       "5    Yes\n",
       "Name: Incidentals, dtype: object"
      ]
     },
     "execution_count": 5,
     "metadata": {},
     "output_type": "execute_result"
    }
   ],
   "source": [
    "vs_target = vstable.Incidentals\n",
    "vs_target.head()"
   ]
  },
  {
   "cell_type": "markdown",
   "metadata": {},
   "source": [
    "#### Next, we use Pandas \"get_dummies\" function to create dummy variables. "
   ]
  },
  {
   "cell_type": "code",
   "execution_count": 6,
   "metadata": {},
   "outputs": [
    {
     "data": {
      "text/html": [
       "<div>\n",
       "<style scoped>\n",
       "    .dataframe tbody tr th:only-of-type {\n",
       "        vertical-align: middle;\n",
       "    }\n",
       "\n",
       "    .dataframe tbody tr th {\n",
       "        vertical-align: top;\n",
       "    }\n",
       "\n",
       "    .dataframe thead th {\n",
       "        text-align: right;\n",
       "    }\n",
       "</style>\n",
       "<table border=\"1\" class=\"dataframe\">\n",
       "  <thead>\n",
       "    <tr style=\"text-align: right;\">\n",
       "      <th></th>\n",
       "      <th>Income</th>\n",
       "      <th>Age</th>\n",
       "      <th>Rentals</th>\n",
       "      <th>Avg Per Visit</th>\n",
       "      <th>Gender_F</th>\n",
       "      <th>Gender_M</th>\n",
       "      <th>Genre_Action</th>\n",
       "      <th>Genre_Comedy</th>\n",
       "      <th>Genre_Drama</th>\n",
       "    </tr>\n",
       "    <tr>\n",
       "      <th>Cust ID</th>\n",
       "      <th></th>\n",
       "      <th></th>\n",
       "      <th></th>\n",
       "      <th></th>\n",
       "      <th></th>\n",
       "      <th></th>\n",
       "      <th></th>\n",
       "      <th></th>\n",
       "      <th></th>\n",
       "    </tr>\n",
       "  </thead>\n",
       "  <tbody>\n",
       "    <tr>\n",
       "      <th>1</th>\n",
       "      <td>45000</td>\n",
       "      <td>25</td>\n",
       "      <td>32</td>\n",
       "      <td>2.5</td>\n",
       "      <td>0</td>\n",
       "      <td>1</td>\n",
       "      <td>1</td>\n",
       "      <td>0</td>\n",
       "      <td>0</td>\n",
       "    </tr>\n",
       "    <tr>\n",
       "      <th>2</th>\n",
       "      <td>54000</td>\n",
       "      <td>33</td>\n",
       "      <td>12</td>\n",
       "      <td>3.4</td>\n",
       "      <td>1</td>\n",
       "      <td>0</td>\n",
       "      <td>0</td>\n",
       "      <td>0</td>\n",
       "      <td>1</td>\n",
       "    </tr>\n",
       "    <tr>\n",
       "      <th>3</th>\n",
       "      <td>32000</td>\n",
       "      <td>20</td>\n",
       "      <td>42</td>\n",
       "      <td>1.6</td>\n",
       "      <td>1</td>\n",
       "      <td>0</td>\n",
       "      <td>0</td>\n",
       "      <td>1</td>\n",
       "      <td>0</td>\n",
       "    </tr>\n",
       "    <tr>\n",
       "      <th>4</th>\n",
       "      <td>59000</td>\n",
       "      <td>70</td>\n",
       "      <td>16</td>\n",
       "      <td>4.2</td>\n",
       "      <td>1</td>\n",
       "      <td>0</td>\n",
       "      <td>0</td>\n",
       "      <td>0</td>\n",
       "      <td>1</td>\n",
       "    </tr>\n",
       "    <tr>\n",
       "      <th>5</th>\n",
       "      <td>37000</td>\n",
       "      <td>35</td>\n",
       "      <td>25</td>\n",
       "      <td>3.2</td>\n",
       "      <td>0</td>\n",
       "      <td>1</td>\n",
       "      <td>1</td>\n",
       "      <td>0</td>\n",
       "      <td>0</td>\n",
       "    </tr>\n",
       "    <tr>\n",
       "      <th>6</th>\n",
       "      <td>18000</td>\n",
       "      <td>20</td>\n",
       "      <td>29</td>\n",
       "      <td>1.7</td>\n",
       "      <td>0</td>\n",
       "      <td>1</td>\n",
       "      <td>1</td>\n",
       "      <td>0</td>\n",
       "      <td>0</td>\n",
       "    </tr>\n",
       "    <tr>\n",
       "      <th>7</th>\n",
       "      <td>29000</td>\n",
       "      <td>45</td>\n",
       "      <td>19</td>\n",
       "      <td>3.8</td>\n",
       "      <td>1</td>\n",
       "      <td>0</td>\n",
       "      <td>0</td>\n",
       "      <td>0</td>\n",
       "      <td>1</td>\n",
       "    </tr>\n",
       "    <tr>\n",
       "      <th>8</th>\n",
       "      <td>74000</td>\n",
       "      <td>25</td>\n",
       "      <td>31</td>\n",
       "      <td>2.4</td>\n",
       "      <td>0</td>\n",
       "      <td>1</td>\n",
       "      <td>1</td>\n",
       "      <td>0</td>\n",
       "      <td>0</td>\n",
       "    </tr>\n",
       "    <tr>\n",
       "      <th>9</th>\n",
       "      <td>38000</td>\n",
       "      <td>21</td>\n",
       "      <td>18</td>\n",
       "      <td>2.1</td>\n",
       "      <td>0</td>\n",
       "      <td>1</td>\n",
       "      <td>0</td>\n",
       "      <td>1</td>\n",
       "      <td>0</td>\n",
       "    </tr>\n",
       "    <tr>\n",
       "      <th>10</th>\n",
       "      <td>65000</td>\n",
       "      <td>40</td>\n",
       "      <td>21</td>\n",
       "      <td>3.3</td>\n",
       "      <td>1</td>\n",
       "      <td>0</td>\n",
       "      <td>0</td>\n",
       "      <td>0</td>\n",
       "      <td>1</td>\n",
       "    </tr>\n",
       "  </tbody>\n",
       "</table>\n",
       "</div>"
      ],
      "text/plain": [
       "         Income  Age  Rentals  Avg Per Visit  Gender_F  Gender_M  \\\n",
       "Cust ID                                                            \n",
       "1         45000   25       32            2.5         0         1   \n",
       "2         54000   33       12            3.4         1         0   \n",
       "3         32000   20       42            1.6         1         0   \n",
       "4         59000   70       16            4.2         1         0   \n",
       "5         37000   35       25            3.2         0         1   \n",
       "6         18000   20       29            1.7         0         1   \n",
       "7         29000   45       19            3.8         1         0   \n",
       "8         74000   25       31            2.4         0         1   \n",
       "9         38000   21       18            2.1         0         1   \n",
       "10        65000   40       21            3.3         1         0   \n",
       "\n",
       "         Genre_Action  Genre_Comedy  Genre_Drama  \n",
       "Cust ID                                           \n",
       "1                   1             0            0  \n",
       "2                   0             0            1  \n",
       "3                   0             1            0  \n",
       "4                   0             0            1  \n",
       "5                   1             0            0  \n",
       "6                   1             0            0  \n",
       "7                   0             0            1  \n",
       "8                   1             0            0  \n",
       "9                   0             1            0  \n",
       "10                  0             0            1  "
      ]
     },
     "execution_count": 6,
     "metadata": {},
     "output_type": "execute_result"
    }
   ],
   "source": [
    "vs_matrix = pd.get_dummies(vs_records[['Gender','Income','Age','Rentals','Avg Per Visit','Genre']])\n",
    "vs_matrix.head(10)"
   ]
  },
  {
   "cell_type": "markdown",
   "metadata": {},
   "source": [
    "#### Next, we divide the data into randomized training and test partitions (note that the same split should also be perfromed on the target attribute). The easiest way to do this is to use the \"train_test_split\" module of \"sklearn.cross_validation\". "
   ]
  },
  {
   "cell_type": "code",
   "execution_count": 7,
   "metadata": {},
   "outputs": [
    {
     "name": "stdout",
     "output_type": "stream",
     "text": [
      "(10, 9)\n"
     ]
    },
    {
     "data": {
      "text/html": [
       "<div>\n",
       "<style scoped>\n",
       "    .dataframe tbody tr th:only-of-type {\n",
       "        vertical-align: middle;\n",
       "    }\n",
       "\n",
       "    .dataframe tbody tr th {\n",
       "        vertical-align: top;\n",
       "    }\n",
       "\n",
       "    .dataframe thead th {\n",
       "        text-align: right;\n",
       "    }\n",
       "</style>\n",
       "<table border=\"1\" class=\"dataframe\">\n",
       "  <thead>\n",
       "    <tr style=\"text-align: right;\">\n",
       "      <th></th>\n",
       "      <th>Income</th>\n",
       "      <th>Age</th>\n",
       "      <th>Rentals</th>\n",
       "      <th>Avg Per Visit</th>\n",
       "      <th>Gender_F</th>\n",
       "      <th>Gender_M</th>\n",
       "      <th>Genre_Action</th>\n",
       "      <th>Genre_Comedy</th>\n",
       "      <th>Genre_Drama</th>\n",
       "    </tr>\n",
       "    <tr>\n",
       "      <th>Cust ID</th>\n",
       "      <th></th>\n",
       "      <th></th>\n",
       "      <th></th>\n",
       "      <th></th>\n",
       "      <th></th>\n",
       "      <th></th>\n",
       "      <th></th>\n",
       "      <th></th>\n",
       "      <th></th>\n",
       "    </tr>\n",
       "  </thead>\n",
       "  <tbody>\n",
       "    <tr>\n",
       "      <th>6</th>\n",
       "      <td>18000</td>\n",
       "      <td>20</td>\n",
       "      <td>29</td>\n",
       "      <td>1.7</td>\n",
       "      <td>0</td>\n",
       "      <td>1</td>\n",
       "      <td>1</td>\n",
       "      <td>0</td>\n",
       "      <td>0</td>\n",
       "    </tr>\n",
       "    <tr>\n",
       "      <th>28</th>\n",
       "      <td>57000</td>\n",
       "      <td>52</td>\n",
       "      <td>22</td>\n",
       "      <td>4.1</td>\n",
       "      <td>0</td>\n",
       "      <td>1</td>\n",
       "      <td>0</td>\n",
       "      <td>1</td>\n",
       "      <td>0</td>\n",
       "    </tr>\n",
       "    <tr>\n",
       "      <th>38</th>\n",
       "      <td>41000</td>\n",
       "      <td>38</td>\n",
       "      <td>20</td>\n",
       "      <td>3.3</td>\n",
       "      <td>0</td>\n",
       "      <td>1</td>\n",
       "      <td>0</td>\n",
       "      <td>0</td>\n",
       "      <td>1</td>\n",
       "    </tr>\n",
       "    <tr>\n",
       "      <th>16</th>\n",
       "      <td>17000</td>\n",
       "      <td>19</td>\n",
       "      <td>26</td>\n",
       "      <td>2.2</td>\n",
       "      <td>0</td>\n",
       "      <td>1</td>\n",
       "      <td>1</td>\n",
       "      <td>0</td>\n",
       "      <td>0</td>\n",
       "    </tr>\n",
       "    <tr>\n",
       "      <th>41</th>\n",
       "      <td>50000</td>\n",
       "      <td>33</td>\n",
       "      <td>17</td>\n",
       "      <td>1.4</td>\n",
       "      <td>1</td>\n",
       "      <td>0</td>\n",
       "      <td>0</td>\n",
       "      <td>0</td>\n",
       "      <td>1</td>\n",
       "    </tr>\n",
       "  </tbody>\n",
       "</table>\n",
       "</div>"
      ],
      "text/plain": [
       "         Income  Age  Rentals  Avg Per Visit  Gender_F  Gender_M  \\\n",
       "Cust ID                                                            \n",
       "6         18000   20       29            1.7         0         1   \n",
       "28        57000   52       22            4.1         0         1   \n",
       "38        41000   38       20            3.3         0         1   \n",
       "16        17000   19       26            2.2         0         1   \n",
       "41        50000   33       17            1.4         1         0   \n",
       "\n",
       "         Genre_Action  Genre_Comedy  Genre_Drama  \n",
       "Cust ID                                           \n",
       "6                   1             0            0  \n",
       "28                  0             1            0  \n",
       "38                  0             0            1  \n",
       "16                  1             0            0  \n",
       "41                  0             0            1  "
      ]
     },
     "execution_count": 7,
     "metadata": {},
     "output_type": "execute_result"
    }
   ],
   "source": [
    "\n",
    "# train_test_split shuffles the data and splits it into two splits for you. \n",
    "from sklearn.model_selection import train_test_split \n",
    "vs_train, vs_test, vs_target_train, vs_target_test = train_test_split(vs_matrix, vs_target, test_size=0.2, random_state=33)\n",
    "\n",
    "# 80% training - 20% test\n",
    "print (vs_test.shape)\n",
    "vs_test[0:5]"
   ]
  },
  {
   "cell_type": "code",
   "execution_count": 8,
   "metadata": {},
   "outputs": [
    {
     "name": "stdout",
     "output_type": "stream",
     "text": [
      "(40, 9)\n"
     ]
    },
    {
     "data": {
      "text/html": [
       "<div>\n",
       "<style scoped>\n",
       "    .dataframe tbody tr th:only-of-type {\n",
       "        vertical-align: middle;\n",
       "    }\n",
       "\n",
       "    .dataframe tbody tr th {\n",
       "        vertical-align: top;\n",
       "    }\n",
       "\n",
       "    .dataframe thead th {\n",
       "        text-align: right;\n",
       "    }\n",
       "</style>\n",
       "<table border=\"1\" class=\"dataframe\">\n",
       "  <thead>\n",
       "    <tr style=\"text-align: right;\">\n",
       "      <th></th>\n",
       "      <th>Income</th>\n",
       "      <th>Age</th>\n",
       "      <th>Rentals</th>\n",
       "      <th>Avg Per Visit</th>\n",
       "      <th>Gender_F</th>\n",
       "      <th>Gender_M</th>\n",
       "      <th>Genre_Action</th>\n",
       "      <th>Genre_Comedy</th>\n",
       "      <th>Genre_Drama</th>\n",
       "    </tr>\n",
       "    <tr>\n",
       "      <th>Cust ID</th>\n",
       "      <th></th>\n",
       "      <th></th>\n",
       "      <th></th>\n",
       "      <th></th>\n",
       "      <th></th>\n",
       "      <th></th>\n",
       "      <th></th>\n",
       "      <th></th>\n",
       "      <th></th>\n",
       "    </tr>\n",
       "  </thead>\n",
       "  <tbody>\n",
       "    <tr>\n",
       "      <th>30</th>\n",
       "      <td>41000</td>\n",
       "      <td>25</td>\n",
       "      <td>17</td>\n",
       "      <td>1.4</td>\n",
       "      <td>0</td>\n",
       "      <td>1</td>\n",
       "      <td>1</td>\n",
       "      <td>0</td>\n",
       "      <td>0</td>\n",
       "    </tr>\n",
       "    <tr>\n",
       "      <th>35</th>\n",
       "      <td>74000</td>\n",
       "      <td>29</td>\n",
       "      <td>43</td>\n",
       "      <td>4.6</td>\n",
       "      <td>0</td>\n",
       "      <td>1</td>\n",
       "      <td>1</td>\n",
       "      <td>0</td>\n",
       "      <td>0</td>\n",
       "    </tr>\n",
       "    <tr>\n",
       "      <th>18</th>\n",
       "      <td>6000</td>\n",
       "      <td>16</td>\n",
       "      <td>39</td>\n",
       "      <td>1.8</td>\n",
       "      <td>1</td>\n",
       "      <td>0</td>\n",
       "      <td>1</td>\n",
       "      <td>0</td>\n",
       "      <td>0</td>\n",
       "    </tr>\n",
       "    <tr>\n",
       "      <th>40</th>\n",
       "      <td>17000</td>\n",
       "      <td>19</td>\n",
       "      <td>32</td>\n",
       "      <td>1.8</td>\n",
       "      <td>0</td>\n",
       "      <td>1</td>\n",
       "      <td>1</td>\n",
       "      <td>0</td>\n",
       "      <td>0</td>\n",
       "    </tr>\n",
       "    <tr>\n",
       "      <th>2</th>\n",
       "      <td>54000</td>\n",
       "      <td>33</td>\n",
       "      <td>12</td>\n",
       "      <td>3.4</td>\n",
       "      <td>1</td>\n",
       "      <td>0</td>\n",
       "      <td>0</td>\n",
       "      <td>0</td>\n",
       "      <td>1</td>\n",
       "    </tr>\n",
       "  </tbody>\n",
       "</table>\n",
       "</div>"
      ],
      "text/plain": [
       "         Income  Age  Rentals  Avg Per Visit  Gender_F  Gender_M  \\\n",
       "Cust ID                                                            \n",
       "30        41000   25       17            1.4         0         1   \n",
       "35        74000   29       43            4.6         0         1   \n",
       "18         6000   16       39            1.8         1         0   \n",
       "40        17000   19       32            1.8         0         1   \n",
       "2         54000   33       12            3.4         1         0   \n",
       "\n",
       "         Genre_Action  Genre_Comedy  Genre_Drama  \n",
       "Cust ID                                           \n",
       "30                  1             0            0  \n",
       "35                  1             0            0  \n",
       "18                  1             0            0  \n",
       "40                  1             0            0  \n",
       "2                   0             0            1  "
      ]
     },
     "execution_count": 8,
     "metadata": {},
     "output_type": "execute_result"
    }
   ],
   "source": [
    "print (vs_train.shape)\n",
    "vs_train[0:5]"
   ]
  },
  {
   "cell_type": "markdown",
   "metadata": {},
   "source": [
    "#### Performing min-max normalization to rescale numeric attributes."
   ]
  },
  {
   "cell_type": "code",
   "execution_count": 9,
   "metadata": {},
   "outputs": [],
   "source": [
    "from sklearn import preprocessing"
   ]
  },
  {
   "cell_type": "code",
   "execution_count": 10,
   "metadata": {},
   "outputs": [],
   "source": [
    "min_max_scaler = preprocessing.MinMaxScaler().fit(vs_train)\n",
    "vs_train_norm = min_max_scaler.transform(vs_train)\n",
    "vs_test_norm = min_max_scaler.transform(vs_test)"
   ]
  },
  {
   "cell_type": "code",
   "execution_count": 11,
   "metadata": {},
   "outputs": [
    {
     "data": {
      "text/plain": [
       "array([[0.45, 0.18, 0.16, 0.06, 0.  , 1.  , 1.  , 0.  , 0.  ],\n",
       "       [0.83, 0.25, 0.86, 0.97, 0.  , 1.  , 1.  , 0.  , 0.  ],\n",
       "       [0.06, 0.02, 0.76, 0.17, 1.  , 0.  , 1.  , 0.  , 0.  ],\n",
       "       [0.18, 0.07, 0.57, 0.17, 0.  , 1.  , 1.  , 0.  , 0.  ],\n",
       "       [0.6 , 0.33, 0.03, 0.63, 1.  , 0.  , 0.  , 0.  , 1.  ]])"
      ]
     },
     "execution_count": 11,
     "metadata": {},
     "output_type": "execute_result"
    }
   ],
   "source": [
    "np.set_printoptions(precision=2, linewidth=80, suppress=True)\n",
    "vs_train_norm[0:5] # look at the first 5 records"
   ]
  },
  {
   "cell_type": "code",
   "execution_count": 12,
   "metadata": {},
   "outputs": [
    {
     "data": {
      "text/plain": [
       "array([[0.19, 0.09, 0.49, 0.14, 0.  , 1.  , 1.  , 0.  , 0.  ],\n",
       "       [0.64, 0.67, 0.3 , 0.83, 0.  , 1.  , 0.  , 1.  , 0.  ],\n",
       "       [0.45, 0.42, 0.24, 0.6 , 0.  , 1.  , 0.  , 0.  , 1.  ],\n",
       "       [0.18, 0.07, 0.41, 0.29, 0.  , 1.  , 1.  , 0.  , 0.  ],\n",
       "       [0.56, 0.33, 0.16, 0.06, 1.  , 0.  , 0.  , 0.  , 1.  ]])"
      ]
     },
     "execution_count": 12,
     "metadata": {},
     "output_type": "execute_result"
    }
   ],
   "source": [
    "vs_test_norm[0:5] "
   ]
  },
  {
   "cell_type": "markdown",
   "metadata": {},
   "source": [
    "#### We will use the KNN, decision tree, and naive Bayes classifiers from sklearn."
   ]
  },
  {
   "cell_type": "code",
   "execution_count": 13,
   "metadata": {},
   "outputs": [],
   "source": [
    "from sklearn import neighbors, tree, naive_bayes"
   ]
  },
  {
   "cell_type": "markdown",
   "metadata": {},
   "source": [
    "#### First, we'll use KNN classifer. You can vary K and monitor the accuracy metrics (see below) to find the best value."
   ]
  },
  {
   "cell_type": "code",
   "execution_count": 14,
   "metadata": {},
   "outputs": [
    {
     "data": {
      "text/plain": [
       "KNeighborsClassifier(weights='distance')"
      ]
     },
     "execution_count": 14,
     "metadata": {},
     "output_type": "execute_result"
    }
   ],
   "source": [
    "n_neighbors = 5\n",
    "\n",
    "knnclf = neighbors.KNeighborsClassifier(n_neighbors, weights='distance') # distance meaning that the closest neighbors have a high say\n",
    "knnclf.fit(vs_train_norm, vs_target_train) # fir meaning that I am training it with the training data and the training labels or target"
   ]
  },
  {
   "cell_type": "markdown",
   "metadata": {},
   "source": [
    "#### Next, we call the predict function on the test intances to produce the predicted classes."
   ]
  },
  {
   "cell_type": "code",
   "execution_count": 15,
   "metadata": {},
   "outputs": [],
   "source": [
    "knnpreds_test = knnclf.predict(vs_test_norm) # we predict on the entire test matrix"
   ]
  },
  {
   "cell_type": "code",
   "execution_count": 16,
   "metadata": {},
   "outputs": [
    {
     "name": "stdout",
     "output_type": "stream",
     "text": [
      "['No' 'No' 'Yes' 'Yes' 'No' 'No' 'Yes' 'Yes' 'Yes' 'Yes']\n",
      "Cust ID\n",
      "6      No\n",
      "28     No\n",
      "38    Yes\n",
      "16    Yes\n",
      "41     No\n",
      "46     No\n",
      "5     Yes\n",
      "26    Yes\n",
      "1     Yes\n",
      "29    Yes\n",
      "Name: Incidentals, dtype: object\n"
     ]
    }
   ],
   "source": [
    "print (knnpreds_test) # \n",
    "print (vs_target_test) # Actual\n",
    "\n",
    "# You wanna compare the first with the second to know how accurate you are."
   ]
  },
  {
   "cell_type": "markdown",
   "metadata": {},
   "source": [
    "#### scikit-learn has various modules that can be used to evaluate classifier accuracy"
   ]
  },
  {
   "cell_type": "code",
   "execution_count": 17,
   "metadata": {},
   "outputs": [],
   "source": [
    "from sklearn.metrics import classification_report"
   ]
  },
  {
   "cell_type": "code",
   "execution_count": 18,
   "metadata": {},
   "outputs": [
    {
     "name": "stdout",
     "output_type": "stream",
     "text": [
      "              precision    recall  f1-score   support\n",
      "\n",
      "          No       1.00      1.00      1.00         4\n",
      "         Yes       1.00      1.00      1.00         6\n",
      "\n",
      "    accuracy                           1.00        10\n",
      "   macro avg       1.00      1.00      1.00        10\n",
      "weighted avg       1.00      1.00      1.00        10\n",
      "\n"
     ]
    }
   ],
   "source": [
    "print(classification_report(vs_target_test, knnpreds_test))\n",
    "\n",
    "# support is how many example were used to justify these numbers\n",
    "# if you had different weights to different classes, these numbers will not be looking the same, but in this case, it is just \n",
    "# repetitive, they are all the same i.e.. macro avg and weighted avg"
   ]
  },
  {
   "cell_type": "code",
   "execution_count": 19,
   "metadata": {},
   "outputs": [],
   "source": [
    "from sklearn.metrics import confusion_matrix"
   ]
  },
  {
   "cell_type": "code",
   "execution_count": 20,
   "metadata": {},
   "outputs": [
    {
     "name": "stdout",
     "output_type": "stream",
     "text": [
      "[[4 0]\n",
      " [0 6]]\n"
     ]
    }
   ],
   "source": [
    "knncm = confusion_matrix(vs_target_test, knnpreds_test)\n",
    "print (knncm)"
   ]
  },
  {
   "cell_type": "code",
   "execution_count": 21,
   "metadata": {},
   "outputs": [],
   "source": [
    "## here we only had 10 examples and 4 were correct and 6 were ......... with 0 errors. "
   ]
  },
  {
   "cell_type": "markdown",
   "metadata": {},
   "source": [
    "#### We can also compute the average accuracy score across the test instances"
   ]
  },
  {
   "cell_type": "code",
   "execution_count": 22,
   "metadata": {},
   "outputs": [
    {
     "name": "stdout",
     "output_type": "stream",
     "text": [
      "1.0\n"
     ]
    }
   ],
   "source": [
    "print (knnclf.score(vs_test_norm, vs_target_test))"
   ]
  },
  {
   "cell_type": "code",
   "execution_count": 23,
   "metadata": {},
   "outputs": [],
   "source": [
    "#### This can be compared to the performance on the training data itself (to check for over- or under-fitting)\n",
    "#### You can run your classifier on the training set. you can see how good you are doing in training and testing. "
   ]
  },
  {
   "cell_type": "code",
   "execution_count": 24,
   "metadata": {},
   "outputs": [
    {
     "name": "stdout",
     "output_type": "stream",
     "text": [
      "1.0\n"
     ]
    }
   ],
   "source": [
    "print (knnclf.score(vs_train_norm, vs_target_train))"
   ]
  },
  {
   "cell_type": "markdown",
   "metadata": {},
   "source": [
    "#### homework 2. The highe the difference between my training accuracy and testing accuracy, the more suspicious you have to be \n",
    "#### whether you have enough training data because if there is a big difference, may be you didn't learn from a general model. "
   ]
  },
  {
   "cell_type": "markdown",
   "metadata": {},
   "source": [
    "#### Next, let's use a decision tree classifier:"
   ]
  },
  {
   "cell_type": "code",
   "execution_count": 25,
   "metadata": {},
   "outputs": [],
   "source": [
    "treeclf = tree.DecisionTreeClassifier(criterion='entropy', min_samples_split=3)\n",
    "# entropy goes with information gain\n",
    "# if I know this 3, don't siplit it any further."
   ]
  },
  {
   "cell_type": "code",
   "execution_count": 26,
   "metadata": {},
   "outputs": [],
   "source": [
    "treeclf = treeclf.fit(vs_train, vs_target_train) # training your classifier. "
   ]
  },
  {
   "cell_type": "code",
   "execution_count": 27,
   "metadata": {},
   "outputs": [
    {
     "name": "stdout",
     "output_type": "stream",
     "text": [
      "['No' 'Yes' 'No' 'No' 'No' 'No' 'Yes' 'Yes' 'Yes' 'No']\n"
     ]
    }
   ],
   "source": [
    "treepreds_test = treeclf.predict(vs_test) # you predict on your entire test matrix.\n",
    "print (treepreds_test)"
   ]
  },
  {
   "cell_type": "code",
   "execution_count": 28,
   "metadata": {},
   "outputs": [
    {
     "name": "stdout",
     "output_type": "stream",
     "text": [
      "0.6\n"
     ]
    }
   ],
   "source": [
    "print (treeclf.score(vs_test, vs_target_test))"
   ]
  },
  {
   "cell_type": "code",
   "execution_count": 29,
   "metadata": {},
   "outputs": [
    {
     "name": "stdout",
     "output_type": "stream",
     "text": [
      "0.95\n"
     ]
    }
   ],
   "source": [
    "print (treeclf.score(vs_train, vs_target_train))"
   ]
  },
  {
   "cell_type": "code",
   "execution_count": 30,
   "metadata": {},
   "outputs": [],
   "source": [
    "### we a big problem here, there is a big drop between test and train\n",
    "## obviously we don't have enough data, there is n't enough training data to learning something in general. \n"
   ]
  },
  {
   "cell_type": "code",
   "execution_count": 31,
   "metadata": {},
   "outputs": [
    {
     "name": "stdout",
     "output_type": "stream",
     "text": [
      "              precision    recall  f1-score   support\n",
      "\n",
      "          No       0.50      0.75      0.60         4\n",
      "         Yes       0.75      0.50      0.60         6\n",
      "\n",
      "    accuracy                           0.60        10\n",
      "   macro avg       0.62      0.62      0.60        10\n",
      "weighted avg       0.65      0.60      0.60        10\n",
      "\n"
     ]
    }
   ],
   "source": [
    "print(classification_report(vs_target_test, treepreds_test))"
   ]
  },
  {
   "cell_type": "markdown",
   "metadata": {},
   "source": [
    "### Our numbers are generally lower"
   ]
  },
  {
   "cell_type": "code",
   "execution_count": 32,
   "metadata": {},
   "outputs": [
    {
     "name": "stdout",
     "output_type": "stream",
     "text": [
      "[[3 3]\n",
      " [1 3]]\n"
     ]
    }
   ],
   "source": [
    "treecm = confusion_matrix(vs_target_test, treepreds_test, labels=['Yes','No'])\n",
    "print (treecm)"
   ]
  },
  {
   "cell_type": "code",
   "execution_count": 33,
   "metadata": {},
   "outputs": [],
   "source": [
    "#### There are four errors this time, obviously "
   ]
  },
  {
   "cell_type": "markdown",
   "metadata": {},
   "source": [
    "#### We can actually plot the confusion matrix for better visualization:"
   ]
  },
  {
   "cell_type": "code",
   "execution_count": 34,
   "metadata": {},
   "outputs": [
    {
     "data": {
      "image/png": "[encoded data removed]",
      "text/plain": [
       "<Figure size 288x288 with 2 Axes>"
      ]
     },
     "metadata": {
      "needs_background": "light"
     },
     "output_type": "display_data"
    }
   ],
   "source": [
    "import pylab as plt\n",
    "%matplotlib inline\n",
    "plt.matshow(treecm)\n",
    "plt.title('Confusion matrix')\n",
    "plt.colorbar()\n",
    "plt.ylabel('Actual')\n",
    "plt.xlabel('Predicted')\n",
    "plt.show()"
   ]
  },
  {
   "cell_type": "markdown",
   "metadata": {},
   "source": [
    "#### Now, let's try the (Gaussian) naive Bayes classifier:"
   ]
  },
  {
   "cell_type": "code",
   "execution_count": 35,
   "metadata": {},
   "outputs": [
    {
     "name": "stdout",
     "output_type": "stream",
     "text": [
      "['Yes' 'No' 'Yes' 'Yes' 'No' 'No' 'Yes' 'Yes' 'Yes' 'Yes']\n"
     ]
    }
   ],
   "source": [
    "nbclf = naive_bayes.GaussianNB()\n",
    "nbclf = nbclf.fit(vs_train_norm, vs_target_train)\n",
    "nbpreds_test = nbclf.predict(vs_test_norm)\n",
    "print (nbpreds_test)"
   ]
  },
  {
   "cell_type": "code",
   "execution_count": 36,
   "metadata": {},
   "outputs": [
    {
     "name": "stdout",
     "output_type": "stream",
     "text": [
      "0.75\n"
     ]
    }
   ],
   "source": [
    "print (nbclf.score(vs_train_norm, vs_target_train))"
   ]
  },
  {
   "cell_type": "code",
   "execution_count": 37,
   "metadata": {},
   "outputs": [
    {
     "name": "stdout",
     "output_type": "stream",
     "text": [
      "0.9\n"
     ]
    }
   ],
   "source": [
    "print (nbclf.score(vs_test_norm, vs_target_test))"
   ]
  },
  {
   "cell_type": "markdown",
   "metadata": {},
   "source": [
    "#### Finally, let's try linear discriminant analysis:"
   ]
  },
  {
   "cell_type": "code",
   "execution_count": 38,
   "metadata": {},
   "outputs": [
    {
     "name": "stdout",
     "output_type": "stream",
     "text": [
      "['Yes' 'No' 'Yes' 'Yes' 'No' 'No' 'Yes' 'Yes' 'Yes' 'Yes']\n"
     ]
    }
   ],
   "source": [
    "from sklearn.discriminant_analysis import LinearDiscriminantAnalysis\n",
    "\n",
    "ldclf = LinearDiscriminantAnalysis()\n",
    "ldclf = ldclf.fit(vs_train, vs_target_train)\n",
    "ldpreds_test = ldclf.predict(vs_test)\n",
    "print (ldpreds_test)"
   ]
  },
  {
   "cell_type": "code",
   "execution_count": 39,
   "metadata": {},
   "outputs": [
    {
     "name": "stdout",
     "output_type": "stream",
     "text": [
      "0.9\n"
     ]
    }
   ],
   "source": [
    "print (ldclf.score(vs_test, vs_target_test))"
   ]
  },
  {
   "cell_type": "markdown",
   "metadata": {},
   "source": [
    "#### In this final example, I demonstrate how to use the cross-validation module from scikit-learn. This allows for n-fold cross validation without the necessity to split the data set manually."
   ]
  },
  {
   "cell_type": "code",
   "execution_count": 40,
   "metadata": {},
   "outputs": [],
   "source": [
    "from sklearn import model_selection"
   ]
  },
  {
   "cell_type": "code",
   "execution_count": 41,
   "metadata": {},
   "outputs": [
    {
     "data": {
      "text/plain": [
       "array([0.5, 0.5, 0.9, 0.4, 0.7])"
      ]
     },
     "execution_count": 41,
     "metadata": {},
     "output_type": "execute_result"
    }
   ],
   "source": [
    "cv_scores = model_selection.cross_val_score(treeclf, vs_matrix, vs_target, cv=5) # you pass a classifier, which you have trained\n",
    "cv_scores"
   ]
  },
  {
   "cell_type": "markdown",
   "metadata": {},
   "source": [
    "### You did training 5 times and you got five accuracies, which are much lower in general\n",
    "### because 0.8 was good for one split, but in a nother split you got 0.455, another split you got 0.4, e.t.c\n",
    "### not very good accurancies"
   ]
  },
  {
   "cell_type": "code",
   "execution_count": 42,
   "metadata": {},
   "outputs": [
    {
     "name": "stdout",
     "output_type": "stream",
     "text": [
      "Overall Accuracy: 0.60 (+/- 0.36)\n"
     ]
    }
   ],
   "source": [
    "# you can look at the average and the standard deviation\n",
    "print(\"Overall Accuracy: %0.2f (+/- %0.2f)\" % (cv_scores.mean(), cv_scores.std() * 2))\n",
    "# This is a more robust strategy, which shows how your classifier is doing. \n",
    "# you could put the standard deviation in percentage and show that it is too high and we realize that this classifier is not all that good.  "
   ]
  },
  {
   "cell_type": "markdown",
   "metadata": {},
   "source": [
    "#### Visualizing the decision tree"
   ]
  },
  {
   "cell_type": "code",
   "execution_count": 43,
   "metadata": {},
   "outputs": [],
   "source": [
    "from sklearn.tree import export_graphviz\n",
    "export_graphviz(treeclf,out_file='tree.dot', feature_names=vs_train.columns) # trying to build a tree and visualize it."
   ]
  },
  {
   "cell_type": "code",
   "execution_count": 50,
   "metadata": {},
   "outputs": [],
   "source": [
    "from sklearn.neighbors import NearestCentroid\n"
   ]
  },
  {
   "cell_type": "code",
   "execution_count": 48,
   "metadata": {},
   "outputs": [
    {
     "data": {
      "image/svg+xml": [
       "<?xml version=\"1.0\" encoding=\"UTF-8\" standalone=\"no\"?>\r\n",
       "<!DOCTYPE svg PUBLIC \"-//W3C//DTD SVG 1.1//EN\"\r\n",
       " \"http://www.w3.org/Graphics/SVG/1.1/DTD/svg11.dtd\">\r\n",
       "<!-- Generated by graphviz version 2.38.0 (20140413.2041)\r\n",
       " -->\r\n",
       "<!-- Title: Tree Pages: 1 -->\r\n",
       "<svg width=\"962pt\" height=\"581pt\"\r\n",
       " viewBox=\"0.00 0.00 962.00 581.00\" xmlns=\"http://www.w3.org/2000/svg\" xmlns:xlink=\"http://www.w3.org/1999/xlink\">\r\n",
       "<g id=\"graph0\" class=\"graph\" transform=\"scale(1 1) rotate(0) translate(4 577)\">\r\n",
       "<title>Tree</title>\r\n",
       "<polygon fill=\"white\" stroke=\"none\" points=\"-4,4 -4,-577 958,-577 958,4 -4,4\"/>\r\n",
       "<!-- 0 -->\r\n",
       "<g id=\"node1\" class=\"node\"><title>0</title>\r\n",
       "<polygon fill=\"none\" stroke=\"black\" points=\"636.5,-573 519.5,-573 519.5,-505 636.5,-505 636.5,-573\"/>\r\n",
       "<text text-anchor=\"middle\" x=\"578\" y=\"-557.8\" font-family=\"Helvetica,sans-Serif\" font-size=\"14.00\">Rentals &lt;= 15.5</text>\r\n",
       "<text text-anchor=\"middle\" x=\"578\" y=\"-542.8\" font-family=\"Helvetica,sans-Serif\" font-size=\"14.00\">entropy = 1.0</text>\r\n",
       "<text text-anchor=\"middle\" x=\"578\" y=\"-527.8\" font-family=\"Helvetica,sans-Serif\" font-size=\"14.00\">samples = 40</text>\r\n",
       "<text text-anchor=\"middle\" x=\"578\" y=\"-512.8\" font-family=\"Helvetica,sans-Serif\" font-size=\"14.00\">value = [20, 20]</text>\r\n",
       "</g>\r\n",
       "<!-- 1 -->\r\n",
       "<g id=\"node2\" class=\"node\"><title>1</title>\r\n",
       "<polygon fill=\"none\" stroke=\"black\" points=\"553,-461.5 453,-461.5 453,-408.5 553,-408.5 553,-461.5\"/>\r\n",
       "<text text-anchor=\"middle\" x=\"503\" y=\"-446.3\" font-family=\"Helvetica,sans-Serif\" font-size=\"14.00\">entropy = 0.0</text>\r\n",
       "<text text-anchor=\"middle\" x=\"503\" y=\"-431.3\" font-family=\"Helvetica,sans-Serif\" font-size=\"14.00\">samples = 6</text>\r\n",
       "<text text-anchor=\"middle\" x=\"503\" y=\"-416.3\" font-family=\"Helvetica,sans-Serif\" font-size=\"14.00\">value = [6, 0]</text>\r\n",
       "</g>\r\n",
       "<!-- 0&#45;&gt;1 -->\r\n",
       "<g id=\"edge1\" class=\"edge\"><title>0&#45;&gt;1</title>\r\n",
       "<path fill=\"none\" stroke=\"black\" d=\"M553.65,-504.884C545.401,-493.666 536.181,-481.126 527.891,-469.852\"/>\r\n",
       "<polygon fill=\"black\" stroke=\"black\" points=\"530.508,-467.503 521.765,-461.52 524.869,-471.65 530.508,-467.503\"/>\r\n",
       "<text text-anchor=\"middle\" x=\"517.995\" y=\"-482.534\" font-family=\"Helvetica,sans-Serif\" font-size=\"14.00\">True</text>\r\n",
       "</g>\r\n",
       "<!-- 2 -->\r\n",
       "<g id=\"node3\" class=\"node\"><title>2</title>\r\n",
       "<polygon fill=\"none\" stroke=\"black\" points=\"734.5,-469 571.5,-469 571.5,-401 734.5,-401 734.5,-469\"/>\r\n",
       "<text text-anchor=\"middle\" x=\"653\" y=\"-453.8\" font-family=\"Helvetica,sans-Serif\" font-size=\"14.00\">Genre_Comedy &lt;= 0.5</text>\r\n",
       "<text text-anchor=\"middle\" x=\"653\" y=\"-438.8\" font-family=\"Helvetica,sans-Serif\" font-size=\"14.00\">entropy = 0.977</text>\r\n",
       "<text text-anchor=\"middle\" x=\"653\" y=\"-423.8\" font-family=\"Helvetica,sans-Serif\" font-size=\"14.00\">samples = 34</text>\r\n",
       "<text text-anchor=\"middle\" x=\"653\" y=\"-408.8\" font-family=\"Helvetica,sans-Serif\" font-size=\"14.00\">value = [14, 20]</text>\r\n",
       "</g>\r\n",
       "<!-- 0&#45;&gt;2 -->\r\n",
       "<g id=\"edge2\" class=\"edge\"><title>0&#45;&gt;2</title>\r\n",
       "<path fill=\"none\" stroke=\"black\" d=\"M602.35,-504.884C608.769,-496.154 615.776,-486.625 622.475,-477.514\"/>\r\n",
       "<polygon fill=\"black\" stroke=\"black\" points=\"625.411,-479.429 628.515,-469.299 619.771,-475.283 625.411,-479.429\"/>\r\n",
       "<text text-anchor=\"middle\" x=\"632.285\" y=\"-490.313\" font-family=\"Helvetica,sans-Serif\" font-size=\"14.00\">False</text>\r\n",
       "</g>\r\n",
       "<!-- 3 -->\r\n",
       "<g id=\"node4\" class=\"node\"><title>3</title>\r\n",
       "<polygon fill=\"none\" stroke=\"black\" points=\"632,-365 524,-365 524,-297 632,-297 632,-365\"/>\r\n",
       "<text text-anchor=\"middle\" x=\"578\" y=\"-349.8\" font-family=\"Helvetica,sans-Serif\" font-size=\"14.00\">Age &lt;= 35.5</text>\r\n",
       "<text text-anchor=\"middle\" x=\"578\" y=\"-334.8\" font-family=\"Helvetica,sans-Serif\" font-size=\"14.00\">entropy = 0.89</text>\r\n",
       "<text text-anchor=\"middle\" x=\"578\" y=\"-319.8\" font-family=\"Helvetica,sans-Serif\" font-size=\"14.00\">samples = 26</text>\r\n",
       "<text text-anchor=\"middle\" x=\"578\" y=\"-304.8\" font-family=\"Helvetica,sans-Serif\" font-size=\"14.00\">value = [8, 18]</text>\r\n",
       "</g>\r\n",
       "<!-- 2&#45;&gt;3 -->\r\n",
       "<g id=\"edge3\" class=\"edge\"><title>2&#45;&gt;3</title>\r\n",
       "<path fill=\"none\" stroke=\"black\" d=\"M628.65,-400.884C622.231,-392.154 615.224,-382.625 608.525,-373.514\"/>\r\n",
       "<polygon fill=\"black\" stroke=\"black\" points=\"611.229,-371.283 602.485,-365.299 605.589,-375.429 611.229,-371.283\"/>\r\n",
       "</g>\r\n",
       "<!-- 16 -->\r\n",
       "<g id=\"node17\" class=\"node\"><title>16</title>\r\n",
       "<polygon fill=\"none\" stroke=\"black\" points=\"840,-365 714,-365 714,-297 840,-297 840,-365\"/>\r\n",
       "<text text-anchor=\"middle\" x=\"777\" y=\"-349.8\" font-family=\"Helvetica,sans-Serif\" font-size=\"14.00\">Gender_F &lt;= 0.5</text>\r\n",
       "<text text-anchor=\"middle\" x=\"777\" y=\"-334.8\" font-family=\"Helvetica,sans-Serif\" font-size=\"14.00\">entropy = 0.811</text>\r\n",
       "<text text-anchor=\"middle\" x=\"777\" y=\"-319.8\" font-family=\"Helvetica,sans-Serif\" font-size=\"14.00\">samples = 8</text>\r\n",
       "<text text-anchor=\"middle\" x=\"777\" y=\"-304.8\" font-family=\"Helvetica,sans-Serif\" font-size=\"14.00\">value = [6, 2]</text>\r\n",
       "</g>\r\n",
       "<!-- 2&#45;&gt;16 -->\r\n",
       "<g id=\"edge16\" class=\"edge\"><title>2&#45;&gt;16</title>\r\n",
       "<path fill=\"none\" stroke=\"black\" d=\"M693.259,-400.884C704.521,-391.62 716.878,-381.455 728.56,-371.845\"/>\r\n",
       "<polygon fill=\"black\" stroke=\"black\" points=\"731.019,-374.355 736.518,-365.299 726.572,-368.949 731.019,-374.355\"/>\r\n",
       "</g>\r\n",
       "<!-- 4 -->\r\n",
       "<g id=\"node5\" class=\"node\"><title>4</title>\r\n",
       "<polygon fill=\"none\" stroke=\"black\" points=\"421,-261 279,-261 279,-193 421,-193 421,-261\"/>\r\n",
       "<text text-anchor=\"middle\" x=\"350\" y=\"-245.8\" font-family=\"Helvetica,sans-Serif\" font-size=\"14.00\">Income &lt;= 24500.0</text>\r\n",
       "<text text-anchor=\"middle\" x=\"350\" y=\"-230.8\" font-family=\"Helvetica,sans-Serif\" font-size=\"14.00\">entropy = 0.722</text>\r\n",
       "<text text-anchor=\"middle\" x=\"350\" y=\"-215.8\" font-family=\"Helvetica,sans-Serif\" font-size=\"14.00\">samples = 20</text>\r\n",
       "<text text-anchor=\"middle\" x=\"350\" y=\"-200.8\" font-family=\"Helvetica,sans-Serif\" font-size=\"14.00\">value = [4, 16]</text>\r\n",
       "</g>\r\n",
       "<!-- 3&#45;&gt;4 -->\r\n",
       "<g id=\"edge4\" class=\"edge\"><title>3&#45;&gt;4</title>\r\n",
       "<path fill=\"none\" stroke=\"black\" d=\"M523.967,-305.827C496.161,-293.388 461.701,-277.971 430.805,-264.149\"/>\r\n",
       "<polygon fill=\"black\" stroke=\"black\" points=\"431.899,-260.805 421.342,-259.916 429.041,-267.195 431.899,-260.805\"/>\r\n",
       "</g>\r\n",
       "<!-- 11 -->\r\n",
       "<g id=\"node12\" class=\"node\"><title>11</title>\r\n",
       "<polygon fill=\"none\" stroke=\"black\" points=\"649.5,-261 506.5,-261 506.5,-193 649.5,-193 649.5,-261\"/>\r\n",
       "<text text-anchor=\"middle\" x=\"578\" y=\"-245.8\" font-family=\"Helvetica,sans-Serif\" font-size=\"14.00\">Avg Per Visit &lt;= 4.0</text>\r\n",
       "<text text-anchor=\"middle\" x=\"578\" y=\"-230.8\" font-family=\"Helvetica,sans-Serif\" font-size=\"14.00\">entropy = 0.918</text>\r\n",
       "<text text-anchor=\"middle\" x=\"578\" y=\"-215.8\" font-family=\"Helvetica,sans-Serif\" font-size=\"14.00\">samples = 6</text>\r\n",
       "<text text-anchor=\"middle\" x=\"578\" y=\"-200.8\" font-family=\"Helvetica,sans-Serif\" font-size=\"14.00\">value = [4, 2]</text>\r\n",
       "</g>\r\n",
       "<!-- 3&#45;&gt;11 -->\r\n",
       "<g id=\"edge11\" class=\"edge\"><title>3&#45;&gt;11</title>\r\n",
       "<path fill=\"none\" stroke=\"black\" d=\"M578,-296.884C578,-288.778 578,-279.982 578,-271.472\"/>\r\n",
       "<polygon fill=\"black\" stroke=\"black\" points=\"581.5,-271.299 578,-261.299 574.5,-271.299 581.5,-271.299\"/>\r\n",
       "</g>\r\n",
       "<!-- 5 -->\r\n",
       "<g id=\"node6\" class=\"node\"><title>5</title>\r\n",
       "<polygon fill=\"none\" stroke=\"black\" points=\"239,-157 97,-157 97,-89 239,-89 239,-157\"/>\r\n",
       "<text text-anchor=\"middle\" x=\"168\" y=\"-141.8\" font-family=\"Helvetica,sans-Serif\" font-size=\"14.00\">Income &lt;= 14500.0</text>\r\n",
       "<text text-anchor=\"middle\" x=\"168\" y=\"-126.8\" font-family=\"Helvetica,sans-Serif\" font-size=\"14.00\">entropy = 0.971</text>\r\n",
       "<text text-anchor=\"middle\" x=\"168\" y=\"-111.8\" font-family=\"Helvetica,sans-Serif\" font-size=\"14.00\">samples = 5</text>\r\n",
       "<text text-anchor=\"middle\" x=\"168\" y=\"-96.8\" font-family=\"Helvetica,sans-Serif\" font-size=\"14.00\">value = [3, 2]</text>\r\n",
       "</g>\r\n",
       "<!-- 4&#45;&gt;5 -->\r\n",
       "<g id=\"edge5\" class=\"edge\"><title>4&#45;&gt;5</title>\r\n",
       "<path fill=\"none\" stroke=\"black\" d=\"M290.91,-192.884C273.338,-183.035 253.948,-172.169 235.864,-162.034\"/>\r\n",
       "<polygon fill=\"black\" stroke=\"black\" points=\"237.54,-158.961 227.105,-157.125 234.117,-165.067 237.54,-158.961\"/>\r\n",
       "</g>\r\n",
       "<!-- 8 -->\r\n",
       "<g id=\"node9\" class=\"node\"><title>8</title>\r\n",
       "<polygon fill=\"none\" stroke=\"black\" points=\"425.5,-157 274.5,-157 274.5,-89 425.5,-89 425.5,-157\"/>\r\n",
       "<text text-anchor=\"middle\" x=\"350\" y=\"-141.8\" font-family=\"Helvetica,sans-Serif\" font-size=\"14.00\">Avg Per Visit &lt;= 1.95</text>\r\n",
       "<text text-anchor=\"middle\" x=\"350\" y=\"-126.8\" font-family=\"Helvetica,sans-Serif\" font-size=\"14.00\">entropy = 0.353</text>\r\n",
       "<text text-anchor=\"middle\" x=\"350\" y=\"-111.8\" font-family=\"Helvetica,sans-Serif\" font-size=\"14.00\">samples = 15</text>\r\n",
       "<text text-anchor=\"middle\" x=\"350\" y=\"-96.8\" font-family=\"Helvetica,sans-Serif\" font-size=\"14.00\">value = [1, 14]</text>\r\n",
       "</g>\r\n",
       "<!-- 4&#45;&gt;8 -->\r\n",
       "<g id=\"edge8\" class=\"edge\"><title>4&#45;&gt;8</title>\r\n",
       "<path fill=\"none\" stroke=\"black\" d=\"M350,-192.884C350,-184.778 350,-175.982 350,-167.472\"/>\r\n",
       "<polygon fill=\"black\" stroke=\"black\" points=\"353.5,-167.299 350,-157.299 346.5,-167.299 353.5,-167.299\"/>\r\n",
       "</g>\r\n",
       "<!-- 6 -->\r\n",
       "<g id=\"node7\" class=\"node\"><title>6</title>\r\n",
       "<polygon fill=\"none\" stroke=\"black\" points=\"100,-53 0,-53 0,-0 100,-0 100,-53\"/>\r\n",
       "<text text-anchor=\"middle\" x=\"50\" y=\"-37.8\" font-family=\"Helvetica,sans-Serif\" font-size=\"14.00\">entropy = 0.0</text>\r\n",
       "<text text-anchor=\"middle\" x=\"50\" y=\"-22.8\" font-family=\"Helvetica,sans-Serif\" font-size=\"14.00\">samples = 2</text>\r\n",
       "<text text-anchor=\"middle\" x=\"50\" y=\"-7.8\" font-family=\"Helvetica,sans-Serif\" font-size=\"14.00\">value = [0, 2]</text>\r\n",
       "</g>\r\n",
       "<!-- 5&#45;&gt;6 -->\r\n",
       "<g id=\"edge6\" class=\"edge\"><title>5&#45;&gt;6</title>\r\n",
       "<path fill=\"none\" stroke=\"black\" d=\"M126.729,-88.9485C114.85,-79.4346 101.912,-69.074 90.1044,-59.6175\"/>\r\n",
       "<polygon fill=\"black\" stroke=\"black\" points=\"92.1302,-56.7558 82.1368,-53.2367 87.7545,-62.2196 92.1302,-56.7558\"/>\r\n",
       "</g>\r\n",
       "<!-- 7 -->\r\n",
       "<g id=\"node8\" class=\"node\"><title>7</title>\r\n",
       "<polygon fill=\"none\" stroke=\"black\" points=\"218,-53 118,-53 118,-0 218,-0 218,-53\"/>\r\n",
       "<text text-anchor=\"middle\" x=\"168\" y=\"-37.8\" font-family=\"Helvetica,sans-Serif\" font-size=\"14.00\">entropy = 0.0</text>\r\n",
       "<text text-anchor=\"middle\" x=\"168\" y=\"-22.8\" font-family=\"Helvetica,sans-Serif\" font-size=\"14.00\">samples = 3</text>\r\n",
       "<text text-anchor=\"middle\" x=\"168\" y=\"-7.8\" font-family=\"Helvetica,sans-Serif\" font-size=\"14.00\">value = [3, 0]</text>\r\n",
       "</g>\r\n",
       "<!-- 5&#45;&gt;7 -->\r\n",
       "<g id=\"edge7\" class=\"edge\"><title>5&#45;&gt;7</title>\r\n",
       "<path fill=\"none\" stroke=\"black\" d=\"M168,-88.9485C168,-80.7153 168,-71.848 168,-63.4814\"/>\r\n",
       "<polygon fill=\"black\" stroke=\"black\" points=\"171.5,-63.2367 168,-53.2367 164.5,-63.2367 171.5,-63.2367\"/>\r\n",
       "</g>\r\n",
       "<!-- 9 -->\r\n",
       "<g id=\"node10\" class=\"node\"><title>9</title>\r\n",
       "<polygon fill=\"none\" stroke=\"black\" points=\"336,-53 236,-53 236,-0 336,-0 336,-53\"/>\r\n",
       "<text text-anchor=\"middle\" x=\"286\" y=\"-37.8\" font-family=\"Helvetica,sans-Serif\" font-size=\"14.00\">entropy = 1.0</text>\r\n",
       "<text text-anchor=\"middle\" x=\"286\" y=\"-22.8\" font-family=\"Helvetica,sans-Serif\" font-size=\"14.00\">samples = 2</text>\r\n",
       "<text text-anchor=\"middle\" x=\"286\" y=\"-7.8\" font-family=\"Helvetica,sans-Serif\" font-size=\"14.00\">value = [1, 1]</text>\r\n",
       "</g>\r\n",
       "<!-- 8&#45;&gt;9 -->\r\n",
       "<g id=\"edge9\" class=\"edge\"><title>8&#45;&gt;9</title>\r\n",
       "<path fill=\"none\" stroke=\"black\" d=\"M327.616,-88.9485C321.606,-80.0749 315.098,-70.4648 309.053,-61.5388\"/>\r\n",
       "<polygon fill=\"black\" stroke=\"black\" points=\"311.936,-59.5539 303.43,-53.2367 306.14,-63.4792 311.936,-59.5539\"/>\r\n",
       "</g>\r\n",
       "<!-- 10 -->\r\n",
       "<g id=\"node11\" class=\"node\"><title>10</title>\r\n",
       "<polygon fill=\"none\" stroke=\"black\" points=\"459.5,-53 354.5,-53 354.5,-0 459.5,-0 459.5,-53\"/>\r\n",
       "<text text-anchor=\"middle\" x=\"407\" y=\"-37.8\" font-family=\"Helvetica,sans-Serif\" font-size=\"14.00\">entropy = 0.0</text>\r\n",
       "<text text-anchor=\"middle\" x=\"407\" y=\"-22.8\" font-family=\"Helvetica,sans-Serif\" font-size=\"14.00\">samples = 13</text>\r\n",
       "<text text-anchor=\"middle\" x=\"407\" y=\"-7.8\" font-family=\"Helvetica,sans-Serif\" font-size=\"14.00\">value = [0, 13]</text>\r\n",
       "</g>\r\n",
       "<!-- 8&#45;&gt;10 -->\r\n",
       "<g id=\"edge10\" class=\"edge\"><title>8&#45;&gt;10</title>\r\n",
       "<path fill=\"none\" stroke=\"black\" d=\"M369.936,-88.9485C375.233,-80.1664 380.965,-70.6629 386.302,-61.815\"/>\r\n",
       "<polygon fill=\"black\" stroke=\"black\" points=\"389.308,-63.6074 391.476,-53.2367 383.314,-59.9919 389.308,-63.6074\"/>\r\n",
       "</g>\r\n",
       "<!-- 12 -->\r\n",
       "<g id=\"node13\" class=\"node\"><title>12</title>\r\n",
       "<polygon fill=\"none\" stroke=\"black\" points=\"591,-157 465,-157 465,-89 591,-89 591,-157\"/>\r\n",
       "<text text-anchor=\"middle\" x=\"528\" y=\"-141.8\" font-family=\"Helvetica,sans-Serif\" font-size=\"14.00\">Gender_F &lt;= 0.5</text>\r\n",
       "<text text-anchor=\"middle\" x=\"528\" y=\"-126.8\" font-family=\"Helvetica,sans-Serif\" font-size=\"14.00\">entropy = 0.722</text>\r\n",
       "<text text-anchor=\"middle\" x=\"528\" y=\"-111.8\" font-family=\"Helvetica,sans-Serif\" font-size=\"14.00\">samples = 5</text>\r\n",
       "<text text-anchor=\"middle\" x=\"528\" y=\"-96.8\" font-family=\"Helvetica,sans-Serif\" font-size=\"14.00\">value = [4, 1]</text>\r\n",
       "</g>\r\n",
       "<!-- 11&#45;&gt;12 -->\r\n",
       "<g id=\"edge12\" class=\"edge\"><title>11&#45;&gt;12</title>\r\n",
       "<path fill=\"none\" stroke=\"black\" d=\"M561.766,-192.884C557.618,-184.422 553.102,-175.207 548.761,-166.352\"/>\r\n",
       "<polygon fill=\"black\" stroke=\"black\" points=\"551.868,-164.738 544.323,-157.299 545.582,-167.819 551.868,-164.738\"/>\r\n",
       "</g>\r\n",
       "<!-- 15 -->\r\n",
       "<g id=\"node16\" class=\"node\"><title>15</title>\r\n",
       "<polygon fill=\"none\" stroke=\"black\" points=\"709,-149.5 609,-149.5 609,-96.5 709,-96.5 709,-149.5\"/>\r\n",
       "<text text-anchor=\"middle\" x=\"659\" y=\"-134.3\" font-family=\"Helvetica,sans-Serif\" font-size=\"14.00\">entropy = 0.0</text>\r\n",
       "<text text-anchor=\"middle\" x=\"659\" y=\"-119.3\" font-family=\"Helvetica,sans-Serif\" font-size=\"14.00\">samples = 1</text>\r\n",
       "<text text-anchor=\"middle\" x=\"659\" y=\"-104.3\" font-family=\"Helvetica,sans-Serif\" font-size=\"14.00\">value = [0, 1]</text>\r\n",
       "</g>\r\n",
       "<!-- 11&#45;&gt;15 -->\r\n",
       "<g id=\"edge15\" class=\"edge\"><title>11&#45;&gt;15</title>\r\n",
       "<path fill=\"none\" stroke=\"black\" d=\"M604.298,-192.884C613.294,-181.556 623.36,-168.88 632.381,-157.521\"/>\r\n",
       "<polygon fill=\"black\" stroke=\"black\" points=\"635.256,-159.528 638.734,-149.52 629.774,-155.174 635.256,-159.528\"/>\r\n",
       "</g>\r\n",
       "<!-- 13 -->\r\n",
       "<g id=\"node14\" class=\"node\"><title>13</title>\r\n",
       "<polygon fill=\"none\" stroke=\"black\" points=\"578,-53 478,-53 478,-0 578,-0 578,-53\"/>\r\n",
       "<text text-anchor=\"middle\" x=\"528\" y=\"-37.8\" font-family=\"Helvetica,sans-Serif\" font-size=\"14.00\">entropy = 1.0</text>\r\n",
       "<text text-anchor=\"middle\" x=\"528\" y=\"-22.8\" font-family=\"Helvetica,sans-Serif\" font-size=\"14.00\">samples = 2</text>\r\n",
       "<text text-anchor=\"middle\" x=\"528\" y=\"-7.8\" font-family=\"Helvetica,sans-Serif\" font-size=\"14.00\">value = [1, 1]</text>\r\n",
       "</g>\r\n",
       "<!-- 12&#45;&gt;13 -->\r\n",
       "<g id=\"edge13\" class=\"edge\"><title>12&#45;&gt;13</title>\r\n",
       "<path fill=\"none\" stroke=\"black\" d=\"M528,-88.9485C528,-80.7153 528,-71.848 528,-63.4814\"/>\r\n",
       "<polygon fill=\"black\" stroke=\"black\" points=\"531.5,-63.2367 528,-53.2367 524.5,-63.2367 531.5,-63.2367\"/>\r\n",
       "</g>\r\n",
       "<!-- 14 -->\r\n",
       "<g id=\"node15\" class=\"node\"><title>14</title>\r\n",
       "<polygon fill=\"none\" stroke=\"black\" points=\"696,-53 596,-53 596,-0 696,-0 696,-53\"/>\r\n",
       "<text text-anchor=\"middle\" x=\"646\" y=\"-37.8\" font-family=\"Helvetica,sans-Serif\" font-size=\"14.00\">entropy = 0.0</text>\r\n",
       "<text text-anchor=\"middle\" x=\"646\" y=\"-22.8\" font-family=\"Helvetica,sans-Serif\" font-size=\"14.00\">samples = 3</text>\r\n",
       "<text text-anchor=\"middle\" x=\"646\" y=\"-7.8\" font-family=\"Helvetica,sans-Serif\" font-size=\"14.00\">value = [3, 0]</text>\r\n",
       "</g>\r\n",
       "<!-- 12&#45;&gt;14 -->\r\n",
       "<g id=\"edge14\" class=\"edge\"><title>12&#45;&gt;14</title>\r\n",
       "<path fill=\"none\" stroke=\"black\" d=\"M569.271,-88.9485C581.15,-79.4346 594.088,-69.074 605.896,-59.6175\"/>\r\n",
       "<polygon fill=\"black\" stroke=\"black\" points=\"608.246,-62.2196 613.863,-53.2367 603.87,-56.7558 608.246,-62.2196\"/>\r\n",
       "</g>\r\n",
       "<!-- 17 -->\r\n",
       "<g id=\"node18\" class=\"node\"><title>17</title>\r\n",
       "<polygon fill=\"none\" stroke=\"black\" points=\"835.5,-261 718.5,-261 718.5,-193 835.5,-193 835.5,-261\"/>\r\n",
       "<text text-anchor=\"middle\" x=\"777\" y=\"-245.8\" font-family=\"Helvetica,sans-Serif\" font-size=\"14.00\">Rentals &lt;= 21.5</text>\r\n",
       "<text text-anchor=\"middle\" x=\"777\" y=\"-230.8\" font-family=\"Helvetica,sans-Serif\" font-size=\"14.00\">entropy = 0.918</text>\r\n",
       "<text text-anchor=\"middle\" x=\"777\" y=\"-215.8\" font-family=\"Helvetica,sans-Serif\" font-size=\"14.00\">samples = 3</text>\r\n",
       "<text text-anchor=\"middle\" x=\"777\" y=\"-200.8\" font-family=\"Helvetica,sans-Serif\" font-size=\"14.00\">value = [1, 2]</text>\r\n",
       "</g>\r\n",
       "<!-- 16&#45;&gt;17 -->\r\n",
       "<g id=\"edge17\" class=\"edge\"><title>16&#45;&gt;17</title>\r\n",
       "<path fill=\"none\" stroke=\"black\" d=\"M777,-296.884C777,-288.778 777,-279.982 777,-271.472\"/>\r\n",
       "<polygon fill=\"black\" stroke=\"black\" points=\"780.5,-271.299 777,-261.299 773.5,-271.299 780.5,-271.299\"/>\r\n",
       "</g>\r\n",
       "<!-- 20 -->\r\n",
       "<g id=\"node21\" class=\"node\"><title>20</title>\r\n",
       "<polygon fill=\"none\" stroke=\"black\" points=\"954,-253.5 854,-253.5 854,-200.5 954,-200.5 954,-253.5\"/>\r\n",
       "<text text-anchor=\"middle\" x=\"904\" y=\"-238.3\" font-family=\"Helvetica,sans-Serif\" font-size=\"14.00\">entropy = 0.0</text>\r\n",
       "<text text-anchor=\"middle\" x=\"904\" y=\"-223.3\" font-family=\"Helvetica,sans-Serif\" font-size=\"14.00\">samples = 5</text>\r\n",
       "<text text-anchor=\"middle\" x=\"904\" y=\"-208.3\" font-family=\"Helvetica,sans-Serif\" font-size=\"14.00\">value = [5, 0]</text>\r\n",
       "</g>\r\n",
       "<!-- 16&#45;&gt;20 -->\r\n",
       "<g id=\"edge20\" class=\"edge\"><title>16&#45;&gt;20</title>\r\n",
       "<path fill=\"none\" stroke=\"black\" d=\"M818.233,-296.884C833.022,-285.006 849.656,-271.646 864.311,-259.876\"/>\r\n",
       "<polygon fill=\"black\" stroke=\"black\" points=\"866.62,-262.511 872.225,-253.52 862.237,-257.053 866.62,-262.511\"/>\r\n",
       "</g>\r\n",
       "<!-- 18 -->\r\n",
       "<g id=\"node19\" class=\"node\"><title>18</title>\r\n",
       "<polygon fill=\"none\" stroke=\"black\" points=\"827,-149.5 727,-149.5 727,-96.5 827,-96.5 827,-149.5\"/>\r\n",
       "<text text-anchor=\"middle\" x=\"777\" y=\"-134.3\" font-family=\"Helvetica,sans-Serif\" font-size=\"14.00\">entropy = 0.0</text>\r\n",
       "<text text-anchor=\"middle\" x=\"777\" y=\"-119.3\" font-family=\"Helvetica,sans-Serif\" font-size=\"14.00\">samples = 1</text>\r\n",
       "<text text-anchor=\"middle\" x=\"777\" y=\"-104.3\" font-family=\"Helvetica,sans-Serif\" font-size=\"14.00\">value = [1, 0]</text>\r\n",
       "</g>\r\n",
       "<!-- 17&#45;&gt;18 -->\r\n",
       "<g id=\"edge18\" class=\"edge\"><title>17&#45;&gt;18</title>\r\n",
       "<path fill=\"none\" stroke=\"black\" d=\"M777,-192.884C777,-182.326 777,-170.597 777,-159.854\"/>\r\n",
       "<polygon fill=\"black\" stroke=\"black\" points=\"780.5,-159.52 777,-149.52 773.5,-159.52 780.5,-159.52\"/>\r\n",
       "</g>\r\n",
       "<!-- 19 -->\r\n",
       "<g id=\"node20\" class=\"node\"><title>19</title>\r\n",
       "<polygon fill=\"none\" stroke=\"black\" points=\"945,-149.5 845,-149.5 845,-96.5 945,-96.5 945,-149.5\"/>\r\n",
       "<text text-anchor=\"middle\" x=\"895\" y=\"-134.3\" font-family=\"Helvetica,sans-Serif\" font-size=\"14.00\">entropy = 0.0</text>\r\n",
       "<text text-anchor=\"middle\" x=\"895\" y=\"-119.3\" font-family=\"Helvetica,sans-Serif\" font-size=\"14.00\">samples = 2</text>\r\n",
       "<text text-anchor=\"middle\" x=\"895\" y=\"-104.3\" font-family=\"Helvetica,sans-Serif\" font-size=\"14.00\">value = [0, 2]</text>\r\n",
       "</g>\r\n",
       "<!-- 17&#45;&gt;19 -->\r\n",
       "<g id=\"edge19\" class=\"edge\"><title>17&#45;&gt;19</title>\r\n",
       "<path fill=\"none\" stroke=\"black\" d=\"M815.311,-192.884C828.925,-181.116 844.221,-167.894 857.745,-156.203\"/>\r\n",
       "<polygon fill=\"black\" stroke=\"black\" points=\"860.2,-158.707 865.477,-149.52 855.623,-153.412 860.2,-158.707\"/>\r\n",
       "</g>\r\n",
       "</g>\r\n",
       "</svg>\r\n"
      ],
      "text/plain": [
       "<graphviz.files.Source at 0x1bc9920e848>"
      ]
     },
     "execution_count": 48,
     "metadata": {},
     "output_type": "execute_result"
    }
   ],
   "source": [
    "import graphviz\n",
    "\n",
    "with open(\"tree.dot\") as f:\n",
    "    dot_graph = f.read()\n",
    "graphviz.Source(dot_graph)"
   ]
  },
  {
   "cell_type": "markdown",
   "metadata": {},
   "source": [
    "#### Alternatively, you can use GraphViz or some other tool outside Jupyter environment to convert the dot file into an image file (e.g., a .png file) and save it to a local directory. Then, the image can be displayed in Jupyter as follows."
   ]
  },
  {
   "cell_type": "code",
   "execution_count": 46,
   "metadata": {},
   "outputs": [
    {
     "data": {
      "text/plain": [
       "[]"
      ]
     },
     "execution_count": 46,
     "metadata": {},
     "output_type": "execute_result"
    }
   ],
   "source": [
    "system(dot -Tpng tree.dot -o dtree.png)"
   ]
  },
  {
   "cell_type": "code",
   "execution_count": 47,
   "metadata": {},
   "outputs": [
    {
     "data": {
      "image/png": "[encoded data removed]",
      "text/plain": [
       "<IPython.core.display.Image object>"
      ]
     },
     "execution_count": 47,
     "metadata": {
      "image/png": {
       "width": 800
      }
     },
     "output_type": "execute_result"
    }
   ],
   "source": [
    "from IPython.display import Image\n",
    "Image(filename='dtree.png', width=800)"
   ]
  },
  {
   "cell_type": "code",
   "execution_count": null,
   "metadata": {},
   "outputs": [],
   "source": []
  }
 ],
 "metadata": {
  "kernelspec": {
   "display_name": "Python 3 (ipykernel)",
   "language": "python",
   "name": "python3"
  },
  "language_info": {
   "codemirror_mode": {
    "name": "ipython",
    "version": 3
   },
   "file_extension": ".py",
   "mimetype": "text/x-python",
   "name": "python",
   "nbconvert_exporter": "python",
   "pygments_lexer": "ipython3",
   "version": "3.7.11"
  }
 },
 "nbformat": 4,
 "nbformat_minor": 1
}
