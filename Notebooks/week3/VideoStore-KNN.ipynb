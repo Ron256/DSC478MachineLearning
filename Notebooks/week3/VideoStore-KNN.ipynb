{
 "cells": [
  {
   "cell_type": "markdown",
   "metadata": {},
   "source": [
    "#### In this example we will look at how to use the K-Nearest_Neighbor algorithm for classification. We will use a modified version of the Video Store data set for this example. We will use the \"Incidentals\" attribute as the target attribute for classification (the class attribute). The goal is to be able to classify an unseen instance as \"Yes\" or \"No\" given the values of \"Incidentals\" from training instances."
   ]
  },
  {
   "cell_type": "code",
   "execution_count": 1,
   "metadata": {},
   "outputs": [],
   "source": [
    "import numpy as np\n",
    "import pandas as pd"
   ]
  },
  {
   "cell_type": "code",
   "execution_count": 2,
   "metadata": {},
   "outputs": [
    {
     "data": {
      "text/plain": [
       "(50, 7)"
      ]
     },
     "execution_count": 2,
     "metadata": {},
     "output_type": "execute_result"
    }
   ],
   "source": [
    "vstable = pd.read_csv(\"../../data/Video_Store_2.csv\", index_col=0)\n",
    "\n",
    "vstable.shape"
   ]
  },
  {
   "cell_type": "code",
   "execution_count": 3,
   "metadata": {},
   "outputs": [
    {
     "data": {
      "text/html": [
       "<div>\n",
       "<style scoped>\n",
       "    .dataframe tbody tr th:only-of-type {\n",
       "        vertical-align: middle;\n",
       "    }\n",
       "\n",
       "    .dataframe tbody tr th {\n",
       "        vertical-align: top;\n",
       "    }\n",
       "\n",
       "    .dataframe thead th {\n",
       "        text-align: right;\n",
       "    }\n",
       "</style>\n",
       "<table border=\"1\" class=\"dataframe\">\n",
       "  <thead>\n",
       "    <tr style=\"text-align: right;\">\n",
       "      <th></th>\n",
       "      <th>Gender</th>\n",
       "      <th>Income</th>\n",
       "      <th>Age</th>\n",
       "      <th>Rentals</th>\n",
       "      <th>Avg Per Visit</th>\n",
       "      <th>Genre</th>\n",
       "      <th>Incidentals</th>\n",
       "    </tr>\n",
       "    <tr>\n",
       "      <th>Cust ID</th>\n",
       "      <th></th>\n",
       "      <th></th>\n",
       "      <th></th>\n",
       "      <th></th>\n",
       "      <th></th>\n",
       "      <th></th>\n",
       "      <th></th>\n",
       "    </tr>\n",
       "  </thead>\n",
       "  <tbody>\n",
       "    <tr>\n",
       "      <td>1</td>\n",
       "      <td>M</td>\n",
       "      <td>45000</td>\n",
       "      <td>25</td>\n",
       "      <td>32</td>\n",
       "      <td>2.5</td>\n",
       "      <td>Action</td>\n",
       "      <td>Yes</td>\n",
       "    </tr>\n",
       "    <tr>\n",
       "      <td>2</td>\n",
       "      <td>F</td>\n",
       "      <td>54000</td>\n",
       "      <td>33</td>\n",
       "      <td>12</td>\n",
       "      <td>3.4</td>\n",
       "      <td>Drama</td>\n",
       "      <td>No</td>\n",
       "    </tr>\n",
       "    <tr>\n",
       "      <td>3</td>\n",
       "      <td>F</td>\n",
       "      <td>32000</td>\n",
       "      <td>20</td>\n",
       "      <td>42</td>\n",
       "      <td>1.6</td>\n",
       "      <td>Comedy</td>\n",
       "      <td>No</td>\n",
       "    </tr>\n",
       "    <tr>\n",
       "      <td>4</td>\n",
       "      <td>F</td>\n",
       "      <td>59000</td>\n",
       "      <td>70</td>\n",
       "      <td>16</td>\n",
       "      <td>4.2</td>\n",
       "      <td>Drama</td>\n",
       "      <td>Yes</td>\n",
       "    </tr>\n",
       "    <tr>\n",
       "      <td>5</td>\n",
       "      <td>M</td>\n",
       "      <td>37000</td>\n",
       "      <td>35</td>\n",
       "      <td>25</td>\n",
       "      <td>3.2</td>\n",
       "      <td>Action</td>\n",
       "      <td>Yes</td>\n",
       "    </tr>\n",
       "  </tbody>\n",
       "</table>\n",
       "</div>"
      ],
      "text/plain": [
       "        Gender  Income  Age  Rentals  Avg Per Visit   Genre Incidentals\n",
       "Cust ID                                                                \n",
       "1            M   45000   25       32            2.5  Action         Yes\n",
       "2            F   54000   33       12            3.4   Drama          No\n",
       "3            F   32000   20       42            1.6  Comedy          No\n",
       "4            F   59000   70       16            4.2   Drama         Yes\n",
       "5            M   37000   35       25            3.2  Action         Yes"
      ]
     },
     "execution_count": 3,
     "metadata": {},
     "output_type": "execute_result"
    }
   ],
   "source": [
    "vstable.head()"
   ]
  },
  {
   "cell_type": "markdown",
   "metadata": {},
   "source": [
    "#### We will be splitting the data into a test and training partions with the test partition to be used for evaluating model error-rate and the training partition to be used to find the K nearest neighbors. Before spliting the data we need to do a random reshuffling to make sure the instances are randomized."
   ]
  },
  {
   "cell_type": "code",
   "execution_count": 4,
   "metadata": {},
   "outputs": [
    {
     "data": {
      "text/html": [
       "<div>\n",
       "<style scoped>\n",
       "    .dataframe tbody tr th:only-of-type {\n",
       "        vertical-align: middle;\n",
       "    }\n",
       "\n",
       "    .dataframe tbody tr th {\n",
       "        vertical-align: top;\n",
       "    }\n",
       "\n",
       "    .dataframe thead th {\n",
       "        text-align: right;\n",
       "    }\n",
       "</style>\n",
       "<table border=\"1\" class=\"dataframe\">\n",
       "  <thead>\n",
       "    <tr style=\"text-align: right;\">\n",
       "      <th></th>\n",
       "      <th>Gender</th>\n",
       "      <th>Income</th>\n",
       "      <th>Age</th>\n",
       "      <th>Rentals</th>\n",
       "      <th>Avg Per Visit</th>\n",
       "      <th>Genre</th>\n",
       "      <th>Incidentals</th>\n",
       "    </tr>\n",
       "    <tr>\n",
       "      <th>Cust ID</th>\n",
       "      <th></th>\n",
       "      <th></th>\n",
       "      <th></th>\n",
       "      <th></th>\n",
       "      <th></th>\n",
       "      <th></th>\n",
       "      <th></th>\n",
       "    </tr>\n",
       "  </thead>\n",
       "  <tbody>\n",
       "    <tr>\n",
       "      <td>27</td>\n",
       "      <td>F</td>\n",
       "      <td>62000</td>\n",
       "      <td>47</td>\n",
       "      <td>32</td>\n",
       "      <td>3.6</td>\n",
       "      <td>Drama</td>\n",
       "      <td>No</td>\n",
       "    </tr>\n",
       "    <tr>\n",
       "      <td>24</td>\n",
       "      <td>F</td>\n",
       "      <td>79000</td>\n",
       "      <td>35</td>\n",
       "      <td>22</td>\n",
       "      <td>3.8</td>\n",
       "      <td>Drama</td>\n",
       "      <td>Yes</td>\n",
       "    </tr>\n",
       "    <tr>\n",
       "      <td>2</td>\n",
       "      <td>F</td>\n",
       "      <td>54000</td>\n",
       "      <td>33</td>\n",
       "      <td>12</td>\n",
       "      <td>3.4</td>\n",
       "      <td>Drama</td>\n",
       "      <td>No</td>\n",
       "    </tr>\n",
       "    <tr>\n",
       "      <td>26</td>\n",
       "      <td>F</td>\n",
       "      <td>56000</td>\n",
       "      <td>35</td>\n",
       "      <td>40</td>\n",
       "      <td>2.6</td>\n",
       "      <td>Action</td>\n",
       "      <td>Yes</td>\n",
       "    </tr>\n",
       "    <tr>\n",
       "      <td>21</td>\n",
       "      <td>F</td>\n",
       "      <td>47000</td>\n",
       "      <td>52</td>\n",
       "      <td>11</td>\n",
       "      <td>3.1</td>\n",
       "      <td>Drama</td>\n",
       "      <td>No</td>\n",
       "    </tr>\n",
       "    <tr>\n",
       "      <td>10</td>\n",
       "      <td>F</td>\n",
       "      <td>65000</td>\n",
       "      <td>40</td>\n",
       "      <td>21</td>\n",
       "      <td>3.3</td>\n",
       "      <td>Drama</td>\n",
       "      <td>No</td>\n",
       "    </tr>\n",
       "    <tr>\n",
       "      <td>13</td>\n",
       "      <td>M</td>\n",
       "      <td>83000</td>\n",
       "      <td>46</td>\n",
       "      <td>14</td>\n",
       "      <td>3.6</td>\n",
       "      <td>Comedy</td>\n",
       "      <td>No</td>\n",
       "    </tr>\n",
       "    <tr>\n",
       "      <td>36</td>\n",
       "      <td>F</td>\n",
       "      <td>29000</td>\n",
       "      <td>21</td>\n",
       "      <td>34</td>\n",
       "      <td>2.3</td>\n",
       "      <td>Comedy</td>\n",
       "      <td>No</td>\n",
       "    </tr>\n",
       "    <tr>\n",
       "      <td>47</td>\n",
       "      <td>F</td>\n",
       "      <td>69000</td>\n",
       "      <td>35</td>\n",
       "      <td>22</td>\n",
       "      <td>2.8</td>\n",
       "      <td>Drama</td>\n",
       "      <td>Yes</td>\n",
       "    </tr>\n",
       "    <tr>\n",
       "      <td>31</td>\n",
       "      <td>F</td>\n",
       "      <td>49000</td>\n",
       "      <td>56</td>\n",
       "      <td>15</td>\n",
       "      <td>3.2</td>\n",
       "      <td>Comedy</td>\n",
       "      <td>No</td>\n",
       "    </tr>\n",
       "  </tbody>\n",
       "</table>\n",
       "</div>"
      ],
      "text/plain": [
       "        Gender  Income  Age  Rentals  Avg Per Visit   Genre Incidentals\n",
       "Cust ID                                                                \n",
       "27           F   62000   47       32            3.6   Drama          No\n",
       "24           F   79000   35       22            3.8   Drama         Yes\n",
       "2            F   54000   33       12            3.4   Drama          No\n",
       "26           F   56000   35       40            2.6  Action         Yes\n",
       "21           F   47000   52       11            3.1   Drama          No\n",
       "10           F   65000   40       21            3.3   Drama          No\n",
       "13           M   83000   46       14            3.6  Comedy          No\n",
       "36           F   29000   21       34            2.3  Comedy          No\n",
       "47           F   69000   35       22            2.8   Drama         Yes\n",
       "31           F   49000   56       15            3.2  Comedy          No"
      ]
     },
     "execution_count": 4,
     "metadata": {},
     "output_type": "execute_result"
    }
   ],
   "source": [
    " vs = vstable.reindex(np.random.permutation(vstable.index)) # we are shuffling the data first manually so that we have both classes both in the training and test data sets\n",
    "vs.head(10) "
   ]
  },
  {
   "cell_type": "code",
   "execution_count": 5,
   "metadata": {},
   "outputs": [
    {
     "data": {
      "text/plain": [
       "50"
      ]
     },
     "execution_count": 5,
     "metadata": {},
     "output_type": "execute_result"
    }
   ],
   "source": [
    "len(vs)"
   ]
  },
  {
   "cell_type": "code",
   "execution_count": 6,
   "metadata": {},
   "outputs": [
    {
     "data": {
      "text/plain": [
       "array(['Gender', 'Income', 'Age', 'Rentals', 'Avg Per Visit', 'Genre',\n",
       "       'Incidentals'], dtype=object)"
      ]
     },
     "execution_count": 6,
     "metadata": {},
     "output_type": "execute_result"
    }
   ],
   "source": [
    "vs_names = vs.columns.values\n",
    "vs_names # These are the names of the features that we are dealing with. "
   ]
  },
  {
   "cell_type": "markdown",
   "metadata": {},
   "source": [
    "##### Because this is classification we would like to separate our target from the rest of out matrix and we are putting it into vs_target"
   ]
  },
  {
   "cell_type": "markdown",
   "metadata": {},
   "source": [
    "#### The target attribute for classification is Incidentals:"
   ]
  },
  {
   "cell_type": "code",
   "execution_count": 7,
   "metadata": {},
   "outputs": [
    {
     "name": "stdout",
     "output_type": "stream",
     "text": [
      "<class 'pandas.core.series.Series'>\n"
     ]
    }
   ],
   "source": [
    "vs_target = vs.Incidentals\n",
    "vs_target.head(10)\n",
    "print(type(vs_target))"
   ]
  },
  {
   "cell_type": "markdown",
   "metadata": {},
   "source": [
    "#### Before we can compute distances we need to convert the data (excluding the target attribute containing the class labels) into standard spreadsheet format with binary dummy variables for categorical attributes)."
   ]
  },
  {
   "cell_type": "code",
   "execution_count": 8,
   "metadata": {},
   "outputs": [],
   "source": [
    "# we exclude the incidentals, we can't have it here\n",
    "# get dummies for everything that is not a number. \n",
    "vs = pd.get_dummies(vs[['Gender','Income','Age','Rentals','Avg Per Visit','Genre']])"
   ]
  },
  {
   "cell_type": "code",
   "execution_count": 9,
   "metadata": {},
   "outputs": [
    {
     "data": {
      "text/plain": [
       "pandas.core.frame.DataFrame"
      ]
     },
     "execution_count": 9,
     "metadata": {},
     "output_type": "execute_result"
    }
   ],
   "source": [
    "type(vs)"
   ]
  },
  {
   "cell_type": "markdown",
   "metadata": {},
   "source": [
    "#### To be able to evaluate the accuracy of our predictions, we will split the data into training and test sets. In this case, we will use 80% for training and the remaining 20% for testing. Note that we must also do the same split to the target attribute."
   ]
  },
  {
   "cell_type": "code",
   "execution_count": 10,
   "metadata": {},
   "outputs": [],
   "source": [
    "# what we are trying to say, what is 80 percent of 50 (since the number of objects are 50 ) and the output will be the training\n",
    "# the remaining 205 will be the testing data set.\n",
    "tpercent = 0.8\n",
    "tsize = int(np.floor(tpercent * len(vs)))\n",
    "vs_train = vs[:tsize] # vs_train becomes up to tsize\n",
    "vs_test = vs[tsize:] # vs_test becomes everything after tsize"
   ]
  },
  {
   "cell_type": "code",
   "execution_count": 11,
   "metadata": {},
   "outputs": [
    {
     "name": "stdout",
     "output_type": "stream",
     "text": [
      "(40, 9)\n",
      "(10, 9)\n"
     ]
    }
   ],
   "source": [
    "print (vs_train.shape)\n",
    "print (vs_test.shape)\n",
    "# now we have two matrices\n",
    "# we have the training and test  matrices\n",
    "# (40 training items)\n",
    "# (10 testing items)"
   ]
  },
  {
   "cell_type": "code",
   "execution_count": 12,
   "metadata": {},
   "outputs": [
    {
     "data": {
      "text/html": [
       "<div>\n",
       "<style scoped>\n",
       "    .dataframe tbody tr th:only-of-type {\n",
       "        vertical-align: middle;\n",
       "    }\n",
       "\n",
       "    .dataframe tbody tr th {\n",
       "        vertical-align: top;\n",
       "    }\n",
       "\n",
       "    .dataframe thead th {\n",
       "        text-align: right;\n",
       "    }\n",
       "</style>\n",
       "<table border=\"1\" class=\"dataframe\">\n",
       "  <thead>\n",
       "    <tr style=\"text-align: right;\">\n",
       "      <th></th>\n",
       "      <th>Income</th>\n",
       "      <th>Age</th>\n",
       "      <th>Rentals</th>\n",
       "      <th>Avg Per Visit</th>\n",
       "      <th>Gender_F</th>\n",
       "      <th>Gender_M</th>\n",
       "      <th>Genre_Action</th>\n",
       "      <th>Genre_Comedy</th>\n",
       "      <th>Genre_Drama</th>\n",
       "    </tr>\n",
       "    <tr>\n",
       "      <th>Cust ID</th>\n",
       "      <th></th>\n",
       "      <th></th>\n",
       "      <th></th>\n",
       "      <th></th>\n",
       "      <th></th>\n",
       "      <th></th>\n",
       "      <th></th>\n",
       "      <th></th>\n",
       "      <th></th>\n",
       "    </tr>\n",
       "  </thead>\n",
       "  <tbody>\n",
       "    <tr>\n",
       "      <td>27</td>\n",
       "      <td>62000</td>\n",
       "      <td>47</td>\n",
       "      <td>32</td>\n",
       "      <td>3.6</td>\n",
       "      <td>1</td>\n",
       "      <td>0</td>\n",
       "      <td>0</td>\n",
       "      <td>0</td>\n",
       "      <td>1</td>\n",
       "    </tr>\n",
       "    <tr>\n",
       "      <td>24</td>\n",
       "      <td>79000</td>\n",
       "      <td>35</td>\n",
       "      <td>22</td>\n",
       "      <td>3.8</td>\n",
       "      <td>1</td>\n",
       "      <td>0</td>\n",
       "      <td>0</td>\n",
       "      <td>0</td>\n",
       "      <td>1</td>\n",
       "    </tr>\n",
       "    <tr>\n",
       "      <td>2</td>\n",
       "      <td>54000</td>\n",
       "      <td>33</td>\n",
       "      <td>12</td>\n",
       "      <td>3.4</td>\n",
       "      <td>1</td>\n",
       "      <td>0</td>\n",
       "      <td>0</td>\n",
       "      <td>0</td>\n",
       "      <td>1</td>\n",
       "    </tr>\n",
       "    <tr>\n",
       "      <td>26</td>\n",
       "      <td>56000</td>\n",
       "      <td>35</td>\n",
       "      <td>40</td>\n",
       "      <td>2.6</td>\n",
       "      <td>1</td>\n",
       "      <td>0</td>\n",
       "      <td>1</td>\n",
       "      <td>0</td>\n",
       "      <td>0</td>\n",
       "    </tr>\n",
       "    <tr>\n",
       "      <td>21</td>\n",
       "      <td>47000</td>\n",
       "      <td>52</td>\n",
       "      <td>11</td>\n",
       "      <td>3.1</td>\n",
       "      <td>1</td>\n",
       "      <td>0</td>\n",
       "      <td>0</td>\n",
       "      <td>0</td>\n",
       "      <td>1</td>\n",
       "    </tr>\n",
       "    <tr>\n",
       "      <td>10</td>\n",
       "      <td>65000</td>\n",
       "      <td>40</td>\n",
       "      <td>21</td>\n",
       "      <td>3.3</td>\n",
       "      <td>1</td>\n",
       "      <td>0</td>\n",
       "      <td>0</td>\n",
       "      <td>0</td>\n",
       "      <td>1</td>\n",
       "    </tr>\n",
       "    <tr>\n",
       "      <td>13</td>\n",
       "      <td>83000</td>\n",
       "      <td>46</td>\n",
       "      <td>14</td>\n",
       "      <td>3.6</td>\n",
       "      <td>0</td>\n",
       "      <td>1</td>\n",
       "      <td>0</td>\n",
       "      <td>1</td>\n",
       "      <td>0</td>\n",
       "    </tr>\n",
       "    <tr>\n",
       "      <td>36</td>\n",
       "      <td>29000</td>\n",
       "      <td>21</td>\n",
       "      <td>34</td>\n",
       "      <td>2.3</td>\n",
       "      <td>1</td>\n",
       "      <td>0</td>\n",
       "      <td>0</td>\n",
       "      <td>1</td>\n",
       "      <td>0</td>\n",
       "    </tr>\n",
       "    <tr>\n",
       "      <td>47</td>\n",
       "      <td>69000</td>\n",
       "      <td>35</td>\n",
       "      <td>22</td>\n",
       "      <td>2.8</td>\n",
       "      <td>1</td>\n",
       "      <td>0</td>\n",
       "      <td>0</td>\n",
       "      <td>0</td>\n",
       "      <td>1</td>\n",
       "    </tr>\n",
       "    <tr>\n",
       "      <td>31</td>\n",
       "      <td>49000</td>\n",
       "      <td>56</td>\n",
       "      <td>15</td>\n",
       "      <td>3.2</td>\n",
       "      <td>1</td>\n",
       "      <td>0</td>\n",
       "      <td>0</td>\n",
       "      <td>1</td>\n",
       "      <td>0</td>\n",
       "    </tr>\n",
       "  </tbody>\n",
       "</table>\n",
       "</div>"
      ],
      "text/plain": [
       "         Income  Age  Rentals  Avg Per Visit  Gender_F  Gender_M  \\\n",
       "Cust ID                                                            \n",
       "27        62000   47       32            3.6         1         0   \n",
       "24        79000   35       22            3.8         1         0   \n",
       "2         54000   33       12            3.4         1         0   \n",
       "26        56000   35       40            2.6         1         0   \n",
       "21        47000   52       11            3.1         1         0   \n",
       "10        65000   40       21            3.3         1         0   \n",
       "13        83000   46       14            3.6         0         1   \n",
       "36        29000   21       34            2.3         1         0   \n",
       "47        69000   35       22            2.8         1         0   \n",
       "31        49000   56       15            3.2         1         0   \n",
       "\n",
       "         Genre_Action  Genre_Comedy  Genre_Drama  \n",
       "Cust ID                                           \n",
       "27                  0             0            1  \n",
       "24                  0             0            1  \n",
       "2                   0             0            1  \n",
       "26                  1             0            0  \n",
       "21                  0             0            1  \n",
       "10                  0             0            1  \n",
       "13                  0             1            0  \n",
       "36                  0             1            0  \n",
       "47                  0             0            1  \n",
       "31                  0             1            0  "
      ]
     },
     "execution_count": 12,
     "metadata": {},
     "output_type": "execute_result"
    }
   ],
   "source": [
    "np.set_printoptions(suppress=True, linewidth=120) # this is just I wanna things.\n",
    "\n",
    "vs_train.head(10)"
   ]
  },
  {
   "cell_type": "code",
   "execution_count": 13,
   "metadata": {},
   "outputs": [
    {
     "data": {
      "text/html": [
       "<div>\n",
       "<style scoped>\n",
       "    .dataframe tbody tr th:only-of-type {\n",
       "        vertical-align: middle;\n",
       "    }\n",
       "\n",
       "    .dataframe tbody tr th {\n",
       "        vertical-align: top;\n",
       "    }\n",
       "\n",
       "    .dataframe thead th {\n",
       "        text-align: right;\n",
       "    }\n",
       "</style>\n",
       "<table border=\"1\" class=\"dataframe\">\n",
       "  <thead>\n",
       "    <tr style=\"text-align: right;\">\n",
       "      <th></th>\n",
       "      <th>Income</th>\n",
       "      <th>Age</th>\n",
       "      <th>Rentals</th>\n",
       "      <th>Avg Per Visit</th>\n",
       "      <th>Gender_F</th>\n",
       "      <th>Gender_M</th>\n",
       "      <th>Genre_Action</th>\n",
       "      <th>Genre_Comedy</th>\n",
       "      <th>Genre_Drama</th>\n",
       "    </tr>\n",
       "    <tr>\n",
       "      <th>Cust ID</th>\n",
       "      <th></th>\n",
       "      <th></th>\n",
       "      <th></th>\n",
       "      <th></th>\n",
       "      <th></th>\n",
       "      <th></th>\n",
       "      <th></th>\n",
       "      <th></th>\n",
       "      <th></th>\n",
       "    </tr>\n",
       "  </thead>\n",
       "  <tbody>\n",
       "    <tr>\n",
       "      <td>3</td>\n",
       "      <td>32000</td>\n",
       "      <td>20</td>\n",
       "      <td>42</td>\n",
       "      <td>1.6</td>\n",
       "      <td>1</td>\n",
       "      <td>0</td>\n",
       "      <td>0</td>\n",
       "      <td>1</td>\n",
       "      <td>0</td>\n",
       "    </tr>\n",
       "    <tr>\n",
       "      <td>20</td>\n",
       "      <td>12000</td>\n",
       "      <td>16</td>\n",
       "      <td>23</td>\n",
       "      <td>2.2</td>\n",
       "      <td>0</td>\n",
       "      <td>1</td>\n",
       "      <td>1</td>\n",
       "      <td>0</td>\n",
       "      <td>0</td>\n",
       "    </tr>\n",
       "    <tr>\n",
       "      <td>4</td>\n",
       "      <td>59000</td>\n",
       "      <td>70</td>\n",
       "      <td>16</td>\n",
       "      <td>4.2</td>\n",
       "      <td>1</td>\n",
       "      <td>0</td>\n",
       "      <td>0</td>\n",
       "      <td>0</td>\n",
       "      <td>1</td>\n",
       "    </tr>\n",
       "    <tr>\n",
       "      <td>17</td>\n",
       "      <td>36000</td>\n",
       "      <td>35</td>\n",
       "      <td>28</td>\n",
       "      <td>3.5</td>\n",
       "      <td>0</td>\n",
       "      <td>1</td>\n",
       "      <td>0</td>\n",
       "      <td>0</td>\n",
       "      <td>1</td>\n",
       "    </tr>\n",
       "    <tr>\n",
       "      <td>9</td>\n",
       "      <td>38000</td>\n",
       "      <td>21</td>\n",
       "      <td>18</td>\n",
       "      <td>2.1</td>\n",
       "      <td>0</td>\n",
       "      <td>1</td>\n",
       "      <td>0</td>\n",
       "      <td>1</td>\n",
       "      <td>0</td>\n",
       "    </tr>\n",
       "    <tr>\n",
       "      <td>1</td>\n",
       "      <td>45000</td>\n",
       "      <td>25</td>\n",
       "      <td>32</td>\n",
       "      <td>2.5</td>\n",
       "      <td>0</td>\n",
       "      <td>1</td>\n",
       "      <td>1</td>\n",
       "      <td>0</td>\n",
       "      <td>0</td>\n",
       "    </tr>\n",
       "    <tr>\n",
       "      <td>11</td>\n",
       "      <td>41000</td>\n",
       "      <td>22</td>\n",
       "      <td>48</td>\n",
       "      <td>2.3</td>\n",
       "      <td>1</td>\n",
       "      <td>0</td>\n",
       "      <td>0</td>\n",
       "      <td>0</td>\n",
       "      <td>1</td>\n",
       "    </tr>\n",
       "    <tr>\n",
       "      <td>33</td>\n",
       "      <td>23000</td>\n",
       "      <td>25</td>\n",
       "      <td>28</td>\n",
       "      <td>2.7</td>\n",
       "      <td>0</td>\n",
       "      <td>1</td>\n",
       "      <td>1</td>\n",
       "      <td>0</td>\n",
       "      <td>0</td>\n",
       "    </tr>\n",
       "    <tr>\n",
       "      <td>15</td>\n",
       "      <td>68000</td>\n",
       "      <td>30</td>\n",
       "      <td>36</td>\n",
       "      <td>2.7</td>\n",
       "      <td>0</td>\n",
       "      <td>1</td>\n",
       "      <td>0</td>\n",
       "      <td>1</td>\n",
       "      <td>0</td>\n",
       "    </tr>\n",
       "    <tr>\n",
       "      <td>22</td>\n",
       "      <td>25000</td>\n",
       "      <td>33</td>\n",
       "      <td>16</td>\n",
       "      <td>2.9</td>\n",
       "      <td>0</td>\n",
       "      <td>1</td>\n",
       "      <td>0</td>\n",
       "      <td>0</td>\n",
       "      <td>1</td>\n",
       "    </tr>\n",
       "  </tbody>\n",
       "</table>\n",
       "</div>"
      ],
      "text/plain": [
       "         Income  Age  Rentals  Avg Per Visit  Gender_F  Gender_M  \\\n",
       "Cust ID                                                            \n",
       "3         32000   20       42            1.6         1         0   \n",
       "20        12000   16       23            2.2         0         1   \n",
       "4         59000   70       16            4.2         1         0   \n",
       "17        36000   35       28            3.5         0         1   \n",
       "9         38000   21       18            2.1         0         1   \n",
       "1         45000   25       32            2.5         0         1   \n",
       "11        41000   22       48            2.3         1         0   \n",
       "33        23000   25       28            2.7         0         1   \n",
       "15        68000   30       36            2.7         0         1   \n",
       "22        25000   33       16            2.9         0         1   \n",
       "\n",
       "         Genre_Action  Genre_Comedy  Genre_Drama  \n",
       "Cust ID                                           \n",
       "3                   0             1            0  \n",
       "20                  1             0            0  \n",
       "4                   0             0            1  \n",
       "17                  0             0            1  \n",
       "9                   0             1            0  \n",
       "1                   1             0            0  \n",
       "11                  0             0            1  \n",
       "33                  1             0            0  \n",
       "15                  0             1            0  \n",
       "22                  0             0            1  "
      ]
     },
     "execution_count": 13,
     "metadata": {},
     "output_type": "execute_result"
    }
   ],
   "source": [
    "vs_test # looking at the entire test data set since it is only ten items"
   ]
  },
  {
   "cell_type": "markdown",
   "metadata": {},
   "source": [
    "#### Splitting the target attribute (\"Incidentals\") accordingly:"
   ]
  },
  {
   "cell_type": "code",
   "execution_count": 14,
   "metadata": {},
   "outputs": [
    {
     "name": "stdout",
     "output_type": "stream",
     "text": [
      "(10,)\n"
     ]
    },
    {
     "data": {
      "text/plain": [
       "Cust ID\n",
       "3      No\n",
       "20    Yes\n",
       "4     Yes\n",
       "17    Yes\n",
       "9      No\n",
       "1     Yes\n",
       "11    Yes\n",
       "33     No\n",
       "15    Yes\n",
       "22    Yes\n",
       "Name: Incidentals, dtype: object"
      ]
     },
     "execution_count": 14,
     "metadata": {},
     "output_type": "execute_result"
    }
   ],
   "source": [
    "# Method 1\n",
    "vs_target_train = vs_target[:int(tsize)]\n",
    "vs_target_test = vs_target[int(tsize):]\n",
    "print(vs_target_test.shape)\n",
    "vs_target_test"
   ]
  },
  {
   "cell_type": "markdown",
   "metadata": {},
   "source": [
    "#### Whether you put the lower or upper limit like below it doesn't matter"
   ]
  },
  {
   "cell_type": "code",
   "execution_count": 15,
   "metadata": {},
   "outputs": [
    {
     "name": "stdout",
     "output_type": "stream",
     "text": [
      "(10,)\n"
     ]
    }
   ],
   "source": [
    "# split the target attribute the same we split the data set into training and test.\n",
    "# Method 2\n",
    "vs_target_train = vs_target[0:int(tsize)]\n",
    "vs_target_test = vs_target[int(tsize):len(vs)]\n",
    "print(vs_target_test.shape)"
   ]
  },
  {
   "cell_type": "code",
   "execution_count": 16,
   "metadata": {},
   "outputs": [
    {
     "data": {
      "text/plain": [
       "Cust ID\n",
       "27     No\n",
       "24    Yes\n",
       "2      No\n",
       "26    Yes\n",
       "21     No\n",
       "Name: Incidentals, dtype: object"
      ]
     },
     "execution_count": 16,
     "metadata": {},
     "output_type": "execute_result"
    }
   ],
   "source": [
    "vs_target_train.head()"
   ]
  },
  {
   "cell_type": "code",
   "execution_count": 17,
   "metadata": {},
   "outputs": [
    {
     "data": {
      "text/plain": [
       "Cust ID\n",
       "3      No\n",
       "20    Yes\n",
       "4     Yes\n",
       "17    Yes\n",
       "9      No\n",
       "1     Yes\n",
       "11    Yes\n",
       "33     No\n",
       "15    Yes\n",
       "22    Yes\n",
       "Name: Incidentals, dtype: object"
      ]
     },
     "execution_count": 17,
     "metadata": {},
     "output_type": "execute_result"
    }
   ],
   "source": [
    "vs_target_test"
   ]
  },
  {
   "cell_type": "markdown",
   "metadata": {},
   "source": [
    "#### Next, we normalize the attributes so that everything is in [0,1] scale. We can use the normalization functions from the kNN module in Ch. 2 of the text. In this case, however, we will use the more flexible and robust scaler function from the preprocessing module of scikit-learn package."
   ]
  },
  {
   "cell_type": "code",
   "execution_count": 18,
   "metadata": {},
   "outputs": [],
   "source": [
    "from sklearn import preprocessing"
   ]
  },
  {
   "cell_type": "code",
   "execution_count": 19,
   "metadata": {},
   "outputs": [
    {
     "data": {
      "text/plain": [
       "MinMaxScaler(copy=True, feature_range=(0, 1))"
      ]
     },
     "execution_count": 19,
     "metadata": {},
     "output_type": "execute_result"
    }
   ],
   "source": [
    "# we use the MinMaxScaler() from scikit-learn package\n",
    "min_max_scaler = preprocessing.MinMaxScaler() \n",
    "\n",
    "# min_max scaling will be based on the training set and you apply that to the test set  (as we shall see below)\n",
    "# so we assume that the min and the max that we know about is from the training set then when have a test set,\n",
    "# we apply that range . This is tricky because we might have a test set that is some how not included in the original bounds\n",
    "# so sometimes what people do, which is okay it is reseen the test data if you see it normalize. \n",
    "# so you can include it in your matrix, normalize the whole thing and  still not have seen the test data. \n",
    "# in this case we are assuming that the test set is going to nicely fit within our training set.  \n",
    "min_max_scaler.fit(vs_train) "
   ]
  },
  {
   "cell_type": "code",
   "execution_count": 20,
   "metadata": {},
   "outputs": [],
   "source": [
    "vs_train_norm = min_max_scaler.fit_transform(vs_train) # apply it both on train and test\n",
    "vs_test_norm = min_max_scaler.fit_transform(vs_test)\n",
    "# if some reason you have a special case this won't work, it will complain and you will have to normalize your entire matrix\n",
    "# can you please give an example?\n"
   ]
  },
  {
   "cell_type": "markdown",
   "metadata": {},
   "source": [
    "#### Note that while these Scikit-learn functions accept Pandas dataframes as input, they return Numpy arrays (in this case the normalized versions of vs_train and vs_test)."
   ]
  },
  {
   "cell_type": "code",
   "execution_count": 21,
   "metadata": {},
   "outputs": [
    {
     "data": {
      "text/plain": [
       "array([[0.69, 0.78, 0.59, 0.69, 1.  , 0.  , 0.  , 0.  , 1.  ],\n",
       "       [0.89, 0.49, 0.33, 0.75, 1.  , 0.  , 0.  , 0.  , 1.  ],\n",
       "       [0.6 , 0.44, 0.08, 0.64, 1.  , 0.  , 0.  , 0.  , 1.  ],\n",
       "       [0.62, 0.49, 0.79, 0.42, 1.  , 0.  , 1.  , 0.  , 0.  ],\n",
       "       [0.52, 0.9 , 0.05, 0.56, 1.  , 0.  , 0.  , 0.  , 1.  ],\n",
       "       [0.73, 0.61, 0.31, 0.61, 1.  , 0.  , 0.  , 0.  , 1.  ],\n",
       "       [0.93, 0.76, 0.13, 0.69, 0.  , 1.  , 0.  , 1.  , 0.  ],\n",
       "       [0.32, 0.15, 0.64, 0.33, 1.  , 0.  , 0.  , 1.  , 0.  ],\n",
       "       [0.77, 0.49, 0.33, 0.47, 1.  , 0.  , 0.  , 0.  , 1.  ],\n",
       "       [0.55, 1.  , 0.15, 0.58, 1.  , 0.  , 0.  , 1.  , 0.  ]])"
      ]
     },
     "execution_count": 21,
     "metadata": {},
     "output_type": "execute_result"
    }
   ],
   "source": [
    "np.set_printoptions(precision=2, linewidth=100)\n",
    "vs_train_norm[:10]\n",
    "# Everything has been normalized as you see below in the output. "
   ]
  },
  {
   "cell_type": "markdown",
   "metadata": {},
   "source": [
    "#### For consitency, we'll also convert the training and test target labels into Numpy arrays."
   ]
  },
  {
   "cell_type": "code",
   "execution_count": 22,
   "metadata": {},
   "outputs": [],
   "source": [
    "vs_target_train = np.array(vs_target_train)\n",
    "vs_target_test = np.array(vs_target_test)"
   ]
  },
  {
   "cell_type": "code",
   "execution_count": 23,
   "metadata": {},
   "outputs": [
    {
     "name": "stdout",
     "output_type": "stream",
     "text": [
      "['No' 'Yes' 'No' 'Yes' 'No' 'No' 'No' 'No' 'Yes' 'No' 'No' 'No' 'Yes' 'Yes' 'Yes' 'Yes' 'No' 'No'\n",
      " 'Yes' 'No' 'Yes' 'Yes' 'No' 'Yes' 'No' 'No' 'No' 'Yes' 'Yes' 'No' 'Yes' 'Yes' 'No' 'Yes' 'No' 'No'\n",
      " 'No' 'Yes' 'Yes' 'Yes']\n",
      "\n",
      "\n",
      "['No' 'Yes' 'Yes' 'Yes' 'No' 'Yes' 'Yes' 'No' 'Yes' 'Yes']\n"
     ]
    }
   ],
   "source": [
    "print (vs_target_train)\n",
    "print (\"\\n\")\n",
    "print (vs_target_test)"
   ]
  },
  {
   "cell_type": "markdown",
   "metadata": {},
   "source": [
    "#### The following function illustrates how we can perform a k-nearest-neighbor search. The \"measure\" argument allows us to use either Euclidean distance or (the inverse of) Cosine similarity as the distance function:"
   ]
  },
  {
   "cell_type": "code",
   "execution_count": 24,
   "metadata": {},
   "outputs": [],
   "source": [
    "def knn_search(x, D, K, measure):\n",
    "    \"\"\" find K nearest neighbors of an instance x among the instances in D \"\"\"\n",
    "    if measure == 0:\n",
    "        # euclidean distances from the other points\n",
    "        dists = np.sqrt(((D - x)**2).sum(axis=1))\n",
    "    elif measure == 1:\n",
    "        # first find the vector norm for each instance in D as wel as the norm for vector x\n",
    "        D_norm = np.array([np.linalg.norm(D[i]) for i in range(len(D))])\n",
    "        x_norm = np.linalg.norm(x) # cosine distance\n",
    "        # Compute Cosine: divide the dot product o x and each instance in D by the product of the two norms\n",
    "        sims = np.dot(D,x)/(D_norm * x_norm)\n",
    "        # The distance measure will be the inverse of Cosine similarity\n",
    "        dists = 1 - sims\n",
    "    idx = np.argsort(dists) # sorting\n",
    "    # return the indexes of K nearest neighbors\n",
    "    return idx[:K], dists"
   ]
  },
  {
   "cell_type": "code",
   "execution_count": 25,
   "metadata": {},
   "outputs": [],
   "source": [
    "# Let's use vs_test_norm[0] as a test instance x and find its K nearest neighbors\n",
    "# the test matrix is ten items so I am taking the first feature vector\n",
    "# I am giving my vs_train_norm data\n",
    "# passing 5 neighbors\n",
    "# passing 0 for Euclidean distance\n",
    "neigh_idx, distances = knn_search(vs_test_norm[0], vs_train_norm, 5, 0)"
   ]
  },
  {
   "cell_type": "code",
   "execution_count": 26,
   "metadata": {},
   "outputs": [
    {
     "data": {
      "text/plain": [
       "array([0.36, 0.07, 0.81, 0.  , 1.  , 0.  , 0.  , 1.  , 0.  ])"
      ]
     },
     "execution_count": 26,
     "metadata": {},
     "output_type": "execute_result"
    }
   ],
   "source": [
    "vs_test_norm[0] # this is our first item that we passed"
   ]
  },
  {
   "cell_type": "code",
   "execution_count": 27,
   "metadata": {},
   "outputs": [
    {
     "name": "stdout",
     "output_type": "stream",
     "text": [
      "[ 7 36 29 17  9]\n",
      "\n",
      "\n"
     ]
    },
    {
     "data": {
      "text/html": [
       "<div>\n",
       "<style scoped>\n",
       "    .dataframe tbody tr th:only-of-type {\n",
       "        vertical-align: middle;\n",
       "    }\n",
       "\n",
       "    .dataframe tbody tr th {\n",
       "        vertical-align: top;\n",
       "    }\n",
       "\n",
       "    .dataframe thead th {\n",
       "        text-align: right;\n",
       "    }\n",
       "</style>\n",
       "<table border=\"1\" class=\"dataframe\">\n",
       "  <thead>\n",
       "    <tr style=\"text-align: right;\">\n",
       "      <th></th>\n",
       "      <th>Income</th>\n",
       "      <th>Age</th>\n",
       "      <th>Rentals</th>\n",
       "      <th>Avg Per Visit</th>\n",
       "      <th>Gender_F</th>\n",
       "      <th>Gender_M</th>\n",
       "      <th>Genre_Action</th>\n",
       "      <th>Genre_Comedy</th>\n",
       "      <th>Genre_Drama</th>\n",
       "    </tr>\n",
       "    <tr>\n",
       "      <th>Cust ID</th>\n",
       "      <th></th>\n",
       "      <th></th>\n",
       "      <th></th>\n",
       "      <th></th>\n",
       "      <th></th>\n",
       "      <th></th>\n",
       "      <th></th>\n",
       "      <th></th>\n",
       "      <th></th>\n",
       "    </tr>\n",
       "  </thead>\n",
       "  <tbody>\n",
       "    <tr>\n",
       "      <td>36</td>\n",
       "      <td>29000</td>\n",
       "      <td>21</td>\n",
       "      <td>34</td>\n",
       "      <td>2.3</td>\n",
       "      <td>1</td>\n",
       "      <td>0</td>\n",
       "      <td>0</td>\n",
       "      <td>1</td>\n",
       "      <td>0</td>\n",
       "    </tr>\n",
       "    <tr>\n",
       "      <td>19</td>\n",
       "      <td>24000</td>\n",
       "      <td>25</td>\n",
       "      <td>41</td>\n",
       "      <td>3.1</td>\n",
       "      <td>1</td>\n",
       "      <td>0</td>\n",
       "      <td>0</td>\n",
       "      <td>1</td>\n",
       "      <td>0</td>\n",
       "    </tr>\n",
       "    <tr>\n",
       "      <td>23</td>\n",
       "      <td>2000</td>\n",
       "      <td>15</td>\n",
       "      <td>30</td>\n",
       "      <td>2.5</td>\n",
       "      <td>1</td>\n",
       "      <td>0</td>\n",
       "      <td>0</td>\n",
       "      <td>1</td>\n",
       "      <td>0</td>\n",
       "    </tr>\n",
       "    <tr>\n",
       "      <td>39</td>\n",
       "      <td>68000</td>\n",
       "      <td>35</td>\n",
       "      <td>19</td>\n",
       "      <td>3.9</td>\n",
       "      <td>1</td>\n",
       "      <td>0</td>\n",
       "      <td>0</td>\n",
       "      <td>1</td>\n",
       "      <td>0</td>\n",
       "    </tr>\n",
       "    <tr>\n",
       "      <td>31</td>\n",
       "      <td>49000</td>\n",
       "      <td>56</td>\n",
       "      <td>15</td>\n",
       "      <td>3.2</td>\n",
       "      <td>1</td>\n",
       "      <td>0</td>\n",
       "      <td>0</td>\n",
       "      <td>1</td>\n",
       "      <td>0</td>\n",
       "    </tr>\n",
       "  </tbody>\n",
       "</table>\n",
       "</div>"
      ],
      "text/plain": [
       "         Income  Age  Rentals  Avg Per Visit  Gender_F  Gender_M  \\\n",
       "Cust ID                                                            \n",
       "36        29000   21       34            2.3         1         0   \n",
       "19        24000   25       41            3.1         1         0   \n",
       "23         2000   15       30            2.5         1         0   \n",
       "39        68000   35       19            3.9         1         0   \n",
       "31        49000   56       15            3.2         1         0   \n",
       "\n",
       "         Genre_Action  Genre_Comedy  Genre_Drama  \n",
       "Cust ID                                           \n",
       "36                  0             1            0  \n",
       "19                  0             1            0  \n",
       "23                  0             1            0  \n",
       "39                  0             1            0  \n",
       "31                  0             1            0  "
      ]
     },
     "execution_count": 27,
     "metadata": {},
     "output_type": "execute_result"
    }
   ],
   "source": [
    "print (neigh_idx) # after running it through KNN search and it is going to tell us the closest documents to the query object\n",
    "print (\"\\n\")\n",
    "vs_train.iloc[neigh_idx]  # when put the indicies inside the training set, we know what these documents were. \n",
    "# so these are the 5 closest neighbors"
   ]
  },
  {
   "cell_type": "code",
   "execution_count": 28,
   "metadata": {},
   "outputs": [
    {
     "name": "stdout",
     "output_type": "stream",
     "text": [
      "[0.38 0.59 0.59 1.12 1.29]\n"
     ]
    }
   ],
   "source": [
    "print (distances[neigh_idx]) # we look at the distances"
   ]
  },
  {
   "cell_type": "code",
   "execution_count": 29,
   "metadata": {},
   "outputs": [
    {
     "name": "stdout",
     "output_type": "stream",
     "text": [
      "['No' 'No' 'No' 'No' 'No']\n"
     ]
    }
   ],
   "source": [
    "# so  we put these indicies inside our training label and findout what our labels were\n",
    "neigh_labels = vs_target_train[neigh_idx] \n",
    "print (neigh_labels)"
   ]
  },
  {
   "cell_type": "markdown",
   "metadata": {},
   "source": [
    "#### Now that we know the nearest neighbors, we need to find the majority class label among them. The majority class would be the class assgined to the new instance x."
   ]
  },
  {
   "cell_type": "code",
   "execution_count": 30,
   "metadata": {},
   "outputs": [
    {
     "name": "stdout",
     "output_type": "stream",
     "text": [
      "Counter({'No': 5})\n"
     ]
    }
   ],
   "source": [
    "from collections import Counter\n",
    "print (Counter(neigh_labels)) # count the occurences of the unique values in line 66"
   ]
  },
  {
   "cell_type": "code",
   "execution_count": 31,
   "metadata": {},
   "outputs": [
    {
     "data": {
      "text/plain": [
       "[('No', 5)]"
      ]
     },
     "execution_count": 31,
     "metadata": {},
     "output_type": "execute_result"
    }
   ],
   "source": [
    "# count the occurences of the unique values in line 66\n",
    "# and the look at the most and that is your vote.\n",
    "Counter(neigh_labels).most_common(1) # This is your vote"
   ]
  },
  {
   "cell_type": "markdown",
   "metadata": {},
   "source": [
    "#### Next, we'll use the Knn module from Chapter 2 of Machine Learning in Action. Before importing the whole module, let's illustrate what the code does by stepping through it with some specific input values."
   ]
  },
  {
   "cell_type": "code",
   "execution_count": 32,
   "metadata": {},
   "outputs": [
    {
     "name": "stdout",
     "output_type": "stream",
     "text": [
      "40\n"
     ]
    }
   ],
   "source": [
    "dataSetSize = vs_train_norm.shape[0]\n",
    "print (dataSetSize) # this is normalized training matrix shape\n",
    "# print(vs_train_norm.shape)"
   ]
  },
  {
   "cell_type": "code",
   "execution_count": 33,
   "metadata": {},
   "outputs": [],
   "source": [
    "# inX = vs_test_norm[0]\n",
    "# print(inX)\n",
    "# print(inX.shape) #(9,)\n",
    "# test = np.tile(inX, (dataSetSize, 1)) # search for tile\n",
    "# #print(test)\n",
    "# print(test.shape) # (40,9)"
   ]
  },
  {
   "cell_type": "code",
   "execution_count": 34,
   "metadata": {},
   "outputs": [
    {
     "name": "stdout",
     "output_type": "stream",
     "text": [
      "[[-0.34 -0.71  0.22 -0.69  0.    0.    0.    1.   -1.  ]\n",
      " [-0.53 -0.41  0.48 -0.75  0.    0.    0.    1.   -1.  ]\n",
      " [-0.25 -0.36  0.74 -0.64  0.    0.    0.    1.   -1.  ]\n",
      " [-0.27 -0.41  0.02 -0.42  0.    0.   -1.    1.    0.  ]\n",
      " [-0.17 -0.83  0.76 -0.56  0.    0.    0.    1.   -1.  ]]\n"
     ]
    }
   ],
   "source": [
    "inX = vs_test_norm[0]   # We'll use the first instance in the test data for this example\n",
    "diffMat = np.tile(inX, (dataSetSize,1)) - vs_train_norm  # Create dataSetSize copies of inX, as rows of a 2D matrix\n",
    "                                                         # Compute a matrix of differences\n",
    "                                                        # create a copy of the queries in the size of the training matrix shape\n",
    "                                                        # subtracting norm from every single copy\n",
    "print (diffMat[:5,:]) # so this is the difference matrix"
   ]
  },
  {
   "cell_type": "code",
   "execution_count": 35,
   "metadata": {},
   "outputs": [
    {
     "name": "stdout",
     "output_type": "stream",
     "text": [
      "[1.77 1.8  1.77 1.55 1.9  1.75 1.94 0.38 1.67 1.29 2.04 1.82 1.64 2.2  2.1  2.16 1.76 1.12 2.11\n",
      " 2.06 1.46 1.46 2.14 2.07 2.25 1.92 2.03 2.16 2.21 0.59 2.06 1.52 1.85 1.52 1.74 1.6  0.59 2.29\n",
      " 1.58 2.11]\n"
     ]
    }
   ],
   "source": [
    "# This is just the long way of doing the Euclidean distance.\n",
    "# you have to square those differences.\n",
    "sqDiffMat = diffMat**2  # The matrix of squared differences\n",
    "\n",
    "# you take the sum of the squared differences\n",
    "sqDistances = sqDiffMat.sum(axis=1)  # 1D array of the sum of squared differences (one element for each training instance)\n",
    "\n",
    "# you take the sqaure root of that, which is Euclidean distance. \n",
    "distances = sqDistances**0.5  # and finally the matrix of Euclidean distances to inX\n",
    "\n",
    "# this is basically doing the whole operation we were doing earlier but this is step by step with entire matrix\n",
    "print (distances)"
   ]
  },
  {
   "cell_type": "code",
   "execution_count": 36,
   "metadata": {},
   "outputs": [
    {
     "name": "stdout",
     "output_type": "stream",
     "text": [
      "[ 7 36 29 17  9 20 21 31 33  3 38 35 12  8 34  5 16  2  0  1 11 32  4 25  6 26 10 19 30 23 14 18 39\n",
      " 22 27 15 13 28 24 37]\n"
     ]
    }
   ],
   "source": [
    "# we sort the distances using the argsort() function\n",
    "sortedDistIndicies = distances.argsort() # the indices of the training instances in increasing order of distance to inX\n",
    "\n",
    "# print the sorted indicies\n",
    "print (sortedDistIndicies)\n",
    "# so we have the indicies of the ordered distance "
   ]
  },
  {
   "cell_type": "markdown",
   "metadata": {},
   "source": [
    "#### To see how the test instance should be classified, we need to find the majority class among the neighbors (here we do not use distance weighting; only a simply voting approach)"
   ]
  },
  {
   "cell_type": "code",
   "execution_count": 37,
   "metadata": {},
   "outputs": [
    {
     "name": "stdout",
     "output_type": "stream",
     "text": [
      "7 No 1\n",
      "36 No 2\n",
      "29 No 3\n",
      "17 No 4\n",
      "9 No 5\n"
     ]
    }
   ],
   "source": [
    "classCount={}\n",
    "k = 5  # We'll use the top 5 neighbors\n",
    "for i in range(k):\n",
    "    # find the location of the sorted distances from vs_tartget_train\n",
    "   voteIlabel = vs_target_train[sortedDistIndicies[i]]\n",
    "    #print('voteIlabel', voteIlabel)\n",
    "    \n",
    "    # count the class of the closest neighbors\n",
    "    # classCount gets the label that you have above ( in voteIlabel) which you keep incrementing whenever you find a yes\n",
    "    # you increment a No if it is a No\n",
    "   classCount[voteIlabel] = classCount.get(voteIlabel,0) + 1  # add to the count of the label or retun 1 for first occurrence\n",
    "   print (sortedDistIndicies[i], voteIlabel, classCount[voteIlabel])\n"
   ]
  },
  {
   "cell_type": "markdown",
   "metadata": {},
   "source": [
    "#### Now, let's find the predicted class for the test instance."
   ]
  },
  {
   "cell_type": "code",
   "execution_count": 38,
   "metadata": {},
   "outputs": [
    {
     "name": "stdout",
     "output_type": "stream",
     "text": [
      "[('No', 5)]\n",
      "No\n"
     ]
    }
   ],
   "source": [
    "import operator\n",
    "# Create a dictionary for the class labels with cumulative occurrences across the neighbors as values\n",
    "# Dictionary will be ordered in decreasing order of the lable values (so the majority class label will\n",
    "# be the first dictonary element)\n",
    "sortedClassCount = sorted(classCount.items(), key=operator.itemgetter(1), reverse=True)\n",
    "print (sortedClassCount)\n",
    "print (sortedClassCount[0][0])"
   ]
  },
  {
   "cell_type": "markdown",
   "metadata": {},
   "source": [
    "#### A better way to find the majority class given a list of class labels from neighbors:"
   ]
  },
  {
   "cell_type": "code",
   "execution_count": 39,
   "metadata": {},
   "outputs": [
    {
     "name": "stdout",
     "output_type": "stream",
     "text": [
      "['No' 'No' 'No' 'No' 'No']\n",
      "[('No', 5)]\n",
      "Class label for the classified istance:  No\n"
     ]
    }
   ],
   "source": [
    "from collections import Counter\n",
    "\n",
    "k = 5  # We'll use the top 5 neighbors\n",
    "vote = vs_target_train[sortedDistIndicies[0:k]]\n",
    "maj_class = Counter(vote).most_common(1)\n",
    "\n",
    "print (vote)\n",
    "\n",
    "print (maj_class)\n",
    "\n",
    "print (\"Class label for the classified istance: \", maj_class[0][0])"
   ]
  },
  {
   "cell_type": "markdown",
   "metadata": {},
   "source": [
    "#### Let's know import the whole KNN module from MLA (uploaded on D2L) and use as part of a more robust evaluation process. We will step through all test instances, use our Knn classifier to predict a class label for each instance, and in each case we compare the predicted label to the actual value from the target test labels."
   ]
  },
  {
   "cell_type": "code",
   "execution_count": 40,
   "metadata": {},
   "outputs": [],
   "source": [
    "import kNN # importing KNN.py from MLA"
   ]
  },
  {
   "cell_type": "code",
   "execution_count": 41,
   "metadata": {},
   "outputs": [
    {
     "name": "stdout",
     "output_type": "stream",
     "text": [
      "10\n"
     ]
    }
   ],
   "source": [
    "numTestVecs = len(vs_target_test) # how many test items we have \n",
    "print (numTestVecs) # we are just looking at how many test items we have "
   ]
  },
  {
   "cell_type": "code",
   "execution_count": 42,
   "metadata": {},
   "outputs": [
    {
     "name": "stdout",
     "output_type": "stream",
     "text": [
      "the classifier came back with: No, the real answer is: No\n",
      "the classifier came back with: No, the real answer is: Yes\n",
      "the classifier came back with: No, the real answer is: Yes\n",
      "the classifier came back with: Yes, the real answer is: Yes\n",
      "the classifier came back with: No, the real answer is: No\n",
      "the classifier came back with: Yes, the real answer is: Yes\n",
      "the classifier came back with: Yes, the real answer is: Yes\n",
      "the classifier came back with: Yes, the real answer is: No\n",
      "the classifier came back with: No, the real answer is: Yes\n",
      "the classifier came back with: Yes, the real answer is: Yes\n",
      "the total error rate is: 0.400000\n"
     ]
    }
   ],
   "source": [
    "errorCount = 0.0\n",
    "for i in range(numTestVecs):\n",
    "    # classify0 function uses Euclidean distance to find k nearest neighbors\n",
    "    # vs_test_norm[i, :] is your query\n",
    "    # vs_train_norm is your training data\n",
    "    # vs_target_train is your target from the training data so that you can know your votes\n",
    "    # 3 is nearest neighbor k = 3\n",
    "    classifierResult = kNN.classify0(vs_test_norm[i,:], vs_train_norm, vs_target_train, 3)\n",
    "    print (\"the classifier came back with: %s, the real answer is: %s\" % (classifierResult, vs_target_test[i]))\n",
    "    # if is is not the same then you ad your errors or you increment your errors\n",
    "    # I classify something and I say it is a Yes, but the actual was No so that is an error\n",
    "    if (classifierResult != vs_target_test[i]): errorCount += 1.0\n",
    "  # so you can just count the number of mistakes you made      \n",
    "print (\"the total error rate is: %f\" % (errorCount/float(numTestVecs)))\n",
    "# it has 40% errors"
   ]
  },
  {
   "cell_type": "markdown",
   "metadata": {},
   "source": [
    "#### I have added a new classifier function to the kNN module that uses Cosine similarity instead of Euclidean distance:"
   ]
  },
  {
   "cell_type": "code",
   "execution_count": 43,
   "metadata": {},
   "outputs": [
    {
     "data": {
      "text/plain": [
       "<module 'kNN' from 'C:\\\\Users\\\\rejalu1\\\\OneDrive - Henry Ford Health System\\\\DSC478MachineLearning\\\\Notebooks\\\\week3\\\\kNN.py'>"
      ]
     },
     "execution_count": 43,
     "metadata": {},
     "output_type": "execute_result"
    }
   ],
   "source": [
    "from importlib import reload\n",
    "reload(kNN)"
   ]
  },
  {
   "cell_type": "code",
   "execution_count": 44,
   "metadata": {},
   "outputs": [
    {
     "name": "stdout",
     "output_type": "stream",
     "text": [
      "the classifier came back with: No, the real answer is: No\n",
      "the classifier came back with: No, the real answer is: Yes\n",
      "the classifier came back with: No, the real answer is: Yes\n",
      "the classifier came back with: Yes, the real answer is: Yes\n",
      "the classifier came back with: No, the real answer is: No\n",
      "the classifier came back with: Yes, the real answer is: Yes\n",
      "the classifier came back with: Yes, the real answer is: Yes\n",
      "the classifier came back with: Yes, the real answer is: No\n",
      "the classifier came back with: No, the real answer is: Yes\n",
      "the classifier came back with: Yes, the real answer is: Yes\n",
      "the total error rate is: 0.400000\n"
     ]
    }
   ],
   "source": [
    "errorCount = 0.0\n",
    "for i in range(numTestVecs):\n",
    "    # classify1 function uses inverse of Cosine similarity to find k nearest neighbors\n",
    "    classifierResult2 = kNN.classify1(vs_test_norm[i,:], vs_train_norm, vs_target_train, 3) # doing cosine\n",
    "    print (\"the classifier came back with: %s, the real answer is: %s\" % (classifierResult2, vs_target_test[i]))\n",
    "    if (classifierResult2 != vs_target_test[i]): errorCount += 1.0\n",
    "print (\"the total error rate is: %f\" % (errorCount/float(numTestVecs)))"
   ]
  },
  {
   "cell_type": "code",
   "execution_count": null,
   "metadata": {},
   "outputs": [],
   "source": []
  }
 ],
 "metadata": {
  "kernelspec": {
   "display_name": "Python 3 (ipykernel)",
   "language": "python",
   "name": "python3"
  },
  "language_info": {
   "codemirror_mode": {
    "name": "ipython",
    "version": 3
   },
   "file_extension": ".py",
   "mimetype": "text/x-python",
   "name": "python",
   "nbconvert_exporter": "python",
   "pygments_lexer": "ipython3",
   "version": "3.7.11"
  }
 },
 "nbformat": 4,
 "nbformat_minor": 1
}
